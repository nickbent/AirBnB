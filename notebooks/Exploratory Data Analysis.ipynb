{
 "cells": [
  {
   "cell_type": "code",
   "execution_count": 1,
   "metadata": {},
   "outputs": [
    {
     "data": {
      "text/html": [
       "<script type=\"text/javascript\">window.PlotlyConfig = {MathJaxConfig: 'local'};</script><script type=\"text/javascript\">if (window.MathJax) {MathJax.Hub.Config({SVG: {font: \"STIX-Web\"}});}</script><script>requirejs.config({paths: { 'plotly': ['https://cdn.plot.ly/plotly-latest.min']},});if(!window._Plotly) {require(['plotly'],function(plotly) {window._Plotly=plotly;});}</script>"
      ],
      "text/vnd.plotly.v1+html": [
       "<script type=\"text/javascript\">window.PlotlyConfig = {MathJaxConfig: 'local'};</script><script type=\"text/javascript\">if (window.MathJax) {MathJax.Hub.Config({SVG: {font: \"STIX-Web\"}});}</script><script>requirejs.config({paths: { 'plotly': ['https://cdn.plot.ly/plotly-latest.min']},});if(!window._Plotly) {require(['plotly'],function(plotly) {window._Plotly=plotly;});}</script>"
      ]
     },
     "metadata": {},
     "output_type": "display_data"
    }
   ],
   "source": [
    "# Display all cell outputs\n",
    "#from IPython.core.interactiveshell import InteractiveShell\n",
    "#InteractiveShell.ast_node_interactivity = 'all'\n",
    "import pandas as pd\n",
    "import numpy as np\n",
    "from pathlib import Path\n",
    "\n",
    "import plotly\n",
    "# Authenticate with your account\n",
    "plotly.tools.set_credentials_file(username='####',api_key='###')\n",
    "\n",
    "import plotly.plotly as py\n",
    "import plotly.graph_objs as go\n",
    "\n",
    "# Offline mode\n",
    "from plotly.offline import iplot\n",
    "plotly.offline.init_notebook_mode(connected=True)\n",
    "\n",
    "import warnings\n",
    "warnings.filterwarnings('ignore')"
   ]
  },
  {
   "cell_type": "code",
   "execution_count": 2,
   "metadata": {},
   "outputs": [],
   "source": [
    "from bnb.data_processing.read import read_csvfile\n",
    "from bnb.data_analysis.analyze import group_by_date"
   ]
  },
  {
   "cell_type": "markdown",
   "metadata": {},
   "source": [
    "## Reading Data"
   ]
  },
  {
   "cell_type": "code",
   "execution_count": null,
   "metadata": {},
   "outputs": [],
   "source": []
  },
  {
   "cell_type": "code",
   "execution_count": null,
   "metadata": {},
   "outputs": [],
   "source": []
  },
  {
   "cell_type": "markdown",
   "metadata": {},
   "source": [
    "# Price Analysis"
   ]
  },
  {
   "cell_type": "markdown",
   "metadata": {},
   "source": [
    "### NewYork"
   ]
  },
  {
   "cell_type": "code",
   "execution_count": null,
   "metadata": {},
   "outputs": [],
   "source": [
    "AvgPrice_NY = group_by_date(NewYorkData) "
   ]
  },
  {
   "cell_type": "code",
   "execution_count": null,
   "metadata": {},
   "outputs": [],
   "source": [
    "#reate a data object\n",
    "price_data = go.Scatter(x=AvgPrice_NY.index,y=AvgPrice_NY.values)\n",
    "\n",
    "#set up the plot layout\n",
    "layout1 = go.Layout(title='NY_ Average Price Plot', xaxis=dict(title='CheckIn_Date'),yaxis=dict(title='Price'))\n",
    "\n",
    "# create a figure and display it\n",
    "fig1 = go.Figure(data=[price_data],layout=layout1)\n",
    "\n",
    "\n",
    "#display the plot interactively\n",
    "iplot(fig1)\n"
   ]
  },
  {
   "cell_type": "markdown",
   "metadata": {},
   "source": [
    "### Bangkok"
   ]
  },
  {
   "cell_type": "code",
   "execution_count": null,
   "metadata": {},
   "outputs": [],
   "source": [
    "AvgPrice_Bngkok = group_by_date(BangkokData) \n",
    "AvgPrice_Bngkok"
   ]
  },
  {
   "cell_type": "code",
   "execution_count": null,
   "metadata": {},
   "outputs": [],
   "source": [
    "#reate a data object\n",
    "price_data_Bngkok = go.Scatter(x=AvgPrice_Bngkok.index,y=AvgPrice_Bngkok.values)\n",
    "#set up the plot layout\n",
    "layout2 = go.Layout(title='Bangkok_ Average Price Plot', xaxis=dict(title='CheckIn_Date'),yaxis=dict(title='Price'))\n",
    "# create a figure and display it\n",
    "fig2 = go.Figure(data=[price_data_Bngkok],layout=layout2)\n",
    "#display the plot interactively\n",
    "iplot(fig2)\n"
   ]
  },
  {
   "cell_type": "markdown",
   "metadata": {},
   "source": [
    "### Cairo"
   ]
  },
  {
   "cell_type": "code",
   "execution_count": null,
   "metadata": {},
   "outputs": [],
   "source": [
    "AvgPrice_Cairo = group_by_date(CairoPrice)\n",
    "AvgPrice_Cairo"
   ]
  },
  {
   "cell_type": "code",
   "execution_count": null,
   "metadata": {},
   "outputs": [],
   "source": [
    "#reate a data object\n",
    "price_data_Cairo = go.Scatter(x=AvgPrice_Cairo.index,y=AvgPrice_Cairo.values)\n",
    "\n",
    "#set up the plot layout\n",
    "layout3 = go.Layout(title='Cairo_ Average Price Plot', xaxis=dict(title='CheckIn_Date'),yaxis=dict(title='Price'))\n",
    "\n",
    "# create a figure and display it\n",
    "fig3 = go.Figure(data=[price_data_Cairo],layout=layout3)\n",
    "\n",
    "#display the plot interactively\n",
    "iplot(fig3)\n"
   ]
  }
 ],
 "metadata": {
  "kernelspec": {
   "display_name": "Python 3",
   "language": "python",
   "name": "python3"
  },
  "language_info": {
   "codemirror_mode": {
    "name": "ipython",
    "version": 3
   },
   "file_extension": ".py",
   "mimetype": "text/x-python",
   "name": "python",
   "nbconvert_exporter": "python",
   "pygments_lexer": "ipython3",
   "version": "3.7.1"
  }
 },
 "nbformat": 4,
 "nbformat_minor": 2
}
