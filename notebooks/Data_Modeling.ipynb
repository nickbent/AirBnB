{
 "cells": [
  {
   "cell_type": "markdown",
   "metadata": {},
   "source": [
    "## Choosing the appropriate machine learning algorithm"
   ]
  },
  {
   "cell_type": "markdown",
   "metadata": {},
   "source": [
    "Choosing the right ML algorithm is half systematic and half case-sensitive. What does that mean? From one prospective, there are few general steps you can save them as a crutch when you select the right ML model! However, from another prospective, your problem/data might be very unique and need to be carefully analyzed in order to select the right ML model!"
   ]
  },
  {
   "cell_type": "markdown",
   "metadata": {},
   "source": [
    "So, for any machine learning problem, we need to throw these questions to select the right model:\n",
    "\n",
    "1- Is our data labeled or not?\n",
    "\n",
    "Yes ---> Supervised Learning\n",
    "\n",
    "Is the output \"Label\" discrete or continuous?\n",
    "\n",
    "Discrete ---> Classification\n",
    "\n",
    "Continuous ---> Regression\n",
    "\n",
    "Anomaly Detection ---> The goal here is to identify data points that are simply unusual (e.x., Fraud Detection problem when we have highly unusual credit card spending patterns)\n",
    "\n",
    "No ---> Unsupervised Learning (Clustering)\n",
    "\n",
    "2- Do we need to interact with the environment to optimize the objective function?\n",
    "\n",
    "Yes ---> Reinforcement Learning\n"
   ]
  },
  {
   "cell_type": "markdown",
   "metadata": {},
   "source": [
    "Now that we have a clear picture about our data, we can answer the previous questions directly: Yes, we have labeled, continuous data ---> Supervised Learning \"Regression\"\n",
    "\n",
    "That lead us to a smaller set of ML algorithms where we deal with continuous labeled data: Linear Regression, Bayesian Linear Regression, Decision Forest Regression, Boosted Decision Tree Regression, Fast Forest Quantile Regression, Poisson Regression, Ordinal Regression, and Neural Network Regression.\n",
    "\n",
    "Here, we reach the second option, mentioned above, for the model selection: a case sensitive task! This requires awareness of many factors that characterizing our problem, mainly: Accuracy, linearity, training time, the number of parameters (e.g., number of iterations, error tolerance, etc), and the number of features.\n",
    "\n",
    "Finally, we need to highlight that \"No free lunch\" with machine learning models. We need to figure out what requirement(s) we want to pay more for it!\n",
    "\n",
    "So, we have a large number of observations for the three cities. \n",
    "\n",
    "In our particular problem, we have the renting price as the target variable to predict. For the three cities, the price shows a continuous increase over time. In other words, the late you book a listing on Airbnb, the cheaper price you can get!! \n",
    "\n",
    "At the previous step, our exploratory analysis has shown that we have non-linear connections between our features and the average price. However, this does not say that there is no correlation between them. Some of our features have shown good correlation with the price such as the people accommodation represented mainly by the sharing and the quantity of the available bedrooms, beds, and bathrooms.  Even, with some features that show no correlation with the price, they can help us in modeling our target variable. For example, the number of review stars show no direct correlation with the average price; however, it can help to explain other connections such as the variation of the price among different neighborhoods. \n"
   ]
  },
  {
   "cell_type": "markdown",
   "metadata": {},
   "source": [
    "# Linear Regression"
   ]
  },
  {
   "cell_type": "markdown",
   "metadata": {},
   "source": [
    "Linear models either the simple or Bayesian regression models are very popular to use in regression problems due to their simplicity and easy to interpret. However, in our case, I think they are not suitable to use because:\n",
    "\n",
    "1-\tThe relationship between the price and the predictors are non-linear as shown in the exploratory analysis. So, those linear models will fail to capture that non-linearity. \n",
    "\n",
    "2-\tAlso, with the large number of features (>10) we have, linear regression models are very prone to overfitting.\n"
   ]
  },
  {
   "cell_type": "markdown",
   "metadata": {},
   "source": [
    "#  Decision Forest Regression "
   ]
  },
  {
   "cell_type": "markdown",
   "metadata": {},
   "source": [
    "Decision trees are non-parametric models that splits the data in the form of a tree structure! It performs a sequence of simple tests for each data point, forming a binary tree data structure until a leaf node (decision) is reached.\n",
    "\n",
    "It can be one of our candidates for modeling our data. As we have some nonlinearity in our data, Decision Forest Regression can represent non-linear decision boundaries in Airbnb data. Also, since we have a quite large number of samples, DFR is efficient in both computation and memory usage during training and prediction.\n"
   ]
  },
  {
   "cell_type": "markdown",
   "metadata": {},
   "source": [
    "# Boosted Decision Tree Regression"
   ]
  },
  {
   "cell_type": "markdown",
   "metadata": {},
   "source": [
    "It simply a mix of two classical ML algorithms where boosting is employed to create an ensemble of regression trees!\n",
    "\n",
    "\"Boosting\" means that each tree is dependent on prior trees. The algorithm learns by fitting the residual of the trees that preceded it. Thus, boosting in a decision tree ensemble tends to improve accuracy with some small risk of less coverage.\n",
    "\n",
    "Boosting in regression trees tends to improve accuracy with some small risk of less coverage."
   ]
  },
  {
   "cell_type": "markdown",
   "metadata": {},
   "source": [
    "### XGBoost \n"
   ]
  },
  {
   "cell_type": "markdown",
   "metadata": {},
   "source": [
    "XGBoost is the implementation of the gradient boosted tree algorithms that's commonly used for classification and regression problems. Gradient boosting is a supervised learning algorithm consisting of an ensemble (set) of weaker models (trees), which sums up their estimates to predict a target variable with more accuracy.\n",
    "\n",
    "XGBoost is also a strong candidate to model our Airbnb data as it performs very well with large data sets and large number of features. In addition, it is very strong to capture the non-linearity in the connection between the target variable and the predictors. However, since it is a result of combining several models (trees), it can be a bit difficult to interpret. \n"
   ]
  },
  {
   "cell_type": "markdown",
   "metadata": {},
   "source": [
    "# Fast Forest Quantile Regression"
   ]
  },
  {
   "cell_type": "markdown",
   "metadata": {},
   "source": [
    "Quantile regression is useful if we want to understand more about the distribution of the predicted value, rather than get a single mean prediction value. This method has many applications, including:\n",
    "\n",
    "    - Predicting prices\n",
    "\n",
    "    - Estimating student performance or applying growth charts to assess child development\n",
    "\n",
    "    - Discovering predictive relationships in cases where there is only a weak relationship between variables\n"
   ]
  },
  {
   "cell_type": "markdown",
   "metadata": {},
   "source": [
    "As Regression Trees and Random Forest are generally great at learning complex, highly non-linear relationships, Fast Forest Quantile Regression can performs very well with our data. Also, it is very easy to interpret and understand. On the other hand, it might slow down the training time and also requires more memory with a larger random forest ensembles."
   ]
  },
  {
   "cell_type": "markdown",
   "metadata": {},
   "source": [
    "# K-nearest neighbors (KNN)"
   ]
  },
  {
   "cell_type": "markdown",
   "metadata": {},
   "source": [
    "KNN is a non-parametric method used for both classification and regression problems. The algorithm uses \"feature similarity\" to predict values of any new data points. This means that the new point is assigned a value based on how closely it resembles the points in the training set.\n",
    "\n",
    "KNN is a suitable algorithm to predict sales or price since it depends on averaging the output of similar examples. However, in our case of large data sets, it can slow down the training stage very badly.\n"
   ]
  },
  {
   "cell_type": "markdown",
   "metadata": {},
   "source": [
    "# Neural Network Regression"
   ]
  },
  {
   "cell_type": "markdown",
   "metadata": {},
   "source": [
    "Any class of statistical models can be termed a neural network if they use adaptive weights and can approximate non-linear functions of their inputs. Thus, neural network regression is suited to problems where a more traditional regression model cannot fit a solution.\n",
    "\n",
    "Although NN acts as a black box in terms of the model complexity, so it is very difficult to interpret. However, it is one of the most powerful ML models that can capture different types of feature variable relationships. In addition, NN performs very well as we have more data. So, definitely, NN is a suitable model to select for our goal of Airbnb price prediction. \n"
   ]
  },
  {
   "cell_type": "markdown",
   "metadata": {},
   "source": [
    "# Poisson Regression"
   ]
  },
  {
   "cell_type": "markdown",
   "metadata": {},
   "source": [
    "Poisson regression is intended for use in regression models that are used to predict numeric values, typically counts. Therefore, we can use this module to create a regression model only if the values you are trying to predict fit the following conditions:\n",
    "\n",
    "    - The response variable has a Poisson distribution.\n",
    "\n",
    "    - Counts cannot be negative. The method will fail outright if you attempt to use it with negative labels.\n",
    "\n",
    "    - A Poisson distribution is a discrete distribution; therefore, it is not meaningful to use this method with non-whole numbers.\n",
    "\n"
   ]
  },
  {
   "cell_type": "markdown",
   "metadata": {},
   "source": [
    "# Ordinal Regression"
   ]
  },
  {
   "cell_type": "markdown",
   "metadata": {},
   "source": [
    "Ordinal regression is used when the label or target column contains numbers, but the numbers represent a ranking or order rather than a numeric measurement."
   ]
  },
  {
   "cell_type": "markdown",
   "metadata": {},
   "source": [
    "Both Poisson and Ordinal regression requirements do not agree with the nature of our data and features. So, no point of even trying them!"
   ]
  },
  {
   "cell_type": "markdown",
   "metadata": {},
   "source": [
    "# Conclusion"
   ]
  },
  {
   "cell_type": "markdown",
   "metadata": {},
   "source": [
    " In conclusion, based on the following factors:\n",
    " \n",
    "1- The nature of our problem and the target variable (rental price),\n",
    "\n",
    "2- From the previous analysis of the usage of different ML techniques for a regression problem,\n",
    "\n",
    "3- And from the nature of our data set,\n",
    "\n",
    "Those techniques have been selected to be applied on our data in order to predict the rental price: Boosted Decision Tree Regression (XGBoost), Decision Forest Regression, and Artificial Neural Networks.\n",
    "\n"
   ]
  },
  {
   "cell_type": "markdown",
   "metadata": {},
   "source": [
    "Let's start!"
   ]
  },
  {
   "cell_type": "code",
   "execution_count": 2,
   "metadata": {},
   "outputs": [],
   "source": [
    "import pandas as pd \n",
    "import numpy as np\n",
    "import matplotlib.pyplot as plt\n",
    "%matplotlib inline\n",
    "import seaborn as sns\n",
    "from sklearn.metrics import classification_report\n",
    "from sklearn.metrics import roc_auc_score\n",
    "import warnings\n",
    "warnings.filterwarnings('ignore')\n",
    "from pathlib import Path"
   ]
  },
  {
   "cell_type": "code",
   "execution_count": 3,
   "metadata": {},
   "outputs": [],
   "source": [
    "from bnb.data_processing.read import read_csvfile"
   ]
  },
  {
   "cell_type": "code",
   "execution_count": 4,
   "metadata": {},
   "outputs": [
    {
     "data": {
      "text/plain": [
       "WindowsPath('C:/Users/KBrig/AirBnBRepo/AirBnB/data')"
      ]
     },
     "execution_count": 4,
     "metadata": {},
     "output_type": "execute_result"
    }
   ],
   "source": [
    "Data_dir = Path('C:/Users/KBrig/AirBnBRepo/AirBnB/data')\n",
    "Data_dir"
   ]
  },
  {
   "cell_type": "code",
   "execution_count": 5,
   "metadata": {},
   "outputs": [],
   "source": [
    "NewYork_CSV = Data_dir/'NewYorkData_clean.csv'\n",
    "Bangkok_CSV = Data_dir/'BangkokData_clean.csv'\n",
    "Cairo_CSV = Data_dir/'CairoData_clean.csv'"
   ]
  },
  {
   "cell_type": "code",
   "execution_count": 6,
   "metadata": {},
   "outputs": [
    {
     "data": {
      "text/html": [
       "<div>\n",
       "<style scoped>\n",
       "    .dataframe tbody tr th:only-of-type {\n",
       "        vertical-align: middle;\n",
       "    }\n",
       "\n",
       "    .dataframe tbody tr th {\n",
       "        vertical-align: top;\n",
       "    }\n",
       "\n",
       "    .dataframe thead th {\n",
       "        text-align: right;\n",
       "    }\n",
       "</style>\n",
       "<table border=\"1\" class=\"dataframe\">\n",
       "  <thead>\n",
       "    <tr style=\"text-align: right;\">\n",
       "      <th></th>\n",
       "      <th>Accuracy_stars</th>\n",
       "      <th>CheckIn</th>\n",
       "      <th>CheckIn_stars</th>\n",
       "      <th>CheckOut</th>\n",
       "      <th>Cleanliness_stars</th>\n",
       "      <th>Communication_stars</th>\n",
       "      <th>Latitude</th>\n",
       "      <th>Location_stars</th>\n",
       "      <th>Longitude</th>\n",
       "      <th>Price</th>\n",
       "      <th>...</th>\n",
       "      <th>partial_address</th>\n",
       "      <th>Group_ID</th>\n",
       "      <th>AvgPrice_neighborhood</th>\n",
       "      <th>AvgNormPrice_neighborhood</th>\n",
       "      <th>avg_rating_stars</th>\n",
       "      <th>Amenities_length</th>\n",
       "      <th>day_of_month</th>\n",
       "      <th>Year_week</th>\n",
       "      <th>weeks_before_booking</th>\n",
       "      <th>ListingsNo_in_weekth</th>\n",
       "    </tr>\n",
       "  </thead>\n",
       "  <tbody>\n",
       "    <tr>\n",
       "      <th>0</th>\n",
       "      <td>5.0</td>\n",
       "      <td>2019-03-21</td>\n",
       "      <td>5.0</td>\n",
       "      <td>2019-03-26</td>\n",
       "      <td>5.0</td>\n",
       "      <td>5.0</td>\n",
       "      <td>40.73321</td>\n",
       "      <td>5.0</td>\n",
       "      <td>-74.00242</td>\n",
       "      <td>244</td>\n",
       "      <td>...</td>\n",
       "      <td>West Village, Manhattan, Manhattan Community ...</td>\n",
       "      <td>193</td>\n",
       "      <td>242.59375</td>\n",
       "      <td>12</td>\n",
       "      <td>4.916667</td>\n",
       "      <td>28</td>\n",
       "      <td>21</td>\n",
       "      <td>12</td>\n",
       "      <td>2</td>\n",
       "      <td>142</td>\n",
       "    </tr>\n",
       "    <tr>\n",
       "      <th>1</th>\n",
       "      <td>0.0</td>\n",
       "      <td>2019-03-07</td>\n",
       "      <td>0.0</td>\n",
       "      <td>2019-03-12</td>\n",
       "      <td>0.0</td>\n",
       "      <td>0.0</td>\n",
       "      <td>40.73181</td>\n",
       "      <td>0.0</td>\n",
       "      <td>-74.00606</td>\n",
       "      <td>188</td>\n",
       "      <td>...</td>\n",
       "      <td>West Village, Manhattan, Manhattan Community ...</td>\n",
       "      <td>193</td>\n",
       "      <td>242.59375</td>\n",
       "      <td>12</td>\n",
       "      <td>0.000000</td>\n",
       "      <td>10</td>\n",
       "      <td>7</td>\n",
       "      <td>10</td>\n",
       "      <td>0</td>\n",
       "      <td>168</td>\n",
       "    </tr>\n",
       "    <tr>\n",
       "      <th>2</th>\n",
       "      <td>5.0</td>\n",
       "      <td>2019-03-07</td>\n",
       "      <td>5.0</td>\n",
       "      <td>2019-03-12</td>\n",
       "      <td>5.0</td>\n",
       "      <td>5.0</td>\n",
       "      <td>40.82484</td>\n",
       "      <td>5.0</td>\n",
       "      <td>-73.95260</td>\n",
       "      <td>59</td>\n",
       "      <td>...</td>\n",
       "      <td>Hamilton Heights, Manhattan, Manhattan Commun...</td>\n",
       "      <td>74</td>\n",
       "      <td>90.18750</td>\n",
       "      <td>4</td>\n",
       "      <td>5.000000</td>\n",
       "      <td>12</td>\n",
       "      <td>7</td>\n",
       "      <td>10</td>\n",
       "      <td>0</td>\n",
       "      <td>168</td>\n",
       "    </tr>\n",
       "  </tbody>\n",
       "</table>\n",
       "<p>3 rows × 123 columns</p>\n",
       "</div>"
      ],
      "text/plain": [
       "   Accuracy_stars     CheckIn  CheckIn_stars    CheckOut  Cleanliness_stars  \\\n",
       "0             5.0  2019-03-21            5.0  2019-03-26                5.0   \n",
       "1             0.0  2019-03-07            0.0  2019-03-12                0.0   \n",
       "2             5.0  2019-03-07            5.0  2019-03-12                5.0   \n",
       "\n",
       "   Communication_stars  Latitude  Location_stars  Longitude  Price  \\\n",
       "0                  5.0  40.73321             5.0  -74.00242    244   \n",
       "1                  0.0  40.73181             0.0  -74.00606    188   \n",
       "2                  5.0  40.82484             5.0  -73.95260     59   \n",
       "\n",
       "           ...                                             partial_address  \\\n",
       "0          ...            West Village, Manhattan, Manhattan Community ...   \n",
       "1          ...            West Village, Manhattan, Manhattan Community ...   \n",
       "2          ...            Hamilton Heights, Manhattan, Manhattan Commun...   \n",
       "\n",
       "   Group_ID  AvgPrice_neighborhood  AvgNormPrice_neighborhood  \\\n",
       "0       193              242.59375                         12   \n",
       "1       193              242.59375                         12   \n",
       "2        74               90.18750                          4   \n",
       "\n",
       "   avg_rating_stars  Amenities_length  day_of_month  Year_week  \\\n",
       "0          4.916667                28            21         12   \n",
       "1          0.000000                10             7         10   \n",
       "2          5.000000                12             7         10   \n",
       "\n",
       "   weeks_before_booking  ListingsNo_in_weekth  \n",
       "0                     2                   142  \n",
       "1                     0                   168  \n",
       "2                     0                   168  \n",
       "\n",
       "[3 rows x 123 columns]"
      ]
     },
     "execution_count": 6,
     "metadata": {},
     "output_type": "execute_result"
    }
   ],
   "source": [
    "NewYorkData = read_csvfile(NewYork_CSV)\n",
    "NewYorkData.head(3)"
   ]
  },
  {
   "cell_type": "code",
   "execution_count": 7,
   "metadata": {},
   "outputs": [
    {
     "data": {
      "text/html": [
       "<div>\n",
       "<style scoped>\n",
       "    .dataframe tbody tr th:only-of-type {\n",
       "        vertical-align: middle;\n",
       "    }\n",
       "\n",
       "    .dataframe tbody tr th {\n",
       "        vertical-align: top;\n",
       "    }\n",
       "\n",
       "    .dataframe thead th {\n",
       "        text-align: right;\n",
       "    }\n",
       "</style>\n",
       "<table border=\"1\" class=\"dataframe\">\n",
       "  <thead>\n",
       "    <tr style=\"text-align: right;\">\n",
       "      <th></th>\n",
       "      <th>level_0</th>\n",
       "      <th>index</th>\n",
       "      <th>CheckIn</th>\n",
       "      <th>CheckOut</th>\n",
       "      <th>Price</th>\n",
       "      <th>Super_host</th>\n",
       "      <th>Latitude</th>\n",
       "      <th>Longitude</th>\n",
       "      <th>Accuracy_stars</th>\n",
       "      <th>Communication_stars</th>\n",
       "      <th>...</th>\n",
       "      <th>Group_ID</th>\n",
       "      <th>home_renting_trend</th>\n",
       "      <th>Super_host_string</th>\n",
       "      <th>avg_rating_stars</th>\n",
       "      <th>price_stars_corr_per_nhood</th>\n",
       "      <th>Amenities_length</th>\n",
       "      <th>day_of_month</th>\n",
       "      <th>Year_week</th>\n",
       "      <th>weeks_before_booking</th>\n",
       "      <th>ListingsNo_in_weekth</th>\n",
       "    </tr>\n",
       "  </thead>\n",
       "  <tbody>\n",
       "    <tr>\n",
       "      <th>0</th>\n",
       "      <td>3742</td>\n",
       "      <td>3742</td>\n",
       "      <td>2019-08-27</td>\n",
       "      <td>2019-09-01</td>\n",
       "      <td>52.0</td>\n",
       "      <td>1</td>\n",
       "      <td>13.74306</td>\n",
       "      <td>100.55585</td>\n",
       "      <td>5.0</td>\n",
       "      <td>5.0</td>\n",
       "      <td>...</td>\n",
       "      <td>39</td>\n",
       "      <td>up-down</td>\n",
       "      <td>Super</td>\n",
       "      <td>5.0</td>\n",
       "      <td>0.078627</td>\n",
       "      <td>25</td>\n",
       "      <td>27</td>\n",
       "      <td>35</td>\n",
       "      <td>24</td>\n",
       "      <td>301</td>\n",
       "    </tr>\n",
       "    <tr>\n",
       "      <th>1</th>\n",
       "      <td>2626</td>\n",
       "      <td>2626</td>\n",
       "      <td>2019-07-02</td>\n",
       "      <td>2019-07-07</td>\n",
       "      <td>67.0</td>\n",
       "      <td>0</td>\n",
       "      <td>13.74169</td>\n",
       "      <td>100.55655</td>\n",
       "      <td>5.0</td>\n",
       "      <td>5.0</td>\n",
       "      <td>...</td>\n",
       "      <td>58</td>\n",
       "      <td>no change</td>\n",
       "      <td>not</td>\n",
       "      <td>5.0</td>\n",
       "      <td>0.133509</td>\n",
       "      <td>22</td>\n",
       "      <td>2</td>\n",
       "      <td>27</td>\n",
       "      <td>16</td>\n",
       "      <td>304</td>\n",
       "    </tr>\n",
       "    <tr>\n",
       "      <th>2</th>\n",
       "      <td>2859</td>\n",
       "      <td>2859</td>\n",
       "      <td>2019-07-16</td>\n",
       "      <td>2019-07-21</td>\n",
       "      <td>67.0</td>\n",
       "      <td>0</td>\n",
       "      <td>13.74169</td>\n",
       "      <td>100.55655</td>\n",
       "      <td>5.0</td>\n",
       "      <td>5.0</td>\n",
       "      <td>...</td>\n",
       "      <td>8</td>\n",
       "      <td>no change</td>\n",
       "      <td>not</td>\n",
       "      <td>5.0</td>\n",
       "      <td>-0.227533</td>\n",
       "      <td>26</td>\n",
       "      <td>16</td>\n",
       "      <td>29</td>\n",
       "      <td>18</td>\n",
       "      <td>304</td>\n",
       "    </tr>\n",
       "  </tbody>\n",
       "</table>\n",
       "<p>3 rows × 126 columns</p>\n",
       "</div>"
      ],
      "text/plain": [
       "   level_0  index     CheckIn    CheckOut  Price  Super_host  Latitude  \\\n",
       "0     3742   3742  2019-08-27  2019-09-01   52.0           1  13.74306   \n",
       "1     2626   2626  2019-07-02  2019-07-07   67.0           0  13.74169   \n",
       "2     2859   2859  2019-07-16  2019-07-21   67.0           0  13.74169   \n",
       "\n",
       "   Longitude  Accuracy_stars  Communication_stars          ...           \\\n",
       "0  100.55585             5.0                  5.0          ...            \n",
       "1  100.55655             5.0                  5.0          ...            \n",
       "2  100.55655             5.0                  5.0          ...            \n",
       "\n",
       "   Group_ID  home_renting_trend  Super_host_string  avg_rating_stars  \\\n",
       "0        39             up-down              Super               5.0   \n",
       "1        58           no change                not               5.0   \n",
       "2         8           no change                not               5.0   \n",
       "\n",
       "   price_stars_corr_per_nhood  Amenities_length  day_of_month  Year_week  \\\n",
       "0                    0.078627                25            27         35   \n",
       "1                    0.133509                22             2         27   \n",
       "2                   -0.227533                26            16         29   \n",
       "\n",
       "   weeks_before_booking  ListingsNo_in_weekth  \n",
       "0                    24                   301  \n",
       "1                    16                   304  \n",
       "2                    18                   304  \n",
       "\n",
       "[3 rows x 126 columns]"
      ]
     },
     "execution_count": 7,
     "metadata": {},
     "output_type": "execute_result"
    }
   ],
   "source": [
    "BangkokData = read_csvfile(Bangkok_CSV)\n",
    "BangkokData.head(3)"
   ]
  },
  {
   "cell_type": "code",
   "execution_count": 8,
   "metadata": {},
   "outputs": [
    {
     "data": {
      "text/html": [
       "<div>\n",
       "<style scoped>\n",
       "    .dataframe tbody tr th:only-of-type {\n",
       "        vertical-align: middle;\n",
       "    }\n",
       "\n",
       "    .dataframe tbody tr th {\n",
       "        vertical-align: top;\n",
       "    }\n",
       "\n",
       "    .dataframe thead th {\n",
       "        text-align: right;\n",
       "    }\n",
       "</style>\n",
       "<table border=\"1\" class=\"dataframe\">\n",
       "  <thead>\n",
       "    <tr style=\"text-align: right;\">\n",
       "      <th></th>\n",
       "      <th>index</th>\n",
       "      <th>CheckIn</th>\n",
       "      <th>CheckOut</th>\n",
       "      <th>Price</th>\n",
       "      <th>Super_host</th>\n",
       "      <th>Latitude</th>\n",
       "      <th>Longitude</th>\n",
       "      <th>Accuracy_stars</th>\n",
       "      <th>Communication_stars</th>\n",
       "      <th>Cleanliness_stars</th>\n",
       "      <th>...</th>\n",
       "      <th>Group_ID</th>\n",
       "      <th>avg_rating_stars</th>\n",
       "      <th>price_stars_corr_per_nhood</th>\n",
       "      <th>price_stars_corr_Zvalue</th>\n",
       "      <th>avg_price_stars_corr</th>\n",
       "      <th>Amenities_length</th>\n",
       "      <th>day_of_month</th>\n",
       "      <th>Year_week</th>\n",
       "      <th>weeks_before_booking</th>\n",
       "      <th>ListingsNo_in_weekth</th>\n",
       "    </tr>\n",
       "  </thead>\n",
       "  <tbody>\n",
       "    <tr>\n",
       "      <th>0</th>\n",
       "      <td>3201</td>\n",
       "      <td>2019-08-01</td>\n",
       "      <td>2019-08-06</td>\n",
       "      <td>39.0</td>\n",
       "      <td>1</td>\n",
       "      <td>30.05867</td>\n",
       "      <td>31.44884</td>\n",
       "      <td>0.0</td>\n",
       "      <td>0.0</td>\n",
       "      <td>0.0</td>\n",
       "      <td>...</td>\n",
       "      <td>81</td>\n",
       "      <td>0.000000</td>\n",
       "      <td>-0.015865</td>\n",
       "      <td>-0.015867</td>\n",
       "      <td>-0.015865</td>\n",
       "      <td>23</td>\n",
       "      <td>1</td>\n",
       "      <td>31</td>\n",
       "      <td>20</td>\n",
       "      <td>304</td>\n",
       "    </tr>\n",
       "    <tr>\n",
       "      <th>1</th>\n",
       "      <td>908</td>\n",
       "      <td>2019-04-11</td>\n",
       "      <td>2019-04-16</td>\n",
       "      <td>27.0</td>\n",
       "      <td>0</td>\n",
       "      <td>29.96925</td>\n",
       "      <td>31.26652</td>\n",
       "      <td>0.0</td>\n",
       "      <td>0.0</td>\n",
       "      <td>0.0</td>\n",
       "      <td>...</td>\n",
       "      <td>21</td>\n",
       "      <td>0.000000</td>\n",
       "      <td>0.045170</td>\n",
       "      <td>0.045200</td>\n",
       "      <td>0.045170</td>\n",
       "      <td>24</td>\n",
       "      <td>11</td>\n",
       "      <td>15</td>\n",
       "      <td>4</td>\n",
       "      <td>305</td>\n",
       "    </tr>\n",
       "    <tr>\n",
       "      <th>2</th>\n",
       "      <td>4605</td>\n",
       "      <td>2019-10-10</td>\n",
       "      <td>2019-10-15</td>\n",
       "      <td>51.0</td>\n",
       "      <td>1</td>\n",
       "      <td>29.95475</td>\n",
       "      <td>31.26336</td>\n",
       "      <td>4.0</td>\n",
       "      <td>4.5</td>\n",
       "      <td>4.5</td>\n",
       "      <td>...</td>\n",
       "      <td>81</td>\n",
       "      <td>4.416667</td>\n",
       "      <td>-0.015865</td>\n",
       "      <td>-0.015867</td>\n",
       "      <td>-0.015865</td>\n",
       "      <td>26</td>\n",
       "      <td>10</td>\n",
       "      <td>41</td>\n",
       "      <td>30</td>\n",
       "      <td>302</td>\n",
       "    </tr>\n",
       "  </tbody>\n",
       "</table>\n",
       "<p>3 rows × 126 columns</p>\n",
       "</div>"
      ],
      "text/plain": [
       "   index     CheckIn    CheckOut  Price  Super_host  Latitude  Longitude  \\\n",
       "0   3201  2019-08-01  2019-08-06   39.0           1  30.05867   31.44884   \n",
       "1    908  2019-04-11  2019-04-16   27.0           0  29.96925   31.26652   \n",
       "2   4605  2019-10-10  2019-10-15   51.0           1  29.95475   31.26336   \n",
       "\n",
       "   Accuracy_stars  Communication_stars  Cleanliness_stars  \\\n",
       "0             0.0                  0.0                0.0   \n",
       "1             0.0                  0.0                0.0   \n",
       "2             4.0                  4.5                4.5   \n",
       "\n",
       "           ...           Group_ID  avg_rating_stars  \\\n",
       "0          ...                 81          0.000000   \n",
       "1          ...                 21          0.000000   \n",
       "2          ...                 81          4.416667   \n",
       "\n",
       "   price_stars_corr_per_nhood  price_stars_corr_Zvalue  avg_price_stars_corr  \\\n",
       "0                   -0.015865                -0.015867             -0.015865   \n",
       "1                    0.045170                 0.045200              0.045170   \n",
       "2                   -0.015865                -0.015867             -0.015865   \n",
       "\n",
       "   Amenities_length  day_of_month  Year_week  weeks_before_booking  \\\n",
       "0                23             1         31                    20   \n",
       "1                24            11         15                     4   \n",
       "2                26            10         41                    30   \n",
       "\n",
       "   ListingsNo_in_weekth  \n",
       "0                   304  \n",
       "1                   305  \n",
       "2                   302  \n",
       "\n",
       "[3 rows x 126 columns]"
      ]
     },
     "execution_count": 8,
     "metadata": {},
     "output_type": "execute_result"
    }
   ],
   "source": [
    "CairoData = read_csvfile(Cairo_CSV)\n",
    "CairoData.head(3)"
   ]
  },
  {
   "cell_type": "markdown",
   "metadata": {},
   "source": [
    "### Choose only the features of interest as selected in the previous step of feature selection!"
   ]
  },
  {
   "cell_type": "markdown",
   "metadata": {},
   "source": [
    "Number of weeks till booking\n",
    "\n",
    "The week of the year\n",
    "\n",
    "The number of listings available in every week of the year\n",
    "\n",
    "Latitude\n",
    "\n",
    "Longitude\n",
    "\n",
    "Neighborhood_ID\n",
    "\n",
    "No. of Bathrooms\n",
    "\n",
    "No. of Bedrooms\n",
    "\n",
    "No. of Beds\n",
    "\n",
    "Shared_bathroom\n",
    "\n",
    "Shared_bedroom\n",
    "\n",
    "No. of Amenities\n",
    "\n",
    "No. of Reviewers\n",
    "\n",
    "Avg. number of review stars\n",
    "\n",
    "Super host\n"
   ]
  },
  {
   "cell_type": "code",
   "execution_count": 9,
   "metadata": {},
   "outputs": [],
   "source": [
    "Selected_list = ['Latitude','Longitude','ListingsNo_in_weekth','weeks_before_booking','Year_week','Bathrooms_num_int','Bedrooms_int','Beds_int','shared_bathroom','shared_room','Reviewers_no','Group_ID','avg_rating_stars','Amenities_length','Super_host']"
   ]
  },
  {
   "cell_type": "markdown",
   "metadata": {},
   "source": [
    "## New York"
   ]
  },
  {
   "cell_type": "code",
   "execution_count": 10,
   "metadata": {},
   "outputs": [],
   "source": [
    "NY_X = NewYorkData[Selected_list]\n",
    "NY_Y = NewYorkData['Price']"
   ]
  },
  {
   "cell_type": "markdown",
   "metadata": {},
   "source": [
    "## Data Splitting"
   ]
  },
  {
   "cell_type": "code",
   "execution_count": 11,
   "metadata": {},
   "outputs": [],
   "source": [
    "from sklearn.model_selection import train_test_split"
   ]
  },
  {
   "cell_type": "code",
   "execution_count": 12,
   "metadata": {},
   "outputs": [],
   "source": [
    "X_train1, X_test1, y_train1, y_test1 = train_test_split(NY_X,NY_Y,test_size=0.3, random_state=5)"
   ]
  },
  {
   "cell_type": "code",
   "execution_count": 13,
   "metadata": {},
   "outputs": [
    {
     "name": "stdout",
     "output_type": "stream",
     "text": [
      "(2769, 15)\n",
      "(1188, 15)\n",
      "(2769,)\n",
      "(1188,)\n"
     ]
    }
   ],
   "source": [
    "print(X_train1.shape)\n",
    "print(X_test1.shape)\n",
    "print(y_train1.shape)\n",
    "print(y_test1.shape)"
   ]
  },
  {
   "cell_type": "markdown",
   "metadata": {},
   "source": [
    "### Random Forest Regression (RF)"
   ]
  },
  {
   "cell_type": "code",
   "execution_count": 14,
   "metadata": {},
   "outputs": [
    {
     "data": {
      "text/plain": [
       "RandomForestRegressor(bootstrap=True, criterion='mse', max_depth=None,\n",
       "           max_features='auto', max_leaf_nodes=None,\n",
       "           min_impurity_decrease=0.0, min_impurity_split=None,\n",
       "           min_samples_leaf=1, min_samples_split=2,\n",
       "           min_weight_fraction_leaf=0.0, n_estimators=400, n_jobs=None,\n",
       "           oob_score=False, random_state=5, verbose=0, warm_start=False)"
      ]
     },
     "execution_count": 14,
     "metadata": {},
     "output_type": "execute_result"
    }
   ],
   "source": [
    "from sklearn.ensemble.forest import RandomForestRegressor\n",
    "rf_regressor = RandomForestRegressor(n_estimators=400, criterion='mse', random_state=5)\n",
    "rf_regressor.fit(X_train1, y_train1)"
   ]
  },
  {
   "cell_type": "code",
   "execution_count": 15,
   "metadata": {},
   "outputs": [],
   "source": [
    "y_pred1_RF = rf_regressor.predict(X_test1)"
   ]
  },
  {
   "cell_type": "code",
   "execution_count": 16,
   "metadata": {},
   "outputs": [
    {
     "data": {
      "text/html": [
       "<div>\n",
       "<style scoped>\n",
       "    .dataframe tbody tr th:only-of-type {\n",
       "        vertical-align: middle;\n",
       "    }\n",
       "\n",
       "    .dataframe tbody tr th {\n",
       "        vertical-align: top;\n",
       "    }\n",
       "\n",
       "    .dataframe thead th {\n",
       "        text-align: right;\n",
       "    }\n",
       "</style>\n",
       "<table border=\"1\" class=\"dataframe\">\n",
       "  <thead>\n",
       "    <tr style=\"text-align: right;\">\n",
       "      <th></th>\n",
       "      <th>Actual</th>\n",
       "      <th>Predicted</th>\n",
       "    </tr>\n",
       "  </thead>\n",
       "  <tbody>\n",
       "    <tr>\n",
       "      <th>3198</th>\n",
       "      <td>264</td>\n",
       "      <td>273.5900</td>\n",
       "    </tr>\n",
       "    <tr>\n",
       "      <th>3897</th>\n",
       "      <td>263</td>\n",
       "      <td>331.2075</td>\n",
       "    </tr>\n",
       "    <tr>\n",
       "      <th>2069</th>\n",
       "      <td>119</td>\n",
       "      <td>131.6000</td>\n",
       "    </tr>\n",
       "    <tr>\n",
       "      <th>2871</th>\n",
       "      <td>112</td>\n",
       "      <td>113.5425</td>\n",
       "    </tr>\n",
       "    <tr>\n",
       "      <th>3575</th>\n",
       "      <td>187</td>\n",
       "      <td>245.7200</td>\n",
       "    </tr>\n",
       "    <tr>\n",
       "      <th>1714</th>\n",
       "      <td>132</td>\n",
       "      <td>131.8075</td>\n",
       "    </tr>\n",
       "    <tr>\n",
       "      <th>342</th>\n",
       "      <td>65</td>\n",
       "      <td>54.4875</td>\n",
       "    </tr>\n",
       "    <tr>\n",
       "      <th>3928</th>\n",
       "      <td>317</td>\n",
       "      <td>365.8425</td>\n",
       "    </tr>\n",
       "    <tr>\n",
       "      <th>3362</th>\n",
       "      <td>198</td>\n",
       "      <td>247.9675</td>\n",
       "    </tr>\n",
       "    <tr>\n",
       "      <th>1015</th>\n",
       "      <td>330</td>\n",
       "      <td>299.2875</td>\n",
       "    </tr>\n",
       "  </tbody>\n",
       "</table>\n",
       "</div>"
      ],
      "text/plain": [
       "      Actual  Predicted\n",
       "3198     264   273.5900\n",
       "3897     263   331.2075\n",
       "2069     119   131.6000\n",
       "2871     112   113.5425\n",
       "3575     187   245.7200\n",
       "1714     132   131.8075\n",
       "342       65    54.4875\n",
       "3928     317   365.8425\n",
       "3362     198   247.9675\n",
       "1015     330   299.2875"
      ]
     },
     "execution_count": 16,
     "metadata": {},
     "output_type": "execute_result"
    }
   ],
   "source": [
    "df = pd.DataFrame({'Actual':y_test1, 'Predicted': y_pred1_RF})  \n",
    "df.head(10)"
   ]
  },
  {
   "cell_type": "code",
   "execution_count": 18,
   "metadata": {},
   "outputs": [],
   "source": [
    "from sklearn import metrics\n",
    "MAE_RF = metrics.mean_absolute_error(y_test1, y_pred1_RF)\n",
    "MSE_RF = metrics.mean_squared_error(y_test1, y_pred1_RF)\n",
    "RMSE_RF = np.sqrt(metrics.mean_squared_error(y_test1, y_pred1_RF))"
   ]
  },
  {
   "cell_type": "code",
   "execution_count": 19,
   "metadata": {},
   "outputs": [
    {
     "name": "stdout",
     "output_type": "stream",
     "text": [
      "Mean Absolute Error: 20.212573653198653\n",
      "Mean Squared Error: 1010.7090101694023\n",
      "Root Mean Squared Error: 31.79165000702861\n"
     ]
    }
   ],
   "source": [
    "print('Mean Absolute Error:',MAE_RF)  \n",
    "print('Mean Squared Error:',MSE_RF)  \n",
    "print('Root Mean Squared Error:',RMSE_RF)  "
   ]
  },
  {
   "cell_type": "markdown",
   "metadata": {},
   "source": [
    "### Decision Tree Regression (DT)"
   ]
  },
  {
   "cell_type": "code",
   "execution_count": 20,
   "metadata": {},
   "outputs": [],
   "source": [
    "from sklearn.tree import DecisionTreeRegressor\n",
    "DT_regressor = DecisionTreeRegressor(max_depth=2)"
   ]
  },
  {
   "cell_type": "code",
   "execution_count": 21,
   "metadata": {},
   "outputs": [
    {
     "data": {
      "text/plain": [
       "DecisionTreeRegressor(criterion='mse', max_depth=2, max_features=None,\n",
       "           max_leaf_nodes=None, min_impurity_decrease=0.0,\n",
       "           min_impurity_split=None, min_samples_leaf=1,\n",
       "           min_samples_split=2, min_weight_fraction_leaf=0.0,\n",
       "           presort=False, random_state=None, splitter='best')"
      ]
     },
     "execution_count": 21,
     "metadata": {},
     "output_type": "execute_result"
    }
   ],
   "source": [
    "DT_regressor.fit(X_train1, y_train1)"
   ]
  },
  {
   "cell_type": "code",
   "execution_count": 22,
   "metadata": {},
   "outputs": [],
   "source": [
    "y_pred_DT = DT_regressor.predict(X_test1)"
   ]
  },
  {
   "cell_type": "code",
   "execution_count": 23,
   "metadata": {},
   "outputs": [],
   "source": [
    "MAE_DT = metrics.mean_absolute_error(y_test1, y_pred_DT)\n",
    "MSE_DT = metrics.mean_squared_error(y_test1, y_pred_DT)\n",
    "RMSE_DT = np.sqrt(metrics.mean_squared_error(y_test1, y_pred_DT))"
   ]
  },
  {
   "cell_type": "code",
   "execution_count": 24,
   "metadata": {},
   "outputs": [
    {
     "name": "stdout",
     "output_type": "stream",
     "text": [
      "Mean Absolute Error: 45.680676587357716\n",
      "Mean Squared Error: 3888.132986264667\n",
      "Root Mean Squared Error: 62.35489544746801\n"
     ]
    }
   ],
   "source": [
    "print('Mean Absolute Error:', MAE_DT)  \n",
    "print('Mean Squared Error:',MSE_DT)  \n",
    "print('Root Mean Squared Error:',RMSE_DT) "
   ]
  },
  {
   "cell_type": "markdown",
   "metadata": {},
   "source": [
    "### Boosted Decision Tree Regression (XGBoost)"
   ]
  },
  {
   "cell_type": "code",
   "execution_count": 25,
   "metadata": {},
   "outputs": [
    {
     "name": "stdout",
     "output_type": "stream",
     "text": [
      "[19:58:09] WARNING: C:/Jenkins/workspace/xgboost-win64_release_0.90/src/objective/regression_obj.cu:152: reg:linear is now deprecated in favor of reg:squarederror.\n"
     ]
    },
    {
     "data": {
      "text/plain": [
       "XGBRegressor(base_score=0.5, booster='gbtree', colsample_bylevel=1,\n",
       "       colsample_bynode=1, colsample_bytree=1, gamma=0,\n",
       "       importance_type='gain', learning_rate=0.1, max_delta_step=0,\n",
       "       max_depth=3, min_child_weight=1, missing=None, n_estimators=100,\n",
       "       n_jobs=1, nthread=None, objective='reg:linear', random_state=42,\n",
       "       reg_alpha=0, reg_lambda=1, scale_pos_weight=1, seed=None,\n",
       "       silent=None, subsample=1, verbosity=1)"
      ]
     },
     "execution_count": 25,
     "metadata": {},
     "output_type": "execute_result"
    }
   ],
   "source": [
    "import xgboost as xgb\n",
    "xgb_model = xgb.XGBRegressor(objective=\"reg:linear\", random_state=42)\n",
    "\n",
    "xgb_model.fit(X_train1, y_train1)"
   ]
  },
  {
   "cell_type": "code",
   "execution_count": 26,
   "metadata": {},
   "outputs": [],
   "source": [
    "y_pred_XGB = xgb_model.predict(X_test1)"
   ]
  },
  {
   "cell_type": "code",
   "execution_count": 27,
   "metadata": {},
   "outputs": [],
   "source": [
    "MAE_XGB = metrics.mean_absolute_error(y_test1, y_pred_XGB)\n",
    "MSE_XGB = metrics.mean_squared_error(y_test1, y_pred_XGB)\n",
    "RMSE_XGB = np.sqrt(metrics.mean_squared_error(y_test1, y_pred_XGB))"
   ]
  },
  {
   "cell_type": "code",
   "execution_count": 28,
   "metadata": {},
   "outputs": [
    {
     "name": "stdout",
     "output_type": "stream",
     "text": [
      "Mean Absolute Error: 26.19879113142739\n",
      "Mean Squared Error: 1402.5676271332873\n",
      "Root Mean Squared Error: 37.450869511044566\n"
     ]
    }
   ],
   "source": [
    "print('Mean Absolute Error:', MAE_XGB)\n",
    "print('Mean Squared Error:', MSE_XGB)  \n",
    "print('Root Mean Squared Error:', RMSE_XGB)"
   ]
  },
  {
   "cell_type": "markdown",
   "metadata": {},
   "source": [
    "### Neural Network Regression (NN)"
   ]
  },
  {
   "cell_type": "code",
   "execution_count": 29,
   "metadata": {},
   "outputs": [],
   "source": [
    "from sklearn.neural_network import MLPRegressor\n",
    "NN_regressor = MLPRegressor(activation='relu')"
   ]
  },
  {
   "cell_type": "code",
   "execution_count": 30,
   "metadata": {},
   "outputs": [
    {
     "data": {
      "text/plain": [
       "MLPRegressor(activation='relu', alpha=0.0001, batch_size='auto', beta_1=0.9,\n",
       "       beta_2=0.999, early_stopping=False, epsilon=1e-08,\n",
       "       hidden_layer_sizes=(100,), learning_rate='constant',\n",
       "       learning_rate_init=0.001, max_iter=200, momentum=0.9,\n",
       "       n_iter_no_change=10, nesterovs_momentum=True, power_t=0.5,\n",
       "       random_state=None, shuffle=True, solver='adam', tol=0.0001,\n",
       "       validation_fraction=0.1, verbose=False, warm_start=False)"
      ]
     },
     "execution_count": 30,
     "metadata": {},
     "output_type": "execute_result"
    }
   ],
   "source": [
    "NN_regressor.fit(X_train1, y_train1)"
   ]
  },
  {
   "cell_type": "code",
   "execution_count": 31,
   "metadata": {},
   "outputs": [],
   "source": [
    "y_pred1_NN = NN_regressor.predict(X_test1)"
   ]
  },
  {
   "cell_type": "code",
   "execution_count": 32,
   "metadata": {},
   "outputs": [],
   "source": [
    "MAE_NN = metrics.mean_absolute_error(y_test1, y_pred1_NN)\n",
    "MSE_NN = metrics.mean_squared_error(y_test1, y_pred1_NN)\n",
    "RMSE_NN = np.sqrt(metrics.mean_squared_error(y_test1, y_pred1_NN))"
   ]
  },
  {
   "cell_type": "code",
   "execution_count": 33,
   "metadata": {},
   "outputs": [
    {
     "name": "stdout",
     "output_type": "stream",
     "text": [
      "Mean Absolute Error: 48.87504074164213\n",
      "Mean Squared Error: 4167.743371960598\n",
      "Root Mean Squared Error: 64.55806202141292\n"
     ]
    }
   ],
   "source": [
    "print('Mean Absolute Error:',MAE_NN)\n",
    "print('Mean Squared Error:', MSE_NN)  \n",
    "print('Root Mean Squared Error:', RMSE_NN)"
   ]
  },
  {
   "cell_type": "code",
   "execution_count": 34,
   "metadata": {},
   "outputs": [
    {
     "data": {
      "text/plain": [
       "['RF', 'DT', 'XGboost', 'NN']"
      ]
     },
     "execution_count": 34,
     "metadata": {},
     "output_type": "execute_result"
    }
   ],
   "source": [
    "models= [\"RF\", \"DT\",\"XGboost\",\"NN\"]\n",
    "models"
   ]
  },
  {
   "cell_type": "code",
   "execution_count": 35,
   "metadata": {},
   "outputs": [
    {
     "data": {
      "text/plain": [
       "[20.212573653198653, 45.680676587357716, 26.19879113142739, 48.87504074164213]"
      ]
     },
     "execution_count": 35,
     "metadata": {},
     "output_type": "execute_result"
    }
   ],
   "source": [
    "Mean_Abs_Error =[MAE_RF ,MAE_DT ,MAE_XGB , MAE_NN]\n",
    "Mean_Abs_Error"
   ]
  },
  {
   "cell_type": "code",
   "execution_count": 36,
   "metadata": {},
   "outputs": [
    {
     "data": {
      "text/plain": [
       "[1010.7090101694023, 3888.132986264667, 1402.5676271332873, 4167.743371960598]"
      ]
     },
     "execution_count": 36,
     "metadata": {},
     "output_type": "execute_result"
    }
   ],
   "source": [
    "Mean_Sqrt_Error = [MSE_RF, MSE_DT, MSE_XGB, MSE_NN]\n",
    "Mean_Sqrt_Error"
   ]
  },
  {
   "cell_type": "code",
   "execution_count": 37,
   "metadata": {},
   "outputs": [
    {
     "data": {
      "text/plain": [
       "[31.79165000702861, 62.35489544746801, 37.450869511044566, 64.55806202141292]"
      ]
     },
     "execution_count": 37,
     "metadata": {},
     "output_type": "execute_result"
    }
   ],
   "source": [
    "Root_Mean_Sqrd_Error = [RMSE_RF, RMSE_DT, RMSE_XGB, RMSE_NN]\n",
    "Root_Mean_Sqrd_Error"
   ]
  },
  {
   "cell_type": "code",
   "execution_count": 38,
   "metadata": {},
   "outputs": [],
   "source": [
    "d = {'model': models,'Mean_Abs_Error': Mean_Abs_Error,'Mean_Sqrt_Error': Mean_Sqrt_Error,'Root_Mean_Sqrd_Error':Root_Mean_Sqrd_Error}"
   ]
  },
  {
   "cell_type": "code",
   "execution_count": 40,
   "metadata": {},
   "outputs": [
    {
     "data": {
      "text/html": [
       "<div>\n",
       "<style scoped>\n",
       "    .dataframe tbody tr th:only-of-type {\n",
       "        vertical-align: middle;\n",
       "    }\n",
       "\n",
       "    .dataframe tbody tr th {\n",
       "        vertical-align: top;\n",
       "    }\n",
       "\n",
       "    .dataframe thead th {\n",
       "        text-align: right;\n",
       "    }\n",
       "</style>\n",
       "<table border=\"1\" class=\"dataframe\">\n",
       "  <thead>\n",
       "    <tr style=\"text-align: right;\">\n",
       "      <th></th>\n",
       "      <th>model</th>\n",
       "      <th>Mean_Abs_Error</th>\n",
       "      <th>Mean_Sqrt_Error</th>\n",
       "      <th>Root_Mean_Sqrd_Error</th>\n",
       "    </tr>\n",
       "  </thead>\n",
       "  <tbody>\n",
       "    <tr>\n",
       "      <th>0</th>\n",
       "      <td>RF</td>\n",
       "      <td>20.212574</td>\n",
       "      <td>1010.709010</td>\n",
       "      <td>31.791650</td>\n",
       "    </tr>\n",
       "    <tr>\n",
       "      <th>1</th>\n",
       "      <td>DT</td>\n",
       "      <td>45.680677</td>\n",
       "      <td>3888.132986</td>\n",
       "      <td>62.354895</td>\n",
       "    </tr>\n",
       "    <tr>\n",
       "      <th>2</th>\n",
       "      <td>XGboost</td>\n",
       "      <td>26.198791</td>\n",
       "      <td>1402.567627</td>\n",
       "      <td>37.450870</td>\n",
       "    </tr>\n",
       "    <tr>\n",
       "      <th>3</th>\n",
       "      <td>NN</td>\n",
       "      <td>48.875041</td>\n",
       "      <td>4167.743372</td>\n",
       "      <td>64.558062</td>\n",
       "    </tr>\n",
       "  </tbody>\n",
       "</table>\n",
       "</div>"
      ],
      "text/plain": [
       "     model  Mean_Abs_Error  Mean_Sqrt_Error  Root_Mean_Sqrd_Error\n",
       "0       RF       20.212574      1010.709010             31.791650\n",
       "1       DT       45.680677      3888.132986             62.354895\n",
       "2  XGboost       26.198791      1402.567627             37.450870\n",
       "3       NN       48.875041      4167.743372             64.558062"
      ]
     },
     "execution_count": 40,
     "metadata": {},
     "output_type": "execute_result"
    }
   ],
   "source": [
    "pd.DataFrame(data=d)"
   ]
  },
  {
   "cell_type": "markdown",
   "metadata": {},
   "source": [
    "## Parameters Tuning with Random Hyperparameter Grid Search"
   ]
  },
  {
   "cell_type": "markdown",
   "metadata": {},
   "source": [
    "### Random Forest Regression"
   ]
  },
  {
   "cell_type": "code",
   "execution_count": 41,
   "metadata": {},
   "outputs": [],
   "source": [
    "from pprint import pprint"
   ]
  },
  {
   "cell_type": "code",
   "execution_count": 42,
   "metadata": {},
   "outputs": [
    {
     "name": "stdout",
     "output_type": "stream",
     "text": [
      "Parameters currently in use:\n",
      "\n",
      "{'bootstrap': True,\n",
      " 'criterion': 'mse',\n",
      " 'max_depth': None,\n",
      " 'max_features': 'auto',\n",
      " 'max_leaf_nodes': None,\n",
      " 'min_impurity_decrease': 0.0,\n",
      " 'min_impurity_split': None,\n",
      " 'min_samples_leaf': 1,\n",
      " 'min_samples_split': 2,\n",
      " 'min_weight_fraction_leaf': 0.0,\n",
      " 'n_estimators': 400,\n",
      " 'n_jobs': None,\n",
      " 'oob_score': False,\n",
      " 'random_state': 5,\n",
      " 'verbose': 0,\n",
      " 'warm_start': False}\n"
     ]
    }
   ],
   "source": [
    "# Look at parameters used by our current forest\n",
    "print('Parameters currently in use:\\n')\n",
    "pprint(rf_classifier.get_params())"
   ]
  },
  {
   "cell_type": "code",
   "execution_count": 43,
   "metadata": {},
   "outputs": [],
   "source": [
    "# Randomized Search CV\n",
    "from sklearn.model_selection import RandomizedSearchCV"
   ]
  },
  {
   "cell_type": "code",
   "execution_count": 44,
   "metadata": {},
   "outputs": [],
   "source": [
    "# Number of trees in random forest\n",
    "n_estimators = [int(x) for x in np.linspace(start = 100, stop = 1200, num = 12)]\n",
    "# Number of features to consider at every split\n",
    "max_features = ['auto', 'sqrt']\n",
    "# Maximum number of levels in tree\n",
    "max_depth = [int(x) for x in np.linspace(5, 30, num = 6)]\n",
    "# max_depth.append(None)\n",
    "# Minimum number of samples required to split a node\n",
    "min_samples_split = [2, 5, 10, 15, 100]\n",
    "# Minimum number of samples required at each leaf node\n",
    "min_samples_leaf = [1, 2, 5, 10]\n",
    "# Method of selecting samples for training each tree\n",
    "# bootstrap = [True, False]\n",
    "\n",
    "# Create the random grid\n",
    "random_grid = {'n_estimators': n_estimators,\n",
    "               'max_features': max_features,\n",
    "               'max_depth': max_depth,\n",
    "               'min_samples_split': min_samples_split,\n",
    "               'min_samples_leaf': min_samples_leaf}"
   ]
  },
  {
   "cell_type": "code",
   "execution_count": 45,
   "metadata": {},
   "outputs": [
    {
     "name": "stdout",
     "output_type": "stream",
     "text": [
      "{'max_depth': [5, 10, 15, 20, 25, 30],\n",
      " 'max_features': ['auto', 'sqrt'],\n",
      " 'min_samples_leaf': [1, 2, 5, 10],\n",
      " 'min_samples_split': [2, 5, 10, 15, 100],\n",
      " 'n_estimators': [100,\n",
      "                  200,\n",
      "                  300,\n",
      "                  400,\n",
      "                  500,\n",
      "                  600,\n",
      "                  700,\n",
      "                  800,\n",
      "                  900,\n",
      "                  1000,\n",
      "                  1100,\n",
      "                  1200]}\n"
     ]
    }
   ],
   "source": [
    "pprint(random_grid)"
   ]
  },
  {
   "cell_type": "code",
   "execution_count": 46,
   "metadata": {},
   "outputs": [],
   "source": [
    "# Use the random grid to search for best hyperparameters\n",
    "# First create the base model to tune\n",
    "rf = RandomForestRegressor()\n",
    "# Random search of parameters, using 3 fold cross validation, search across 100 different combinations, and use all available cores\n",
    "rf_random = RandomizedSearchCV(estimator = rf, param_distributions = random_grid, n_iter = 100, cv = 3, verbose=2, random_state=42, n_jobs = -1)"
   ]
  },
  {
   "cell_type": "code",
   "execution_count": 47,
   "metadata": {},
   "outputs": [
    {
     "name": "stdout",
     "output_type": "stream",
     "text": [
      "Fitting 3 folds for each of 100 candidates, totalling 300 fits\n"
     ]
    },
    {
     "name": "stderr",
     "output_type": "stream",
     "text": [
      "[Parallel(n_jobs=-1)]: Using backend LokyBackend with 8 concurrent workers.\n",
      "[Parallel(n_jobs=-1)]: Done  25 tasks      | elapsed:   19.9s\n",
      "[Parallel(n_jobs=-1)]: Done 146 tasks      | elapsed:  1.2min\n",
      "[Parallel(n_jobs=-1)]: Done 300 out of 300 | elapsed:  2.2min finished\n"
     ]
    },
    {
     "data": {
      "text/plain": [
       "RandomizedSearchCV(cv=3, error_score='raise-deprecating',\n",
       "          estimator=RandomForestRegressor(bootstrap=True, criterion='mse', max_depth=None,\n",
       "           max_features='auto', max_leaf_nodes=None,\n",
       "           min_impurity_decrease=0.0, min_impurity_split=None,\n",
       "           min_samples_leaf=1, min_samples_split=2,\n",
       "           min_weight_fraction_leaf=0.0, n_estimators='warn', n_jobs=None,\n",
       "           oob_score=False, random_state=None, verbose=0, warm_start=False),\n",
       "          fit_params=None, iid='warn', n_iter=100, n_jobs=-1,\n",
       "          param_distributions={'n_estimators': [100, 200, 300, 400, 500, 600, 700, 800, 900, 1000, 1100, 1200], 'max_features': ['auto', 'sqrt'], 'max_depth': [5, 10, 15, 20, 25, 30], 'min_samples_split': [2, 5, 10, 15, 100], 'min_samples_leaf': [1, 2, 5, 10]},\n",
       "          pre_dispatch='2*n_jobs', random_state=42, refit=True,\n",
       "          return_train_score='warn', scoring=None, verbose=2)"
      ]
     },
     "execution_count": 47,
     "metadata": {},
     "output_type": "execute_result"
    }
   ],
   "source": [
    "#Fit the random search model\n",
    "rf_random.fit(X_train1,y_train1)"
   ]
  },
  {
   "cell_type": "code",
   "execution_count": 48,
   "metadata": {},
   "outputs": [
    {
     "data": {
      "text/plain": [
       "{'n_estimators': 700,\n",
       " 'min_samples_split': 5,\n",
       " 'min_samples_leaf': 1,\n",
       " 'max_features': 'auto',\n",
       " 'max_depth': 30}"
      ]
     },
     "execution_count": 48,
     "metadata": {},
     "output_type": "execute_result"
    }
   ],
   "source": [
    "rf_random.best_params_"
   ]
  },
  {
   "cell_type": "code",
   "execution_count": 49,
   "metadata": {},
   "outputs": [],
   "source": [
    "y_pred1_RF = rf_random.predict(X_test1)"
   ]
  },
  {
   "cell_type": "code",
   "execution_count": 50,
   "metadata": {},
   "outputs": [
    {
     "name": "stdout",
     "output_type": "stream",
     "text": [
      "Mean Absolute Error: 20.50350600616722\n",
      "Mean Squared Error: 1026.937584433325\n",
      "Root Mean Squared Error: 32.04586688534615\n"
     ]
    }
   ],
   "source": [
    "from sklearn import metrics\n",
    "print('Mean Absolute Error:',metrics.mean_absolute_error(y_test1, y_pred1_RF))  \n",
    "print('Mean Squared Error:',metrics.mean_squared_error(y_test1, y_pred1_RF))  \n",
    "print('Root Mean Squared Error:',np.sqrt(metrics.mean_squared_error(y_test1, y_pred1_RF)))  "
   ]
  },
  {
   "cell_type": "markdown",
   "metadata": {},
   "source": [
    "Let's call the same metrics before tuning:"
   ]
  },
  {
   "cell_type": "code",
   "execution_count": 52,
   "metadata": {},
   "outputs": [
    {
     "name": "stdout",
     "output_type": "stream",
     "text": [
      "Mean Absolute Error: 20.212573653198653\n",
      "Mean Squared Error: 1010.7090101694023\n",
      "Root Mean Squared Error: 31.79165000702861\n"
     ]
    }
   ],
   "source": [
    "print('Mean Absolute Error:',MAE_RF)  \n",
    "print('Mean Squared Error:',MSE_RF)  \n",
    "print('Root Mean Squared Error:',RMSE_RF)"
   ]
  },
  {
   "cell_type": "markdown",
   "metadata": {},
   "source": [
    "### Bangkok"
   ]
  },
  {
   "cell_type": "code",
   "execution_count": 141,
   "metadata": {},
   "outputs": [],
   "source": [
    "Bngkok_X = BangkokData[Selected_list]\n",
    "Bngkok_Y = BangkokData['Price']"
   ]
  },
  {
   "cell_type": "code",
   "execution_count": 142,
   "metadata": {},
   "outputs": [
    {
     "name": "stdout",
     "output_type": "stream",
     "text": [
      "(5425, 15)\n",
      "(2326, 15)\n",
      "(5425,)\n",
      "(2326,)\n"
     ]
    }
   ],
   "source": [
    "X_train2, X_test2, y_train2, y_test2 = train_test_split(Bngkok_X,Bngkok_Y,test_size=0.3, random_state=5)\n",
    "print(X_train2.shape)\n",
    "print(X_test2.shape)\n",
    "print(y_train2.shape)\n",
    "print(y_test2.shape)"
   ]
  },
  {
   "cell_type": "markdown",
   "metadata": {},
   "source": [
    "### Random Forest Regression"
   ]
  },
  {
   "cell_type": "code",
   "execution_count": 143,
   "metadata": {},
   "outputs": [
    {
     "data": {
      "text/plain": [
       "RandomForestRegressor(bootstrap=True, criterion='mse', max_depth=None,\n",
       "           max_features='auto', max_leaf_nodes=None,\n",
       "           min_impurity_decrease=0.0, min_impurity_split=None,\n",
       "           min_samples_leaf=1, min_samples_split=2,\n",
       "           min_weight_fraction_leaf=0.0, n_estimators=400, n_jobs=None,\n",
       "           oob_score=False, random_state=5, verbose=0, warm_start=False)"
      ]
     },
     "execution_count": 143,
     "metadata": {},
     "output_type": "execute_result"
    }
   ],
   "source": [
    "rf_classifier = RandomForestRegressor(n_estimators=400, criterion='mse', random_state=5)\n",
    "rf_classifier.fit(X_train2, y_train2)"
   ]
  },
  {
   "cell_type": "code",
   "execution_count": 166,
   "metadata": {},
   "outputs": [],
   "source": [
    "y_pred2_RFR = rf_classifier.predict(X_test2)"
   ]
  },
  {
   "cell_type": "code",
   "execution_count": 167,
   "metadata": {},
   "outputs": [
    {
     "data": {
      "text/html": [
       "<div>\n",
       "<style scoped>\n",
       "    .dataframe tbody tr th:only-of-type {\n",
       "        vertical-align: middle;\n",
       "    }\n",
       "\n",
       "    .dataframe tbody tr th {\n",
       "        vertical-align: top;\n",
       "    }\n",
       "\n",
       "    .dataframe thead th {\n",
       "        text-align: right;\n",
       "    }\n",
       "</style>\n",
       "<table border=\"1\" class=\"dataframe\">\n",
       "  <thead>\n",
       "    <tr style=\"text-align: right;\">\n",
       "      <th></th>\n",
       "      <th>Actual</th>\n",
       "      <th>Predicted</th>\n",
       "    </tr>\n",
       "  </thead>\n",
       "  <tbody>\n",
       "    <tr>\n",
       "      <th>3213</th>\n",
       "      <td>84.0</td>\n",
       "      <td>83.6350</td>\n",
       "    </tr>\n",
       "    <tr>\n",
       "      <th>1445</th>\n",
       "      <td>54.0</td>\n",
       "      <td>76.7825</td>\n",
       "    </tr>\n",
       "    <tr>\n",
       "      <th>3913</th>\n",
       "      <td>43.0</td>\n",
       "      <td>42.0950</td>\n",
       "    </tr>\n",
       "    <tr>\n",
       "      <th>6396</th>\n",
       "      <td>58.0</td>\n",
       "      <td>57.7375</td>\n",
       "    </tr>\n",
       "    <tr>\n",
       "      <th>7175</th>\n",
       "      <td>60.0</td>\n",
       "      <td>66.1550</td>\n",
       "    </tr>\n",
       "    <tr>\n",
       "      <th>3067</th>\n",
       "      <td>33.0</td>\n",
       "      <td>34.4425</td>\n",
       "    </tr>\n",
       "    <tr>\n",
       "      <th>4280</th>\n",
       "      <td>48.0</td>\n",
       "      <td>47.8600</td>\n",
       "    </tr>\n",
       "    <tr>\n",
       "      <th>1290</th>\n",
       "      <td>117.0</td>\n",
       "      <td>113.3475</td>\n",
       "    </tr>\n",
       "    <tr>\n",
       "      <th>1075</th>\n",
       "      <td>34.0</td>\n",
       "      <td>37.5900</td>\n",
       "    </tr>\n",
       "    <tr>\n",
       "      <th>7559</th>\n",
       "      <td>66.0</td>\n",
       "      <td>66.6975</td>\n",
       "    </tr>\n",
       "  </tbody>\n",
       "</table>\n",
       "</div>"
      ],
      "text/plain": [
       "      Actual  Predicted\n",
       "3213    84.0    83.6350\n",
       "1445    54.0    76.7825\n",
       "3913    43.0    42.0950\n",
       "6396    58.0    57.7375\n",
       "7175    60.0    66.1550\n",
       "3067    33.0    34.4425\n",
       "4280    48.0    47.8600\n",
       "1290   117.0   113.3475\n",
       "1075    34.0    37.5900\n",
       "7559    66.0    66.6975"
      ]
     },
     "execution_count": 167,
     "metadata": {},
     "output_type": "execute_result"
    }
   ],
   "source": [
    "df = pd.DataFrame({'Actual':y_test2, 'Predicted': y_pred2_RFR})  \n",
    "df.head(10)"
   ]
  },
  {
   "cell_type": "code",
   "execution_count": 168,
   "metadata": {},
   "outputs": [],
   "source": [
    "MAE_RF =  metrics.mean_absolute_error(y_test2, y_pred2_RFR)\n",
    "MSE_RF = metrics.mean_squared_error(y_test2, y_pred2_RFR)  \n",
    "RMSE_RF = np.sqrt(metrics.mean_squared_error(y_test2, y_pred2_RFR))"
   ]
  },
  {
   "cell_type": "code",
   "execution_count": 169,
   "metadata": {},
   "outputs": [
    {
     "name": "stdout",
     "output_type": "stream",
     "text": [
      "Mean Absolute Error: 2.967570937231298\n",
      "Mean Squared Error: 37.246637419389515\n",
      "Root Mean Squared Error: 6.103002328312641\n"
     ]
    }
   ],
   "source": [
    "from sklearn import metrics  \n",
    "print('Mean Absolute Error:', MAE_RF)  \n",
    "print('Mean Squared Error:', MSE_RF)  \n",
    "print('Root Mean Squared Error:', RMSE_RF)  "
   ]
  },
  {
   "cell_type": "markdown",
   "metadata": {},
   "source": [
    "### Decision Tree Regression"
   ]
  },
  {
   "cell_type": "code",
   "execution_count": 148,
   "metadata": {},
   "outputs": [],
   "source": [
    "from sklearn.tree import DecisionTreeRegressor\n",
    "DT_regressor = DecisionTreeRegressor(max_depth=2)"
   ]
  },
  {
   "cell_type": "code",
   "execution_count": 149,
   "metadata": {},
   "outputs": [
    {
     "data": {
      "text/plain": [
       "DecisionTreeRegressor(criterion='mse', max_depth=2, max_features=None,\n",
       "           max_leaf_nodes=None, min_impurity_decrease=0.0,\n",
       "           min_impurity_split=None, min_samples_leaf=1,\n",
       "           min_samples_split=2, min_weight_fraction_leaf=0.0,\n",
       "           presort=False, random_state=None, splitter='best')"
      ]
     },
     "execution_count": 149,
     "metadata": {},
     "output_type": "execute_result"
    }
   ],
   "source": [
    "DT_regressor.fit(X_train2, y_train2)"
   ]
  },
  {
   "cell_type": "code",
   "execution_count": 150,
   "metadata": {},
   "outputs": [],
   "source": [
    "y_pred2_DT = DT_regressor.predict(X_test2)"
   ]
  },
  {
   "cell_type": "code",
   "execution_count": 151,
   "metadata": {},
   "outputs": [],
   "source": [
    "MAE_DT = metrics.mean_absolute_error(y_test2, y_pred2_DT)\n",
    "MSE_DT = metrics.mean_squared_error(y_test2, y_pred2_DT)\n",
    "RMSE_DT = np.sqrt(metrics.mean_squared_error(y_test2, y_pred2_DT))"
   ]
  },
  {
   "cell_type": "code",
   "execution_count": 152,
   "metadata": {},
   "outputs": [
    {
     "name": "stdout",
     "output_type": "stream",
     "text": [
      "Mean Absolute Error: 16.077043088844782\n",
      "Mean Squared Error: 480.7835438074452\n",
      "Root Mean Squared Error: 21.92677686773515\n"
     ]
    }
   ],
   "source": [
    "print('Mean Absolute Error:', MAE_DT)  \n",
    "print('Mean Squared Error:', MSE_DT)  \n",
    "print('Root Mean Squared Error:', RMSE_DT)"
   ]
  },
  {
   "cell_type": "markdown",
   "metadata": {},
   "source": [
    "### Boosted Decision Tree Regression (XGBoost)"
   ]
  },
  {
   "cell_type": "code",
   "execution_count": 153,
   "metadata": {},
   "outputs": [],
   "source": [
    "import xgboost as xgb\n",
    "xgb_model = xgb.XGBRegressor(objective=\"reg:linear\", random_state=42)"
   ]
  },
  {
   "cell_type": "code",
   "execution_count": 154,
   "metadata": {},
   "outputs": [
    {
     "name": "stdout",
     "output_type": "stream",
     "text": [
      "[14:19:48] WARNING: C:/Jenkins/workspace/xgboost-win64_release_0.90/src/objective/regression_obj.cu:152: reg:linear is now deprecated in favor of reg:squarederror.\n"
     ]
    },
    {
     "data": {
      "text/plain": [
       "XGBRegressor(base_score=0.5, booster='gbtree', colsample_bylevel=1,\n",
       "       colsample_bynode=1, colsample_bytree=1, gamma=0,\n",
       "       importance_type='gain', learning_rate=0.1, max_delta_step=0,\n",
       "       max_depth=3, min_child_weight=1, missing=None, n_estimators=100,\n",
       "       n_jobs=1, nthread=None, objective='reg:linear', random_state=42,\n",
       "       reg_alpha=0, reg_lambda=1, scale_pos_weight=1, seed=None,\n",
       "       silent=None, subsample=1, verbosity=1)"
      ]
     },
     "execution_count": 154,
     "metadata": {},
     "output_type": "execute_result"
    }
   ],
   "source": [
    "xgb_model.fit(X_train2, y_train2)"
   ]
  },
  {
   "cell_type": "code",
   "execution_count": 155,
   "metadata": {},
   "outputs": [],
   "source": [
    "y_pred2_XGB = xgb_model.predict(X_test2)"
   ]
  },
  {
   "cell_type": "code",
   "execution_count": null,
   "metadata": {},
   "outputs": [],
   "source": [
    "MAE_XGB = metrics.mean_absolute_error(y_test2, y_pred2_XGB)\n",
    "MSE_XGB = metrics.mean_squared_error(y_test2, y_pred2_XGB)\n",
    "RMSE_XGB = np.sqrt(metrics.mean_squared_error(y_test2, y_pred2_XGB))"
   ]
  },
  {
   "cell_type": "code",
   "execution_count": 156,
   "metadata": {},
   "outputs": [
    {
     "name": "stdout",
     "output_type": "stream",
     "text": [
      "Mean Absolute Error: 26.19879113142739\n",
      "Mean Squared Error: 1402.5676271332873\n",
      "Root Mean Squared Error: 37.450869511044566\n"
     ]
    }
   ],
   "source": [
    "print('Mean Absolute Error:', MAE_XGB)  \n",
    "print('Mean Squared Error:', MSE_XGB )  \n",
    "print('Root Mean Squared Error:',RMSE_XGB) "
   ]
  },
  {
   "cell_type": "markdown",
   "metadata": {},
   "source": [
    "### Neural Network Regression"
   ]
  },
  {
   "cell_type": "code",
   "execution_count": 157,
   "metadata": {},
   "outputs": [],
   "source": [
    "from sklearn.neural_network import MLPRegressor\n",
    "NN_regressor = MLPRegressor(activation='relu')"
   ]
  },
  {
   "cell_type": "code",
   "execution_count": 158,
   "metadata": {},
   "outputs": [
    {
     "data": {
      "text/plain": [
       "MLPRegressor(activation='relu', alpha=0.0001, batch_size='auto', beta_1=0.9,\n",
       "       beta_2=0.999, early_stopping=False, epsilon=1e-08,\n",
       "       hidden_layer_sizes=(100,), learning_rate='constant',\n",
       "       learning_rate_init=0.001, max_iter=200, momentum=0.9,\n",
       "       n_iter_no_change=10, nesterovs_momentum=True, power_t=0.5,\n",
       "       random_state=None, shuffle=True, solver='adam', tol=0.0001,\n",
       "       validation_fraction=0.1, verbose=False, warm_start=False)"
      ]
     },
     "execution_count": 158,
     "metadata": {},
     "output_type": "execute_result"
    }
   ],
   "source": [
    "NN_regressor.fit(X_train2, y_train2)"
   ]
  },
  {
   "cell_type": "code",
   "execution_count": 159,
   "metadata": {},
   "outputs": [],
   "source": [
    "y_pred2_NN = NN_regressor.predict(X_test2)"
   ]
  },
  {
   "cell_type": "code",
   "execution_count": 161,
   "metadata": {},
   "outputs": [],
   "source": [
    "MAE_NN = metrics.mean_absolute_error(y_test2, y_pred2_NN)\n",
    "MSE_NN = metrics.mean_squared_error(y_test2, y_pred2_NN)\n",
    "RMSE_NN = np.sqrt(metrics.mean_squared_error(y_test2, y_pred2_NN))"
   ]
  },
  {
   "cell_type": "code",
   "execution_count": 162,
   "metadata": {},
   "outputs": [
    {
     "name": "stdout",
     "output_type": "stream",
     "text": [
      "Mean Absolute Error: 15.662627306881554\n",
      "Mean Squared Error: 425.64247871790775\n",
      "Root Mean Squared Error: 20.63110464124274\n"
     ]
    }
   ],
   "source": [
    "print('Mean Absolute Error:', MAE_NN)  \n",
    "print('Mean Squared Error:', MSE_NN)  \n",
    "print('Root Mean Squared Error:', RMSE_NN) "
   ]
  },
  {
   "cell_type": "code",
   "execution_count": 163,
   "metadata": {},
   "outputs": [],
   "source": [
    "Mean_Abs_Error =[MAE_RF ,MAE_DT ,MAE_XGB , MAE_NN]\n",
    "Mean_Sqrt_Error = [MSE_RF, MSE_DT, MSE_XGB, MSE_NN]\n",
    "Root_Mean_Sqrd_Error = [RMSE_RF, RMSE_DT, RMSE_XGB, RMSE_NN]"
   ]
  },
  {
   "cell_type": "code",
   "execution_count": 164,
   "metadata": {},
   "outputs": [],
   "source": [
    "d = {'model': models,'Mean_Abs_Error': Mean_Abs_Error,'Mean_Sqrt_Error': Mean_Sqrt_Error,'Root_Mean_Sqrd_Error':Root_Mean_Sqrd_Error}"
   ]
  },
  {
   "cell_type": "code",
   "execution_count": 165,
   "metadata": {},
   "outputs": [
    {
     "data": {
      "text/html": [
       "<div>\n",
       "<style scoped>\n",
       "    .dataframe tbody tr th:only-of-type {\n",
       "        vertical-align: middle;\n",
       "    }\n",
       "\n",
       "    .dataframe tbody tr th {\n",
       "        vertical-align: top;\n",
       "    }\n",
       "\n",
       "    .dataframe thead th {\n",
       "        text-align: right;\n",
       "    }\n",
       "</style>\n",
       "<table border=\"1\" class=\"dataframe\">\n",
       "  <thead>\n",
       "    <tr style=\"text-align: right;\">\n",
       "      <th></th>\n",
       "      <th>model</th>\n",
       "      <th>Mean_Abs_Error</th>\n",
       "      <th>Mean_Sqrt_Error</th>\n",
       "      <th>Root_Mean_Sqrd_Error</th>\n",
       "    </tr>\n",
       "  </thead>\n",
       "  <tbody>\n",
       "    <tr>\n",
       "      <th>0</th>\n",
       "      <td>RF</td>\n",
       "      <td>2.967571</td>\n",
       "      <td>37.246637</td>\n",
       "      <td>6.103002</td>\n",
       "    </tr>\n",
       "    <tr>\n",
       "      <th>1</th>\n",
       "      <td>DT</td>\n",
       "      <td>16.077043</td>\n",
       "      <td>480.783544</td>\n",
       "      <td>21.926777</td>\n",
       "    </tr>\n",
       "    <tr>\n",
       "      <th>2</th>\n",
       "      <td>XGboost</td>\n",
       "      <td>26.198791</td>\n",
       "      <td>1402.567627</td>\n",
       "      <td>37.450870</td>\n",
       "    </tr>\n",
       "    <tr>\n",
       "      <th>3</th>\n",
       "      <td>NN</td>\n",
       "      <td>15.662627</td>\n",
       "      <td>425.642479</td>\n",
       "      <td>20.631105</td>\n",
       "    </tr>\n",
       "  </tbody>\n",
       "</table>\n",
       "</div>"
      ],
      "text/plain": [
       "     model  Mean_Abs_Error  Mean_Sqrt_Error  Root_Mean_Sqrd_Error\n",
       "0       RF        2.967571        37.246637              6.103002\n",
       "1       DT       16.077043       480.783544             21.926777\n",
       "2  XGboost       26.198791      1402.567627             37.450870\n",
       "3       NN       15.662627       425.642479             20.631105"
      ]
     },
     "execution_count": 165,
     "metadata": {},
     "output_type": "execute_result"
    }
   ],
   "source": [
    "pd.DataFrame(data=d)"
   ]
  },
  {
   "cell_type": "markdown",
   "metadata": {},
   "source": [
    "### Cairo"
   ]
  },
  {
   "cell_type": "code",
   "execution_count": 170,
   "metadata": {},
   "outputs": [],
   "source": [
    "Cairo_X = CairoData[Selected_list]\n",
    "Cairo_Y = CairoData['Price']"
   ]
  },
  {
   "cell_type": "code",
   "execution_count": 171,
   "metadata": {},
   "outputs": [
    {
     "name": "stdout",
     "output_type": "stream",
     "text": [
      "(5531, 15)\n",
      "(2371, 15)\n",
      "(5531,)\n",
      "(2371,)\n"
     ]
    }
   ],
   "source": [
    "X_train3, X_test3, y_train3, y_test3 = train_test_split(Cairo_X,Cairo_Y,test_size=0.3, random_state=5)\n",
    "print(X_train3.shape)\n",
    "print(X_test3.shape)\n",
    "print(y_train3.shape)\n",
    "print(y_test3.shape)"
   ]
  },
  {
   "cell_type": "markdown",
   "metadata": {},
   "source": [
    "### Random Forest Regression"
   ]
  },
  {
   "cell_type": "code",
   "execution_count": 172,
   "metadata": {},
   "outputs": [
    {
     "data": {
      "text/plain": [
       "RandomForestRegressor(bootstrap=True, criterion='mse', max_depth=None,\n",
       "           max_features='auto', max_leaf_nodes=None,\n",
       "           min_impurity_decrease=0.0, min_impurity_split=None,\n",
       "           min_samples_leaf=1, min_samples_split=2,\n",
       "           min_weight_fraction_leaf=0.0, n_estimators=400, n_jobs=None,\n",
       "           oob_score=False, random_state=5, verbose=0, warm_start=False)"
      ]
     },
     "execution_count": 172,
     "metadata": {},
     "output_type": "execute_result"
    }
   ],
   "source": [
    "rf_classifier = RandomForestRegressor(n_estimators=400, criterion='mse', random_state=5)\n",
    "rf_classifier.fit(X_train3, y_train3)"
   ]
  },
  {
   "cell_type": "code",
   "execution_count": 173,
   "metadata": {},
   "outputs": [],
   "source": [
    "y_pred3_RFR = rf_classifier.predict(X_test3)"
   ]
  },
  {
   "cell_type": "code",
   "execution_count": 174,
   "metadata": {},
   "outputs": [
    {
     "data": {
      "text/html": [
       "<div>\n",
       "<style scoped>\n",
       "    .dataframe tbody tr th:only-of-type {\n",
       "        vertical-align: middle;\n",
       "    }\n",
       "\n",
       "    .dataframe tbody tr th {\n",
       "        vertical-align: top;\n",
       "    }\n",
       "\n",
       "    .dataframe thead th {\n",
       "        text-align: right;\n",
       "    }\n",
       "</style>\n",
       "<table border=\"1\" class=\"dataframe\">\n",
       "  <thead>\n",
       "    <tr style=\"text-align: right;\">\n",
       "      <th></th>\n",
       "      <th>Actual</th>\n",
       "      <th>Predicted</th>\n",
       "    </tr>\n",
       "  </thead>\n",
       "  <tbody>\n",
       "    <tr>\n",
       "      <th>3564</th>\n",
       "      <td>68.0</td>\n",
       "      <td>65.8325</td>\n",
       "    </tr>\n",
       "    <tr>\n",
       "      <th>6015</th>\n",
       "      <td>40.0</td>\n",
       "      <td>38.4775</td>\n",
       "    </tr>\n",
       "    <tr>\n",
       "      <th>7518</th>\n",
       "      <td>20.0</td>\n",
       "      <td>27.3175</td>\n",
       "    </tr>\n",
       "    <tr>\n",
       "      <th>4707</th>\n",
       "      <td>67.0</td>\n",
       "      <td>65.8375</td>\n",
       "    </tr>\n",
       "    <tr>\n",
       "      <th>4272</th>\n",
       "      <td>59.0</td>\n",
       "      <td>62.7900</td>\n",
       "    </tr>\n",
       "    <tr>\n",
       "      <th>7715</th>\n",
       "      <td>25.0</td>\n",
       "      <td>22.1150</td>\n",
       "    </tr>\n",
       "    <tr>\n",
       "      <th>6862</th>\n",
       "      <td>120.0</td>\n",
       "      <td>66.6525</td>\n",
       "    </tr>\n",
       "    <tr>\n",
       "      <th>2617</th>\n",
       "      <td>13.0</td>\n",
       "      <td>13.5925</td>\n",
       "    </tr>\n",
       "    <tr>\n",
       "      <th>2005</th>\n",
       "      <td>78.0</td>\n",
       "      <td>77.9100</td>\n",
       "    </tr>\n",
       "    <tr>\n",
       "      <th>855</th>\n",
       "      <td>40.0</td>\n",
       "      <td>42.7150</td>\n",
       "    </tr>\n",
       "  </tbody>\n",
       "</table>\n",
       "</div>"
      ],
      "text/plain": [
       "      Actual  Predicted\n",
       "3564    68.0    65.8325\n",
       "6015    40.0    38.4775\n",
       "7518    20.0    27.3175\n",
       "4707    67.0    65.8375\n",
       "4272    59.0    62.7900\n",
       "7715    25.0    22.1150\n",
       "6862   120.0    66.6525\n",
       "2617    13.0    13.5925\n",
       "2005    78.0    77.9100\n",
       "855     40.0    42.7150"
      ]
     },
     "execution_count": 174,
     "metadata": {},
     "output_type": "execute_result"
    }
   ],
   "source": [
    "df = pd.DataFrame({'Actual':y_test3, 'Predicted': y_pred3_RFR})  \n",
    "df.head(10)"
   ]
  },
  {
   "cell_type": "code",
   "execution_count": 175,
   "metadata": {},
   "outputs": [],
   "source": [
    "from sklearn import metrics \n",
    "MAE_RF =  metrics.mean_absolute_error(y_test3, y_pred3_RFR)\n",
    "MSE_RF =  metrics.mean_squared_error(y_test3, y_pred3_RFR)\n",
    "RMSE_RF = np.sqrt(metrics.mean_squared_error(y_test3, y_pred3_RFR))"
   ]
  },
  {
   "cell_type": "code",
   "execution_count": 176,
   "metadata": {},
   "outputs": [
    {
     "name": "stdout",
     "output_type": "stream",
     "text": [
      "Mean Absolute Error: 4.018936102910165\n",
      "Mean Squared Error: 141.08917577235343\n",
      "Root Mean Squared Error: 11.878096470914581\n"
     ]
    }
   ],
   "source": [
    " \n",
    "print('Mean Absolute Error:', MAE_RF)  \n",
    "print('Mean Squared Error:',MSE_RF)  \n",
    "print('Root Mean Squared Error:',RMSE_RF) "
   ]
  },
  {
   "cell_type": "markdown",
   "metadata": {},
   "source": [
    "### Decision Tree Regression"
   ]
  },
  {
   "cell_type": "code",
   "execution_count": 177,
   "metadata": {},
   "outputs": [],
   "source": [
    "from sklearn.tree import DecisionTreeRegressor\n",
    "DT_regressor = DecisionTreeRegressor(max_depth=2)"
   ]
  },
  {
   "cell_type": "code",
   "execution_count": 178,
   "metadata": {},
   "outputs": [
    {
     "data": {
      "text/plain": [
       "DecisionTreeRegressor(criterion='mse', max_depth=2, max_features=None,\n",
       "           max_leaf_nodes=None, min_impurity_decrease=0.0,\n",
       "           min_impurity_split=None, min_samples_leaf=1,\n",
       "           min_samples_split=2, min_weight_fraction_leaf=0.0,\n",
       "           presort=False, random_state=None, splitter='best')"
      ]
     },
     "execution_count": 178,
     "metadata": {},
     "output_type": "execute_result"
    }
   ],
   "source": [
    "DT_regressor.fit(X_train3, y_train3)"
   ]
  },
  {
   "cell_type": "code",
   "execution_count": 179,
   "metadata": {},
   "outputs": [],
   "source": [
    "y_pred3_DT = DT_regressor.predict(X_test3)"
   ]
  },
  {
   "cell_type": "code",
   "execution_count": 180,
   "metadata": {},
   "outputs": [],
   "source": [
    "MAE_DT = metrics.mean_absolute_error(y_test3, y_pred3_DT)\n",
    "MSE_DT = metrics.mean_squared_error(y_test3, y_pred3_DT)\n",
    "RMSE_DT = np.sqrt(metrics.mean_squared_error(y_test3, y_pred3_DT))"
   ]
  },
  {
   "cell_type": "code",
   "execution_count": 181,
   "metadata": {},
   "outputs": [
    {
     "name": "stdout",
     "output_type": "stream",
     "text": [
      "Mean Absolute Error: 21.473754123679146\n",
      "Mean Squared Error: 1113.280607746576\n",
      "Root Mean Squared Error: 33.36585991318935\n"
     ]
    }
   ],
   "source": [
    "print('Mean Absolute Error:',MAE_DT)  \n",
    "print('Mean Squared Error:', MSE_DT)  \n",
    "print('Root Mean Squared Error:',RMSE_DT)"
   ]
  },
  {
   "cell_type": "markdown",
   "metadata": {},
   "source": [
    "### Boosted Decision Tree Regression (XGBoost)"
   ]
  },
  {
   "cell_type": "code",
   "execution_count": 182,
   "metadata": {},
   "outputs": [],
   "source": [
    "import xgboost as xgb\n",
    "xgb_model = xgb.XGBRegressor(objective=\"reg:linear\", random_state=42)"
   ]
  },
  {
   "cell_type": "code",
   "execution_count": 183,
   "metadata": {},
   "outputs": [
    {
     "name": "stdout",
     "output_type": "stream",
     "text": [
      "[14:32:08] WARNING: C:/Jenkins/workspace/xgboost-win64_release_0.90/src/objective/regression_obj.cu:152: reg:linear is now deprecated in favor of reg:squarederror.\n"
     ]
    },
    {
     "data": {
      "text/plain": [
       "XGBRegressor(base_score=0.5, booster='gbtree', colsample_bylevel=1,\n",
       "       colsample_bynode=1, colsample_bytree=1, gamma=0,\n",
       "       importance_type='gain', learning_rate=0.1, max_delta_step=0,\n",
       "       max_depth=3, min_child_weight=1, missing=None, n_estimators=100,\n",
       "       n_jobs=1, nthread=None, objective='reg:linear', random_state=42,\n",
       "       reg_alpha=0, reg_lambda=1, scale_pos_weight=1, seed=None,\n",
       "       silent=None, subsample=1, verbosity=1)"
      ]
     },
     "execution_count": 183,
     "metadata": {},
     "output_type": "execute_result"
    }
   ],
   "source": [
    "xgb_model.fit(X_train3, y_train3)"
   ]
  },
  {
   "cell_type": "code",
   "execution_count": 186,
   "metadata": {},
   "outputs": [],
   "source": [
    "y_pred3_XGB = xgb_model.predict(X_test3)"
   ]
  },
  {
   "cell_type": "code",
   "execution_count": 187,
   "metadata": {},
   "outputs": [],
   "source": [
    "MAE_XGB = metrics.mean_absolute_error(y_test3, y_pred3_XGB)\n",
    "MSE_XGB = metrics.mean_squared_error(y_test3, y_pred3_XGB)\n",
    "RMSE_XGB = np.sqrt(metrics.mean_squared_error(y_test3, y_pred3_XGB))"
   ]
  },
  {
   "cell_type": "code",
   "execution_count": 188,
   "metadata": {},
   "outputs": [
    {
     "name": "stdout",
     "output_type": "stream",
     "text": [
      "Mean Absolute Error: 14.868262046804311\n",
      "Mean Squared Error: 476.7570508650813\n",
      "Root Mean Squared Error: 21.83476702108546\n"
     ]
    }
   ],
   "source": [
    "print('Mean Absolute Error:',MAE_XGB)  \n",
    "print('Mean Squared Error:',MSE_XGB)  \n",
    "print('Root Mean Squared Error:',RMSE_XGB) "
   ]
  },
  {
   "cell_type": "markdown",
   "metadata": {},
   "source": [
    "### Neural Network Regression"
   ]
  },
  {
   "cell_type": "code",
   "execution_count": 189,
   "metadata": {},
   "outputs": [],
   "source": [
    "from sklearn.neural_network import MLPRegressor\n",
    "NN_regressor = MLPRegressor(activation='relu')"
   ]
  },
  {
   "cell_type": "code",
   "execution_count": 190,
   "metadata": {},
   "outputs": [
    {
     "data": {
      "text/plain": [
       "MLPRegressor(activation='relu', alpha=0.0001, batch_size='auto', beta_1=0.9,\n",
       "       beta_2=0.999, early_stopping=False, epsilon=1e-08,\n",
       "       hidden_layer_sizes=(100,), learning_rate='constant',\n",
       "       learning_rate_init=0.001, max_iter=200, momentum=0.9,\n",
       "       n_iter_no_change=10, nesterovs_momentum=True, power_t=0.5,\n",
       "       random_state=None, shuffle=True, solver='adam', tol=0.0001,\n",
       "       validation_fraction=0.1, verbose=False, warm_start=False)"
      ]
     },
     "execution_count": 190,
     "metadata": {},
     "output_type": "execute_result"
    }
   ],
   "source": [
    "NN_regressor.fit(X_train3, y_train3)"
   ]
  },
  {
   "cell_type": "code",
   "execution_count": 191,
   "metadata": {},
   "outputs": [],
   "source": [
    "y_pred3_NN = NN_regressor.predict(X_test3)"
   ]
  },
  {
   "cell_type": "code",
   "execution_count": 192,
   "metadata": {},
   "outputs": [],
   "source": [
    "MAE_NN = metrics.mean_absolute_error(y_test3, y_pred3_NN)\n",
    "MSE_NN = metrics.mean_squared_error(y_test3, y_pred3_NN)\n",
    "RMSE_NN = np.sqrt(metrics.mean_squared_error(y_test3, y_pred3_NN))"
   ]
  },
  {
   "cell_type": "code",
   "execution_count": 193,
   "metadata": {},
   "outputs": [
    {
     "name": "stdout",
     "output_type": "stream",
     "text": [
      "Mean Absolute Error: 21.766187987979162\n",
      "Mean Squared Error: 1063.260350488555\n",
      "Root Mean Squared Error: 32.60767318421471\n"
     ]
    }
   ],
   "source": [
    "print('Mean Absolute Error:',MAE_NN)  \n",
    "print('Mean Squared Error:',MSE_NN)  \n",
    "print('Root Mean Squared Error:',RMSE_NN)"
   ]
  },
  {
   "cell_type": "code",
   "execution_count": 196,
   "metadata": {},
   "outputs": [],
   "source": [
    "Mean_Abs_Error =[MAE_RF ,MAE_DT ,MAE_XGB , MAE_NN]\n",
    "Mean_Sqrt_Error = [MSE_RF, MSE_DT, MSE_XGB, MSE_NN]\n",
    "Root_Mean_Sqrd_Error = [RMSE_RF, RMSE_DT, RMSE_XGB, RMSE_NN]"
   ]
  },
  {
   "cell_type": "code",
   "execution_count": 197,
   "metadata": {},
   "outputs": [],
   "source": [
    "d = {'model': models,'Mean_Abs_Error': Mean_Abs_Error,'Mean_Sqrt_Error': Mean_Sqrt_Error,'Root_Mean_Sqrd_Error':Root_Mean_Sqrd_Error}"
   ]
  },
  {
   "cell_type": "code",
   "execution_count": 198,
   "metadata": {},
   "outputs": [
    {
     "data": {
      "text/html": [
       "<div>\n",
       "<style scoped>\n",
       "    .dataframe tbody tr th:only-of-type {\n",
       "        vertical-align: middle;\n",
       "    }\n",
       "\n",
       "    .dataframe tbody tr th {\n",
       "        vertical-align: top;\n",
       "    }\n",
       "\n",
       "    .dataframe thead th {\n",
       "        text-align: right;\n",
       "    }\n",
       "</style>\n",
       "<table border=\"1\" class=\"dataframe\">\n",
       "  <thead>\n",
       "    <tr style=\"text-align: right;\">\n",
       "      <th></th>\n",
       "      <th>model</th>\n",
       "      <th>Mean_Abs_Error</th>\n",
       "      <th>Mean_Sqrt_Error</th>\n",
       "      <th>Root_Mean_Sqrd_Error</th>\n",
       "    </tr>\n",
       "  </thead>\n",
       "  <tbody>\n",
       "    <tr>\n",
       "      <th>0</th>\n",
       "      <td>RF</td>\n",
       "      <td>4.018936</td>\n",
       "      <td>141.089176</td>\n",
       "      <td>11.878096</td>\n",
       "    </tr>\n",
       "    <tr>\n",
       "      <th>1</th>\n",
       "      <td>DT</td>\n",
       "      <td>21.473754</td>\n",
       "      <td>1113.280608</td>\n",
       "      <td>33.365860</td>\n",
       "    </tr>\n",
       "    <tr>\n",
       "      <th>2</th>\n",
       "      <td>XGboost</td>\n",
       "      <td>14.868262</td>\n",
       "      <td>476.757051</td>\n",
       "      <td>21.834767</td>\n",
       "    </tr>\n",
       "    <tr>\n",
       "      <th>3</th>\n",
       "      <td>NN</td>\n",
       "      <td>21.766188</td>\n",
       "      <td>1063.260350</td>\n",
       "      <td>32.607673</td>\n",
       "    </tr>\n",
       "  </tbody>\n",
       "</table>\n",
       "</div>"
      ],
      "text/plain": [
       "     model  Mean_Abs_Error  Mean_Sqrt_Error  Root_Mean_Sqrd_Error\n",
       "0       RF        4.018936       141.089176             11.878096\n",
       "1       DT       21.473754      1113.280608             33.365860\n",
       "2  XGboost       14.868262       476.757051             21.834767\n",
       "3       NN       21.766188      1063.260350             32.607673"
      ]
     },
     "execution_count": 198,
     "metadata": {},
     "output_type": "execute_result"
    }
   ],
   "source": [
    "pd.DataFrame(data=d)"
   ]
  },
  {
   "cell_type": "code",
   "execution_count": null,
   "metadata": {},
   "outputs": [],
   "source": []
  }
 ],
 "metadata": {
  "kernelspec": {
   "display_name": "Python 3",
   "language": "python",
   "name": "python3"
  },
  "language_info": {
   "codemirror_mode": {
    "name": "ipython",
    "version": 3
   },
   "file_extension": ".py",
   "mimetype": "text/x-python",
   "name": "python",
   "nbconvert_exporter": "python",
   "pygments_lexer": "ipython3",
   "version": "3.7.1"
  }
 },
 "nbformat": 4,
 "nbformat_minor": 2
}
