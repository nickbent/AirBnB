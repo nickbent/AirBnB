{
 "cells": [
  {
   "cell_type": "markdown",
   "metadata": {},
   "source": [
    "## Choosing the appropriate machine learning algorithm"
   ]
  },
  {
   "cell_type": "markdown",
   "metadata": {},
   "source": [
    "Choosing the right ML algorithm is half systematic and half case-sensitive. What does that mean? From one prospective, there are few general steps you can save them as a crutch when you select the right ML model! However, from another prospective, your problem/data might be very unique and need to be carefully analyzed in order to select the right ML model!"
   ]
  },
  {
   "cell_type": "markdown",
   "metadata": {},
   "source": [
    "So, for any machine learning problem, we need to throw these questions to select the right model:\n",
    "\n",
    "1- Is our data labeled or not?\n",
    "\n",
    "Yes ---> Supervised Learning\n",
    "\n",
    "Is the output \"Label\" discrete or continuous?\n",
    "\n",
    "Discrete ---> Classification\n",
    "\n",
    "Continuous ---> Regression\n",
    "\n",
    "Anomaly Detection ---> The goal here is to identify data points that are simply unusual (e.x., Fraud Detection problem when we have highly unusual credit card spending patterns)\n",
    "\n",
    "No ---> Unsupervised Learning (Clustering)\n",
    "\n",
    "2- Do we need to interact with the environment to optimize the objective function?\n",
    "\n",
    "Yes ---> Reinforcement Learning\n"
   ]
  },
  {
   "cell_type": "markdown",
   "metadata": {},
   "source": [
    "Now that we have a clear picture about our data, we can answer the previous questions directly: Yes, we have labeled, continuous data ---> Supervised Learning \"Regression\"\n",
    "\n",
    "That lead us to a smaller set of ML algorithms where we deal with continuous labeled data: Linear Regression, Bayesian Linear Regression, Decision Forest Regression, Boosted Decision Tree Regression, Fast Forest Quantile Regression, Poisson Regression, Ordinal Regression, and Neural Network Regression.\n",
    "\n",
    "Here, we reach the second option, mentioned above, for the model selection: a case sensitive task! This requires awareness of many factors that characterizing our problem, mainly: Accuracy, linearity, training time, the number of parameters (e.g., number of iterations, error tolerance, etc), and the number of features.\n",
    "\n",
    "Finally, we need to highlight that \"No free lunch\" with machine learning models. We need to figure out what requirement(s) we want to pay more for it!\n",
    "\n",
    "So, we have a large number of observations for the three cities. \n",
    "\n",
    "In our particular problem, we have the renting price as the target variable to predict. For the three cities, the price shows a continuous increase over time. In other words, the late you book a listing on Airbnb, the cheaper price you can get!! \n",
    "\n",
    "At the previous step, our exploratory analysis has shown that we have non-linear connections between our features and the average price. However, this does not say that there is no correlation between them. Some of our features have shown good correlation with the price such as the people accommodation represented mainly by the sharing and the quantity of the available bedrooms, beds, and bathrooms.  Even, with some features that show no correlation with the price, they can help us in modeling our target variable. For example, the number of review stars show no direct correlation with the average price; however, it can help to explain other connections such as the variation of the price among different neighborhoods. \n"
   ]
  },
  {
   "cell_type": "markdown",
   "metadata": {},
   "source": [
    "# Linear Regression"
   ]
  },
  {
   "cell_type": "markdown",
   "metadata": {},
   "source": [
    "Linear models either the simple or Bayesian regression models are very popular to use in regression problems due to their simplicity and easy to interpret. However, in our case, I think they are not suitable to use because:\n",
    "\n",
    "1-\tThe relationship between the price and the predictors are non-linear as shown in the exploratory analysis. So, those linear models will fail to capture that non-linearity. \n",
    "\n",
    "2-\tAlso, with the large number of features (>10) we have, linear regression models are very prone to overfitting.\n"
   ]
  },
  {
   "cell_type": "markdown",
   "metadata": {},
   "source": [
    "#  Decision Forest Regression "
   ]
  },
  {
   "cell_type": "markdown",
   "metadata": {},
   "source": [
    "Decision trees are non-parametric models that splits the data in the form of a tree structure! It performs a sequence of simple tests for each data point, forming a binary tree data structure until a leaf node (decision) is reached.\n",
    "\n",
    "It can be one of our candidates for modeling our data. As we have some nonlinearity in our data, Decision Forest Regression can represent non-linear decision boundaries in Airbnb data. Also, since we have a quite large number of samples, DFR is efficient in both computation and memory usage during training and prediction.\n"
   ]
  },
  {
   "cell_type": "markdown",
   "metadata": {},
   "source": [
    "# Boosted Decision Tree Regression"
   ]
  },
  {
   "cell_type": "markdown",
   "metadata": {},
   "source": [
    "It simply a mix of two classical ML algorithms where boosting is employed to create an ensemble of regression trees!\n",
    "\n",
    "\"Boosting\" means that each tree is dependent on prior trees. The algorithm learns by fitting the residual of the trees that preceded it. Thus, boosting in a decision tree ensemble tends to improve accuracy with some small risk of less coverage.\n",
    "\n",
    "Boosting in regression trees tends to improve accuracy with some small risk of less coverage."
   ]
  },
  {
   "cell_type": "markdown",
   "metadata": {},
   "source": [
    "### XGBoost \n"
   ]
  },
  {
   "cell_type": "markdown",
   "metadata": {},
   "source": [
    "XGBoost is the implementation of the gradient boosted tree algorithms that's commonly used for classification and regression problems. Gradient boosting is a supervised learning algorithm consisting of an ensemble (set) of weaker models (trees), which sums up their estimates to predict a target variable with more accuracy.\n",
    "\n",
    "XGBoost is also a strong candidate to model our Airbnb data as it performs very well with large data sets and large number of features. In addition, it is very strong to capture the non-linearity in the connection between the target variable and the predictors. However, since it is a result of combining several models (trees), it can be a bit difficult to interpret. \n"
   ]
  },
  {
   "cell_type": "markdown",
   "metadata": {},
   "source": [
    "# Fast Forest Quantile Regression"
   ]
  },
  {
   "cell_type": "markdown",
   "metadata": {},
   "source": [
    "Quantile regression is useful if we want to understand more about the distribution of the predicted value, rather than get a single mean prediction value. This method has many applications, including:\n",
    "\n",
    "    - Predicting prices\n",
    "\n",
    "    - Estimating student performance or applying growth charts to assess child development\n",
    "\n",
    "    - Discovering predictive relationships in cases where there is only a weak relationship between variables\n"
   ]
  },
  {
   "cell_type": "markdown",
   "metadata": {},
   "source": [
    "As Regression Trees and Random Forest are generally great at learning complex, highly non-linear relationships, Fast Forest Quantile Regression can performs very well with our data. Also, it is very easy to interpret and understand. On the other hand, it might slow down the training time and also requires more memory with a larger random forest ensembles."
   ]
  },
  {
   "cell_type": "markdown",
   "metadata": {},
   "source": [
    "# K-nearest neighbors (KNN)"
   ]
  },
  {
   "cell_type": "markdown",
   "metadata": {},
   "source": [
    "KNN is a non-parametric method used for both classification and regression problems. The algorithm uses \"feature similarity\" to predict values of any new data points. This means that the new point is assigned a value based on how closely it resembles the points in the training set.\n",
    "\n",
    "KNN is a suitable algorithm to predict sales or price since it depends on averaging the output of similar examples. However, in our case of large data sets, it can slow down the training stage very badly.\n"
   ]
  },
  {
   "cell_type": "markdown",
   "metadata": {},
   "source": [
    "# Neural Network Regression"
   ]
  },
  {
   "cell_type": "markdown",
   "metadata": {},
   "source": [
    "Any class of statistical models can be termed a neural network if they use adaptive weights and can approximate non-linear functions of their inputs. Thus, neural network regression is suited to problems where a more traditional regression model cannot fit a solution.\n",
    "\n",
    "Although NN acts as a black box in terms of the model complexity, so it is very difficult to interpret. However, it is one of the most powerful ML models that can capture different types of feature variable relationships. In addition, NN performs very well as we have more data. So, definitely, NN is a suitable model to select for our goal of Airbnb price prediction. \n"
   ]
  },
  {
   "cell_type": "markdown",
   "metadata": {},
   "source": [
    "# Poisson Regression"
   ]
  },
  {
   "cell_type": "markdown",
   "metadata": {},
   "source": [
    "Poisson regression is intended for use in regression models that are used to predict numeric values, typically counts. Therefore, we can use this module to create a regression model only if the values you are trying to predict fit the following conditions:\n",
    "\n",
    "    - The response variable has a Poisson distribution.\n",
    "\n",
    "    - Counts cannot be negative. The method will fail outright if you attempt to use it with negative labels.\n",
    "\n",
    "    - A Poisson distribution is a discrete distribution; therefore, it is not meaningful to use this method with non-whole numbers.\n",
    "\n"
   ]
  },
  {
   "cell_type": "markdown",
   "metadata": {},
   "source": [
    "# Ordinal Regression"
   ]
  },
  {
   "cell_type": "markdown",
   "metadata": {},
   "source": [
    "Ordinal regression is used when the label or target column contains numbers, but the numbers represent a ranking or order rather than a numeric measurement."
   ]
  },
  {
   "cell_type": "markdown",
   "metadata": {},
   "source": [
    "Both Poisson and Ordinal regression requirements do not agree with the nature of our data and features. So, no point of even trying them!"
   ]
  },
  {
   "cell_type": "markdown",
   "metadata": {},
   "source": [
    "# Conclusion"
   ]
  },
  {
   "cell_type": "markdown",
   "metadata": {},
   "source": [
    " In conclusion, based on the following factors:\n",
    " \n",
    "1- The nature of our problem and the target variable (rental price),\n",
    "\n",
    "2- From the previous analysis of the usage of different ML techniques for a regression problem,\n",
    "\n",
    "3- And from the nature of our data set,\n",
    "\n",
    "Those techniques have been selected to be applied on our data in order to predict the rental price: Boosted Decision Tree Regression (XGBoost), Decision Forest Regression, and Artificial Neural Networks.\n",
    "\n"
   ]
  },
  {
   "cell_type": "markdown",
   "metadata": {},
   "source": [
    "Let's start!"
   ]
  },
  {
   "cell_type": "code",
   "execution_count": 1,
   "metadata": {},
   "outputs": [],
   "source": [
    "import pandas as pd \n",
    "import numpy as np\n",
    "import matplotlib.pyplot as plt\n",
    "%matplotlib inline\n",
    "import seaborn as sns\n",
    "from sklearn.metrics import classification_report\n",
    "from sklearn.metrics import roc_auc_score\n",
    "import warnings\n",
    "warnings.filterwarnings('ignore')\n",
    "from pathlib import Path"
   ]
  },
  {
   "cell_type": "code",
   "execution_count": 2,
   "metadata": {},
   "outputs": [],
   "source": [
    "from bnb.data_processing.read import read_csvfile"
   ]
  },
  {
   "cell_type": "code",
   "execution_count": 3,
   "metadata": {},
   "outputs": [
    {
     "data": {
      "text/plain": [
       "WindowsPath('C:/Users/KBrig/AirBnB/data')"
      ]
     },
     "execution_count": 3,
     "metadata": {},
     "output_type": "execute_result"
    }
   ],
   "source": [
    "Data_dir = Path('C:/Users/KBrig/AirBnB/data')\n",
    "Data_dir"
   ]
  },
  {
   "cell_type": "code",
   "execution_count": 4,
   "metadata": {},
   "outputs": [],
   "source": [
    "NewYork_CSV = Data_dir/'NewYorkData_clean.csv'\n",
    "Bangkok_CSV = Data_dir/'BangkokData_clean.csv'\n",
    "Cairo_CSV = Data_dir/'CairoData_clean.csv'"
   ]
  },
  {
   "cell_type": "code",
   "execution_count": 5,
   "metadata": {},
   "outputs": [
    {
     "data": {
      "text/html": [
       "<div>\n",
       "<style scoped>\n",
       "    .dataframe tbody tr th:only-of-type {\n",
       "        vertical-align: middle;\n",
       "    }\n",
       "\n",
       "    .dataframe tbody tr th {\n",
       "        vertical-align: top;\n",
       "    }\n",
       "\n",
       "    .dataframe thead th {\n",
       "        text-align: right;\n",
       "    }\n",
       "</style>\n",
       "<table border=\"1\" class=\"dataframe\">\n",
       "  <thead>\n",
       "    <tr style=\"text-align: right;\">\n",
       "      <th></th>\n",
       "      <th>Accuracy_stars</th>\n",
       "      <th>CheckIn</th>\n",
       "      <th>CheckIn_stars</th>\n",
       "      <th>CheckOut</th>\n",
       "      <th>Cleanliness_stars</th>\n",
       "      <th>Communication_stars</th>\n",
       "      <th>Latitude</th>\n",
       "      <th>Location_stars</th>\n",
       "      <th>Longitude</th>\n",
       "      <th>Price</th>\n",
       "      <th>...</th>\n",
       "      <th>partial_address</th>\n",
       "      <th>Group_ID</th>\n",
       "      <th>AvgPrice_neighborhood</th>\n",
       "      <th>AvgNormPrice_neighborhood</th>\n",
       "      <th>avg_rating_stars</th>\n",
       "      <th>Amenities_length</th>\n",
       "      <th>day_of_month</th>\n",
       "      <th>Year_week</th>\n",
       "      <th>weeks_before_booking</th>\n",
       "      <th>ListingsNo_in_weekth</th>\n",
       "    </tr>\n",
       "  </thead>\n",
       "  <tbody>\n",
       "    <tr>\n",
       "      <th>0</th>\n",
       "      <td>5.0</td>\n",
       "      <td>2019-03-21</td>\n",
       "      <td>5.0</td>\n",
       "      <td>2019-03-26</td>\n",
       "      <td>5.0</td>\n",
       "      <td>5.0</td>\n",
       "      <td>40.73321</td>\n",
       "      <td>5.0</td>\n",
       "      <td>-74.00242</td>\n",
       "      <td>244</td>\n",
       "      <td>...</td>\n",
       "      <td>West Village, Manhattan, Manhattan Community ...</td>\n",
       "      <td>193</td>\n",
       "      <td>242.59375</td>\n",
       "      <td>12</td>\n",
       "      <td>4.916667</td>\n",
       "      <td>28</td>\n",
       "      <td>21</td>\n",
       "      <td>12</td>\n",
       "      <td>2</td>\n",
       "      <td>142</td>\n",
       "    </tr>\n",
       "    <tr>\n",
       "      <th>1</th>\n",
       "      <td>0.0</td>\n",
       "      <td>2019-03-07</td>\n",
       "      <td>0.0</td>\n",
       "      <td>2019-03-12</td>\n",
       "      <td>0.0</td>\n",
       "      <td>0.0</td>\n",
       "      <td>40.73181</td>\n",
       "      <td>0.0</td>\n",
       "      <td>-74.00606</td>\n",
       "      <td>188</td>\n",
       "      <td>...</td>\n",
       "      <td>West Village, Manhattan, Manhattan Community ...</td>\n",
       "      <td>193</td>\n",
       "      <td>242.59375</td>\n",
       "      <td>12</td>\n",
       "      <td>0.000000</td>\n",
       "      <td>10</td>\n",
       "      <td>7</td>\n",
       "      <td>10</td>\n",
       "      <td>0</td>\n",
       "      <td>168</td>\n",
       "    </tr>\n",
       "    <tr>\n",
       "      <th>2</th>\n",
       "      <td>5.0</td>\n",
       "      <td>2019-03-07</td>\n",
       "      <td>5.0</td>\n",
       "      <td>2019-03-12</td>\n",
       "      <td>5.0</td>\n",
       "      <td>5.0</td>\n",
       "      <td>40.82484</td>\n",
       "      <td>5.0</td>\n",
       "      <td>-73.95260</td>\n",
       "      <td>59</td>\n",
       "      <td>...</td>\n",
       "      <td>Hamilton Heights, Manhattan, Manhattan Commun...</td>\n",
       "      <td>74</td>\n",
       "      <td>90.18750</td>\n",
       "      <td>4</td>\n",
       "      <td>5.000000</td>\n",
       "      <td>12</td>\n",
       "      <td>7</td>\n",
       "      <td>10</td>\n",
       "      <td>0</td>\n",
       "      <td>168</td>\n",
       "    </tr>\n",
       "  </tbody>\n",
       "</table>\n",
       "<p>3 rows × 123 columns</p>\n",
       "</div>"
      ],
      "text/plain": [
       "   Accuracy_stars     CheckIn  CheckIn_stars    CheckOut  Cleanliness_stars  \\\n",
       "0             5.0  2019-03-21            5.0  2019-03-26                5.0   \n",
       "1             0.0  2019-03-07            0.0  2019-03-12                0.0   \n",
       "2             5.0  2019-03-07            5.0  2019-03-12                5.0   \n",
       "\n",
       "   Communication_stars  Latitude  Location_stars  Longitude  Price  \\\n",
       "0                  5.0  40.73321             5.0  -74.00242    244   \n",
       "1                  0.0  40.73181             0.0  -74.00606    188   \n",
       "2                  5.0  40.82484             5.0  -73.95260     59   \n",
       "\n",
       "           ...                                             partial_address  \\\n",
       "0          ...            West Village, Manhattan, Manhattan Community ...   \n",
       "1          ...            West Village, Manhattan, Manhattan Community ...   \n",
       "2          ...            Hamilton Heights, Manhattan, Manhattan Commun...   \n",
       "\n",
       "   Group_ID  AvgPrice_neighborhood  AvgNormPrice_neighborhood  \\\n",
       "0       193              242.59375                         12   \n",
       "1       193              242.59375                         12   \n",
       "2        74               90.18750                          4   \n",
       "\n",
       "   avg_rating_stars  Amenities_length  day_of_month  Year_week  \\\n",
       "0          4.916667                28            21         12   \n",
       "1          0.000000                10             7         10   \n",
       "2          5.000000                12             7         10   \n",
       "\n",
       "   weeks_before_booking  ListingsNo_in_weekth  \n",
       "0                     2                   142  \n",
       "1                     0                   168  \n",
       "2                     0                   168  \n",
       "\n",
       "[3 rows x 123 columns]"
      ]
     },
     "execution_count": 5,
     "metadata": {},
     "output_type": "execute_result"
    }
   ],
   "source": [
    "NewYorkData = read_csvfile(NewYork_CSV)\n",
    "NewYorkData.head(3)"
   ]
  },
  {
   "cell_type": "code",
   "execution_count": 6,
   "metadata": {},
   "outputs": [
    {
     "data": {
      "text/html": [
       "<div>\n",
       "<style scoped>\n",
       "    .dataframe tbody tr th:only-of-type {\n",
       "        vertical-align: middle;\n",
       "    }\n",
       "\n",
       "    .dataframe tbody tr th {\n",
       "        vertical-align: top;\n",
       "    }\n",
       "\n",
       "    .dataframe thead th {\n",
       "        text-align: right;\n",
       "    }\n",
       "</style>\n",
       "<table border=\"1\" class=\"dataframe\">\n",
       "  <thead>\n",
       "    <tr style=\"text-align: right;\">\n",
       "      <th></th>\n",
       "      <th>level_0</th>\n",
       "      <th>index</th>\n",
       "      <th>CheckIn</th>\n",
       "      <th>CheckOut</th>\n",
       "      <th>Price</th>\n",
       "      <th>Super_host</th>\n",
       "      <th>Latitude</th>\n",
       "      <th>Longitude</th>\n",
       "      <th>Accuracy_stars</th>\n",
       "      <th>Communication_stars</th>\n",
       "      <th>...</th>\n",
       "      <th>Group_ID</th>\n",
       "      <th>home_renting_trend</th>\n",
       "      <th>Super_host_string</th>\n",
       "      <th>avg_rating_stars</th>\n",
       "      <th>price_stars_corr_per_nhood</th>\n",
       "      <th>Amenities_length</th>\n",
       "      <th>day_of_month</th>\n",
       "      <th>Year_week</th>\n",
       "      <th>weeks_before_booking</th>\n",
       "      <th>ListingsNo_in_weekth</th>\n",
       "    </tr>\n",
       "  </thead>\n",
       "  <tbody>\n",
       "    <tr>\n",
       "      <th>0</th>\n",
       "      <td>3742</td>\n",
       "      <td>3742</td>\n",
       "      <td>2019-08-27</td>\n",
       "      <td>2019-09-01</td>\n",
       "      <td>52</td>\n",
       "      <td>1</td>\n",
       "      <td>13.74306</td>\n",
       "      <td>100.55585</td>\n",
       "      <td>5.0</td>\n",
       "      <td>5.0</td>\n",
       "      <td>...</td>\n",
       "      <td>39</td>\n",
       "      <td>up-down</td>\n",
       "      <td>Super</td>\n",
       "      <td>5.0</td>\n",
       "      <td>0.078627</td>\n",
       "      <td>25</td>\n",
       "      <td>27</td>\n",
       "      <td>35</td>\n",
       "      <td>24</td>\n",
       "      <td>301</td>\n",
       "    </tr>\n",
       "    <tr>\n",
       "      <th>1</th>\n",
       "      <td>2626</td>\n",
       "      <td>2626</td>\n",
       "      <td>2019-07-02</td>\n",
       "      <td>2019-07-07</td>\n",
       "      <td>67</td>\n",
       "      <td>0</td>\n",
       "      <td>13.74169</td>\n",
       "      <td>100.55655</td>\n",
       "      <td>5.0</td>\n",
       "      <td>5.0</td>\n",
       "      <td>...</td>\n",
       "      <td>58</td>\n",
       "      <td>no change</td>\n",
       "      <td>not</td>\n",
       "      <td>5.0</td>\n",
       "      <td>0.133509</td>\n",
       "      <td>22</td>\n",
       "      <td>2</td>\n",
       "      <td>27</td>\n",
       "      <td>16</td>\n",
       "      <td>304</td>\n",
       "    </tr>\n",
       "    <tr>\n",
       "      <th>2</th>\n",
       "      <td>2859</td>\n",
       "      <td>2859</td>\n",
       "      <td>2019-07-16</td>\n",
       "      <td>2019-07-21</td>\n",
       "      <td>67</td>\n",
       "      <td>0</td>\n",
       "      <td>13.74169</td>\n",
       "      <td>100.55655</td>\n",
       "      <td>5.0</td>\n",
       "      <td>5.0</td>\n",
       "      <td>...</td>\n",
       "      <td>8</td>\n",
       "      <td>no change</td>\n",
       "      <td>not</td>\n",
       "      <td>5.0</td>\n",
       "      <td>-0.227533</td>\n",
       "      <td>26</td>\n",
       "      <td>16</td>\n",
       "      <td>29</td>\n",
       "      <td>18</td>\n",
       "      <td>304</td>\n",
       "    </tr>\n",
       "  </tbody>\n",
       "</table>\n",
       "<p>3 rows × 126 columns</p>\n",
       "</div>"
      ],
      "text/plain": [
       "   level_0  index     CheckIn    CheckOut  Price  Super_host  Latitude  \\\n",
       "0     3742   3742  2019-08-27  2019-09-01     52           1  13.74306   \n",
       "1     2626   2626  2019-07-02  2019-07-07     67           0  13.74169   \n",
       "2     2859   2859  2019-07-16  2019-07-21     67           0  13.74169   \n",
       "\n",
       "   Longitude  Accuracy_stars  Communication_stars          ...           \\\n",
       "0  100.55585             5.0                  5.0          ...            \n",
       "1  100.55655             5.0                  5.0          ...            \n",
       "2  100.55655             5.0                  5.0          ...            \n",
       "\n",
       "   Group_ID  home_renting_trend  Super_host_string  avg_rating_stars  \\\n",
       "0        39             up-down              Super               5.0   \n",
       "1        58           no change                not               5.0   \n",
       "2         8           no change                not               5.0   \n",
       "\n",
       "   price_stars_corr_per_nhood  Amenities_length  day_of_month  Year_week  \\\n",
       "0                    0.078627                25            27         35   \n",
       "1                    0.133509                22             2         27   \n",
       "2                   -0.227533                26            16         29   \n",
       "\n",
       "   weeks_before_booking  ListingsNo_in_weekth  \n",
       "0                    24                   301  \n",
       "1                    16                   304  \n",
       "2                    18                   304  \n",
       "\n",
       "[3 rows x 126 columns]"
      ]
     },
     "execution_count": 6,
     "metadata": {},
     "output_type": "execute_result"
    }
   ],
   "source": [
    "BangkokData = read_csvfile(Bangkok_CSV)\n",
    "BangkokData.head(3)"
   ]
  },
  {
   "cell_type": "code",
   "execution_count": 7,
   "metadata": {},
   "outputs": [
    {
     "data": {
      "text/html": [
       "<div>\n",
       "<style scoped>\n",
       "    .dataframe tbody tr th:only-of-type {\n",
       "        vertical-align: middle;\n",
       "    }\n",
       "\n",
       "    .dataframe tbody tr th {\n",
       "        vertical-align: top;\n",
       "    }\n",
       "\n",
       "    .dataframe thead th {\n",
       "        text-align: right;\n",
       "    }\n",
       "</style>\n",
       "<table border=\"1\" class=\"dataframe\">\n",
       "  <thead>\n",
       "    <tr style=\"text-align: right;\">\n",
       "      <th></th>\n",
       "      <th>index</th>\n",
       "      <th>CheckIn</th>\n",
       "      <th>CheckOut</th>\n",
       "      <th>Price</th>\n",
       "      <th>Super_host</th>\n",
       "      <th>Latitude</th>\n",
       "      <th>Longitude</th>\n",
       "      <th>Accuracy_stars</th>\n",
       "      <th>Communication_stars</th>\n",
       "      <th>Cleanliness_stars</th>\n",
       "      <th>...</th>\n",
       "      <th>Group_ID</th>\n",
       "      <th>avg_rating_stars</th>\n",
       "      <th>price_stars_corr_per_nhood</th>\n",
       "      <th>price_stars_corr_Zvalue</th>\n",
       "      <th>avg_price_stars_corr</th>\n",
       "      <th>Amenities_length</th>\n",
       "      <th>day_of_month</th>\n",
       "      <th>Year_week</th>\n",
       "      <th>weeks_before_booking</th>\n",
       "      <th>ListingsNo_in_weekth</th>\n",
       "    </tr>\n",
       "  </thead>\n",
       "  <tbody>\n",
       "    <tr>\n",
       "      <th>0</th>\n",
       "      <td>3201</td>\n",
       "      <td>2019-08-01</td>\n",
       "      <td>2019-08-06</td>\n",
       "      <td>39</td>\n",
       "      <td>1</td>\n",
       "      <td>30.05867</td>\n",
       "      <td>31.44884</td>\n",
       "      <td>0.0</td>\n",
       "      <td>0.0</td>\n",
       "      <td>0.0</td>\n",
       "      <td>...</td>\n",
       "      <td>81</td>\n",
       "      <td>0.000000</td>\n",
       "      <td>-0.015865</td>\n",
       "      <td>-0.015867</td>\n",
       "      <td>-0.015865</td>\n",
       "      <td>23</td>\n",
       "      <td>1</td>\n",
       "      <td>31</td>\n",
       "      <td>20</td>\n",
       "      <td>304</td>\n",
       "    </tr>\n",
       "    <tr>\n",
       "      <th>1</th>\n",
       "      <td>908</td>\n",
       "      <td>2019-04-11</td>\n",
       "      <td>2019-04-16</td>\n",
       "      <td>27</td>\n",
       "      <td>0</td>\n",
       "      <td>29.96925</td>\n",
       "      <td>31.26652</td>\n",
       "      <td>0.0</td>\n",
       "      <td>0.0</td>\n",
       "      <td>0.0</td>\n",
       "      <td>...</td>\n",
       "      <td>21</td>\n",
       "      <td>0.000000</td>\n",
       "      <td>0.045170</td>\n",
       "      <td>0.045200</td>\n",
       "      <td>0.045170</td>\n",
       "      <td>24</td>\n",
       "      <td>11</td>\n",
       "      <td>15</td>\n",
       "      <td>4</td>\n",
       "      <td>305</td>\n",
       "    </tr>\n",
       "    <tr>\n",
       "      <th>2</th>\n",
       "      <td>4605</td>\n",
       "      <td>2019-10-10</td>\n",
       "      <td>2019-10-15</td>\n",
       "      <td>51</td>\n",
       "      <td>1</td>\n",
       "      <td>29.95475</td>\n",
       "      <td>31.26336</td>\n",
       "      <td>4.0</td>\n",
       "      <td>4.5</td>\n",
       "      <td>4.5</td>\n",
       "      <td>...</td>\n",
       "      <td>81</td>\n",
       "      <td>4.416667</td>\n",
       "      <td>-0.015865</td>\n",
       "      <td>-0.015867</td>\n",
       "      <td>-0.015865</td>\n",
       "      <td>26</td>\n",
       "      <td>10</td>\n",
       "      <td>41</td>\n",
       "      <td>30</td>\n",
       "      <td>302</td>\n",
       "    </tr>\n",
       "  </tbody>\n",
       "</table>\n",
       "<p>3 rows × 126 columns</p>\n",
       "</div>"
      ],
      "text/plain": [
       "   index     CheckIn    CheckOut  Price  Super_host  Latitude  Longitude  \\\n",
       "0   3201  2019-08-01  2019-08-06     39           1  30.05867   31.44884   \n",
       "1    908  2019-04-11  2019-04-16     27           0  29.96925   31.26652   \n",
       "2   4605  2019-10-10  2019-10-15     51           1  29.95475   31.26336   \n",
       "\n",
       "   Accuracy_stars  Communication_stars  Cleanliness_stars  \\\n",
       "0             0.0                  0.0                0.0   \n",
       "1             0.0                  0.0                0.0   \n",
       "2             4.0                  4.5                4.5   \n",
       "\n",
       "           ...           Group_ID  avg_rating_stars  \\\n",
       "0          ...                 81          0.000000   \n",
       "1          ...                 21          0.000000   \n",
       "2          ...                 81          4.416667   \n",
       "\n",
       "   price_stars_corr_per_nhood  price_stars_corr_Zvalue  avg_price_stars_corr  \\\n",
       "0                   -0.015865                -0.015867             -0.015865   \n",
       "1                    0.045170                 0.045200              0.045170   \n",
       "2                   -0.015865                -0.015867             -0.015865   \n",
       "\n",
       "   Amenities_length  day_of_month  Year_week  weeks_before_booking  \\\n",
       "0                23             1         31                    20   \n",
       "1                24            11         15                     4   \n",
       "2                26            10         41                    30   \n",
       "\n",
       "   ListingsNo_in_weekth  \n",
       "0                   304  \n",
       "1                   305  \n",
       "2                   302  \n",
       "\n",
       "[3 rows x 126 columns]"
      ]
     },
     "execution_count": 7,
     "metadata": {},
     "output_type": "execute_result"
    }
   ],
   "source": [
    "CairoData = read_csvfile(Cairo_CSV)\n",
    "CairoData.head(3)"
   ]
  },
  {
   "cell_type": "markdown",
   "metadata": {},
   "source": [
    "### Choose only the features of interest as selected in the previous step of feature selection!"
   ]
  },
  {
   "cell_type": "markdown",
   "metadata": {},
   "source": [
    "Number of weeks till booking\n",
    "\n",
    "The week of the year\n",
    "\n",
    "The number of listings available in every week of the year\n",
    "\n",
    "Latitude\n",
    "\n",
    "Longitude\n",
    "\n",
    "Neighborhood_ID\n",
    "\n",
    "No. of Bathrooms\n",
    "\n",
    "No. of Bedrooms\n",
    "\n",
    "No. of Beds\n",
    "\n",
    "Shared_bathroom\n",
    "\n",
    "Shared_bedroom\n",
    "\n",
    "No. of Amenities\n",
    "\n",
    "No. of Reviewers\n",
    "\n",
    "Avg. number of review stars\n",
    "\n",
    "Super host\n"
   ]
  },
  {
   "cell_type": "code",
   "execution_count": 8,
   "metadata": {},
   "outputs": [],
   "source": [
    "Selected_list = ['Latitude','Longitude','ListingsNo_in_weekth','weeks_before_booking','Year_week','Bathrooms_num_int','Bedrooms_int','Beds_int','shared_bathroom','shared_room','Reviewers_no','Group_ID','avg_rating_stars','Amenities_length','Super_host']"
   ]
  },
  {
   "cell_type": "markdown",
   "metadata": {},
   "source": [
    "## New York"
   ]
  },
  {
   "cell_type": "code",
   "execution_count": 9,
   "metadata": {},
   "outputs": [],
   "source": [
    "NY_X = NewYorkData[Selected_list]\n",
    "NY_Y = NewYorkData['Price']"
   ]
  },
  {
   "cell_type": "markdown",
   "metadata": {},
   "source": [
    "## Data Splitting"
   ]
  },
  {
   "cell_type": "code",
   "execution_count": 10,
   "metadata": {},
   "outputs": [],
   "source": [
    "from sklearn.model_selection import train_test_split"
   ]
  },
  {
   "cell_type": "code",
   "execution_count": 11,
   "metadata": {},
   "outputs": [],
   "source": [
    "X_train1, X_test1, y_train1, y_test1 = train_test_split(NY_X,NY_Y,test_size=0.3, random_state=5)"
   ]
  },
  {
   "cell_type": "code",
   "execution_count": 12,
   "metadata": {},
   "outputs": [
    {
     "data": {
      "text/html": [
       "<div>\n",
       "<style scoped>\n",
       "    .dataframe tbody tr th:only-of-type {\n",
       "        vertical-align: middle;\n",
       "    }\n",
       "\n",
       "    .dataframe tbody tr th {\n",
       "        vertical-align: top;\n",
       "    }\n",
       "\n",
       "    .dataframe thead th {\n",
       "        text-align: right;\n",
       "    }\n",
       "</style>\n",
       "<table border=\"1\" class=\"dataframe\">\n",
       "  <thead>\n",
       "    <tr style=\"text-align: right;\">\n",
       "      <th></th>\n",
       "      <th>Latitude</th>\n",
       "      <th>Longitude</th>\n",
       "      <th>ListingsNo_in_weekth</th>\n",
       "      <th>weeks_before_booking</th>\n",
       "      <th>Year_week</th>\n",
       "      <th>Bathrooms_num_int</th>\n",
       "      <th>Bedrooms_int</th>\n",
       "      <th>Beds_int</th>\n",
       "      <th>shared_bathroom</th>\n",
       "      <th>shared_room</th>\n",
       "      <th>Reviewers_no</th>\n",
       "      <th>Group_ID</th>\n",
       "      <th>avg_rating_stars</th>\n",
       "      <th>Amenities_length</th>\n",
       "      <th>Super_host</th>\n",
       "    </tr>\n",
       "  </thead>\n",
       "  <tbody>\n",
       "    <tr>\n",
       "      <th>487</th>\n",
       "      <td>40.73657</td>\n",
       "      <td>-73.91975</td>\n",
       "      <td>144</td>\n",
       "      <td>42</td>\n",
       "      <td>52</td>\n",
       "      <td>1.0</td>\n",
       "      <td>1.0</td>\n",
       "      <td>1</td>\n",
       "      <td>0</td>\n",
       "      <td>2</td>\n",
       "      <td>6</td>\n",
       "      <td>169</td>\n",
       "      <td>4.916667</td>\n",
       "      <td>9</td>\n",
       "      <td>0</td>\n",
       "    </tr>\n",
       "    <tr>\n",
       "      <th>248</th>\n",
       "      <td>40.71304</td>\n",
       "      <td>-73.96238</td>\n",
       "      <td>149</td>\n",
       "      <td>4</td>\n",
       "      <td>14</td>\n",
       "      <td>1.0</td>\n",
       "      <td>1.0</td>\n",
       "      <td>1</td>\n",
       "      <td>1</td>\n",
       "      <td>2</td>\n",
       "      <td>25</td>\n",
       "      <td>196</td>\n",
       "      <td>5.000000</td>\n",
       "      <td>1</td>\n",
       "      <td>1</td>\n",
       "    </tr>\n",
       "    <tr>\n",
       "      <th>1132</th>\n",
       "      <td>40.76087</td>\n",
       "      <td>-73.88375</td>\n",
       "      <td>135</td>\n",
       "      <td>8</td>\n",
       "      <td>18</td>\n",
       "      <td>1.0</td>\n",
       "      <td>1.0</td>\n",
       "      <td>2</td>\n",
       "      <td>1</td>\n",
       "      <td>2</td>\n",
       "      <td>17</td>\n",
       "      <td>155</td>\n",
       "      <td>4.916667</td>\n",
       "      <td>16</td>\n",
       "      <td>1</td>\n",
       "    </tr>\n",
       "    <tr>\n",
       "      <th>293</th>\n",
       "      <td>40.71090</td>\n",
       "      <td>-73.96478</td>\n",
       "      <td>168</td>\n",
       "      <td>0</td>\n",
       "      <td>10</td>\n",
       "      <td>2.0</td>\n",
       "      <td>1.0</td>\n",
       "      <td>2</td>\n",
       "      <td>1</td>\n",
       "      <td>2</td>\n",
       "      <td>20</td>\n",
       "      <td>196</td>\n",
       "      <td>4.416667</td>\n",
       "      <td>15</td>\n",
       "      <td>0</td>\n",
       "    </tr>\n",
       "    <tr>\n",
       "      <th>959</th>\n",
       "      <td>40.74158</td>\n",
       "      <td>-73.98593</td>\n",
       "      <td>151</td>\n",
       "      <td>28</td>\n",
       "      <td>38</td>\n",
       "      <td>1.0</td>\n",
       "      <td>1.0</td>\n",
       "      <td>1</td>\n",
       "      <td>0</td>\n",
       "      <td>0</td>\n",
       "      <td>-1</td>\n",
       "      <td>58</td>\n",
       "      <td>0.000000</td>\n",
       "      <td>35</td>\n",
       "      <td>0</td>\n",
       "    </tr>\n",
       "  </tbody>\n",
       "</table>\n",
       "</div>"
      ],
      "text/plain": [
       "      Latitude  Longitude  ListingsNo_in_weekth  weeks_before_booking  \\\n",
       "487   40.73657  -73.91975                   144                    42   \n",
       "248   40.71304  -73.96238                   149                     4   \n",
       "1132  40.76087  -73.88375                   135                     8   \n",
       "293   40.71090  -73.96478                   168                     0   \n",
       "959   40.74158  -73.98593                   151                    28   \n",
       "\n",
       "      Year_week  Bathrooms_num_int  Bedrooms_int  Beds_int  shared_bathroom  \\\n",
       "487          52                1.0           1.0         1                0   \n",
       "248          14                1.0           1.0         1                1   \n",
       "1132         18                1.0           1.0         2                1   \n",
       "293          10                2.0           1.0         2                1   \n",
       "959          38                1.0           1.0         1                0   \n",
       "\n",
       "      shared_room  Reviewers_no  Group_ID  avg_rating_stars  Amenities_length  \\\n",
       "487             2             6       169          4.916667                 9   \n",
       "248             2            25       196          5.000000                 1   \n",
       "1132            2            17       155          4.916667                16   \n",
       "293             2            20       196          4.416667                15   \n",
       "959             0            -1        58          0.000000                35   \n",
       "\n",
       "      Super_host  \n",
       "487            0  \n",
       "248            1  \n",
       "1132           1  \n",
       "293            0  \n",
       "959            0  "
      ]
     },
     "execution_count": 12,
     "metadata": {},
     "output_type": "execute_result"
    }
   ],
   "source": [
    "X_train1.head()"
   ]
  },
  {
   "cell_type": "code",
   "execution_count": 13,
   "metadata": {},
   "outputs": [
    {
     "name": "stdout",
     "output_type": "stream",
     "text": [
      "(2769, 15)\n",
      "(1188, 15)\n",
      "(2769,)\n",
      "(1188,)\n"
     ]
    }
   ],
   "source": [
    "print(X_train1.shape)\n",
    "print(X_test1.shape)\n",
    "print(y_train1.shape)\n",
    "print(y_test1.shape)"
   ]
  },
  {
   "cell_type": "markdown",
   "metadata": {},
   "source": [
    "### Random Forest Regression (RF)"
   ]
  },
  {
   "cell_type": "code",
   "execution_count": 109,
   "metadata": {},
   "outputs": [
    {
     "data": {
      "text/plain": [
       "RandomForestRegressor(bootstrap=True, criterion='mse', max_depth=None,\n",
       "           max_features='auto', max_leaf_nodes=None,\n",
       "           min_impurity_decrease=0.0, min_impurity_split=None,\n",
       "           min_samples_leaf=1, min_samples_split=2,\n",
       "           min_weight_fraction_leaf=0.0, n_estimators=400, n_jobs=None,\n",
       "           oob_score=False, random_state=9, verbose=0, warm_start=False)"
      ]
     },
     "execution_count": 109,
     "metadata": {},
     "output_type": "execute_result"
    }
   ],
   "source": [
    "from sklearn.ensemble.forest import RandomForestRegressor\n",
    "rf_regressor = RandomForestRegressor(n_estimators=400, criterion='mse', random_state=9)\n",
    "rf_regressor.fit(X_train1, y_train1)"
   ]
  },
  {
   "cell_type": "code",
   "execution_count": 110,
   "metadata": {},
   "outputs": [],
   "source": [
    "y_pred1_RF = rf_regressor.predict(X_test1)"
   ]
  },
  {
   "cell_type": "code",
   "execution_count": 111,
   "metadata": {},
   "outputs": [
    {
     "data": {
      "text/plain": [
       "Text(0.5, 1.0, 'Evaluation of Random Forest Predictions')"
      ]
     },
     "execution_count": 111,
     "metadata": {},
     "output_type": "execute_result"
    },
    {
     "data": {
      "image/png": "[encoded data removed]",
      "text/plain": [
       "<Figure size 432x288 with 1 Axes>"
      ]
     },
     "metadata": {
      "needs_background": "light"
     },
     "output_type": "display_data"
    }
   ],
   "source": [
    "# let's evaluate our predictions respect to the original price\n",
    "plt.scatter(y_test1, y_pred1_RF)\n",
    "plt.xlabel('True Price')\n",
    "plt.ylabel('Predicted Price')\n",
    "plt.title('Evaluation of Random Forest Predictions')"
   ]
  },
  {
   "cell_type": "markdown",
   "metadata": {},
   "source": [
    "As we can see that the previous plot shows a linear relationship between the predicted and the actual values of the listings' prices. "
   ]
  },
  {
   "cell_type": "code",
   "execution_count": 17,
   "metadata": {},
   "outputs": [],
   "source": [
    "from sklearn import metrics\n",
    "MAE_RF = metrics.mean_absolute_error(y_test1, y_pred1_RF)\n",
    "MSE_RF = metrics.mean_squared_error(y_test1, y_pred1_RF)\n",
    "RMSE_RF = np.sqrt(metrics.mean_squared_error(y_test1, y_pred1_RF))"
   ]
  },
  {
   "cell_type": "code",
   "execution_count": 18,
   "metadata": {},
   "outputs": [
    {
     "name": "stdout",
     "output_type": "stream",
     "text": [
      "Mean Absolute Error: 20.200545033670032\n",
      "Mean Squared Error: 1015.8249326651935\n",
      "Root Mean Squared Error: 31.872008607321778\n"
     ]
    }
   ],
   "source": [
    "print('Mean Absolute Error:',MAE_RF)  \n",
    "print('Mean Squared Error:',MSE_RF)  \n",
    "print('Root Mean Squared Error:',RMSE_RF)  "
   ]
  },
  {
   "cell_type": "code",
   "execution_count": 19,
   "metadata": {},
   "outputs": [
    {
     "data": {
      "text/plain": [
       "<matplotlib.axes._subplots.AxesSubplot at 0x1e2ed414710>"
      ]
     },
     "execution_count": 19,
     "metadata": {},
     "output_type": "execute_result"
    },
    {
     "data": {
      "image/png": "[encoded data removed]",
      "text/plain": [
       "<Figure size 432x288 with 1 Axes>"
      ]
     },
     "metadata": {
      "needs_background": "light"
     },
     "output_type": "display_data"
    }
   ],
   "source": [
    "# let's evaluate the distribution of the errors: \n",
    "# they should be fairly normally distributed\n",
    "\n",
    "errors = y_test1 - y_pred1_RF\n",
    "errors.hist(bins=15)"
   ]
  },
  {
   "cell_type": "markdown",
   "metadata": {},
   "source": [
    "The distribution of the errors follows quite closely a gaussian distribution. That suggests that our model is doing a good job as well."
   ]
  },
  {
   "cell_type": "code",
   "execution_count": 114,
   "metadata": {},
   "outputs": [],
   "source": [
    "d = {'y':y_test1, 'y^':y_pred1_RF,'|Error|':abs(y_test1 - y_pred1_RF),'value_index': y_test1.index}\n",
    "E = pd.DataFrame(data=d)"
   ]
  },
  {
   "cell_type": "code",
   "execution_count": 121,
   "metadata": {},
   "outputs": [],
   "source": [
    "E = E.join(X_test1)"
   ]
  },
  {
   "cell_type": "code",
   "execution_count": 123,
   "metadata": {},
   "outputs": [],
   "source": [
    "E = E.sort_values('|Error|')"
   ]
  },
  {
   "cell_type": "markdown",
   "metadata": {},
   "source": [
    "The best 10 predictions are:"
   ]
  },
  {
   "cell_type": "code",
   "execution_count": 125,
   "metadata": {},
   "outputs": [
    {
     "data": {
      "text/html": [
       "<div>\n",
       "<style scoped>\n",
       "    .dataframe tbody tr th:only-of-type {\n",
       "        vertical-align: middle;\n",
       "    }\n",
       "\n",
       "    .dataframe tbody tr th {\n",
       "        vertical-align: top;\n",
       "    }\n",
       "\n",
       "    .dataframe thead th {\n",
       "        text-align: right;\n",
       "    }\n",
       "</style>\n",
       "<table border=\"1\" class=\"dataframe\">\n",
       "  <thead>\n",
       "    <tr style=\"text-align: right;\">\n",
       "      <th></th>\n",
       "      <th>y</th>\n",
       "      <th>y^</th>\n",
       "      <th>|Error|</th>\n",
       "      <th>value_index</th>\n",
       "      <th>Latitude</th>\n",
       "      <th>Longitude</th>\n",
       "      <th>ListingsNo_in_weekth</th>\n",
       "      <th>weeks_before_booking</th>\n",
       "      <th>Year_week</th>\n",
       "      <th>Bathrooms_num_int</th>\n",
       "      <th>Bedrooms_int</th>\n",
       "      <th>Beds_int</th>\n",
       "      <th>shared_bathroom</th>\n",
       "      <th>shared_room</th>\n",
       "      <th>Reviewers_no</th>\n",
       "      <th>Group_ID</th>\n",
       "      <th>avg_rating_stars</th>\n",
       "      <th>Amenities_length</th>\n",
       "      <th>Super_host</th>\n",
       "    </tr>\n",
       "  </thead>\n",
       "  <tbody>\n",
       "    <tr>\n",
       "      <th>2796</th>\n",
       "      <td>114</td>\n",
       "      <td>113.9950</td>\n",
       "      <td>0.0050</td>\n",
       "      <td>2796</td>\n",
       "      <td>40.80681</td>\n",
       "      <td>-73.95119</td>\n",
       "      <td>147</td>\n",
       "      <td>22</td>\n",
       "      <td>32</td>\n",
       "      <td>1.0</td>\n",
       "      <td>1.0</td>\n",
       "      <td>1</td>\n",
       "      <td>0</td>\n",
       "      <td>2</td>\n",
       "      <td>34</td>\n",
       "      <td>231</td>\n",
       "      <td>5.000000</td>\n",
       "      <td>20</td>\n",
       "      <td>1</td>\n",
       "    </tr>\n",
       "    <tr>\n",
       "      <th>842</th>\n",
       "      <td>112</td>\n",
       "      <td>111.9925</td>\n",
       "      <td>0.0075</td>\n",
       "      <td>842</td>\n",
       "      <td>40.78806</td>\n",
       "      <td>-73.95398</td>\n",
       "      <td>151</td>\n",
       "      <td>28</td>\n",
       "      <td>38</td>\n",
       "      <td>1.0</td>\n",
       "      <td>1.0</td>\n",
       "      <td>1</td>\n",
       "      <td>1</td>\n",
       "      <td>2</td>\n",
       "      <td>3</td>\n",
       "      <td>44</td>\n",
       "      <td>5.000000</td>\n",
       "      <td>33</td>\n",
       "      <td>0</td>\n",
       "    </tr>\n",
       "    <tr>\n",
       "      <th>356</th>\n",
       "      <td>128</td>\n",
       "      <td>127.9800</td>\n",
       "      <td>0.0200</td>\n",
       "      <td>356</td>\n",
       "      <td>40.73362</td>\n",
       "      <td>-73.98920</td>\n",
       "      <td>149</td>\n",
       "      <td>4</td>\n",
       "      <td>14</td>\n",
       "      <td>1.0</td>\n",
       "      <td>1.0</td>\n",
       "      <td>1</td>\n",
       "      <td>1</td>\n",
       "      <td>2</td>\n",
       "      <td>242</td>\n",
       "      <td>223</td>\n",
       "      <td>4.833333</td>\n",
       "      <td>17</td>\n",
       "      <td>0</td>\n",
       "    </tr>\n",
       "    <tr>\n",
       "      <th>194</th>\n",
       "      <td>86</td>\n",
       "      <td>85.9650</td>\n",
       "      <td>0.0350</td>\n",
       "      <td>194</td>\n",
       "      <td>40.72427</td>\n",
       "      <td>-73.94310</td>\n",
       "      <td>149</td>\n",
       "      <td>4</td>\n",
       "      <td>14</td>\n",
       "      <td>1.0</td>\n",
       "      <td>1.0</td>\n",
       "      <td>1</td>\n",
       "      <td>1</td>\n",
       "      <td>2</td>\n",
       "      <td>5</td>\n",
       "      <td>72</td>\n",
       "      <td>4.916667</td>\n",
       "      <td>31</td>\n",
       "      <td>0</td>\n",
       "    </tr>\n",
       "    <tr>\n",
       "      <th>2782</th>\n",
       "      <td>53</td>\n",
       "      <td>52.9550</td>\n",
       "      <td>0.0450</td>\n",
       "      <td>2782</td>\n",
       "      <td>40.64029</td>\n",
       "      <td>-73.97265</td>\n",
       "      <td>152</td>\n",
       "      <td>48</td>\n",
       "      <td>6</td>\n",
       "      <td>1.0</td>\n",
       "      <td>1.0</td>\n",
       "      <td>1</td>\n",
       "      <td>1</td>\n",
       "      <td>2</td>\n",
       "      <td>11</td>\n",
       "      <td>90</td>\n",
       "      <td>5.000000</td>\n",
       "      <td>24</td>\n",
       "      <td>0</td>\n",
       "    </tr>\n",
       "    <tr>\n",
       "      <th>1745</th>\n",
       "      <td>198</td>\n",
       "      <td>197.9350</td>\n",
       "      <td>0.0650</td>\n",
       "      <td>1745</td>\n",
       "      <td>40.74138</td>\n",
       "      <td>-74.00197</td>\n",
       "      <td>147</td>\n",
       "      <td>22</td>\n",
       "      <td>32</td>\n",
       "      <td>2.5</td>\n",
       "      <td>1.0</td>\n",
       "      <td>1</td>\n",
       "      <td>0</td>\n",
       "      <td>2</td>\n",
       "      <td>160</td>\n",
       "      <td>66</td>\n",
       "      <td>5.000000</td>\n",
       "      <td>21</td>\n",
       "      <td>1</td>\n",
       "    </tr>\n",
       "    <tr>\n",
       "      <th>704</th>\n",
       "      <td>199</td>\n",
       "      <td>199.0725</td>\n",
       "      <td>0.0725</td>\n",
       "      <td>704</td>\n",
       "      <td>40.73083</td>\n",
       "      <td>-74.00060</td>\n",
       "      <td>163</td>\n",
       "      <td>46</td>\n",
       "      <td>4</td>\n",
       "      <td>1.0</td>\n",
       "      <td>1.0</td>\n",
       "      <td>-1</td>\n",
       "      <td>0</td>\n",
       "      <td>0</td>\n",
       "      <td>27</td>\n",
       "      <td>134</td>\n",
       "      <td>4.583333</td>\n",
       "      <td>12</td>\n",
       "      <td>0</td>\n",
       "    </tr>\n",
       "    <tr>\n",
       "      <th>2341</th>\n",
       "      <td>169</td>\n",
       "      <td>169.0825</td>\n",
       "      <td>0.0825</td>\n",
       "      <td>2341</td>\n",
       "      <td>40.67844</td>\n",
       "      <td>-74.01058</td>\n",
       "      <td>152</td>\n",
       "      <td>34</td>\n",
       "      <td>44</td>\n",
       "      <td>1.0</td>\n",
       "      <td>1.0</td>\n",
       "      <td>2</td>\n",
       "      <td>0</td>\n",
       "      <td>0</td>\n",
       "      <td>81</td>\n",
       "      <td>150</td>\n",
       "      <td>5.000000</td>\n",
       "      <td>16</td>\n",
       "      <td>1</td>\n",
       "    </tr>\n",
       "    <tr>\n",
       "      <th>3663</th>\n",
       "      <td>234</td>\n",
       "      <td>233.8900</td>\n",
       "      <td>0.1100</td>\n",
       "      <td>3663</td>\n",
       "      <td>40.71610</td>\n",
       "      <td>-73.95427</td>\n",
       "      <td>166</td>\n",
       "      <td>36</td>\n",
       "      <td>46</td>\n",
       "      <td>1.0</td>\n",
       "      <td>2.0</td>\n",
       "      <td>3</td>\n",
       "      <td>0</td>\n",
       "      <td>0</td>\n",
       "      <td>8</td>\n",
       "      <td>196</td>\n",
       "      <td>5.000000</td>\n",
       "      <td>23</td>\n",
       "      <td>0</td>\n",
       "    </tr>\n",
       "    <tr>\n",
       "      <th>3318</th>\n",
       "      <td>238</td>\n",
       "      <td>238.1200</td>\n",
       "      <td>0.1200</td>\n",
       "      <td>3318</td>\n",
       "      <td>40.76513</td>\n",
       "      <td>-73.96583</td>\n",
       "      <td>159</td>\n",
       "      <td>10</td>\n",
       "      <td>20</td>\n",
       "      <td>1.0</td>\n",
       "      <td>1.5</td>\n",
       "      <td>2</td>\n",
       "      <td>0</td>\n",
       "      <td>0</td>\n",
       "      <td>4</td>\n",
       "      <td>98</td>\n",
       "      <td>4.916667</td>\n",
       "      <td>21</td>\n",
       "      <td>0</td>\n",
       "    </tr>\n",
       "  </tbody>\n",
       "</table>\n",
       "</div>"
      ],
      "text/plain": [
       "        y        y^  |Error|  value_index  Latitude  Longitude  \\\n",
       "2796  114  113.9950   0.0050         2796  40.80681  -73.95119   \n",
       "842   112  111.9925   0.0075          842  40.78806  -73.95398   \n",
       "356   128  127.9800   0.0200          356  40.73362  -73.98920   \n",
       "194    86   85.9650   0.0350          194  40.72427  -73.94310   \n",
       "2782   53   52.9550   0.0450         2782  40.64029  -73.97265   \n",
       "1745  198  197.9350   0.0650         1745  40.74138  -74.00197   \n",
       "704   199  199.0725   0.0725          704  40.73083  -74.00060   \n",
       "2341  169  169.0825   0.0825         2341  40.67844  -74.01058   \n",
       "3663  234  233.8900   0.1100         3663  40.71610  -73.95427   \n",
       "3318  238  238.1200   0.1200         3318  40.76513  -73.96583   \n",
       "\n",
       "      ListingsNo_in_weekth  weeks_before_booking  Year_week  \\\n",
       "2796                   147                    22         32   \n",
       "842                    151                    28         38   \n",
       "356                    149                     4         14   \n",
       "194                    149                     4         14   \n",
       "2782                   152                    48          6   \n",
       "1745                   147                    22         32   \n",
       "704                    163                    46          4   \n",
       "2341                   152                    34         44   \n",
       "3663                   166                    36         46   \n",
       "3318                   159                    10         20   \n",
       "\n",
       "      Bathrooms_num_int  Bedrooms_int  Beds_int  shared_bathroom  shared_room  \\\n",
       "2796                1.0           1.0         1                0            2   \n",
       "842                 1.0           1.0         1                1            2   \n",
       "356                 1.0           1.0         1                1            2   \n",
       "194                 1.0           1.0         1                1            2   \n",
       "2782                1.0           1.0         1                1            2   \n",
       "1745                2.5           1.0         1                0            2   \n",
       "704                 1.0           1.0        -1                0            0   \n",
       "2341                1.0           1.0         2                0            0   \n",
       "3663                1.0           2.0         3                0            0   \n",
       "3318                1.0           1.5         2                0            0   \n",
       "\n",
       "      Reviewers_no  Group_ID  avg_rating_stars  Amenities_length  Super_host  \n",
       "2796            34       231          5.000000                20           1  \n",
       "842              3        44          5.000000                33           0  \n",
       "356            242       223          4.833333                17           0  \n",
       "194              5        72          4.916667                31           0  \n",
       "2782            11        90          5.000000                24           0  \n",
       "1745           160        66          5.000000                21           1  \n",
       "704             27       134          4.583333                12           0  \n",
       "2341            81       150          5.000000                16           1  \n",
       "3663             8       196          5.000000                23           0  \n",
       "3318             4        98          4.916667                21           0  "
      ]
     },
     "execution_count": 125,
     "metadata": {},
     "output_type": "execute_result"
    }
   ],
   "source": [
    "E[0:10]"
   ]
  },
  {
   "cell_type": "markdown",
   "metadata": {},
   "source": [
    "and the worst 10 predictions are:"
   ]
  },
  {
   "cell_type": "code",
   "execution_count": 126,
   "metadata": {},
   "outputs": [
    {
     "data": {
      "text/html": [
       "<div>\n",
       "<style scoped>\n",
       "    .dataframe tbody tr th:only-of-type {\n",
       "        vertical-align: middle;\n",
       "    }\n",
       "\n",
       "    .dataframe tbody tr th {\n",
       "        vertical-align: top;\n",
       "    }\n",
       "\n",
       "    .dataframe thead th {\n",
       "        text-align: right;\n",
       "    }\n",
       "</style>\n",
       "<table border=\"1\" class=\"dataframe\">\n",
       "  <thead>\n",
       "    <tr style=\"text-align: right;\">\n",
       "      <th></th>\n",
       "      <th>y</th>\n",
       "      <th>y^</th>\n",
       "      <th>|Error|</th>\n",
       "      <th>value_index</th>\n",
       "      <th>Latitude</th>\n",
       "      <th>Longitude</th>\n",
       "      <th>ListingsNo_in_weekth</th>\n",
       "      <th>weeks_before_booking</th>\n",
       "      <th>Year_week</th>\n",
       "      <th>Bathrooms_num_int</th>\n",
       "      <th>Bedrooms_int</th>\n",
       "      <th>Beds_int</th>\n",
       "      <th>shared_bathroom</th>\n",
       "      <th>shared_room</th>\n",
       "      <th>Reviewers_no</th>\n",
       "      <th>Group_ID</th>\n",
       "      <th>avg_rating_stars</th>\n",
       "      <th>Amenities_length</th>\n",
       "      <th>Super_host</th>\n",
       "    </tr>\n",
       "  </thead>\n",
       "  <tbody>\n",
       "    <tr>\n",
       "      <th>3692</th>\n",
       "      <td>532</td>\n",
       "      <td>409.0800</td>\n",
       "      <td>122.9200</td>\n",
       "      <td>3692</td>\n",
       "      <td>40.75082</td>\n",
       "      <td>-73.98526</td>\n",
       "      <td>163</td>\n",
       "      <td>50</td>\n",
       "      <td>8</td>\n",
       "      <td>1.5</td>\n",
       "      <td>2.0</td>\n",
       "      <td>3</td>\n",
       "      <td>0</td>\n",
       "      <td>0</td>\n",
       "      <td>88</td>\n",
       "      <td>116</td>\n",
       "      <td>4.750000</td>\n",
       "      <td>24</td>\n",
       "      <td>0</td>\n",
       "    </tr>\n",
       "    <tr>\n",
       "      <th>3579</th>\n",
       "      <td>435</td>\n",
       "      <td>305.7500</td>\n",
       "      <td>129.2500</td>\n",
       "      <td>3579</td>\n",
       "      <td>40.72297</td>\n",
       "      <td>-73.98946</td>\n",
       "      <td>159</td>\n",
       "      <td>10</td>\n",
       "      <td>20</td>\n",
       "      <td>1.0</td>\n",
       "      <td>2.0</td>\n",
       "      <td>0</td>\n",
       "      <td>0</td>\n",
       "      <td>0</td>\n",
       "      <td>31</td>\n",
       "      <td>26</td>\n",
       "      <td>4.750000</td>\n",
       "      <td>15</td>\n",
       "      <td>0</td>\n",
       "    </tr>\n",
       "    <tr>\n",
       "      <th>1302</th>\n",
       "      <td>263</td>\n",
       "      <td>125.2350</td>\n",
       "      <td>137.7650</td>\n",
       "      <td>1302</td>\n",
       "      <td>40.76623</td>\n",
       "      <td>-73.97985</td>\n",
       "      <td>135</td>\n",
       "      <td>8</td>\n",
       "      <td>18</td>\n",
       "      <td>1.0</td>\n",
       "      <td>1.0</td>\n",
       "      <td>1</td>\n",
       "      <td>0</td>\n",
       "      <td>2</td>\n",
       "      <td>-1</td>\n",
       "      <td>34</td>\n",
       "      <td>0.000000</td>\n",
       "      <td>1</td>\n",
       "      <td>0</td>\n",
       "    </tr>\n",
       "    <tr>\n",
       "      <th>3935</th>\n",
       "      <td>658</td>\n",
       "      <td>504.7925</td>\n",
       "      <td>153.2075</td>\n",
       "      <td>3935</td>\n",
       "      <td>40.71860</td>\n",
       "      <td>-73.98671</td>\n",
       "      <td>163</td>\n",
       "      <td>50</td>\n",
       "      <td>8</td>\n",
       "      <td>2.0</td>\n",
       "      <td>4.0</td>\n",
       "      <td>5</td>\n",
       "      <td>0</td>\n",
       "      <td>0</td>\n",
       "      <td>21</td>\n",
       "      <td>104</td>\n",
       "      <td>4.750000</td>\n",
       "      <td>24</td>\n",
       "      <td>1</td>\n",
       "    </tr>\n",
       "    <tr>\n",
       "      <th>3528</th>\n",
       "      <td>598</td>\n",
       "      <td>439.7225</td>\n",
       "      <td>158.2775</td>\n",
       "      <td>3528</td>\n",
       "      <td>40.76303</td>\n",
       "      <td>-73.98154</td>\n",
       "      <td>167</td>\n",
       "      <td>30</td>\n",
       "      <td>40</td>\n",
       "      <td>1.5</td>\n",
       "      <td>2.0</td>\n",
       "      <td>2</td>\n",
       "      <td>0</td>\n",
       "      <td>0</td>\n",
       "      <td>138</td>\n",
       "      <td>39</td>\n",
       "      <td>4.833333</td>\n",
       "      <td>22</td>\n",
       "      <td>1</td>\n",
       "    </tr>\n",
       "    <tr>\n",
       "      <th>3890</th>\n",
       "      <td>572</td>\n",
       "      <td>384.1175</td>\n",
       "      <td>187.8825</td>\n",
       "      <td>3890</td>\n",
       "      <td>40.76495</td>\n",
       "      <td>-73.98774</td>\n",
       "      <td>166</td>\n",
       "      <td>36</td>\n",
       "      <td>46</td>\n",
       "      <td>1.0</td>\n",
       "      <td>3.0</td>\n",
       "      <td>3</td>\n",
       "      <td>0</td>\n",
       "      <td>0</td>\n",
       "      <td>54</td>\n",
       "      <td>34</td>\n",
       "      <td>4.500000</td>\n",
       "      <td>9</td>\n",
       "      <td>0</td>\n",
       "    </tr>\n",
       "    <tr>\n",
       "      <th>3738</th>\n",
       "      <td>262</td>\n",
       "      <td>455.9900</td>\n",
       "      <td>193.9900</td>\n",
       "      <td>3738</td>\n",
       "      <td>40.76597</td>\n",
       "      <td>-73.98379</td>\n",
       "      <td>168</td>\n",
       "      <td>0</td>\n",
       "      <td>10</td>\n",
       "      <td>2.0</td>\n",
       "      <td>2.0</td>\n",
       "      <td>3</td>\n",
       "      <td>0</td>\n",
       "      <td>0</td>\n",
       "      <td>70</td>\n",
       "      <td>174</td>\n",
       "      <td>0.000000</td>\n",
       "      <td>36</td>\n",
       "      <td>1</td>\n",
       "    </tr>\n",
       "    <tr>\n",
       "      <th>3885</th>\n",
       "      <td>634</td>\n",
       "      <td>431.6975</td>\n",
       "      <td>202.3025</td>\n",
       "      <td>3885</td>\n",
       "      <td>40.74309</td>\n",
       "      <td>-73.97723</td>\n",
       "      <td>120</td>\n",
       "      <td>44</td>\n",
       "      <td>2</td>\n",
       "      <td>3.0</td>\n",
       "      <td>3.0</td>\n",
       "      <td>5</td>\n",
       "      <td>0</td>\n",
       "      <td>0</td>\n",
       "      <td>74</td>\n",
       "      <td>95</td>\n",
       "      <td>4.916667</td>\n",
       "      <td>20</td>\n",
       "      <td>1</td>\n",
       "    </tr>\n",
       "    <tr>\n",
       "      <th>3869</th>\n",
       "      <td>638</td>\n",
       "      <td>434.0875</td>\n",
       "      <td>203.9125</td>\n",
       "      <td>3869</td>\n",
       "      <td>40.74309</td>\n",
       "      <td>-73.97723</td>\n",
       "      <td>163</td>\n",
       "      <td>46</td>\n",
       "      <td>4</td>\n",
       "      <td>3.0</td>\n",
       "      <td>3.0</td>\n",
       "      <td>5</td>\n",
       "      <td>0</td>\n",
       "      <td>0</td>\n",
       "      <td>74</td>\n",
       "      <td>95</td>\n",
       "      <td>4.916667</td>\n",
       "      <td>26</td>\n",
       "      <td>1</td>\n",
       "    </tr>\n",
       "    <tr>\n",
       "      <th>3899</th>\n",
       "      <td>638</td>\n",
       "      <td>432.2200</td>\n",
       "      <td>205.7800</td>\n",
       "      <td>3899</td>\n",
       "      <td>40.74309</td>\n",
       "      <td>-73.97723</td>\n",
       "      <td>163</td>\n",
       "      <td>50</td>\n",
       "      <td>8</td>\n",
       "      <td>3.0</td>\n",
       "      <td>3.0</td>\n",
       "      <td>5</td>\n",
       "      <td>0</td>\n",
       "      <td>0</td>\n",
       "      <td>74</td>\n",
       "      <td>95</td>\n",
       "      <td>4.916667</td>\n",
       "      <td>25</td>\n",
       "      <td>1</td>\n",
       "    </tr>\n",
       "  </tbody>\n",
       "</table>\n",
       "</div>"
      ],
      "text/plain": [
       "        y        y^   |Error|  value_index  Latitude  Longitude  \\\n",
       "3692  532  409.0800  122.9200         3692  40.75082  -73.98526   \n",
       "3579  435  305.7500  129.2500         3579  40.72297  -73.98946   \n",
       "1302  263  125.2350  137.7650         1302  40.76623  -73.97985   \n",
       "3935  658  504.7925  153.2075         3935  40.71860  -73.98671   \n",
       "3528  598  439.7225  158.2775         3528  40.76303  -73.98154   \n",
       "3890  572  384.1175  187.8825         3890  40.76495  -73.98774   \n",
       "3738  262  455.9900  193.9900         3738  40.76597  -73.98379   \n",
       "3885  634  431.6975  202.3025         3885  40.74309  -73.97723   \n",
       "3869  638  434.0875  203.9125         3869  40.74309  -73.97723   \n",
       "3899  638  432.2200  205.7800         3899  40.74309  -73.97723   \n",
       "\n",
       "      ListingsNo_in_weekth  weeks_before_booking  Year_week  \\\n",
       "3692                   163                    50          8   \n",
       "3579                   159                    10         20   \n",
       "1302                   135                     8         18   \n",
       "3935                   163                    50          8   \n",
       "3528                   167                    30         40   \n",
       "3890                   166                    36         46   \n",
       "3738                   168                     0         10   \n",
       "3885                   120                    44          2   \n",
       "3869                   163                    46          4   \n",
       "3899                   163                    50          8   \n",
       "\n",
       "      Bathrooms_num_int  Bedrooms_int  Beds_int  shared_bathroom  shared_room  \\\n",
       "3692                1.5           2.0         3                0            0   \n",
       "3579                1.0           2.0         0                0            0   \n",
       "1302                1.0           1.0         1                0            2   \n",
       "3935                2.0           4.0         5                0            0   \n",
       "3528                1.5           2.0         2                0            0   \n",
       "3890                1.0           3.0         3                0            0   \n",
       "3738                2.0           2.0         3                0            0   \n",
       "3885                3.0           3.0         5                0            0   \n",
       "3869                3.0           3.0         5                0            0   \n",
       "3899                3.0           3.0         5                0            0   \n",
       "\n",
       "      Reviewers_no  Group_ID  avg_rating_stars  Amenities_length  Super_host  \n",
       "3692            88       116          4.750000                24           0  \n",
       "3579            31        26          4.750000                15           0  \n",
       "1302            -1        34          0.000000                 1           0  \n",
       "3935            21       104          4.750000                24           1  \n",
       "3528           138        39          4.833333                22           1  \n",
       "3890            54        34          4.500000                 9           0  \n",
       "3738            70       174          0.000000                36           1  \n",
       "3885            74        95          4.916667                20           1  \n",
       "3869            74        95          4.916667                26           1  \n",
       "3899            74        95          4.916667                25           1  "
      ]
     },
     "execution_count": 126,
     "metadata": {},
     "output_type": "execute_result"
    }
   ],
   "source": [
    "E[-10:]"
   ]
  },
  {
   "cell_type": "markdown",
   "metadata": {},
   "source": [
    "### Decision Tree Regression (DT)"
   ]
  },
  {
   "cell_type": "code",
   "execution_count": 101,
   "metadata": {},
   "outputs": [],
   "source": [
    "from sklearn.tree import DecisionTreeRegressor\n",
    "DT_regressor = DecisionTreeRegressor(max_depth=2)"
   ]
  },
  {
   "cell_type": "code",
   "execution_count": 102,
   "metadata": {},
   "outputs": [
    {
     "data": {
      "text/plain": [
       "DecisionTreeRegressor(criterion='mse', max_depth=2, max_features=None,\n",
       "           max_leaf_nodes=None, min_impurity_decrease=0.0,\n",
       "           min_impurity_split=None, min_samples_leaf=1,\n",
       "           min_samples_split=2, min_weight_fraction_leaf=0.0,\n",
       "           presort=False, random_state=None, splitter='best')"
      ]
     },
     "execution_count": 102,
     "metadata": {},
     "output_type": "execute_result"
    }
   ],
   "source": [
    "DT_regressor.fit(X_train1, y_train1)"
   ]
  },
  {
   "cell_type": "code",
   "execution_count": 103,
   "metadata": {},
   "outputs": [],
   "source": [
    "y_pred_DT = DT_regressor.predict(X_test1)"
   ]
  },
  {
   "cell_type": "code",
   "execution_count": 104,
   "metadata": {},
   "outputs": [],
   "source": [
    "MAE_DT = metrics.mean_absolute_error(y_test1, y_pred_DT)\n",
    "MSE_DT = metrics.mean_squared_error(y_test1, y_pred_DT)\n",
    "RMSE_DT = np.sqrt(metrics.mean_squared_error(y_test1, y_pred_DT))"
   ]
  },
  {
   "cell_type": "code",
   "execution_count": 105,
   "metadata": {},
   "outputs": [
    {
     "name": "stdout",
     "output_type": "stream",
     "text": [
      "Mean Absolute Error: 45.680676587357716\n",
      "Mean Squared Error: 3888.132986264667\n",
      "Root Mean Squared Error: 62.35489544746801\n"
     ]
    }
   ],
   "source": [
    "print('Mean Absolute Error:', MAE_DT)  \n",
    "print('Mean Squared Error:',MSE_DT)  \n",
    "print('Root Mean Squared Error:',RMSE_DT) "
   ]
  },
  {
   "cell_type": "markdown",
   "metadata": {},
   "source": [
    "### Boosted Decision Tree Regression (XGBoost)"
   ]
  },
  {
   "cell_type": "code",
   "execution_count": 106,
   "metadata": {},
   "outputs": [
    {
     "data": {
      "text/plain": [
       "XGBRegressor(base_score=0.5, booster='gbtree', colsample_bylevel=1,\n",
       "       colsample_bynode=1, colsample_bytree=1, gamma=0,\n",
       "       importance_type='gain', learning_rate=0.1, max_delta_step=0,\n",
       "       max_depth=3, min_child_weight=1, missing=None, n_estimators=100,\n",
       "       n_jobs=1, nthread=None, objective='reg:squarederror',\n",
       "       random_state=42, reg_alpha=0, reg_lambda=1, scale_pos_weight=1,\n",
       "       seed=None, silent=None, subsample=1, verbosity=1)"
      ]
     },
     "execution_count": 106,
     "metadata": {},
     "output_type": "execute_result"
    }
   ],
   "source": [
    "import xgboost as xgb\n",
    "xgb_model = xgb.XGBRegressor(objective='reg:squarederror', random_state=42)\n",
    "\n",
    "xgb_model.fit(X_train1, y_train1)"
   ]
  },
  {
   "cell_type": "code",
   "execution_count": 107,
   "metadata": {},
   "outputs": [],
   "source": [
    "y_pred_XGB = xgb_model.predict(X_test1)"
   ]
  },
  {
   "cell_type": "code",
   "execution_count": 108,
   "metadata": {},
   "outputs": [],
   "source": [
    "MAE_XGB = metrics.mean_absolute_error(y_test1, y_pred_XGB)\n",
    "MSE_XGB = metrics.mean_squared_error(y_test1, y_pred_XGB)\n",
    "RMSE_XGB = np.sqrt(metrics.mean_squared_error(y_test1, y_pred_XGB))"
   ]
  },
  {
   "cell_type": "code",
   "execution_count": 109,
   "metadata": {},
   "outputs": [
    {
     "name": "stdout",
     "output_type": "stream",
     "text": [
      "Mean Absolute Error: 26.19879113142739\n",
      "Mean Squared Error: 1402.5676271332873\n",
      "Root Mean Squared Error: 37.450869511044566\n"
     ]
    }
   ],
   "source": [
    "print('Mean Absolute Error:', MAE_XGB)\n",
    "print('Mean Squared Error:', MSE_XGB)  \n",
    "print('Root Mean Squared Error:', RMSE_XGB)"
   ]
  },
  {
   "cell_type": "markdown",
   "metadata": {},
   "source": [
    "### Neural Network Regression (NN)"
   ]
  },
  {
   "cell_type": "code",
   "execution_count": 110,
   "metadata": {},
   "outputs": [],
   "source": [
    "from sklearn.neural_network import MLPRegressor\n",
    "NN_regressor = MLPRegressor(activation='relu')"
   ]
  },
  {
   "cell_type": "code",
   "execution_count": 111,
   "metadata": {},
   "outputs": [
    {
     "data": {
      "text/plain": [
       "MLPRegressor(activation='relu', alpha=0.0001, batch_size='auto', beta_1=0.9,\n",
       "       beta_2=0.999, early_stopping=False, epsilon=1e-08,\n",
       "       hidden_layer_sizes=(100,), learning_rate='constant',\n",
       "       learning_rate_init=0.001, max_iter=200, momentum=0.9,\n",
       "       n_iter_no_change=10, nesterovs_momentum=True, power_t=0.5,\n",
       "       random_state=None, shuffle=True, solver='adam', tol=0.0001,\n",
       "       validation_fraction=0.1, verbose=False, warm_start=False)"
      ]
     },
     "execution_count": 111,
     "metadata": {},
     "output_type": "execute_result"
    }
   ],
   "source": [
    "NN_regressor.fit(X_train1, y_train1)"
   ]
  },
  {
   "cell_type": "code",
   "execution_count": 112,
   "metadata": {},
   "outputs": [],
   "source": [
    "y_pred1_NN = NN_regressor.predict(X_test1)"
   ]
  },
  {
   "cell_type": "code",
   "execution_count": 113,
   "metadata": {},
   "outputs": [],
   "source": [
    "MAE_NN = metrics.mean_absolute_error(y_test1, y_pred1_NN)\n",
    "MSE_NN = metrics.mean_squared_error(y_test1, y_pred1_NN)\n",
    "RMSE_NN = np.sqrt(metrics.mean_squared_error(y_test1, y_pred1_NN))"
   ]
  },
  {
   "cell_type": "code",
   "execution_count": 114,
   "metadata": {},
   "outputs": [
    {
     "name": "stdout",
     "output_type": "stream",
     "text": [
      "Mean Absolute Error: 48.13609117276123\n",
      "Mean Squared Error: 4143.477672388898\n",
      "Root Mean Squared Error: 64.36985064755781\n"
     ]
    }
   ],
   "source": [
    "print('Mean Absolute Error:',MAE_NN)\n",
    "print('Mean Squared Error:', MSE_NN)  \n",
    "print('Root Mean Squared Error:', RMSE_NN)"
   ]
  },
  {
   "cell_type": "code",
   "execution_count": 115,
   "metadata": {},
   "outputs": [
    {
     "data": {
      "text/plain": [
       "['RF', 'DT', 'XGboost', 'NN']"
      ]
     },
     "execution_count": 115,
     "metadata": {},
     "output_type": "execute_result"
    }
   ],
   "source": [
    "models= [\"RF\", \"DT\",\"XGboost\",\"NN\"]\n",
    "models"
   ]
  },
  {
   "cell_type": "code",
   "execution_count": 116,
   "metadata": {},
   "outputs": [
    {
     "data": {
      "text/plain": [
       "[20.200545033670032, 45.680676587357716, 26.19879113142739, 48.13609117276123]"
      ]
     },
     "execution_count": 116,
     "metadata": {},
     "output_type": "execute_result"
    }
   ],
   "source": [
    "Mean_Abs_Error =[MAE_RF ,MAE_DT ,MAE_XGB , MAE_NN]\n",
    "Mean_Abs_Error"
   ]
  },
  {
   "cell_type": "code",
   "execution_count": 117,
   "metadata": {},
   "outputs": [
    {
     "data": {
      "text/plain": [
       "[1015.8249326651935, 3888.132986264667, 1402.5676271332873, 4143.477672388898]"
      ]
     },
     "execution_count": 117,
     "metadata": {},
     "output_type": "execute_result"
    }
   ],
   "source": [
    "Mean_Sqrt_Error = [MSE_RF, MSE_DT, MSE_XGB, MSE_NN]\n",
    "Mean_Sqrt_Error"
   ]
  },
  {
   "cell_type": "code",
   "execution_count": 118,
   "metadata": {},
   "outputs": [
    {
     "data": {
      "text/plain": [
       "[31.872008607321778, 62.35489544746801, 37.450869511044566, 64.36985064755781]"
      ]
     },
     "execution_count": 118,
     "metadata": {},
     "output_type": "execute_result"
    }
   ],
   "source": [
    "Root_Mean_Sqrd_Error = [RMSE_RF, RMSE_DT, RMSE_XGB, RMSE_NN]\n",
    "Root_Mean_Sqrd_Error"
   ]
  },
  {
   "cell_type": "code",
   "execution_count": 119,
   "metadata": {},
   "outputs": [],
   "source": [
    "d = {'model': models,'Mean_Abs_Error': Mean_Abs_Error,'Mean_Sqrt_Error': Mean_Sqrt_Error,'Root_Mean_Sqrd_Error':Root_Mean_Sqrd_Error}"
   ]
  },
  {
   "cell_type": "code",
   "execution_count": 120,
   "metadata": {},
   "outputs": [
    {
     "data": {
      "text/html": [
       "<div>\n",
       "<style scoped>\n",
       "    .dataframe tbody tr th:only-of-type {\n",
       "        vertical-align: middle;\n",
       "    }\n",
       "\n",
       "    .dataframe tbody tr th {\n",
       "        vertical-align: top;\n",
       "    }\n",
       "\n",
       "    .dataframe thead th {\n",
       "        text-align: right;\n",
       "    }\n",
       "</style>\n",
       "<table border=\"1\" class=\"dataframe\">\n",
       "  <thead>\n",
       "    <tr style=\"text-align: right;\">\n",
       "      <th></th>\n",
       "      <th>model</th>\n",
       "      <th>Mean_Abs_Error</th>\n",
       "      <th>Mean_Sqrt_Error</th>\n",
       "      <th>Root_Mean_Sqrd_Error</th>\n",
       "    </tr>\n",
       "  </thead>\n",
       "  <tbody>\n",
       "    <tr>\n",
       "      <th>0</th>\n",
       "      <td>RF</td>\n",
       "      <td>20.200545</td>\n",
       "      <td>1015.824933</td>\n",
       "      <td>31.872009</td>\n",
       "    </tr>\n",
       "    <tr>\n",
       "      <th>1</th>\n",
       "      <td>DT</td>\n",
       "      <td>45.680677</td>\n",
       "      <td>3888.132986</td>\n",
       "      <td>62.354895</td>\n",
       "    </tr>\n",
       "    <tr>\n",
       "      <th>2</th>\n",
       "      <td>XGboost</td>\n",
       "      <td>26.198791</td>\n",
       "      <td>1402.567627</td>\n",
       "      <td>37.450870</td>\n",
       "    </tr>\n",
       "    <tr>\n",
       "      <th>3</th>\n",
       "      <td>NN</td>\n",
       "      <td>48.136091</td>\n",
       "      <td>4143.477672</td>\n",
       "      <td>64.369851</td>\n",
       "    </tr>\n",
       "  </tbody>\n",
       "</table>\n",
       "</div>"
      ],
      "text/plain": [
       "     model  Mean_Abs_Error  Mean_Sqrt_Error  Root_Mean_Sqrd_Error\n",
       "0       RF       20.200545      1015.824933             31.872009\n",
       "1       DT       45.680677      3888.132986             62.354895\n",
       "2  XGboost       26.198791      1402.567627             37.450870\n",
       "3       NN       48.136091      4143.477672             64.369851"
      ]
     },
     "execution_count": 120,
     "metadata": {},
     "output_type": "execute_result"
    }
   ],
   "source": [
    "pd.DataFrame(data=d)"
   ]
  },
  {
   "cell_type": "markdown",
   "metadata": {},
   "source": [
    "## Parameters Tuning with Random Hyperparameter Grid Search"
   ]
  },
  {
   "cell_type": "markdown",
   "metadata": {},
   "source": [
    "### Random Forest Regression"
   ]
  },
  {
   "cell_type": "code",
   "execution_count": 121,
   "metadata": {},
   "outputs": [],
   "source": [
    "from pprint import pprint"
   ]
  },
  {
   "cell_type": "code",
   "execution_count": 122,
   "metadata": {},
   "outputs": [
    {
     "name": "stdout",
     "output_type": "stream",
     "text": [
      "Parameters currently in use:\n",
      "\n",
      "{'bootstrap': True,\n",
      " 'criterion': 'mse',\n",
      " 'max_depth': None,\n",
      " 'max_features': 'auto',\n",
      " 'max_leaf_nodes': None,\n",
      " 'min_impurity_decrease': 0.0,\n",
      " 'min_impurity_split': None,\n",
      " 'min_samples_leaf': 1,\n",
      " 'min_samples_split': 2,\n",
      " 'min_weight_fraction_leaf': 0.0,\n",
      " 'n_estimators': 400,\n",
      " 'n_jobs': None,\n",
      " 'oob_score': False,\n",
      " 'random_state': 5,\n",
      " 'verbose': 0,\n",
      " 'warm_start': False}\n"
     ]
    }
   ],
   "source": [
    "# Look at parameters used by our current forest\n",
    "print('Parameters currently in use:\\n')\n",
    "pprint(rf_classifier.get_params())"
   ]
  },
  {
   "cell_type": "code",
   "execution_count": 123,
   "metadata": {},
   "outputs": [],
   "source": [
    "# Randomized Search CV\n",
    "from sklearn.model_selection import RandomizedSearchCV"
   ]
  },
  {
   "cell_type": "code",
   "execution_count": 124,
   "metadata": {},
   "outputs": [],
   "source": [
    "# Number of trees in random forest\n",
    "n_estimators = [int(x) for x in np.linspace(start = 100, stop = 1200, num = 12)]\n",
    "# Number of features to consider at every split\n",
    "max_features = ['auto', 'sqrt']\n",
    "# Maximum number of levels in tree\n",
    "max_depth = [int(x) for x in np.linspace(5, 30, num = 6)]\n",
    "# max_depth.append(None)\n",
    "# Minimum number of samples required to split a node\n",
    "min_samples_split = [2, 5, 10, 15, 100]\n",
    "# Minimum number of samples required at each leaf node\n",
    "min_samples_leaf = [1, 2, 5, 10]\n",
    "# Method of selecting samples for training each tree\n",
    "# bootstrap = [True, False]\n",
    "\n",
    "# Create the random grid\n",
    "random_grid = {'n_estimators': n_estimators,\n",
    "               'max_features': max_features,\n",
    "               'max_depth': max_depth,\n",
    "               'min_samples_split': min_samples_split,\n",
    "               'min_samples_leaf': min_samples_leaf}"
   ]
  },
  {
   "cell_type": "code",
   "execution_count": 125,
   "metadata": {},
   "outputs": [
    {
     "name": "stdout",
     "output_type": "stream",
     "text": [
      "{'max_depth': [5, 10, 15, 20, 25, 30],\n",
      " 'max_features': ['auto', 'sqrt'],\n",
      " 'min_samples_leaf': [1, 2, 5, 10],\n",
      " 'min_samples_split': [2, 5, 10, 15, 100],\n",
      " 'n_estimators': [100,\n",
      "                  200,\n",
      "                  300,\n",
      "                  400,\n",
      "                  500,\n",
      "                  600,\n",
      "                  700,\n",
      "                  800,\n",
      "                  900,\n",
      "                  1000,\n",
      "                  1100,\n",
      "                  1200]}\n"
     ]
    }
   ],
   "source": [
    "pprint(random_grid)"
   ]
  },
  {
   "cell_type": "code",
   "execution_count": 126,
   "metadata": {},
   "outputs": [],
   "source": [
    "# Use the random grid to search for best hyperparameters\n",
    "# First create the base model to tune\n",
    "rf = RandomForestRegressor()\n",
    "# Random search of parameters, using 3 fold cross validation, search across 100 different combinations, and use all available cores\n",
    "rf_random = RandomizedSearchCV(estimator = rf, param_distributions = random_grid, n_iter = 100, cv = 3, verbose=2, random_state=42, n_jobs = -1)"
   ]
  },
  {
   "cell_type": "code",
   "execution_count": 127,
   "metadata": {},
   "outputs": [
    {
     "name": "stdout",
     "output_type": "stream",
     "text": [
      "Fitting 3 folds for each of 100 candidates, totalling 300 fits\n"
     ]
    },
    {
     "name": "stderr",
     "output_type": "stream",
     "text": [
      "[Parallel(n_jobs=-1)]: Using backend LokyBackend with 8 concurrent workers.\n",
      "[Parallel(n_jobs=-1)]: Done  25 tasks      | elapsed:   19.0s\n",
      "[Parallel(n_jobs=-1)]: Done 146 tasks      | elapsed:  1.2min\n",
      "[Parallel(n_jobs=-1)]: Done 300 out of 300 | elapsed:  2.3min finished\n"
     ]
    },
    {
     "data": {
      "text/plain": [
       "RandomizedSearchCV(cv=3, error_score='raise-deprecating',\n",
       "          estimator=RandomForestRegressor(bootstrap=True, criterion='mse', max_depth=None,\n",
       "           max_features='auto', max_leaf_nodes=None,\n",
       "           min_impurity_decrease=0.0, min_impurity_split=None,\n",
       "           min_samples_leaf=1, min_samples_split=2,\n",
       "           min_weight_fraction_leaf=0.0, n_estimators='warn', n_jobs=None,\n",
       "           oob_score=False, random_state=None, verbose=0, warm_start=False),\n",
       "          fit_params=None, iid='warn', n_iter=100, n_jobs=-1,\n",
       "          param_distributions={'n_estimators': [100, 200, 300, 400, 500, 600, 700, 800, 900, 1000, 1100, 1200], 'max_features': ['auto', 'sqrt'], 'max_depth': [5, 10, 15, 20, 25, 30], 'min_samples_split': [2, 5, 10, 15, 100], 'min_samples_leaf': [1, 2, 5, 10]},\n",
       "          pre_dispatch='2*n_jobs', random_state=42, refit=True,\n",
       "          return_train_score='warn', scoring=None, verbose=2)"
      ]
     },
     "execution_count": 127,
     "metadata": {},
     "output_type": "execute_result"
    }
   ],
   "source": [
    "#Fit the random search model\n",
    "rf_random.fit(X_train1,y_train1)"
   ]
  },
  {
   "cell_type": "code",
   "execution_count": 128,
   "metadata": {},
   "outputs": [
    {
     "data": {
      "text/plain": [
       "{'n_estimators': 700,\n",
       " 'min_samples_split': 5,\n",
       " 'min_samples_leaf': 1,\n",
       " 'max_features': 'auto',\n",
       " 'max_depth': 30}"
      ]
     },
     "execution_count": 128,
     "metadata": {},
     "output_type": "execute_result"
    }
   ],
   "source": [
    "rf_random.best_params_"
   ]
  },
  {
   "cell_type": "code",
   "execution_count": 129,
   "metadata": {},
   "outputs": [],
   "source": [
    "y_pred1_RF = rf_random.predict(X_test1)"
   ]
  },
  {
   "cell_type": "code",
   "execution_count": 130,
   "metadata": {},
   "outputs": [
    {
     "name": "stdout",
     "output_type": "stream",
     "text": [
      "Mean Absolute Error: 20.493663341566446\n",
      "Mean Squared Error: 1035.554642344109\n",
      "Root Mean Squared Error: 32.1800348406292\n"
     ]
    }
   ],
   "source": [
    "from sklearn import metrics\n",
    "print('Mean Absolute Error:',metrics.mean_absolute_error(y_test1, y_pred1_RF))  \n",
    "print('Mean Squared Error:',metrics.mean_squared_error(y_test1, y_pred1_RF))  \n",
    "print('Root Mean Squared Error:',np.sqrt(metrics.mean_squared_error(y_test1, y_pred1_RF)))  "
   ]
  },
  {
   "cell_type": "markdown",
   "metadata": {},
   "source": [
    "Let's call the same metrics before tuning:"
   ]
  },
  {
   "cell_type": "code",
   "execution_count": 131,
   "metadata": {},
   "outputs": [
    {
     "name": "stdout",
     "output_type": "stream",
     "text": [
      "Mean Absolute Error: 20.200545033670032\n",
      "Mean Squared Error: 1015.8249326651935\n",
      "Root Mean Squared Error: 31.872008607321778\n"
     ]
    }
   ],
   "source": [
    "print('Mean Absolute Error:',MAE_RF)  \n",
    "print('Mean Squared Error:',MSE_RF)  \n",
    "print('Root Mean Squared Error:',RMSE_RF)"
   ]
  },
  {
   "cell_type": "markdown",
   "metadata": {},
   "source": [
    "### Bangkok"
   ]
  },
  {
   "cell_type": "code",
   "execution_count": 132,
   "metadata": {},
   "outputs": [],
   "source": [
    "Bngkok_X = BangkokData[Selected_list]\n",
    "Bngkok_Y = BangkokData['Price']"
   ]
  },
  {
   "cell_type": "code",
   "execution_count": 133,
   "metadata": {},
   "outputs": [
    {
     "data": {
      "text/plain": [
       "Index(['Latitude', 'Longitude', 'ListingsNo_in_weekth', 'weeks_before_booking',\n",
       "       'Year_week', 'Bathrooms_num_int', 'Bedrooms_int', 'Beds_int',\n",
       "       'shared_bathroom', 'shared_room', 'Reviewers_no', 'Group_ID',\n",
       "       'avg_rating_stars', 'Amenities_length', 'Super_host'],\n",
       "      dtype='object')"
      ]
     },
     "execution_count": 133,
     "metadata": {},
     "output_type": "execute_result"
    }
   ],
   "source": [
    "Bngkok_X.columns"
   ]
  },
  {
   "cell_type": "code",
   "execution_count": 134,
   "metadata": {},
   "outputs": [
    {
     "name": "stdout",
     "output_type": "stream",
     "text": [
      "(5425, 15)\n",
      "(2326, 15)\n",
      "(5425,)\n",
      "(2326,)\n"
     ]
    }
   ],
   "source": [
    "X_train2, X_test2, y_train2, y_test2 = train_test_split(Bngkok_X,Bngkok_Y,test_size=0.3, random_state=5)\n",
    "print(X_train2.shape)\n",
    "print(X_test2.shape)\n",
    "print(y_train2.shape)\n",
    "print(y_test2.shape)"
   ]
  },
  {
   "cell_type": "markdown",
   "metadata": {},
   "source": [
    "### Random Forest Regression"
   ]
  },
  {
   "cell_type": "code",
   "execution_count": 135,
   "metadata": {},
   "outputs": [],
   "source": [
    "rf_classifier = RandomForestRegressor(n_estimators=400, criterion='mse', random_state=5)\n"
   ]
  },
  {
   "cell_type": "code",
   "execution_count": 136,
   "metadata": {},
   "outputs": [
    {
     "data": {
      "text/plain": [
       "RandomForestRegressor(bootstrap=True, criterion='mse', max_depth=None,\n",
       "           max_features='auto', max_leaf_nodes=None,\n",
       "           min_impurity_decrease=0.0, min_impurity_split=None,\n",
       "           min_samples_leaf=1, min_samples_split=2,\n",
       "           min_weight_fraction_leaf=0.0, n_estimators=400, n_jobs=None,\n",
       "           oob_score=False, random_state=5, verbose=0, warm_start=False)"
      ]
     },
     "execution_count": 136,
     "metadata": {},
     "output_type": "execute_result"
    }
   ],
   "source": [
    "rf_classifier.fit(X_train2, y_train2)"
   ]
  },
  {
   "cell_type": "code",
   "execution_count": 137,
   "metadata": {},
   "outputs": [],
   "source": [
    "y_pred2_RFR = rf_classifier.predict(X_test2)"
   ]
  },
  {
   "cell_type": "code",
   "execution_count": 138,
   "metadata": {},
   "outputs": [
    {
     "data": {
      "text/html": [
       "<div>\n",
       "<style scoped>\n",
       "    .dataframe tbody tr th:only-of-type {\n",
       "        vertical-align: middle;\n",
       "    }\n",
       "\n",
       "    .dataframe tbody tr th {\n",
       "        vertical-align: top;\n",
       "    }\n",
       "\n",
       "    .dataframe thead th {\n",
       "        text-align: right;\n",
       "    }\n",
       "</style>\n",
       "<table border=\"1\" class=\"dataframe\">\n",
       "  <thead>\n",
       "    <tr style=\"text-align: right;\">\n",
       "      <th></th>\n",
       "      <th>Actual</th>\n",
       "      <th>Predicted</th>\n",
       "    </tr>\n",
       "  </thead>\n",
       "  <tbody>\n",
       "    <tr>\n",
       "      <th>3213</th>\n",
       "      <td>84</td>\n",
       "      <td>83.6350</td>\n",
       "    </tr>\n",
       "    <tr>\n",
       "      <th>1445</th>\n",
       "      <td>54</td>\n",
       "      <td>76.7825</td>\n",
       "    </tr>\n",
       "    <tr>\n",
       "      <th>3913</th>\n",
       "      <td>43</td>\n",
       "      <td>42.0950</td>\n",
       "    </tr>\n",
       "    <tr>\n",
       "      <th>6396</th>\n",
       "      <td>58</td>\n",
       "      <td>57.7375</td>\n",
       "    </tr>\n",
       "    <tr>\n",
       "      <th>7175</th>\n",
       "      <td>60</td>\n",
       "      <td>66.1550</td>\n",
       "    </tr>\n",
       "    <tr>\n",
       "      <th>3067</th>\n",
       "      <td>33</td>\n",
       "      <td>34.4425</td>\n",
       "    </tr>\n",
       "    <tr>\n",
       "      <th>4280</th>\n",
       "      <td>48</td>\n",
       "      <td>47.8600</td>\n",
       "    </tr>\n",
       "    <tr>\n",
       "      <th>1290</th>\n",
       "      <td>117</td>\n",
       "      <td>113.3475</td>\n",
       "    </tr>\n",
       "    <tr>\n",
       "      <th>1075</th>\n",
       "      <td>34</td>\n",
       "      <td>37.5900</td>\n",
       "    </tr>\n",
       "    <tr>\n",
       "      <th>7559</th>\n",
       "      <td>66</td>\n",
       "      <td>66.6975</td>\n",
       "    </tr>\n",
       "  </tbody>\n",
       "</table>\n",
       "</div>"
      ],
      "text/plain": [
       "      Actual  Predicted\n",
       "3213      84    83.6350\n",
       "1445      54    76.7825\n",
       "3913      43    42.0950\n",
       "6396      58    57.7375\n",
       "7175      60    66.1550\n",
       "3067      33    34.4425\n",
       "4280      48    47.8600\n",
       "1290     117   113.3475\n",
       "1075      34    37.5900\n",
       "7559      66    66.6975"
      ]
     },
     "execution_count": 138,
     "metadata": {},
     "output_type": "execute_result"
    }
   ],
   "source": [
    "df = pd.DataFrame({'Actual':y_test2, 'Predicted': y_pred2_RFR})  \n",
    "df.head(10)"
   ]
  },
  {
   "cell_type": "code",
   "execution_count": 139,
   "metadata": {},
   "outputs": [],
   "source": [
    "MAE_RF =  metrics.mean_absolute_error(y_test2, y_pred2_RFR)\n",
    "MSE_RF = metrics.mean_squared_error(y_test2, y_pred2_RFR)  \n",
    "RMSE_RF = np.sqrt(metrics.mean_squared_error(y_test2, y_pred2_RFR))"
   ]
  },
  {
   "cell_type": "code",
   "execution_count": 140,
   "metadata": {},
   "outputs": [
    {
     "name": "stdout",
     "output_type": "stream",
     "text": [
      "Mean Absolute Error: 2.967570937231298\n",
      "Mean Squared Error: 37.246637419389515\n",
      "Root Mean Squared Error: 6.103002328312641\n"
     ]
    }
   ],
   "source": [
    "from sklearn import metrics  \n",
    "print('Mean Absolute Error:', MAE_RF)  \n",
    "print('Mean Squared Error:', MSE_RF)  \n",
    "print('Root Mean Squared Error:', RMSE_RF)  "
   ]
  },
  {
   "cell_type": "markdown",
   "metadata": {},
   "source": [
    "### Decision Tree Regression"
   ]
  },
  {
   "cell_type": "code",
   "execution_count": 141,
   "metadata": {},
   "outputs": [],
   "source": [
    "from sklearn.tree import DecisionTreeRegressor\n",
    "DT_regressor = DecisionTreeRegressor(max_depth=2)"
   ]
  },
  {
   "cell_type": "code",
   "execution_count": 142,
   "metadata": {},
   "outputs": [
    {
     "data": {
      "text/plain": [
       "DecisionTreeRegressor(criterion='mse', max_depth=2, max_features=None,\n",
       "           max_leaf_nodes=None, min_impurity_decrease=0.0,\n",
       "           min_impurity_split=None, min_samples_leaf=1,\n",
       "           min_samples_split=2, min_weight_fraction_leaf=0.0,\n",
       "           presort=False, random_state=None, splitter='best')"
      ]
     },
     "execution_count": 142,
     "metadata": {},
     "output_type": "execute_result"
    }
   ],
   "source": [
    "DT_regressor.fit(X_train2, y_train2)"
   ]
  },
  {
   "cell_type": "code",
   "execution_count": 143,
   "metadata": {},
   "outputs": [],
   "source": [
    "y_pred2_DT = DT_regressor.predict(X_test2)"
   ]
  },
  {
   "cell_type": "code",
   "execution_count": 144,
   "metadata": {},
   "outputs": [],
   "source": [
    "MAE_DT = metrics.mean_absolute_error(y_test2, y_pred2_DT)\n",
    "MSE_DT = metrics.mean_squared_error(y_test2, y_pred2_DT)\n",
    "RMSE_DT = np.sqrt(metrics.mean_squared_error(y_test2, y_pred2_DT))"
   ]
  },
  {
   "cell_type": "code",
   "execution_count": 145,
   "metadata": {},
   "outputs": [
    {
     "name": "stdout",
     "output_type": "stream",
     "text": [
      "Mean Absolute Error: 16.077043088844782\n",
      "Mean Squared Error: 480.7835438074452\n",
      "Root Mean Squared Error: 21.92677686773515\n"
     ]
    }
   ],
   "source": [
    "print('Mean Absolute Error:', MAE_DT)  \n",
    "print('Mean Squared Error:', MSE_DT)  \n",
    "print('Root Mean Squared Error:', RMSE_DT)"
   ]
  },
  {
   "cell_type": "markdown",
   "metadata": {},
   "source": [
    "### Boosted Decision Tree Regression (XGBoost)"
   ]
  },
  {
   "cell_type": "code",
   "execution_count": 146,
   "metadata": {},
   "outputs": [],
   "source": [
    "import xgboost as xgb\n",
    "xgb_model = xgb.XGBRegressor(objective='reg:squarederror', random_state=42)"
   ]
  },
  {
   "cell_type": "code",
   "execution_count": 147,
   "metadata": {},
   "outputs": [
    {
     "data": {
      "text/plain": [
       "XGBRegressor(base_score=0.5, booster='gbtree', colsample_bylevel=1,\n",
       "       colsample_bynode=1, colsample_bytree=1, gamma=0,\n",
       "       importance_type='gain', learning_rate=0.1, max_delta_step=0,\n",
       "       max_depth=3, min_child_weight=1, missing=None, n_estimators=100,\n",
       "       n_jobs=1, nthread=None, objective='reg:squarederror',\n",
       "       random_state=42, reg_alpha=0, reg_lambda=1, scale_pos_weight=1,\n",
       "       seed=None, silent=None, subsample=1, verbosity=1)"
      ]
     },
     "execution_count": 147,
     "metadata": {},
     "output_type": "execute_result"
    }
   ],
   "source": [
    "xgb_model.fit(X_train2, y_train2)"
   ]
  },
  {
   "cell_type": "code",
   "execution_count": 148,
   "metadata": {},
   "outputs": [],
   "source": [
    "y_pred2_XGB = xgb_model.predict(X_test2)"
   ]
  },
  {
   "cell_type": "code",
   "execution_count": 149,
   "metadata": {},
   "outputs": [],
   "source": [
    "MAE_XGB = metrics.mean_absolute_error(y_test2, y_pred2_XGB)\n",
    "MSE_XGB = metrics.mean_squared_error(y_test2, y_pred2_XGB)\n",
    "RMSE_XGB = np.sqrt(metrics.mean_squared_error(y_test2, y_pred2_XGB))"
   ]
  },
  {
   "cell_type": "code",
   "execution_count": 150,
   "metadata": {},
   "outputs": [
    {
     "name": "stdout",
     "output_type": "stream",
     "text": [
      "Mean Absolute Error: 8.977576636694058\n",
      "Mean Squared Error: 148.78647204129712\n",
      "Root Mean Squared Error: 12.19780603392664\n"
     ]
    }
   ],
   "source": [
    "print('Mean Absolute Error:', MAE_XGB)  \n",
    "print('Mean Squared Error:', MSE_XGB )  \n",
    "print('Root Mean Squared Error:',RMSE_XGB) "
   ]
  },
  {
   "cell_type": "markdown",
   "metadata": {},
   "source": [
    "### Neural Network Regression"
   ]
  },
  {
   "cell_type": "code",
   "execution_count": 151,
   "metadata": {},
   "outputs": [],
   "source": [
    "from sklearn.neural_network import MLPRegressor\n",
    "NN_regressor = MLPRegressor(activation='relu')"
   ]
  },
  {
   "cell_type": "code",
   "execution_count": 152,
   "metadata": {},
   "outputs": [
    {
     "data": {
      "text/plain": [
       "MLPRegressor(activation='relu', alpha=0.0001, batch_size='auto', beta_1=0.9,\n",
       "       beta_2=0.999, early_stopping=False, epsilon=1e-08,\n",
       "       hidden_layer_sizes=(100,), learning_rate='constant',\n",
       "       learning_rate_init=0.001, max_iter=200, momentum=0.9,\n",
       "       n_iter_no_change=10, nesterovs_momentum=True, power_t=0.5,\n",
       "       random_state=None, shuffle=True, solver='adam', tol=0.0001,\n",
       "       validation_fraction=0.1, verbose=False, warm_start=False)"
      ]
     },
     "execution_count": 152,
     "metadata": {},
     "output_type": "execute_result"
    }
   ],
   "source": [
    "NN_regressor.fit(X_train2, y_train2)"
   ]
  },
  {
   "cell_type": "code",
   "execution_count": 153,
   "metadata": {},
   "outputs": [],
   "source": [
    "y_pred2_NN = NN_regressor.predict(X_test2)"
   ]
  },
  {
   "cell_type": "code",
   "execution_count": 154,
   "metadata": {},
   "outputs": [],
   "source": [
    "MAE_NN = metrics.mean_absolute_error(y_test2, y_pred2_NN)\n",
    "MSE_NN = metrics.mean_squared_error(y_test2, y_pred2_NN)\n",
    "RMSE_NN = np.sqrt(metrics.mean_squared_error(y_test2, y_pred2_NN))"
   ]
  },
  {
   "cell_type": "code",
   "execution_count": 155,
   "metadata": {},
   "outputs": [
    {
     "name": "stdout",
     "output_type": "stream",
     "text": [
      "Mean Absolute Error: 15.865928624532756\n",
      "Mean Squared Error: 418.322943769883\n",
      "Root Mean Squared Error: 20.452944623449284\n"
     ]
    }
   ],
   "source": [
    "print('Mean Absolute Error:', MAE_NN)  \n",
    "print('Mean Squared Error:', MSE_NN)  \n",
    "print('Root Mean Squared Error:', RMSE_NN) "
   ]
  },
  {
   "cell_type": "code",
   "execution_count": 156,
   "metadata": {},
   "outputs": [],
   "source": [
    "Mean_Abs_Error =[MAE_RF ,MAE_DT ,MAE_XGB , MAE_NN]\n",
    "Mean_Sqrt_Error = [MSE_RF, MSE_DT, MSE_XGB, MSE_NN]\n",
    "Root_Mean_Sqrd_Error = [RMSE_RF, RMSE_DT, RMSE_XGB, RMSE_NN]"
   ]
  },
  {
   "cell_type": "code",
   "execution_count": 157,
   "metadata": {},
   "outputs": [],
   "source": [
    "d = {'model': models,'Mean_Abs_Error': Mean_Abs_Error,'Mean_Sqrt_Error': Mean_Sqrt_Error,'Root_Mean_Sqrd_Error':Root_Mean_Sqrd_Error}"
   ]
  },
  {
   "cell_type": "code",
   "execution_count": 158,
   "metadata": {},
   "outputs": [
    {
     "data": {
      "text/html": [
       "<div>\n",
       "<style scoped>\n",
       "    .dataframe tbody tr th:only-of-type {\n",
       "        vertical-align: middle;\n",
       "    }\n",
       "\n",
       "    .dataframe tbody tr th {\n",
       "        vertical-align: top;\n",
       "    }\n",
       "\n",
       "    .dataframe thead th {\n",
       "        text-align: right;\n",
       "    }\n",
       "</style>\n",
       "<table border=\"1\" class=\"dataframe\">\n",
       "  <thead>\n",
       "    <tr style=\"text-align: right;\">\n",
       "      <th></th>\n",
       "      <th>model</th>\n",
       "      <th>Mean_Abs_Error</th>\n",
       "      <th>Mean_Sqrt_Error</th>\n",
       "      <th>Root_Mean_Sqrd_Error</th>\n",
       "    </tr>\n",
       "  </thead>\n",
       "  <tbody>\n",
       "    <tr>\n",
       "      <th>0</th>\n",
       "      <td>RF</td>\n",
       "      <td>2.967571</td>\n",
       "      <td>37.246637</td>\n",
       "      <td>6.103002</td>\n",
       "    </tr>\n",
       "    <tr>\n",
       "      <th>1</th>\n",
       "      <td>DT</td>\n",
       "      <td>16.077043</td>\n",
       "      <td>480.783544</td>\n",
       "      <td>21.926777</td>\n",
       "    </tr>\n",
       "    <tr>\n",
       "      <th>2</th>\n",
       "      <td>XGboost</td>\n",
       "      <td>8.977577</td>\n",
       "      <td>148.786472</td>\n",
       "      <td>12.197806</td>\n",
       "    </tr>\n",
       "    <tr>\n",
       "      <th>3</th>\n",
       "      <td>NN</td>\n",
       "      <td>15.865929</td>\n",
       "      <td>418.322944</td>\n",
       "      <td>20.452945</td>\n",
       "    </tr>\n",
       "  </tbody>\n",
       "</table>\n",
       "</div>"
      ],
      "text/plain": [
       "     model  Mean_Abs_Error  Mean_Sqrt_Error  Root_Mean_Sqrd_Error\n",
       "0       RF        2.967571        37.246637              6.103002\n",
       "1       DT       16.077043       480.783544             21.926777\n",
       "2  XGboost        8.977577       148.786472             12.197806\n",
       "3       NN       15.865929       418.322944             20.452945"
      ]
     },
     "execution_count": 158,
     "metadata": {},
     "output_type": "execute_result"
    }
   ],
   "source": [
    "pd.DataFrame(data=d)"
   ]
  },
  {
   "cell_type": "markdown",
   "metadata": {},
   "source": [
    "### Cairo"
   ]
  },
  {
   "cell_type": "code",
   "execution_count": 159,
   "metadata": {},
   "outputs": [],
   "source": [
    "Cairo_X = CairoData[Selected_list]\n",
    "Cairo_Y = CairoData['Price']"
   ]
  },
  {
   "cell_type": "code",
   "execution_count": 160,
   "metadata": {},
   "outputs": [
    {
     "name": "stdout",
     "output_type": "stream",
     "text": [
      "(5531, 15)\n",
      "(2371, 15)\n",
      "(5531,)\n",
      "(2371,)\n"
     ]
    }
   ],
   "source": [
    "X_train3, X_test3, y_train3, y_test3 = train_test_split(Cairo_X,Cairo_Y,test_size=0.3, random_state=5)\n",
    "print(X_train3.shape)\n",
    "print(X_test3.shape)\n",
    "print(y_train3.shape)\n",
    "print(y_test3.shape)"
   ]
  },
  {
   "cell_type": "markdown",
   "metadata": {},
   "source": [
    "### Random Forest Regression"
   ]
  },
  {
   "cell_type": "code",
   "execution_count": 161,
   "metadata": {},
   "outputs": [
    {
     "data": {
      "text/plain": [
       "RandomForestRegressor(bootstrap=True, criterion='mse', max_depth=None,\n",
       "           max_features='auto', max_leaf_nodes=None,\n",
       "           min_impurity_decrease=0.0, min_impurity_split=None,\n",
       "           min_samples_leaf=1, min_samples_split=2,\n",
       "           min_weight_fraction_leaf=0.0, n_estimators=400, n_jobs=None,\n",
       "           oob_score=False, random_state=5, verbose=0, warm_start=False)"
      ]
     },
     "execution_count": 161,
     "metadata": {},
     "output_type": "execute_result"
    }
   ],
   "source": [
    "rf_classifier = RandomForestRegressor(n_estimators=400, criterion='mse', random_state=5)\n",
    "rf_classifier.fit(X_train3, y_train3)"
   ]
  },
  {
   "cell_type": "code",
   "execution_count": 162,
   "metadata": {},
   "outputs": [],
   "source": [
    "y_pred3_RFR = rf_classifier.predict(X_test3)"
   ]
  },
  {
   "cell_type": "code",
   "execution_count": 163,
   "metadata": {},
   "outputs": [
    {
     "data": {
      "text/html": [
       "<div>\n",
       "<style scoped>\n",
       "    .dataframe tbody tr th:only-of-type {\n",
       "        vertical-align: middle;\n",
       "    }\n",
       "\n",
       "    .dataframe tbody tr th {\n",
       "        vertical-align: top;\n",
       "    }\n",
       "\n",
       "    .dataframe thead th {\n",
       "        text-align: right;\n",
       "    }\n",
       "</style>\n",
       "<table border=\"1\" class=\"dataframe\">\n",
       "  <thead>\n",
       "    <tr style=\"text-align: right;\">\n",
       "      <th></th>\n",
       "      <th>Actual</th>\n",
       "      <th>Predicted</th>\n",
       "    </tr>\n",
       "  </thead>\n",
       "  <tbody>\n",
       "    <tr>\n",
       "      <th>3564</th>\n",
       "      <td>68</td>\n",
       "      <td>65.8325</td>\n",
       "    </tr>\n",
       "    <tr>\n",
       "      <th>6015</th>\n",
       "      <td>40</td>\n",
       "      <td>38.4775</td>\n",
       "    </tr>\n",
       "    <tr>\n",
       "      <th>7518</th>\n",
       "      <td>20</td>\n",
       "      <td>27.3175</td>\n",
       "    </tr>\n",
       "    <tr>\n",
       "      <th>4707</th>\n",
       "      <td>67</td>\n",
       "      <td>65.8375</td>\n",
       "    </tr>\n",
       "    <tr>\n",
       "      <th>4272</th>\n",
       "      <td>59</td>\n",
       "      <td>62.7900</td>\n",
       "    </tr>\n",
       "    <tr>\n",
       "      <th>7715</th>\n",
       "      <td>25</td>\n",
       "      <td>22.1150</td>\n",
       "    </tr>\n",
       "    <tr>\n",
       "      <th>6862</th>\n",
       "      <td>120</td>\n",
       "      <td>66.6525</td>\n",
       "    </tr>\n",
       "    <tr>\n",
       "      <th>2617</th>\n",
       "      <td>13</td>\n",
       "      <td>13.5925</td>\n",
       "    </tr>\n",
       "    <tr>\n",
       "      <th>2005</th>\n",
       "      <td>78</td>\n",
       "      <td>77.9100</td>\n",
       "    </tr>\n",
       "    <tr>\n",
       "      <th>855</th>\n",
       "      <td>40</td>\n",
       "      <td>42.7150</td>\n",
       "    </tr>\n",
       "  </tbody>\n",
       "</table>\n",
       "</div>"
      ],
      "text/plain": [
       "      Actual  Predicted\n",
       "3564      68    65.8325\n",
       "6015      40    38.4775\n",
       "7518      20    27.3175\n",
       "4707      67    65.8375\n",
       "4272      59    62.7900\n",
       "7715      25    22.1150\n",
       "6862     120    66.6525\n",
       "2617      13    13.5925\n",
       "2005      78    77.9100\n",
       "855       40    42.7150"
      ]
     },
     "execution_count": 163,
     "metadata": {},
     "output_type": "execute_result"
    }
   ],
   "source": [
    "df = pd.DataFrame({'Actual':y_test3, 'Predicted': y_pred3_RFR})  \n",
    "df.head(10)"
   ]
  },
  {
   "cell_type": "code",
   "execution_count": 164,
   "metadata": {},
   "outputs": [],
   "source": [
    "from sklearn import metrics \n",
    "MAE_RF =  metrics.mean_absolute_error(y_test3, y_pred3_RFR)\n",
    "MSE_RF =  metrics.mean_squared_error(y_test3, y_pred3_RFR)\n",
    "RMSE_RF = np.sqrt(metrics.mean_squared_error(y_test3, y_pred3_RFR))"
   ]
  },
  {
   "cell_type": "code",
   "execution_count": 165,
   "metadata": {},
   "outputs": [
    {
     "name": "stdout",
     "output_type": "stream",
     "text": [
      "Mean Absolute Error: 4.018936102910165\n",
      "Mean Squared Error: 141.08917577235343\n",
      "Root Mean Squared Error: 11.878096470914581\n"
     ]
    }
   ],
   "source": [
    " \n",
    "print('Mean Absolute Error:', MAE_RF)  \n",
    "print('Mean Squared Error:',MSE_RF)  \n",
    "print('Root Mean Squared Error:',RMSE_RF) "
   ]
  },
  {
   "cell_type": "markdown",
   "metadata": {},
   "source": [
    "### Decision Tree Regression"
   ]
  },
  {
   "cell_type": "code",
   "execution_count": 166,
   "metadata": {},
   "outputs": [],
   "source": [
    "from sklearn.tree import DecisionTreeRegressor\n",
    "DT_regressor = DecisionTreeRegressor(max_depth=2)"
   ]
  },
  {
   "cell_type": "code",
   "execution_count": 167,
   "metadata": {},
   "outputs": [
    {
     "data": {
      "text/plain": [
       "DecisionTreeRegressor(criterion='mse', max_depth=2, max_features=None,\n",
       "           max_leaf_nodes=None, min_impurity_decrease=0.0,\n",
       "           min_impurity_split=None, min_samples_leaf=1,\n",
       "           min_samples_split=2, min_weight_fraction_leaf=0.0,\n",
       "           presort=False, random_state=None, splitter='best')"
      ]
     },
     "execution_count": 167,
     "metadata": {},
     "output_type": "execute_result"
    }
   ],
   "source": [
    "DT_regressor.fit(X_train3, y_train3)"
   ]
  },
  {
   "cell_type": "code",
   "execution_count": 168,
   "metadata": {},
   "outputs": [],
   "source": [
    "y_pred3_DT = DT_regressor.predict(X_test3)"
   ]
  },
  {
   "cell_type": "code",
   "execution_count": 169,
   "metadata": {},
   "outputs": [],
   "source": [
    "MAE_DT = metrics.mean_absolute_error(y_test3, y_pred3_DT)\n",
    "MSE_DT = metrics.mean_squared_error(y_test3, y_pred3_DT)\n",
    "RMSE_DT = np.sqrt(metrics.mean_squared_error(y_test3, y_pred3_DT))"
   ]
  },
  {
   "cell_type": "code",
   "execution_count": 170,
   "metadata": {},
   "outputs": [
    {
     "name": "stdout",
     "output_type": "stream",
     "text": [
      "Mean Absolute Error: 21.473754123679146\n",
      "Mean Squared Error: 1113.280607746576\n",
      "Root Mean Squared Error: 33.36585991318935\n"
     ]
    }
   ],
   "source": [
    "print('Mean Absolute Error:',MAE_DT)  \n",
    "print('Mean Squared Error:', MSE_DT)  \n",
    "print('Root Mean Squared Error:',RMSE_DT)"
   ]
  },
  {
   "cell_type": "markdown",
   "metadata": {},
   "source": [
    "### Boosted Decision Tree Regression (XGBoost)"
   ]
  },
  {
   "cell_type": "code",
   "execution_count": 171,
   "metadata": {},
   "outputs": [],
   "source": [
    "import xgboost as xgb\n",
    "xgb_model = xgb.XGBRegressor(objective='reg:squarederror', random_state=42)"
   ]
  },
  {
   "cell_type": "code",
   "execution_count": 172,
   "metadata": {},
   "outputs": [
    {
     "data": {
      "text/plain": [
       "XGBRegressor(base_score=0.5, booster='gbtree', colsample_bylevel=1,\n",
       "       colsample_bynode=1, colsample_bytree=1, gamma=0,\n",
       "       importance_type='gain', learning_rate=0.1, max_delta_step=0,\n",
       "       max_depth=3, min_child_weight=1, missing=None, n_estimators=100,\n",
       "       n_jobs=1, nthread=None, objective='reg:squarederror',\n",
       "       random_state=42, reg_alpha=0, reg_lambda=1, scale_pos_weight=1,\n",
       "       seed=None, silent=None, subsample=1, verbosity=1)"
      ]
     },
     "execution_count": 172,
     "metadata": {},
     "output_type": "execute_result"
    }
   ],
   "source": [
    "xgb_model.fit(X_train3, y_train3)"
   ]
  },
  {
   "cell_type": "code",
   "execution_count": 173,
   "metadata": {},
   "outputs": [],
   "source": [
    "y_pred3_XGB = xgb_model.predict(X_test3)"
   ]
  },
  {
   "cell_type": "code",
   "execution_count": 174,
   "metadata": {},
   "outputs": [],
   "source": [
    "MAE_XGB = metrics.mean_absolute_error(y_test3, y_pred3_XGB)\n",
    "MSE_XGB = metrics.mean_squared_error(y_test3, y_pred3_XGB)\n",
    "RMSE_XGB = np.sqrt(metrics.mean_squared_error(y_test3, y_pred3_XGB))"
   ]
  },
  {
   "cell_type": "code",
   "execution_count": 175,
   "metadata": {},
   "outputs": [
    {
     "name": "stdout",
     "output_type": "stream",
     "text": [
      "Mean Absolute Error: 14.868262046804311\n",
      "Mean Squared Error: 476.7570508650813\n",
      "Root Mean Squared Error: 21.83476702108546\n"
     ]
    }
   ],
   "source": [
    "print('Mean Absolute Error:',MAE_XGB)  \n",
    "print('Mean Squared Error:',MSE_XGB)  \n",
    "print('Root Mean Squared Error:',RMSE_XGB) "
   ]
  },
  {
   "cell_type": "markdown",
   "metadata": {},
   "source": [
    "### Neural Network Regression"
   ]
  },
  {
   "cell_type": "code",
   "execution_count": 176,
   "metadata": {},
   "outputs": [],
   "source": [
    "from sklearn.neural_network import MLPRegressor\n",
    "NN_regressor = MLPRegressor(activation='relu')"
   ]
  },
  {
   "cell_type": "code",
   "execution_count": 177,
   "metadata": {},
   "outputs": [
    {
     "data": {
      "text/plain": [
       "MLPRegressor(activation='relu', alpha=0.0001, batch_size='auto', beta_1=0.9,\n",
       "       beta_2=0.999, early_stopping=False, epsilon=1e-08,\n",
       "       hidden_layer_sizes=(100,), learning_rate='constant',\n",
       "       learning_rate_init=0.001, max_iter=200, momentum=0.9,\n",
       "       n_iter_no_change=10, nesterovs_momentum=True, power_t=0.5,\n",
       "       random_state=None, shuffle=True, solver='adam', tol=0.0001,\n",
       "       validation_fraction=0.1, verbose=False, warm_start=False)"
      ]
     },
     "execution_count": 177,
     "metadata": {},
     "output_type": "execute_result"
    }
   ],
   "source": [
    "NN_regressor.fit(X_train3, y_train3)"
   ]
  },
  {
   "cell_type": "code",
   "execution_count": 178,
   "metadata": {},
   "outputs": [],
   "source": [
    "y_pred3_NN = NN_regressor.predict(X_test3)"
   ]
  },
  {
   "cell_type": "code",
   "execution_count": 179,
   "metadata": {},
   "outputs": [],
   "source": [
    "MAE_NN = metrics.mean_absolute_error(y_test3, y_pred3_NN)\n",
    "MSE_NN = metrics.mean_squared_error(y_test3, y_pred3_NN)\n",
    "RMSE_NN = np.sqrt(metrics.mean_squared_error(y_test3, y_pred3_NN))"
   ]
  },
  {
   "cell_type": "code",
   "execution_count": 180,
   "metadata": {},
   "outputs": [
    {
     "name": "stdout",
     "output_type": "stream",
     "text": [
      "Mean Absolute Error: 23.248355432562438\n",
      "Mean Squared Error: 1114.436527886453\n",
      "Root Mean Squared Error: 33.38317731862042\n"
     ]
    }
   ],
   "source": [
    "print('Mean Absolute Error:',MAE_NN)  \n",
    "print('Mean Squared Error:',MSE_NN)  \n",
    "print('Root Mean Squared Error:',RMSE_NN)"
   ]
  },
  {
   "cell_type": "code",
   "execution_count": 181,
   "metadata": {},
   "outputs": [],
   "source": [
    "Mean_Abs_Error =[MAE_RF ,MAE_DT ,MAE_XGB , MAE_NN]\n",
    "Mean_Sqrt_Error = [MSE_RF, MSE_DT, MSE_XGB, MSE_NN]\n",
    "Root_Mean_Sqrd_Error = [RMSE_RF, RMSE_DT, RMSE_XGB, RMSE_NN]"
   ]
  },
  {
   "cell_type": "code",
   "execution_count": 182,
   "metadata": {},
   "outputs": [],
   "source": [
    "d = {'model': models,'Mean_Abs_Error': Mean_Abs_Error,'Mean_Sqrt_Error': Mean_Sqrt_Error,'Root_Mean_Sqrd_Error':Root_Mean_Sqrd_Error}"
   ]
  },
  {
   "cell_type": "code",
   "execution_count": 183,
   "metadata": {},
   "outputs": [
    {
     "data": {
      "text/html": [
       "<div>\n",
       "<style scoped>\n",
       "    .dataframe tbody tr th:only-of-type {\n",
       "        vertical-align: middle;\n",
       "    }\n",
       "\n",
       "    .dataframe tbody tr th {\n",
       "        vertical-align: top;\n",
       "    }\n",
       "\n",
       "    .dataframe thead th {\n",
       "        text-align: right;\n",
       "    }\n",
       "</style>\n",
       "<table border=\"1\" class=\"dataframe\">\n",
       "  <thead>\n",
       "    <tr style=\"text-align: right;\">\n",
       "      <th></th>\n",
       "      <th>model</th>\n",
       "      <th>Mean_Abs_Error</th>\n",
       "      <th>Mean_Sqrt_Error</th>\n",
       "      <th>Root_Mean_Sqrd_Error</th>\n",
       "    </tr>\n",
       "  </thead>\n",
       "  <tbody>\n",
       "    <tr>\n",
       "      <th>0</th>\n",
       "      <td>RF</td>\n",
       "      <td>4.018936</td>\n",
       "      <td>141.089176</td>\n",
       "      <td>11.878096</td>\n",
       "    </tr>\n",
       "    <tr>\n",
       "      <th>1</th>\n",
       "      <td>DT</td>\n",
       "      <td>21.473754</td>\n",
       "      <td>1113.280608</td>\n",
       "      <td>33.365860</td>\n",
       "    </tr>\n",
       "    <tr>\n",
       "      <th>2</th>\n",
       "      <td>XGboost</td>\n",
       "      <td>14.868262</td>\n",
       "      <td>476.757051</td>\n",
       "      <td>21.834767</td>\n",
       "    </tr>\n",
       "    <tr>\n",
       "      <th>3</th>\n",
       "      <td>NN</td>\n",
       "      <td>23.248355</td>\n",
       "      <td>1114.436528</td>\n",
       "      <td>33.383177</td>\n",
       "    </tr>\n",
       "  </tbody>\n",
       "</table>\n",
       "</div>"
      ],
      "text/plain": [
       "     model  Mean_Abs_Error  Mean_Sqrt_Error  Root_Mean_Sqrd_Error\n",
       "0       RF        4.018936       141.089176             11.878096\n",
       "1       DT       21.473754      1113.280608             33.365860\n",
       "2  XGboost       14.868262       476.757051             21.834767\n",
       "3       NN       23.248355      1114.436528             33.383177"
      ]
     },
     "execution_count": 183,
     "metadata": {},
     "output_type": "execute_result"
    }
   ],
   "source": [
    "pd.DataFrame(data=d)"
   ]
  },
  {
   "cell_type": "code",
   "execution_count": null,
   "metadata": {},
   "outputs": [],
   "source": []
  }
 ],
 "metadata": {
  "kernelspec": {
   "display_name": "Python 3",
   "language": "python",
   "name": "python3"
  },
  "language_info": {
   "codemirror_mode": {
    "name": "ipython",
    "version": 3
   },
   "file_extension": ".py",
   "mimetype": "text/x-python",
   "name": "python",
   "nbconvert_exporter": "python",
   "pygments_lexer": "ipython3",
   "version": "3.7.1"
  }
 },
 "nbformat": 4,
 "nbformat_minor": 2
}
