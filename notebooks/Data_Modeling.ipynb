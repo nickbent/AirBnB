{
 "cells": [
  {
   "cell_type": "markdown",
   "metadata": {},
   "source": [
    "## Choosing the appropriate machine learning algorithm"
   ]
  },
  {
   "cell_type": "markdown",
   "metadata": {},
   "source": [
    "Choosing the right ML algorithm is half systematic and half case-sensitive. What does that mean? From one prospective, there are few general steps you can save them as a crutch when you select the right ML model! However, from another prospective, your problem/data might be very unique and need to be carefully analyzed in order to select the right ML model!"
   ]
  },
  {
   "cell_type": "markdown",
   "metadata": {},
   "source": [
    "So, for any machine learning problem, we need to throw these questions to select the right model:\n",
    "\n",
    "1- Is our data labeled or not?\n",
    "\n",
    "Yes ---> Supervised Learning\n",
    "\n",
    "Is the output \"Label\" discrete or continuous?\n",
    "\n",
    "Discrete ---> Classification\n",
    "\n",
    "Continuous ---> Regression\n",
    "\n",
    "Anomaly Detection ---> The goal here is to identify data points that are simply unusual (e.x., Fraud Detection problem when we have highly unusual credit card spending patterns)\n",
    "\n",
    "No ---> Unsupervised Learning (Clustering)\n",
    "\n",
    "2- Do we need to interact with the environment to optimize the objective function?\n",
    "\n",
    "Yes ---> Reinforcement Learning\n"
   ]
  },
  {
   "cell_type": "markdown",
   "metadata": {},
   "source": [
    "Now that we have a clear picture about our data, we can answer the previous questions directly: Yes, we have labeled, continuous data ---> Supervised Learning \"Regression\"\n",
    "\n",
    "That lead us to a smaller set of ML algorithms where we deal with continuous labeled data: Linear Regression, Bayesian Linear Regression, Decision Forest Regression, Boosted Decision Tree Regression, Fast Forest Quantile Regression, Poisson Regression, Ordinal Regression, and Neural Network Regression.\n",
    "\n",
    "Here, we reach the second option, mentioned above, for the model selection: a case sensitive task! This requires awareness of many factors that characterizing our problem, mainly: Accuracy, linearity, training time, the number of parameters (e.g., number of iterations, error tolerance, etc), and the number of features.\n",
    "\n",
    "Finally, we need to highlight that \"No free lunch\" with machine learning models. We need to figure out what requirement(s) we want to pay more for it!\n",
    "\n",
    "So, we have a large number of observations for the three cities. \n",
    "\n",
    "In our particular problem, we have the renting price as the target variable to predict. For the three cities, the price shows a continuous increase over time. In other words, the late you book a listing on Airbnb, the cheaper price you can get!! \n",
    "\n",
    "At the previous step, our exploratory analysis has shown that we have non-linear connections between our features and the average price. However, this does not say that there is no correlation between them. Some of our features have shown good correlation with the price such as the people accommodation represented mainly by the sharing and the quantity of the available bedrooms, beds, and bathrooms.  Even, with some features that show no correlation with the price, they can help us in modeling our target variable. For example, the number of review stars show no direct correlation with the average price; however, it can help to explain other connections such as the variation of the price among different neighborhoods. \n"
   ]
  },
  {
   "cell_type": "markdown",
   "metadata": {},
   "source": [
    "# Linear Regression"
   ]
  },
  {
   "cell_type": "markdown",
   "metadata": {},
   "source": [
    "Linear models either the simple or Bayesian regression models are very popular to use in regression problems due to their simplicity and easy to interpret. However, in our case, I think they are not suitable to use because:\n",
    "\n",
    "1-\tThe relationship between the price and the predictors are non-linear as shown in the exploratory analysis. So, those linear models will fail to capture that non-linearity. \n",
    "\n",
    "2-\tAlso, with the large number of features (>10) we have, linear regression models are very prone to overfitting.\n"
   ]
  },
  {
   "cell_type": "markdown",
   "metadata": {},
   "source": [
    "#  Decision Forest Regression "
   ]
  },
  {
   "cell_type": "markdown",
   "metadata": {},
   "source": [
    "Decision trees are non-parametric models that splits the data in the form of a tree structure! It performs a sequence of simple tests for each data point, forming a binary tree data structure until a leaf node (decision) is reached.\n",
    "\n",
    "It can be one of our candidates for modeling our data. As we have some nonlinearity in our data, Decision Forest Regression can represent non-linear decision boundaries in Airbnb data. Also, since we have a quite large number of samples, DFR is efficient in both computation and memory usage during training and prediction.\n"
   ]
  },
  {
   "cell_type": "markdown",
   "metadata": {},
   "source": [
    "# Boosted Decision Tree Regression"
   ]
  },
  {
   "cell_type": "markdown",
   "metadata": {},
   "source": [
    "It simply a mix of two classical ML algorithms where boosting is employed to create an ensemble of regression trees!\n",
    "\n",
    "\"Boosting\" means that each tree is dependent on prior trees. The algorithm learns by fitting the residual of the trees that preceded it. Thus, boosting in a decision tree ensemble tends to improve accuracy with some small risk of less coverage.\n",
    "\n",
    "Boosting in regression trees tends to improve accuracy with some small risk of less coverage."
   ]
  },
  {
   "cell_type": "markdown",
   "metadata": {},
   "source": [
    "### XGBoost \n"
   ]
  },
  {
   "cell_type": "markdown",
   "metadata": {},
   "source": [
    "XGBoost is the implementation of the gradient boosted tree algorithms that's commonly used for classification and regression problems. Gradient boosting is a supervised learning algorithm consisting of an ensemble (set) of weaker models (trees), which sums up their estimates to predict a target variable with more accuracy.\n",
    "\n",
    "XGBoost is also a strong candidate to model our Airbnb data as it performs very well with large data sets and large number of features. In addition, it is very strong to capture the non-linearity in the connection between the target variable and the predictors. However, since it is a result of combining several models (trees), it can be a bit difficult to interpret. \n"
   ]
  },
  {
   "cell_type": "markdown",
   "metadata": {},
   "source": [
    "# Fast Forest Quantile Regression"
   ]
  },
  {
   "cell_type": "markdown",
   "metadata": {},
   "source": [
    "Quantile regression is useful if we want to understand more about the distribution of the predicted value, rather than get a single mean prediction value. This method has many applications, including:\n",
    "\n",
    "    - Predicting prices\n",
    "\n",
    "    - Estimating student performance or applying growth charts to assess child development\n",
    "\n",
    "    - Discovering predictive relationships in cases where there is only a weak relationship between variables\n"
   ]
  },
  {
   "cell_type": "markdown",
   "metadata": {},
   "source": [
    "As Regression Trees and Random Forest are generally great at learning complex, highly non-linear relationships, Fast Forest Quantile Regression can performs very well with our data. Also, it is very easy to interpret and understand. On the other hand, it might slow down the training time and also requires more memory with a larger random forest ensembles."
   ]
  },
  {
   "cell_type": "markdown",
   "metadata": {},
   "source": [
    "# K-nearest neighbors (KNN)"
   ]
  },
  {
   "cell_type": "markdown",
   "metadata": {},
   "source": [
    "KNN is a non-parametric method used for both classification and regression problems. The algorithm uses \"feature similarity\" to predict values of any new data points. This means that the new point is assigned a value based on how closely it resembles the points in the training set.\n",
    "\n",
    "KNN is a suitable algorithm to predict sales or price since it depends on averaging the output of similar examples. However, in our case of large data sets, it can slow down the training stage very badly.\n"
   ]
  },
  {
   "cell_type": "markdown",
   "metadata": {},
   "source": [
    "# Neural Network Regression"
   ]
  },
  {
   "cell_type": "markdown",
   "metadata": {},
   "source": [
    "Any class of statistical models can be termed a neural network if they use adaptive weights and can approximate non-linear functions of their inputs. Thus, neural network regression is suited to problems where a more traditional regression model cannot fit a solution.\n",
    "\n",
    "Although NN acts as a black box in terms of the model complexity, so it is very difficult to interpret. However, it is one of the most powerful ML models that can capture different types of feature variable relationships. In addition, NN performs very well as we have more data. So, definitely, NN is a suitable model to select for our goal of Airbnb price prediction. \n"
   ]
  },
  {
   "cell_type": "markdown",
   "metadata": {},
   "source": [
    "# Poisson Regression"
   ]
  },
  {
   "cell_type": "markdown",
   "metadata": {},
   "source": [
    "Poisson regression is intended for use in regression models that are used to predict numeric values, typically counts. Therefore, we can use this module to create a regression model only if the values you are trying to predict fit the following conditions:\n",
    "\n",
    "    - The response variable has a Poisson distribution.\n",
    "\n",
    "    - Counts cannot be negative. The method will fail outright if you attempt to use it with negative labels.\n",
    "\n",
    "    - A Poisson distribution is a discrete distribution; therefore, it is not meaningful to use this method with non-whole numbers.\n",
    "\n"
   ]
  },
  {
   "cell_type": "markdown",
   "metadata": {},
   "source": [
    "# Ordinal Regression"
   ]
  },
  {
   "cell_type": "markdown",
   "metadata": {},
   "source": [
    "Ordinal regression is used when the label or target column contains numbers, but the numbers represent a ranking or order rather than a numeric measurement."
   ]
  },
  {
   "cell_type": "markdown",
   "metadata": {},
   "source": [
    "Both Poisson and Ordinal regression requirements do not agree with the nature of our data and features. So, no point of even trying them!"
   ]
  },
  {
   "cell_type": "markdown",
   "metadata": {},
   "source": [
    "# Conclusion"
   ]
  },
  {
   "cell_type": "markdown",
   "metadata": {},
   "source": [
    " In conclusion, based on the following factors:\n",
    " \n",
    "1- The nature of our problem and the target variable (rental price),\n",
    "\n",
    "2- From the previous analysis of the usage of different ML techniques for a regression problem,\n",
    "\n",
    "3- And from the nature of our data set,\n",
    "\n",
    "Those techniques have been selected to be applied on our data in order to predict the rental price: Boosted Decision Tree Regression (XGBoost), Decision Forest Regression, and Artificial Neural Networks.\n",
    "\n"
   ]
  },
  {
   "cell_type": "markdown",
   "metadata": {},
   "source": [
    "Let's start!"
   ]
  },
  {
   "cell_type": "code",
   "execution_count": 1,
   "metadata": {},
   "outputs": [],
   "source": [
    "import pandas as pd \n",
    "import numpy as np\n",
    "import matplotlib.pyplot as plt\n",
    "%matplotlib inline\n",
    "import seaborn as sns\n",
    "from scipy.stats import norm\n",
    "from sklearn.metrics import classification_report\n",
    "from sklearn.metrics import roc_auc_score\n",
    "import warnings\n",
    "warnings.filterwarnings('ignore')\n",
    "from pathlib import Path"
   ]
  },
  {
   "cell_type": "code",
   "execution_count": 2,
   "metadata": {},
   "outputs": [],
   "source": [
    "from bnb.data_processing.read import read_csvfile"
   ]
  },
  {
   "cell_type": "code",
   "execution_count": 3,
   "metadata": {},
   "outputs": [
    {
     "data": {
      "text/plain": [
       "WindowsPath('C:/Users/KBrig/AirBnB/data')"
      ]
     },
     "execution_count": 3,
     "metadata": {},
     "output_type": "execute_result"
    }
   ],
   "source": [
    "Data_dir = Path('C:/Users/KBrig/AirBnB/data')\n",
    "Data_dir"
   ]
  },
  {
   "cell_type": "code",
   "execution_count": 4,
   "metadata": {},
   "outputs": [],
   "source": [
    "NewYork_CSV = Data_dir/'NewYorkData_clean.csv'\n",
    "Bangkok_CSV = Data_dir/'BangkokData_clean.csv'\n",
    "Cairo_CSV = Data_dir/'CairoData_clean.csv'"
   ]
  },
  {
   "cell_type": "code",
   "execution_count": 5,
   "metadata": {},
   "outputs": [
    {
     "data": {
      "text/html": [
       "<div>\n",
       "<style scoped>\n",
       "    .dataframe tbody tr th:only-of-type {\n",
       "        vertical-align: middle;\n",
       "    }\n",
       "\n",
       "    .dataframe tbody tr th {\n",
       "        vertical-align: top;\n",
       "    }\n",
       "\n",
       "    .dataframe thead th {\n",
       "        text-align: right;\n",
       "    }\n",
       "</style>\n",
       "<table border=\"1\" class=\"dataframe\">\n",
       "  <thead>\n",
       "    <tr style=\"text-align: right;\">\n",
       "      <th></th>\n",
       "      <th>Accuracy_stars</th>\n",
       "      <th>CheckIn</th>\n",
       "      <th>CheckIn_stars</th>\n",
       "      <th>CheckOut</th>\n",
       "      <th>Cleanliness_stars</th>\n",
       "      <th>Communication_stars</th>\n",
       "      <th>Latitude</th>\n",
       "      <th>Location_stars</th>\n",
       "      <th>Longitude</th>\n",
       "      <th>Price</th>\n",
       "      <th>...</th>\n",
       "      <th>Group_ID</th>\n",
       "      <th>AvgPrice_neighborhood</th>\n",
       "      <th>AvgNormPrice_neighborhood</th>\n",
       "      <th>avg_rating_stars</th>\n",
       "      <th>Amenities_length</th>\n",
       "      <th>day_of_month</th>\n",
       "      <th>Year_week</th>\n",
       "      <th>weeks_before_booking</th>\n",
       "      <th>ListingsNo_in_weekth</th>\n",
       "      <th>log_price</th>\n",
       "    </tr>\n",
       "  </thead>\n",
       "  <tbody>\n",
       "    <tr>\n",
       "      <th>0</th>\n",
       "      <td>5.0</td>\n",
       "      <td>2019-03-21</td>\n",
       "      <td>5.0</td>\n",
       "      <td>2019-03-26</td>\n",
       "      <td>5.0</td>\n",
       "      <td>5.0</td>\n",
       "      <td>40.73321</td>\n",
       "      <td>5.0</td>\n",
       "      <td>-74.00242</td>\n",
       "      <td>244</td>\n",
       "      <td>...</td>\n",
       "      <td>193</td>\n",
       "      <td>242.59375</td>\n",
       "      <td>12</td>\n",
       "      <td>4.916667</td>\n",
       "      <td>28</td>\n",
       "      <td>21</td>\n",
       "      <td>12</td>\n",
       "      <td>2</td>\n",
       "      <td>142</td>\n",
       "      <td>5.497168</td>\n",
       "    </tr>\n",
       "    <tr>\n",
       "      <th>1</th>\n",
       "      <td>0.0</td>\n",
       "      <td>2019-03-07</td>\n",
       "      <td>0.0</td>\n",
       "      <td>2019-03-12</td>\n",
       "      <td>0.0</td>\n",
       "      <td>0.0</td>\n",
       "      <td>40.73181</td>\n",
       "      <td>0.0</td>\n",
       "      <td>-74.00606</td>\n",
       "      <td>188</td>\n",
       "      <td>...</td>\n",
       "      <td>193</td>\n",
       "      <td>242.59375</td>\n",
       "      <td>12</td>\n",
       "      <td>0.000000</td>\n",
       "      <td>10</td>\n",
       "      <td>7</td>\n",
       "      <td>10</td>\n",
       "      <td>0</td>\n",
       "      <td>168</td>\n",
       "      <td>5.236442</td>\n",
       "    </tr>\n",
       "    <tr>\n",
       "      <th>2</th>\n",
       "      <td>5.0</td>\n",
       "      <td>2019-03-07</td>\n",
       "      <td>5.0</td>\n",
       "      <td>2019-03-12</td>\n",
       "      <td>5.0</td>\n",
       "      <td>5.0</td>\n",
       "      <td>40.82484</td>\n",
       "      <td>5.0</td>\n",
       "      <td>-73.95260</td>\n",
       "      <td>59</td>\n",
       "      <td>...</td>\n",
       "      <td>74</td>\n",
       "      <td>90.18750</td>\n",
       "      <td>4</td>\n",
       "      <td>5.000000</td>\n",
       "      <td>12</td>\n",
       "      <td>7</td>\n",
       "      <td>10</td>\n",
       "      <td>0</td>\n",
       "      <td>168</td>\n",
       "      <td>4.077537</td>\n",
       "    </tr>\n",
       "  </tbody>\n",
       "</table>\n",
       "<p>3 rows × 124 columns</p>\n",
       "</div>"
      ],
      "text/plain": [
       "   Accuracy_stars     CheckIn  CheckIn_stars    CheckOut  Cleanliness_stars  \\\n",
       "0             5.0  2019-03-21            5.0  2019-03-26                5.0   \n",
       "1             0.0  2019-03-07            0.0  2019-03-12                0.0   \n",
       "2             5.0  2019-03-07            5.0  2019-03-12                5.0   \n",
       "\n",
       "   Communication_stars  Latitude  Location_stars  Longitude  Price    ...      \\\n",
       "0                  5.0  40.73321             5.0  -74.00242    244    ...       \n",
       "1                  0.0  40.73181             0.0  -74.00606    188    ...       \n",
       "2                  5.0  40.82484             5.0  -73.95260     59    ...       \n",
       "\n",
       "   Group_ID  AvgPrice_neighborhood  AvgNormPrice_neighborhood  \\\n",
       "0       193              242.59375                         12   \n",
       "1       193              242.59375                         12   \n",
       "2        74               90.18750                          4   \n",
       "\n",
       "   avg_rating_stars  Amenities_length  day_of_month  Year_week  \\\n",
       "0          4.916667                28            21         12   \n",
       "1          0.000000                10             7         10   \n",
       "2          5.000000                12             7         10   \n",
       "\n",
       "   weeks_before_booking  ListingsNo_in_weekth  log_price  \n",
       "0                     2                   142   5.497168  \n",
       "1                     0                   168   5.236442  \n",
       "2                     0                   168   4.077537  \n",
       "\n",
       "[3 rows x 124 columns]"
      ]
     },
     "execution_count": 5,
     "metadata": {},
     "output_type": "execute_result"
    }
   ],
   "source": [
    "NewYorkData = read_csvfile(NewYork_CSV)\n",
    "NewYorkData.head(3)"
   ]
  },
  {
   "cell_type": "code",
   "execution_count": 6,
   "metadata": {},
   "outputs": [
    {
     "data": {
      "text/html": [
       "<div>\n",
       "<style scoped>\n",
       "    .dataframe tbody tr th:only-of-type {\n",
       "        vertical-align: middle;\n",
       "    }\n",
       "\n",
       "    .dataframe tbody tr th {\n",
       "        vertical-align: top;\n",
       "    }\n",
       "\n",
       "    .dataframe thead th {\n",
       "        text-align: right;\n",
       "    }\n",
       "</style>\n",
       "<table border=\"1\" class=\"dataframe\">\n",
       "  <thead>\n",
       "    <tr style=\"text-align: right;\">\n",
       "      <th></th>\n",
       "      <th>level_0</th>\n",
       "      <th>index</th>\n",
       "      <th>CheckIn</th>\n",
       "      <th>CheckOut</th>\n",
       "      <th>Price</th>\n",
       "      <th>Super_host</th>\n",
       "      <th>Latitude</th>\n",
       "      <th>Longitude</th>\n",
       "      <th>Accuracy_stars</th>\n",
       "      <th>Communication_stars</th>\n",
       "      <th>...</th>\n",
       "      <th>home_renting_trend</th>\n",
       "      <th>Super_host_string</th>\n",
       "      <th>avg_rating_stars</th>\n",
       "      <th>price_stars_corr_per_nhood</th>\n",
       "      <th>Amenities_length</th>\n",
       "      <th>day_of_month</th>\n",
       "      <th>Year_week</th>\n",
       "      <th>weeks_before_booking</th>\n",
       "      <th>ListingsNo_in_weekth</th>\n",
       "      <th>log_price</th>\n",
       "    </tr>\n",
       "  </thead>\n",
       "  <tbody>\n",
       "    <tr>\n",
       "      <th>0</th>\n",
       "      <td>3742</td>\n",
       "      <td>3742</td>\n",
       "      <td>2019-08-27</td>\n",
       "      <td>2019-09-01</td>\n",
       "      <td>52</td>\n",
       "      <td>1</td>\n",
       "      <td>13.74306</td>\n",
       "      <td>100.55585</td>\n",
       "      <td>5.0</td>\n",
       "      <td>5.0</td>\n",
       "      <td>...</td>\n",
       "      <td>up-down</td>\n",
       "      <td>Super</td>\n",
       "      <td>5.0</td>\n",
       "      <td>0.078627</td>\n",
       "      <td>25</td>\n",
       "      <td>27</td>\n",
       "      <td>35</td>\n",
       "      <td>24</td>\n",
       "      <td>301</td>\n",
       "      <td>3.951244</td>\n",
       "    </tr>\n",
       "    <tr>\n",
       "      <th>1</th>\n",
       "      <td>2626</td>\n",
       "      <td>2626</td>\n",
       "      <td>2019-07-02</td>\n",
       "      <td>2019-07-07</td>\n",
       "      <td>67</td>\n",
       "      <td>0</td>\n",
       "      <td>13.74169</td>\n",
       "      <td>100.55655</td>\n",
       "      <td>5.0</td>\n",
       "      <td>5.0</td>\n",
       "      <td>...</td>\n",
       "      <td>no change</td>\n",
       "      <td>not</td>\n",
       "      <td>5.0</td>\n",
       "      <td>0.133509</td>\n",
       "      <td>22</td>\n",
       "      <td>2</td>\n",
       "      <td>27</td>\n",
       "      <td>16</td>\n",
       "      <td>304</td>\n",
       "      <td>4.204693</td>\n",
       "    </tr>\n",
       "    <tr>\n",
       "      <th>2</th>\n",
       "      <td>2859</td>\n",
       "      <td>2859</td>\n",
       "      <td>2019-07-16</td>\n",
       "      <td>2019-07-21</td>\n",
       "      <td>67</td>\n",
       "      <td>0</td>\n",
       "      <td>13.74169</td>\n",
       "      <td>100.55655</td>\n",
       "      <td>5.0</td>\n",
       "      <td>5.0</td>\n",
       "      <td>...</td>\n",
       "      <td>no change</td>\n",
       "      <td>not</td>\n",
       "      <td>5.0</td>\n",
       "      <td>-0.227533</td>\n",
       "      <td>26</td>\n",
       "      <td>16</td>\n",
       "      <td>29</td>\n",
       "      <td>18</td>\n",
       "      <td>304</td>\n",
       "      <td>4.204693</td>\n",
       "    </tr>\n",
       "  </tbody>\n",
       "</table>\n",
       "<p>3 rows × 127 columns</p>\n",
       "</div>"
      ],
      "text/plain": [
       "   level_0  index     CheckIn    CheckOut  Price  Super_host  Latitude  \\\n",
       "0     3742   3742  2019-08-27  2019-09-01     52           1  13.74306   \n",
       "1     2626   2626  2019-07-02  2019-07-07     67           0  13.74169   \n",
       "2     2859   2859  2019-07-16  2019-07-21     67           0  13.74169   \n",
       "\n",
       "   Longitude  Accuracy_stars  Communication_stars    ...      \\\n",
       "0  100.55585             5.0                  5.0    ...       \n",
       "1  100.55655             5.0                  5.0    ...       \n",
       "2  100.55655             5.0                  5.0    ...       \n",
       "\n",
       "   home_renting_trend  Super_host_string  avg_rating_stars  \\\n",
       "0             up-down              Super               5.0   \n",
       "1           no change                not               5.0   \n",
       "2           no change                not               5.0   \n",
       "\n",
       "   price_stars_corr_per_nhood  Amenities_length  day_of_month  Year_week  \\\n",
       "0                    0.078627                25            27         35   \n",
       "1                    0.133509                22             2         27   \n",
       "2                   -0.227533                26            16         29   \n",
       "\n",
       "   weeks_before_booking  ListingsNo_in_weekth  log_price  \n",
       "0                    24                   301   3.951244  \n",
       "1                    16                   304   4.204693  \n",
       "2                    18                   304   4.204693  \n",
       "\n",
       "[3 rows x 127 columns]"
      ]
     },
     "execution_count": 6,
     "metadata": {},
     "output_type": "execute_result"
    }
   ],
   "source": [
    "BangkokData = read_csvfile(Bangkok_CSV)\n",
    "BangkokData.head(3)"
   ]
  },
  {
   "cell_type": "code",
   "execution_count": 7,
   "metadata": {},
   "outputs": [
    {
     "data": {
      "text/html": [
       "<div>\n",
       "<style scoped>\n",
       "    .dataframe tbody tr th:only-of-type {\n",
       "        vertical-align: middle;\n",
       "    }\n",
       "\n",
       "    .dataframe tbody tr th {\n",
       "        vertical-align: top;\n",
       "    }\n",
       "\n",
       "    .dataframe thead th {\n",
       "        text-align: right;\n",
       "    }\n",
       "</style>\n",
       "<table border=\"1\" class=\"dataframe\">\n",
       "  <thead>\n",
       "    <tr style=\"text-align: right;\">\n",
       "      <th></th>\n",
       "      <th>index</th>\n",
       "      <th>CheckIn</th>\n",
       "      <th>CheckOut</th>\n",
       "      <th>Price</th>\n",
       "      <th>Super_host</th>\n",
       "      <th>Latitude</th>\n",
       "      <th>Longitude</th>\n",
       "      <th>Accuracy_stars</th>\n",
       "      <th>Communication_stars</th>\n",
       "      <th>Cleanliness_stars</th>\n",
       "      <th>...</th>\n",
       "      <th>avg_rating_stars</th>\n",
       "      <th>price_stars_corr_per_nhood</th>\n",
       "      <th>price_stars_corr_Zvalue</th>\n",
       "      <th>avg_price_stars_corr</th>\n",
       "      <th>Amenities_length</th>\n",
       "      <th>day_of_month</th>\n",
       "      <th>Year_week</th>\n",
       "      <th>weeks_before_booking</th>\n",
       "      <th>ListingsNo_in_weekth</th>\n",
       "      <th>log_price</th>\n",
       "    </tr>\n",
       "  </thead>\n",
       "  <tbody>\n",
       "    <tr>\n",
       "      <th>0</th>\n",
       "      <td>3201</td>\n",
       "      <td>2019-08-01</td>\n",
       "      <td>2019-08-06</td>\n",
       "      <td>39</td>\n",
       "      <td>1</td>\n",
       "      <td>30.05867</td>\n",
       "      <td>31.44884</td>\n",
       "      <td>0.0</td>\n",
       "      <td>0.0</td>\n",
       "      <td>0.0</td>\n",
       "      <td>...</td>\n",
       "      <td>0.000000</td>\n",
       "      <td>-0.015865</td>\n",
       "      <td>-0.015867</td>\n",
       "      <td>-0.015865</td>\n",
       "      <td>23</td>\n",
       "      <td>1</td>\n",
       "      <td>31</td>\n",
       "      <td>20</td>\n",
       "      <td>304</td>\n",
       "      <td>3.663562</td>\n",
       "    </tr>\n",
       "    <tr>\n",
       "      <th>1</th>\n",
       "      <td>908</td>\n",
       "      <td>2019-04-11</td>\n",
       "      <td>2019-04-16</td>\n",
       "      <td>27</td>\n",
       "      <td>0</td>\n",
       "      <td>29.96925</td>\n",
       "      <td>31.26652</td>\n",
       "      <td>0.0</td>\n",
       "      <td>0.0</td>\n",
       "      <td>0.0</td>\n",
       "      <td>...</td>\n",
       "      <td>0.000000</td>\n",
       "      <td>0.045170</td>\n",
       "      <td>0.045200</td>\n",
       "      <td>0.045170</td>\n",
       "      <td>24</td>\n",
       "      <td>11</td>\n",
       "      <td>15</td>\n",
       "      <td>4</td>\n",
       "      <td>305</td>\n",
       "      <td>3.295837</td>\n",
       "    </tr>\n",
       "    <tr>\n",
       "      <th>2</th>\n",
       "      <td>4605</td>\n",
       "      <td>2019-10-10</td>\n",
       "      <td>2019-10-15</td>\n",
       "      <td>51</td>\n",
       "      <td>1</td>\n",
       "      <td>29.95475</td>\n",
       "      <td>31.26336</td>\n",
       "      <td>4.0</td>\n",
       "      <td>4.5</td>\n",
       "      <td>4.5</td>\n",
       "      <td>...</td>\n",
       "      <td>4.416667</td>\n",
       "      <td>-0.015865</td>\n",
       "      <td>-0.015867</td>\n",
       "      <td>-0.015865</td>\n",
       "      <td>26</td>\n",
       "      <td>10</td>\n",
       "      <td>41</td>\n",
       "      <td>30</td>\n",
       "      <td>302</td>\n",
       "      <td>3.931826</td>\n",
       "    </tr>\n",
       "  </tbody>\n",
       "</table>\n",
       "<p>3 rows × 127 columns</p>\n",
       "</div>"
      ],
      "text/plain": [
       "   index     CheckIn    CheckOut  Price  Super_host  Latitude  Longitude  \\\n",
       "0   3201  2019-08-01  2019-08-06     39           1  30.05867   31.44884   \n",
       "1    908  2019-04-11  2019-04-16     27           0  29.96925   31.26652   \n",
       "2   4605  2019-10-10  2019-10-15     51           1  29.95475   31.26336   \n",
       "\n",
       "   Accuracy_stars  Communication_stars  Cleanliness_stars    ...      \\\n",
       "0             0.0                  0.0                0.0    ...       \n",
       "1             0.0                  0.0                0.0    ...       \n",
       "2             4.0                  4.5                4.5    ...       \n",
       "\n",
       "   avg_rating_stars  price_stars_corr_per_nhood  price_stars_corr_Zvalue  \\\n",
       "0          0.000000                   -0.015865                -0.015867   \n",
       "1          0.000000                    0.045170                 0.045200   \n",
       "2          4.416667                   -0.015865                -0.015867   \n",
       "\n",
       "   avg_price_stars_corr  Amenities_length  day_of_month  Year_week  \\\n",
       "0             -0.015865                23             1         31   \n",
       "1              0.045170                24            11         15   \n",
       "2             -0.015865                26            10         41   \n",
       "\n",
       "   weeks_before_booking  ListingsNo_in_weekth  log_price  \n",
       "0                    20                   304   3.663562  \n",
       "1                     4                   305   3.295837  \n",
       "2                    30                   302   3.931826  \n",
       "\n",
       "[3 rows x 127 columns]"
      ]
     },
     "execution_count": 7,
     "metadata": {},
     "output_type": "execute_result"
    }
   ],
   "source": [
    "CairoData = read_csvfile(Cairo_CSV)\n",
    "CairoData.head(3)"
   ]
  },
  {
   "cell_type": "markdown",
   "metadata": {},
   "source": [
    "### Choose only the features of interest as selected in the previous step of feature selection!"
   ]
  },
  {
   "cell_type": "markdown",
   "metadata": {},
   "source": [
    "Number of weeks till booking\n",
    "\n",
    "The week of the year\n",
    "\n",
    "The number of listings available in every week of the year\n",
    "\n",
    "Latitude\n",
    "\n",
    "Longitude\n",
    "\n",
    "Neighborhood_ID\n",
    "\n",
    "No. of Bathrooms\n",
    "\n",
    "No. of Bedrooms\n",
    "\n",
    "No. of Beds\n",
    "\n",
    "Shared_bathroom\n",
    "\n",
    "Shared_bedroom\n",
    "\n",
    "No. of Amenities\n",
    "\n",
    "No. of Reviewers\n",
    "\n",
    "Avg. number of review stars\n",
    "\n",
    "Super host\n"
   ]
  },
  {
   "cell_type": "code",
   "execution_count": 8,
   "metadata": {},
   "outputs": [],
   "source": [
    "Selected_list = ['Latitude','Longitude','ListingsNo_in_weekth','weeks_before_booking','Year_week','Bathrooms_num_int','Bedrooms_int','Beds_int','shared_bathroom','shared_room','Reviewers_no','Group_ID','avg_rating_stars','Amenities_length','Super_host']"
   ]
  },
  {
   "cell_type": "markdown",
   "metadata": {},
   "source": [
    "## New York"
   ]
  },
  {
   "cell_type": "code",
   "execution_count": 9,
   "metadata": {},
   "outputs": [],
   "source": [
    "NY_X = NewYorkData[Selected_list]\n",
    "NY_Y = NewYorkData['log_price']"
   ]
  },
  {
   "cell_type": "markdown",
   "metadata": {},
   "source": [
    "## Data Splitting"
   ]
  },
  {
   "cell_type": "code",
   "execution_count": 10,
   "metadata": {},
   "outputs": [],
   "source": [
    "from sklearn.model_selection import train_test_split"
   ]
  },
  {
   "cell_type": "code",
   "execution_count": 11,
   "metadata": {},
   "outputs": [],
   "source": [
    "X_train1, X_test1, y_train1, y_test1 = train_test_split(NY_X,NY_Y,test_size=0.3, random_state=5)"
   ]
  },
  {
   "cell_type": "code",
   "execution_count": 12,
   "metadata": {},
   "outputs": [
    {
     "data": {
      "text/html": [
       "<div>\n",
       "<style scoped>\n",
       "    .dataframe tbody tr th:only-of-type {\n",
       "        vertical-align: middle;\n",
       "    }\n",
       "\n",
       "    .dataframe tbody tr th {\n",
       "        vertical-align: top;\n",
       "    }\n",
       "\n",
       "    .dataframe thead th {\n",
       "        text-align: right;\n",
       "    }\n",
       "</style>\n",
       "<table border=\"1\" class=\"dataframe\">\n",
       "  <thead>\n",
       "    <tr style=\"text-align: right;\">\n",
       "      <th></th>\n",
       "      <th>Latitude</th>\n",
       "      <th>Longitude</th>\n",
       "      <th>ListingsNo_in_weekth</th>\n",
       "      <th>weeks_before_booking</th>\n",
       "      <th>Year_week</th>\n",
       "      <th>Bathrooms_num_int</th>\n",
       "      <th>Bedrooms_int</th>\n",
       "      <th>Beds_int</th>\n",
       "      <th>shared_bathroom</th>\n",
       "      <th>shared_room</th>\n",
       "      <th>Reviewers_no</th>\n",
       "      <th>Group_ID</th>\n",
       "      <th>avg_rating_stars</th>\n",
       "      <th>Amenities_length</th>\n",
       "      <th>Super_host</th>\n",
       "    </tr>\n",
       "  </thead>\n",
       "  <tbody>\n",
       "    <tr>\n",
       "      <th>487</th>\n",
       "      <td>40.73657</td>\n",
       "      <td>-73.91975</td>\n",
       "      <td>144</td>\n",
       "      <td>42</td>\n",
       "      <td>52</td>\n",
       "      <td>1.0</td>\n",
       "      <td>1.0</td>\n",
       "      <td>1</td>\n",
       "      <td>0</td>\n",
       "      <td>2</td>\n",
       "      <td>6</td>\n",
       "      <td>169</td>\n",
       "      <td>4.916667</td>\n",
       "      <td>9</td>\n",
       "      <td>0</td>\n",
       "    </tr>\n",
       "    <tr>\n",
       "      <th>248</th>\n",
       "      <td>40.71304</td>\n",
       "      <td>-73.96238</td>\n",
       "      <td>149</td>\n",
       "      <td>4</td>\n",
       "      <td>14</td>\n",
       "      <td>1.0</td>\n",
       "      <td>1.0</td>\n",
       "      <td>1</td>\n",
       "      <td>1</td>\n",
       "      <td>2</td>\n",
       "      <td>25</td>\n",
       "      <td>196</td>\n",
       "      <td>5.000000</td>\n",
       "      <td>1</td>\n",
       "      <td>1</td>\n",
       "    </tr>\n",
       "    <tr>\n",
       "      <th>1132</th>\n",
       "      <td>40.76087</td>\n",
       "      <td>-73.88375</td>\n",
       "      <td>135</td>\n",
       "      <td>8</td>\n",
       "      <td>18</td>\n",
       "      <td>1.0</td>\n",
       "      <td>1.0</td>\n",
       "      <td>2</td>\n",
       "      <td>1</td>\n",
       "      <td>2</td>\n",
       "      <td>17</td>\n",
       "      <td>155</td>\n",
       "      <td>4.916667</td>\n",
       "      <td>16</td>\n",
       "      <td>1</td>\n",
       "    </tr>\n",
       "    <tr>\n",
       "      <th>293</th>\n",
       "      <td>40.71090</td>\n",
       "      <td>-73.96478</td>\n",
       "      <td>168</td>\n",
       "      <td>0</td>\n",
       "      <td>10</td>\n",
       "      <td>2.0</td>\n",
       "      <td>1.0</td>\n",
       "      <td>2</td>\n",
       "      <td>1</td>\n",
       "      <td>2</td>\n",
       "      <td>20</td>\n",
       "      <td>196</td>\n",
       "      <td>4.416667</td>\n",
       "      <td>15</td>\n",
       "      <td>0</td>\n",
       "    </tr>\n",
       "    <tr>\n",
       "      <th>959</th>\n",
       "      <td>40.74158</td>\n",
       "      <td>-73.98593</td>\n",
       "      <td>151</td>\n",
       "      <td>28</td>\n",
       "      <td>38</td>\n",
       "      <td>1.0</td>\n",
       "      <td>1.0</td>\n",
       "      <td>1</td>\n",
       "      <td>0</td>\n",
       "      <td>0</td>\n",
       "      <td>-1</td>\n",
       "      <td>58</td>\n",
       "      <td>0.000000</td>\n",
       "      <td>35</td>\n",
       "      <td>0</td>\n",
       "    </tr>\n",
       "  </tbody>\n",
       "</table>\n",
       "</div>"
      ],
      "text/plain": [
       "      Latitude  Longitude  ListingsNo_in_weekth  weeks_before_booking  \\\n",
       "487   40.73657  -73.91975                   144                    42   \n",
       "248   40.71304  -73.96238                   149                     4   \n",
       "1132  40.76087  -73.88375                   135                     8   \n",
       "293   40.71090  -73.96478                   168                     0   \n",
       "959   40.74158  -73.98593                   151                    28   \n",
       "\n",
       "      Year_week  Bathrooms_num_int  Bedrooms_int  Beds_int  shared_bathroom  \\\n",
       "487          52                1.0           1.0         1                0   \n",
       "248          14                1.0           1.0         1                1   \n",
       "1132         18                1.0           1.0         2                1   \n",
       "293          10                2.0           1.0         2                1   \n",
       "959          38                1.0           1.0         1                0   \n",
       "\n",
       "      shared_room  Reviewers_no  Group_ID  avg_rating_stars  Amenities_length  \\\n",
       "487             2             6       169          4.916667                 9   \n",
       "248             2            25       196          5.000000                 1   \n",
       "1132            2            17       155          4.916667                16   \n",
       "293             2            20       196          4.416667                15   \n",
       "959             0            -1        58          0.000000                35   \n",
       "\n",
       "      Super_host  \n",
       "487            0  \n",
       "248            1  \n",
       "1132           1  \n",
       "293            0  \n",
       "959            0  "
      ]
     },
     "execution_count": 12,
     "metadata": {},
     "output_type": "execute_result"
    }
   ],
   "source": [
    "X_train1.head()"
   ]
  },
  {
   "cell_type": "code",
   "execution_count": 13,
   "metadata": {},
   "outputs": [
    {
     "name": "stdout",
     "output_type": "stream",
     "text": [
      "(2769, 15)\n",
      "(1188, 15)\n",
      "(2769,)\n",
      "(1188,)\n"
     ]
    }
   ],
   "source": [
    "print(X_train1.shape)\n",
    "print(X_test1.shape)\n",
    "print(y_train1.shape)\n",
    "print(y_test1.shape)"
   ]
  },
  {
   "cell_type": "markdown",
   "metadata": {},
   "source": [
    "### Random Forest Regression (RF)"
   ]
  },
  {
   "cell_type": "code",
   "execution_count": 14,
   "metadata": {},
   "outputs": [],
   "source": [
    "from sklearn.ensemble.forest import RandomForestRegressor\n",
    "rf_regressor = RandomForestRegressor(n_estimators=400, criterion='mse', random_state=9)"
   ]
  },
  {
   "cell_type": "code",
   "execution_count": 15,
   "metadata": {},
   "outputs": [
    {
     "data": {
      "text/plain": [
       "RandomForestRegressor(bootstrap=True, criterion='mse', max_depth=None,\n",
       "           max_features='auto', max_leaf_nodes=None,\n",
       "           min_impurity_decrease=0.0, min_impurity_split=None,\n",
       "           min_samples_leaf=1, min_samples_split=2,\n",
       "           min_weight_fraction_leaf=0.0, n_estimators=400, n_jobs=None,\n",
       "           oob_score=False, random_state=9, verbose=0, warm_start=False)"
      ]
     },
     "execution_count": 15,
     "metadata": {},
     "output_type": "execute_result"
    }
   ],
   "source": [
    "rf_regressor.fit(X_train1, y_train1)"
   ]
  },
  {
   "cell_type": "code",
   "execution_count": 16,
   "metadata": {},
   "outputs": [],
   "source": [
    "y_pred1_RF = rf_regressor.predict(X_test1)"
   ]
  },
  {
   "cell_type": "code",
   "execution_count": 17,
   "metadata": {},
   "outputs": [
    {
     "data": {
      "text/plain": [
       "Text(0.5, 1.0, 'Evaluation of Random Forest Predictions')"
      ]
     },
     "execution_count": 17,
     "metadata": {},
     "output_type": "execute_result"
    },
    {
     "data": {
      "image/png": "[encoded data removed]",
      "text/plain": [
       "<Figure size 432x288 with 1 Axes>"
      ]
     },
     "metadata": {
      "needs_background": "light"
     },
     "output_type": "display_data"
    }
   ],
   "source": [
    "# let's evaluate our predictions respect to the original price\n",
    "plt.scatter(y_test1, y_pred1_RF)\n",
    "plt.xlabel('True Price')\n",
    "plt.ylabel('Predicted Price')\n",
    "plt.title('Evaluation of Random Forest Predictions')"
   ]
  },
  {
   "cell_type": "markdown",
   "metadata": {},
   "source": [
    "As we can see that the previous plot shows a linear relationship between the predicted and the actual values of the listings' prices. "
   ]
  },
  {
   "cell_type": "code",
   "execution_count": 18,
   "metadata": {},
   "outputs": [],
   "source": [
    "from sklearn import metrics\n",
    "MAE_RF = metrics.mean_absolute_error(y_test1, y_pred1_RF)\n",
    "MSE_RF = metrics.mean_squared_error(y_test1, y_pred1_RF)\n",
    "RMSE_RF = np.sqrt(metrics.mean_squared_error(y_test1, y_pred1_RF))"
   ]
  },
  {
   "cell_type": "code",
   "execution_count": 19,
   "metadata": {},
   "outputs": [
    {
     "name": "stdout",
     "output_type": "stream",
     "text": [
      "Mean Absolute Error: 0.1278904956213602\n",
      "Mean Squared Error: 0.032393782192114334\n",
      "Root Mean Squared Error: 0.17998272748270688\n"
     ]
    }
   ],
   "source": [
    "print('Mean Absolute Error:',MAE_RF)  \n",
    "print('Mean Squared Error:',MSE_RF)  \n",
    "print('Root Mean Squared Error:',RMSE_RF)  "
   ]
  },
  {
   "cell_type": "code",
   "execution_count": 20,
   "metadata": {},
   "outputs": [
    {
     "data": {
      "text/plain": [
       "<matplotlib.axes._subplots.AxesSubplot at 0x20128bcb160>"
      ]
     },
     "execution_count": 20,
     "metadata": {},
     "output_type": "execute_result"
    },
    {
     "data": {
      "image/png": "[encoded data removed]",
      "text/plain": [
       "<Figure size 432x288 with 1 Axes>"
      ]
     },
     "metadata": {
      "needs_background": "light"
     },
     "output_type": "display_data"
    }
   ],
   "source": [
    "# let's evaluate the distribution of the errors: \n",
    "errors = y_test1 - y_pred1_RF\n",
    "errors.hist(bins=15)"
   ]
  },
  {
   "cell_type": "markdown",
   "metadata": {},
   "source": [
    "The distribution of the errors follows quite closely a gaussian distribution. That suggests that our model is doing a good job as well."
   ]
  },
  {
   "cell_type": "code",
   "execution_count": 21,
   "metadata": {},
   "outputs": [],
   "source": [
    "d = {'y':y_test1, 'y^':y_pred1_RF,'E_abs':abs(y_test1 - y_pred1_RF),'E^2':(y_test1 - y_pred1_RF)**2,'value_index': y_test1.index}\n",
    "E = pd.DataFrame(data=d)"
   ]
  },
  {
   "cell_type": "code",
   "execution_count": 22,
   "metadata": {},
   "outputs": [],
   "source": [
    "E = E.join(X_test1)"
   ]
  },
  {
   "cell_type": "code",
   "execution_count": 23,
   "metadata": {},
   "outputs": [],
   "source": [
    "E = E.sort_values('E^2')"
   ]
  },
  {
   "cell_type": "markdown",
   "metadata": {},
   "source": [
    "The best 10 predictions are:"
   ]
  },
  {
   "cell_type": "code",
   "execution_count": 24,
   "metadata": {},
   "outputs": [
    {
     "data": {
      "text/html": [
       "<div>\n",
       "<style scoped>\n",
       "    .dataframe tbody tr th:only-of-type {\n",
       "        vertical-align: middle;\n",
       "    }\n",
       "\n",
       "    .dataframe tbody tr th {\n",
       "        vertical-align: top;\n",
       "    }\n",
       "\n",
       "    .dataframe thead th {\n",
       "        text-align: right;\n",
       "    }\n",
       "</style>\n",
       "<table border=\"1\" class=\"dataframe\">\n",
       "  <thead>\n",
       "    <tr style=\"text-align: right;\">\n",
       "      <th></th>\n",
       "      <th>y</th>\n",
       "      <th>y^</th>\n",
       "      <th>E_abs</th>\n",
       "      <th>E^2</th>\n",
       "      <th>value_index</th>\n",
       "      <th>Latitude</th>\n",
       "      <th>Longitude</th>\n",
       "      <th>ListingsNo_in_weekth</th>\n",
       "      <th>weeks_before_booking</th>\n",
       "      <th>Year_week</th>\n",
       "      <th>Bathrooms_num_int</th>\n",
       "      <th>Bedrooms_int</th>\n",
       "      <th>Beds_int</th>\n",
       "      <th>shared_bathroom</th>\n",
       "      <th>shared_room</th>\n",
       "      <th>Reviewers_no</th>\n",
       "      <th>Group_ID</th>\n",
       "      <th>avg_rating_stars</th>\n",
       "      <th>Amenities_length</th>\n",
       "      <th>Super_host</th>\n",
       "    </tr>\n",
       "  </thead>\n",
       "  <tbody>\n",
       "    <tr>\n",
       "      <th>2154</th>\n",
       "      <td>4.624973</td>\n",
       "      <td>4.625075</td>\n",
       "      <td>0.000102</td>\n",
       "      <td>1.044158e-08</td>\n",
       "      <td>2154</td>\n",
       "      <td>40.79846</td>\n",
       "      <td>-73.95986</td>\n",
       "      <td>159</td>\n",
       "      <td>10</td>\n",
       "      <td>20</td>\n",
       "      <td>1.0</td>\n",
       "      <td>1.0</td>\n",
       "      <td>1</td>\n",
       "      <td>1</td>\n",
       "      <td>2</td>\n",
       "      <td>26</td>\n",
       "      <td>245</td>\n",
       "      <td>4.916667</td>\n",
       "      <td>34</td>\n",
       "      <td>0</td>\n",
       "    </tr>\n",
       "    <tr>\n",
       "      <th>1081</th>\n",
       "      <td>5.252273</td>\n",
       "      <td>5.252493</td>\n",
       "      <td>0.000220</td>\n",
       "      <td>4.829741e-08</td>\n",
       "      <td>1081</td>\n",
       "      <td>40.80138</td>\n",
       "      <td>-73.94413</td>\n",
       "      <td>151</td>\n",
       "      <td>28</td>\n",
       "      <td>38</td>\n",
       "      <td>1.0</td>\n",
       "      <td>1.0</td>\n",
       "      <td>1</td>\n",
       "      <td>0</td>\n",
       "      <td>0</td>\n",
       "      <td>73</td>\n",
       "      <td>44</td>\n",
       "      <td>4.916667</td>\n",
       "      <td>37</td>\n",
       "      <td>1</td>\n",
       "    </tr>\n",
       "    <tr>\n",
       "      <th>2584</th>\n",
       "      <td>4.158883</td>\n",
       "      <td>4.158487</td>\n",
       "      <td>0.000396</td>\n",
       "      <td>1.569706e-07</td>\n",
       "      <td>2584</td>\n",
       "      <td>40.69651</td>\n",
       "      <td>-73.96147</td>\n",
       "      <td>158</td>\n",
       "      <td>38</td>\n",
       "      <td>48</td>\n",
       "      <td>1.0</td>\n",
       "      <td>1.0</td>\n",
       "      <td>0</td>\n",
       "      <td>1</td>\n",
       "      <td>2</td>\n",
       "      <td>22</td>\n",
       "      <td>30</td>\n",
       "      <td>4.916667</td>\n",
       "      <td>23</td>\n",
       "      <td>0</td>\n",
       "    </tr>\n",
       "    <tr>\n",
       "      <th>3662</th>\n",
       "      <td>5.379897</td>\n",
       "      <td>5.379332</td>\n",
       "      <td>0.000565</td>\n",
       "      <td>3.197543e-07</td>\n",
       "      <td>3662</td>\n",
       "      <td>40.68860</td>\n",
       "      <td>-73.95884</td>\n",
       "      <td>152</td>\n",
       "      <td>34</td>\n",
       "      <td>44</td>\n",
       "      <td>1.0</td>\n",
       "      <td>2.0</td>\n",
       "      <td>2</td>\n",
       "      <td>0</td>\n",
       "      <td>0</td>\n",
       "      <td>21</td>\n",
       "      <td>30</td>\n",
       "      <td>5.000000</td>\n",
       "      <td>20</td>\n",
       "      <td>1</td>\n",
       "    </tr>\n",
       "    <tr>\n",
       "      <th>2302</th>\n",
       "      <td>5.605802</td>\n",
       "      <td>5.606458</td>\n",
       "      <td>0.000656</td>\n",
       "      <td>4.304570e-07</td>\n",
       "      <td>2302</td>\n",
       "      <td>40.74648</td>\n",
       "      <td>-73.97726</td>\n",
       "      <td>150</td>\n",
       "      <td>40</td>\n",
       "      <td>50</td>\n",
       "      <td>2.0</td>\n",
       "      <td>1.0</td>\n",
       "      <td>0</td>\n",
       "      <td>0</td>\n",
       "      <td>0</td>\n",
       "      <td>114</td>\n",
       "      <td>126</td>\n",
       "      <td>5.000000</td>\n",
       "      <td>19</td>\n",
       "      <td>1</td>\n",
       "    </tr>\n",
       "    <tr>\n",
       "      <th>2323</th>\n",
       "      <td>4.836282</td>\n",
       "      <td>4.835591</td>\n",
       "      <td>0.000691</td>\n",
       "      <td>4.780176e-07</td>\n",
       "      <td>2323</td>\n",
       "      <td>40.74793</td>\n",
       "      <td>-74.00691</td>\n",
       "      <td>152</td>\n",
       "      <td>34</td>\n",
       "      <td>44</td>\n",
       "      <td>1.0</td>\n",
       "      <td>1.0</td>\n",
       "      <td>1</td>\n",
       "      <td>1</td>\n",
       "      <td>2</td>\n",
       "      <td>131</td>\n",
       "      <td>25</td>\n",
       "      <td>4.833333</td>\n",
       "      <td>13</td>\n",
       "      <td>0</td>\n",
       "    </tr>\n",
       "    <tr>\n",
       "      <th>1961</th>\n",
       "      <td>4.736198</td>\n",
       "      <td>4.736902</td>\n",
       "      <td>0.000704</td>\n",
       "      <td>4.954112e-07</td>\n",
       "      <td>1961</td>\n",
       "      <td>40.72073</td>\n",
       "      <td>-73.97839</td>\n",
       "      <td>157</td>\n",
       "      <td>6</td>\n",
       "      <td>16</td>\n",
       "      <td>1.0</td>\n",
       "      <td>1.0</td>\n",
       "      <td>1</td>\n",
       "      <td>1</td>\n",
       "      <td>2</td>\n",
       "      <td>142</td>\n",
       "      <td>1</td>\n",
       "      <td>4.416667</td>\n",
       "      <td>26</td>\n",
       "      <td>0</td>\n",
       "    </tr>\n",
       "    <tr>\n",
       "      <th>356</th>\n",
       "      <td>4.852030</td>\n",
       "      <td>4.850992</td>\n",
       "      <td>0.001038</td>\n",
       "      <td>1.077868e-06</td>\n",
       "      <td>356</td>\n",
       "      <td>40.73362</td>\n",
       "      <td>-73.98920</td>\n",
       "      <td>149</td>\n",
       "      <td>4</td>\n",
       "      <td>14</td>\n",
       "      <td>1.0</td>\n",
       "      <td>1.0</td>\n",
       "      <td>1</td>\n",
       "      <td>1</td>\n",
       "      <td>2</td>\n",
       "      <td>242</td>\n",
       "      <td>223</td>\n",
       "      <td>4.833333</td>\n",
       "      <td>17</td>\n",
       "      <td>0</td>\n",
       "    </tr>\n",
       "    <tr>\n",
       "      <th>629</th>\n",
       "      <td>4.615121</td>\n",
       "      <td>4.613753</td>\n",
       "      <td>0.001368</td>\n",
       "      <td>1.870706e-06</td>\n",
       "      <td>629</td>\n",
       "      <td>40.78570</td>\n",
       "      <td>-73.97459</td>\n",
       "      <td>163</td>\n",
       "      <td>50</td>\n",
       "      <td>8</td>\n",
       "      <td>1.0</td>\n",
       "      <td>1.0</td>\n",
       "      <td>1</td>\n",
       "      <td>1</td>\n",
       "      <td>2</td>\n",
       "      <td>1</td>\n",
       "      <td>187</td>\n",
       "      <td>0.000000</td>\n",
       "      <td>24</td>\n",
       "      <td>1</td>\n",
       "    </tr>\n",
       "    <tr>\n",
       "      <th>2469</th>\n",
       "      <td>5.690359</td>\n",
       "      <td>5.688641</td>\n",
       "      <td>0.001718</td>\n",
       "      <td>2.952828e-06</td>\n",
       "      <td>2469</td>\n",
       "      <td>40.75925</td>\n",
       "      <td>-73.98994</td>\n",
       "      <td>158</td>\n",
       "      <td>38</td>\n",
       "      <td>48</td>\n",
       "      <td>1.0</td>\n",
       "      <td>1.0</td>\n",
       "      <td>1</td>\n",
       "      <td>0</td>\n",
       "      <td>0</td>\n",
       "      <td>27</td>\n",
       "      <td>174</td>\n",
       "      <td>5.000000</td>\n",
       "      <td>17</td>\n",
       "      <td>1</td>\n",
       "    </tr>\n",
       "  </tbody>\n",
       "</table>\n",
       "</div>"
      ],
      "text/plain": [
       "             y        y^     E_abs           E^2  value_index  Latitude  \\\n",
       "2154  4.624973  4.625075  0.000102  1.044158e-08         2154  40.79846   \n",
       "1081  5.252273  5.252493  0.000220  4.829741e-08         1081  40.80138   \n",
       "2584  4.158883  4.158487  0.000396  1.569706e-07         2584  40.69651   \n",
       "3662  5.379897  5.379332  0.000565  3.197543e-07         3662  40.68860   \n",
       "2302  5.605802  5.606458  0.000656  4.304570e-07         2302  40.74648   \n",
       "2323  4.836282  4.835591  0.000691  4.780176e-07         2323  40.74793   \n",
       "1961  4.736198  4.736902  0.000704  4.954112e-07         1961  40.72073   \n",
       "356   4.852030  4.850992  0.001038  1.077868e-06          356  40.73362   \n",
       "629   4.615121  4.613753  0.001368  1.870706e-06          629  40.78570   \n",
       "2469  5.690359  5.688641  0.001718  2.952828e-06         2469  40.75925   \n",
       "\n",
       "      Longitude  ListingsNo_in_weekth  weeks_before_booking  Year_week  \\\n",
       "2154  -73.95986                   159                    10         20   \n",
       "1081  -73.94413                   151                    28         38   \n",
       "2584  -73.96147                   158                    38         48   \n",
       "3662  -73.95884                   152                    34         44   \n",
       "2302  -73.97726                   150                    40         50   \n",
       "2323  -74.00691                   152                    34         44   \n",
       "1961  -73.97839                   157                     6         16   \n",
       "356   -73.98920                   149                     4         14   \n",
       "629   -73.97459                   163                    50          8   \n",
       "2469  -73.98994                   158                    38         48   \n",
       "\n",
       "      Bathrooms_num_int  Bedrooms_int  Beds_int  shared_bathroom  shared_room  \\\n",
       "2154                1.0           1.0         1                1            2   \n",
       "1081                1.0           1.0         1                0            0   \n",
       "2584                1.0           1.0         0                1            2   \n",
       "3662                1.0           2.0         2                0            0   \n",
       "2302                2.0           1.0         0                0            0   \n",
       "2323                1.0           1.0         1                1            2   \n",
       "1961                1.0           1.0         1                1            2   \n",
       "356                 1.0           1.0         1                1            2   \n",
       "629                 1.0           1.0         1                1            2   \n",
       "2469                1.0           1.0         1                0            0   \n",
       "\n",
       "      Reviewers_no  Group_ID  avg_rating_stars  Amenities_length  Super_host  \n",
       "2154            26       245          4.916667                34           0  \n",
       "1081            73        44          4.916667                37           1  \n",
       "2584            22        30          4.916667                23           0  \n",
       "3662            21        30          5.000000                20           1  \n",
       "2302           114       126          5.000000                19           1  \n",
       "2323           131        25          4.833333                13           0  \n",
       "1961           142         1          4.416667                26           0  \n",
       "356            242       223          4.833333                17           0  \n",
       "629              1       187          0.000000                24           1  \n",
       "2469            27       174          5.000000                17           1  "
      ]
     },
     "execution_count": 24,
     "metadata": {},
     "output_type": "execute_result"
    }
   ],
   "source": [
    "E[0:10]"
   ]
  },
  {
   "cell_type": "markdown",
   "metadata": {},
   "source": [
    "and the worst 10 predictions are:"
   ]
  },
  {
   "cell_type": "code",
   "execution_count": 25,
   "metadata": {},
   "outputs": [
    {
     "data": {
      "text/html": [
       "<div>\n",
       "<style scoped>\n",
       "    .dataframe tbody tr th:only-of-type {\n",
       "        vertical-align: middle;\n",
       "    }\n",
       "\n",
       "    .dataframe tbody tr th {\n",
       "        vertical-align: top;\n",
       "    }\n",
       "\n",
       "    .dataframe thead th {\n",
       "        text-align: right;\n",
       "    }\n",
       "</style>\n",
       "<table border=\"1\" class=\"dataframe\">\n",
       "  <thead>\n",
       "    <tr style=\"text-align: right;\">\n",
       "      <th></th>\n",
       "      <th>y</th>\n",
       "      <th>y^</th>\n",
       "      <th>E_abs</th>\n",
       "      <th>E^2</th>\n",
       "      <th>value_index</th>\n",
       "      <th>Latitude</th>\n",
       "      <th>Longitude</th>\n",
       "      <th>ListingsNo_in_weekth</th>\n",
       "      <th>weeks_before_booking</th>\n",
       "      <th>Year_week</th>\n",
       "      <th>Bathrooms_num_int</th>\n",
       "      <th>Bedrooms_int</th>\n",
       "      <th>Beds_int</th>\n",
       "      <th>shared_bathroom</th>\n",
       "      <th>shared_room</th>\n",
       "      <th>Reviewers_no</th>\n",
       "      <th>Group_ID</th>\n",
       "      <th>avg_rating_stars</th>\n",
       "      <th>Amenities_length</th>\n",
       "      <th>Super_host</th>\n",
       "    </tr>\n",
       "  </thead>\n",
       "  <tbody>\n",
       "    <tr>\n",
       "      <th>1641</th>\n",
       "      <td>5.017280</td>\n",
       "      <td>4.406051</td>\n",
       "      <td>0.611229</td>\n",
       "      <td>0.373601</td>\n",
       "      <td>1641</td>\n",
       "      <td>40.69091</td>\n",
       "      <td>-73.97202</td>\n",
       "      <td>159</td>\n",
       "      <td>10</td>\n",
       "      <td>20</td>\n",
       "      <td>1.0</td>\n",
       "      <td>1.0</td>\n",
       "      <td>1</td>\n",
       "      <td>0</td>\n",
       "      <td>2</td>\n",
       "      <td>13</td>\n",
       "      <td>61</td>\n",
       "      <td>5.000000</td>\n",
       "      <td>11</td>\n",
       "      <td>0</td>\n",
       "    </tr>\n",
       "    <tr>\n",
       "      <th>325</th>\n",
       "      <td>4.897840</td>\n",
       "      <td>4.280555</td>\n",
       "      <td>0.617285</td>\n",
       "      <td>0.381040</td>\n",
       "      <td>325</td>\n",
       "      <td>40.70088</td>\n",
       "      <td>-73.91836</td>\n",
       "      <td>168</td>\n",
       "      <td>0</td>\n",
       "      <td>10</td>\n",
       "      <td>1.0</td>\n",
       "      <td>1.0</td>\n",
       "      <td>1</td>\n",
       "      <td>1</td>\n",
       "      <td>2</td>\n",
       "      <td>18</td>\n",
       "      <td>153</td>\n",
       "      <td>5.000000</td>\n",
       "      <td>14</td>\n",
       "      <td>1</td>\n",
       "    </tr>\n",
       "    <tr>\n",
       "      <th>165</th>\n",
       "      <td>5.198497</td>\n",
       "      <td>4.558829</td>\n",
       "      <td>0.639668</td>\n",
       "      <td>0.409175</td>\n",
       "      <td>165</td>\n",
       "      <td>40.74630</td>\n",
       "      <td>-73.97926</td>\n",
       "      <td>163</td>\n",
       "      <td>50</td>\n",
       "      <td>8</td>\n",
       "      <td>1.0</td>\n",
       "      <td>1.0</td>\n",
       "      <td>1</td>\n",
       "      <td>0</td>\n",
       "      <td>2</td>\n",
       "      <td>98</td>\n",
       "      <td>126</td>\n",
       "      <td>5.000000</td>\n",
       "      <td>32</td>\n",
       "      <td>1</td>\n",
       "    </tr>\n",
       "    <tr>\n",
       "      <th>181</th>\n",
       "      <td>3.433987</td>\n",
       "      <td>4.085349</td>\n",
       "      <td>0.651362</td>\n",
       "      <td>0.424273</td>\n",
       "      <td>181</td>\n",
       "      <td>40.67335</td>\n",
       "      <td>-73.95391</td>\n",
       "      <td>168</td>\n",
       "      <td>0</td>\n",
       "      <td>10</td>\n",
       "      <td>1.0</td>\n",
       "      <td>1.0</td>\n",
       "      <td>1</td>\n",
       "      <td>1</td>\n",
       "      <td>2</td>\n",
       "      <td>10</td>\n",
       "      <td>36</td>\n",
       "      <td>4.416667</td>\n",
       "      <td>19</td>\n",
       "      <td>0</td>\n",
       "    </tr>\n",
       "    <tr>\n",
       "      <th>1462</th>\n",
       "      <td>3.850148</td>\n",
       "      <td>4.509344</td>\n",
       "      <td>0.659197</td>\n",
       "      <td>0.434540</td>\n",
       "      <td>1462</td>\n",
       "      <td>40.74551</td>\n",
       "      <td>-74.02776</td>\n",
       "      <td>152</td>\n",
       "      <td>12</td>\n",
       "      <td>22</td>\n",
       "      <td>1.0</td>\n",
       "      <td>1.0</td>\n",
       "      <td>1</td>\n",
       "      <td>1</td>\n",
       "      <td>2</td>\n",
       "      <td>47</td>\n",
       "      <td>81</td>\n",
       "      <td>4.666667</td>\n",
       "      <td>16</td>\n",
       "      <td>0</td>\n",
       "    </tr>\n",
       "    <tr>\n",
       "      <th>3861</th>\n",
       "      <td>5.780744</td>\n",
       "      <td>5.104699</td>\n",
       "      <td>0.676044</td>\n",
       "      <td>0.457036</td>\n",
       "      <td>3861</td>\n",
       "      <td>40.72609</td>\n",
       "      <td>-73.90112</td>\n",
       "      <td>145</td>\n",
       "      <td>26</td>\n",
       "      <td>36</td>\n",
       "      <td>2.0</td>\n",
       "      <td>3.0</td>\n",
       "      <td>3</td>\n",
       "      <td>0</td>\n",
       "      <td>0</td>\n",
       "      <td>71</td>\n",
       "      <td>111</td>\n",
       "      <td>4.916667</td>\n",
       "      <td>14</td>\n",
       "      <td>1</td>\n",
       "    </tr>\n",
       "    <tr>\n",
       "      <th>2669</th>\n",
       "      <td>4.595120</td>\n",
       "      <td>3.895562</td>\n",
       "      <td>0.699558</td>\n",
       "      <td>0.489382</td>\n",
       "      <td>2669</td>\n",
       "      <td>40.69946</td>\n",
       "      <td>-73.90833</td>\n",
       "      <td>147</td>\n",
       "      <td>22</td>\n",
       "      <td>32</td>\n",
       "      <td>1.0</td>\n",
       "      <td>1.0</td>\n",
       "      <td>2</td>\n",
       "      <td>1</td>\n",
       "      <td>2</td>\n",
       "      <td>71</td>\n",
       "      <td>153</td>\n",
       "      <td>4.916667</td>\n",
       "      <td>20</td>\n",
       "      <td>1</td>\n",
       "    </tr>\n",
       "    <tr>\n",
       "      <th>3201</th>\n",
       "      <td>4.897840</td>\n",
       "      <td>4.154949</td>\n",
       "      <td>0.742891</td>\n",
       "      <td>0.551887</td>\n",
       "      <td>3201</td>\n",
       "      <td>40.73100</td>\n",
       "      <td>-74.05900</td>\n",
       "      <td>163</td>\n",
       "      <td>46</td>\n",
       "      <td>4</td>\n",
       "      <td>1.0</td>\n",
       "      <td>1.5</td>\n",
       "      <td>0</td>\n",
       "      <td>0</td>\n",
       "      <td>2</td>\n",
       "      <td>30</td>\n",
       "      <td>86</td>\n",
       "      <td>4.916667</td>\n",
       "      <td>22</td>\n",
       "      <td>0</td>\n",
       "    </tr>\n",
       "    <tr>\n",
       "      <th>1302</th>\n",
       "      <td>5.572154</td>\n",
       "      <td>4.817698</td>\n",
       "      <td>0.754456</td>\n",
       "      <td>0.569204</td>\n",
       "      <td>1302</td>\n",
       "      <td>40.76623</td>\n",
       "      <td>-73.97985</td>\n",
       "      <td>135</td>\n",
       "      <td>8</td>\n",
       "      <td>18</td>\n",
       "      <td>1.0</td>\n",
       "      <td>1.0</td>\n",
       "      <td>1</td>\n",
       "      <td>0</td>\n",
       "      <td>2</td>\n",
       "      <td>-1</td>\n",
       "      <td>34</td>\n",
       "      <td>0.000000</td>\n",
       "      <td>1</td>\n",
       "      <td>0</td>\n",
       "    </tr>\n",
       "    <tr>\n",
       "      <th>767</th>\n",
       "      <td>4.897840</td>\n",
       "      <td>3.943220</td>\n",
       "      <td>0.954620</td>\n",
       "      <td>0.911299</td>\n",
       "      <td>767</td>\n",
       "      <td>40.71357</td>\n",
       "      <td>-74.07957</td>\n",
       "      <td>161</td>\n",
       "      <td>20</td>\n",
       "      <td>30</td>\n",
       "      <td>1.0</td>\n",
       "      <td>1.0</td>\n",
       "      <td>2</td>\n",
       "      <td>1</td>\n",
       "      <td>2</td>\n",
       "      <td>-1</td>\n",
       "      <td>89</td>\n",
       "      <td>0.000000</td>\n",
       "      <td>16</td>\n",
       "      <td>0</td>\n",
       "    </tr>\n",
       "  </tbody>\n",
       "</table>\n",
       "</div>"
      ],
      "text/plain": [
       "             y        y^     E_abs       E^2  value_index  Latitude  \\\n",
       "1641  5.017280  4.406051  0.611229  0.373601         1641  40.69091   \n",
       "325   4.897840  4.280555  0.617285  0.381040          325  40.70088   \n",
       "165   5.198497  4.558829  0.639668  0.409175          165  40.74630   \n",
       "181   3.433987  4.085349  0.651362  0.424273          181  40.67335   \n",
       "1462  3.850148  4.509344  0.659197  0.434540         1462  40.74551   \n",
       "3861  5.780744  5.104699  0.676044  0.457036         3861  40.72609   \n",
       "2669  4.595120  3.895562  0.699558  0.489382         2669  40.69946   \n",
       "3201  4.897840  4.154949  0.742891  0.551887         3201  40.73100   \n",
       "1302  5.572154  4.817698  0.754456  0.569204         1302  40.76623   \n",
       "767   4.897840  3.943220  0.954620  0.911299          767  40.71357   \n",
       "\n",
       "      Longitude  ListingsNo_in_weekth  weeks_before_booking  Year_week  \\\n",
       "1641  -73.97202                   159                    10         20   \n",
       "325   -73.91836                   168                     0         10   \n",
       "165   -73.97926                   163                    50          8   \n",
       "181   -73.95391                   168                     0         10   \n",
       "1462  -74.02776                   152                    12         22   \n",
       "3861  -73.90112                   145                    26         36   \n",
       "2669  -73.90833                   147                    22         32   \n",
       "3201  -74.05900                   163                    46          4   \n",
       "1302  -73.97985                   135                     8         18   \n",
       "767   -74.07957                   161                    20         30   \n",
       "\n",
       "      Bathrooms_num_int  Bedrooms_int  Beds_int  shared_bathroom  shared_room  \\\n",
       "1641                1.0           1.0         1                0            2   \n",
       "325                 1.0           1.0         1                1            2   \n",
       "165                 1.0           1.0         1                0            2   \n",
       "181                 1.0           1.0         1                1            2   \n",
       "1462                1.0           1.0         1                1            2   \n",
       "3861                2.0           3.0         3                0            0   \n",
       "2669                1.0           1.0         2                1            2   \n",
       "3201                1.0           1.5         0                0            2   \n",
       "1302                1.0           1.0         1                0            2   \n",
       "767                 1.0           1.0         2                1            2   \n",
       "\n",
       "      Reviewers_no  Group_ID  avg_rating_stars  Amenities_length  Super_host  \n",
       "1641            13        61          5.000000                11           0  \n",
       "325             18       153          5.000000                14           1  \n",
       "165             98       126          5.000000                32           1  \n",
       "181             10        36          4.416667                19           0  \n",
       "1462            47        81          4.666667                16           0  \n",
       "3861            71       111          4.916667                14           1  \n",
       "2669            71       153          4.916667                20           1  \n",
       "3201            30        86          4.916667                22           0  \n",
       "1302            -1        34          0.000000                 1           0  \n",
       "767             -1        89          0.000000                16           0  "
      ]
     },
     "execution_count": 25,
     "metadata": {},
     "output_type": "execute_result"
    }
   ],
   "source": [
    "E[-10:]"
   ]
  },
  {
   "cell_type": "code",
   "execution_count": 76,
   "metadata": {},
   "outputs": [],
   "source": [
    "#E[E['E^2'] > 1000][:15]\n",
    "#E[E['E^2'] > 1500][:15]\n",
    "#E[E['E^2'] > 2000][:15]\n",
    "#E[E['E^2'] > 3000][:15]\n",
    "#Err_outliers[Err_outliers['y']>=400][0:50]\n",
    "#Err_outliers[Err_outliers['y']<400][0:50]"
   ]
  },
  {
   "cell_type": "code",
   "execution_count": 31,
   "metadata": {},
   "outputs": [
    {
     "data": {
      "text/html": [
       "<div>\n",
       "<style scoped>\n",
       "    .dataframe tbody tr th:only-of-type {\n",
       "        vertical-align: middle;\n",
       "    }\n",
       "\n",
       "    .dataframe tbody tr th {\n",
       "        vertical-align: top;\n",
       "    }\n",
       "\n",
       "    .dataframe thead th {\n",
       "        text-align: right;\n",
       "    }\n",
       "</style>\n",
       "<table border=\"1\" class=\"dataframe\">\n",
       "  <thead>\n",
       "    <tr style=\"text-align: right;\">\n",
       "      <th></th>\n",
       "      <th>y</th>\n",
       "      <th>y^</th>\n",
       "      <th>E_abs</th>\n",
       "      <th>E^2</th>\n",
       "      <th>value_index</th>\n",
       "      <th>Latitude</th>\n",
       "      <th>Longitude</th>\n",
       "      <th>ListingsNo_in_weekth</th>\n",
       "      <th>weeks_before_booking</th>\n",
       "      <th>Year_week</th>\n",
       "      <th>Bathrooms_num_int</th>\n",
       "      <th>Bedrooms_int</th>\n",
       "      <th>Beds_int</th>\n",
       "      <th>shared_bathroom</th>\n",
       "      <th>shared_room</th>\n",
       "      <th>Reviewers_no</th>\n",
       "      <th>Group_ID</th>\n",
       "      <th>avg_rating_stars</th>\n",
       "      <th>Amenities_length</th>\n",
       "      <th>Super_host</th>\n",
       "    </tr>\n",
       "  </thead>\n",
       "  <tbody>\n",
       "    <tr>\n",
       "      <th>378</th>\n",
       "      <td>5.351858</td>\n",
       "      <td>4.847499</td>\n",
       "      <td>0.504359</td>\n",
       "      <td>0.254378</td>\n",
       "      <td>378</td>\n",
       "      <td>40.76100</td>\n",
       "      <td>-73.96600</td>\n",
       "      <td>144</td>\n",
       "      <td>42</td>\n",
       "      <td>52</td>\n",
       "      <td>1.0</td>\n",
       "      <td>1.0</td>\n",
       "      <td>1</td>\n",
       "      <td>1</td>\n",
       "      <td>2</td>\n",
       "      <td>1</td>\n",
       "      <td>115</td>\n",
       "      <td>0.000000</td>\n",
       "      <td>15</td>\n",
       "      <td>0</td>\n",
       "    </tr>\n",
       "    <tr>\n",
       "      <th>1056</th>\n",
       "      <td>4.060443</td>\n",
       "      <td>4.565732</td>\n",
       "      <td>0.505289</td>\n",
       "      <td>0.255317</td>\n",
       "      <td>1056</td>\n",
       "      <td>40.67000</td>\n",
       "      <td>-73.98900</td>\n",
       "      <td>151</td>\n",
       "      <td>24</td>\n",
       "      <td>34</td>\n",
       "      <td>1.0</td>\n",
       "      <td>1.0</td>\n",
       "      <td>1</td>\n",
       "      <td>1</td>\n",
       "      <td>2</td>\n",
       "      <td>81</td>\n",
       "      <td>256</td>\n",
       "      <td>5.000000</td>\n",
       "      <td>18</td>\n",
       "      <td>1</td>\n",
       "    </tr>\n",
       "    <tr>\n",
       "      <th>3890</th>\n",
       "      <td>6.349139</td>\n",
       "      <td>5.843784</td>\n",
       "      <td>0.505355</td>\n",
       "      <td>0.255383</td>\n",
       "      <td>3890</td>\n",
       "      <td>40.76495</td>\n",
       "      <td>-73.98774</td>\n",
       "      <td>166</td>\n",
       "      <td>36</td>\n",
       "      <td>46</td>\n",
       "      <td>1.0</td>\n",
       "      <td>3.0</td>\n",
       "      <td>3</td>\n",
       "      <td>0</td>\n",
       "      <td>0</td>\n",
       "      <td>54</td>\n",
       "      <td>34</td>\n",
       "      <td>4.500000</td>\n",
       "      <td>9</td>\n",
       "      <td>0</td>\n",
       "    </tr>\n",
       "    <tr>\n",
       "      <th>3738</th>\n",
       "      <td>5.568345</td>\n",
       "      <td>6.084422</td>\n",
       "      <td>0.516078</td>\n",
       "      <td>0.266336</td>\n",
       "      <td>3738</td>\n",
       "      <td>40.76597</td>\n",
       "      <td>-73.98379</td>\n",
       "      <td>168</td>\n",
       "      <td>0</td>\n",
       "      <td>10</td>\n",
       "      <td>2.0</td>\n",
       "      <td>2.0</td>\n",
       "      <td>3</td>\n",
       "      <td>0</td>\n",
       "      <td>0</td>\n",
       "      <td>70</td>\n",
       "      <td>174</td>\n",
       "      <td>0.000000</td>\n",
       "      <td>36</td>\n",
       "      <td>1</td>\n",
       "    </tr>\n",
       "    <tr>\n",
       "      <th>650</th>\n",
       "      <td>5.652489</td>\n",
       "      <td>5.131344</td>\n",
       "      <td>0.521145</td>\n",
       "      <td>0.271593</td>\n",
       "      <td>650</td>\n",
       "      <td>40.75672</td>\n",
       "      <td>-73.98868</td>\n",
       "      <td>163</td>\n",
       "      <td>50</td>\n",
       "      <td>8</td>\n",
       "      <td>1.0</td>\n",
       "      <td>1.0</td>\n",
       "      <td>2</td>\n",
       "      <td>0</td>\n",
       "      <td>0</td>\n",
       "      <td>64</td>\n",
       "      <td>263</td>\n",
       "      <td>4.916667</td>\n",
       "      <td>32</td>\n",
       "      <td>0</td>\n",
       "    </tr>\n",
       "    <tr>\n",
       "      <th>1764</th>\n",
       "      <td>4.127134</td>\n",
       "      <td>4.650144</td>\n",
       "      <td>0.523010</td>\n",
       "      <td>0.273539</td>\n",
       "      <td>1764</td>\n",
       "      <td>40.71909</td>\n",
       "      <td>-73.95998</td>\n",
       "      <td>147</td>\n",
       "      <td>22</td>\n",
       "      <td>32</td>\n",
       "      <td>1.0</td>\n",
       "      <td>1.0</td>\n",
       "      <td>1</td>\n",
       "      <td>1</td>\n",
       "      <td>2</td>\n",
       "      <td>140</td>\n",
       "      <td>196</td>\n",
       "      <td>4.833333</td>\n",
       "      <td>19</td>\n",
       "      <td>0</td>\n",
       "    </tr>\n",
       "    <tr>\n",
       "      <th>338</th>\n",
       "      <td>4.394449</td>\n",
       "      <td>4.920681</td>\n",
       "      <td>0.526232</td>\n",
       "      <td>0.276920</td>\n",
       "      <td>338</td>\n",
       "      <td>40.71952</td>\n",
       "      <td>-73.99313</td>\n",
       "      <td>149</td>\n",
       "      <td>4</td>\n",
       "      <td>14</td>\n",
       "      <td>1.0</td>\n",
       "      <td>1.0</td>\n",
       "      <td>1</td>\n",
       "      <td>1</td>\n",
       "      <td>2</td>\n",
       "      <td>50</td>\n",
       "      <td>104</td>\n",
       "      <td>4.916667</td>\n",
       "      <td>12</td>\n",
       "      <td>1</td>\n",
       "    </tr>\n",
       "    <tr>\n",
       "      <th>2265</th>\n",
       "      <td>5.505332</td>\n",
       "      <td>4.970935</td>\n",
       "      <td>0.534397</td>\n",
       "      <td>0.285580</td>\n",
       "      <td>2265</td>\n",
       "      <td>40.77112</td>\n",
       "      <td>-73.95405</td>\n",
       "      <td>152</td>\n",
       "      <td>48</td>\n",
       "      <td>6</td>\n",
       "      <td>1.0</td>\n",
       "      <td>1.0</td>\n",
       "      <td>2</td>\n",
       "      <td>0</td>\n",
       "      <td>0</td>\n",
       "      <td>-1</td>\n",
       "      <td>186</td>\n",
       "      <td>0.000000</td>\n",
       "      <td>18</td>\n",
       "      <td>0</td>\n",
       "    </tr>\n",
       "    <tr>\n",
       "      <th>3386</th>\n",
       "      <td>4.189655</td>\n",
       "      <td>4.729443</td>\n",
       "      <td>0.539789</td>\n",
       "      <td>0.291372</td>\n",
       "      <td>3386</td>\n",
       "      <td>40.75088</td>\n",
       "      <td>-73.98649</td>\n",
       "      <td>142</td>\n",
       "      <td>2</td>\n",
       "      <td>12</td>\n",
       "      <td>1.0</td>\n",
       "      <td>1.5</td>\n",
       "      <td>1</td>\n",
       "      <td>1</td>\n",
       "      <td>2</td>\n",
       "      <td>2</td>\n",
       "      <td>116</td>\n",
       "      <td>0.000000</td>\n",
       "      <td>28</td>\n",
       "      <td>0</td>\n",
       "    </tr>\n",
       "    <tr>\n",
       "      <th>1152</th>\n",
       "      <td>4.077537</td>\n",
       "      <td>4.657437</td>\n",
       "      <td>0.579900</td>\n",
       "      <td>0.336284</td>\n",
       "      <td>1152</td>\n",
       "      <td>40.70961</td>\n",
       "      <td>-73.94635</td>\n",
       "      <td>135</td>\n",
       "      <td>8</td>\n",
       "      <td>18</td>\n",
       "      <td>1.0</td>\n",
       "      <td>1.0</td>\n",
       "      <td>1</td>\n",
       "      <td>1</td>\n",
       "      <td>2</td>\n",
       "      <td>77</td>\n",
       "      <td>197</td>\n",
       "      <td>4.916667</td>\n",
       "      <td>32</td>\n",
       "      <td>0</td>\n",
       "    </tr>\n",
       "    <tr>\n",
       "      <th>969</th>\n",
       "      <td>3.401197</td>\n",
       "      <td>3.995377</td>\n",
       "      <td>0.594180</td>\n",
       "      <td>0.353050</td>\n",
       "      <td>969</td>\n",
       "      <td>40.70946</td>\n",
       "      <td>-74.07432</td>\n",
       "      <td>151</td>\n",
       "      <td>24</td>\n",
       "      <td>34</td>\n",
       "      <td>1.5</td>\n",
       "      <td>1.0</td>\n",
       "      <td>1</td>\n",
       "      <td>0</td>\n",
       "      <td>2</td>\n",
       "      <td>73</td>\n",
       "      <td>89</td>\n",
       "      <td>4.833333</td>\n",
       "      <td>21</td>\n",
       "      <td>0</td>\n",
       "    </tr>\n",
       "    <tr>\n",
       "      <th>3306</th>\n",
       "      <td>4.897840</td>\n",
       "      <td>5.502972</td>\n",
       "      <td>0.605133</td>\n",
       "      <td>0.366185</td>\n",
       "      <td>3306</td>\n",
       "      <td>40.78926</td>\n",
       "      <td>-73.96989</td>\n",
       "      <td>167</td>\n",
       "      <td>30</td>\n",
       "      <td>40</td>\n",
       "      <td>1.0</td>\n",
       "      <td>1.5</td>\n",
       "      <td>1</td>\n",
       "      <td>0</td>\n",
       "      <td>0</td>\n",
       "      <td>142</td>\n",
       "      <td>100</td>\n",
       "      <td>5.000000</td>\n",
       "      <td>30</td>\n",
       "      <td>1</td>\n",
       "    </tr>\n",
       "    <tr>\n",
       "      <th>3602</th>\n",
       "      <td>4.828314</td>\n",
       "      <td>5.439281</td>\n",
       "      <td>0.610968</td>\n",
       "      <td>0.373281</td>\n",
       "      <td>3602</td>\n",
       "      <td>40.75828</td>\n",
       "      <td>-73.96286</td>\n",
       "      <td>120</td>\n",
       "      <td>44</td>\n",
       "      <td>2</td>\n",
       "      <td>1.0</td>\n",
       "      <td>2.0</td>\n",
       "      <td>3</td>\n",
       "      <td>0</td>\n",
       "      <td>0</td>\n",
       "      <td>97</td>\n",
       "      <td>115</td>\n",
       "      <td>4.583333</td>\n",
       "      <td>26</td>\n",
       "      <td>0</td>\n",
       "    </tr>\n",
       "    <tr>\n",
       "      <th>1641</th>\n",
       "      <td>5.017280</td>\n",
       "      <td>4.406051</td>\n",
       "      <td>0.611229</td>\n",
       "      <td>0.373601</td>\n",
       "      <td>1641</td>\n",
       "      <td>40.69091</td>\n",
       "      <td>-73.97202</td>\n",
       "      <td>159</td>\n",
       "      <td>10</td>\n",
       "      <td>20</td>\n",
       "      <td>1.0</td>\n",
       "      <td>1.0</td>\n",
       "      <td>1</td>\n",
       "      <td>0</td>\n",
       "      <td>2</td>\n",
       "      <td>13</td>\n",
       "      <td>61</td>\n",
       "      <td>5.000000</td>\n",
       "      <td>11</td>\n",
       "      <td>0</td>\n",
       "    </tr>\n",
       "    <tr>\n",
       "      <th>325</th>\n",
       "      <td>4.897840</td>\n",
       "      <td>4.280555</td>\n",
       "      <td>0.617285</td>\n",
       "      <td>0.381040</td>\n",
       "      <td>325</td>\n",
       "      <td>40.70088</td>\n",
       "      <td>-73.91836</td>\n",
       "      <td>168</td>\n",
       "      <td>0</td>\n",
       "      <td>10</td>\n",
       "      <td>1.0</td>\n",
       "      <td>1.0</td>\n",
       "      <td>1</td>\n",
       "      <td>1</td>\n",
       "      <td>2</td>\n",
       "      <td>18</td>\n",
       "      <td>153</td>\n",
       "      <td>5.000000</td>\n",
       "      <td>14</td>\n",
       "      <td>1</td>\n",
       "    </tr>\n",
       "    <tr>\n",
       "      <th>165</th>\n",
       "      <td>5.198497</td>\n",
       "      <td>4.558829</td>\n",
       "      <td>0.639668</td>\n",
       "      <td>0.409175</td>\n",
       "      <td>165</td>\n",
       "      <td>40.74630</td>\n",
       "      <td>-73.97926</td>\n",
       "      <td>163</td>\n",
       "      <td>50</td>\n",
       "      <td>8</td>\n",
       "      <td>1.0</td>\n",
       "      <td>1.0</td>\n",
       "      <td>1</td>\n",
       "      <td>0</td>\n",
       "      <td>2</td>\n",
       "      <td>98</td>\n",
       "      <td>126</td>\n",
       "      <td>5.000000</td>\n",
       "      <td>32</td>\n",
       "      <td>1</td>\n",
       "    </tr>\n",
       "    <tr>\n",
       "      <th>181</th>\n",
       "      <td>3.433987</td>\n",
       "      <td>4.085349</td>\n",
       "      <td>0.651362</td>\n",
       "      <td>0.424273</td>\n",
       "      <td>181</td>\n",
       "      <td>40.67335</td>\n",
       "      <td>-73.95391</td>\n",
       "      <td>168</td>\n",
       "      <td>0</td>\n",
       "      <td>10</td>\n",
       "      <td>1.0</td>\n",
       "      <td>1.0</td>\n",
       "      <td>1</td>\n",
       "      <td>1</td>\n",
       "      <td>2</td>\n",
       "      <td>10</td>\n",
       "      <td>36</td>\n",
       "      <td>4.416667</td>\n",
       "      <td>19</td>\n",
       "      <td>0</td>\n",
       "    </tr>\n",
       "    <tr>\n",
       "      <th>1462</th>\n",
       "      <td>3.850148</td>\n",
       "      <td>4.509344</td>\n",
       "      <td>0.659197</td>\n",
       "      <td>0.434540</td>\n",
       "      <td>1462</td>\n",
       "      <td>40.74551</td>\n",
       "      <td>-74.02776</td>\n",
       "      <td>152</td>\n",
       "      <td>12</td>\n",
       "      <td>22</td>\n",
       "      <td>1.0</td>\n",
       "      <td>1.0</td>\n",
       "      <td>1</td>\n",
       "      <td>1</td>\n",
       "      <td>2</td>\n",
       "      <td>47</td>\n",
       "      <td>81</td>\n",
       "      <td>4.666667</td>\n",
       "      <td>16</td>\n",
       "      <td>0</td>\n",
       "    </tr>\n",
       "    <tr>\n",
       "      <th>3861</th>\n",
       "      <td>5.780744</td>\n",
       "      <td>5.104699</td>\n",
       "      <td>0.676044</td>\n",
       "      <td>0.457036</td>\n",
       "      <td>3861</td>\n",
       "      <td>40.72609</td>\n",
       "      <td>-73.90112</td>\n",
       "      <td>145</td>\n",
       "      <td>26</td>\n",
       "      <td>36</td>\n",
       "      <td>2.0</td>\n",
       "      <td>3.0</td>\n",
       "      <td>3</td>\n",
       "      <td>0</td>\n",
       "      <td>0</td>\n",
       "      <td>71</td>\n",
       "      <td>111</td>\n",
       "      <td>4.916667</td>\n",
       "      <td>14</td>\n",
       "      <td>1</td>\n",
       "    </tr>\n",
       "    <tr>\n",
       "      <th>2669</th>\n",
       "      <td>4.595120</td>\n",
       "      <td>3.895562</td>\n",
       "      <td>0.699558</td>\n",
       "      <td>0.489382</td>\n",
       "      <td>2669</td>\n",
       "      <td>40.69946</td>\n",
       "      <td>-73.90833</td>\n",
       "      <td>147</td>\n",
       "      <td>22</td>\n",
       "      <td>32</td>\n",
       "      <td>1.0</td>\n",
       "      <td>1.0</td>\n",
       "      <td>2</td>\n",
       "      <td>1</td>\n",
       "      <td>2</td>\n",
       "      <td>71</td>\n",
       "      <td>153</td>\n",
       "      <td>4.916667</td>\n",
       "      <td>20</td>\n",
       "      <td>1</td>\n",
       "    </tr>\n",
       "    <tr>\n",
       "      <th>3201</th>\n",
       "      <td>4.897840</td>\n",
       "      <td>4.154949</td>\n",
       "      <td>0.742891</td>\n",
       "      <td>0.551887</td>\n",
       "      <td>3201</td>\n",
       "      <td>40.73100</td>\n",
       "      <td>-74.05900</td>\n",
       "      <td>163</td>\n",
       "      <td>46</td>\n",
       "      <td>4</td>\n",
       "      <td>1.0</td>\n",
       "      <td>1.5</td>\n",
       "      <td>0</td>\n",
       "      <td>0</td>\n",
       "      <td>2</td>\n",
       "      <td>30</td>\n",
       "      <td>86</td>\n",
       "      <td>4.916667</td>\n",
       "      <td>22</td>\n",
       "      <td>0</td>\n",
       "    </tr>\n",
       "    <tr>\n",
       "      <th>1302</th>\n",
       "      <td>5.572154</td>\n",
       "      <td>4.817698</td>\n",
       "      <td>0.754456</td>\n",
       "      <td>0.569204</td>\n",
       "      <td>1302</td>\n",
       "      <td>40.76623</td>\n",
       "      <td>-73.97985</td>\n",
       "      <td>135</td>\n",
       "      <td>8</td>\n",
       "      <td>18</td>\n",
       "      <td>1.0</td>\n",
       "      <td>1.0</td>\n",
       "      <td>1</td>\n",
       "      <td>0</td>\n",
       "      <td>2</td>\n",
       "      <td>-1</td>\n",
       "      <td>34</td>\n",
       "      <td>0.000000</td>\n",
       "      <td>1</td>\n",
       "      <td>0</td>\n",
       "    </tr>\n",
       "    <tr>\n",
       "      <th>767</th>\n",
       "      <td>4.897840</td>\n",
       "      <td>3.943220</td>\n",
       "      <td>0.954620</td>\n",
       "      <td>0.911299</td>\n",
       "      <td>767</td>\n",
       "      <td>40.71357</td>\n",
       "      <td>-74.07957</td>\n",
       "      <td>161</td>\n",
       "      <td>20</td>\n",
       "      <td>30</td>\n",
       "      <td>1.0</td>\n",
       "      <td>1.0</td>\n",
       "      <td>2</td>\n",
       "      <td>1</td>\n",
       "      <td>2</td>\n",
       "      <td>-1</td>\n",
       "      <td>89</td>\n",
       "      <td>0.000000</td>\n",
       "      <td>16</td>\n",
       "      <td>0</td>\n",
       "    </tr>\n",
       "  </tbody>\n",
       "</table>\n",
       "</div>"
      ],
      "text/plain": [
       "             y        y^     E_abs       E^2  value_index  Latitude  \\\n",
       "378   5.351858  4.847499  0.504359  0.254378          378  40.76100   \n",
       "1056  4.060443  4.565732  0.505289  0.255317         1056  40.67000   \n",
       "3890  6.349139  5.843784  0.505355  0.255383         3890  40.76495   \n",
       "3738  5.568345  6.084422  0.516078  0.266336         3738  40.76597   \n",
       "650   5.652489  5.131344  0.521145  0.271593          650  40.75672   \n",
       "1764  4.127134  4.650144  0.523010  0.273539         1764  40.71909   \n",
       "338   4.394449  4.920681  0.526232  0.276920          338  40.71952   \n",
       "2265  5.505332  4.970935  0.534397  0.285580         2265  40.77112   \n",
       "3386  4.189655  4.729443  0.539789  0.291372         3386  40.75088   \n",
       "1152  4.077537  4.657437  0.579900  0.336284         1152  40.70961   \n",
       "969   3.401197  3.995377  0.594180  0.353050          969  40.70946   \n",
       "3306  4.897840  5.502972  0.605133  0.366185         3306  40.78926   \n",
       "3602  4.828314  5.439281  0.610968  0.373281         3602  40.75828   \n",
       "1641  5.017280  4.406051  0.611229  0.373601         1641  40.69091   \n",
       "325   4.897840  4.280555  0.617285  0.381040          325  40.70088   \n",
       "165   5.198497  4.558829  0.639668  0.409175          165  40.74630   \n",
       "181   3.433987  4.085349  0.651362  0.424273          181  40.67335   \n",
       "1462  3.850148  4.509344  0.659197  0.434540         1462  40.74551   \n",
       "3861  5.780744  5.104699  0.676044  0.457036         3861  40.72609   \n",
       "2669  4.595120  3.895562  0.699558  0.489382         2669  40.69946   \n",
       "3201  4.897840  4.154949  0.742891  0.551887         3201  40.73100   \n",
       "1302  5.572154  4.817698  0.754456  0.569204         1302  40.76623   \n",
       "767   4.897840  3.943220  0.954620  0.911299          767  40.71357   \n",
       "\n",
       "      Longitude  ListingsNo_in_weekth  weeks_before_booking  Year_week  \\\n",
       "378   -73.96600                   144                    42         52   \n",
       "1056  -73.98900                   151                    24         34   \n",
       "3890  -73.98774                   166                    36         46   \n",
       "3738  -73.98379                   168                     0         10   \n",
       "650   -73.98868                   163                    50          8   \n",
       "1764  -73.95998                   147                    22         32   \n",
       "338   -73.99313                   149                     4         14   \n",
       "2265  -73.95405                   152                    48          6   \n",
       "3386  -73.98649                   142                     2         12   \n",
       "1152  -73.94635                   135                     8         18   \n",
       "969   -74.07432                   151                    24         34   \n",
       "3306  -73.96989                   167                    30         40   \n",
       "3602  -73.96286                   120                    44          2   \n",
       "1641  -73.97202                   159                    10         20   \n",
       "325   -73.91836                   168                     0         10   \n",
       "165   -73.97926                   163                    50          8   \n",
       "181   -73.95391                   168                     0         10   \n",
       "1462  -74.02776                   152                    12         22   \n",
       "3861  -73.90112                   145                    26         36   \n",
       "2669  -73.90833                   147                    22         32   \n",
       "3201  -74.05900                   163                    46          4   \n",
       "1302  -73.97985                   135                     8         18   \n",
       "767   -74.07957                   161                    20         30   \n",
       "\n",
       "      Bathrooms_num_int  Bedrooms_int  Beds_int  shared_bathroom  shared_room  \\\n",
       "378                 1.0           1.0         1                1            2   \n",
       "1056                1.0           1.0         1                1            2   \n",
       "3890                1.0           3.0         3                0            0   \n",
       "3738                2.0           2.0         3                0            0   \n",
       "650                 1.0           1.0         2                0            0   \n",
       "1764                1.0           1.0         1                1            2   \n",
       "338                 1.0           1.0         1                1            2   \n",
       "2265                1.0           1.0         2                0            0   \n",
       "3386                1.0           1.5         1                1            2   \n",
       "1152                1.0           1.0         1                1            2   \n",
       "969                 1.5           1.0         1                0            2   \n",
       "3306                1.0           1.5         1                0            0   \n",
       "3602                1.0           2.0         3                0            0   \n",
       "1641                1.0           1.0         1                0            2   \n",
       "325                 1.0           1.0         1                1            2   \n",
       "165                 1.0           1.0         1                0            2   \n",
       "181                 1.0           1.0         1                1            2   \n",
       "1462                1.0           1.0         1                1            2   \n",
       "3861                2.0           3.0         3                0            0   \n",
       "2669                1.0           1.0         2                1            2   \n",
       "3201                1.0           1.5         0                0            2   \n",
       "1302                1.0           1.0         1                0            2   \n",
       "767                 1.0           1.0         2                1            2   \n",
       "\n",
       "      Reviewers_no  Group_ID  avg_rating_stars  Amenities_length  Super_host  \n",
       "378              1       115          0.000000                15           0  \n",
       "1056            81       256          5.000000                18           1  \n",
       "3890            54        34          4.500000                 9           0  \n",
       "3738            70       174          0.000000                36           1  \n",
       "650             64       263          4.916667                32           0  \n",
       "1764           140       196          4.833333                19           0  \n",
       "338             50       104          4.916667                12           1  \n",
       "2265            -1       186          0.000000                18           0  \n",
       "3386             2       116          0.000000                28           0  \n",
       "1152            77       197          4.916667                32           0  \n",
       "969             73        89          4.833333                21           0  \n",
       "3306           142       100          5.000000                30           1  \n",
       "3602            97       115          4.583333                26           0  \n",
       "1641            13        61          5.000000                11           0  \n",
       "325             18       153          5.000000                14           1  \n",
       "165             98       126          5.000000                32           1  \n",
       "181             10        36          4.416667                19           0  \n",
       "1462            47        81          4.666667                16           0  \n",
       "3861            71       111          4.916667                14           1  \n",
       "2669            71       153          4.916667                20           1  \n",
       "3201            30        86          4.916667                22           0  \n",
       "1302            -1        34          0.000000                 1           0  \n",
       "767             -1        89          0.000000                16           0  "
      ]
     },
     "execution_count": 31,
     "metadata": {},
     "output_type": "execute_result"
    }
   ],
   "source": [
    "E[E.E_abs > 0.5]"
   ]
  },
  {
   "cell_type": "code",
   "execution_count": 38,
   "metadata": {},
   "outputs": [],
   "source": [
    "E1= E[E.E_abs > 0.5]"
   ]
  },
  {
   "cell_type": "code",
   "execution_count": 40,
   "metadata": {},
   "outputs": [
    {
     "data": {
      "text/plain": [
       "<matplotlib.axes._subplots.AxesSubplot at 0x20135e29a90>"
      ]
     },
     "execution_count": 40,
     "metadata": {},
     "output_type": "execute_result"
    },
    {
     "data": {
      "image/png": "[encoded data removed]",
      "text/plain": [
       "<Figure size 720x288 with 2 Axes>"
      ]
     },
     "metadata": {
      "needs_background": "light"
     },
     "output_type": "display_data"
    }
   ],
   "source": [
    "fig = plt.figure(figsize=(10,4))\n",
    "fig.subplots_adjust(top=0.85, wspace=0.3)\n",
    "ax1 = fig.add_subplot(1,2,1) \n",
    "sns.distplot(E['weeks_before_booking'], ax=ax1)\n",
    "\n",
    "ax2 = fig.add_subplot(1,2,2)\n",
    "ax2.set_title(\"E_abs > 0.5\")\n",
    "sns.distplot(E1['weeks_before_booking'], ax=ax2)"
   ]
  },
  {
   "cell_type": "code",
   "execution_count": 41,
   "metadata": {},
   "outputs": [
    {
     "data": {
      "text/plain": [
       "<matplotlib.axes._subplots.AxesSubplot at 0x2013600a4a8>"
      ]
     },
     "execution_count": 41,
     "metadata": {},
     "output_type": "execute_result"
    },
    {
     "data": {
      "image/png": "[encoded data removed]",
      "text/plain": [
       "<Figure size 720x288 with 2 Axes>"
      ]
     },
     "metadata": {
      "needs_background": "light"
     },
     "output_type": "display_data"
    }
   ],
   "source": [
    "fig = plt.figure(figsize=(10,4))\n",
    "fig.subplots_adjust(top=0.85, wspace=0.3)\n",
    "ax1 = fig.add_subplot(1,2,1) \n",
    "sns.distplot(E['ListingsNo_in_weekth'], ax=ax1)\n",
    "\n",
    "ax2 = fig.add_subplot(1,2,2)\n",
    "ax2.set_title(\"E_abs > 0.5\")\n",
    "sns.distplot(E1['ListingsNo_in_weekth'], ax=ax2)"
   ]
  },
  {
   "cell_type": "code",
   "execution_count": 42,
   "metadata": {},
   "outputs": [
    {
     "data": {
      "text/plain": [
       "<matplotlib.axes._subplots.AxesSubplot at 0x20136111f98>"
      ]
     },
     "execution_count": 42,
     "metadata": {},
     "output_type": "execute_result"
    },
    {
     "data": {
      "image/png": "[encoded data removed]",
      "text/plain": [
       "<Figure size 720x288 with 2 Axes>"
      ]
     },
     "metadata": {
      "needs_background": "light"
     },
     "output_type": "display_data"
    }
   ],
   "source": [
    "fig = plt.figure(figsize=(10,4))\n",
    "fig.subplots_adjust(top=0.85, wspace=0.3)\n",
    "ax1 = fig.add_subplot(1,2,1) \n",
    "sns.distplot(E['Year_week'], ax=ax1)\n",
    "\n",
    "ax2 = fig.add_subplot(1,2,2)\n",
    "ax2.set_title(\"E_abs > 0.5\")\n",
    "sns.distplot(E1['Year_week'], ax=ax2)"
   ]
  },
  {
   "cell_type": "code",
   "execution_count": 43,
   "metadata": {},
   "outputs": [
    {
     "data": {
      "text/plain": [
       "<matplotlib.axes._subplots.AxesSubplot at 0x2013615f3c8>"
      ]
     },
     "execution_count": 43,
     "metadata": {},
     "output_type": "execute_result"
    },
    {
     "data": {
      "image/png": "[encoded data removed]",
      "text/plain": [
       "<Figure size 720x288 with 2 Axes>"
      ]
     },
     "metadata": {
      "needs_background": "light"
     },
     "output_type": "display_data"
    }
   ],
   "source": [
    "fig = plt.figure(figsize=(10,4))\n",
    "fig.subplots_adjust(top=0.85, wspace=0.3)\n",
    "ax1 = fig.add_subplot(1,2,1) \n",
    "sns.distplot(E['Bathrooms_num_int'], ax=ax1)\n",
    "\n",
    "ax2 = fig.add_subplot(1,2,2)\n",
    "ax2.set_title(\"E_abs > 0.5\")\n",
    "sns.distplot(E1['Bathrooms_num_int'], ax=ax2)"
   ]
  },
  {
   "cell_type": "code",
   "execution_count": 44,
   "metadata": {},
   "outputs": [
    {
     "data": {
      "text/plain": [
       "<matplotlib.axes._subplots.AxesSubplot at 0x2013850ef60>"
      ]
     },
     "execution_count": 44,
     "metadata": {},
     "output_type": "execute_result"
    },
    {
     "data": {
      "image/png": "[encoded data removed]",
      "text/plain": [
       "<Figure size 720x288 with 2 Axes>"
      ]
     },
     "metadata": {
      "needs_background": "light"
     },
     "output_type": "display_data"
    }
   ],
   "source": [
    "fig = plt.figure(figsize=(10,4))\n",
    "fig.subplots_adjust(top=0.85, wspace=0.3)\n",
    "ax1 = fig.add_subplot(1,2,1) \n",
    "sns.distplot(E['Bedrooms_int'], ax=ax1)\n",
    "\n",
    "ax2 = fig.add_subplot(1,2,2)\n",
    "ax2.set_title(\"E_abs > 0.5\")\n",
    "sns.distplot(E1['Bedrooms_int'], ax=ax2)"
   ]
  },
  {
   "cell_type": "code",
   "execution_count": 45,
   "metadata": {},
   "outputs": [
    {
     "data": {
      "text/plain": [
       "<matplotlib.axes._subplots.AxesSubplot at 0x2013597cfd0>"
      ]
     },
     "execution_count": 45,
     "metadata": {},
     "output_type": "execute_result"
    },
    {
     "data": {
      "image/png": "[encoded data removed]",
      "text/plain": [
       "<Figure size 720x288 with 2 Axes>"
      ]
     },
     "metadata": {
      "needs_background": "light"
     },
     "output_type": "display_data"
    }
   ],
   "source": [
    "fig = plt.figure(figsize=(10,4))\n",
    "fig.subplots_adjust(top=0.85, wspace=0.3)\n",
    "ax1 = fig.add_subplot(1,2,1) \n",
    "sns.distplot(E['Beds_int'], ax=ax1)\n",
    "\n",
    "ax2 = fig.add_subplot(1,2,2)\n",
    "ax2.set_title(\"E_abs > 0.5\")\n",
    "sns.distplot(E1['Beds_int'], ax=ax2)"
   ]
  },
  {
   "cell_type": "code",
   "execution_count": 46,
   "metadata": {},
   "outputs": [
    {
     "data": {
      "text/plain": [
       "<matplotlib.axes._subplots.AxesSubplot at 0x20135b12898>"
      ]
     },
     "execution_count": 46,
     "metadata": {},
     "output_type": "execute_result"
    },
    {
     "data": {
      "image/png": "[encoded data removed]",
      "text/plain": [
       "<Figure size 720x288 with 2 Axes>"
      ]
     },
     "metadata": {
      "needs_background": "light"
     },
     "output_type": "display_data"
    }
   ],
   "source": [
    "fig = plt.figure(figsize=(10,4))\n",
    "fig.subplots_adjust(top=0.85, wspace=0.3)\n",
    "ax1 = fig.add_subplot(1,2,1) \n",
    "sns.distplot(E['Reviewers_no'], ax=ax1)\n",
    "\n",
    "ax2 = fig.add_subplot(1,2,2)\n",
    "ax2.set_title(\"E_abs > 0.5\")\n",
    "sns.distplot(E1['Reviewers_no'], ax=ax2)"
   ]
  },
  {
   "cell_type": "code",
   "execution_count": 47,
   "metadata": {},
   "outputs": [
    {
     "data": {
      "text/plain": [
       "<matplotlib.axes._subplots.AxesSubplot at 0x20135bb4128>"
      ]
     },
     "execution_count": 47,
     "metadata": {},
     "output_type": "execute_result"
    },
    {
     "data": {
      "image/png": "[encoded data removed]",
      "text/plain": [
       "<Figure size 720x288 with 2 Axes>"
      ]
     },
     "metadata": {
      "needs_background": "light"
     },
     "output_type": "display_data"
    }
   ],
   "source": [
    "fig = plt.figure(figsize=(10,4))\n",
    "fig.subplots_adjust(top=0.85, wspace=0.3)\n",
    "ax1 = fig.add_subplot(1,2,1) \n",
    "sns.distplot(E['Group_ID'], ax=ax1)\n",
    "\n",
    "ax2 = fig.add_subplot(1,2,2)\n",
    "ax2.set_title(\"E_abs > 0.5\")\n",
    "sns.distplot(E1['Group_ID'], ax=ax2)"
   ]
  },
  {
   "cell_type": "markdown",
   "metadata": {},
   "source": [
    "### Feature Selection using RF"
   ]
  },
  {
   "cell_type": "code",
   "execution_count": 29,
   "metadata": {},
   "outputs": [],
   "source": [
    "from sklearn.feature_selection import SelectFromModel"
   ]
  },
  {
   "cell_type": "code",
   "execution_count": 30,
   "metadata": {},
   "outputs": [
    {
     "data": {
      "text/plain": [
       "SelectFromModel(estimator=RandomForestRegressor(bootstrap=True, criterion='mse', max_depth=None,\n",
       "           max_features='auto', max_leaf_nodes=None,\n",
       "           min_impurity_decrease=0.0, min_impurity_split=None,\n",
       "           min_samples_leaf=1, min_samples_split=2,\n",
       "           min_weight_fraction_leaf=0.0, n_estimators=400, n_jobs=None,\n",
       "           oob_score=False, random_state=None, verbose=0, warm_start=False),\n",
       "        max_features=None, norm_order=1, prefit=False, threshold=None)"
      ]
     },
     "execution_count": 30,
     "metadata": {},
     "output_type": "execute_result"
    }
   ],
   "source": [
    "sel = SelectFromModel(RandomForestRegressor(n_estimators = 400))\n",
    "sel.fit(X_train1, y_train1)"
   ]
  },
  {
   "cell_type": "code",
   "execution_count": 79,
   "metadata": {},
   "outputs": [
    {
     "data": {
      "text/plain": [
       "array([ True,  True, False, False, False, False, False, False, False,\n",
       "        True, False, False, False, False, False])"
      ]
     },
     "execution_count": 79,
     "metadata": {},
     "output_type": "execute_result"
    }
   ],
   "source": [
    "sel.get_support()"
   ]
  },
  {
   "cell_type": "code",
   "execution_count": 80,
   "metadata": {},
   "outputs": [
    {
     "data": {
      "text/plain": [
       "3"
      ]
     },
     "execution_count": 80,
     "metadata": {},
     "output_type": "execute_result"
    }
   ],
   "source": [
    "selected_feat= X_train1.columns[(sel.get_support())]\n",
    "len(selected_feat)"
   ]
  },
  {
   "cell_type": "code",
   "execution_count": 81,
   "metadata": {},
   "outputs": [
    {
     "name": "stdout",
     "output_type": "stream",
     "text": [
      "Index(['Latitude', 'Longitude', 'shared_room'], dtype='object')\n"
     ]
    }
   ],
   "source": [
    "print(selected_feat)"
   ]
  },
  {
   "cell_type": "markdown",
   "metadata": {},
   "source": [
    "### Decision Tree Regression (DT)"
   ]
  },
  {
   "cell_type": "code",
   "execution_count": 82,
   "metadata": {},
   "outputs": [],
   "source": [
    "from sklearn.tree import DecisionTreeRegressor\n",
    "DT_regressor = DecisionTreeRegressor(max_depth=2)"
   ]
  },
  {
   "cell_type": "code",
   "execution_count": 83,
   "metadata": {},
   "outputs": [
    {
     "data": {
      "text/plain": [
       "DecisionTreeRegressor(criterion='mse', max_depth=2, max_features=None,\n",
       "           max_leaf_nodes=None, min_impurity_decrease=0.0,\n",
       "           min_impurity_split=None, min_samples_leaf=1,\n",
       "           min_samples_split=2, min_weight_fraction_leaf=0.0,\n",
       "           presort=False, random_state=None, splitter='best')"
      ]
     },
     "execution_count": 83,
     "metadata": {},
     "output_type": "execute_result"
    }
   ],
   "source": [
    "DT_regressor.fit(X_train1, y_train1)"
   ]
  },
  {
   "cell_type": "code",
   "execution_count": 84,
   "metadata": {},
   "outputs": [],
   "source": [
    "y_pred_DT = DT_regressor.predict(X_test1)"
   ]
  },
  {
   "cell_type": "code",
   "execution_count": 85,
   "metadata": {},
   "outputs": [],
   "source": [
    "MAE_DT = metrics.mean_absolute_error(y_test1, y_pred_DT)\n",
    "MSE_DT = metrics.mean_squared_error(y_test1, y_pred_DT)\n",
    "RMSE_DT = np.sqrt(metrics.mean_squared_error(y_test1, y_pred_DT))"
   ]
  },
  {
   "cell_type": "code",
   "execution_count": 86,
   "metadata": {},
   "outputs": [
    {
     "name": "stdout",
     "output_type": "stream",
     "text": [
      "Mean Absolute Error: 0.29629183495590783\n",
      "Mean Squared Error: 0.143716160638882\n",
      "Root Mean Squared Error: 0.3790991435480724\n"
     ]
    }
   ],
   "source": [
    "print('Mean Absolute Error:', MAE_DT)  \n",
    "print('Mean Squared Error:',MSE_DT)  \n",
    "print('Root Mean Squared Error:',RMSE_DT) "
   ]
  },
  {
   "cell_type": "markdown",
   "metadata": {},
   "source": [
    "### Boosted Decision Tree Regression (XGBoost)"
   ]
  },
  {
   "cell_type": "code",
   "execution_count": 87,
   "metadata": {},
   "outputs": [
    {
     "data": {
      "text/plain": [
       "XGBRegressor(base_score=0.5, booster='gbtree', colsample_bylevel=1,\n",
       "       colsample_bynode=1, colsample_bytree=1, gamma=0,\n",
       "       importance_type='gain', learning_rate=0.1, max_delta_step=0,\n",
       "       max_depth=3, min_child_weight=1, missing=None, n_estimators=100,\n",
       "       n_jobs=1, nthread=None, objective='reg:squarederror',\n",
       "       random_state=42, reg_alpha=0, reg_lambda=1, scale_pos_weight=1,\n",
       "       seed=None, silent=None, subsample=1, verbosity=1)"
      ]
     },
     "execution_count": 87,
     "metadata": {},
     "output_type": "execute_result"
    }
   ],
   "source": [
    "import xgboost as xgb\n",
    "xgb_model = xgb.XGBRegressor(objective='reg:squarederror', random_state=42)\n",
    "\n",
    "xgb_model.fit(X_train1, y_train1)"
   ]
  },
  {
   "cell_type": "code",
   "execution_count": 88,
   "metadata": {},
   "outputs": [],
   "source": [
    "y_pred_XGB = xgb_model.predict(X_test1)"
   ]
  },
  {
   "cell_type": "code",
   "execution_count": 89,
   "metadata": {},
   "outputs": [],
   "source": [
    "MAE_XGB = metrics.mean_absolute_error(y_test1, y_pred_XGB)\n",
    "MSE_XGB = metrics.mean_squared_error(y_test1, y_pred_XGB)\n",
    "RMSE_XGB = np.sqrt(metrics.mean_squared_error(y_test1, y_pred_XGB))"
   ]
  },
  {
   "cell_type": "code",
   "execution_count": 90,
   "metadata": {},
   "outputs": [
    {
     "name": "stdout",
     "output_type": "stream",
     "text": [
      "Mean Absolute Error: 0.16997312467397319\n",
      "Mean Squared Error: 0.049152272625088325\n",
      "Root Mean Squared Error: 0.2217031182123705\n"
     ]
    }
   ],
   "source": [
    "print('Mean Absolute Error:', MAE_XGB)\n",
    "print('Mean Squared Error:', MSE_XGB)  \n",
    "print('Root Mean Squared Error:', RMSE_XGB)"
   ]
  },
  {
   "cell_type": "markdown",
   "metadata": {},
   "source": [
    "### Neural Network Regression (NN)"
   ]
  },
  {
   "cell_type": "code",
   "execution_count": 91,
   "metadata": {},
   "outputs": [],
   "source": [
    "from sklearn.neural_network import MLPRegressor\n",
    "NN_regressor = MLPRegressor(activation='relu')"
   ]
  },
  {
   "cell_type": "code",
   "execution_count": 92,
   "metadata": {},
   "outputs": [
    {
     "data": {
      "text/plain": [
       "MLPRegressor(activation='relu', alpha=0.0001, batch_size='auto', beta_1=0.9,\n",
       "       beta_2=0.999, early_stopping=False, epsilon=1e-08,\n",
       "       hidden_layer_sizes=(100,), learning_rate='constant',\n",
       "       learning_rate_init=0.001, max_iter=200, momentum=0.9,\n",
       "       n_iter_no_change=10, nesterovs_momentum=True, power_t=0.5,\n",
       "       random_state=None, shuffle=True, solver='adam', tol=0.0001,\n",
       "       validation_fraction=0.1, verbose=False, warm_start=False)"
      ]
     },
     "execution_count": 92,
     "metadata": {},
     "output_type": "execute_result"
    }
   ],
   "source": [
    "NN_regressor.fit(X_train1, y_train1)"
   ]
  },
  {
   "cell_type": "code",
   "execution_count": 93,
   "metadata": {},
   "outputs": [],
   "source": [
    "y_pred1_NN = NN_regressor.predict(X_test1)"
   ]
  },
  {
   "cell_type": "code",
   "execution_count": 94,
   "metadata": {},
   "outputs": [],
   "source": [
    "MAE_NN = metrics.mean_absolute_error(y_test1, y_pred1_NN)\n",
    "MSE_NN = metrics.mean_squared_error(y_test1, y_pred1_NN)\n",
    "RMSE_NN = np.sqrt(metrics.mean_squared_error(y_test1, y_pred1_NN))"
   ]
  },
  {
   "cell_type": "code",
   "execution_count": 95,
   "metadata": {},
   "outputs": [
    {
     "name": "stdout",
     "output_type": "stream",
     "text": [
      "Mean Absolute Error: 0.3712948048803314\n",
      "Mean Squared Error: 0.21007171455319262\n",
      "Root Mean Squared Error: 0.4583358098089136\n"
     ]
    }
   ],
   "source": [
    "print('Mean Absolute Error:',MAE_NN)\n",
    "print('Mean Squared Error:', MSE_NN)  \n",
    "print('Root Mean Squared Error:', RMSE_NN)"
   ]
  },
  {
   "cell_type": "code",
   "execution_count": 96,
   "metadata": {},
   "outputs": [
    {
     "data": {
      "text/plain": [
       "['RF', 'DT', 'XGboost', 'NN']"
      ]
     },
     "execution_count": 96,
     "metadata": {},
     "output_type": "execute_result"
    }
   ],
   "source": [
    "models= [\"RF\", \"DT\",\"XGboost\",\"NN\"]\n",
    "models"
   ]
  },
  {
   "cell_type": "code",
   "execution_count": 97,
   "metadata": {},
   "outputs": [
    {
     "data": {
      "text/plain": [
       "[0.1278904956213602,\n",
       " 0.29629183495590783,\n",
       " 0.16997312467397319,\n",
       " 0.3712948048803314]"
      ]
     },
     "execution_count": 97,
     "metadata": {},
     "output_type": "execute_result"
    }
   ],
   "source": [
    "Mean_Abs_Error =[MAE_RF ,MAE_DT ,MAE_XGB , MAE_NN]\n",
    "Mean_Abs_Error"
   ]
  },
  {
   "cell_type": "code",
   "execution_count": 98,
   "metadata": {},
   "outputs": [
    {
     "data": {
      "text/plain": [
       "[0.032393782192114334,\n",
       " 0.143716160638882,\n",
       " 0.049152272625088325,\n",
       " 0.21007171455319262]"
      ]
     },
     "execution_count": 98,
     "metadata": {},
     "output_type": "execute_result"
    }
   ],
   "source": [
    "Mean_Sqrt_Error = [MSE_RF, MSE_DT, MSE_XGB, MSE_NN]\n",
    "Mean_Sqrt_Error"
   ]
  },
  {
   "cell_type": "code",
   "execution_count": 99,
   "metadata": {},
   "outputs": [
    {
     "data": {
      "text/plain": [
       "[0.17998272748270688,\n",
       " 0.3790991435480724,\n",
       " 0.2217031182123705,\n",
       " 0.4583358098089136]"
      ]
     },
     "execution_count": 99,
     "metadata": {},
     "output_type": "execute_result"
    }
   ],
   "source": [
    "Root_Mean_Sqrd_Error = [RMSE_RF, RMSE_DT, RMSE_XGB, RMSE_NN]\n",
    "Root_Mean_Sqrd_Error"
   ]
  },
  {
   "cell_type": "code",
   "execution_count": 100,
   "metadata": {},
   "outputs": [],
   "source": [
    "d = {'model': models,'Mean_Abs_Error': Mean_Abs_Error,'Mean_Sqrt_Error': Mean_Sqrt_Error,'Root_Mean_Sqrd_Error':Root_Mean_Sqrd_Error}"
   ]
  },
  {
   "cell_type": "code",
   "execution_count": 101,
   "metadata": {},
   "outputs": [
    {
     "data": {
      "text/html": [
       "<div>\n",
       "<style scoped>\n",
       "    .dataframe tbody tr th:only-of-type {\n",
       "        vertical-align: middle;\n",
       "    }\n",
       "\n",
       "    .dataframe tbody tr th {\n",
       "        vertical-align: top;\n",
       "    }\n",
       "\n",
       "    .dataframe thead th {\n",
       "        text-align: right;\n",
       "    }\n",
       "</style>\n",
       "<table border=\"1\" class=\"dataframe\">\n",
       "  <thead>\n",
       "    <tr style=\"text-align: right;\">\n",
       "      <th></th>\n",
       "      <th>model</th>\n",
       "      <th>Mean_Abs_Error</th>\n",
       "      <th>Mean_Sqrt_Error</th>\n",
       "      <th>Root_Mean_Sqrd_Error</th>\n",
       "    </tr>\n",
       "  </thead>\n",
       "  <tbody>\n",
       "    <tr>\n",
       "      <th>0</th>\n",
       "      <td>RF</td>\n",
       "      <td>0.127890</td>\n",
       "      <td>0.032394</td>\n",
       "      <td>0.179983</td>\n",
       "    </tr>\n",
       "    <tr>\n",
       "      <th>1</th>\n",
       "      <td>DT</td>\n",
       "      <td>0.296292</td>\n",
       "      <td>0.143716</td>\n",
       "      <td>0.379099</td>\n",
       "    </tr>\n",
       "    <tr>\n",
       "      <th>2</th>\n",
       "      <td>XGboost</td>\n",
       "      <td>0.169973</td>\n",
       "      <td>0.049152</td>\n",
       "      <td>0.221703</td>\n",
       "    </tr>\n",
       "    <tr>\n",
       "      <th>3</th>\n",
       "      <td>NN</td>\n",
       "      <td>0.371295</td>\n",
       "      <td>0.210072</td>\n",
       "      <td>0.458336</td>\n",
       "    </tr>\n",
       "  </tbody>\n",
       "</table>\n",
       "</div>"
      ],
      "text/plain": [
       "     model  Mean_Abs_Error  Mean_Sqrt_Error  Root_Mean_Sqrd_Error\n",
       "0       RF        0.127890         0.032394              0.179983\n",
       "1       DT        0.296292         0.143716              0.379099\n",
       "2  XGboost        0.169973         0.049152              0.221703\n",
       "3       NN        0.371295         0.210072              0.458336"
      ]
     },
     "execution_count": 101,
     "metadata": {},
     "output_type": "execute_result"
    }
   ],
   "source": [
    "pd.DataFrame(data=d)"
   ]
  },
  {
   "cell_type": "markdown",
   "metadata": {},
   "source": [
    "## Parameters Tuning with Random Hyperparameter Grid Search"
   ]
  },
  {
   "cell_type": "markdown",
   "metadata": {},
   "source": [
    "### Random Forest Regression"
   ]
  },
  {
   "cell_type": "code",
   "execution_count": 102,
   "metadata": {},
   "outputs": [],
   "source": [
    "from pprint import pprint"
   ]
  },
  {
   "cell_type": "code",
   "execution_count": 103,
   "metadata": {},
   "outputs": [
    {
     "name": "stdout",
     "output_type": "stream",
     "text": [
      "Parameters currently in use:\n",
      "\n"
     ]
    },
    {
     "ename": "NameError",
     "evalue": "name 'rf_classifier' is not defined",
     "output_type": "error",
     "traceback": [
      "\u001b[1;31m---------------------------------------------------------------------------\u001b[0m",
      "\u001b[1;31mNameError\u001b[0m                                 Traceback (most recent call last)",
      "\u001b[1;32m<ipython-input-103-53600e3caa7b>\u001b[0m in \u001b[0;36m<module>\u001b[1;34m\u001b[0m\n\u001b[0;32m      1\u001b[0m \u001b[1;31m# Look at parameters used by our current forest\u001b[0m\u001b[1;33m\u001b[0m\u001b[1;33m\u001b[0m\u001b[1;33m\u001b[0m\u001b[0m\n\u001b[0;32m      2\u001b[0m \u001b[0mprint\u001b[0m\u001b[1;33m(\u001b[0m\u001b[1;34m'Parameters currently in use:\\n'\u001b[0m\u001b[1;33m)\u001b[0m\u001b[1;33m\u001b[0m\u001b[1;33m\u001b[0m\u001b[0m\n\u001b[1;32m----> 3\u001b[1;33m \u001b[0mpprint\u001b[0m\u001b[1;33m(\u001b[0m\u001b[0mrf_classifier\u001b[0m\u001b[1;33m.\u001b[0m\u001b[0mget_params\u001b[0m\u001b[1;33m(\u001b[0m\u001b[1;33m)\u001b[0m\u001b[1;33m)\u001b[0m\u001b[1;33m\u001b[0m\u001b[1;33m\u001b[0m\u001b[0m\n\u001b[0m",
      "\u001b[1;31mNameError\u001b[0m: name 'rf_classifier' is not defined"
     ]
    }
   ],
   "source": [
    "# Look at parameters used by our current forest\n",
    "print('Parameters currently in use:\\n')\n",
    "pprint(rf_classifier.get_params())"
   ]
  },
  {
   "cell_type": "code",
   "execution_count": 104,
   "metadata": {},
   "outputs": [],
   "source": [
    "# Randomized Search CV\n",
    "from sklearn.model_selection import RandomizedSearchCV"
   ]
  },
  {
   "cell_type": "code",
   "execution_count": 105,
   "metadata": {},
   "outputs": [],
   "source": [
    "# Number of trees in random forest\n",
    "n_estimators = [int(x) for x in np.linspace(start = 100, stop = 1200, num = 12)]\n",
    "# Number of features to consider at every split\n",
    "max_features = ['auto', 'sqrt']\n",
    "# Maximum number of levels in tree\n",
    "max_depth = [int(x) for x in np.linspace(5, 30, num = 6)]\n",
    "# max_depth.append(None)\n",
    "# Minimum number of samples required to split a node\n",
    "min_samples_split = [2, 5, 10, 15, 100]\n",
    "# Minimum number of samples required at each leaf node\n",
    "min_samples_leaf = [1, 2, 5, 10]\n",
    "# Method of selecting samples for training each tree\n",
    "# bootstrap = [True, False]\n",
    "\n",
    "# Create the random grid\n",
    "random_grid = {'n_estimators': n_estimators,\n",
    "               'max_features': max_features,\n",
    "               'max_depth': max_depth,\n",
    "               'min_samples_split': min_samples_split,\n",
    "               'min_samples_leaf': min_samples_leaf}"
   ]
  },
  {
   "cell_type": "code",
   "execution_count": 106,
   "metadata": {},
   "outputs": [
    {
     "name": "stdout",
     "output_type": "stream",
     "text": [
      "{'max_depth': [5, 10, 15, 20, 25, 30],\n",
      " 'max_features': ['auto', 'sqrt'],\n",
      " 'min_samples_leaf': [1, 2, 5, 10],\n",
      " 'min_samples_split': [2, 5, 10, 15, 100],\n",
      " 'n_estimators': [100,\n",
      "                  200,\n",
      "                  300,\n",
      "                  400,\n",
      "                  500,\n",
      "                  600,\n",
      "                  700,\n",
      "                  800,\n",
      "                  900,\n",
      "                  1000,\n",
      "                  1100,\n",
      "                  1200]}\n"
     ]
    }
   ],
   "source": [
    "pprint(random_grid)"
   ]
  },
  {
   "cell_type": "code",
   "execution_count": 107,
   "metadata": {},
   "outputs": [],
   "source": [
    "# Use the random grid to search for best hyperparameters\n",
    "# First create the base model to tune\n",
    "rf = RandomForestRegressor()\n",
    "# Random search of parameters, using 3 fold cross validation, search across 100 different combinations, and use all available cores\n",
    "rf_random = RandomizedSearchCV(estimator = rf, param_distributions = random_grid, n_iter = 100, cv = 3, verbose=2, random_state=42, n_jobs = -1)"
   ]
  },
  {
   "cell_type": "code",
   "execution_count": 108,
   "metadata": {},
   "outputs": [
    {
     "name": "stdout",
     "output_type": "stream",
     "text": [
      "Fitting 3 folds for each of 100 candidates, totalling 300 fits\n"
     ]
    },
    {
     "name": "stderr",
     "output_type": "stream",
     "text": [
      "[Parallel(n_jobs=-1)]: Using backend LokyBackend with 8 concurrent workers.\n",
      "[Parallel(n_jobs=-1)]: Done  25 tasks      | elapsed:   12.6s\n",
      "[Parallel(n_jobs=-1)]: Done 146 tasks      | elapsed:  1.1min\n",
      "[Parallel(n_jobs=-1)]: Done 300 out of 300 | elapsed:  2.2min finished\n"
     ]
    },
    {
     "data": {
      "text/plain": [
       "RandomizedSearchCV(cv=3, error_score='raise-deprecating',\n",
       "          estimator=RandomForestRegressor(bootstrap=True, criterion='mse', max_depth=None,\n",
       "           max_features='auto', max_leaf_nodes=None,\n",
       "           min_impurity_decrease=0.0, min_impurity_split=None,\n",
       "           min_samples_leaf=1, min_samples_split=2,\n",
       "           min_weight_fraction_leaf=0.0, n_estimators='warn', n_jobs=None,\n",
       "           oob_score=False, random_state=None, verbose=0, warm_start=False),\n",
       "          fit_params=None, iid='warn', n_iter=100, n_jobs=-1,\n",
       "          param_distributions={'n_estimators': [100, 200, 300, 400, 500, 600, 700, 800, 900, 1000, 1100, 1200], 'max_features': ['auto', 'sqrt'], 'max_depth': [5, 10, 15, 20, 25, 30], 'min_samples_split': [2, 5, 10, 15, 100], 'min_samples_leaf': [1, 2, 5, 10]},\n",
       "          pre_dispatch='2*n_jobs', random_state=42, refit=True,\n",
       "          return_train_score='warn', scoring=None, verbose=2)"
      ]
     },
     "execution_count": 108,
     "metadata": {},
     "output_type": "execute_result"
    }
   ],
   "source": [
    "#Fit the random search model\n",
    "rf_random.fit(X_train1,y_train1)"
   ]
  },
  {
   "cell_type": "code",
   "execution_count": 109,
   "metadata": {},
   "outputs": [
    {
     "data": {
      "text/plain": [
       "{'n_estimators': 700,\n",
       " 'min_samples_split': 5,\n",
       " 'min_samples_leaf': 1,\n",
       " 'max_features': 'auto',\n",
       " 'max_depth': 30}"
      ]
     },
     "execution_count": 109,
     "metadata": {},
     "output_type": "execute_result"
    }
   ],
   "source": [
    "rf_random.best_params_"
   ]
  },
  {
   "cell_type": "code",
   "execution_count": 110,
   "metadata": {},
   "outputs": [],
   "source": [
    "y_pred1_RF = rf_random.predict(X_test1)"
   ]
  },
  {
   "cell_type": "code",
   "execution_count": 111,
   "metadata": {},
   "outputs": [
    {
     "name": "stdout",
     "output_type": "stream",
     "text": [
      "Mean Absolute Error: 0.13055139382117245\n",
      "Mean Squared Error: 0.033125443664109466\n",
      "Root Mean Squared Error: 0.1820039660669774\n"
     ]
    }
   ],
   "source": [
    "from sklearn import metrics\n",
    "print('Mean Absolute Error:',metrics.mean_absolute_error(y_test1, y_pred1_RF))  \n",
    "print('Mean Squared Error:',metrics.mean_squared_error(y_test1, y_pred1_RF))  \n",
    "print('Root Mean Squared Error:',np.sqrt(metrics.mean_squared_error(y_test1, y_pred1_RF)))  "
   ]
  },
  {
   "cell_type": "markdown",
   "metadata": {},
   "source": [
    "Let's call the same metrics before tuning:"
   ]
  },
  {
   "cell_type": "code",
   "execution_count": 112,
   "metadata": {},
   "outputs": [
    {
     "name": "stdout",
     "output_type": "stream",
     "text": [
      "Mean Absolute Error: 0.1278904956213602\n",
      "Mean Squared Error: 0.032393782192114334\n",
      "Root Mean Squared Error: 0.17998272748270688\n"
     ]
    }
   ],
   "source": [
    "print('Mean Absolute Error:',MAE_RF)  \n",
    "print('Mean Squared Error:',MSE_RF)  \n",
    "print('Root Mean Squared Error:',RMSE_RF)"
   ]
  },
  {
   "cell_type": "markdown",
   "metadata": {},
   "source": [
    "### Bangkok"
   ]
  },
  {
   "cell_type": "code",
   "execution_count": 114,
   "metadata": {},
   "outputs": [],
   "source": [
    "Bngkok_X = BangkokData[Selected_list]\n",
    "Bngkok_Y = BangkokData['log_price']"
   ]
  },
  {
   "cell_type": "code",
   "execution_count": 115,
   "metadata": {},
   "outputs": [
    {
     "data": {
      "text/plain": [
       "Index(['Latitude', 'Longitude', 'ListingsNo_in_weekth', 'weeks_before_booking',\n",
       "       'Year_week', 'Bathrooms_num_int', 'Bedrooms_int', 'Beds_int',\n",
       "       'shared_bathroom', 'shared_room', 'Reviewers_no', 'Group_ID',\n",
       "       'avg_rating_stars', 'Amenities_length', 'Super_host'],\n",
       "      dtype='object')"
      ]
     },
     "execution_count": 115,
     "metadata": {},
     "output_type": "execute_result"
    }
   ],
   "source": [
    "Bngkok_X.columns"
   ]
  },
  {
   "cell_type": "code",
   "execution_count": 116,
   "metadata": {},
   "outputs": [
    {
     "name": "stdout",
     "output_type": "stream",
     "text": [
      "(5425, 15)\n",
      "(2326, 15)\n",
      "(5425,)\n",
      "(2326,)\n"
     ]
    }
   ],
   "source": [
    "X_train2, X_test2, y_train2, y_test2 = train_test_split(Bngkok_X,Bngkok_Y,test_size=0.3, random_state=5)\n",
    "print(X_train2.shape)\n",
    "print(X_test2.shape)\n",
    "print(y_train2.shape)\n",
    "print(y_test2.shape)"
   ]
  },
  {
   "cell_type": "markdown",
   "metadata": {},
   "source": [
    "### Random Forest Regression"
   ]
  },
  {
   "cell_type": "code",
   "execution_count": 117,
   "metadata": {},
   "outputs": [],
   "source": [
    "rf_classifier = RandomForestRegressor(n_estimators=400, criterion='mse', random_state=5)\n"
   ]
  },
  {
   "cell_type": "code",
   "execution_count": 118,
   "metadata": {},
   "outputs": [
    {
     "data": {
      "text/plain": [
       "RandomForestRegressor(bootstrap=True, criterion='mse', max_depth=None,\n",
       "           max_features='auto', max_leaf_nodes=None,\n",
       "           min_impurity_decrease=0.0, min_impurity_split=None,\n",
       "           min_samples_leaf=1, min_samples_split=2,\n",
       "           min_weight_fraction_leaf=0.0, n_estimators=400, n_jobs=None,\n",
       "           oob_score=False, random_state=5, verbose=0, warm_start=False)"
      ]
     },
     "execution_count": 118,
     "metadata": {},
     "output_type": "execute_result"
    }
   ],
   "source": [
    "rf_classifier.fit(X_train2, y_train2)"
   ]
  },
  {
   "cell_type": "code",
   "execution_count": 119,
   "metadata": {},
   "outputs": [],
   "source": [
    "y_pred2_RFR = rf_classifier.predict(X_test2)"
   ]
  },
  {
   "cell_type": "code",
   "execution_count": 120,
   "metadata": {},
   "outputs": [
    {
     "data": {
      "text/html": [
       "<div>\n",
       "<style scoped>\n",
       "    .dataframe tbody tr th:only-of-type {\n",
       "        vertical-align: middle;\n",
       "    }\n",
       "\n",
       "    .dataframe tbody tr th {\n",
       "        vertical-align: top;\n",
       "    }\n",
       "\n",
       "    .dataframe thead th {\n",
       "        text-align: right;\n",
       "    }\n",
       "</style>\n",
       "<table border=\"1\" class=\"dataframe\">\n",
       "  <thead>\n",
       "    <tr style=\"text-align: right;\">\n",
       "      <th></th>\n",
       "      <th>Actual</th>\n",
       "      <th>Predicted</th>\n",
       "    </tr>\n",
       "  </thead>\n",
       "  <tbody>\n",
       "    <tr>\n",
       "      <th>3213</th>\n",
       "      <td>4.430817</td>\n",
       "      <td>4.428523</td>\n",
       "    </tr>\n",
       "    <tr>\n",
       "      <th>1445</th>\n",
       "      <td>3.988984</td>\n",
       "      <td>4.334381</td>\n",
       "    </tr>\n",
       "    <tr>\n",
       "      <th>3913</th>\n",
       "      <td>3.761200</td>\n",
       "      <td>3.745371</td>\n",
       "    </tr>\n",
       "    <tr>\n",
       "      <th>6396</th>\n",
       "      <td>4.060443</td>\n",
       "      <td>4.057164</td>\n",
       "    </tr>\n",
       "    <tr>\n",
       "      <th>7175</th>\n",
       "      <td>4.094345</td>\n",
       "      <td>4.201492</td>\n",
       "    </tr>\n",
       "    <tr>\n",
       "      <th>3067</th>\n",
       "      <td>3.496508</td>\n",
       "      <td>3.530346</td>\n",
       "    </tr>\n",
       "    <tr>\n",
       "      <th>4280</th>\n",
       "      <td>3.871201</td>\n",
       "      <td>3.866609</td>\n",
       "    </tr>\n",
       "    <tr>\n",
       "      <th>1290</th>\n",
       "      <td>4.762174</td>\n",
       "      <td>4.736880</td>\n",
       "    </tr>\n",
       "    <tr>\n",
       "      <th>1075</th>\n",
       "      <td>3.526361</td>\n",
       "      <td>3.581072</td>\n",
       "    </tr>\n",
       "    <tr>\n",
       "      <th>7559</th>\n",
       "      <td>4.189655</td>\n",
       "      <td>4.185123</td>\n",
       "    </tr>\n",
       "  </tbody>\n",
       "</table>\n",
       "</div>"
      ],
      "text/plain": [
       "        Actual  Predicted\n",
       "3213  4.430817   4.428523\n",
       "1445  3.988984   4.334381\n",
       "3913  3.761200   3.745371\n",
       "6396  4.060443   4.057164\n",
       "7175  4.094345   4.201492\n",
       "3067  3.496508   3.530346\n",
       "4280  3.871201   3.866609\n",
       "1290  4.762174   4.736880\n",
       "1075  3.526361   3.581072\n",
       "7559  4.189655   4.185123"
      ]
     },
     "execution_count": 120,
     "metadata": {},
     "output_type": "execute_result"
    }
   ],
   "source": [
    "df = pd.DataFrame({'Actual':y_test2, 'Predicted': y_pred2_RFR})  \n",
    "df.head(10)"
   ]
  },
  {
   "cell_type": "code",
   "execution_count": 121,
   "metadata": {},
   "outputs": [],
   "source": [
    "MAE_RF =  metrics.mean_absolute_error(y_test2, y_pred2_RFR)\n",
    "MSE_RF = metrics.mean_squared_error(y_test2, y_pred2_RFR)  \n",
    "RMSE_RF = np.sqrt(metrics.mean_squared_error(y_test2, y_pred2_RFR))"
   ]
  },
  {
   "cell_type": "code",
   "execution_count": 122,
   "metadata": {},
   "outputs": [
    {
     "name": "stdout",
     "output_type": "stream",
     "text": [
      "Mean Absolute Error: 0.05561754034792597\n",
      "Mean Squared Error: 0.012959493530091879\n",
      "Root Mean Squared Error: 0.11383977130200094\n"
     ]
    }
   ],
   "source": [
    "from sklearn import metrics  \n",
    "print('Mean Absolute Error:', MAE_RF)  \n",
    "print('Mean Squared Error:', MSE_RF)  \n",
    "print('Root Mean Squared Error:', RMSE_RF)  "
   ]
  },
  {
   "cell_type": "markdown",
   "metadata": {},
   "source": [
    "### Decision Tree Regression"
   ]
  },
  {
   "cell_type": "code",
   "execution_count": 123,
   "metadata": {},
   "outputs": [],
   "source": [
    "from sklearn.tree import DecisionTreeRegressor\n",
    "DT_regressor = DecisionTreeRegressor(max_depth=2)"
   ]
  },
  {
   "cell_type": "code",
   "execution_count": 124,
   "metadata": {},
   "outputs": [
    {
     "data": {
      "text/plain": [
       "DecisionTreeRegressor(criterion='mse', max_depth=2, max_features=None,\n",
       "           max_leaf_nodes=None, min_impurity_decrease=0.0,\n",
       "           min_impurity_split=None, min_samples_leaf=1,\n",
       "           min_samples_split=2, min_weight_fraction_leaf=0.0,\n",
       "           presort=False, random_state=None, splitter='best')"
      ]
     },
     "execution_count": 124,
     "metadata": {},
     "output_type": "execute_result"
    }
   ],
   "source": [
    "DT_regressor.fit(X_train2, y_train2)"
   ]
  },
  {
   "cell_type": "code",
   "execution_count": 125,
   "metadata": {},
   "outputs": [],
   "source": [
    "y_pred2_DT = DT_regressor.predict(X_test2)"
   ]
  },
  {
   "cell_type": "code",
   "execution_count": 126,
   "metadata": {},
   "outputs": [],
   "source": [
    "MAE_DT = metrics.mean_absolute_error(y_test2, y_pred2_DT)\n",
    "MSE_DT = metrics.mean_squared_error(y_test2, y_pred2_DT)\n",
    "RMSE_DT = np.sqrt(metrics.mean_squared_error(y_test2, y_pred2_DT))"
   ]
  },
  {
   "cell_type": "code",
   "execution_count": 127,
   "metadata": {},
   "outputs": [
    {
     "name": "stdout",
     "output_type": "stream",
     "text": [
      "Mean Absolute Error: 0.28998126704547356\n",
      "Mean Squared Error: 0.14070337944125821\n",
      "Root Mean Squared Error: 0.37510449136375085\n"
     ]
    }
   ],
   "source": [
    "print('Mean Absolute Error:', MAE_DT)  \n",
    "print('Mean Squared Error:', MSE_DT)  \n",
    "print('Root Mean Squared Error:', RMSE_DT)"
   ]
  },
  {
   "cell_type": "markdown",
   "metadata": {},
   "source": [
    "### Boosted Decision Tree Regression (XGBoost)"
   ]
  },
  {
   "cell_type": "code",
   "execution_count": 128,
   "metadata": {},
   "outputs": [],
   "source": [
    "import xgboost as xgb\n",
    "xgb_model = xgb.XGBRegressor(objective='reg:squarederror', random_state=42)"
   ]
  },
  {
   "cell_type": "code",
   "execution_count": 129,
   "metadata": {},
   "outputs": [
    {
     "data": {
      "text/plain": [
       "XGBRegressor(base_score=0.5, booster='gbtree', colsample_bylevel=1,\n",
       "       colsample_bynode=1, colsample_bytree=1, gamma=0,\n",
       "       importance_type='gain', learning_rate=0.1, max_delta_step=0,\n",
       "       max_depth=3, min_child_weight=1, missing=None, n_estimators=100,\n",
       "       n_jobs=1, nthread=None, objective='reg:squarederror',\n",
       "       random_state=42, reg_alpha=0, reg_lambda=1, scale_pos_weight=1,\n",
       "       seed=None, silent=None, subsample=1, verbosity=1)"
      ]
     },
     "execution_count": 129,
     "metadata": {},
     "output_type": "execute_result"
    }
   ],
   "source": [
    "xgb_model.fit(X_train2, y_train2)"
   ]
  },
  {
   "cell_type": "code",
   "execution_count": 130,
   "metadata": {},
   "outputs": [],
   "source": [
    "y_pred2_XGB = xgb_model.predict(X_test2)"
   ]
  },
  {
   "cell_type": "code",
   "execution_count": 131,
   "metadata": {},
   "outputs": [],
   "source": [
    "MAE_XGB = metrics.mean_absolute_error(y_test2, y_pred2_XGB)\n",
    "MSE_XGB = metrics.mean_squared_error(y_test2, y_pred2_XGB)\n",
    "RMSE_XGB = np.sqrt(metrics.mean_squared_error(y_test2, y_pred2_XGB))"
   ]
  },
  {
   "cell_type": "code",
   "execution_count": 132,
   "metadata": {},
   "outputs": [
    {
     "name": "stdout",
     "output_type": "stream",
     "text": [
      "Mean Absolute Error: 0.159028549712454\n",
      "Mean Squared Error: 0.04358807622117535\n",
      "Root Mean Squared Error: 0.20877757595387333\n"
     ]
    }
   ],
   "source": [
    "print('Mean Absolute Error:', MAE_XGB)  \n",
    "print('Mean Squared Error:', MSE_XGB )  \n",
    "print('Root Mean Squared Error:',RMSE_XGB) "
   ]
  },
  {
   "cell_type": "markdown",
   "metadata": {},
   "source": [
    "### Neural Network Regression"
   ]
  },
  {
   "cell_type": "code",
   "execution_count": 133,
   "metadata": {},
   "outputs": [],
   "source": [
    "from sklearn.neural_network import MLPRegressor\n",
    "NN_regressor = MLPRegressor(activation='relu')"
   ]
  },
  {
   "cell_type": "code",
   "execution_count": 134,
   "metadata": {},
   "outputs": [
    {
     "data": {
      "text/plain": [
       "MLPRegressor(activation='relu', alpha=0.0001, batch_size='auto', beta_1=0.9,\n",
       "       beta_2=0.999, early_stopping=False, epsilon=1e-08,\n",
       "       hidden_layer_sizes=(100,), learning_rate='constant',\n",
       "       learning_rate_init=0.001, max_iter=200, momentum=0.9,\n",
       "       n_iter_no_change=10, nesterovs_momentum=True, power_t=0.5,\n",
       "       random_state=None, shuffle=True, solver='adam', tol=0.0001,\n",
       "       validation_fraction=0.1, verbose=False, warm_start=False)"
      ]
     },
     "execution_count": 134,
     "metadata": {},
     "output_type": "execute_result"
    }
   ],
   "source": [
    "NN_regressor.fit(X_train2, y_train2)"
   ]
  },
  {
   "cell_type": "code",
   "execution_count": 135,
   "metadata": {},
   "outputs": [],
   "source": [
    "y_pred2_NN = NN_regressor.predict(X_test2)"
   ]
  },
  {
   "cell_type": "code",
   "execution_count": 136,
   "metadata": {},
   "outputs": [],
   "source": [
    "MAE_NN = metrics.mean_absolute_error(y_test2, y_pred2_NN)\n",
    "MSE_NN = metrics.mean_squared_error(y_test2, y_pred2_NN)\n",
    "RMSE_NN = np.sqrt(metrics.mean_squared_error(y_test2, y_pred2_NN))"
   ]
  },
  {
   "cell_type": "code",
   "execution_count": 137,
   "metadata": {},
   "outputs": [
    {
     "name": "stdout",
     "output_type": "stream",
     "text": [
      "Mean Absolute Error: 0.2983541505210133\n",
      "Mean Squared Error: 0.13925086497501757\n",
      "Root Mean Squared Error: 0.37316332211917286\n"
     ]
    }
   ],
   "source": [
    "print('Mean Absolute Error:', MAE_NN)  \n",
    "print('Mean Squared Error:', MSE_NN)  \n",
    "print('Root Mean Squared Error:', RMSE_NN) "
   ]
  },
  {
   "cell_type": "code",
   "execution_count": 138,
   "metadata": {},
   "outputs": [],
   "source": [
    "Mean_Abs_Error =[MAE_RF ,MAE_DT ,MAE_XGB , MAE_NN]\n",
    "Mean_Sqrt_Error = [MSE_RF, MSE_DT, MSE_XGB, MSE_NN]\n",
    "Root_Mean_Sqrd_Error = [RMSE_RF, RMSE_DT, RMSE_XGB, RMSE_NN]"
   ]
  },
  {
   "cell_type": "code",
   "execution_count": 139,
   "metadata": {},
   "outputs": [],
   "source": [
    "d = {'model': models,'Mean_Abs_Error': Mean_Abs_Error,'Mean_Sqrt_Error': Mean_Sqrt_Error,'Root_Mean_Sqrd_Error':Root_Mean_Sqrd_Error}"
   ]
  },
  {
   "cell_type": "code",
   "execution_count": 140,
   "metadata": {},
   "outputs": [
    {
     "data": {
      "text/html": [
       "<div>\n",
       "<style scoped>\n",
       "    .dataframe tbody tr th:only-of-type {\n",
       "        vertical-align: middle;\n",
       "    }\n",
       "\n",
       "    .dataframe tbody tr th {\n",
       "        vertical-align: top;\n",
       "    }\n",
       "\n",
       "    .dataframe thead th {\n",
       "        text-align: right;\n",
       "    }\n",
       "</style>\n",
       "<table border=\"1\" class=\"dataframe\">\n",
       "  <thead>\n",
       "    <tr style=\"text-align: right;\">\n",
       "      <th></th>\n",
       "      <th>model</th>\n",
       "      <th>Mean_Abs_Error</th>\n",
       "      <th>Mean_Sqrt_Error</th>\n",
       "      <th>Root_Mean_Sqrd_Error</th>\n",
       "    </tr>\n",
       "  </thead>\n",
       "  <tbody>\n",
       "    <tr>\n",
       "      <th>0</th>\n",
       "      <td>RF</td>\n",
       "      <td>0.055618</td>\n",
       "      <td>0.012959</td>\n",
       "      <td>0.113840</td>\n",
       "    </tr>\n",
       "    <tr>\n",
       "      <th>1</th>\n",
       "      <td>DT</td>\n",
       "      <td>0.289981</td>\n",
       "      <td>0.140703</td>\n",
       "      <td>0.375104</td>\n",
       "    </tr>\n",
       "    <tr>\n",
       "      <th>2</th>\n",
       "      <td>XGboost</td>\n",
       "      <td>0.159029</td>\n",
       "      <td>0.043588</td>\n",
       "      <td>0.208778</td>\n",
       "    </tr>\n",
       "    <tr>\n",
       "      <th>3</th>\n",
       "      <td>NN</td>\n",
       "      <td>0.298354</td>\n",
       "      <td>0.139251</td>\n",
       "      <td>0.373163</td>\n",
       "    </tr>\n",
       "  </tbody>\n",
       "</table>\n",
       "</div>"
      ],
      "text/plain": [
       "     model  Mean_Abs_Error  Mean_Sqrt_Error  Root_Mean_Sqrd_Error\n",
       "0       RF        0.055618         0.012959              0.113840\n",
       "1       DT        0.289981         0.140703              0.375104\n",
       "2  XGboost        0.159029         0.043588              0.208778\n",
       "3       NN        0.298354         0.139251              0.373163"
      ]
     },
     "execution_count": 140,
     "metadata": {},
     "output_type": "execute_result"
    }
   ],
   "source": [
    "pd.DataFrame(data=d)"
   ]
  },
  {
   "cell_type": "markdown",
   "metadata": {},
   "source": [
    "### Cairo"
   ]
  },
  {
   "cell_type": "code",
   "execution_count": 141,
   "metadata": {},
   "outputs": [],
   "source": [
    "Cairo_X = CairoData[Selected_list]\n",
    "Cairo_Y = CairoData['log_price']"
   ]
  },
  {
   "cell_type": "code",
   "execution_count": 142,
   "metadata": {},
   "outputs": [
    {
     "name": "stdout",
     "output_type": "stream",
     "text": [
      "(5531, 15)\n",
      "(2371, 15)\n",
      "(5531,)\n",
      "(2371,)\n"
     ]
    }
   ],
   "source": [
    "X_train3, X_test3, y_train3, y_test3 = train_test_split(Cairo_X,Cairo_Y,test_size=0.3, random_state=5)\n",
    "print(X_train3.shape)\n",
    "print(X_test3.shape)\n",
    "print(y_train3.shape)\n",
    "print(y_test3.shape)"
   ]
  },
  {
   "cell_type": "markdown",
   "metadata": {},
   "source": [
    "### Random Forest Regression"
   ]
  },
  {
   "cell_type": "code",
   "execution_count": 143,
   "metadata": {},
   "outputs": [
    {
     "data": {
      "text/plain": [
       "RandomForestRegressor(bootstrap=True, criterion='mse', max_depth=None,\n",
       "           max_features='auto', max_leaf_nodes=None,\n",
       "           min_impurity_decrease=0.0, min_impurity_split=None,\n",
       "           min_samples_leaf=1, min_samples_split=2,\n",
       "           min_weight_fraction_leaf=0.0, n_estimators=400, n_jobs=None,\n",
       "           oob_score=False, random_state=5, verbose=0, warm_start=False)"
      ]
     },
     "execution_count": 143,
     "metadata": {},
     "output_type": "execute_result"
    }
   ],
   "source": [
    "rf_classifier = RandomForestRegressor(n_estimators=400, criterion='mse', random_state=5)\n",
    "rf_classifier.fit(X_train3, y_train3)"
   ]
  },
  {
   "cell_type": "code",
   "execution_count": 144,
   "metadata": {},
   "outputs": [],
   "source": [
    "y_pred3_RFR = rf_classifier.predict(X_test3)"
   ]
  },
  {
   "cell_type": "code",
   "execution_count": 145,
   "metadata": {},
   "outputs": [
    {
     "data": {
      "text/html": [
       "<div>\n",
       "<style scoped>\n",
       "    .dataframe tbody tr th:only-of-type {\n",
       "        vertical-align: middle;\n",
       "    }\n",
       "\n",
       "    .dataframe tbody tr th {\n",
       "        vertical-align: top;\n",
       "    }\n",
       "\n",
       "    .dataframe thead th {\n",
       "        text-align: right;\n",
       "    }\n",
       "</style>\n",
       "<table border=\"1\" class=\"dataframe\">\n",
       "  <thead>\n",
       "    <tr style=\"text-align: right;\">\n",
       "      <th></th>\n",
       "      <th>Actual</th>\n",
       "      <th>Predicted</th>\n",
       "    </tr>\n",
       "  </thead>\n",
       "  <tbody>\n",
       "    <tr>\n",
       "      <th>3564</th>\n",
       "      <td>4.219508</td>\n",
       "      <td>4.193497</td>\n",
       "    </tr>\n",
       "    <tr>\n",
       "      <th>6015</th>\n",
       "      <td>3.688879</td>\n",
       "      <td>3.671747</td>\n",
       "    </tr>\n",
       "    <tr>\n",
       "      <th>7518</th>\n",
       "      <td>2.995732</td>\n",
       "      <td>3.171762</td>\n",
       "    </tr>\n",
       "    <tr>\n",
       "      <th>4707</th>\n",
       "      <td>4.204693</td>\n",
       "      <td>4.180290</td>\n",
       "    </tr>\n",
       "    <tr>\n",
       "      <th>4272</th>\n",
       "      <td>4.077537</td>\n",
       "      <td>4.086751</td>\n",
       "    </tr>\n",
       "    <tr>\n",
       "      <th>7715</th>\n",
       "      <td>3.218876</td>\n",
       "      <td>3.095372</td>\n",
       "    </tr>\n",
       "    <tr>\n",
       "      <th>6862</th>\n",
       "      <td>4.787492</td>\n",
       "      <td>3.363197</td>\n",
       "    </tr>\n",
       "    <tr>\n",
       "      <th>2617</th>\n",
       "      <td>2.564949</td>\n",
       "      <td>2.581143</td>\n",
       "    </tr>\n",
       "    <tr>\n",
       "      <th>2005</th>\n",
       "      <td>4.356709</td>\n",
       "      <td>4.355123</td>\n",
       "    </tr>\n",
       "    <tr>\n",
       "      <th>855</th>\n",
       "      <td>3.688879</td>\n",
       "      <td>3.718120</td>\n",
       "    </tr>\n",
       "  </tbody>\n",
       "</table>\n",
       "</div>"
      ],
      "text/plain": [
       "        Actual  Predicted\n",
       "3564  4.219508   4.193497\n",
       "6015  3.688879   3.671747\n",
       "7518  2.995732   3.171762\n",
       "4707  4.204693   4.180290\n",
       "4272  4.077537   4.086751\n",
       "7715  3.218876   3.095372\n",
       "6862  4.787492   3.363197\n",
       "2617  2.564949   2.581143\n",
       "2005  4.356709   4.355123\n",
       "855   3.688879   3.718120"
      ]
     },
     "execution_count": 145,
     "metadata": {},
     "output_type": "execute_result"
    }
   ],
   "source": [
    "df = pd.DataFrame({'Actual':y_test3, 'Predicted': y_pred3_RFR})  \n",
    "df.head(10)"
   ]
  },
  {
   "cell_type": "code",
   "execution_count": 146,
   "metadata": {},
   "outputs": [],
   "source": [
    "from sklearn import metrics \n",
    "MAE_RF =  metrics.mean_absolute_error(y_test3, y_pred3_RFR)\n",
    "MSE_RF =  metrics.mean_squared_error(y_test3, y_pred3_RFR)\n",
    "RMSE_RF = np.sqrt(metrics.mean_squared_error(y_test3, y_pred3_RFR))"
   ]
  },
  {
   "cell_type": "code",
   "execution_count": 147,
   "metadata": {},
   "outputs": [
    {
     "name": "stdout",
     "output_type": "stream",
     "text": [
      "Mean Absolute Error: 0.06944438421025623\n",
      "Mean Squared Error: 0.02959128107632378\n",
      "Root Mean Squared Error: 0.17202116461739173\n"
     ]
    }
   ],
   "source": [
    " \n",
    "print('Mean Absolute Error:', MAE_RF)  \n",
    "print('Mean Squared Error:',MSE_RF)  \n",
    "print('Root Mean Squared Error:',RMSE_RF) "
   ]
  },
  {
   "cell_type": "markdown",
   "metadata": {},
   "source": [
    "### Decision Tree Regression"
   ]
  },
  {
   "cell_type": "code",
   "execution_count": 148,
   "metadata": {},
   "outputs": [],
   "source": [
    "from sklearn.tree import DecisionTreeRegressor\n",
    "DT_regressor = DecisionTreeRegressor(max_depth=2)"
   ]
  },
  {
   "cell_type": "code",
   "execution_count": 149,
   "metadata": {},
   "outputs": [
    {
     "data": {
      "text/plain": [
       "DecisionTreeRegressor(criterion='mse', max_depth=2, max_features=None,\n",
       "           max_leaf_nodes=None, min_impurity_decrease=0.0,\n",
       "           min_impurity_split=None, min_samples_leaf=1,\n",
       "           min_samples_split=2, min_weight_fraction_leaf=0.0,\n",
       "           presort=False, random_state=None, splitter='best')"
      ]
     },
     "execution_count": 149,
     "metadata": {},
     "output_type": "execute_result"
    }
   ],
   "source": [
    "DT_regressor.fit(X_train3, y_train3)"
   ]
  },
  {
   "cell_type": "code",
   "execution_count": 150,
   "metadata": {},
   "outputs": [],
   "source": [
    "y_pred3_DT = DT_regressor.predict(X_test3)"
   ]
  },
  {
   "cell_type": "code",
   "execution_count": 151,
   "metadata": {},
   "outputs": [],
   "source": [
    "MAE_DT = metrics.mean_absolute_error(y_test3, y_pred3_DT)\n",
    "MSE_DT = metrics.mean_squared_error(y_test3, y_pred3_DT)\n",
    "RMSE_DT = np.sqrt(metrics.mean_squared_error(y_test3, y_pred3_DT))"
   ]
  },
  {
   "cell_type": "code",
   "execution_count": 152,
   "metadata": {},
   "outputs": [
    {
     "name": "stdout",
     "output_type": "stream",
     "text": [
      "Mean Absolute Error: 0.3871718037108805\n",
      "Mean Squared Error: 0.2482136043911593\n",
      "Root Mean Squared Error: 0.4982104017291884\n"
     ]
    }
   ],
   "source": [
    "print('Mean Absolute Error:',MAE_DT)  \n",
    "print('Mean Squared Error:', MSE_DT)  \n",
    "print('Root Mean Squared Error:',RMSE_DT)"
   ]
  },
  {
   "cell_type": "markdown",
   "metadata": {},
   "source": [
    "### Boosted Decision Tree Regression (XGBoost)"
   ]
  },
  {
   "cell_type": "code",
   "execution_count": 153,
   "metadata": {},
   "outputs": [],
   "source": [
    "import xgboost as xgb\n",
    "xgb_model = xgb.XGBRegressor(objective='reg:squarederror', random_state=42)"
   ]
  },
  {
   "cell_type": "code",
   "execution_count": 154,
   "metadata": {},
   "outputs": [
    {
     "data": {
      "text/plain": [
       "XGBRegressor(base_score=0.5, booster='gbtree', colsample_bylevel=1,\n",
       "       colsample_bynode=1, colsample_bytree=1, gamma=0,\n",
       "       importance_type='gain', learning_rate=0.1, max_delta_step=0,\n",
       "       max_depth=3, min_child_weight=1, missing=None, n_estimators=100,\n",
       "       n_jobs=1, nthread=None, objective='reg:squarederror',\n",
       "       random_state=42, reg_alpha=0, reg_lambda=1, scale_pos_weight=1,\n",
       "       seed=None, silent=None, subsample=1, verbosity=1)"
      ]
     },
     "execution_count": 154,
     "metadata": {},
     "output_type": "execute_result"
    }
   ],
   "source": [
    "xgb_model.fit(X_train3, y_train3)"
   ]
  },
  {
   "cell_type": "code",
   "execution_count": 155,
   "metadata": {},
   "outputs": [],
   "source": [
    "y_pred3_XGB = xgb_model.predict(X_test3)"
   ]
  },
  {
   "cell_type": "code",
   "execution_count": 156,
   "metadata": {},
   "outputs": [],
   "source": [
    "MAE_XGB = metrics.mean_absolute_error(y_test3, y_pred3_XGB)\n",
    "MSE_XGB = metrics.mean_squared_error(y_test3, y_pred3_XGB)\n",
    "RMSE_XGB = np.sqrt(metrics.mean_squared_error(y_test3, y_pred3_XGB))"
   ]
  },
  {
   "cell_type": "code",
   "execution_count": 157,
   "metadata": {},
   "outputs": [
    {
     "name": "stdout",
     "output_type": "stream",
     "text": [
      "Mean Absolute Error: 0.2604976372428251\n",
      "Mean Squared Error: 0.11638892520605904\n",
      "Root Mean Squared Error: 0.34115821140060376\n"
     ]
    }
   ],
   "source": [
    "print('Mean Absolute Error:',MAE_XGB)  \n",
    "print('Mean Squared Error:',MSE_XGB)  \n",
    "print('Root Mean Squared Error:',RMSE_XGB) "
   ]
  },
  {
   "cell_type": "markdown",
   "metadata": {},
   "source": [
    "### Neural Network Regression"
   ]
  },
  {
   "cell_type": "code",
   "execution_count": 158,
   "metadata": {},
   "outputs": [],
   "source": [
    "from sklearn.neural_network import MLPRegressor\n",
    "NN_regressor = MLPRegressor(activation='relu')"
   ]
  },
  {
   "cell_type": "code",
   "execution_count": 159,
   "metadata": {},
   "outputs": [
    {
     "data": {
      "text/plain": [
       "MLPRegressor(activation='relu', alpha=0.0001, batch_size='auto', beta_1=0.9,\n",
       "       beta_2=0.999, early_stopping=False, epsilon=1e-08,\n",
       "       hidden_layer_sizes=(100,), learning_rate='constant',\n",
       "       learning_rate_init=0.001, max_iter=200, momentum=0.9,\n",
       "       n_iter_no_change=10, nesterovs_momentum=True, power_t=0.5,\n",
       "       random_state=None, shuffle=True, solver='adam', tol=0.0001,\n",
       "       validation_fraction=0.1, verbose=False, warm_start=False)"
      ]
     },
     "execution_count": 159,
     "metadata": {},
     "output_type": "execute_result"
    }
   ],
   "source": [
    "NN_regressor.fit(X_train3, y_train3)"
   ]
  },
  {
   "cell_type": "code",
   "execution_count": 160,
   "metadata": {},
   "outputs": [],
   "source": [
    "y_pred3_NN = NN_regressor.predict(X_test3)"
   ]
  },
  {
   "cell_type": "code",
   "execution_count": 161,
   "metadata": {},
   "outputs": [],
   "source": [
    "MAE_NN = metrics.mean_absolute_error(y_test3, y_pred3_NN)\n",
    "MSE_NN = metrics.mean_squared_error(y_test3, y_pred3_NN)\n",
    "RMSE_NN = np.sqrt(metrics.mean_squared_error(y_test3, y_pred3_NN))"
   ]
  },
  {
   "cell_type": "code",
   "execution_count": 162,
   "metadata": {},
   "outputs": [
    {
     "name": "stdout",
     "output_type": "stream",
     "text": [
      "Mean Absolute Error: 0.39929648515721805\n",
      "Mean Squared Error: 0.26162305493580795\n",
      "Root Mean Squared Error: 0.5114910115884813\n"
     ]
    }
   ],
   "source": [
    "print('Mean Absolute Error:',MAE_NN)  \n",
    "print('Mean Squared Error:',MSE_NN)  \n",
    "print('Root Mean Squared Error:',RMSE_NN)"
   ]
  },
  {
   "cell_type": "code",
   "execution_count": 163,
   "metadata": {},
   "outputs": [],
   "source": [
    "Mean_Abs_Error =[MAE_RF ,MAE_DT ,MAE_XGB , MAE_NN]\n",
    "Mean_Sqrt_Error = [MSE_RF, MSE_DT, MSE_XGB, MSE_NN]\n",
    "Root_Mean_Sqrd_Error = [RMSE_RF, RMSE_DT, RMSE_XGB, RMSE_NN]"
   ]
  },
  {
   "cell_type": "code",
   "execution_count": 164,
   "metadata": {},
   "outputs": [],
   "source": [
    "d = {'model': models,'Mean_Abs_Error': Mean_Abs_Error,'Mean_Sqrt_Error': Mean_Sqrt_Error,'Root_Mean_Sqrd_Error':Root_Mean_Sqrd_Error}"
   ]
  },
  {
   "cell_type": "code",
   "execution_count": 165,
   "metadata": {},
   "outputs": [
    {
     "data": {
      "text/html": [
       "<div>\n",
       "<style scoped>\n",
       "    .dataframe tbody tr th:only-of-type {\n",
       "        vertical-align: middle;\n",
       "    }\n",
       "\n",
       "    .dataframe tbody tr th {\n",
       "        vertical-align: top;\n",
       "    }\n",
       "\n",
       "    .dataframe thead th {\n",
       "        text-align: right;\n",
       "    }\n",
       "</style>\n",
       "<table border=\"1\" class=\"dataframe\">\n",
       "  <thead>\n",
       "    <tr style=\"text-align: right;\">\n",
       "      <th></th>\n",
       "      <th>model</th>\n",
       "      <th>Mean_Abs_Error</th>\n",
       "      <th>Mean_Sqrt_Error</th>\n",
       "      <th>Root_Mean_Sqrd_Error</th>\n",
       "    </tr>\n",
       "  </thead>\n",
       "  <tbody>\n",
       "    <tr>\n",
       "      <th>0</th>\n",
       "      <td>RF</td>\n",
       "      <td>0.069444</td>\n",
       "      <td>0.029591</td>\n",
       "      <td>0.172021</td>\n",
       "    </tr>\n",
       "    <tr>\n",
       "      <th>1</th>\n",
       "      <td>DT</td>\n",
       "      <td>0.387172</td>\n",
       "      <td>0.248214</td>\n",
       "      <td>0.498210</td>\n",
       "    </tr>\n",
       "    <tr>\n",
       "      <th>2</th>\n",
       "      <td>XGboost</td>\n",
       "      <td>0.260498</td>\n",
       "      <td>0.116389</td>\n",
       "      <td>0.341158</td>\n",
       "    </tr>\n",
       "    <tr>\n",
       "      <th>3</th>\n",
       "      <td>NN</td>\n",
       "      <td>0.399296</td>\n",
       "      <td>0.261623</td>\n",
       "      <td>0.511491</td>\n",
       "    </tr>\n",
       "  </tbody>\n",
       "</table>\n",
       "</div>"
      ],
      "text/plain": [
       "     model  Mean_Abs_Error  Mean_Sqrt_Error  Root_Mean_Sqrd_Error\n",
       "0       RF        0.069444         0.029591              0.172021\n",
       "1       DT        0.387172         0.248214              0.498210\n",
       "2  XGboost        0.260498         0.116389              0.341158\n",
       "3       NN        0.399296         0.261623              0.511491"
      ]
     },
     "execution_count": 165,
     "metadata": {},
     "output_type": "execute_result"
    }
   ],
   "source": [
    "pd.DataFrame(data=d)"
   ]
  },
  {
   "cell_type": "code",
   "execution_count": null,
   "metadata": {},
   "outputs": [],
   "source": []
  }
 ],
 "metadata": {
  "kernelspec": {
   "display_name": "Python 3",
   "language": "python",
   "name": "python3"
  },
  "language_info": {
   "codemirror_mode": {
    "name": "ipython",
    "version": 3
   },
   "file_extension": ".py",
   "mimetype": "text/x-python",
   "name": "python",
   "nbconvert_exporter": "python",
   "pygments_lexer": "ipython3",
   "version": "3.7.1"
  }
 },
 "nbformat": 4,
 "nbformat_minor": 2
}
