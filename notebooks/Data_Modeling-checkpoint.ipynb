{
 "cells": [
  {
   "cell_type": "markdown",
   "metadata": {},
   "source": [
    "## Choosing the appropriate machine learning algorithm"
   ]
  },
  {
   "cell_type": "markdown",
   "metadata": {},
   "source": [
    "Choosing the right ML algorithm is half systematic and half case-sensitive. What does that mean? From one prospective, there are few general steps you can save them as a crutch when you select the right ML model! However, from another prospective, your problem/data might be very unique and need to be carefully analyzed in order to select the right ML model!\n"
   ]
  },
  {
   "cell_type": "markdown",
   "metadata": {},
   "source": [
    "So for any machine learning problem, we need to throw these questions to select the right model:\n",
    "\n",
    "1- Is our data labeled or not?\n",
    "\n",
    "Yes ---> Supervised Learning\n",
    " \n",
    "   - Is the output \"Label\" discrete or continuous?\n",
    "  \n",
    "      Discrete ---> Classification\n",
    "   \n",
    "      Continuous ---> Regression \n",
    "      \n",
    "      Anomaly Detection ---> The goal here is to identify data points that are simply unusual (e.x., Fraud Detection problem when we have highly unusual credit card spending patterns)\n",
    "\n",
    "No  ---> Unsupervised Learning\n",
    "   \n",
    "   - Clustring\n",
    "\n",
    "2- Do we need to interact with the environment to optimize the objective function?\n",
    "\n",
    "Yes ---> Reinforcement Learning "
   ]
  },
  {
   "cell_type": "markdown",
   "metadata": {},
   "source": [
    "Now that we have a clear picture about our data, we can answer the previous questions directly: Yes, we have labeled, continuous data ---> Supervised Learning \"Regression\""
   ]
  },
  {
   "cell_type": "markdown",
   "metadata": {},
   "source": [
    "That lead us to a smaller set of ML algorithms where we deal with continuous labeled data: Linear Regression, Bayesian Linear Regression, Decision Forest Regression, Boosted Decision Tree Regression, Fast Forest Quantile Regression, Poisson Regression, Ordinal Regression, and Neural Network Regression.\n",
    "\n"
   ]
  },
  {
   "cell_type": "markdown",
   "metadata": {},
   "source": [
    "Here, we reach the second option, mentioned_above, for the model selection: a case_sensitive task! This requires awareness of many factors that characterizing our problem, mainly : Accuracy, linearity, training time, the number of parameters (e.g., number of iterations, error tolerance,etc), and the number of features.\n",
    "\n",
    "Finally, we need to highlight that \"No free launch\" with machine learning models. We need to figure out what requirement(s) we want to pay more for it!  "
   ]
  },
  {
   "cell_type": "markdown",
   "metadata": {},
   "source": [
    "# Linear Regression"
   ]
  },
  {
   "cell_type": "markdown",
   "metadata": {},
   "source": [
    " Linear regression develops a linear relationship between one or more independent variables (also named predictors or features) and a numeric outcome, or dependent variable."
   ]
  },
  {
   "cell_type": "markdown",
   "metadata": {},
   "source": [
    "Linear regression could be the first refuge for many problems because:\n",
    "\n",
    " - It is simple ---> that makes it more explainable!\n",
    "\n",
    " - Fast to model and is particularly useful when the relationship to be modeled is not extremely complex and if you don't have a lot of data.\n",
    "\n",
    "However,\n",
    "\n",
    " - For non-linear data, polynomial regression can be quite challenging to design, as one must have some information about the structure of the data and relationship between feature variables. As a result, these models are not as good as others when it comes to highly complex data."
   ]
  },
  {
   "cell_type": "markdown",
   "metadata": {},
   "source": [
    "# Bayesian Linear Regression "
   ]
  },
  {
   "cell_type": "markdown",
   "metadata": {},
   "source": [
    "It is a particular version of the linear regression model where the parameters are calculated using the prior information about the parameter combined with the likelihood function! \n",
    "\n",
    "    - With Bayesian Linear Regression, we can incorporate the whole range of inferential solutions, rather than a point estimate and a confidence interval as in classical regression. "
   ]
  },
  {
   "cell_type": "markdown",
   "metadata": {},
   "source": [
    "#  Decision Forest Regression "
   ]
  },
  {
   "cell_type": "markdown",
   "metadata": {},
   "source": [
    "Decision trees are non-parametric models that splits the data in the form of a tree structure! It performs a sequence of simple tests for each data point, forming a binary tree data structure until a leaf node (decision) is reached.\n",
    "\n",
    "    - They are efficient in both computation and memory usage during training and prediction.\n",
    "\n",
    "    - They can represent non-linear decision boundaries.\n",
    "\n",
    "    - They perform integrated feature selection and classification and are resilient in the presence of noisy features.\n"
   ]
  },
  {
   "cell_type": "markdown",
   "metadata": {},
   "source": [
    "# Boosted Decision Tree Regression"
   ]
  },
  {
   "cell_type": "markdown",
   "metadata": {},
   "source": [
    "It simply mix of two classical ML algorithms where boosting is employed to create an ensemble of regression trees!\n",
    " \n",
    " \"Boosting\" means that each tree is dependent on prior trees. The algorithm learns by fitting the residual of the trees that preceded it. Thus, boosting in a decision tree ensemble tends to improve accuracy with some small risk of less coverage."
   ]
  },
  {
   "cell_type": "markdown",
   "metadata": {},
   "source": [
    " Boosting in regression trees tends to improve accuracy with some small risk of less coverage."
   ]
  },
  {
   "cell_type": "markdown",
   "metadata": {},
   "source": [
    "### XGBoost"
   ]
  },
  {
   "cell_type": "markdown",
   "metadata": {},
   "source": [
    "XGBoost is the implementation of the gradient boosted tree algorithms that's commonly used for classification and regression problems. Gradient boosting is a supervised learning algorithm consisting of an ensemble (set) of weaker models (trees), which sums up their estimates to predict a target variable with more accuracy."
   ]
  },
  {
   "cell_type": "markdown",
   "metadata": {},
   "source": [
    "# Fast Forest Quantile Regression"
   ]
  },
  {
   "cell_type": "markdown",
   "metadata": {},
   "source": [
    "Quantile regression is useful if we want to understand more about the distribution of the predicted value, rather than get a single mean prediction value. This method has many applications, including:\n",
    "\n",
    "    - Predicting prices\n",
    "\n",
    "    - Estimating student performance or applying growth charts to assess child development\n",
    "\n",
    "    - Discovering predictive relationships in cases where there is only a weak relationship between variables\n"
   ]
  },
  {
   "cell_type": "markdown",
   "metadata": {},
   "source": [
    "- Regression Trees and Random Forest are generally great at learning complex, highly non-linear relationships.\n",
    "- Very easy to interpret and understand.\n",
    "\n",
    "However,\n",
    "\n",
    "- Prone to major overfitting.\n",
    "- Can be slow and requires more memory with a larger random forest ensembles."
   ]
  },
  {
   "cell_type": "markdown",
   "metadata": {},
   "source": [
    "# K-nearest neighbors (KNN)"
   ]
  },
  {
   "cell_type": "markdown",
   "metadata": {},
   "source": [
    "KNN is a non-parametric method used for both classification and regression problems. The algorithm uses \"feature similarity\" to predict values of any new data points. This means that the new point is assigned a value based on how closely it resembles the points in the training set.\n",
    "\n",
    "  - Simple, very easy to implement and  has one Hyper Parameter!\n",
    "  - Variety of distance criteria to be choose from.\n",
    "  \n",
    " However,\n",
    " \n",
    "  - As dataset grows efficiency or speed of algorithm declines very fast.\n",
    "  - Curse of Dimensionality: KNN works well with small number of input variables but as the numbers of variables grow KNN algorithm struggles to predict the output of new data point."
   ]
  },
  {
   "cell_type": "markdown",
   "metadata": {},
   "source": [
    "# Neural Network Regression"
   ]
  },
  {
   "cell_type": "markdown",
   "metadata": {},
   "source": [
    " Any class of statistical models can be termed a neural network if they use adaptive weights and can approximate non-linear functions of their inputs. Thus neural network regression is suited to problems where a more traditional regression model cannot fit a solution.\n",
    " \n",
    " - very effective at modeling highly complex non-linear relationships.\n",
    " - very flexible in learning almost any kind of feature variable relationships.\n",
    " - The more data we have, the better performance we can achieve.\n",
    " \n",
    " However,\n",
    " \n",
    " - It is known as a black box! As a result of it is complexity, so it is difficult to interpret and understand."
   ]
  },
  {
   "cell_type": "markdown",
   "metadata": {},
   "source": [
    "# Poisson Regression"
   ]
  },
  {
   "cell_type": "markdown",
   "metadata": {},
   "source": [
    "Poisson regression is intended for use in regression models that are used to predict numeric values, typically counts. Therefore, we can use this module to create a regression model only if the values you are trying to predict fit the following conditions:\n",
    "\n",
    "    - The response variable has a Poisson distribution.\n",
    "\n",
    "    - Counts cannot be negative. The method will fail outright if you attempt to use it with negative labels.\n",
    "\n",
    "    - A Poisson distribution is a discrete distribution; therefore, it is not meaningful to use this method with non-whole numbers.\n"
   ]
  },
  {
   "cell_type": "markdown",
   "metadata": {},
   "source": [
    "# Ordinal Regression"
   ]
  },
  {
   "cell_type": "markdown",
   "metadata": {},
   "source": [
    "Ordinal regression is used when the label or target column contains numbers, but the numbers represent a ranking or order rather than a numeric measurement."
   ]
  },
  {
   "cell_type": "markdown",
   "metadata": {},
   "source": [
    "# Conclusion"
   ]
  },
  {
   "cell_type": "markdown",
   "metadata": {},
   "source": [
    "So based on the following factors:\n",
    "\n",
    "1- The nature of our problem and the target variable (rental price),\n",
    "\n",
    "2- From the previous analysis of the usage of different ML techniques for a regression problem,\n",
    "\n",
    "3- And from the nature of our data set \n",
    "\n",
    "Those techniques have been selected to be applied on our data in order to predict the rental price: XGBoost, KNN, and NN!"
   ]
  }
 ],
 "metadata": {
  "kernelspec": {
   "display_name": "Python 3",
   "language": "python",
   "name": "python3"
  },
  "language_info": {
   "codemirror_mode": {
    "name": "ipython",
    "version": 3
   },
   "file_extension": ".py",
   "mimetype": "text/x-python",
   "name": "python",
   "nbconvert_exporter": "python",
   "pygments_lexer": "ipython3",
   "version": "3.7.1"
  }
 },
 "nbformat": 4,
 "nbformat_minor": 2
}
