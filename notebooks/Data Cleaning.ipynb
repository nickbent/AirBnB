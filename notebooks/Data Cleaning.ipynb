{
 "cells": [
  {
   "cell_type": "code",
   "execution_count": null,
   "metadata": {},
   "outputs": [],
   "source": []
  },
  {
   "cell_type": "code",
   "execution_count": 1,
   "metadata": {},
   "outputs": [],
   "source": [
    "# Standard data science libraries\n",
    "import pandas as pd\n",
    "import numpy as np\n",
    "from pathlib import Path\n",
    "from sklearn.preprocessing import MultiLabelBinarizer\n",
    "from dateutil import parser\n",
    "\n",
    "import warnings\n",
    "warnings.filterwarnings('ignore')"
   ]
  },
  {
   "cell_type": "code",
   "execution_count": 2,
   "metadata": {},
   "outputs": [],
   "source": [
    "from bnb.data_processing.read import read_csvfile\n",
    "from bnb.data_processing.clean import price_format\n",
    "from bnb.data_processing.clean import bathrooms_int\n",
    "from bnb.data_processing.clean import shared_bathroom\n",
    "from bnb.data_processing.clean import super_host\n",
    "from bnb.data_processing.clean import beds_int\n",
    "from bnb.data_processing.clean import bedrooms_int\n",
    "from bnb.data_processing.clean import bedrooms_int_final\n",
    "from bnb.data_processing.clean import num_of_stars\n",
    "from bnb.data_processing.clean import reviews_num\n",
    "from bnb.data_processing.clean import entire_shared_private_room\n",
    "from bnb.data_processing.clean import bed_type\n",
    "from bnb.data_processing.clean import amenities_to_vars\n",
    "from bnb.data_processing.clean import encode_amenities\n",
    "from bnb.data_processing.clean import one_hot_encode_bedtype\n",
    "from bnb.data_processing.clean import amenities_to_vars2\n",
    "from bnb.data_processing.clean import week_of_year"
   ]
  },
  {
   "cell_type": "markdown",
   "metadata": {},
   "source": [
    "## Reading Data"
   ]
  },
  {
   "cell_type": "code",
   "execution_count": 3,
   "metadata": {},
   "outputs": [
    {
     "data": {
      "text/plain": [
       "WindowsPath('C:/Users/KBrig/AirBnB/data')"
      ]
     },
     "execution_count": 3,
     "metadata": {},
     "output_type": "execute_result"
    }
   ],
   "source": [
    "Data_dir = Path('C:/Users/KBrig/AirBnB/data')\n",
    "Data_dir"
   ]
  },
  {
   "cell_type": "code",
   "execution_count": 4,
   "metadata": {},
   "outputs": [],
   "source": [
    "NewYork_CSV = Data_dir/'AirBnBNY.csv'\n",
    "Bangkok_CSV = Data_dir/'AirBnbDataBangkok.csv'\n",
    "Cairo_CSV = Data_dir/'AirBnbDataCairo.csv'"
   ]
  },
  {
   "cell_type": "markdown",
   "metadata": {},
   "source": [
    "## NewYork"
   ]
  },
  {
   "cell_type": "code",
   "execution_count": 5,
   "metadata": {
    "scrolled": true
   },
   "outputs": [
    {
     "data": {
      "text/html": [
       "<div>\n",
       "<style scoped>\n",
       "    .dataframe tbody tr th:only-of-type {\n",
       "        vertical-align: middle;\n",
       "    }\n",
       "\n",
       "    .dataframe tbody tr th {\n",
       "        vertical-align: top;\n",
       "    }\n",
       "\n",
       "    .dataframe thead th {\n",
       "        text-align: right;\n",
       "    }\n",
       "</style>\n",
       "<table border=\"1\" class=\"dataframe\">\n",
       "  <thead>\n",
       "    <tr style=\"text-align: right;\">\n",
       "      <th></th>\n",
       "      <th>Unnamed: 0</th>\n",
       "      <th>Accuracy_stars</th>\n",
       "      <th>Amenities</th>\n",
       "      <th>Bathrooms_num</th>\n",
       "      <th>Bedrooms_no</th>\n",
       "      <th>Beds_no</th>\n",
       "      <th>CheckIn</th>\n",
       "      <th>CheckIn_stars</th>\n",
       "      <th>CheckOut</th>\n",
       "      <th>Cleanliness_stars</th>\n",
       "      <th>...</th>\n",
       "      <th>Latitude</th>\n",
       "      <th>Location_stars</th>\n",
       "      <th>Longitude</th>\n",
       "      <th>Price</th>\n",
       "      <th>Review</th>\n",
       "      <th>Reviewers_no</th>\n",
       "      <th>Sleeping_engagment</th>\n",
       "      <th>Super_host</th>\n",
       "      <th>Title</th>\n",
       "      <th>Value_stars</th>\n",
       "    </tr>\n",
       "  </thead>\n",
       "  <tbody>\n",
       "    <tr>\n",
       "      <th>0</th>\n",
       "      <td>0</td>\n",
       "      <td>Rating 5 out of 5</td>\n",
       "      <td>['Indoor fireplace', 'Wifi', 'Iron', 'Laptop f...</td>\n",
       "      <td>1 bath</td>\n",
       "      <td>1 bedroom</td>\n",
       "      <td>1 bed</td>\n",
       "      <td>2019-03-21 00:00:00</td>\n",
       "      <td>Rating 5 out of 5</td>\n",
       "      <td>2019-03-26 00:00:00</td>\n",
       "      <td>Rating 5 out of 5</td>\n",
       "      <td>...</td>\n",
       "      <td>40.73321</td>\n",
       "      <td>Rating 5 out of 5</td>\n",
       "      <td>-74.00242</td>\n",
       "      <td>$244</td>\n",
       "      <td>87 Reviews\\nAccuracy\\nCommunication\\nCleanline...</td>\n",
       "      <td>NaN</td>\n",
       "      <td>Bedroom 1\\n1 queen bed</td>\n",
       "      <td>Brian is a Superhost ·</td>\n",
       "      <td>*Luxury 1 Bedrm Private Designer Home &amp; Roofdeck*</td>\n",
       "      <td>Rating 4.5 out of 5</td>\n",
       "    </tr>\n",
       "    <tr>\n",
       "      <th>1</th>\n",
       "      <td>1</td>\n",
       "      <td>Rating 4.5 out of 5</td>\n",
       "      <td>['Indoor fireplace', 'Wifi', 'Laptop friendly ...</td>\n",
       "      <td>1 shared bath</td>\n",
       "      <td>1 bedroom</td>\n",
       "      <td>1 bed</td>\n",
       "      <td>2019-03-21 00:00:00</td>\n",
       "      <td>Rating 4.5 out of 5</td>\n",
       "      <td>2019-03-26 00:00:00</td>\n",
       "      <td>Rating 4 out of 5</td>\n",
       "      <td>...</td>\n",
       "      <td>40.76580</td>\n",
       "      <td>Rating 5 out of 5</td>\n",
       "      <td>-73.95812</td>\n",
       "      <td>$62</td>\n",
       "      <td>5 Reviews\\nAccuracy\\nCommunication\\nCleanlines...</td>\n",
       "      <td>NaN</td>\n",
       "      <td>Bedroom 1\\n1 single bed</td>\n",
       "      <td>Samet is a Superhost</td>\n",
       "      <td>Single Bedroom-Upper East Side-Central Park</td>\n",
       "      <td>Rating 4 out of 5</td>\n",
       "    </tr>\n",
       "    <tr>\n",
       "      <th>2</th>\n",
       "      <td>2</td>\n",
       "      <td>Rating 5 out of 5</td>\n",
       "      <td>['Wifi', 'Essentials', 'Heating', 'Air conditi...</td>\n",
       "      <td>1 shared bath</td>\n",
       "      <td>1 bedroom</td>\n",
       "      <td>1 bed</td>\n",
       "      <td>2019-03-21 00:00:00</td>\n",
       "      <td>Rating 5 out of 5</td>\n",
       "      <td>2019-03-26 00:00:00</td>\n",
       "      <td>Rating 5 out of 5</td>\n",
       "      <td>...</td>\n",
       "      <td>40.75972</td>\n",
       "      <td>Rating 4.5 out of 5</td>\n",
       "      <td>-74.03827</td>\n",
       "      <td>$44</td>\n",
       "      <td>83 Reviews\\nAccuracy\\nCommunication\\nCleanline...</td>\n",
       "      <td>NaN</td>\n",
       "      <td>Bedroom 1\\n1 queen bed</td>\n",
       "      <td>Rebecca is a Superhost</td>\n",
       "      <td>Quiet room for sleeping - 15 min from Times Sq...</td>\n",
       "      <td>Rating 5 out of 5</td>\n",
       "    </tr>\n",
       "  </tbody>\n",
       "</table>\n",
       "<p>3 rows × 23 columns</p>\n",
       "</div>"
      ],
      "text/plain": [
       "   Unnamed: 0       Accuracy_stars  \\\n",
       "0           0    Rating 5 out of 5   \n",
       "1           1  Rating 4.5 out of 5   \n",
       "2           2    Rating 5 out of 5   \n",
       "\n",
       "                                           Amenities  Bathrooms_num  \\\n",
       "0  ['Indoor fireplace', 'Wifi', 'Iron', 'Laptop f...         1 bath   \n",
       "1  ['Indoor fireplace', 'Wifi', 'Laptop friendly ...  1 shared bath   \n",
       "2  ['Wifi', 'Essentials', 'Heating', 'Air conditi...  1 shared bath   \n",
       "\n",
       "  Bedrooms_no Beds_no              CheckIn        CheckIn_stars  \\\n",
       "0   1 bedroom   1 bed  2019-03-21 00:00:00    Rating 5 out of 5   \n",
       "1   1 bedroom   1 bed  2019-03-21 00:00:00  Rating 4.5 out of 5   \n",
       "2   1 bedroom   1 bed  2019-03-21 00:00:00    Rating 5 out of 5   \n",
       "\n",
       "              CheckOut  Cleanliness_stars         ...           Latitude  \\\n",
       "0  2019-03-26 00:00:00  Rating 5 out of 5         ...           40.73321   \n",
       "1  2019-03-26 00:00:00  Rating 4 out of 5         ...           40.76580   \n",
       "2  2019-03-26 00:00:00  Rating 5 out of 5         ...           40.75972   \n",
       "\n",
       "        Location_stars  Longitude  Price  \\\n",
       "0    Rating 5 out of 5  -74.00242   $244   \n",
       "1    Rating 5 out of 5  -73.95812    $62   \n",
       "2  Rating 4.5 out of 5  -74.03827    $44   \n",
       "\n",
       "                                              Review  Reviewers_no  \\\n",
       "0  87 Reviews\\nAccuracy\\nCommunication\\nCleanline...           NaN   \n",
       "1  5 Reviews\\nAccuracy\\nCommunication\\nCleanlines...           NaN   \n",
       "2  83 Reviews\\nAccuracy\\nCommunication\\nCleanline...           NaN   \n",
       "\n",
       "        Sleeping_engagment              Super_host  \\\n",
       "0   Bedroom 1\\n1 queen bed  Brian is a Superhost ·   \n",
       "1  Bedroom 1\\n1 single bed    Samet is a Superhost   \n",
       "2   Bedroom 1\\n1 queen bed  Rebecca is a Superhost   \n",
       "\n",
       "                                               Title          Value_stars  \n",
       "0  *Luxury 1 Bedrm Private Designer Home & Roofdeck*  Rating 4.5 out of 5  \n",
       "1        Single Bedroom-Upper East Side-Central Park    Rating 4 out of 5  \n",
       "2  Quiet room for sleeping - 15 min from Times Sq...    Rating 5 out of 5  \n",
       "\n",
       "[3 rows x 23 columns]"
      ]
     },
     "execution_count": 5,
     "metadata": {},
     "output_type": "execute_result"
    }
   ],
   "source": [
    "NewYorkData = read_csvfile(NewYork_CSV)\n",
    "NewYorkData.head(3)\n"
   ]
  },
  {
   "cell_type": "markdown",
   "metadata": {},
   "source": [
    "## Bangkok"
   ]
  },
  {
   "cell_type": "code",
   "execution_count": 6,
   "metadata": {},
   "outputs": [
    {
     "data": {
      "text/html": [
       "<div>\n",
       "<style scoped>\n",
       "    .dataframe tbody tr th:only-of-type {\n",
       "        vertical-align: middle;\n",
       "    }\n",
       "\n",
       "    .dataframe tbody tr th {\n",
       "        vertical-align: top;\n",
       "    }\n",
       "\n",
       "    .dataframe thead th {\n",
       "        text-align: right;\n",
       "    }\n",
       "</style>\n",
       "<table border=\"1\" class=\"dataframe\">\n",
       "  <thead>\n",
       "    <tr style=\"text-align: right;\">\n",
       "      <th></th>\n",
       "      <th>CheckIn</th>\n",
       "      <th>CheckOut</th>\n",
       "      <th>Has_Weekend</th>\n",
       "      <th>Title</th>\n",
       "      <th>Price</th>\n",
       "      <th>Super_host</th>\n",
       "      <th>Latitude</th>\n",
       "      <th>Longitude</th>\n",
       "      <th>EntireHomeVsRoom</th>\n",
       "      <th>Bedrooms_no</th>\n",
       "      <th>...</th>\n",
       "      <th>Sleeping_engagment</th>\n",
       "      <th>Amenities</th>\n",
       "      <th>Accuracy_stars</th>\n",
       "      <th>Communication_stars</th>\n",
       "      <th>Cleanliness_stars</th>\n",
       "      <th>Location_stars</th>\n",
       "      <th>CheckIn_stars</th>\n",
       "      <th>Value_stars</th>\n",
       "      <th>Reviewers_no</th>\n",
       "      <th>Review</th>\n",
       "    </tr>\n",
       "  </thead>\n",
       "  <tbody>\n",
       "    <tr>\n",
       "      <th>0</th>\n",
       "      <td>2019-03-12 0:00</td>\n",
       "      <td>2019-03-17 0:00</td>\n",
       "      <td>True</td>\n",
       "      <td>Cosy room with 3 mins walk from MRT</td>\n",
       "      <td>$34</td>\n",
       "      <td>Thongjuta is a Superhost</td>\n",
       "      <td>13.78165</td>\n",
       "      <td>100.57453</td>\n",
       "      <td>ENTIRE APARTMENT</td>\n",
       "      <td>1 bedroom</td>\n",
       "      <td>...</td>\n",
       "      <td>Bedroom 1\\n1 queen bed</td>\n",
       "      <td>['Wifi', 'Iron', 'Cable TV', 'Laptop friendly ...</td>\n",
       "      <td>Rating 5 out of 5</td>\n",
       "      <td>Rating 5 out of 5</td>\n",
       "      <td>Rating 4.5 out of 5</td>\n",
       "      <td>Rating 5 out of 5</td>\n",
       "      <td>Rating 5 out of 5</td>\n",
       "      <td>Rating 5 out of 5</td>\n",
       "      <td>NaN</td>\n",
       "      <td>101 Reviews\\nAccuracy\\nCommunication\\nCleanlin...</td>\n",
       "    </tr>\n",
       "    <tr>\n",
       "      <th>1</th>\n",
       "      <td>2019-03-12 0:00</td>\n",
       "      <td>2019-03-17 0:00</td>\n",
       "      <td>True</td>\n",
       "      <td>曼谷市区BTS旁品质公寓</td>\n",
       "      <td>$48</td>\n",
       "      <td>NaN</td>\n",
       "      <td>13.69750</td>\n",
       "      <td>100.60708</td>\n",
       "      <td>ENTIRE APARTMENT</td>\n",
       "      <td>1 bedroom</td>\n",
       "      <td>...</td>\n",
       "      <td>Bedroom 1\\n1 double bed</td>\n",
       "      <td>['Wifi', 'Indoor fireplace', 'Heating', 'Iron'...</td>\n",
       "      <td>NaN</td>\n",
       "      <td>NaN</td>\n",
       "      <td>NaN</td>\n",
       "      <td>NaN</td>\n",
       "      <td>NaN</td>\n",
       "      <td>NaN</td>\n",
       "      <td>NaN</td>\n",
       "      <td>No reviews (yet)\\nBe one of the first guests t...</td>\n",
       "    </tr>\n",
       "    <tr>\n",
       "      <th>2</th>\n",
       "      <td>2019-03-12 0:00</td>\n",
       "      <td>2019-03-17 0:00</td>\n",
       "      <td>True</td>\n",
       "      <td>Modern apartment close to city near sky train(...</td>\n",
       "      <td>$27</td>\n",
       "      <td>Kiek is a Superhost</td>\n",
       "      <td>13.71252</td>\n",
       "      <td>100.46783</td>\n",
       "      <td>ENTIRE CONDOMINIUM</td>\n",
       "      <td>1 bedroom</td>\n",
       "      <td>...</td>\n",
       "      <td>Bedroom 1\\n1 queen bed</td>\n",
       "      <td>['Wifi', 'Heating', 'Laptop friendly workspace...</td>\n",
       "      <td>Rating 5 out of 5</td>\n",
       "      <td>Rating 5 out of 5</td>\n",
       "      <td>Rating 5 out of 5</td>\n",
       "      <td>Rating 4 out of 5</td>\n",
       "      <td>Rating 5 out of 5</td>\n",
       "      <td>Rating 4.5 out of 5</td>\n",
       "      <td>NaN</td>\n",
       "      <td>4 Reviews\\nAccuracy\\nCommunication\\nCleanlines...</td>\n",
       "    </tr>\n",
       "  </tbody>\n",
       "</table>\n",
       "<p>3 rows × 22 columns</p>\n",
       "</div>"
      ],
      "text/plain": [
       "           CheckIn         CheckOut  Has_Weekend  \\\n",
       "0  2019-03-12 0:00  2019-03-17 0:00         True   \n",
       "1  2019-03-12 0:00  2019-03-17 0:00         True   \n",
       "2  2019-03-12 0:00  2019-03-17 0:00         True   \n",
       "\n",
       "                                               Title Price  \\\n",
       "0                Cosy room with 3 mins walk from MRT   $34   \n",
       "1                                       曼谷市区BTS旁品质公寓   $48   \n",
       "2  Modern apartment close to city near sky train(...   $27   \n",
       "\n",
       "                 Super_host  Latitude  Longitude    EntireHomeVsRoom  \\\n",
       "0  Thongjuta is a Superhost  13.78165  100.57453    ENTIRE APARTMENT   \n",
       "1                       NaN  13.69750  100.60708    ENTIRE APARTMENT   \n",
       "2       Kiek is a Superhost  13.71252  100.46783  ENTIRE CONDOMINIUM   \n",
       "\n",
       "  Bedrooms_no                        ...                          \\\n",
       "0   1 bedroom                        ...                           \n",
       "1   1 bedroom                        ...                           \n",
       "2   1 bedroom                        ...                           \n",
       "\n",
       "        Sleeping_engagment                                          Amenities  \\\n",
       "0   Bedroom 1\\n1 queen bed  ['Wifi', 'Iron', 'Cable TV', 'Laptop friendly ...   \n",
       "1  Bedroom 1\\n1 double bed  ['Wifi', 'Indoor fireplace', 'Heating', 'Iron'...   \n",
       "2   Bedroom 1\\n1 queen bed  ['Wifi', 'Heating', 'Laptop friendly workspace...   \n",
       "\n",
       "      Accuracy_stars Communication_stars    Cleanliness_stars  \\\n",
       "0  Rating 5 out of 5   Rating 5 out of 5  Rating 4.5 out of 5   \n",
       "1                NaN                 NaN                  NaN   \n",
       "2  Rating 5 out of 5   Rating 5 out of 5    Rating 5 out of 5   \n",
       "\n",
       "      Location_stars      CheckIn_stars          Value_stars Reviewers_no  \\\n",
       "0  Rating 5 out of 5  Rating 5 out of 5    Rating 5 out of 5          NaN   \n",
       "1                NaN                NaN                  NaN          NaN   \n",
       "2  Rating 4 out of 5  Rating 5 out of 5  Rating 4.5 out of 5          NaN   \n",
       "\n",
       "                                              Review  \n",
       "0  101 Reviews\\nAccuracy\\nCommunication\\nCleanlin...  \n",
       "1  No reviews (yet)\\nBe one of the first guests t...  \n",
       "2  4 Reviews\\nAccuracy\\nCommunication\\nCleanlines...  \n",
       "\n",
       "[3 rows x 22 columns]"
      ]
     },
     "execution_count": 6,
     "metadata": {},
     "output_type": "execute_result"
    }
   ],
   "source": [
    "BangkokData = read_csvfile(Bangkok_CSV)\n",
    "BangkokData.head(3)"
   ]
  },
  {
   "cell_type": "markdown",
   "metadata": {},
   "source": [
    "## Cairo"
   ]
  },
  {
   "cell_type": "code",
   "execution_count": 7,
   "metadata": {},
   "outputs": [
    {
     "data": {
      "text/html": [
       "<div>\n",
       "<style scoped>\n",
       "    .dataframe tbody tr th:only-of-type {\n",
       "        vertical-align: middle;\n",
       "    }\n",
       "\n",
       "    .dataframe tbody tr th {\n",
       "        vertical-align: top;\n",
       "    }\n",
       "\n",
       "    .dataframe thead th {\n",
       "        text-align: right;\n",
       "    }\n",
       "</style>\n",
       "<table border=\"1\" class=\"dataframe\">\n",
       "  <thead>\n",
       "    <tr style=\"text-align: right;\">\n",
       "      <th></th>\n",
       "      <th>CheckIn</th>\n",
       "      <th>CheckOut</th>\n",
       "      <th>Has_Weekend</th>\n",
       "      <th>Title</th>\n",
       "      <th>Price</th>\n",
       "      <th>Super_host</th>\n",
       "      <th>Latitude</th>\n",
       "      <th>Longitude</th>\n",
       "      <th>EntireHomeVsRoom</th>\n",
       "      <th>Bedrooms_no</th>\n",
       "      <th>...</th>\n",
       "      <th>Sleeping_engagment</th>\n",
       "      <th>Amenities</th>\n",
       "      <th>Accuracy_stars</th>\n",
       "      <th>Communication_stars</th>\n",
       "      <th>Cleanliness_stars</th>\n",
       "      <th>Location_stars</th>\n",
       "      <th>CheckIn_stars</th>\n",
       "      <th>Value_stars</th>\n",
       "      <th>Reviewers_no</th>\n",
       "      <th>Review</th>\n",
       "    </tr>\n",
       "  </thead>\n",
       "  <tbody>\n",
       "    <tr>\n",
       "      <th>0</th>\n",
       "      <td>2019-03-14 0:00</td>\n",
       "      <td>2019-03-19 0:00</td>\n",
       "      <td>True</td>\n",
       "      <td>Dad Haus!x</td>\n",
       "      <td>$15</td>\n",
       "      <td>NaN</td>\n",
       "      <td>29.95961</td>\n",
       "      <td>31.25858</td>\n",
       "      <td>Private room in apartment</td>\n",
       "      <td>1 bedroom</td>\n",
       "      <td>...</td>\n",
       "      <td>Bedroom 1\\n2 queen beds</td>\n",
       "      <td>['Wifi', 'Indoor fireplace', 'Dryer', 'Laptop ...</td>\n",
       "      <td>NaN</td>\n",
       "      <td>NaN</td>\n",
       "      <td>NaN</td>\n",
       "      <td>NaN</td>\n",
       "      <td>NaN</td>\n",
       "      <td>NaN</td>\n",
       "      <td>NaN</td>\n",
       "      <td>No reviews (yet)\\nBe one of the first guests t...</td>\n",
       "    </tr>\n",
       "    <tr>\n",
       "      <th>1</th>\n",
       "      <td>2019-03-14 0:00</td>\n",
       "      <td>2019-03-19 0:00</td>\n",
       "      <td>True</td>\n",
       "      <td>Apartment in Rehab City, Cairo.</td>\n",
       "      <td>$12</td>\n",
       "      <td>NaN</td>\n",
       "      <td>30.05760</td>\n",
       "      <td>31.48779</td>\n",
       "      <td>Entire apartment</td>\n",
       "      <td>1 bedroom</td>\n",
       "      <td>...</td>\n",
       "      <td>Bedroom 1\\n1 queen bed</td>\n",
       "      <td>['Wifi', 'Laptop friendly workspace', 'Washer'...</td>\n",
       "      <td>NaN</td>\n",
       "      <td>NaN</td>\n",
       "      <td>NaN</td>\n",
       "      <td>NaN</td>\n",
       "      <td>NaN</td>\n",
       "      <td>NaN</td>\n",
       "      <td>NaN</td>\n",
       "      <td>No reviews (yet)\\nThis host has 11 reviews for...</td>\n",
       "    </tr>\n",
       "    <tr>\n",
       "      <th>2</th>\n",
       "      <td>2019-03-14 0:00</td>\n",
       "      <td>2019-03-19 0:00</td>\n",
       "      <td>True</td>\n",
       "      <td>Sunny and friendly apartment close to the airport</td>\n",
       "      <td>$22</td>\n",
       "      <td>NaN</td>\n",
       "      <td>30.06085</td>\n",
       "      <td>31.49540</td>\n",
       "      <td>Private room in apartment</td>\n",
       "      <td>1 bedroom</td>\n",
       "      <td>...</td>\n",
       "      <td>NaN</td>\n",
       "      <td>['Wifi', 'Indoor fireplace', 'Cable TV', 'Lapt...</td>\n",
       "      <td>Rating 4 out of 5</td>\n",
       "      <td>Rating 5 out of 5</td>\n",
       "      <td>Rating 3.5 out of 5</td>\n",
       "      <td>Rating 4.5 out of 5</td>\n",
       "      <td>Rating 5 out of 5</td>\n",
       "      <td>Rating 4 out of 5</td>\n",
       "      <td>NaN</td>\n",
       "      <td>6 Reviews\\nAccuracy\\nCommunication\\nCleanlines...</td>\n",
       "    </tr>\n",
       "  </tbody>\n",
       "</table>\n",
       "<p>3 rows × 22 columns</p>\n",
       "</div>"
      ],
      "text/plain": [
       "           CheckIn         CheckOut  Has_Weekend  \\\n",
       "0  2019-03-14 0:00  2019-03-19 0:00         True   \n",
       "1  2019-03-14 0:00  2019-03-19 0:00         True   \n",
       "2  2019-03-14 0:00  2019-03-19 0:00         True   \n",
       "\n",
       "                                               Title Price Super_host  \\\n",
       "0                                         Dad Haus!x   $15        NaN   \n",
       "1                    Apartment in Rehab City, Cairo.   $12        NaN   \n",
       "2  Sunny and friendly apartment close to the airport   $22        NaN   \n",
       "\n",
       "   Latitude  Longitude           EntireHomeVsRoom Bedrooms_no  \\\n",
       "0  29.95961   31.25858  Private room in apartment   1 bedroom   \n",
       "1  30.05760   31.48779           Entire apartment   1 bedroom   \n",
       "2  30.06085   31.49540  Private room in apartment   1 bedroom   \n",
       "\n",
       "                         ...                               Sleeping_engagment  \\\n",
       "0                        ...                          Bedroom 1\\n2 queen beds   \n",
       "1                        ...                           Bedroom 1\\n1 queen bed   \n",
       "2                        ...                                              NaN   \n",
       "\n",
       "                                           Amenities     Accuracy_stars  \\\n",
       "0  ['Wifi', 'Indoor fireplace', 'Dryer', 'Laptop ...                NaN   \n",
       "1  ['Wifi', 'Laptop friendly workspace', 'Washer'...                NaN   \n",
       "2  ['Wifi', 'Indoor fireplace', 'Cable TV', 'Lapt...  Rating 4 out of 5   \n",
       "\n",
       "  Communication_stars    Cleanliness_stars       Location_stars  \\\n",
       "0                 NaN                  NaN                  NaN   \n",
       "1                 NaN                  NaN                  NaN   \n",
       "2   Rating 5 out of 5  Rating 3.5 out of 5  Rating 4.5 out of 5   \n",
       "\n",
       "       CheckIn_stars        Value_stars Reviewers_no  \\\n",
       "0                NaN                NaN          NaN   \n",
       "1                NaN                NaN          NaN   \n",
       "2  Rating 5 out of 5  Rating 4 out of 5          NaN   \n",
       "\n",
       "                                              Review  \n",
       "0  No reviews (yet)\\nBe one of the first guests t...  \n",
       "1  No reviews (yet)\\nThis host has 11 reviews for...  \n",
       "2  6 Reviews\\nAccuracy\\nCommunication\\nCleanlines...  \n",
       "\n",
       "[3 rows x 22 columns]"
      ]
     },
     "execution_count": 7,
     "metadata": {},
     "output_type": "execute_result"
    }
   ],
   "source": [
    "CairoData = read_csvfile(Cairo_CSV)\n",
    "CairoData.head(3)"
   ]
  },
  {
   "cell_type": "markdown",
   "metadata": {},
   "source": [
    "## Data Preprocessing"
   ]
  },
  {
   "cell_type": "markdown",
   "metadata": {},
   "source": [
    "## NewYork"
   ]
  },
  {
   "cell_type": "code",
   "execution_count": 8,
   "metadata": {},
   "outputs": [
    {
     "data": {
      "text/plain": [
       "(3957, 23)"
      ]
     },
     "execution_count": 8,
     "metadata": {},
     "output_type": "execute_result"
    }
   ],
   "source": [
    "NewYorkData.shape"
   ]
  },
  {
   "cell_type": "code",
   "execution_count": 9,
   "metadata": {},
   "outputs": [
    {
     "name": "stdout",
     "output_type": "stream",
     "text": [
      "<class 'pandas.core.frame.DataFrame'>\n",
      "RangeIndex: 3957 entries, 0 to 3956\n",
      "Data columns (total 23 columns):\n",
      "Unnamed: 0             3957 non-null int64\n",
      "Accuracy_stars         3614 non-null object\n",
      "Amenities              3957 non-null object\n",
      "Bathrooms_num          3922 non-null object\n",
      "Bedrooms_no            3348 non-null object\n",
      "Beds_no                3895 non-null object\n",
      "CheckIn                3957 non-null object\n",
      "CheckIn_stars          3614 non-null object\n",
      "CheckOut               3957 non-null object\n",
      "Cleanliness_stars      3614 non-null object\n",
      "Communication_stars    3614 non-null object\n",
      "EntireHomeVsRoom       3957 non-null object\n",
      "Has_Weekend            3957 non-null bool\n",
      "Latitude               3957 non-null float64\n",
      "Location_stars         3614 non-null object\n",
      "Longitude              3957 non-null float64\n",
      "Price                  3917 non-null object\n",
      "Review                 3956 non-null object\n",
      "Reviewers_no           0 non-null float64\n",
      "Sleeping_engagment     3158 non-null object\n",
      "Super_host             1947 non-null object\n",
      "Title                  3957 non-null object\n",
      "Value_stars            3614 non-null object\n",
      "dtypes: bool(1), float64(3), int64(1), object(18)\n",
      "memory usage: 684.1+ KB\n"
     ]
    }
   ],
   "source": [
    "NewYorkData.info()"
   ]
  },
  {
   "cell_type": "markdown",
   "metadata": {},
   "source": [
    "We have a total of 23 features as shown above: 1 boolean (Has_Weekend), 3 numeric, float64(Latitude, Longitude, Reviewers_num), and the rest are saved as data objects. Let's go through them!! \n",
    "\n"
   ]
  },
  {
   "cell_type": "markdown",
   "metadata": {},
   "source": [
    "So, we need to keep ONLY features that can add information to our analysis. Predictors with many null values can be considered redundant and ignore tham."
   ]
  },
  {
   "cell_type": "markdown",
   "metadata": {},
   "source": [
    "### Missing Data"
   ]
  },
  {
   "cell_type": "code",
   "execution_count": 10,
   "metadata": {},
   "outputs": [
    {
     "data": {
      "text/plain": [
       "Unnamed: 0                0\n",
       "Accuracy_stars          343\n",
       "Amenities                 0\n",
       "Bathrooms_num            35\n",
       "Bedrooms_no             609\n",
       "Beds_no                  62\n",
       "CheckIn                   0\n",
       "CheckIn_stars           343\n",
       "CheckOut                  0\n",
       "Cleanliness_stars       343\n",
       "Communication_stars     343\n",
       "EntireHomeVsRoom          0\n",
       "Has_Weekend               0\n",
       "Latitude                  0\n",
       "Location_stars          343\n",
       "Longitude                 0\n",
       "Price                    40\n",
       "Review                    1\n",
       "Reviewers_no           3957\n",
       "Sleeping_engagment      799\n",
       "Super_host             2010\n",
       "Title                     0\n",
       "Value_stars             343\n",
       "dtype: int64"
      ]
     },
     "execution_count": 10,
     "metadata": {},
     "output_type": "execute_result"
    }
   ],
   "source": [
    "NewYorkData.isnull().sum()"
   ]
  },
  {
   "cell_type": "code",
   "execution_count": 11,
   "metadata": {},
   "outputs": [
    {
     "data": {
      "text/plain": [
       "['Reviewers_no', 'Super_host']"
      ]
     },
     "execution_count": 11,
     "metadata": {},
     "output_type": "execute_result"
    }
   ],
   "source": [
    "## Features with large number of missing data\n",
    "[column for column in NewYorkData.columns if NewYorkData[column].count() / len(NewYorkData) <= 0.7]"
   ]
  },
  {
   "cell_type": "markdown",
   "metadata": {},
   "source": [
    "So \"Super_host\" can have two possible values: Yes/True or No/False. Samples with null values are actually representing non super_host. On the other hand, having 3957 of null values for the Reviews_no says that there is something wrong with collecting data for this variable. So, it is better to exclude it.\n",
    "\n",
    "Also, for the reviews' features, we see that we have the same number of null values for the Accuracy,CheckIn,Cleanliness,Communication, Location and Value Stars. This make sense since this number points to the homes with \"no reviews yet\".  We are going to have this invistigation for all features!"
   ]
  },
  {
   "cell_type": "markdown",
   "metadata": {},
   "source": [
    "Let's classify the features: numeric, catogerical,etc.\n"
   ]
  },
  {
   "cell_type": "markdown",
   "metadata": {},
   "source": [
    "So we have 23 variables six of them are categorical variables reflecting the clients' satisfaction in different aspects: 'Accuracy_stars','CheckIn_stars','Cleanliness_stars','Communication_stars','Location_stars','Value_stars'.\n",
    "\n",
    "Other categorical variables such as 'EntireHomeVsRoom','Has_Weekend', and 'Sleeping_engagment'.\n",
    "\n",
    "We also have dates: 'CheckIn','CheckOut'.\n",
    "\n",
    "We have three numeric features: 'Price','Bathrooms_num', 'Bedrooms_no', 'Beds_no', 'Latitude','Longitude'.\n",
    "\n",
    "rest:'Amenities', 'Review', 'Title', and 'Super_host'\n"
   ]
  },
  {
   "cell_type": "markdown",
   "metadata": {},
   "source": [
    "Let's tidy up!\n"
   ]
  },
  {
   "cell_type": "code",
   "execution_count": 17,
   "metadata": {},
   "outputs": [],
   "source": [
    "NewYorkData.drop(['Unnamed: 0','Reviewers_no'],axis=1, inplace=True)"
   ]
  },
  {
   "cell_type": "code",
   "execution_count": 50,
   "metadata": {},
   "outputs": [],
   "source": [
    "#bin_showings = [len([num for num in num_times_posted  if num == bin]) for bin in range(20)]"
   ]
  },
  {
   "cell_type": "code",
   "execution_count": 129,
   "metadata": {},
   "outputs": [],
   "source": [
    "#bin_showings"
   ]
  },
  {
   "cell_type": "markdown",
   "metadata": {},
   "source": [
    "### Does it have a weekend?"
   ]
  },
  {
   "cell_type": "markdown",
   "metadata": {},
   "source": [
    "We have originally one boolean variable \"Has_Weekend\". Let's check its levels!"
   ]
  },
  {
   "cell_type": "code",
   "execution_count": 16,
   "metadata": {},
   "outputs": [
    {
     "data": {
      "text/plain": [
       "array([ True])"
      ]
     },
     "execution_count": 16,
     "metadata": {},
     "output_type": "execute_result"
    }
   ],
   "source": [
    "NewYorkData['Has_Weekend'].unique()"
   ]
  },
  {
   "cell_type": "markdown",
   "metadata": {},
   "source": [
    "So \"Has_Weekend\" doesn't say more than every time_period is a mix of weekdays and weekends. Thus, we can ignore it!"
   ]
  },
  {
   "cell_type": "code",
   "execution_count": 17,
   "metadata": {},
   "outputs": [],
   "source": [
    "NewYorkData.drop('Has_Weekend',axis=1, inplace=True)"
   ]
  },
  {
   "cell_type": "markdown",
   "metadata": {},
   "source": [
    "### Is Super Host?"
   ]
  },
  {
   "cell_type": "code",
   "execution_count": 18,
   "metadata": {},
   "outputs": [
    {
     "data": {
      "text/plain": [
       "0    Brian is a Superhost ·\n",
       "1      Samet is a Superhost\n",
       "2    Rebecca is a Superhost\n",
       "3      James is a Superhost\n",
       "4        Cat is a Superhost\n",
       "5       Rick is a Superhost\n",
       "6                       NaN\n",
       "7    Shailah is a Superhost\n",
       "8                       NaN\n",
       "9       Obed is a Superhost\n",
       "Name: Super_host, dtype: object"
      ]
     },
     "execution_count": 18,
     "metadata": {},
     "output_type": "execute_result"
    }
   ],
   "source": [
    "NewYorkData.Super_host[0:10]"
   ]
  },
  {
   "cell_type": "code",
   "execution_count": 19,
   "metadata": {},
   "outputs": [],
   "source": [
    "NewYorkData['Super_host'] = super_host(NewYorkData)"
   ]
  },
  {
   "cell_type": "markdown",
   "metadata": {},
   "source": [
    "True = 1, False = 0"
   ]
  },
  {
   "cell_type": "code",
   "execution_count": 20,
   "metadata": {},
   "outputs": [
    {
     "data": {
      "text/plain": [
       "0    1\n",
       "1    1\n",
       "2    1\n",
       "3    1\n",
       "4    1\n",
       "5    1\n",
       "6    0\n",
       "7    1\n",
       "8    0\n",
       "9    1\n",
       "Name: Super_host, dtype: int64"
      ]
     },
     "execution_count": 20,
     "metadata": {},
     "output_type": "execute_result"
    }
   ],
   "source": [
    "NewYorkData['Super_host'][0:10]"
   ]
  },
  {
   "cell_type": "markdown",
   "metadata": {},
   "source": [
    "## Numeric Data"
   ]
  },
  {
   "cell_type": "markdown",
   "metadata": {},
   "source": [
    "### Price"
   ]
  },
  {
   "cell_type": "code",
   "execution_count": 21,
   "metadata": {},
   "outputs": [
    {
     "name": "stdout",
     "output_type": "stream",
     "text": [
      "<class 'str'>\n",
      "0    $244\n",
      "1     $62\n",
      "2     $44\n",
      "3     $78\n",
      "4     $80\n",
      "5    $116\n",
      "6     $96\n",
      "7    $119\n",
      "8     $73\n",
      "9     $63\n",
      "Name: Price, dtype: object\n"
     ]
    }
   ],
   "source": [
    "print(type(NewYorkData['Price'][0]))\n",
    "print(NewYorkData['Price'][0:10])"
   ]
  },
  {
   "cell_type": "code",
   "execution_count": 22,
   "metadata": {},
   "outputs": [],
   "source": [
    "NewYorkData['Price'] = price_format(NewYorkData)"
   ]
  },
  {
   "cell_type": "code",
   "execution_count": 23,
   "metadata": {},
   "outputs": [
    {
     "name": "stdout",
     "output_type": "stream",
     "text": [
      "<class 'numpy.float64'>\n",
      "0    244.0\n",
      "1     62.0\n",
      "2     44.0\n",
      "3     78.0\n",
      "4     80.0\n",
      "5    116.0\n",
      "6     96.0\n",
      "7    119.0\n",
      "8     73.0\n",
      "9     63.0\n",
      "Name: Price, dtype: float64\n"
     ]
    }
   ],
   "source": [
    "print(type(NewYorkData['Price'][0]))\n",
    "print(NewYorkData['Price'][0:10])"
   ]
  },
  {
   "cell_type": "markdown",
   "metadata": {},
   "source": [
    "### Number of Bathrooms"
   ]
  },
  {
   "cell_type": "code",
   "execution_count": 24,
   "metadata": {},
   "outputs": [
    {
     "name": "stdout",
     "output_type": "stream",
     "text": [
      "<class 'str'>\n",
      "['1 bath' '1 shared bath' '2 shared baths' '1.5 shared baths'\n",
      " '1.5 private baths' '1 private bath' '2 private baths' nan\n",
      " '2.5 shared baths' '2 baths' '2.5 private baths' '3 shared baths'\n",
      " '4 shared baths' '0 baths' 'Half-bath' 'Shared half-bath' '1.5 baths'\n",
      " '2.5 baths' '3 baths' '0 shared baths' '3.5 shared baths']\n"
     ]
    }
   ],
   "source": [
    "print(type(NewYorkData['Bathrooms_num'][0]))\n",
    "print(NewYorkData['Bathrooms_num'].unique())"
   ]
  },
  {
   "cell_type": "code",
   "execution_count": 25,
   "metadata": {},
   "outputs": [],
   "source": [
    "NewYorkData['Bathrooms_num_int']= float(0)"
   ]
  },
  {
   "cell_type": "code",
   "execution_count": 26,
   "metadata": {},
   "outputs": [],
   "source": [
    "NewYorkData['Bathrooms_num_int'] = bathrooms_int(NewYorkData)"
   ]
  },
  {
   "cell_type": "code",
   "execution_count": 27,
   "metadata": {},
   "outputs": [
    {
     "name": "stdout",
     "output_type": "stream",
     "text": [
      "1 bath 1.0\n",
      "1 shared bath 1.0\n",
      "1 shared bath 1.0\n",
      "2 shared baths 2.0\n",
      "1.5 shared baths 1.5\n",
      "1 shared bath 1.0\n",
      "1 shared bath 1.0\n",
      "1 shared bath 1.0\n",
      "1 shared bath 1.0\n",
      "2 shared baths 2.0\n"
     ]
    }
   ],
   "source": [
    "for i in range(10):\n",
    "    print(NewYorkData['Bathrooms_num'][i],NewYorkData['Bathrooms_num_int'][i])"
   ]
  },
  {
   "cell_type": "markdown",
   "metadata": {},
   "source": [
    "### Shared vs. Private Bathroom"
   ]
  },
  {
   "cell_type": "code",
   "execution_count": 28,
   "metadata": {},
   "outputs": [],
   "source": [
    "NewYorkData['shared_bathroom']= shared_bathroom(NewYorkData)"
   ]
  },
  {
   "cell_type": "code",
   "execution_count": 29,
   "metadata": {},
   "outputs": [
    {
     "data": {
      "text/html": [
       "<div>\n",
       "<style scoped>\n",
       "    .dataframe tbody tr th:only-of-type {\n",
       "        vertical-align: middle;\n",
       "    }\n",
       "\n",
       "    .dataframe tbody tr th {\n",
       "        vertical-align: top;\n",
       "    }\n",
       "\n",
       "    .dataframe thead th {\n",
       "        text-align: right;\n",
       "    }\n",
       "</style>\n",
       "<table border=\"1\" class=\"dataframe\">\n",
       "  <thead>\n",
       "    <tr style=\"text-align: right;\">\n",
       "      <th></th>\n",
       "      <th>Bathrooms_num</th>\n",
       "      <th>shared_bathroom</th>\n",
       "    </tr>\n",
       "  </thead>\n",
       "  <tbody>\n",
       "    <tr>\n",
       "      <th>0</th>\n",
       "      <td>1 bath</td>\n",
       "      <td>False</td>\n",
       "    </tr>\n",
       "    <tr>\n",
       "      <th>1</th>\n",
       "      <td>1 shared bath</td>\n",
       "      <td>True</td>\n",
       "    </tr>\n",
       "    <tr>\n",
       "      <th>2</th>\n",
       "      <td>1 shared bath</td>\n",
       "      <td>True</td>\n",
       "    </tr>\n",
       "    <tr>\n",
       "      <th>3</th>\n",
       "      <td>2 shared baths</td>\n",
       "      <td>True</td>\n",
       "    </tr>\n",
       "    <tr>\n",
       "      <th>4</th>\n",
       "      <td>1.5 shared baths</td>\n",
       "      <td>True</td>\n",
       "    </tr>\n",
       "    <tr>\n",
       "      <th>5</th>\n",
       "      <td>1 shared bath</td>\n",
       "      <td>True</td>\n",
       "    </tr>\n",
       "    <tr>\n",
       "      <th>6</th>\n",
       "      <td>1 shared bath</td>\n",
       "      <td>True</td>\n",
       "    </tr>\n",
       "    <tr>\n",
       "      <th>7</th>\n",
       "      <td>1 shared bath</td>\n",
       "      <td>True</td>\n",
       "    </tr>\n",
       "    <tr>\n",
       "      <th>8</th>\n",
       "      <td>1 shared bath</td>\n",
       "      <td>True</td>\n",
       "    </tr>\n",
       "    <tr>\n",
       "      <th>9</th>\n",
       "      <td>2 shared baths</td>\n",
       "      <td>True</td>\n",
       "    </tr>\n",
       "  </tbody>\n",
       "</table>\n",
       "</div>"
      ],
      "text/plain": [
       "      Bathrooms_num  shared_bathroom\n",
       "0            1 bath            False\n",
       "1     1 shared bath             True\n",
       "2     1 shared bath             True\n",
       "3    2 shared baths             True\n",
       "4  1.5 shared baths             True\n",
       "5     1 shared bath             True\n",
       "6     1 shared bath             True\n",
       "7     1 shared bath             True\n",
       "8     1 shared bath             True\n",
       "9    2 shared baths             True"
      ]
     },
     "execution_count": 29,
     "metadata": {},
     "output_type": "execute_result"
    }
   ],
   "source": [
    "NewYorkData[['Bathrooms_num','shared_bathroom']][0:10]"
   ]
  },
  {
   "cell_type": "markdown",
   "metadata": {},
   "source": [
    "### Number of Bedrooms"
   ]
  },
  {
   "cell_type": "code",
   "execution_count": 12,
   "metadata": {},
   "outputs": [
    {
     "name": "stdout",
     "output_type": "stream",
     "text": [
      "<class 'str'>\n"
     ]
    }
   ],
   "source": [
    "print(type(NewYorkData['Bedrooms_no'][0]))"
   ]
  },
  {
   "cell_type": "code",
   "execution_count": 31,
   "metadata": {},
   "outputs": [],
   "source": [
    "NewYorkData['Bedrooms_int'] = None"
   ]
  },
  {
   "cell_type": "code",
   "execution_count": 33,
   "metadata": {},
   "outputs": [],
   "source": [
    "NewYorkData['Bedrooms_int']= bedrooms_int(NewYorkData)"
   ]
  },
  {
   "cell_type": "code",
   "execution_count": null,
   "metadata": {},
   "outputs": [],
   "source": [
    "for i in range(len(NewYorkData)):\n",
    "    print(NewYorkData['Bedrooms_no'][i],NewYorkData['Bedrooms_int'][i])"
   ]
  },
  {
   "cell_type": "code",
   "execution_count": 35,
   "metadata": {},
   "outputs": [
    {
     "data": {
      "text/plain": [
       "array(['1', -1, 'private', 'large', 'tiny', '2', 'Beautiful', '3',\n",
       "       'Farmers', '4', 'Cozy', 'Private', 'Nice', 'Large', 'size', 'one',\n",
       "       'Oasis', 'Big', 'big', 'entire', 'One', 'loft', 'master', 'two',\n",
       "       'Lovely', '5', 'spacious', '\"loft\"', 'the', 'artistic', 'calm',\n",
       "       'three', 'Two', 'Midtown', '6', 'Sunny', 'Astoria', 'Comfortable',\n",
       "       'Peaceful', 'Huge', 'Luxury', 'price', 'Bright', 'our'],\n",
       "      dtype=object)"
      ]
     },
     "execution_count": 35,
     "metadata": {},
     "output_type": "execute_result"
    }
   ],
   "source": [
    "NewYorkData.Bedrooms_int.unique()"
   ]
  },
  {
   "cell_type": "code",
   "execution_count": 36,
   "metadata": {},
   "outputs": [
    {
     "data": {
      "text/plain": [
       "2668    ROOM IN BOUTIQUE HOTEL\n",
       "Name: EntireHomeVsRoom, dtype: object"
      ]
     },
     "execution_count": 36,
     "metadata": {},
     "output_type": "execute_result"
    }
   ],
   "source": [
    "NewYorkData[NewYorkData.Bedrooms_int == 'our']['EntireHomeVsRoom']"
   ]
  },
  {
   "cell_type": "code",
   "execution_count": 37,
   "metadata": {},
   "outputs": [
    {
     "data": {
      "text/plain": [
       "2088    PRIVATE ROOM IN APARTMENT\n",
       "Name: EntireHomeVsRoom, dtype: object"
      ]
     },
     "execution_count": 37,
     "metadata": {},
     "output_type": "execute_result"
    }
   ],
   "source": [
    "NewYorkData[NewYorkData.Bedrooms_int == 'Astoria']['EntireHomeVsRoom']"
   ]
  },
  {
   "cell_type": "code",
   "execution_count": 38,
   "metadata": {},
   "outputs": [
    {
     "data": {
      "text/plain": [
       "331    ENTIRE APARTMENT\n",
       "Name: EntireHomeVsRoom, dtype: object"
      ]
     },
     "execution_count": 38,
     "metadata": {},
     "output_type": "execute_result"
    }
   ],
   "source": [
    "NewYorkData[NewYorkData.Bedrooms_int == 'Oasis']['EntireHomeVsRoom']"
   ]
  },
  {
   "cell_type": "code",
   "execution_count": 39,
   "metadata": {},
   "outputs": [],
   "source": [
    "oneList = ['private', 'large','tiny','Beautiful', 'Farmers','Cozy', 'Private', 'Nice', 'Large', 'size', 'one',\n",
    "       'Oasis', 'Big', 'big', 'entire', 'One', 'loft', 'master','Lovely','spacious', 'the', 'artistic', 'calm', 'Midtown','Sunny', 'Astoria', 'Comfortable',\n",
    "       'Peaceful', 'Huge', 'Luxury', 'price', 'Bright', 'our']\n",
    "for i in oneList:\n",
    "    NewYorkData['Bedrooms_int']= NewYorkData['Bedrooms_int'].str.replace(i,'1')\n",
    "    \n",
    "twoList =['two','Two']\n",
    "for i in twoList:\n",
    "    NewYorkData['Bedrooms_int']= NewYorkData['Bedrooms_int'].str.replace(i,'2')\n",
    "    \n",
    "\n",
    "NewYorkData['Bedrooms_int']= NewYorkData['Bedrooms_int'].str.replace('three','3')\n",
    "NewYorkData['Bedrooms_int']= NewYorkData['Bedrooms_int'].str.replace(\"loft\",'1')"
   ]
  },
  {
   "cell_type": "code",
   "execution_count": 40,
   "metadata": {},
   "outputs": [
    {
     "data": {
      "text/plain": [
       "array(['1', nan, '2', '3', '4', '5', '\"1\"', '6'], dtype=object)"
      ]
     },
     "execution_count": 40,
     "metadata": {},
     "output_type": "execute_result"
    }
   ],
   "source": [
    "NewYorkData.Bedrooms_int.unique()"
   ]
  },
  {
   "cell_type": "code",
   "execution_count": 41,
   "metadata": {},
   "outputs": [],
   "source": [
    "NewYorkData['Bedrooms_int']= NewYorkData['Bedrooms_int'].str.replace('\"1\"','1')"
   ]
  },
  {
   "cell_type": "code",
   "execution_count": 42,
   "metadata": {},
   "outputs": [],
   "source": [
    "NewYorkData['Bedrooms_int'] = bedrooms_int_final(NewYorkData)\n",
    "#for i in range(len(NewYorkData)):\n",
    "#    if(NewYorkData.Bedrooms_int[i]==None):\n",
    "#        NewYorkData.Bedrooms_int[i]= 0\n",
    "#    elif(NewYorkData.Bedrooms_int[i] == '\"1\"'):\n",
    "#        NewYorkData.Bedrooms_int[i]= 1\n",
    "#    else:\n",
    "#        NewYorkData.Bedrooms_int[i]=int(NewYorkData.Bedrooms_int[i])"
   ]
  },
  {
   "cell_type": "markdown",
   "metadata": {},
   "source": [
    "### Number of Beds"
   ]
  },
  {
   "cell_type": "code",
   "execution_count": 45,
   "metadata": {},
   "outputs": [
    {
     "name": "stdout",
     "output_type": "stream",
     "text": [
      "<class 'str'>\n",
      "['1 bed' '0 beds' 'Obed' '2 beds' 'PRIVATE ROOM IN BED AND BREAKFAST'\n",
      " '3 beds' nan '5 beds' '4 beds' '8 beds'\n",
      " 'SHARED ROOM IN BED AND BREAKFAST' '6 beds' 'ENTIRE BED AND BREAKFAST']\n"
     ]
    }
   ],
   "source": [
    "print(type(NewYorkData['Beds_no'][0]))\n",
    "print(NewYorkData['Beds_no'].unique())"
   ]
  },
  {
   "cell_type": "code",
   "execution_count": 46,
   "metadata": {},
   "outputs": [],
   "source": [
    "NewYorkData['Beds_int'] = float(0)"
   ]
  },
  {
   "cell_type": "code",
   "execution_count": 47,
   "metadata": {},
   "outputs": [],
   "source": [
    "NewYorkData['Beds_int'] = beds_int(NewYorkData)"
   ]
  },
  {
   "cell_type": "code",
   "execution_count": 48,
   "metadata": {},
   "outputs": [
    {
     "name": "stdout",
     "output_type": "stream",
     "text": [
      "1 bed 1.0\n",
      "1 bed 1.0\n",
      "1 bed 1.0\n",
      "1 bed 1.0\n",
      "1 bed 1.0\n",
      "1 bed 1.0\n",
      "1 bed 1.0\n",
      "0 beds 0.0\n",
      "1 bed 1.0\n",
      "Obed 0.0\n"
     ]
    }
   ],
   "source": [
    "for i in range(10):\n",
    "    print(NewYorkData['Beds_no'][i],NewYorkData['Beds_int'][i])"
   ]
  },
  {
   "cell_type": "markdown",
   "metadata": {},
   "source": [
    "### Latitude"
   ]
  },
  {
   "cell_type": "code",
   "execution_count": 49,
   "metadata": {},
   "outputs": [
    {
     "name": "stdout",
     "output_type": "stream",
     "text": [
      "<class 'numpy.float64'>\n",
      "[40.73321 40.7658  40.75972 ... 40.77264 40.76406 40.73354]\n"
     ]
    }
   ],
   "source": [
    "print(type(NewYorkData['Latitude'][0]))\n",
    "print(NewYorkData['Latitude'].unique())"
   ]
  },
  {
   "cell_type": "markdown",
   "metadata": {},
   "source": [
    "### Longitude"
   ]
  },
  {
   "cell_type": "code",
   "execution_count": 50,
   "metadata": {},
   "outputs": [
    {
     "name": "stdout",
     "output_type": "stream",
     "text": [
      "<class 'numpy.float64'>\n",
      "[-74.00242 -73.95812 -74.03827 ... -74.03762 -74.02755 -73.90769]\n"
     ]
    }
   ],
   "source": [
    "print(type(NewYorkData['Longitude'][0]))\n",
    "print(NewYorkData['Longitude'].unique())"
   ]
  },
  {
   "cell_type": "markdown",
   "metadata": {},
   "source": [
    "Thanks god! we have Latitude and Longitude ready to go!"
   ]
  },
  {
   "cell_type": "markdown",
   "metadata": {},
   "source": [
    "### Number of Reviews"
   ]
  },
  {
   "cell_type": "code",
   "execution_count": 8,
   "metadata": {},
   "outputs": [],
   "source": [
    "NewYorkData['Reviewers_no'] = reviews_num(NewYorkData)"
   ]
  },
  {
   "cell_type": "code",
   "execution_count": 9,
   "metadata": {},
   "outputs": [
    {
     "data": {
      "text/plain": [
       "0     87\n",
       "1      5\n",
       "2     83\n",
       "3     32\n",
       "4     28\n",
       "5     -1\n",
       "6      8\n",
       "7    140\n",
       "8    570\n",
       "9     19\n",
       "Name: Reviewers_no, dtype: int64"
      ]
     },
     "execution_count": 9,
     "metadata": {},
     "output_type": "execute_result"
    }
   ],
   "source": [
    "NewYorkData['Reviewers_no'].head(10)"
   ]
  },
  {
   "cell_type": "markdown",
   "metadata": {},
   "source": [
    "### Number of Amenities"
   ]
  },
  {
   "cell_type": "code",
   "execution_count": 9,
   "metadata": {},
   "outputs": [],
   "source": [
    "NewYorkData['Amenities_mod']= None\n",
    "NewYorkData['Amenities_length']= None"
   ]
  },
  {
   "cell_type": "code",
   "execution_count": 10,
   "metadata": {},
   "outputs": [],
   "source": [
    "NewYorkData['Amenities_mod']= amenities_to_vars(NewYorkData)"
   ]
  },
  {
   "cell_type": "code",
   "execution_count": 13,
   "metadata": {},
   "outputs": [],
   "source": [
    "NewYorkData['Amenities_length']= amenities_to_vars2(NewYorkData)"
   ]
  },
  {
   "cell_type": "markdown",
   "metadata": {},
   "source": [
    "### Bangkok"
   ]
  },
  {
   "cell_type": "code",
   "execution_count": 56,
   "metadata": {},
   "outputs": [
    {
     "data": {
      "text/plain": [
       "Index(['CheckIn', 'CheckOut', 'Has_Weekend', 'Title', 'Price', 'Super_host',\n",
       "       'Latitude', 'Longitude', 'EntireHomeVsRoom', 'Bedrooms_no', 'Beds_no',\n",
       "       'Bathrooms_num', 'Sleeping_engagment', 'Amenities', 'Accuracy_stars',\n",
       "       'Communication_stars', 'Cleanliness_stars', 'Location_stars',\n",
       "       'CheckIn_stars', 'Value_stars', 'Reviewers_no', 'Review'],\n",
       "      dtype='object')"
      ]
     },
     "execution_count": 56,
     "metadata": {},
     "output_type": "execute_result"
    }
   ],
   "source": [
    "BangkokData.columns"
   ]
  },
  {
   "cell_type": "markdown",
   "metadata": {},
   "source": [
    "### Does it have a weekend?"
   ]
  },
  {
   "cell_type": "code",
   "execution_count": 57,
   "metadata": {},
   "outputs": [
    {
     "data": {
      "text/plain": [
       "array([ True])"
      ]
     },
     "execution_count": 57,
     "metadata": {},
     "output_type": "execute_result"
    }
   ],
   "source": [
    "BangkokData['Has_Weekend'].unique()"
   ]
  },
  {
   "cell_type": "code",
   "execution_count": 58,
   "metadata": {},
   "outputs": [],
   "source": [
    "BangkokData.drop(['Has_Weekend','Reviewers_no'],axis=1, inplace=True)"
   ]
  },
  {
   "cell_type": "markdown",
   "metadata": {},
   "source": [
    "### Is Super Host?"
   ]
  },
  {
   "cell_type": "code",
   "execution_count": 59,
   "metadata": {},
   "outputs": [
    {
     "data": {
      "text/plain": [
       "0     Thongjuta is a Superhost\n",
       "1                          NaN\n",
       "2          Kiek is a Superhost\n",
       "3                          NaN\n",
       "4         Patty is a Superhost\n",
       "5         Nukul is a Superhost\n",
       "6                          NaN\n",
       "7                          NaN\n",
       "8                          NaN\n",
       "9    Kinifrog is a Superhost ·\n",
       "Name: Super_host, dtype: object"
      ]
     },
     "execution_count": 59,
     "metadata": {},
     "output_type": "execute_result"
    }
   ],
   "source": [
    "BangkokData.Super_host[0:10]"
   ]
  },
  {
   "cell_type": "code",
   "execution_count": 60,
   "metadata": {},
   "outputs": [],
   "source": [
    "BangkokData['Super_host'] = super_host(BangkokData)"
   ]
  },
  {
   "cell_type": "code",
   "execution_count": 61,
   "metadata": {},
   "outputs": [
    {
     "data": {
      "text/plain": [
       "0    1\n",
       "1    0\n",
       "2    1\n",
       "3    0\n",
       "4    1\n",
       "5    1\n",
       "6    0\n",
       "7    0\n",
       "8    0\n",
       "9    1\n",
       "Name: Super_host, dtype: int64"
      ]
     },
     "execution_count": 61,
     "metadata": {},
     "output_type": "execute_result"
    }
   ],
   "source": [
    "BangkokData.Super_host[0:10]"
   ]
  },
  {
   "cell_type": "markdown",
   "metadata": {},
   "source": [
    "### Price"
   ]
  },
  {
   "cell_type": "code",
   "execution_count": 62,
   "metadata": {},
   "outputs": [
    {
     "data": {
      "text/plain": [
       "0    $34\n",
       "1    $48\n",
       "2    $27\n",
       "3    $35\n",
       "4    $34\n",
       "5    $23\n",
       "6    $27\n",
       "7    $51\n",
       "8    $38\n",
       "9    $36\n",
       "Name: Price, dtype: object"
      ]
     },
     "execution_count": 62,
     "metadata": {},
     "output_type": "execute_result"
    }
   ],
   "source": [
    "BangkokData.Price[0:10]"
   ]
  },
  {
   "cell_type": "code",
   "execution_count": 63,
   "metadata": {},
   "outputs": [],
   "source": [
    "BangkokData['Price'] = price_format(BangkokData)"
   ]
  },
  {
   "cell_type": "code",
   "execution_count": 64,
   "metadata": {},
   "outputs": [
    {
     "name": "stdout",
     "output_type": "stream",
     "text": [
      "<class 'numpy.float64'>\n",
      "0    34.0\n",
      "1    48.0\n",
      "2    27.0\n",
      "3    35.0\n",
      "4    34.0\n",
      "5    23.0\n",
      "6    27.0\n",
      "7    51.0\n",
      "8    38.0\n",
      "9    36.0\n",
      "Name: Price, dtype: float64\n"
     ]
    }
   ],
   "source": [
    "print(type(BangkokData['Price'][0]))\n",
    "print(BangkokData['Price'][0:10])"
   ]
  },
  {
   "cell_type": "markdown",
   "metadata": {},
   "source": [
    "### Number of Bathrooms"
   ]
  },
  {
   "cell_type": "code",
   "execution_count": 65,
   "metadata": {},
   "outputs": [
    {
     "name": "stdout",
     "output_type": "stream",
     "text": [
      "<class 'str'>\n",
      "['1 bath' '1 private bath' '2 baths' '1.5 baths' '0 baths' '1 shared bath'\n",
      " '2 shared baths' '4 shared baths' '1.5 private baths' '8 shared baths'\n",
      " '1.5 shared baths' '3 baths' '4 baths' '2.5 baths' '3.5 baths' nan\n",
      " '4.5 baths'\n",
      " 'Awesome place! Laundry service was available and affordable, a well equipped kitchen was provided, and the bathrooms and rooms were clean.'\n",
      " '6 shared baths' '4.5 shared baths']\n"
     ]
    }
   ],
   "source": [
    "print(type(BangkokData['Bathrooms_num'][0]))\n",
    "print(BangkokData['Bathrooms_num'].unique())"
   ]
  },
  {
   "cell_type": "code",
   "execution_count": 66,
   "metadata": {},
   "outputs": [],
   "source": [
    "BangkokData['Bathrooms_num_int']= float(0)"
   ]
  },
  {
   "cell_type": "code",
   "execution_count": null,
   "metadata": {},
   "outputs": [],
   "source": [
    "BangkokData[BangkokData['Bathrooms_num']== 'Awesome place! Laundry service was available and affordable, a well equipped kitchen was provided, and the bathrooms and rooms were clean.']"
   ]
  },
  {
   "cell_type": "markdown",
   "metadata": {},
   "source": [
    "By looking at the data, I noticed that this sample representing shared room in hostle, and they did not provide any information about the number of bathrooms. For simplicity, I will assume that we have only \"1 shared bathroom\"! "
   ]
  },
  {
   "cell_type": "code",
   "execution_count": 68,
   "metadata": {},
   "outputs": [],
   "source": [
    "for i in range(len(BangkokData)): \n",
    "    if(BangkokData['Bathrooms_num'][i]== 'Awesome place! Laundry service was available and affordable, a well equipped kitchen was provided, and the bathrooms and rooms were clean.'):\n",
    "        BangkokData['Bathrooms_num'][i]= '1 shared bath'\n",
    "        \n",
    "    "
   ]
  },
  {
   "cell_type": "code",
   "execution_count": 69,
   "metadata": {},
   "outputs": [
    {
     "name": "stdout",
     "output_type": "stream",
     "text": [
      "['1 bath' '1 private bath' '2 baths' '1.5 baths' '0 baths' '1 shared bath'\n",
      " '2 shared baths' '4 shared baths' '1.5 private baths' '8 shared baths'\n",
      " '1.5 shared baths' '3 baths' '4 baths' '2.5 baths' '3.5 baths' nan\n",
      " '4.5 baths' '6 shared baths' '4.5 shared baths']\n"
     ]
    }
   ],
   "source": [
    "print(BangkokData['Bathrooms_num'].unique())"
   ]
  },
  {
   "cell_type": "code",
   "execution_count": 70,
   "metadata": {},
   "outputs": [],
   "source": [
    "BangkokData['Bathrooms_num_int'] = bathrooms_int(BangkokData)"
   ]
  },
  {
   "cell_type": "code",
   "execution_count": 71,
   "metadata": {},
   "outputs": [
    {
     "name": "stdout",
     "output_type": "stream",
     "text": [
      "1 bath 1.0\n",
      "1 bath 1.0\n",
      "1 bath 1.0\n",
      "1 bath 1.0\n",
      "1 bath 1.0\n",
      "1 bath 1.0\n",
      "1 private bath 1.0\n",
      "1 bath 1.0\n",
      "1 bath 1.0\n",
      "1 bath 1.0\n"
     ]
    }
   ],
   "source": [
    "for i in range(10):\n",
    "    print(BangkokData['Bathrooms_num'][i],BangkokData['Bathrooms_num_int'][i])"
   ]
  },
  {
   "cell_type": "markdown",
   "metadata": {},
   "source": [
    "### Shared vs. Private Bathroom"
   ]
  },
  {
   "cell_type": "code",
   "execution_count": 72,
   "metadata": {},
   "outputs": [],
   "source": [
    "BangkokData['shared_bathroom']= shared_bathroom(BangkokData)"
   ]
  },
  {
   "cell_type": "code",
   "execution_count": 214,
   "metadata": {},
   "outputs": [
    {
     "data": {
      "text/html": [
       "<div>\n",
       "<style scoped>\n",
       "    .dataframe tbody tr th:only-of-type {\n",
       "        vertical-align: middle;\n",
       "    }\n",
       "\n",
       "    .dataframe tbody tr th {\n",
       "        vertical-align: top;\n",
       "    }\n",
       "\n",
       "    .dataframe thead th {\n",
       "        text-align: right;\n",
       "    }\n",
       "</style>\n",
       "<table border=\"1\" class=\"dataframe\">\n",
       "  <thead>\n",
       "    <tr style=\"text-align: right;\">\n",
       "      <th></th>\n",
       "      <th>Bathrooms_num</th>\n",
       "      <th>shared_bathroom</th>\n",
       "    </tr>\n",
       "  </thead>\n",
       "  <tbody>\n",
       "    <tr>\n",
       "      <th>0</th>\n",
       "      <td>1 bath</td>\n",
       "      <td>False</td>\n",
       "    </tr>\n",
       "    <tr>\n",
       "      <th>1</th>\n",
       "      <td>1 bath</td>\n",
       "      <td>False</td>\n",
       "    </tr>\n",
       "    <tr>\n",
       "      <th>2</th>\n",
       "      <td>1 bath</td>\n",
       "      <td>False</td>\n",
       "    </tr>\n",
       "    <tr>\n",
       "      <th>3</th>\n",
       "      <td>1 bath</td>\n",
       "      <td>False</td>\n",
       "    </tr>\n",
       "    <tr>\n",
       "      <th>4</th>\n",
       "      <td>1 bath</td>\n",
       "      <td>False</td>\n",
       "    </tr>\n",
       "    <tr>\n",
       "      <th>5</th>\n",
       "      <td>1 bath</td>\n",
       "      <td>False</td>\n",
       "    </tr>\n",
       "    <tr>\n",
       "      <th>6</th>\n",
       "      <td>1 private bath</td>\n",
       "      <td>False</td>\n",
       "    </tr>\n",
       "    <tr>\n",
       "      <th>7</th>\n",
       "      <td>1 bath</td>\n",
       "      <td>False</td>\n",
       "    </tr>\n",
       "    <tr>\n",
       "      <th>8</th>\n",
       "      <td>1 bath</td>\n",
       "      <td>False</td>\n",
       "    </tr>\n",
       "    <tr>\n",
       "      <th>9</th>\n",
       "      <td>1 bath</td>\n",
       "      <td>False</td>\n",
       "    </tr>\n",
       "  </tbody>\n",
       "</table>\n",
       "</div>"
      ],
      "text/plain": [
       "    Bathrooms_num  shared_bathroom\n",
       "0          1 bath            False\n",
       "1          1 bath            False\n",
       "2          1 bath            False\n",
       "3          1 bath            False\n",
       "4          1 bath            False\n",
       "5          1 bath            False\n",
       "6  1 private bath            False\n",
       "7          1 bath            False\n",
       "8          1 bath            False\n",
       "9          1 bath            False"
      ]
     },
     "execution_count": 214,
     "metadata": {},
     "output_type": "execute_result"
    }
   ],
   "source": [
    "BangkokData[['Bathrooms_num','shared_bathroom']][0:10]"
   ]
  },
  {
   "cell_type": "code",
   "execution_count": 215,
   "metadata": {},
   "outputs": [],
   "source": [
    "BangkokData.shared_bathroom  = [int(i == True) for i in BangkokData.shared_bathroom]\n"
   ]
  },
  {
   "cell_type": "markdown",
   "metadata": {},
   "source": [
    "### Number of Bedrooms "
   ]
  },
  {
   "cell_type": "code",
   "execution_count": 13,
   "metadata": {},
   "outputs": [
    {
     "name": "stdout",
     "output_type": "stream",
     "text": [
      "<class 'str'>\n"
     ]
    }
   ],
   "source": [
    "print(type(BangkokData['Bedrooms_no'][0]))"
   ]
  },
  {
   "cell_type": "code",
   "execution_count": 75,
   "metadata": {},
   "outputs": [],
   "source": [
    "BangkokData.Bedrooms_no = BangkokData.Bedrooms_no.str.replace('360°view2bedrooms','360° view 2 bedrooms')\n",
    "BangkokData.Bedrooms_no = BangkokData.Bedrooms_no.str.replace('one-bedroom','1 bedroom')\n",
    "BangkokData.Bedrooms_no = BangkokData.Bedrooms_no.str.replace('1bedroom','1 bedroom')\n",
    "BangkokData.Bedrooms_no = BangkokData.Bedrooms_no.str.replace('two bedroom','2 bedrooms')\n",
    "BangkokData.Bedrooms_no = BangkokData.Bedrooms_no.str.replace('The Zen bedroom','5 bedrooms')\n",
    "BangkokData.Bedrooms_no = BangkokData.Bedrooms_no.str.replace('One bedroom','1 bedroom')\n",
    "BangkokData.Bedrooms_no = BangkokData.Bedrooms_no.str.replace('one bedroom','1 bedroom')\n",
    "BangkokData.Bedrooms_no = BangkokData.Bedrooms_no.str.replace('2bedrooms','2 bedrooms')\n",
    "BangkokData.Bedrooms_no = BangkokData.Bedrooms_no.str.replace('4-bedrooms','4 bedrooms')\n",
    "BangkokData.Bedrooms_no = BangkokData.Bedrooms_no.str.replace('3-bedrooms','3 bedrooms')\n"
   ]
  },
  {
   "cell_type": "code",
   "execution_count": 76,
   "metadata": {},
   "outputs": [],
   "source": [
    "BangkokData['Bedrooms_int']= None "
   ]
  },
  {
   "cell_type": "code",
   "execution_count": 77,
   "metadata": {},
   "outputs": [],
   "source": [
    "BangkokData['Bedrooms_int'] = bedrooms_int(BangkokData)"
   ]
  },
  {
   "cell_type": "code",
   "execution_count": 78,
   "metadata": {},
   "outputs": [
    {
     "data": {
      "text/plain": [
       "array(['1', -1, 'king', 'the', 'Single', '2', 'Big', 'King', 'pool-Comfy',\n",
       "       'size', '5', 'BTS/1', 'from', '3', '4', '6', '☼Sky'], dtype=object)"
      ]
     },
     "execution_count": 78,
     "metadata": {},
     "output_type": "execute_result"
    }
   ],
   "source": [
    "BangkokData['Bedrooms_int'].unique()"
   ]
  },
  {
   "cell_type": "code",
   "execution_count": 79,
   "metadata": {},
   "outputs": [],
   "source": [
    "oneList = ['king', 'the', 'Single', 'Big', 'King','pool-Comfy', 'size', 'BTS/1', 'from', '☼Sky']\n",
    "for i in oneList:\n",
    "    BangkokData['Bedrooms_int']= BangkokData['Bedrooms_int'].replace(i,'1')\n"
   ]
  },
  {
   "cell_type": "code",
   "execution_count": 80,
   "metadata": {},
   "outputs": [
    {
     "data": {
      "text/plain": [
       "array(['1', -1, '2', '5', '3', '4', '6'], dtype=object)"
      ]
     },
     "execution_count": 80,
     "metadata": {},
     "output_type": "execute_result"
    }
   ],
   "source": [
    "BangkokData['Bedrooms_int'].unique()"
   ]
  },
  {
   "cell_type": "code",
   "execution_count": 81,
   "metadata": {},
   "outputs": [],
   "source": [
    "BangkokData['Bedrooms_int']= bedrooms_int_final(BangkokData)"
   ]
  },
  {
   "cell_type": "code",
   "execution_count": 84,
   "metadata": {},
   "outputs": [
    {
     "data": {
      "text/plain": [
       "0     1\n",
       "1     1\n",
       "2     1\n",
       "3     1\n",
       "4    -1\n",
       "5     1\n",
       "6    -1\n",
       "7     1\n",
       "8     1\n",
       "9     1\n",
       "Name: Bedrooms_int, dtype: object"
      ]
     },
     "execution_count": 84,
     "metadata": {},
     "output_type": "execute_result"
    }
   ],
   "source": [
    "BangkokData['Bedrooms_int'].head(10)"
   ]
  },
  {
   "cell_type": "markdown",
   "metadata": {},
   "source": [
    "### Number of Beds"
   ]
  },
  {
   "cell_type": "code",
   "execution_count": 85,
   "metadata": {},
   "outputs": [
    {
     "name": "stdout",
     "output_type": "stream",
     "text": [
      "<class 'str'>\n",
      "['1 bed' '2 beds' '3 beds' nan '4 beds' '0 beds'\n",
      " 'PRIVATE ROOM IN BED AND BREAKFAST' '5 beds' '6 beds' '7 beds' '8 beds'\n",
      " 'Private room in bed and breakfast']\n"
     ]
    }
   ],
   "source": [
    "print(type(BangkokData['Beds_no'][0]))\n",
    "print(BangkokData['Beds_no'].unique())"
   ]
  },
  {
   "cell_type": "code",
   "execution_count": 86,
   "metadata": {},
   "outputs": [],
   "source": [
    "BangkokData['Beds_int'] = float(0)"
   ]
  },
  {
   "cell_type": "code",
   "execution_count": 87,
   "metadata": {},
   "outputs": [],
   "source": [
    "BangkokData['Beds_int']= beds_int(BangkokData)"
   ]
  },
  {
   "cell_type": "code",
   "execution_count": 88,
   "metadata": {},
   "outputs": [
    {
     "name": "stdout",
     "output_type": "stream",
     "text": [
      "1 bed 1.0\n",
      "1 bed 1.0\n",
      "2 beds 2.0\n",
      "1 bed 1.0\n",
      "3 beds 3.0\n",
      "3 beds 3.0\n",
      "1 bed 1.0\n",
      "1 bed 1.0\n",
      "1 bed 1.0\n",
      "1 bed 1.0\n"
     ]
    }
   ],
   "source": [
    "for i in range(10):\n",
    "    print(BangkokData['Beds_no'][i],BangkokData['Beds_int'][i])"
   ]
  },
  {
   "cell_type": "markdown",
   "metadata": {},
   "source": [
    "### Latitude"
   ]
  },
  {
   "cell_type": "code",
   "execution_count": 89,
   "metadata": {},
   "outputs": [
    {
     "name": "stdout",
     "output_type": "stream",
     "text": [
      "<class 'numpy.float64'>\n"
     ]
    }
   ],
   "source": [
    "print(type(BangkokData['Latitude'][0]))"
   ]
  },
  {
   "cell_type": "markdown",
   "metadata": {},
   "source": [
    "### Longitude"
   ]
  },
  {
   "cell_type": "code",
   "execution_count": 90,
   "metadata": {},
   "outputs": [
    {
     "name": "stdout",
     "output_type": "stream",
     "text": [
      "<class 'numpy.float64'>\n"
     ]
    }
   ],
   "source": [
    "print(type(BangkokData['Longitude'][0]))"
   ]
  },
  {
   "cell_type": "markdown",
   "metadata": {},
   "source": [
    "### Number of Reviews"
   ]
  },
  {
   "cell_type": "code",
   "execution_count": 10,
   "metadata": {},
   "outputs": [],
   "source": [
    "BangkokData['Reviewers_no'] = reviews_num(BangkokData)"
   ]
  },
  {
   "cell_type": "code",
   "execution_count": 11,
   "metadata": {},
   "outputs": [
    {
     "data": {
      "text/plain": [
       "0    101\n",
       "1     -1\n",
       "2      4\n",
       "3      3\n",
       "4     -1\n",
       "5     23\n",
       "6      1\n",
       "7     10\n",
       "8      2\n",
       "9     82\n",
       "Name: Reviewers_no, dtype: int64"
      ]
     },
     "execution_count": 11,
     "metadata": {},
     "output_type": "execute_result"
    }
   ],
   "source": [
    "BangkokData['Reviewers_no'].head(10)"
   ]
  },
  {
   "cell_type": "markdown",
   "metadata": {},
   "source": [
    "### Number of Amenities"
   ]
  },
  {
   "cell_type": "code",
   "execution_count": 16,
   "metadata": {},
   "outputs": [],
   "source": [
    "BangkokData['Amenities_mod']= None\n",
    "BangkokData['Amenities_length']= None"
   ]
  },
  {
   "cell_type": "code",
   "execution_count": 17,
   "metadata": {},
   "outputs": [],
   "source": [
    "BangkokData['Amenities_mod']= amenities_to_vars(BangkokData)"
   ]
  },
  {
   "cell_type": "code",
   "execution_count": 18,
   "metadata": {},
   "outputs": [],
   "source": [
    "BangkokData['Amenities_length']= amenities_to_vars2(BangkokData)"
   ]
  },
  {
   "cell_type": "markdown",
   "metadata": {},
   "source": [
    "# Cairo"
   ]
  },
  {
   "cell_type": "code",
   "execution_count": 91,
   "metadata": {},
   "outputs": [
    {
     "data": {
      "text/plain": [
       "Index(['CheckIn', 'CheckOut', 'Has_Weekend', 'Title', 'Price', 'Super_host',\n",
       "       'Latitude', 'Longitude', 'EntireHomeVsRoom', 'Bedrooms_no', 'Beds_no',\n",
       "       'Bathrooms_num', 'Sleeping_engagment', 'Amenities', 'Accuracy_stars',\n",
       "       'Communication_stars', 'Cleanliness_stars', 'Location_stars',\n",
       "       'CheckIn_stars', 'Value_stars', 'Reviewers_no', 'Review'],\n",
       "      dtype='object')"
      ]
     },
     "execution_count": 91,
     "metadata": {},
     "output_type": "execute_result"
    }
   ],
   "source": [
    "CairoData.columns"
   ]
  },
  {
   "cell_type": "markdown",
   "metadata": {},
   "source": [
    "### Does it have a weekend?"
   ]
  },
  {
   "cell_type": "code",
   "execution_count": 92,
   "metadata": {},
   "outputs": [
    {
     "data": {
      "text/plain": [
       "array([ True])"
      ]
     },
     "execution_count": 92,
     "metadata": {},
     "output_type": "execute_result"
    }
   ],
   "source": [
    "CairoData['Has_Weekend'].unique()"
   ]
  },
  {
   "cell_type": "code",
   "execution_count": 93,
   "metadata": {},
   "outputs": [],
   "source": [
    "CairoData.drop(['Has_Weekend','Reviewers_no'],axis=1, inplace=True)"
   ]
  },
  {
   "cell_type": "code",
   "execution_count": 94,
   "metadata": {},
   "outputs": [
    {
     "data": {
      "text/plain": [
       "Index(['CheckIn', 'CheckOut', 'Title', 'Price', 'Super_host', 'Latitude',\n",
       "       'Longitude', 'EntireHomeVsRoom', 'Bedrooms_no', 'Beds_no',\n",
       "       'Bathrooms_num', 'Sleeping_engagment', 'Amenities', 'Accuracy_stars',\n",
       "       'Communication_stars', 'Cleanliness_stars', 'Location_stars',\n",
       "       'CheckIn_stars', 'Value_stars', 'Review'],\n",
       "      dtype='object')"
      ]
     },
     "execution_count": 94,
     "metadata": {},
     "output_type": "execute_result"
    }
   ],
   "source": [
    "CairoData.columns"
   ]
  },
  {
   "cell_type": "markdown",
   "metadata": {},
   "source": [
    "### Is Super Host?"
   ]
  },
  {
   "cell_type": "code",
   "execution_count": 95,
   "metadata": {},
   "outputs": [
    {
     "data": {
      "text/plain": [
       "0                       NaN\n",
       "1                       NaN\n",
       "2                       NaN\n",
       "3                       NaN\n",
       "4                       NaN\n",
       "5                       NaN\n",
       "6                       NaN\n",
       "7     Bassem is a Superhost\n",
       "8                       NaN\n",
       "9    Mohamed is a Superhost\n",
       "Name: Super_host, dtype: object"
      ]
     },
     "execution_count": 95,
     "metadata": {},
     "output_type": "execute_result"
    }
   ],
   "source": [
    "CairoData.Super_host[0:10]"
   ]
  },
  {
   "cell_type": "code",
   "execution_count": 96,
   "metadata": {},
   "outputs": [],
   "source": [
    "CairoData['Super_host'] = super_host(CairoData)"
   ]
  },
  {
   "cell_type": "code",
   "execution_count": 97,
   "metadata": {},
   "outputs": [
    {
     "data": {
      "text/plain": [
       "0    0\n",
       "1    0\n",
       "2    0\n",
       "3    0\n",
       "4    0\n",
       "5    0\n",
       "6    0\n",
       "7    1\n",
       "8    0\n",
       "9    1\n",
       "Name: Super_host, dtype: int64"
      ]
     },
     "execution_count": 97,
     "metadata": {},
     "output_type": "execute_result"
    }
   ],
   "source": [
    "CairoData.Super_host[0:10]"
   ]
  },
  {
   "cell_type": "markdown",
   "metadata": {},
   "source": [
    "### Price"
   ]
  },
  {
   "cell_type": "code",
   "execution_count": 98,
   "metadata": {},
   "outputs": [],
   "source": [
    "CairoData['Price'] = price_format(CairoData)"
   ]
  },
  {
   "cell_type": "code",
   "execution_count": 99,
   "metadata": {},
   "outputs": [
    {
     "name": "stdout",
     "output_type": "stream",
     "text": [
      "<class 'numpy.float64'>\n",
      "0    15.0\n",
      "1    12.0\n",
      "2    22.0\n",
      "3    19.0\n",
      "4    23.0\n",
      "5    25.0\n",
      "6    40.0\n",
      "7    37.0\n",
      "8    65.0\n",
      "9    11.0\n",
      "Name: Price, dtype: float64\n"
     ]
    }
   ],
   "source": [
    "print(type(CairoData['Price'][0]))\n",
    "print(CairoData['Price'][0:10])"
   ]
  },
  {
   "cell_type": "markdown",
   "metadata": {},
   "source": [
    "### Number of Bathrooms"
   ]
  },
  {
   "cell_type": "code",
   "execution_count": 100,
   "metadata": {},
   "outputs": [
    {
     "name": "stdout",
     "output_type": "stream",
     "text": [
      "<class 'str'>\n",
      "['2 shared baths' '1.5 baths' '1 shared bath' '1.5 private baths'\n",
      " '1 private bath' '1 bath' '2 baths' '3 baths' '12 private baths'\n",
      " '8 private baths' '1.5 shared baths' '2.5 baths' nan '4 baths'\n",
      " '2 private baths' '0 shared baths' '3 private baths' '3 shared baths'\n",
      " '10 private baths' '5 private baths' '6 baths' '4 private baths'\n",
      " '3.5 baths' '4 shared baths' '25 private baths' '20 private baths']\n"
     ]
    }
   ],
   "source": [
    "print(type(CairoData['Bathrooms_num'][0]))\n",
    "print(CairoData['Bathrooms_num'].unique())"
   ]
  },
  {
   "cell_type": "code",
   "execution_count": 101,
   "metadata": {},
   "outputs": [],
   "source": [
    "CairoData['Bathrooms_num_int']= float(0)"
   ]
  },
  {
   "cell_type": "code",
   "execution_count": 102,
   "metadata": {},
   "outputs": [],
   "source": [
    "CairoData['Bathrooms_num_int']= bathrooms_int(CairoData) "
   ]
  },
  {
   "cell_type": "code",
   "execution_count": 103,
   "metadata": {},
   "outputs": [
    {
     "name": "stdout",
     "output_type": "stream",
     "text": [
      "2 shared baths 2.0\n",
      "1.5 baths 1.5\n",
      "1 shared bath 1.0\n",
      "1.5 private baths 1.5\n",
      "1 shared bath 1.0\n",
      "1 private bath 1.0\n",
      "1 private bath 1.0\n",
      "1.5 baths 1.5\n",
      "1 bath 1.0\n",
      "1 shared bath 1.0\n"
     ]
    }
   ],
   "source": [
    "for i in range(10):\n",
    "    print(CairoData['Bathrooms_num'][i],CairoData['Bathrooms_num_int'][i])"
   ]
  },
  {
   "cell_type": "markdown",
   "metadata": {},
   "source": [
    "### Shared vs. Private Bathrooms"
   ]
  },
  {
   "cell_type": "code",
   "execution_count": 104,
   "metadata": {},
   "outputs": [],
   "source": [
    "CairoData['shared_bathroom']= shared_bathroom(CairoData)"
   ]
  },
  {
   "cell_type": "code",
   "execution_count": 105,
   "metadata": {},
   "outputs": [
    {
     "data": {
      "text/html": [
       "<div>\n",
       "<style scoped>\n",
       "    .dataframe tbody tr th:only-of-type {\n",
       "        vertical-align: middle;\n",
       "    }\n",
       "\n",
       "    .dataframe tbody tr th {\n",
       "        vertical-align: top;\n",
       "    }\n",
       "\n",
       "    .dataframe thead th {\n",
       "        text-align: right;\n",
       "    }\n",
       "</style>\n",
       "<table border=\"1\" class=\"dataframe\">\n",
       "  <thead>\n",
       "    <tr style=\"text-align: right;\">\n",
       "      <th></th>\n",
       "      <th>Bathrooms_num</th>\n",
       "      <th>shared_bathroom</th>\n",
       "    </tr>\n",
       "  </thead>\n",
       "  <tbody>\n",
       "    <tr>\n",
       "      <th>0</th>\n",
       "      <td>2 shared baths</td>\n",
       "      <td>True</td>\n",
       "    </tr>\n",
       "    <tr>\n",
       "      <th>1</th>\n",
       "      <td>1.5 baths</td>\n",
       "      <td>False</td>\n",
       "    </tr>\n",
       "    <tr>\n",
       "      <th>2</th>\n",
       "      <td>1 shared bath</td>\n",
       "      <td>True</td>\n",
       "    </tr>\n",
       "    <tr>\n",
       "      <th>3</th>\n",
       "      <td>1.5 private baths</td>\n",
       "      <td>False</td>\n",
       "    </tr>\n",
       "    <tr>\n",
       "      <th>4</th>\n",
       "      <td>1 shared bath</td>\n",
       "      <td>True</td>\n",
       "    </tr>\n",
       "    <tr>\n",
       "      <th>5</th>\n",
       "      <td>1 private bath</td>\n",
       "      <td>False</td>\n",
       "    </tr>\n",
       "    <tr>\n",
       "      <th>6</th>\n",
       "      <td>1 private bath</td>\n",
       "      <td>False</td>\n",
       "    </tr>\n",
       "    <tr>\n",
       "      <th>7</th>\n",
       "      <td>1.5 baths</td>\n",
       "      <td>False</td>\n",
       "    </tr>\n",
       "    <tr>\n",
       "      <th>8</th>\n",
       "      <td>1 bath</td>\n",
       "      <td>False</td>\n",
       "    </tr>\n",
       "    <tr>\n",
       "      <th>9</th>\n",
       "      <td>1 shared bath</td>\n",
       "      <td>True</td>\n",
       "    </tr>\n",
       "  </tbody>\n",
       "</table>\n",
       "</div>"
      ],
      "text/plain": [
       "       Bathrooms_num  shared_bathroom\n",
       "0     2 shared baths             True\n",
       "1          1.5 baths            False\n",
       "2      1 shared bath             True\n",
       "3  1.5 private baths            False\n",
       "4      1 shared bath             True\n",
       "5     1 private bath            False\n",
       "6     1 private bath            False\n",
       "7          1.5 baths            False\n",
       "8             1 bath            False\n",
       "9      1 shared bath             True"
      ]
     },
     "execution_count": 105,
     "metadata": {},
     "output_type": "execute_result"
    }
   ],
   "source": [
    "CairoData[['Bathrooms_num','shared_bathroom']][0:10]"
   ]
  },
  {
   "cell_type": "code",
   "execution_count": 217,
   "metadata": {},
   "outputs": [],
   "source": [
    "CairoData.shared_bathroom  = [int(i == True) for i in CairoData.shared_bathroom]\n"
   ]
  },
  {
   "cell_type": "markdown",
   "metadata": {},
   "source": [
    "### Number of Bedrooms"
   ]
  },
  {
   "cell_type": "code",
   "execution_count": 14,
   "metadata": {},
   "outputs": [
    {
     "name": "stdout",
     "output_type": "stream",
     "text": [
      "<class 'str'>\n"
     ]
    }
   ],
   "source": [
    "print(type(CairoData['Bedrooms_no'][0]))"
   ]
  },
  {
   "cell_type": "code",
   "execution_count": 107,
   "metadata": {},
   "outputs": [],
   "source": [
    "CairoData['Bedrooms_no'] = CairoData['Bedrooms_no'].str.replace('2 Single bedroom','2 bedroom')\n",
    "CairoData['Bedrooms_no'] = CairoData['Bedrooms_no'].str.replace('3bedroom','3 bedroom')\n",
    "CairoData['Bedrooms_no'] = CairoData['Bedrooms_no'].str.replace('2bedroom','2 bedroom')\n",
    "CairoData['Bedrooms_no'] = CairoData['Bedrooms_no'].str.replace('2-bedroom','2 bedroom')\n",
    "CairoData['Bedrooms_no'] = CairoData['Bedrooms_no'].str.replace('BOTH (2) comfortable DBL bedrooms','2 bedroom')\n",
    "CairoData['Bedrooms_no'] = CairoData['Bedrooms_no'].str.replace('one bedroom','1 bedroom')\n",
    "CairoData['Bedrooms_no'] = CairoData['Bedrooms_no'].str.replace('One bedroom','1 bedroom')\n",
    "CairoData['Bedrooms_no'] = CairoData['Bedrooms_no'].str.replace('Three bedroom','3 bedroom')\n",
    "CairoData['Bedrooms_no'] = CairoData['Bedrooms_no'].str.replace('Two bedroom','3 bedroom')\n"
   ]
  },
  {
   "cell_type": "code",
   "execution_count": 108,
   "metadata": {},
   "outputs": [],
   "source": [
    "CairoData['Bedrooms_int']= None "
   ]
  },
  {
   "cell_type": "code",
   "execution_count": 109,
   "metadata": {},
   "outputs": [],
   "source": [
    "CairoData['Bedrooms_int']= bedrooms_int(CairoData)"
   ]
  },
  {
   "cell_type": "code",
   "execution_count": 110,
   "metadata": {},
   "outputs": [
    {
     "data": {
      "text/plain": [
       "array(['1', '2', 'cosy', -1, '20', '3', 'Double', 'queen', 'Apartment(3',\n",
       "       '4', 'Private', '10', 'Apartment(2', '6', '15', '☀☼Sunny', 'Guest',\n",
       "       'nice', '5', '13', '9', 'DBL', '25', 'Cozy', 'Master'],\n",
       "      dtype=object)"
      ]
     },
     "execution_count": 110,
     "metadata": {},
     "output_type": "execute_result"
    }
   ],
   "source": [
    "CairoData['Bedrooms_int'].unique()"
   ]
  },
  {
   "cell_type": "code",
   "execution_count": 111,
   "metadata": {},
   "outputs": [],
   "source": [
    "oneList = ['cosy','Double', 'queen','Private','☀☼Sunny','Guest','nice','DBL','Cozy','Master']\n",
    "for i in oneList:\n",
    "    CairoData['Bedrooms_int']= CairoData['Bedrooms_int'].replace(i,'1')\n",
    "    \n",
    "CairoData['Bedrooms_int']= CairoData['Bedrooms_int'].replace('Apartment(3','3')\n",
    "CairoData['Bedrooms_int']= CairoData['Bedrooms_int'].replace('Apartment(2','2')"
   ]
  },
  {
   "cell_type": "code",
   "execution_count": 112,
   "metadata": {},
   "outputs": [
    {
     "data": {
      "text/plain": [
       "array(['1', '2', -1, '20', '3', '4', '10', '6', '15', '5', '13', '9',\n",
       "       '25'], dtype=object)"
      ]
     },
     "execution_count": 112,
     "metadata": {},
     "output_type": "execute_result"
    }
   ],
   "source": [
    "CairoData['Bedrooms_int'].unique()"
   ]
  },
  {
   "cell_type": "code",
   "execution_count": 113,
   "metadata": {},
   "outputs": [],
   "source": [
    "CairoData['Bedrooms_int'] = bedrooms_int_final(CairoData)"
   ]
  },
  {
   "cell_type": "code",
   "execution_count": 114,
   "metadata": {},
   "outputs": [
    {
     "data": {
      "text/plain": [
       "array(['1', '2', -1, '20', '3', '4', '10', '6', '15', '5', '13', '9',\n",
       "       '25'], dtype=object)"
      ]
     },
     "execution_count": 114,
     "metadata": {},
     "output_type": "execute_result"
    }
   ],
   "source": [
    "CairoData['Bedrooms_int'].unique()"
   ]
  },
  {
   "cell_type": "markdown",
   "metadata": {},
   "source": [
    "### Number of Beds"
   ]
  },
  {
   "cell_type": "code",
   "execution_count": 115,
   "metadata": {},
   "outputs": [
    {
     "name": "stdout",
     "output_type": "stream",
     "text": [
      "<class 'str'>\n",
      "['2 beds' '1 bed' '4 beds' nan 'Private room in bed and breakfast'\n",
      " '3 beds' '26 beds' '6 beds' '5 beds' '8 beds'\n",
      " 'Stylish brand new fully furnished studio apartment with queen size bed and open plan kitchen. kitchen is fully equipped with all cutlery and crockery, washing machine, cooker, microwave, kettle, toaster. bed linen and towels are provided.'\n",
      " '16 beds' '50 beds' '37 beds' '7 beds' '10 beds' '18 beds' '30 beds']\n"
     ]
    }
   ],
   "source": [
    "print(type(CairoData['Beds_no'][0]))\n",
    "print(CairoData['Beds_no'].unique())"
   ]
  },
  {
   "cell_type": "code",
   "execution_count": null,
   "metadata": {},
   "outputs": [],
   "source": [
    "CairoData[CairoData['Beds_no']== 'Stylish brand new fully furnished studio apartment with queen size bed and open plan kitchen. kitchen is fully equipped with all cutlery and crockery, washing machine, cooker, microwave, kettle, toaster. bed linen and towels are provided.'][0]"
   ]
  },
  {
   "cell_type": "code",
   "execution_count": 117,
   "metadata": {},
   "outputs": [],
   "source": [
    "for i in range(len(BangkokData)): \n",
    "    if(CairoData['Beds_no'][i]== 'Stylish brand new fully furnished studio apartment with queen size bed and open plan kitchen. kitchen is fully equipped with all cutlery and crockery, washing machine, cooker, microwave, kettle, toaster. bed linen and towels are provided.'):\n",
    "        CairoData['Beds_no'][i]= '1 bed'"
   ]
  },
  {
   "cell_type": "code",
   "execution_count": 118,
   "metadata": {},
   "outputs": [],
   "source": [
    "CairoData['Beds_int']= float(0)"
   ]
  },
  {
   "cell_type": "code",
   "execution_count": 119,
   "metadata": {},
   "outputs": [],
   "source": [
    "CairoData['Beds_int']= beds_int(CairoData)"
   ]
  },
  {
   "cell_type": "code",
   "execution_count": 120,
   "metadata": {},
   "outputs": [
    {
     "name": "stdout",
     "output_type": "stream",
     "text": [
      "2 beds 2.0\n",
      "1 bed 1.0\n",
      "1 bed 1.0\n",
      "2 beds 2.0\n",
      "1 bed 1.0\n",
      "1 bed 1.0\n",
      "1 bed 1.0\n",
      "2 beds 2.0\n",
      "1 bed 1.0\n",
      "1 bed 1.0\n"
     ]
    }
   ],
   "source": [
    "for i in range(10):\n",
    "    print(CairoData['Beds_no'][i],CairoData['Beds_int'][i])"
   ]
  },
  {
   "cell_type": "markdown",
   "metadata": {},
   "source": [
    "### Latitude"
   ]
  },
  {
   "cell_type": "code",
   "execution_count": 121,
   "metadata": {},
   "outputs": [
    {
     "name": "stdout",
     "output_type": "stream",
     "text": [
      "<class 'numpy.float64'>\n"
     ]
    }
   ],
   "source": [
    "print(type(CairoData['Latitude'][0]))"
   ]
  },
  {
   "cell_type": "markdown",
   "metadata": {},
   "source": [
    "### Longitude"
   ]
  },
  {
   "cell_type": "code",
   "execution_count": 122,
   "metadata": {},
   "outputs": [
    {
     "name": "stdout",
     "output_type": "stream",
     "text": [
      "<class 'numpy.float64'>\n"
     ]
    }
   ],
   "source": [
    "print(type(CairoData['Longitude'][0]))"
   ]
  },
  {
   "cell_type": "markdown",
   "metadata": {},
   "source": [
    "### Number of Reviews"
   ]
  },
  {
   "cell_type": "code",
   "execution_count": 12,
   "metadata": {},
   "outputs": [],
   "source": [
    "CairoData['Reviewers_no'] = reviews_num(CairoData)"
   ]
  },
  {
   "cell_type": "code",
   "execution_count": 13,
   "metadata": {},
   "outputs": [
    {
     "data": {
      "text/plain": [
       "0    -1\n",
       "1    -1\n",
       "2     6\n",
       "3     4\n",
       "4     2\n",
       "5     8\n",
       "6    19\n",
       "7    -1\n",
       "8    -1\n",
       "9    -1\n",
       "Name: Reviewers_no, dtype: int64"
      ]
     },
     "execution_count": 13,
     "metadata": {},
     "output_type": "execute_result"
    }
   ],
   "source": [
    "CairoData['Reviewers_no'].head(10)"
   ]
  },
  {
   "cell_type": "markdown",
   "metadata": {},
   "source": [
    "### Number of Amenities"
   ]
  },
  {
   "cell_type": "code",
   "execution_count": 26,
   "metadata": {},
   "outputs": [],
   "source": [
    "CairoData['Amenities_mod']= None\n",
    "CairoData['Amenities_length']= None"
   ]
  },
  {
   "cell_type": "code",
   "execution_count": 27,
   "metadata": {},
   "outputs": [],
   "source": [
    "CairoData['Amenities_mod']= amenities_to_vars(CairoData)"
   ]
  },
  {
   "cell_type": "code",
   "execution_count": 28,
   "metadata": {},
   "outputs": [],
   "source": [
    "CairoData['Amenities_length']= amenities_to_vars2(CairoData)"
   ]
  },
  {
   "cell_type": "markdown",
   "metadata": {},
   "source": [
    "## Categorical Data"
   ]
  },
  {
   "cell_type": "markdown",
   "metadata": {},
   "source": [
    "### Review Stars"
   ]
  },
  {
   "cell_type": "code",
   "execution_count": 123,
   "metadata": {},
   "outputs": [],
   "source": [
    "stars_list =['Accuracy_stars','CheckIn_stars','Cleanliness_stars','Communication_stars','Location_stars','Value_stars']"
   ]
  },
  {
   "cell_type": "markdown",
   "metadata": {},
   "source": [
    "### NewYork"
   ]
  },
  {
   "cell_type": "code",
   "execution_count": 124,
   "metadata": {},
   "outputs": [
    {
     "name": "stdout",
     "output_type": "stream",
     "text": [
      "['Rating 5 out of 5' 'Rating 4.5 out of 5' nan 'Rating 4 out of 5'\n",
      " 'Rating 2.5 out of 5' 'Rating 3.5 out of 5']\n",
      "['Rating 5 out of 5' 'Rating 4.5 out of 5' nan 'Rating 4 out of 5'\n",
      " 'Rating 3.5 out of 5' 'Rating 2 out of 5']\n",
      "['Rating 5 out of 5' 'Rating 4 out of 5' nan 'Rating 3.5 out of 5'\n",
      " 'Rating 4.5 out of 5' 'Rating 3 out of 5' 'Rating 2.5 out of 5']\n",
      "['Rating 5 out of 5' 'Rating 4.5 out of 5' nan 'Rating 4 out of 5'\n",
      " 'Rating 3.5 out of 5' 'Rating 2 out of 5']\n",
      "['Rating 5 out of 5' 'Rating 4.5 out of 5' nan 'Rating 4 out of 5'\n",
      " 'Rating 3.5 out of 5']\n",
      "['Rating 4.5 out of 5' 'Rating 4 out of 5' 'Rating 5 out of 5' nan\n",
      " 'Rating 2 out of 5' 'Rating 3.5 out of 5']\n"
     ]
    }
   ],
   "source": [
    "for i in stars_list:\n",
    "    print(NewYorkData[i].unique())\n"
   ]
  },
  {
   "cell_type": "code",
   "execution_count": null,
   "metadata": {},
   "outputs": [],
   "source": [
    "num_of_stars(NewYorkData)"
   ]
  },
  {
   "cell_type": "code",
   "execution_count": 126,
   "metadata": {},
   "outputs": [
    {
     "name": "stdout",
     "output_type": "stream",
     "text": [
      "['5' '4.5' '0' '4' '2.5' '3.5']\n",
      "['5' '4.5' '0' '4' '3.5' '2']\n",
      "['5' '4' '0' '3.5' '4.5' '3' '2.5']\n",
      "['5' '4.5' '0' '4' '3.5' '2']\n",
      "['5' '4.5' '0' '4' '3.5']\n",
      "['4.5' '4' '5' '0' '2' '3.5']\n"
     ]
    }
   ],
   "source": [
    "for i in stars_list:\n",
    "    print(NewYorkData[i].unique())\n"
   ]
  },
  {
   "cell_type": "markdown",
   "metadata": {},
   "source": [
    "### Entire Apartment vs. Shared Room vs. Private Room"
   ]
  },
  {
   "cell_type": "code",
   "execution_count": 127,
   "metadata": {},
   "outputs": [
    {
     "data": {
      "text/plain": [
       "array(['ENTIRE APARTMENT', 'PRIVATE ROOM IN APARTMENT',\n",
       "       'PRIVATE ROOM IN HOUSE', 'PRIVATE ROOM IN LOFT',\n",
       "       'PRIVATE ROOM IN TOWNHOUSE', 'PRIVATE ROOM IN BED AND BREAKFAST',\n",
       "       'SHARED ROOM IN APARTMENT', 'PRIVATE ROOM IN CONDOMINIUM',\n",
       "       'PRIVATE ROOM IN SERVICED APARTMENT',\n",
       "       'PRIVATE ROOM IN GUEST SUITE', 'PRIVATE ROOM IN HOSTEL',\n",
       "       'ENTIRE LOFT', 'ENTIRE TOWNHOUSE', 'SHARED ROOM IN LOFT',\n",
       "       'ENTIRE HOUSE', 'SHARED ROOM IN APARTHOTEL',\n",
       "       'ENTIRE SERVICED APARTMENT', 'ENTIRE CONDOMINIUM', 'PRIVATE ROOM',\n",
       "       'ROOM IN BOUTIQUE HOTEL', 'SHARED ROOM IN BED AND BREAKFAST',\n",
       "       'PRIVATE ROOM IN GUESTHOUSE', 'ENTIRE GUEST SUITE',\n",
       "       'PRIVATE ROOM IN RESORT', 'ENTIRE GUESTHOUSE',\n",
       "       'SHARED ROOM IN HOUSE', 'PRIVATE ROOM IN TINY HOUSE',\n",
       "       'ENTIRE BED AND BREAKFAST'], dtype=object)"
      ]
     },
     "execution_count": 127,
     "metadata": {},
     "output_type": "execute_result"
    }
   ],
   "source": [
    "NewYorkData.EntireHomeVsRoom.unique()"
   ]
  },
  {
   "cell_type": "code",
   "execution_count": 128,
   "metadata": {},
   "outputs": [],
   "source": [
    "## Entire apartment = 0\n",
    "## Shared room = 1\n",
    "## Private room = 2\n",
    "NewYorkData['shared_room']= int(0)"
   ]
  },
  {
   "cell_type": "code",
   "execution_count": 130,
   "metadata": {},
   "outputs": [
    {
     "data": {
      "text/plain": [
       "0             ENTIRE APARTMENT\n",
       "1    PRIVATE ROOM IN APARTMENT\n",
       "2        PRIVATE ROOM IN HOUSE\n",
       "3    PRIVATE ROOM IN APARTMENT\n",
       "4    PRIVATE ROOM IN APARTMENT\n",
       "5    PRIVATE ROOM IN APARTMENT\n",
       "6         PRIVATE ROOM IN LOFT\n",
       "7    PRIVATE ROOM IN APARTMENT\n",
       "8    PRIVATE ROOM IN APARTMENT\n",
       "9    PRIVATE ROOM IN TOWNHOUSE\n",
       "Name: EntireHomeVsRoom, dtype: object"
      ]
     },
     "execution_count": 130,
     "metadata": {},
     "output_type": "execute_result"
    }
   ],
   "source": [
    "NewYorkData['EntireHomeVsRoom'].head(10)"
   ]
  },
  {
   "cell_type": "code",
   "execution_count": 131,
   "metadata": {},
   "outputs": [],
   "source": [
    "NewYorkData['shared_room']= entire_shared_private_room(NewYorkData)"
   ]
  },
  {
   "cell_type": "code",
   "execution_count": 132,
   "metadata": {},
   "outputs": [
    {
     "name": "stdout",
     "output_type": "stream",
     "text": [
      "ENTIRE APARTMENT 0\n",
      "PRIVATE ROOM IN APARTMENT 2\n",
      "PRIVATE ROOM IN HOUSE 2\n",
      "PRIVATE ROOM IN APARTMENT 2\n",
      "PRIVATE ROOM IN APARTMENT 2\n",
      "PRIVATE ROOM IN APARTMENT 2\n",
      "PRIVATE ROOM IN LOFT 2\n",
      "PRIVATE ROOM IN APARTMENT 2\n",
      "PRIVATE ROOM IN APARTMENT 2\n",
      "PRIVATE ROOM IN TOWNHOUSE 2\n",
      "ENTIRE APARTMENT 0\n",
      "PRIVATE ROOM IN APARTMENT 2\n",
      "PRIVATE ROOM IN APARTMENT 2\n",
      "PRIVATE ROOM IN HOUSE 2\n",
      "PRIVATE ROOM IN APARTMENT 2\n",
      "PRIVATE ROOM IN BED AND BREAKFAST 2\n",
      "ENTIRE APARTMENT 0\n",
      "SHARED ROOM IN APARTMENT 1\n",
      "PRIVATE ROOM IN APARTMENT 2\n",
      "PRIVATE ROOM IN APARTMENT 2\n"
     ]
    }
   ],
   "source": [
    "for i in range(20):\n",
    "    print(NewYorkData.EntireHomeVsRoom[i],NewYorkData['shared_room'][i])"
   ]
  },
  {
   "cell_type": "markdown",
   "metadata": {},
   "source": [
    "### Sleeping Engagment"
   ]
  },
  {
   "cell_type": "code",
   "execution_count": 133,
   "metadata": {},
   "outputs": [
    {
     "name": "stdout",
     "output_type": "stream",
     "text": [
      "Bedroom 1\r\n",
      "1 small double bed\n",
      "Bedroom 1\r\n",
      "1 small double bed\n",
      "Bedroom 1\r\n",
      "1 small double bed\n",
      "Bedroom 1\r\n",
      "1 small double bed\n",
      "Bedroom 1\r\n",
      "1 small double bed\n",
      "Bedroom 1\r\n",
      "1 small double bed\n"
     ]
    }
   ],
   "source": [
    "for i in NewYorkData.Sleeping_engagment:\n",
    "    if(str(i)!='nan'):\n",
    "        if(i.split(' ')[2]=='small'):\n",
    "            print(i)"
   ]
  },
  {
   "cell_type": "code",
   "execution_count": 134,
   "metadata": {},
   "outputs": [],
   "source": [
    "NewYorkData.Sleeping_engagment = NewYorkData.Sleeping_engagment.str.replace('small double','double')"
   ]
  },
  {
   "cell_type": "code",
   "execution_count": 135,
   "metadata": {},
   "outputs": [],
   "source": [
    "NewYorkData['BedType']= None\n",
    "NewYorkData['BedType'] = bed_type(NewYorkData)\n",
    "    "
   ]
  },
  {
   "cell_type": "code",
   "execution_count": 136,
   "metadata": {},
   "outputs": [
    {
     "data": {
      "text/plain": [
       "array(['queen', 'single', None, 'king', 'double', 'bunk', 'couch', 'sofa',\n",
       "       'couches', 'couch,', 'crib', 'air', 'floor'], dtype=object)"
      ]
     },
     "execution_count": 136,
     "metadata": {},
     "output_type": "execute_result"
    }
   ],
   "source": [
    "NewYorkData['BedType'].unique()"
   ]
  },
  {
   "cell_type": "code",
   "execution_count": 140,
   "metadata": {},
   "outputs": [],
   "source": [
    "NewYorkData = one_hot_encode_bedtype(NewYorkData)"
   ]
  },
  {
   "cell_type": "code",
   "execution_count": 142,
   "metadata": {},
   "outputs": [
    {
     "data": {
      "text/plain": [
       "Index(['Accuracy_stars', 'Amenities', 'Bathrooms_num', 'Bedrooms_no',\n",
       "       'Beds_no', 'CheckIn', 'CheckIn_stars', 'CheckOut', 'Cleanliness_stars',\n",
       "       'Communication_stars', 'EntireHomeVsRoom', 'Latitude', 'Location_stars',\n",
       "       'Longitude', 'Price', 'Review', 'Sleeping_engagment', 'Super_host',\n",
       "       'Title', 'Value_stars', 'Bathrooms_num_int', 'shared_bathroom',\n",
       "       'Bedrooms_int', 'Beds_int', 'shared_room', 'BedType', 'air', 'bunk',\n",
       "       'couch', 'couch,', 'couches', 'crib', 'double', 'floor', 'king',\n",
       "       'queen', 'single', 'sofa'],\n",
       "      dtype='object')"
      ]
     },
     "execution_count": 142,
     "metadata": {},
     "output_type": "execute_result"
    }
   ],
   "source": [
    "NewYorkData.columns"
   ]
  },
  {
   "cell_type": "code",
   "execution_count": 148,
   "metadata": {},
   "outputs": [],
   "source": [
    "NewYorkData.drop(['BedType','couch,', 'couches'],axis=1, inplace=True)"
   ]
  },
  {
   "cell_type": "markdown",
   "metadata": {},
   "source": [
    "### Amenities"
   ]
  },
  {
   "cell_type": "code",
   "execution_count": 19,
   "metadata": {},
   "outputs": [],
   "source": [
    "NewYorkData['Amenities_mod']= None\n",
    "NewYorkData['Amenities_length']= None"
   ]
  },
  {
   "cell_type": "code",
   "execution_count": 20,
   "metadata": {},
   "outputs": [],
   "source": [
    "NewYorkData = amenities_to_vars(NewYorkData)"
   ]
  },
  {
   "cell_type": "code",
   "execution_count": 25,
   "metadata": {},
   "outputs": [
    {
     "data": {
      "text/plain": [
       "['Indoor fireplace',\n",
       " 'Wifi',\n",
       " 'Iron',\n",
       " 'Laptop friendly workspace',\n",
       " 'TV',\n",
       " 'Essentials',\n",
       " 'Heating',\n",
       " 'Air conditioning',\n",
       " 'Hot water',\n",
       " 'Bathtub',\n",
       " 'Fireplace guards',\n",
       " 'Kitchen',\n",
       " 'Cooking basics',\n",
       " 'Dishes and silverware',\n",
       " 'Dishwasher',\n",
       " 'Microwave',\n",
       " 'Refrigerator',\n",
       " 'Oven',\n",
       " 'Stove',\n",
       " 'Lockbox',\n",
       " 'Luggage dropoff allowed',\n",
       " 'Long term stays allowed',\n",
       " 'Hangers',\n",
       " 'Hair dryer',\n",
       " 'Shampoo',\n",
       " 'Patio or balcony',\n",
       " 'Carbon monoxide detector',\n",
       " 'Smoke detector']"
      ]
     },
     "execution_count": 25,
     "metadata": {},
     "output_type": "execute_result"
    }
   ],
   "source": [
    "NewYorkData[0]"
   ]
  },
  {
   "cell_type": "code",
   "execution_count": 152,
   "metadata": {},
   "outputs": [
    {
     "data": {
      "text/plain": [
       "28"
      ]
     },
     "execution_count": 152,
     "metadata": {},
     "output_type": "execute_result"
    }
   ],
   "source": [
    "len(NewYorkData.Amenities_mod[0])"
   ]
  },
  {
   "cell_type": "code",
   "execution_count": 153,
   "metadata": {},
   "outputs": [
    {
     "data": {
      "text/plain": [
       "['Indoor fireplace',\n",
       " 'Wifi',\n",
       " 'Iron',\n",
       " 'Laptop friendly workspace',\n",
       " 'TV',\n",
       " 'Essentials',\n",
       " 'Heating',\n",
       " 'Air conditioning',\n",
       " 'Hot water',\n",
       " 'Bathtub',\n",
       " 'Fireplace guards',\n",
       " 'Kitchen',\n",
       " 'Cooking basics',\n",
       " 'Dishes and silverware',\n",
       " 'Dishwasher',\n",
       " 'Microwave',\n",
       " 'Refrigerator',\n",
       " 'Oven',\n",
       " 'Stove',\n",
       " 'Lockbox',\n",
       " 'Luggage dropoff allowed',\n",
       " 'Long term stays allowed',\n",
       " 'Hangers',\n",
       " 'Hair dryer',\n",
       " 'Shampoo',\n",
       " 'Patio or balcony',\n",
       " 'Carbon monoxide detector',\n",
       " 'Smoke detector']"
      ]
     },
     "execution_count": 153,
     "metadata": {},
     "output_type": "execute_result"
    }
   ],
   "source": [
    "NewYorkData.Amenities_mod[0]"
   ]
  },
  {
   "cell_type": "code",
   "execution_count": 193,
   "metadata": {},
   "outputs": [],
   "source": [
    "NewYorkData=encode_amenities(NewYorkData)"
   ]
  },
  {
   "cell_type": "code",
   "execution_count": 194,
   "metadata": {},
   "outputs": [
    {
     "data": {
      "text/plain": [
       "Index(['Accuracy_stars', 'Amenities', 'Bathrooms_num', 'Bedrooms_no',\n",
       "       'Beds_no', 'CheckIn', 'CheckIn_stars', 'CheckOut', 'Cleanliness_stars',\n",
       "       'Communication_stars',\n",
       "       ...\n",
       "       'Smart lock', 'Smoke detector', 'Stair gates', 'Stove', 'TV',\n",
       "       'Table corner guards', 'Washer', 'Waterfront', 'Wifi', 'Window guards'],\n",
       "      dtype='object', length=115)"
      ]
     },
     "execution_count": 194,
     "metadata": {},
     "output_type": "execute_result"
    }
   ],
   "source": [
    "NewYorkData.columns"
   ]
  },
  {
   "cell_type": "code",
   "execution_count": 198,
   "metadata": {},
   "outputs": [],
   "source": [
    "NewYorkData.drop(['Amenities'],axis=1, inplace = True)"
   ]
  },
  {
   "cell_type": "code",
   "execution_count": 219,
   "metadata": {},
   "outputs": [],
   "source": [
    "NewYorkData.drop(['Title','EntireHomeVsRoom','Bedrooms_no','Beds_no','Bathrooms_num','Sleeping_engagment','Review'],axis=1 ,inplace = True)"
   ]
  },
  {
   "cell_type": "markdown",
   "metadata": {},
   "source": [
    "### Bangkok"
   ]
  },
  {
   "cell_type": "markdown",
   "metadata": {},
   "source": [
    "### Review Stars"
   ]
  },
  {
   "cell_type": "code",
   "execution_count": null,
   "metadata": {},
   "outputs": [],
   "source": [
    "for i in stars_list:\n",
    "    print(BangkokData[i])"
   ]
  },
  {
   "cell_type": "code",
   "execution_count": null,
   "metadata": {},
   "outputs": [],
   "source": [
    "num_of_stars(BangkokData)"
   ]
  },
  {
   "cell_type": "code",
   "execution_count": 156,
   "metadata": {},
   "outputs": [
    {
     "name": "stdout",
     "output_type": "stream",
     "text": [
      "['5' '0' '4.5' '4' '3.5']\n",
      "['5' '0' '4.5' '4' '3.5' '3']\n",
      "['4.5' '0' '5' '4' '3.5']\n",
      "['5' '0' '4.5' '4' '3.5']\n",
      "['5' '0' '4' '4.5' '3.5' '3']\n",
      "['5' '0' '4.5' '4' '2.5' '3.5']\n"
     ]
    }
   ],
   "source": [
    "for i in stars_list:\n",
    "    print(BangkokData[i].unique())"
   ]
  },
  {
   "cell_type": "markdown",
   "metadata": {},
   "source": [
    "### Entire Apartment vs. Shared Room vs. Private Room"
   ]
  },
  {
   "cell_type": "code",
   "execution_count": 157,
   "metadata": {},
   "outputs": [
    {
     "data": {
      "text/plain": [
       "array(['ENTIRE APARTMENT', 'ENTIRE CONDOMINIUM',\n",
       "       'PRIVATE ROOM IN APARTMENT', 'ENTIRE SERVICED APARTMENT',\n",
       "       'ROOM IN BOUTIQUE HOTEL', 'ENTIRE LOFT',\n",
       "       'PRIVATE ROOM IN CONDOMINIUM', 'PRIVATE ROOM IN VILLA',\n",
       "       'PRIVATE ROOM IN SERVICED APARTMENT', 'PRIVATE ROOM IN TOWNHOUSE',\n",
       "       'PRIVATE ROOM IN LOFT', 'ENTIRE PLACE', 'ENTIRE TOWNHOUSE',\n",
       "       'ROOM IN HOTEL', 'ENTIRE GUEST SUITE', 'PRIVATE ROOM IN HOSTEL',\n",
       "       'ENTIRE HOUSE', 'PRIVATE ROOM IN GUESTHOUSE',\n",
       "       'PRIVATE ROOM IN BED AND BREAKFAST', 'ENTIRE VILLA',\n",
       "       'ENTIRE GUESTHOUSE', 'PRIVATE ROOM IN HOUSE', 'ROOM IN APARTHOTEL',\n",
       "       'SHARED ROOM IN HOSTEL', 'ENTIRE HOSTEL', 'TINY HOUSE',\n",
       "       'ENTIRE COTTAGE', nan], dtype=object)"
      ]
     },
     "execution_count": 157,
     "metadata": {},
     "output_type": "execute_result"
    }
   ],
   "source": [
    "BangkokData.EntireHomeVsRoom.unique()"
   ]
  },
  {
   "cell_type": "code",
   "execution_count": 158,
   "metadata": {},
   "outputs": [],
   "source": [
    "## Entire apartment = 0\n",
    "## Shared room = 1\n",
    "## Private room = 2\n",
    "BangkokData['shared_room']= int(0)"
   ]
  },
  {
   "cell_type": "code",
   "execution_count": 159,
   "metadata": {},
   "outputs": [],
   "source": [
    "BangkokData['shared_room']=entire_shared_private_room(BangkokData)\n"
   ]
  },
  {
   "cell_type": "code",
   "execution_count": 160,
   "metadata": {},
   "outputs": [
    {
     "name": "stdout",
     "output_type": "stream",
     "text": [
      "ENTIRE APARTMENT 0\n",
      "ENTIRE APARTMENT 0\n",
      "ENTIRE CONDOMINIUM 0\n",
      "ENTIRE CONDOMINIUM 0\n",
      "ENTIRE APARTMENT 0\n",
      "ENTIRE CONDOMINIUM 0\n",
      "PRIVATE ROOM IN APARTMENT 2\n",
      "ENTIRE APARTMENT 0\n",
      "ENTIRE CONDOMINIUM 0\n",
      "ENTIRE APARTMENT 0\n",
      "ENTIRE APARTMENT 0\n",
      "ENTIRE SERVICED APARTMENT 0\n",
      "ENTIRE CONDOMINIUM 0\n",
      "ROOM IN BOUTIQUE HOTEL 2\n",
      "ENTIRE APARTMENT 0\n",
      "ENTIRE APARTMENT 0\n",
      "ENTIRE APARTMENT 0\n",
      "ENTIRE CONDOMINIUM 0\n",
      "ENTIRE APARTMENT 0\n",
      "ENTIRE CONDOMINIUM 0\n",
      "ENTIRE APARTMENT 0\n",
      "ENTIRE CONDOMINIUM 0\n",
      "ENTIRE APARTMENT 0\n",
      "ENTIRE APARTMENT 0\n",
      "ENTIRE CONDOMINIUM 0\n",
      "ENTIRE APARTMENT 0\n",
      "ENTIRE CONDOMINIUM 0\n",
      "ENTIRE APARTMENT 0\n",
      "ENTIRE LOFT 0\n",
      "ENTIRE APARTMENT 0\n"
     ]
    }
   ],
   "source": [
    "for i in range(30):\n",
    "    print(BangkokData.EntireHomeVsRoom[i],BangkokData['shared_room'][i])"
   ]
  },
  {
   "cell_type": "markdown",
   "metadata": {},
   "source": [
    "### Bed Type"
   ]
  },
  {
   "cell_type": "code",
   "execution_count": 161,
   "metadata": {},
   "outputs": [],
   "source": [
    "for i in BangkokData.Sleeping_engagment:\n",
    "    if(str(i)!='nan'):\n",
    "        if(i.split(' ')[2]=='small'):\n",
    "            print(i)"
   ]
  },
  {
   "cell_type": "code",
   "execution_count": 162,
   "metadata": {},
   "outputs": [],
   "source": [
    "BangkokData.Sleeping_engagment = BangkokData.Sleeping_engagment.str.replace('small double','double')"
   ]
  },
  {
   "cell_type": "code",
   "execution_count": 163,
   "metadata": {},
   "outputs": [],
   "source": [
    "BangkokData['BedType']= None\n",
    "BangkokData['BedType']= bed_type(BangkokData)"
   ]
  },
  {
   "cell_type": "code",
   "execution_count": 164,
   "metadata": {},
   "outputs": [
    {
     "data": {
      "text/plain": [
       "array(['queen', 'double', 'king', None, 'sofa', 'floor', 'single',\n",
       "       'couch', 'air', 'couch,', 'bunk'], dtype=object)"
      ]
     },
     "execution_count": 164,
     "metadata": {},
     "output_type": "execute_result"
    }
   ],
   "source": [
    "BangkokData['BedType'].unique()"
   ]
  },
  {
   "cell_type": "code",
   "execution_count": 165,
   "metadata": {},
   "outputs": [],
   "source": [
    "BangkokData = one_hot_encode_bedtype(BangkokData)"
   ]
  },
  {
   "cell_type": "code",
   "execution_count": 167,
   "metadata": {},
   "outputs": [],
   "source": [
    "BangkokData.drop(['BedType','couch,'],axis=1, inplace=True)"
   ]
  },
  {
   "cell_type": "markdown",
   "metadata": {},
   "source": [
    "### Amenities"
   ]
  },
  {
   "cell_type": "code",
   "execution_count": null,
   "metadata": {
    "scrolled": true
   },
   "outputs": [],
   "source": [
    "BangkokData.Amenities.unique()"
   ]
  },
  {
   "cell_type": "code",
   "execution_count": 169,
   "metadata": {},
   "outputs": [
    {
     "name": "stdout",
     "output_type": "stream",
     "text": [
      "['Wifi', 'Iron', 'Cable TV', 'Laptop friendly workspace', 'Dryer', 'Washer', 'Essentials', 'Air conditioning', 'TV', 'Hot water', 'Elevator', 'Gym', 'Pool', 'Kitchen', 'Coffee maker', 'Cooking basics', 'Dishes and silverware', 'Microwave', 'Refrigerator', 'Stove', 'Long term stays allowed', 'Hair dryer', 'Hangers', 'Shampoo', 'Smoke detector']\n"
     ]
    }
   ],
   "source": [
    "print(BangkokData.Amenities[0])"
   ]
  },
  {
   "cell_type": "code",
   "execution_count": 170,
   "metadata": {},
   "outputs": [],
   "source": [
    "BangkokData['Amenities_mod'] = None"
   ]
  },
  {
   "cell_type": "code",
   "execution_count": 171,
   "metadata": {},
   "outputs": [],
   "source": [
    "BangkokData['Amenities_mod']= amenities_to_vars(BangkokData)"
   ]
  },
  {
   "cell_type": "code",
   "execution_count": 172,
   "metadata": {},
   "outputs": [
    {
     "data": {
      "text/plain": [
       "0    [Wifi, Iron, Cable TV, Laptop friendly workspa...\n",
       "1    [Wifi, Indoor fireplace, Heating, Iron, Laptop...\n",
       "2    [Wifi, Heating, Laptop friendly workspace, Dry...\n",
       "Name: Amenities_mod, dtype: object"
      ]
     },
     "execution_count": 172,
     "metadata": {},
     "output_type": "execute_result"
    }
   ],
   "source": [
    "BangkokData['Amenities_mod'][0:3]"
   ]
  },
  {
   "cell_type": "code",
   "execution_count": 199,
   "metadata": {},
   "outputs": [],
   "source": [
    "BangkokData = encode_amenities(BangkokData)"
   ]
  },
  {
   "cell_type": "code",
   "execution_count": 202,
   "metadata": {},
   "outputs": [],
   "source": [
    "BangkokData.drop(['Amenities'],axis =1, inplace = True)"
   ]
  },
  {
   "cell_type": "code",
   "execution_count": 220,
   "metadata": {},
   "outputs": [],
   "source": [
    "BangkokData.drop(['Title','EntireHomeVsRoom','Bedrooms_no','Beds_no','Bathrooms_num','Sleeping_engagment','Review'],axis=1 ,inplace = True)"
   ]
  },
  {
   "cell_type": "markdown",
   "metadata": {},
   "source": [
    "### Cairo"
   ]
  },
  {
   "cell_type": "markdown",
   "metadata": {},
   "source": [
    "### Review Stars"
   ]
  },
  {
   "cell_type": "code",
   "execution_count": null,
   "metadata": {},
   "outputs": [],
   "source": [
    "num_of_stars(CairoData)"
   ]
  },
  {
   "cell_type": "code",
   "execution_count": 176,
   "metadata": {},
   "outputs": [
    {
     "name": "stdout",
     "output_type": "stream",
     "text": [
      "['0' '4' '5' '4.5' '3.5' '3']\n",
      "['0' '5' '4.5' '4' '3.5']\n",
      "['0' '3.5' '5' '4.5' '4' '3']\n",
      "['0' '5' '4.5' '4' '3.5']\n",
      "['0' '4.5' '5' '4' '3.5']\n",
      "['0' '4' '5' '4.5' '3.5' '3']\n"
     ]
    }
   ],
   "source": [
    "for i in stars_list:\n",
    "    print(CairoData[i].unique())\n"
   ]
  },
  {
   "cell_type": "markdown",
   "metadata": {},
   "source": [
    "### Entire Apartment vs. Shared Room vs. Private Room"
   ]
  },
  {
   "cell_type": "code",
   "execution_count": 177,
   "metadata": {},
   "outputs": [
    {
     "data": {
      "text/plain": [
       "array(['Private room in apartment', 'Entire apartment',\n",
       "       'Private room in condominium', 'Room in hotel',\n",
       "       'Private room in hostel', 'Entire serviced apartment',\n",
       "       'Entire condominium', 'Private room in bed and breakfast',\n",
       "       'Entire house', 'Room in boutique hotel', 'Private room in house',\n",
       "       'Private room in guesthouse', 'Private room in serviced apartment',\n",
       "       'Shared room in hostel', 'Private room in tiny house',\n",
       "       'Tiny house', 'Private room in villa', 'Shared room in apartment',\n",
       "       'Entire villa', 'Earth house', 'Private room in guest suite',\n",
       "       'Shared room in villa', 'Entire guest suite',\n",
       "       'Private room in loft', 'Entire loft', 'Entire townhouse',\n",
       "       'Private room in boat', 'Entire chalet', 'Shared room in house'],\n",
       "      dtype=object)"
      ]
     },
     "execution_count": 177,
     "metadata": {},
     "output_type": "execute_result"
    }
   ],
   "source": [
    "CairoData.EntireHomeVsRoom.unique()"
   ]
  },
  {
   "cell_type": "code",
   "execution_count": 178,
   "metadata": {},
   "outputs": [],
   "source": [
    "CairoData['shared_room']= int(0)"
   ]
  },
  {
   "cell_type": "code",
   "execution_count": 179,
   "metadata": {},
   "outputs": [],
   "source": [
    "CairoData['shared_room'] = entire_shared_private_room(CairoData)"
   ]
  },
  {
   "cell_type": "code",
   "execution_count": 180,
   "metadata": {},
   "outputs": [
    {
     "name": "stdout",
     "output_type": "stream",
     "text": [
      "Private room in apartment 2\n",
      "Entire apartment 0\n",
      "Private room in apartment 2\n",
      "Private room in condominium 2\n",
      "Private room in apartment 2\n",
      "Private room in apartment 2\n",
      "Room in hotel 2\n",
      "Entire apartment 0\n",
      "Entire apartment 0\n",
      "Private room in hostel 2\n",
      "Private room in apartment 2\n",
      "Entire serviced apartment 0\n",
      "Private room in apartment 2\n",
      "Entire serviced apartment 0\n",
      "Room in hotel 2\n",
      "Private room in apartment 2\n",
      "Entire condominium 0\n",
      "Private room in bed and breakfast 2\n",
      "Entire apartment 0\n",
      "Private room in apartment 2\n"
     ]
    }
   ],
   "source": [
    "for i in range(20):\n",
    "    print(CairoData.EntireHomeVsRoom[i],CairoData['shared_room'][i])"
   ]
  },
  {
   "cell_type": "markdown",
   "metadata": {},
   "source": [
    "### Bed Type"
   ]
  },
  {
   "cell_type": "code",
   "execution_count": 181,
   "metadata": {},
   "outputs": [
    {
     "name": "stdout",
     "output_type": "stream",
     "text": [
      "Bedroom 1\n",
      "2 small double beds\n",
      "Bedroom 1\n",
      "1 small double bed\n",
      "Bedroom 1\n",
      "1 small double bed\n",
      "Bedroom 1\n",
      "1 small double bed\n",
      "Bedroom 1\n",
      "1 small double bed\n",
      "Bedroom 1\n",
      "1 small double bed\n",
      "Bedroom 1\n",
      "1 small double bed\n",
      "Bedroom 1\n",
      "1 small double bed\n",
      "Bedroom 1\n",
      "1 small double bed\n",
      "Bedroom 1\n",
      "1 small double bed\n",
      "Bedroom 1\n",
      "1 small double bed\n"
     ]
    }
   ],
   "source": [
    "for i in CairoData.Sleeping_engagment:\n",
    "    if(str(i)!='nan'):\n",
    "        if(i.split(' ')[2]=='small'):\n",
    "            print(i)"
   ]
  },
  {
   "cell_type": "code",
   "execution_count": 182,
   "metadata": {},
   "outputs": [],
   "source": [
    "CairoData.Sleeping_engagment = CairoData.Sleeping_engagment.str.replace('small double','double')"
   ]
  },
  {
   "cell_type": "code",
   "execution_count": 183,
   "metadata": {},
   "outputs": [],
   "source": [
    "CairoData['BedType']= None\n",
    "CairoData['BedType']= bed_type(CairoData)"
   ]
  },
  {
   "cell_type": "code",
   "execution_count": 184,
   "metadata": {},
   "outputs": [
    {
     "data": {
      "text/plain": [
       "array(['queen', None, 'single', 'double', 'sofa', 'king', 'floor',\n",
       "       'couch', 'couches', 'couch,', 'air', 'bunk'], dtype=object)"
      ]
     },
     "execution_count": 184,
     "metadata": {},
     "output_type": "execute_result"
    }
   ],
   "source": [
    "CairoData['BedType'].unique()"
   ]
  },
  {
   "cell_type": "code",
   "execution_count": 186,
   "metadata": {},
   "outputs": [],
   "source": [
    "CairoData = one_hot_encode_bedtype(CairoData)"
   ]
  },
  {
   "cell_type": "code",
   "execution_count": 187,
   "metadata": {},
   "outputs": [],
   "source": [
    "CairoData.drop(['couches', 'couch,','BedType'],axis=1, inplace=True)"
   ]
  },
  {
   "cell_type": "markdown",
   "metadata": {},
   "source": [
    "### Amenities"
   ]
  },
  {
   "cell_type": "code",
   "execution_count": null,
   "metadata": {},
   "outputs": [],
   "source": [
    "CairoData.Amenities.unique()"
   ]
  },
  {
   "cell_type": "code",
   "execution_count": 189,
   "metadata": {},
   "outputs": [
    {
     "data": {
      "text/plain": [
       "\"['Wifi', 'Indoor fireplace', 'Dryer', 'Laptop friendly workspace', 'Iron', 'Heating', 'Washer', 'TV', 'Air conditioning', 'Essentials', 'Elevator', 'Free parking on premises', 'Kitchen', 'Breakfast', 'Private living room', 'Hair dryer', 'Shampoo', 'Hangers', 'Lock on bedroom door', 'Fire extinguisher', 'Carbon monoxide detector', 'Smoke detector', 'First aid kit']\""
      ]
     },
     "execution_count": 189,
     "metadata": {},
     "output_type": "execute_result"
    }
   ],
   "source": [
    "CairoData.Amenities[0]"
   ]
  },
  {
   "cell_type": "code",
   "execution_count": 190,
   "metadata": {},
   "outputs": [],
   "source": [
    "CairoData['Amenities_mod'] = None"
   ]
  },
  {
   "cell_type": "code",
   "execution_count": 191,
   "metadata": {},
   "outputs": [],
   "source": [
    "CairoData['Amenities_mod'] = amenities_to_vars(CairoData)"
   ]
  },
  {
   "cell_type": "code",
   "execution_count": 192,
   "metadata": {},
   "outputs": [
    {
     "data": {
      "text/plain": [
       "['Wifi',\n",
       " 'Indoor fireplace',\n",
       " 'Dryer',\n",
       " 'Laptop friendly workspace',\n",
       " 'Iron',\n",
       " 'Heating',\n",
       " 'Washer',\n",
       " 'TV',\n",
       " 'Air conditioning',\n",
       " 'Essentials',\n",
       " 'Elevator',\n",
       " 'Free parking on premises',\n",
       " 'Kitchen',\n",
       " 'Breakfast',\n",
       " 'Private living room',\n",
       " 'Hair dryer',\n",
       " 'Shampoo',\n",
       " 'Hangers',\n",
       " 'Lock on bedroom door',\n",
       " 'Fire extinguisher',\n",
       " 'Carbon monoxide detector',\n",
       " 'Smoke detector',\n",
       " 'First aid kit']"
      ]
     },
     "execution_count": 192,
     "metadata": {},
     "output_type": "execute_result"
    }
   ],
   "source": [
    "CairoData.Amenities_mod[0]"
   ]
  },
  {
   "cell_type": "code",
   "execution_count": 203,
   "metadata": {},
   "outputs": [],
   "source": [
    "CairoData= encode_amenities(CairoData)"
   ]
  },
  {
   "cell_type": "code",
   "execution_count": 205,
   "metadata": {},
   "outputs": [],
   "source": [
    "CairoData.drop(['Amenities'],axis=1 ,inplace = True)"
   ]
  },
  {
   "cell_type": "code",
   "execution_count": 221,
   "metadata": {},
   "outputs": [],
   "source": [
    "CairoData.drop(['Title','EntireHomeVsRoom','Bedrooms_no','Beds_no','Bathrooms_num','Sleeping_engagment','Review'],axis=1 ,inplace = True)"
   ]
  },
  {
   "cell_type": "markdown",
   "metadata": {},
   "source": [
    "### NewYork"
   ]
  },
  {
   "cell_type": "code",
   "execution_count": 222,
   "metadata": {},
   "outputs": [
    {
     "name": "stdout",
     "output_type": "stream",
     "text": [
      "107\n"
     ]
    },
    {
     "data": {
      "text/plain": [
       "Index(['Accuracy_stars', 'CheckIn', 'CheckIn_stars', 'CheckOut',\n",
       "       'Cleanliness_stars', 'Communication_stars', 'Latitude',\n",
       "       'Location_stars', 'Longitude', 'Price',\n",
       "       ...\n",
       "       'Smart lock', 'Smoke detector', 'Stair gates', 'Stove', 'TV',\n",
       "       'Table corner guards', 'Washer', 'Waterfront', 'Wifi', 'Window guards'],\n",
       "      dtype='object', length=107)"
      ]
     },
     "execution_count": 222,
     "metadata": {},
     "output_type": "execute_result"
    }
   ],
   "source": [
    "print(len(NewYorkData.columns))\n",
    "NewYorkData.columns"
   ]
  },
  {
   "cell_type": "code",
   "execution_count": 223,
   "metadata": {},
   "outputs": [
    {
     "data": {
      "text/html": [
       "<div>\n",
       "<style scoped>\n",
       "    .dataframe tbody tr th:only-of-type {\n",
       "        vertical-align: middle;\n",
       "    }\n",
       "\n",
       "    .dataframe tbody tr th {\n",
       "        vertical-align: top;\n",
       "    }\n",
       "\n",
       "    .dataframe thead th {\n",
       "        text-align: right;\n",
       "    }\n",
       "</style>\n",
       "<table border=\"1\" class=\"dataframe\">\n",
       "  <thead>\n",
       "    <tr style=\"text-align: right;\">\n",
       "      <th></th>\n",
       "      <th>Accuracy_stars</th>\n",
       "      <th>CheckIn</th>\n",
       "      <th>CheckIn_stars</th>\n",
       "      <th>CheckOut</th>\n",
       "      <th>Cleanliness_stars</th>\n",
       "      <th>Communication_stars</th>\n",
       "      <th>Latitude</th>\n",
       "      <th>Location_stars</th>\n",
       "      <th>Longitude</th>\n",
       "      <th>Price</th>\n",
       "      <th>...</th>\n",
       "      <th>Smart lock</th>\n",
       "      <th>Smoke detector</th>\n",
       "      <th>Stair gates</th>\n",
       "      <th>Stove</th>\n",
       "      <th>TV</th>\n",
       "      <th>Table corner guards</th>\n",
       "      <th>Washer</th>\n",
       "      <th>Waterfront</th>\n",
       "      <th>Wifi</th>\n",
       "      <th>Window guards</th>\n",
       "    </tr>\n",
       "  </thead>\n",
       "  <tbody>\n",
       "    <tr>\n",
       "      <th>0</th>\n",
       "      <td>5</td>\n",
       "      <td>2019-03-21 00:00:00</td>\n",
       "      <td>5</td>\n",
       "      <td>2019-03-26 00:00:00</td>\n",
       "      <td>5</td>\n",
       "      <td>5</td>\n",
       "      <td>40.73321</td>\n",
       "      <td>5</td>\n",
       "      <td>-74.00242</td>\n",
       "      <td>244.0</td>\n",
       "      <td>...</td>\n",
       "      <td>0</td>\n",
       "      <td>1</td>\n",
       "      <td>0</td>\n",
       "      <td>1</td>\n",
       "      <td>1</td>\n",
       "      <td>0</td>\n",
       "      <td>0</td>\n",
       "      <td>0</td>\n",
       "      <td>1</td>\n",
       "      <td>0</td>\n",
       "    </tr>\n",
       "    <tr>\n",
       "      <th>1</th>\n",
       "      <td>4.5</td>\n",
       "      <td>2019-03-21 00:00:00</td>\n",
       "      <td>4.5</td>\n",
       "      <td>2019-03-26 00:00:00</td>\n",
       "      <td>4</td>\n",
       "      <td>4.5</td>\n",
       "      <td>40.76580</td>\n",
       "      <td>5</td>\n",
       "      <td>-73.95812</td>\n",
       "      <td>62.0</td>\n",
       "      <td>...</td>\n",
       "      <td>0</td>\n",
       "      <td>1</td>\n",
       "      <td>0</td>\n",
       "      <td>0</td>\n",
       "      <td>0</td>\n",
       "      <td>0</td>\n",
       "      <td>0</td>\n",
       "      <td>0</td>\n",
       "      <td>1</td>\n",
       "      <td>0</td>\n",
       "    </tr>\n",
       "    <tr>\n",
       "      <th>2</th>\n",
       "      <td>5</td>\n",
       "      <td>2019-03-21 00:00:00</td>\n",
       "      <td>5</td>\n",
       "      <td>2019-03-26 00:00:00</td>\n",
       "      <td>5</td>\n",
       "      <td>5</td>\n",
       "      <td>40.75972</td>\n",
       "      <td>4.5</td>\n",
       "      <td>-74.03827</td>\n",
       "      <td>44.0</td>\n",
       "      <td>...</td>\n",
       "      <td>0</td>\n",
       "      <td>1</td>\n",
       "      <td>0</td>\n",
       "      <td>0</td>\n",
       "      <td>0</td>\n",
       "      <td>0</td>\n",
       "      <td>0</td>\n",
       "      <td>0</td>\n",
       "      <td>1</td>\n",
       "      <td>0</td>\n",
       "    </tr>\n",
       "    <tr>\n",
       "      <th>3</th>\n",
       "      <td>5</td>\n",
       "      <td>2019-03-21 00:00:00</td>\n",
       "      <td>5</td>\n",
       "      <td>2019-03-26 00:00:00</td>\n",
       "      <td>5</td>\n",
       "      <td>5</td>\n",
       "      <td>40.81386</td>\n",
       "      <td>5</td>\n",
       "      <td>-73.95936</td>\n",
       "      <td>78.0</td>\n",
       "      <td>...</td>\n",
       "      <td>0</td>\n",
       "      <td>1</td>\n",
       "      <td>0</td>\n",
       "      <td>1</td>\n",
       "      <td>0</td>\n",
       "      <td>0</td>\n",
       "      <td>0</td>\n",
       "      <td>0</td>\n",
       "      <td>1</td>\n",
       "      <td>0</td>\n",
       "    </tr>\n",
       "    <tr>\n",
       "      <th>4</th>\n",
       "      <td>5</td>\n",
       "      <td>2019-03-21 00:00:00</td>\n",
       "      <td>5</td>\n",
       "      <td>2019-03-26 00:00:00</td>\n",
       "      <td>5</td>\n",
       "      <td>5</td>\n",
       "      <td>40.69284</td>\n",
       "      <td>4.5</td>\n",
       "      <td>-73.94418</td>\n",
       "      <td>80.0</td>\n",
       "      <td>...</td>\n",
       "      <td>0</td>\n",
       "      <td>1</td>\n",
       "      <td>0</td>\n",
       "      <td>0</td>\n",
       "      <td>0</td>\n",
       "      <td>0</td>\n",
       "      <td>1</td>\n",
       "      <td>0</td>\n",
       "      <td>1</td>\n",
       "      <td>0</td>\n",
       "    </tr>\n",
       "  </tbody>\n",
       "</table>\n",
       "<p>5 rows × 107 columns</p>\n",
       "</div>"
      ],
      "text/plain": [
       "  Accuracy_stars              CheckIn CheckIn_stars             CheckOut  \\\n",
       "0              5  2019-03-21 00:00:00             5  2019-03-26 00:00:00   \n",
       "1            4.5  2019-03-21 00:00:00           4.5  2019-03-26 00:00:00   \n",
       "2              5  2019-03-21 00:00:00             5  2019-03-26 00:00:00   \n",
       "3              5  2019-03-21 00:00:00             5  2019-03-26 00:00:00   \n",
       "4              5  2019-03-21 00:00:00             5  2019-03-26 00:00:00   \n",
       "\n",
       "  Cleanliness_stars Communication_stars  Latitude Location_stars  Longitude  \\\n",
       "0                 5                   5  40.73321              5  -74.00242   \n",
       "1                 4                 4.5  40.76580              5  -73.95812   \n",
       "2                 5                   5  40.75972            4.5  -74.03827   \n",
       "3                 5                   5  40.81386              5  -73.95936   \n",
       "4                 5                   5  40.69284            4.5  -73.94418   \n",
       "\n",
       "   Price      ...        Smart lock Smoke detector  Stair gates  Stove TV  \\\n",
       "0  244.0      ...                 0              1            0      1  1   \n",
       "1   62.0      ...                 0              1            0      0  0   \n",
       "2   44.0      ...                 0              1            0      0  0   \n",
       "3   78.0      ...                 0              1            0      1  0   \n",
       "4   80.0      ...                 0              1            0      0  0   \n",
       "\n",
       "   Table corner guards  Washer  Waterfront  Wifi  Window guards  \n",
       "0                    0       0           0     1              0  \n",
       "1                    0       0           0     1              0  \n",
       "2                    0       0           0     1              0  \n",
       "3                    0       0           0     1              0  \n",
       "4                    0       1           0     1              0  \n",
       "\n",
       "[5 rows x 107 columns]"
      ]
     },
     "execution_count": 223,
     "metadata": {},
     "output_type": "execute_result"
    }
   ],
   "source": [
    "NewYorkData.head()"
   ]
  },
  {
   "cell_type": "markdown",
   "metadata": {},
   "source": [
    "### Bangkok"
   ]
  },
  {
   "cell_type": "code",
   "execution_count": 224,
   "metadata": {},
   "outputs": [
    {
     "name": "stdout",
     "output_type": "stream",
     "text": [
      "105\n"
     ]
    },
    {
     "data": {
      "text/plain": [
       "Index(['CheckIn', 'CheckOut', 'Price', 'Super_host', 'Latitude', 'Longitude',\n",
       "       'Accuracy_stars', 'Communication_stars', 'Cleanliness_stars',\n",
       "       'Location_stars',\n",
       "       ...\n",
       "       'Smart lock', 'Smoke detector', 'Stair gates', 'Stove', 'TV',\n",
       "       'Table corner guards', 'Washer', 'Waterfront', 'Wifi', 'Window guards'],\n",
       "      dtype='object', length=105)"
      ]
     },
     "execution_count": 224,
     "metadata": {},
     "output_type": "execute_result"
    }
   ],
   "source": [
    "print(len(BangkokData.columns))\n",
    "BangkokData.columns"
   ]
  },
  {
   "cell_type": "code",
   "execution_count": 225,
   "metadata": {},
   "outputs": [
    {
     "data": {
      "text/html": [
       "<div>\n",
       "<style scoped>\n",
       "    .dataframe tbody tr th:only-of-type {\n",
       "        vertical-align: middle;\n",
       "    }\n",
       "\n",
       "    .dataframe tbody tr th {\n",
       "        vertical-align: top;\n",
       "    }\n",
       "\n",
       "    .dataframe thead th {\n",
       "        text-align: right;\n",
       "    }\n",
       "</style>\n",
       "<table border=\"1\" class=\"dataframe\">\n",
       "  <thead>\n",
       "    <tr style=\"text-align: right;\">\n",
       "      <th></th>\n",
       "      <th>CheckIn</th>\n",
       "      <th>CheckOut</th>\n",
       "      <th>Price</th>\n",
       "      <th>Super_host</th>\n",
       "      <th>Latitude</th>\n",
       "      <th>Longitude</th>\n",
       "      <th>Accuracy_stars</th>\n",
       "      <th>Communication_stars</th>\n",
       "      <th>Cleanliness_stars</th>\n",
       "      <th>Location_stars</th>\n",
       "      <th>...</th>\n",
       "      <th>Smart lock</th>\n",
       "      <th>Smoke detector</th>\n",
       "      <th>Stair gates</th>\n",
       "      <th>Stove</th>\n",
       "      <th>TV</th>\n",
       "      <th>Table corner guards</th>\n",
       "      <th>Washer</th>\n",
       "      <th>Waterfront</th>\n",
       "      <th>Wifi</th>\n",
       "      <th>Window guards</th>\n",
       "    </tr>\n",
       "  </thead>\n",
       "  <tbody>\n",
       "    <tr>\n",
       "      <th>0</th>\n",
       "      <td>2019-03-12 0:00</td>\n",
       "      <td>2019-03-17 0:00</td>\n",
       "      <td>34.0</td>\n",
       "      <td>1</td>\n",
       "      <td>13.78165</td>\n",
       "      <td>100.57453</td>\n",
       "      <td>5</td>\n",
       "      <td>5</td>\n",
       "      <td>4.5</td>\n",
       "      <td>5</td>\n",
       "      <td>...</td>\n",
       "      <td>0</td>\n",
       "      <td>1</td>\n",
       "      <td>0</td>\n",
       "      <td>1</td>\n",
       "      <td>1</td>\n",
       "      <td>0</td>\n",
       "      <td>1</td>\n",
       "      <td>0</td>\n",
       "      <td>1</td>\n",
       "      <td>0</td>\n",
       "    </tr>\n",
       "    <tr>\n",
       "      <th>1</th>\n",
       "      <td>2019-03-12 0:00</td>\n",
       "      <td>2019-03-17 0:00</td>\n",
       "      <td>48.0</td>\n",
       "      <td>0</td>\n",
       "      <td>13.69750</td>\n",
       "      <td>100.60708</td>\n",
       "      <td>0</td>\n",
       "      <td>0</td>\n",
       "      <td>0</td>\n",
       "      <td>0</td>\n",
       "      <td>...</td>\n",
       "      <td>0</td>\n",
       "      <td>1</td>\n",
       "      <td>0</td>\n",
       "      <td>0</td>\n",
       "      <td>1</td>\n",
       "      <td>0</td>\n",
       "      <td>1</td>\n",
       "      <td>0</td>\n",
       "      <td>1</td>\n",
       "      <td>0</td>\n",
       "    </tr>\n",
       "    <tr>\n",
       "      <th>2</th>\n",
       "      <td>2019-03-12 0:00</td>\n",
       "      <td>2019-03-17 0:00</td>\n",
       "      <td>27.0</td>\n",
       "      <td>1</td>\n",
       "      <td>13.71252</td>\n",
       "      <td>100.46783</td>\n",
       "      <td>5</td>\n",
       "      <td>5</td>\n",
       "      <td>5</td>\n",
       "      <td>4</td>\n",
       "      <td>...</td>\n",
       "      <td>0</td>\n",
       "      <td>1</td>\n",
       "      <td>0</td>\n",
       "      <td>0</td>\n",
       "      <td>1</td>\n",
       "      <td>0</td>\n",
       "      <td>1</td>\n",
       "      <td>0</td>\n",
       "      <td>1</td>\n",
       "      <td>0</td>\n",
       "    </tr>\n",
       "    <tr>\n",
       "      <th>3</th>\n",
       "      <td>2019-03-12 0:00</td>\n",
       "      <td>2019-03-17 0:00</td>\n",
       "      <td>35.0</td>\n",
       "      <td>0</td>\n",
       "      <td>13.72032</td>\n",
       "      <td>100.49623</td>\n",
       "      <td>5</td>\n",
       "      <td>5</td>\n",
       "      <td>4.5</td>\n",
       "      <td>5</td>\n",
       "      <td>...</td>\n",
       "      <td>0</td>\n",
       "      <td>1</td>\n",
       "      <td>0</td>\n",
       "      <td>1</td>\n",
       "      <td>1</td>\n",
       "      <td>0</td>\n",
       "      <td>1</td>\n",
       "      <td>0</td>\n",
       "      <td>1</td>\n",
       "      <td>1</td>\n",
       "    </tr>\n",
       "    <tr>\n",
       "      <th>4</th>\n",
       "      <td>2019-03-12 0:00</td>\n",
       "      <td>2019-03-17 0:00</td>\n",
       "      <td>34.0</td>\n",
       "      <td>1</td>\n",
       "      <td>13.75738</td>\n",
       "      <td>100.56318</td>\n",
       "      <td>0</td>\n",
       "      <td>0</td>\n",
       "      <td>0</td>\n",
       "      <td>0</td>\n",
       "      <td>...</td>\n",
       "      <td>0</td>\n",
       "      <td>0</td>\n",
       "      <td>0</td>\n",
       "      <td>0</td>\n",
       "      <td>1</td>\n",
       "      <td>0</td>\n",
       "      <td>1</td>\n",
       "      <td>0</td>\n",
       "      <td>1</td>\n",
       "      <td>0</td>\n",
       "    </tr>\n",
       "  </tbody>\n",
       "</table>\n",
       "<p>5 rows × 105 columns</p>\n",
       "</div>"
      ],
      "text/plain": [
       "           CheckIn         CheckOut  Price  Super_host  Latitude  Longitude  \\\n",
       "0  2019-03-12 0:00  2019-03-17 0:00   34.0           1  13.78165  100.57453   \n",
       "1  2019-03-12 0:00  2019-03-17 0:00   48.0           0  13.69750  100.60708   \n",
       "2  2019-03-12 0:00  2019-03-17 0:00   27.0           1  13.71252  100.46783   \n",
       "3  2019-03-12 0:00  2019-03-17 0:00   35.0           0  13.72032  100.49623   \n",
       "4  2019-03-12 0:00  2019-03-17 0:00   34.0           1  13.75738  100.56318   \n",
       "\n",
       "  Accuracy_stars Communication_stars Cleanliness_stars Location_stars  \\\n",
       "0              5                   5               4.5              5   \n",
       "1              0                   0                 0              0   \n",
       "2              5                   5                 5              4   \n",
       "3              5                   5               4.5              5   \n",
       "4              0                   0                 0              0   \n",
       "\n",
       "       ...       Smart lock Smoke detector  Stair gates  Stove TV  \\\n",
       "0      ...                0              1            0      1  1   \n",
       "1      ...                0              1            0      0  1   \n",
       "2      ...                0              1            0      0  1   \n",
       "3      ...                0              1            0      1  1   \n",
       "4      ...                0              0            0      0  1   \n",
       "\n",
       "   Table corner guards  Washer  Waterfront  Wifi  Window guards  \n",
       "0                    0       1           0     1              0  \n",
       "1                    0       1           0     1              0  \n",
       "2                    0       1           0     1              0  \n",
       "3                    0       1           0     1              1  \n",
       "4                    0       1           0     1              0  \n",
       "\n",
       "[5 rows x 105 columns]"
      ]
     },
     "execution_count": 225,
     "metadata": {},
     "output_type": "execute_result"
    }
   ],
   "source": [
    "BangkokData.head()"
   ]
  },
  {
   "cell_type": "code",
   "execution_count": 226,
   "metadata": {},
   "outputs": [
    {
     "data": {
      "text/plain": [
       "Index(['CheckIn', 'CheckOut', 'Price', 'Super_host', 'Latitude', 'Longitude',\n",
       "       'Accuracy_stars', 'Communication_stars', 'Cleanliness_stars',\n",
       "       'Location_stars',\n",
       "       ...\n",
       "       'Smart lock', 'Smoke detector', 'Stair gates', 'Stove', 'TV',\n",
       "       'Table corner guards', 'Washer', 'Waterfront', 'Wifi', 'Window guards'],\n",
       "      dtype='object', length=105)"
      ]
     },
     "execution_count": 226,
     "metadata": {},
     "output_type": "execute_result"
    }
   ],
   "source": [
    "BangkokData.columns"
   ]
  },
  {
   "cell_type": "markdown",
   "metadata": {},
   "source": [
    "### Cairo"
   ]
  },
  {
   "cell_type": "code",
   "execution_count": 227,
   "metadata": {},
   "outputs": [
    {
     "name": "stdout",
     "output_type": "stream",
     "text": [
      "106\n"
     ]
    },
    {
     "data": {
      "text/plain": [
       "Index(['CheckIn', 'CheckOut', 'Price', 'Super_host', 'Latitude', 'Longitude',\n",
       "       'Accuracy_stars', 'Communication_stars', 'Cleanliness_stars',\n",
       "       'Location_stars',\n",
       "       ...\n",
       "       'Smart lock', 'Smoke detector', 'Stair gates', 'Stove', 'TV',\n",
       "       'Table corner guards', 'Washer', 'Waterfront', 'Wifi', 'Window guards'],\n",
       "      dtype='object', length=106)"
      ]
     },
     "execution_count": 227,
     "metadata": {},
     "output_type": "execute_result"
    }
   ],
   "source": [
    "print(len(CairoData.columns))\n",
    "CairoData.columns"
   ]
  },
  {
   "cell_type": "code",
   "execution_count": 228,
   "metadata": {},
   "outputs": [
    {
     "data": {
      "text/html": [
       "<div>\n",
       "<style scoped>\n",
       "    .dataframe tbody tr th:only-of-type {\n",
       "        vertical-align: middle;\n",
       "    }\n",
       "\n",
       "    .dataframe tbody tr th {\n",
       "        vertical-align: top;\n",
       "    }\n",
       "\n",
       "    .dataframe thead th {\n",
       "        text-align: right;\n",
       "    }\n",
       "</style>\n",
       "<table border=\"1\" class=\"dataframe\">\n",
       "  <thead>\n",
       "    <tr style=\"text-align: right;\">\n",
       "      <th></th>\n",
       "      <th>CheckIn</th>\n",
       "      <th>CheckOut</th>\n",
       "      <th>Price</th>\n",
       "      <th>Super_host</th>\n",
       "      <th>Latitude</th>\n",
       "      <th>Longitude</th>\n",
       "      <th>Accuracy_stars</th>\n",
       "      <th>Communication_stars</th>\n",
       "      <th>Cleanliness_stars</th>\n",
       "      <th>Location_stars</th>\n",
       "      <th>...</th>\n",
       "      <th>Smart lock</th>\n",
       "      <th>Smoke detector</th>\n",
       "      <th>Stair gates</th>\n",
       "      <th>Stove</th>\n",
       "      <th>TV</th>\n",
       "      <th>Table corner guards</th>\n",
       "      <th>Washer</th>\n",
       "      <th>Waterfront</th>\n",
       "      <th>Wifi</th>\n",
       "      <th>Window guards</th>\n",
       "    </tr>\n",
       "  </thead>\n",
       "  <tbody>\n",
       "    <tr>\n",
       "      <th>0</th>\n",
       "      <td>2019-03-14 0:00</td>\n",
       "      <td>2019-03-19 0:00</td>\n",
       "      <td>15.0</td>\n",
       "      <td>0</td>\n",
       "      <td>29.95961</td>\n",
       "      <td>31.25858</td>\n",
       "      <td>0</td>\n",
       "      <td>0</td>\n",
       "      <td>0</td>\n",
       "      <td>0</td>\n",
       "      <td>...</td>\n",
       "      <td>0</td>\n",
       "      <td>1</td>\n",
       "      <td>0</td>\n",
       "      <td>0</td>\n",
       "      <td>1</td>\n",
       "      <td>0</td>\n",
       "      <td>1</td>\n",
       "      <td>0</td>\n",
       "      <td>1</td>\n",
       "      <td>0</td>\n",
       "    </tr>\n",
       "    <tr>\n",
       "      <th>1</th>\n",
       "      <td>2019-03-14 0:00</td>\n",
       "      <td>2019-03-19 0:00</td>\n",
       "      <td>12.0</td>\n",
       "      <td>0</td>\n",
       "      <td>30.05760</td>\n",
       "      <td>31.48779</td>\n",
       "      <td>0</td>\n",
       "      <td>0</td>\n",
       "      <td>0</td>\n",
       "      <td>0</td>\n",
       "      <td>...</td>\n",
       "      <td>0</td>\n",
       "      <td>0</td>\n",
       "      <td>0</td>\n",
       "      <td>1</td>\n",
       "      <td>1</td>\n",
       "      <td>0</td>\n",
       "      <td>1</td>\n",
       "      <td>0</td>\n",
       "      <td>1</td>\n",
       "      <td>1</td>\n",
       "    </tr>\n",
       "    <tr>\n",
       "      <th>2</th>\n",
       "      <td>2019-03-14 0:00</td>\n",
       "      <td>2019-03-19 0:00</td>\n",
       "      <td>22.0</td>\n",
       "      <td>0</td>\n",
       "      <td>30.06085</td>\n",
       "      <td>31.49540</td>\n",
       "      <td>4</td>\n",
       "      <td>5</td>\n",
       "      <td>3.5</td>\n",
       "      <td>4.5</td>\n",
       "      <td>...</td>\n",
       "      <td>0</td>\n",
       "      <td>0</td>\n",
       "      <td>0</td>\n",
       "      <td>0</td>\n",
       "      <td>1</td>\n",
       "      <td>0</td>\n",
       "      <td>1</td>\n",
       "      <td>0</td>\n",
       "      <td>1</td>\n",
       "      <td>0</td>\n",
       "    </tr>\n",
       "    <tr>\n",
       "      <th>3</th>\n",
       "      <td>2019-03-14 0:00</td>\n",
       "      <td>2019-03-19 0:00</td>\n",
       "      <td>19.0</td>\n",
       "      <td>0</td>\n",
       "      <td>30.06284</td>\n",
       "      <td>31.51743</td>\n",
       "      <td>5</td>\n",
       "      <td>5</td>\n",
       "      <td>5</td>\n",
       "      <td>5</td>\n",
       "      <td>...</td>\n",
       "      <td>0</td>\n",
       "      <td>1</td>\n",
       "      <td>0</td>\n",
       "      <td>0</td>\n",
       "      <td>1</td>\n",
       "      <td>0</td>\n",
       "      <td>1</td>\n",
       "      <td>0</td>\n",
       "      <td>1</td>\n",
       "      <td>0</td>\n",
       "    </tr>\n",
       "    <tr>\n",
       "      <th>4</th>\n",
       "      <td>2019-03-14 0:00</td>\n",
       "      <td>2019-03-19 0:00</td>\n",
       "      <td>23.0</td>\n",
       "      <td>0</td>\n",
       "      <td>30.06263</td>\n",
       "      <td>31.48585</td>\n",
       "      <td>0</td>\n",
       "      <td>0</td>\n",
       "      <td>0</td>\n",
       "      <td>0</td>\n",
       "      <td>...</td>\n",
       "      <td>0</td>\n",
       "      <td>0</td>\n",
       "      <td>0</td>\n",
       "      <td>1</td>\n",
       "      <td>1</td>\n",
       "      <td>0</td>\n",
       "      <td>1</td>\n",
       "      <td>0</td>\n",
       "      <td>1</td>\n",
       "      <td>0</td>\n",
       "    </tr>\n",
       "  </tbody>\n",
       "</table>\n",
       "<p>5 rows × 106 columns</p>\n",
       "</div>"
      ],
      "text/plain": [
       "           CheckIn         CheckOut  Price  Super_host  Latitude  Longitude  \\\n",
       "0  2019-03-14 0:00  2019-03-19 0:00   15.0           0  29.95961   31.25858   \n",
       "1  2019-03-14 0:00  2019-03-19 0:00   12.0           0  30.05760   31.48779   \n",
       "2  2019-03-14 0:00  2019-03-19 0:00   22.0           0  30.06085   31.49540   \n",
       "3  2019-03-14 0:00  2019-03-19 0:00   19.0           0  30.06284   31.51743   \n",
       "4  2019-03-14 0:00  2019-03-19 0:00   23.0           0  30.06263   31.48585   \n",
       "\n",
       "  Accuracy_stars Communication_stars Cleanliness_stars Location_stars  \\\n",
       "0              0                   0                 0              0   \n",
       "1              0                   0                 0              0   \n",
       "2              4                   5               3.5            4.5   \n",
       "3              5                   5                 5              5   \n",
       "4              0                   0                 0              0   \n",
       "\n",
       "       ...       Smart lock Smoke detector  Stair gates  Stove TV  \\\n",
       "0      ...                0              1            0      0  1   \n",
       "1      ...                0              0            0      1  1   \n",
       "2      ...                0              0            0      0  1   \n",
       "3      ...                0              1            0      0  1   \n",
       "4      ...                0              0            0      1  1   \n",
       "\n",
       "   Table corner guards  Washer  Waterfront  Wifi  Window guards  \n",
       "0                    0       1           0     1              0  \n",
       "1                    0       1           0     1              1  \n",
       "2                    0       1           0     1              0  \n",
       "3                    0       1           0     1              0  \n",
       "4                    0       1           0     1              0  \n",
       "\n",
       "[5 rows x 106 columns]"
      ]
     },
     "execution_count": 228,
     "metadata": {},
     "output_type": "execute_result"
    }
   ],
   "source": [
    "CairoData.head()"
   ]
  },
  {
   "cell_type": "markdown",
   "metadata": {},
   "source": [
    "### Geometry"
   ]
  },
  {
   "cell_type": "code",
   "execution_count": 6,
   "metadata": {},
   "outputs": [],
   "source": [
    "NewYorkData_clean['geom']= NewYorkData_clean['Latitude'].map(str) +','+ NewYorkData_clean['Longitude'].map(str)\n",
    "BangkokData_clean['geom']=  BangkokData_clean['Latitude'].map(str)+','+ BangkokData_clean['Longitude'].map(str) \n",
    "CairoData_clean['geom']= CairoData_clean['Latitude'].map(str)+','+  CairoData_clean['Longitude'].map(str) "
   ]
  },
  {
   "cell_type": "markdown",
   "metadata": {},
   "source": [
    "### Address string from geometry"
   ]
  },
  {
   "cell_type": "code",
   "execution_count": 27,
   "metadata": {},
   "outputs": [],
   "source": [
    "from geopy.geocoders import Nominatim\n",
    "geolocator = Nominatim(timeout=50,user_agent=\"Mozilla/5.0 (Windows NT 6.1; Win64; x64; rv:17.0) Gecko/20100101 Firefox/17.0\")"
   ]
  },
  {
   "cell_type": "code",
   "execution_count": 240,
   "metadata": {},
   "outputs": [],
   "source": [
    "NewYorkData_clean['address']=-1\n",
    "BangkokData_clean['address']=-1\n",
    "CairoData_clean['address']=-1"
   ]
  },
  {
   "cell_type": "markdown",
   "metadata": {},
   "source": [
    "### NewYork"
   ]
  },
  {
   "cell_type": "code",
   "execution_count": null,
   "metadata": {},
   "outputs": [],
   "source": [
    "for i,j in enumerate(NewYorkData_clean['geom']):\n",
    "    NewYorkData_clean['address'][i]= geolocator.reverse(j).address "
   ]
  },
  {
   "cell_type": "code",
   "execution_count": 15,
   "metadata": {},
   "outputs": [
    {
     "data": {
      "text/plain": [
       "0    204, West 4th Street, West Village, Manhattan,...\n",
       "1    351, East 68th Street, Lenox Hill, Manhattan, ...\n",
       "2    582, 12th Street, Union City, Hudson County, N...\n",
       "3    3150, Broadway, Morningside Gardens, Morningsi...\n",
       "4    186, Pulaski Street, Eleanor Roosevelt Houses,...\n",
       "Name: address, dtype: object"
      ]
     },
     "execution_count": 15,
     "metadata": {},
     "output_type": "execute_result"
    }
   ],
   "source": [
    "NewYorkData_clean['address'].head()"
   ]
  },
  {
   "cell_type": "code",
   "execution_count": 8,
   "metadata": {},
   "outputs": [
    {
     "data": {
      "text/plain": [
       "'Time Warner Center, 102, 8 Columbus Circle, Columbus Circle, Manhattan, Manhattan Community Board 5, New York County, NYC, New York, 10023, USA'"
      ]
     },
     "execution_count": 8,
     "metadata": {},
     "output_type": "execute_result"
    }
   ],
   "source": [
    "geolocator.reverse(NewYorkData_clean['geom'][5],addressdetails=True).address"
   ]
  },
  {
   "cell_type": "code",
   "execution_count": 39,
   "metadata": {},
   "outputs": [
    {
     "name": "stdout",
     "output_type": "stream",
     "text": [
      "Harrison\n"
     ]
    }
   ],
   "source": [
    "add='201, Sussex Street, Harrison, Hudson County, New Jersey, 07029, USA'\n",
    "location = geolocator.geocode(add, addressdetails=True)\n",
    "print(location.raw['address']['town'])"
   ]
  },
  {
   "cell_type": "code",
   "execution_count": 9,
   "metadata": {},
   "outputs": [],
   "source": [
    "NewYorkData_clean['partial_address']=-1"
   ]
  },
  {
   "cell_type": "code",
   "execution_count": 11,
   "metadata": {},
   "outputs": [],
   "source": [
    "for i,j in enumerate(NewYorkData_clean['address']):\n",
    "    NewYorkData_clean['partial_address'][i]= ','.join(j.split(',')[2:])\n",
    "    "
   ]
  },
  {
   "cell_type": "code",
   "execution_count": 154,
   "metadata": {},
   "outputs": [],
   "source": [
    "for i,j in enumerate(NewYorkData_clean['partial_address']):\n",
    "    NewYorkData_clean['partial_address'][i]= ','.join(j)\n",
    "    "
   ]
  },
  {
   "cell_type": "code",
   "execution_count": 27,
   "metadata": {},
   "outputs": [],
   "source": [
    "add = NewYorkData_clean['partial_address'][3]"
   ]
  },
  {
   "cell_type": "code",
   "execution_count": 14,
   "metadata": {},
   "outputs": [],
   "source": [
    "NewYorkData_clean['neighborhoodd']= -1"
   ]
  },
  {
   "cell_type": "code",
   "execution_count": null,
   "metadata": {},
   "outputs": [],
   "source": [
    "for i,add in enumerate(NewYorkData_clean['address']):\n",
    "    try:\n",
    "        NewYorkData_clean['neighborhoodd'][i]= geolocator.geocode(add, addressdetails=True).raw['address']['neighbourhood']\n",
    "    except(AttributeError) as e:\n",
    "        pass\n",
    "    except(KeyError) as e:\n",
    "        try:\n",
    "            NewYorkData_clean['neighborhoodd'][i]= geolocator.geocode(add, addressdetails=True).raw['address']['residential']\n",
    "        except(KeyError) as e:\n",
    "            try:\n",
    "                NewYorkData_clean['neighborhoodd'][i]= geolocator.geocode(add, addressdetails=True).raw['address']['residential']\n",
    "            except(KeyError)as e:\n",
    "                try:\n",
    "                    NewYorkData_clean['neighborhoodd'][i]= geolocator.geocode(add, addressdetails=True).raw['address']['suburb']\n",
    "                except(KeyError)as e:\n",
    "                    try:\n",
    "                        NewYorkData_clean['neighborhoodd'][i]= geolocator.geocode(add, addressdetails=True).raw['address']['city']\n",
    "                    except(KeyError) as e:\n",
    "                        try:\n",
    "                             NewYorkData_clean['neighborhoodd'][i]= geolocator.geocode(add, addressdetails=True).raw['address']['town']\n",
    "                        except(KeyError) as e:\n",
    "                            pass\n",
    "                        "
   ]
  },
  {
   "cell_type": "code",
   "execution_count": 8,
   "metadata": {},
   "outputs": [
    {
     "data": {
      "text/plain": [
       "0                 West Village\n",
       "1                   Lenox Hill\n",
       "2                   Union City\n",
       "3          Morningside Heights\n",
       "4     Eleanor Roosevelt Houses\n",
       "5              Columbus Circle\n",
       "6                      TriBeCa\n",
       "7              Upper West Side\n",
       "8                       Harlem\n",
       "9                  Fort Greene\n",
       "Name: neighborhood, dtype: object"
      ]
     },
     "execution_count": 8,
     "metadata": {},
     "output_type": "execute_result"
    }
   ],
   "source": [
    "NewYorkData_clean['neighborhood'].head(10)"
   ]
  },
  {
   "cell_type": "markdown",
   "metadata": {},
   "source": [
    "### Bangkok"
   ]
  },
  {
   "cell_type": "code",
   "execution_count": 12,
   "metadata": {},
   "outputs": [
    {
     "data": {
      "text/plain": [
       "0    Mansion 7 Night Alive, ถนนรัชดาภิเษก, รัชดา, ก...\n",
       "1    Bangkok College of Technology, Sukhumvit Soi 9...\n",
       "2    ชุมชนเพชรเกษม 40, กรุงเทพมหานคร, เขตจอมทอง, กร...\n",
       "3    อรคารไทยวีรวัฒน์, Saraphi 3, วัดพระยาไกร, กรุง...\n",
       "4    Sap Thani, รัชดา, กรุงเทพมหานคร, เขตดินแดง, กร...\n",
       "Name: address, dtype: object"
      ]
     },
     "execution_count": 12,
     "metadata": {},
     "output_type": "execute_result"
    }
   ],
   "source": [
    "BangkokData_clean['address'].head()"
   ]
  },
  {
   "cell_type": "code",
   "execution_count": 10,
   "metadata": {},
   "outputs": [],
   "source": [
    "BangkokData_clean['neighborhood']=-1"
   ]
  },
  {
   "cell_type": "code",
   "execution_count": 17,
   "metadata": {},
   "outputs": [],
   "source": [
    "for i,add in enumerate(BangkokData_clean['address']):\n",
    "    try:\n",
    "        BangkokData_clean['neighborhood'][i]= geolocator.geocode(add, addressdetails=True).raw['address']['neighbourhood']\n",
    "    except(AttributeError) as e:\n",
    "        pass\n",
    "    except(KeyError) as e:\n",
    "        try:\n",
    "            BangkokData_clean['neighborhood'][i]= geolocator.geocode(add, addressdetails=True).raw['address']['residential']\n",
    "        except(KeyError) as e:\n",
    "            try:\n",
    "                BangkokData_clean['neighborhood'][i]= geolocator.geocode(add, addressdetails=True).raw['address']['residential']\n",
    "            except(KeyError)as e:\n",
    "                try:\n",
    "                    BangkokData_clean['neighborhood'][i]= geolocator.geocode(add, addressdetails=True).raw['address']['suburb']\n",
    "                except(KeyError)as e:\n",
    "                    try:\n",
    "                        BangkokData_clean['neighborhood'][i]= geolocator.geocode(add, addressdetails=True).raw['address']['city']\n",
    "                    except(KeyError) as e:\n",
    "                        try:\n",
    "                             BangkokData_clean['neighborhood'][i]= geolocator.geocode(add, addressdetails=True).raw['address']['town']\n",
    "                        except(KeyError) as e:\n",
    "                            pass\n",
    "                        "
   ]
  },
  {
   "cell_type": "markdown",
   "metadata": {},
   "source": [
    "### Cairo"
   ]
  },
  {
   "cell_type": "code",
   "execution_count": null,
   "metadata": {},
   "outputs": [],
   "source": [
    "for i,j in enumerate(CairoData_clean['geom']):\n",
    "    CairoData_clean['address'][i]= geolocator.reverse(j).address  "
   ]
  },
  {
   "cell_type": "code",
   "execution_count": 48,
   "metadata": {},
   "outputs": [],
   "source": [
    "for i,add in enumerate(CairoData_clean['address']):\n",
    "    CairoData_clean['neighborhood'][i]= add.split(',')[1]"
   ]
  },
  {
   "cell_type": "code",
   "execution_count": 16,
   "metadata": {},
   "outputs": [],
   "source": [
    "NewYorkData_clean['Reviewers_no'] = NewYorkData['Reviewers_no']\n",
    "BangkokData_clean['Reviewers_no'] = BangkokData['Reviewers_no']\n",
    "CairoData_clean['Reviewers_no'] = CairoData['Reviewers_no']\n"
   ]
  },
  {
   "cell_type": "code",
   "execution_count": null,
   "metadata": {},
   "outputs": [],
   "source": [
    "import datetime\n",
    "NewYorkData_clean['CheckIn'] = [datetime.datetime.strptime(i,\"%Y-%m-%d\") for i in NewYorkData_clean['CheckIn']]\n",
    "NewYorkData_clean['CheckOut'] = [datetime.datetime.strptime(i,\"%Y-%m-%d\") for i in NewYorkData_clean['CheckOut']]\n"
   ]
  },
  {
   "cell_type": "code",
   "execution_count": 84,
   "metadata": {},
   "outputs": [],
   "source": [
    "NewYorkData_clean['month'] = [i.month for i in NewYorkData_clean['CheckIn']]"
   ]
  },
  {
   "cell_type": "code",
   "execution_count": null,
   "metadata": {},
   "outputs": [],
   "source": [
    "BangkokData_clean['CheckIn'] = [datetime.datetime.strptime(i,\"%Y-%m-%d\") for i in BangkokData_clean['CheckIn']]\n",
    "BangkokData_clean['CheckOut'] = [datetime.datetime.strptime(i,\"%Y-%m-%d\") for i in BangkokData_clean['CheckOut']]\n",
    "BangkokData_clean['month'] = [i.month for i in BangkokData_clean['CheckIn']]"
   ]
  },
  {
   "cell_type": "code",
   "execution_count": 75,
   "metadata": {},
   "outputs": [],
   "source": [
    "CairoData_clean['CheckIn'] = [datetime.datetime.strptime(i,\"%Y-%m-%d\") for i in CairoData_clean['CheckIn']]\n",
    "CairoData_clean['CheckOut'] = [datetime.datetime.strptime(i,\"%Y-%m-%d\") for i in CairoData_clean['CheckOut']]\n",
    "CairoData_clean['month'] = [i.month for i in CairoData_clean['CheckIn']]"
   ]
  },
  {
   "cell_type": "code",
   "execution_count": 132,
   "metadata": {},
   "outputs": [],
   "source": [
    "NewYorkData_clean['Title']= NewYorkData['Title']\n"
   ]
  },
  {
   "cell_type": "code",
   "execution_count": 133,
   "metadata": {},
   "outputs": [],
   "source": [
    "BangkokData_clean['Title']= BangkokData['Title']\n"
   ]
  },
  {
   "cell_type": "code",
   "execution_count": 134,
   "metadata": {},
   "outputs": [],
   "source": [
    "CairoData_clean['Title']= CairoData['Title']\n"
   ]
  },
  {
   "cell_type": "code",
   "execution_count": 135,
   "metadata": {},
   "outputs": [
    {
     "data": {
      "text/plain": [
       "20.0"
      ]
     },
     "execution_count": 135,
     "metadata": {},
     "output_type": "execute_result"
    }
   ],
   "source": [
    "NewYorkData_clean['Price'].min()"
   ]
  },
  {
   "cell_type": "code",
   "execution_count": 136,
   "metadata": {},
   "outputs": [],
   "source": [
    "NewYorkData_clean['normalized_price']=NewYorkData_clean['Price']/NewYorkData_clean['Price'].min()"
   ]
  },
  {
   "cell_type": "code",
   "execution_count": 21,
   "metadata": {},
   "outputs": [],
   "source": [
    "NewYorkData_clean['log_price']= NewYorkData_clean['Price'].apply(np.log)"
   ]
  },
  {
   "cell_type": "code",
   "execution_count": 11,
   "metadata": {},
   "outputs": [],
   "source": [
    "NewYorkData_clean['CheckIn']=NewYorkData_clean['CheckIn'].apply(parser.parse)\n",
    "NewYorkData_clean['CheckOut']=NewYorkData_clean['CheckOut'].apply(parser.parse)"
   ]
  },
  {
   "cell_type": "code",
   "execution_count": 13,
   "metadata": {},
   "outputs": [
    {
     "data": {
      "text/plain": [
       "Bedrooms_int                  609\n",
       "normalized_price               40\n",
       "Price                          40\n",
       "Baby bath                       0\n",
       "Baby monitor                    0\n",
       "Babysitter recommendations      0\n",
       "Bathtub                         0\n",
       "Beach essentials                0\n",
       "Beachfront                      0\n",
       "Bed linens                      0\n",
       "Breakfast                       0\n",
       "Building staff                  0\n",
       "Cable TV                        0\n",
       "Carbon monoxide detector        0\n",
       "Changing table                  0\n",
       "Air conditioning                0\n",
       "Children’s books and toys       0\n",
       "Children’s dinnerware           0\n",
       "Cleaning before checkout        0\n",
       "Coffee maker                    0\n",
       "Cooking basics                  0\n",
       "Crib                            0\n",
       "Dishes and silverware           0\n",
       "Dishwasher                      0\n",
       "Dryer                           0\n",
       "EV charger                      0\n",
       "Elevator                        0\n",
       "BBQ grill                       0\n",
       "sofa                            0\n",
       "Unnamed: 27                     0\n",
       "                             ... \n",
       "Window guards                   0\n",
       "Reviewers_no                    0\n",
       "Oven                            0\n",
       "Outlet covers                   0\n",
       "Microwave                       0\n",
       "Luggage dropoff allowed         0\n",
       "Fireplace guards                0\n",
       "First aid kit                   0\n",
       "Free parking on premises        0\n",
       "Free street parking             0\n",
       "Game console                    0\n",
       "Garden or backyard              0\n",
       "Gym                             0\n",
       "Hair dryer                      0\n",
       "Hangers                         0\n",
       "Heating                         0\n",
       "High chair                      0\n",
       "Host greets you                 0\n",
       "Hot tub                         0\n",
       "Hot water                       0\n",
       "Indoor fireplace                0\n",
       "Iron                            0\n",
       "Keypad                          0\n",
       "Kitchen                         0\n",
       "Lake access                     0\n",
       "Laptop friendly workspace       0\n",
       "Lock on bedroom door            0\n",
       "Lockbox                         0\n",
       "Long term stays allowed         0\n",
       "Accuracy_stars                  0\n",
       "Length: 110, dtype: int64"
      ]
     },
     "execution_count": 13,
     "metadata": {},
     "output_type": "execute_result"
    }
   ],
   "source": [
    "NewYorkData_clean.isnull().sum().sort_values(ascending=False)"
   ]
  },
  {
   "cell_type": "code",
   "execution_count": null,
   "metadata": {},
   "outputs": [],
   "source": [
    "NewYorkData_clean.isemo().sum().sort_values(ascending=False)"
   ]
  },
  {
   "cell_type": "code",
   "execution_count": 14,
   "metadata": {},
   "outputs": [
    {
     "data": {
      "text/plain": [
       "16                       Studio in the heart of Hoboken!\n",
       "25                                   small room with key\n",
       "29                                        Chelsea studio\n",
       "50     Convenient & Comfortable Studio close to Manha...\n",
       "58                                       118 Magnolia 2B\n",
       "61               Beautiful studio apartment in Sunnyside\n",
       "85           BEAUTIFUL BROWNSTONE STUDIO IN SOUTH HARLEM\n",
       "86                                  Astoria, Queens, NYC\n",
       "90     Studio apartment conveniently located in Manha...\n",
       "91                 Union Square Private Sunny Dream Home\n",
       "112      Super Luxury! Alcove Studio in heart of Chelsea\n",
       "138                  Lrg Garden Studio w/Yard in 1843 RH\n",
       "166                                      Sky Time Square\n",
       "226               WeLive Wall Street -- Studio Apartment\n",
       "259                           Private Room in Great Area\n",
       "263                          Studio with Marble Bathroom\n",
       "297    Large Condo in Bronx near Yankee stadium & subway\n",
       "309               UNIQUE & COZY STUDIO NEAR CENTRAL PARK\n",
       "310                                   Sunny West Village\n",
       "316                        Renovated Studio Midtown East\n",
       "318                                      Sky Time Square\n",
       "325                              Cabins at Chelsea (NYC)\n",
       "355                    Cozy Studio in midtown Manhattan.\n",
       "357       Private entry apartment on stunning Park Block\n",
       "375    Studio apartment conveniently located in Manha...\n",
       "386                  Cosy Studio 10 mins to Times Square\n",
       "427                 Quiet private room overlooking park!\n",
       "429    Large Condo in Bronx near Yankee stadium & subway\n",
       "435    NYC/NJ - EWR 15min-NY 30min CLEAN MODERN & PRI...\n",
       "443                          Cozy studio in Times Square\n",
       "Name: Title, dtype: object"
      ]
     },
     "execution_count": 14,
     "metadata": {},
     "output_type": "execute_result"
    }
   ],
   "source": [
    "NewYorkData_clean[NewYorkData_clean.Bedrooms_int.isnull().values]['Title'].head(30)"
   ]
  },
  {
   "cell_type": "markdown",
   "metadata": {},
   "source": [
    "So, we can see that most of the observations, with the number of bedrooms are assigned as NaN, are actually \"Studio\" So we can take advantage if this and use 1.5 as a key value for studio  "
   ]
  },
  {
   "cell_type": "code",
   "execution_count": 15,
   "metadata": {},
   "outputs": [],
   "source": [
    "NewYorkData_clean['Bedrooms_int']=NewYorkData_clean['Bedrooms_int'].fillna(1.5)"
   ]
  },
  {
   "cell_type": "code",
   "execution_count": 16,
   "metadata": {},
   "outputs": [
    {
     "data": {
      "text/plain": [
       "array([1. , 1.5, 2. , 3. , 4. , 5. , 6. ])"
      ]
     },
     "execution_count": 16,
     "metadata": {},
     "output_type": "execute_result"
    }
   ],
   "source": [
    "NewYorkData_clean['Bedrooms_int'].unique()"
   ]
  },
  {
   "cell_type": "code",
   "execution_count": 19,
   "metadata": {},
   "outputs": [
    {
     "data": {
      "text/html": [
       "<div>\n",
       "<style scoped>\n",
       "    .dataframe tbody tr th:only-of-type {\n",
       "        vertical-align: middle;\n",
       "    }\n",
       "\n",
       "    .dataframe tbody tr th {\n",
       "        vertical-align: top;\n",
       "    }\n",
       "\n",
       "    .dataframe thead th {\n",
       "        text-align: right;\n",
       "    }\n",
       "</style>\n",
       "<table border=\"1\" class=\"dataframe\">\n",
       "  <thead>\n",
       "    <tr style=\"text-align: right;\">\n",
       "      <th></th>\n",
       "      <th>Accuracy_stars</th>\n",
       "      <th>CheckIn</th>\n",
       "      <th>CheckIn_stars</th>\n",
       "      <th>CheckOut</th>\n",
       "      <th>Cleanliness_stars</th>\n",
       "      <th>Communication_stars</th>\n",
       "      <th>Latitude</th>\n",
       "      <th>Location_stars</th>\n",
       "      <th>Longitude</th>\n",
       "      <th>Price</th>\n",
       "      <th>...</th>\n",
       "      <th>Stove</th>\n",
       "      <th>TV</th>\n",
       "      <th>Table corner guards</th>\n",
       "      <th>Washer</th>\n",
       "      <th>Waterfront</th>\n",
       "      <th>Wifi</th>\n",
       "      <th>Window guards</th>\n",
       "      <th>Reviewers_no</th>\n",
       "      <th>Title</th>\n",
       "      <th>normalized_price</th>\n",
       "    </tr>\n",
       "  </thead>\n",
       "  <tbody>\n",
       "    <tr>\n",
       "      <th>296</th>\n",
       "      <td>0.0</td>\n",
       "      <td>2019-04-18</td>\n",
       "      <td>0.0</td>\n",
       "      <td>2019-04-23</td>\n",
       "      <td>0.0</td>\n",
       "      <td>0.0</td>\n",
       "      <td>40.72657</td>\n",
       "      <td>0.0</td>\n",
       "      <td>-73.98135</td>\n",
       "      <td>NaN</td>\n",
       "      <td>...</td>\n",
       "      <td>0</td>\n",
       "      <td>0</td>\n",
       "      <td>0</td>\n",
       "      <td>0</td>\n",
       "      <td>0</td>\n",
       "      <td>1</td>\n",
       "      <td>0</td>\n",
       "      <td>-1</td>\n",
       "      <td>Live like a local in the heart of East Village!</td>\n",
       "      <td>NaN</td>\n",
       "    </tr>\n",
       "    <tr>\n",
       "      <th>419</th>\n",
       "      <td>0.0</td>\n",
       "      <td>2019-05-16</td>\n",
       "      <td>0.0</td>\n",
       "      <td>2019-05-21</td>\n",
       "      <td>0.0</td>\n",
       "      <td>0.0</td>\n",
       "      <td>40.72160</td>\n",
       "      <td>0.0</td>\n",
       "      <td>-73.99713</td>\n",
       "      <td>NaN</td>\n",
       "      <td>...</td>\n",
       "      <td>0</td>\n",
       "      <td>0</td>\n",
       "      <td>0</td>\n",
       "      <td>0</td>\n",
       "      <td>0</td>\n",
       "      <td>1</td>\n",
       "      <td>0</td>\n",
       "      <td>-1</td>\n",
       "      <td>Dreamy artist Apartment in SoHo / Nolita</td>\n",
       "      <td>NaN</td>\n",
       "    </tr>\n",
       "    <tr>\n",
       "      <th>495</th>\n",
       "      <td>5.0</td>\n",
       "      <td>2019-06-13</td>\n",
       "      <td>5.0</td>\n",
       "      <td>2019-06-18</td>\n",
       "      <td>5.0</td>\n",
       "      <td>4.5</td>\n",
       "      <td>40.71214</td>\n",
       "      <td>5.0</td>\n",
       "      <td>-73.99643</td>\n",
       "      <td>NaN</td>\n",
       "      <td>...</td>\n",
       "      <td>1</td>\n",
       "      <td>0</td>\n",
       "      <td>0</td>\n",
       "      <td>0</td>\n",
       "      <td>0</td>\n",
       "      <td>1</td>\n",
       "      <td>0</td>\n",
       "      <td>6</td>\n",
       "      <td>Sunny Room C, Downtown NYC, Chinatown, Two Bri...</td>\n",
       "      <td>NaN</td>\n",
       "    </tr>\n",
       "    <tr>\n",
       "      <th>656</th>\n",
       "      <td>5.0</td>\n",
       "      <td>2019-07-11</td>\n",
       "      <td>5.0</td>\n",
       "      <td>2019-07-16</td>\n",
       "      <td>4.5</td>\n",
       "      <td>5.0</td>\n",
       "      <td>40.76236</td>\n",
       "      <td>5.0</td>\n",
       "      <td>-73.99179</td>\n",
       "      <td>NaN</td>\n",
       "      <td>...</td>\n",
       "      <td>0</td>\n",
       "      <td>1</td>\n",
       "      <td>0</td>\n",
       "      <td>1</td>\n",
       "      <td>0</td>\n",
       "      <td>1</td>\n",
       "      <td>0</td>\n",
       "      <td>16</td>\n",
       "      <td>Luxury Room in Hell's Kitchen/Times Square</td>\n",
       "      <td>NaN</td>\n",
       "    </tr>\n",
       "    <tr>\n",
       "      <th>1107</th>\n",
       "      <td>5.0</td>\n",
       "      <td>2019-10-03</td>\n",
       "      <td>5.0</td>\n",
       "      <td>2019-10-08</td>\n",
       "      <td>5.0</td>\n",
       "      <td>5.0</td>\n",
       "      <td>40.80239</td>\n",
       "      <td>5.0</td>\n",
       "      <td>-73.99437</td>\n",
       "      <td>NaN</td>\n",
       "      <td>...</td>\n",
       "      <td>1</td>\n",
       "      <td>0</td>\n",
       "      <td>0</td>\n",
       "      <td>1</td>\n",
       "      <td>0</td>\n",
       "      <td>1</td>\n",
       "      <td>0</td>\n",
       "      <td>25</td>\n",
       "      <td>Cozy &amp; bright apartment close to Manhattan</td>\n",
       "      <td>NaN</td>\n",
       "    </tr>\n",
       "  </tbody>\n",
       "</table>\n",
       "<p>5 rows × 110 columns</p>\n",
       "</div>"
      ],
      "text/plain": [
       "      Accuracy_stars    CheckIn  CheckIn_stars   CheckOut  Cleanliness_stars  \\\n",
       "296              0.0 2019-04-18            0.0 2019-04-23                0.0   \n",
       "419              0.0 2019-05-16            0.0 2019-05-21                0.0   \n",
       "495              5.0 2019-06-13            5.0 2019-06-18                5.0   \n",
       "656              5.0 2019-07-11            5.0 2019-07-16                4.5   \n",
       "1107             5.0 2019-10-03            5.0 2019-10-08                5.0   \n",
       "\n",
       "      Communication_stars  Latitude  Location_stars  Longitude  Price  \\\n",
       "296                   0.0  40.72657             0.0  -73.98135    NaN   \n",
       "419                   0.0  40.72160             0.0  -73.99713    NaN   \n",
       "495                   4.5  40.71214             5.0  -73.99643    NaN   \n",
       "656                   5.0  40.76236             5.0  -73.99179    NaN   \n",
       "1107                  5.0  40.80239             5.0  -73.99437    NaN   \n",
       "\n",
       "            ...         Stove  TV  Table corner guards  Washer  Waterfront  \\\n",
       "296         ...             0   0                    0       0           0   \n",
       "419         ...             0   0                    0       0           0   \n",
       "495         ...             1   0                    0       0           0   \n",
       "656         ...             0   1                    0       1           0   \n",
       "1107        ...             1   0                    0       1           0   \n",
       "\n",
       "      Wifi  Window guards  Reviewers_no  \\\n",
       "296      1              0            -1   \n",
       "419      1              0            -1   \n",
       "495      1              0             6   \n",
       "656      1              0            16   \n",
       "1107     1              0            25   \n",
       "\n",
       "                                                  Title  normalized_price  \n",
       "296     Live like a local in the heart of East Village!               NaN  \n",
       "419            Dreamy artist Apartment in SoHo / Nolita               NaN  \n",
       "495   Sunny Room C, Downtown NYC, Chinatown, Two Bri...               NaN  \n",
       "656          Luxury Room in Hell's Kitchen/Times Square               NaN  \n",
       "1107         Cozy & bright apartment close to Manhattan               NaN  \n",
       "\n",
       "[5 rows x 110 columns]"
      ]
     },
     "execution_count": 19,
     "metadata": {},
     "output_type": "execute_result"
    }
   ],
   "source": [
    "NewYorkData_clean[NewYorkData_clean.Price.isnull().values].head()"
   ]
  },
  {
   "cell_type": "markdown",
   "metadata": {},
   "source": [
    "looks like most of the rows that have the \"Price\" missing,is ONE-bedroom size. So we can replace the empty/NaN values with the average price of ONE-bedroom homes"
   ]
  },
  {
   "cell_type": "code",
   "execution_count": 22,
   "metadata": {},
   "outputs": [
    {
     "data": {
      "text/plain": [
       "133.80853277835587"
      ]
     },
     "execution_count": 22,
     "metadata": {},
     "output_type": "execute_result"
    }
   ],
   "source": [
    "NewYorkData_clean[NewYorkData_clean.Bedrooms_int==1].Price.mean()"
   ]
  },
  {
   "cell_type": "code",
   "execution_count": 23,
   "metadata": {},
   "outputs": [],
   "source": [
    "NewYorkData_clean['Price']=NewYorkData_clean['Price'].fillna(134)"
   ]
  },
  {
   "cell_type": "code",
   "execution_count": 144,
   "metadata": {},
   "outputs": [],
   "source": [
    "NewYorkData_clean['normalized_price']=NewYorkData_clean['Price']/NewYorkData_clean['Price'].min()"
   ]
  },
  {
   "cell_type": "code",
   "execution_count": 145,
   "metadata": {},
   "outputs": [
    {
     "data": {
      "text/plain": [
       "Unnamed: 114                  0\n",
       "Air conditioning              0\n",
       "Baby bath                     0\n",
       "Baby monitor                  0\n",
       "Babysitter recommendations    0\n",
       "Bathtub                       0\n",
       "Beach essentials              0\n",
       "Beachfront                    0\n",
       "Bed linens                    0\n",
       "Breakfast                     0\n",
       "Building staff                0\n",
       "Cable TV                      0\n",
       "Carbon monoxide detector      0\n",
       "Changing table                0\n",
       "Children’s books and toys     0\n",
       "Children’s dinnerware         0\n",
       "Cleaning before checkout      0\n",
       "Coffee maker                  0\n",
       "Cooking basics                0\n",
       "Crib                          0\n",
       "Dishes and silverware         0\n",
       "Dishwasher                    0\n",
       "Dryer                         0\n",
       "EV charger                    0\n",
       "Elevator                      0\n",
       "Essentials                    0\n",
       "Ethernet connection           0\n",
       "BBQ grill                     0\n",
       "Unnamed: 27                   0\n",
       "Fire extinguisher             0\n",
       "                             ..\n",
       "Patio or balcony              0\n",
       "Paid parking off premises     0\n",
       "First aid kit                 0\n",
       "Pack ’n Play/travel crib      0\n",
       "Free parking on premises      0\n",
       "Free street parking           0\n",
       "Game console                  0\n",
       "Garden or backyard            0\n",
       "Gym                           0\n",
       "Hair dryer                    0\n",
       "Hangers                       0\n",
       "Heating                       0\n",
       "High chair                    0\n",
       "Host greets you               0\n",
       "Hot tub                       0\n",
       "Hot water                     0\n",
       "Indoor fireplace              0\n",
       "Iron                          0\n",
       "Keypad                        0\n",
       "Kitchen                       0\n",
       "Lake access                   0\n",
       "Laptop friendly workspace     0\n",
       "Lock on bedroom door          0\n",
       "Lockbox                       0\n",
       "Long term stays allowed       0\n",
       "Luggage dropoff allowed       0\n",
       "Microwave                     0\n",
       "Outlet covers                 0\n",
       "Oven                          0\n",
       "Accuracy_stars                0\n",
       "Length: 115, dtype: int64"
      ]
     },
     "execution_count": 145,
     "metadata": {},
     "output_type": "execute_result"
    }
   ],
   "source": [
    "NewYorkData_clean.isnull().sum().sort_values(ascending=False)"
   ]
  },
  {
   "cell_type": "code",
   "execution_count": 26,
   "metadata": {},
   "outputs": [],
   "source": [
    "BangkokData_clean['CheckIn']= BangkokData_clean['CheckIn'].apply(parser.parse)\n",
    "BangkokData_clean['CheckOut']= BangkokData_clean['CheckOut'].apply(parser.parse)"
   ]
  },
  {
   "cell_type": "code",
   "execution_count": 27,
   "metadata": {},
   "outputs": [
    {
     "data": {
      "text/plain": [
       "Price                         148\n",
       "Title                           0\n",
       "Carbon monoxide detector        0\n",
       "BBQ grill                       0\n",
       "Baby bath                       0\n",
       "Baby monitor                    0\n",
       "Babysitter recommendations      0\n",
       "Bathtub                         0\n",
       "Beach essentials                0\n",
       "Beachfront                      0\n",
       "Bed linens                      0\n",
       "Breakfast                       0\n",
       "Building staff                  0\n",
       "Cable TV                        0\n",
       "Changing table                  0\n",
       "Unnamed: 26                     0\n",
       "Children’s books and toys       0\n",
       "Children’s dinnerware           0\n",
       "Cleaning before checkout        0\n",
       "Coffee maker                    0\n",
       "Cooking basics                  0\n",
       "Crib                            0\n",
       "Dishes and silverware           0\n",
       "Dishwasher                      0\n",
       "Dryer                           0\n",
       "EV charger                      0\n",
       "Air conditioning                0\n",
       "sofa                            0\n",
       "Essentials                      0\n",
       "Bathrooms_num_int               0\n",
       "                             ... \n",
       "Wifi                            0\n",
       "Window guards                   0\n",
       "Outlet covers                   0\n",
       "Luggage dropoff allowed         0\n",
       "Extra pillows and blankets      0\n",
       "Long term stays allowed         0\n",
       "Fire extinguisher               0\n",
       "Fireplace guards                0\n",
       "First aid kit                   0\n",
       "Free parking on premises        0\n",
       "Free street parking             0\n",
       "Game console                    0\n",
       "Garden or backyard              0\n",
       "Gym                             0\n",
       "Hair dryer                      0\n",
       "Hangers                         0\n",
       "Heating                         0\n",
       "High chair                      0\n",
       "Host greets you                 0\n",
       "Hot tub                         0\n",
       "Hot water                       0\n",
       "Indoor fireplace                0\n",
       "Iron                            0\n",
       "Keypad                          0\n",
       "Kitchen                         0\n",
       "Lake access                     0\n",
       "Laptop friendly workspace       0\n",
       "Lock on bedroom door            0\n",
       "Lockbox                         0\n",
       "CheckIn                         0\n",
       "Length: 107, dtype: int64"
      ]
     },
     "execution_count": 27,
     "metadata": {},
     "output_type": "execute_result"
    }
   ],
   "source": [
    "BangkokData_clean.isnull().sum().sort_values(ascending=False)"
   ]
  },
  {
   "cell_type": "code",
   "execution_count": 31,
   "metadata": {},
   "outputs": [
    {
     "data": {
      "text/plain": [
       "63     1\n",
       "80     1\n",
       "96    -1\n",
       "165    1\n",
       "230    1\n",
       "Name: Bedrooms_int, dtype: int64"
      ]
     },
     "execution_count": 31,
     "metadata": {},
     "output_type": "execute_result"
    }
   ],
   "source": [
    "BangkokData_clean[BangkokData_clean.Price.isnull().values]['Bedrooms_int'].head()"
   ]
  },
  {
   "cell_type": "code",
   "execution_count": 34,
   "metadata": {},
   "outputs": [
    {
     "data": {
      "text/plain": [
       "52.53104026845637"
      ]
     },
     "execution_count": 34,
     "metadata": {},
     "output_type": "execute_result"
    }
   ],
   "source": [
    "\n",
    "BangkokData_clean[BangkokData_clean.Bedrooms_int==1].Price.mean()"
   ]
  },
  {
   "cell_type": "code",
   "execution_count": 35,
   "metadata": {},
   "outputs": [],
   "source": [
    "BangkokData_clean['Price']= BangkokData_clean['Price'].fillna(53)"
   ]
  },
  {
   "cell_type": "code",
   "execution_count": 146,
   "metadata": {},
   "outputs": [],
   "source": [
    "BangkokData_clean['normalized_price']= BangkokData_clean['Price']/BangkokData_clean['Price'].min()\n"
   ]
  },
  {
   "cell_type": "code",
   "execution_count": 22,
   "metadata": {},
   "outputs": [],
   "source": [
    "BangkokData_clean['log_price']= BangkokData_clean['Price'].apply(np.log)"
   ]
  },
  {
   "cell_type": "code",
   "execution_count": 147,
   "metadata": {},
   "outputs": [
    {
     "data": {
      "text/plain": [
       "month                         0\n",
       "Changing table                0\n",
       "Baby bath                     0\n",
       "Baby monitor                  0\n",
       "Babysitter recommendations    0\n",
       "Bathtub                       0\n",
       "Beach essentials              0\n",
       "Beachfront                    0\n",
       "Bed linens                    0\n",
       "Breakfast                     0\n",
       "Building staff                0\n",
       "Cable TV                      0\n",
       "Carbon monoxide detector      0\n",
       "Children’s books and toys     0\n",
       "Air conditioning              0\n",
       "Children’s dinnerware         0\n",
       "Cleaning before checkout      0\n",
       "Coffee maker                  0\n",
       "Cooking basics                0\n",
       "Crib                          0\n",
       "Dishes and silverware         0\n",
       "Dishwasher                    0\n",
       "Dryer                         0\n",
       "EV charger                    0\n",
       "Elevator                      0\n",
       "Essentials                    0\n",
       "BBQ grill                     0\n",
       "Unnamed: 26                   0\n",
       "geom                          0\n",
       "Bathrooms_num_int             0\n",
       "                             ..\n",
       "Title                         0\n",
       "normalized_price              0\n",
       "Pack ’n Play/travel crib      0\n",
       "Oven                          0\n",
       "Outlet covers                 0\n",
       "Microwave                     0\n",
       "First aid kit                 0\n",
       "Free parking on premises      0\n",
       "Free street parking           0\n",
       "Game console                  0\n",
       "Garden or backyard            0\n",
       "Gym                           0\n",
       "Hair dryer                    0\n",
       "Hangers                       0\n",
       "Heating                       0\n",
       "High chair                    0\n",
       "Host greets you               0\n",
       "Hot tub                       0\n",
       "Hot water                     0\n",
       "Indoor fireplace              0\n",
       "Iron                          0\n",
       "Keypad                        0\n",
       "Kitchen                       0\n",
       "Lake access                   0\n",
       "Laptop friendly workspace     0\n",
       "Lock on bedroom door          0\n",
       "Lockbox                       0\n",
       "Long term stays allowed       0\n",
       "Luggage dropoff allowed       0\n",
       "CheckIn                       0\n",
       "Length: 110, dtype: int64"
      ]
     },
     "execution_count": 147,
     "metadata": {},
     "output_type": "execute_result"
    }
   ],
   "source": [
    "BangkokData_clean.isnull().sum().sort_values(ascending=False)"
   ]
  },
  {
   "cell_type": "code",
   "execution_count": 148,
   "metadata": {},
   "outputs": [],
   "source": [
    "CairoData_clean['normalized_price']= CairoData_clean['Price']/CairoData_clean['Price'].min()"
   ]
  },
  {
   "cell_type": "code",
   "execution_count": 23,
   "metadata": {},
   "outputs": [],
   "source": [
    "CairoData_clean['log_price']= CairoData_clean['Price'].apply(np.log)"
   ]
  },
  {
   "cell_type": "code",
   "execution_count": 39,
   "metadata": {},
   "outputs": [],
   "source": [
    "CairoData_clean['CheckIn']= CairoData_clean['CheckIn'].apply(parser.parse)\n",
    "CairoData_clean['CheckOut']= CairoData_clean['CheckOut'].apply(parser.parse)\n"
   ]
  },
  {
   "cell_type": "code",
   "execution_count": 149,
   "metadata": {},
   "outputs": [
    {
     "data": {
      "text/plain": [
       "month                         0\n",
       "Changing table                0\n",
       "Baby bath                     0\n",
       "Baby monitor                  0\n",
       "Babysitter recommendations    0\n",
       "Bathtub                       0\n",
       "Beach essentials              0\n",
       "Beachfront                    0\n",
       "Bed linens                    0\n",
       "Breakfast                     0\n",
       "Building staff                0\n",
       "Cable TV                      0\n",
       "Carbon monoxide detector      0\n",
       "Children’s books and toys     0\n",
       "Air conditioning              0\n",
       "Children’s dinnerware         0\n",
       "Cleaning before checkout      0\n",
       "Coffee maker                  0\n",
       "Cooking basics                0\n",
       "Crib                          0\n",
       "Dishes and silverware         0\n",
       "Dishwasher                    0\n",
       "Dryer                         0\n",
       "EV charger                    0\n",
       "Elevator                      0\n",
       "Essentials                    0\n",
       "BBQ grill                     0\n",
       "Unnamed: 26                   0\n",
       "Extra pillows and blankets    0\n",
       "Bathrooms_num_int             0\n",
       "                             ..\n",
       "normalized_price              0\n",
       "Paid parking off premises     0\n",
       "Oven                          0\n",
       "Fireplace guards              0\n",
       "Hot tub                       0\n",
       "First aid kit                 0\n",
       "Free parking on premises      0\n",
       "Free street parking           0\n",
       "Game console                  0\n",
       "Garden or backyard            0\n",
       "Gym                           0\n",
       "Hair dryer                    0\n",
       "Hangers                       0\n",
       "Heating                       0\n",
       "High chair                    0\n",
       "Host greets you               0\n",
       "Hot water                     0\n",
       "Outlet covers                 0\n",
       "Indoor fireplace              0\n",
       "Iron                          0\n",
       "Keypad                        0\n",
       "Kitchen                       0\n",
       "Lake access                   0\n",
       "Laptop friendly workspace     0\n",
       "Lock on bedroom door          0\n",
       "Lockbox                       0\n",
       "Long term stays allowed       0\n",
       "Luggage dropoff allowed       0\n",
       "Microwave                     0\n",
       "CheckIn                       0\n",
       "Length: 111, dtype: int64"
      ]
     },
     "execution_count": 149,
     "metadata": {},
     "output_type": "execute_result"
    }
   ],
   "source": [
    "CairoData_clean.isnull().sum().sort_values(ascending=False)"
   ]
  },
  {
   "cell_type": "raw",
   "metadata": {},
   "source": [
    "CairoData_clean[CairoData_clean.Price.isnull().values]['Bedrooms_int']\n"
   ]
  },
  {
   "cell_type": "code",
   "execution_count": 30,
   "metadata": {},
   "outputs": [],
   "source": [
    "CairoData_clean['neighborhood'] =-1"
   ]
  },
  {
   "cell_type": "code",
   "execution_count": null,
   "metadata": {},
   "outputs": [],
   "source": [
    "for i,add in enumerate(CairoData_clean['address']):\n",
    "    try:\n",
    "        CairoData_clean['neighborhood'][i]= geolocator.geocode(add, addressdetails=True).raw['address']['neighbourhood']\n",
    "    except(AttributeError) as e:\n",
    "        pass\n",
    "    except(KeyError) as e:\n",
    "        try:\n",
    "            CairoData_clean['neighborhood'][i]= geolocator.geocode(add, addressdetails=True).raw['address']['residential']\n",
    "        except(KeyError) as e:\n",
    "            try:\n",
    "                CairoData_clean['neighborhood'][i]= geolocator.geocode(add, addressdetails=True).raw['address']['residential']\n",
    "            except(KeyError)as e:\n",
    "                try:\n",
    "                    CairoData_clean['neighborhood'][i]= geolocator.geocode(add, addressdetails=True).raw['address']['suburb']\n",
    "                except(KeyError)as e:\n",
    "                    try:\n",
    "                        CairoData_clean['neighborhood'][i]= geolocator.geocode(add, addressdetails=True).raw['address']['city']\n",
    "                    except(KeyError) as e:\n",
    "                        try:\n",
    "                             CairoData_clean['neighborhood'][i]= geolocator.geocode(add, addressdetails=True).raw['address']['town']\n",
    "                        except(KeyError) as e:\n",
    "                            pass\n",
    "                        "
   ]
  },
  {
   "cell_type": "code",
   "execution_count": 38,
   "metadata": {},
   "outputs": [],
   "source": [
    "from geopy.geocoders import Nominatim\n",
    "geolocator = Nominatim(timeout=50,user_agent=\"Mozilla/5.0 (Windows NT 6.1; Win64; x64; rv:17.0) Gecko/20100101 Firefox/17.0\")"
   ]
  },
  {
   "cell_type": "code",
   "execution_count": 31,
   "metadata": {},
   "outputs": [
    {
     "data": {
      "text/plain": [
       "'CV-110, Herbés, els Ports, Castelló / Castellón, Aragón, España'"
      ]
     },
     "execution_count": 31,
     "metadata": {},
     "output_type": "execute_result"
    }
   ],
   "source": [
    "geolocator.reverse(40.72576,-73.98309,addressdetails=True).address"
   ]
  },
  {
   "cell_type": "code",
   "execution_count": 25,
   "metadata": {},
   "outputs": [
    {
     "data": {
      "text/plain": [
       "'La Vega, Peñarroya de Tastavíns / Pena-roja de Tastavins, Matarraña, Teruel, Aragón, España'"
      ]
     },
     "execution_count": 25,
     "metadata": {},
     "output_type": "execute_result"
    }
   ],
   "source": [
    "geolocator.reverse(40.73321,-74.00242,addressdetails=True).address"
   ]
  },
  {
   "cell_type": "code",
   "execution_count": 94,
   "metadata": {},
   "outputs": [],
   "source": [
    "NYDta = CairoData"
   ]
  },
  {
   "cell_type": "code",
   "execution_count": 95,
   "metadata": {},
   "outputs": [],
   "source": [
    "NYDta['Group_ID'] = NYDta.groupby('geom').grouper.group_info[0]"
   ]
  },
  {
   "cell_type": "code",
   "execution_count": 96,
   "metadata": {},
   "outputs": [],
   "source": [
    "NYDta.reset_index(inplace=True)"
   ]
  },
  {
   "cell_type": "code",
   "execution_count": 97,
   "metadata": {},
   "outputs": [],
   "source": [
    "BangkokData.sort_index(by =['Group_ID','CheckIn'],inplace = True)"
   ]
  },
  {
   "cell_type": "code",
   "execution_count": null,
   "metadata": {},
   "outputs": [],
   "source": [
    "NYDta[NYDta['Group_ID']==0]"
   ]
  },
  {
   "cell_type": "code",
   "execution_count": null,
   "metadata": {},
   "outputs": [],
   "source": [
    "for i in NYDta['Group_ID']:\n",
    "    for j,k in enumerate(NYDta['geom'][NYDta.Group_ID == i]):\n",
    "        NYDta['address'][j]= geolocator.reverse(k,addressdetails=True, exactly_one=True).raw['address']"
   ]
  },
  {
   "cell_type": "code",
   "execution_count": null,
   "metadata": {},
   "outputs": [],
   "source": [
    "for i in NYDta['Group_ID']:\n",
    "    for j,k in enumerate(NYDta['geom'][NYDta.Group_ID == i]):\n",
    "        print(NYDta['address'][j],k)"
   ]
  },
  {
   "cell_type": "code",
   "execution_count": null,
   "metadata": {},
   "outputs": [],
   "source": [
    "for i in NYDta['Group_ID']:\n",
    "    print(NYDta[['geom','neighborhood','Title']][NYDta['Group_ID'] == i])\n",
    "    "
   ]
  },
  {
   "cell_type": "markdown",
   "metadata": {},
   "source": [
    "## Day of the month"
   ]
  },
  {
   "cell_type": "code",
   "execution_count": 38,
   "metadata": {},
   "outputs": [],
   "source": [
    "import datetime\n",
    "NewYorkData_clean['CheckIn'] = [datetime.datetime.strptime(i,\"%Y-%m-%d\") for i in NewYorkData['CheckIn']]\n",
    "NewYorkData_clean['CheckOut'] = [datetime.datetime.strptime(i,\"%Y-%m-%d\") for i in NewYorkData['CheckOut']]"
   ]
  },
  {
   "cell_type": "code",
   "execution_count": 41,
   "metadata": {},
   "outputs": [],
   "source": [
    "NewYorkData_clean['day_of_month'] = [i.day for i in NewYorkData['CheckIn']]"
   ]
  },
  {
   "cell_type": "code",
   "execution_count": 45,
   "metadata": {},
   "outputs": [],
   "source": [
    "BangkokData_clean['CheckIn'] = [datetime.datetime.strptime(i,\"%Y-%m-%d\") for i in BangkokData['CheckIn']]\n",
    "BangkokData_clean['CheckOut'] = [datetime.datetime.strptime(i,\"%Y-%m-%d\") for i in BangkokData['CheckOut']]"
   ]
  },
  {
   "cell_type": "code",
   "execution_count": 46,
   "metadata": {},
   "outputs": [],
   "source": [
    "BangkokData_clean['day_of_month'] = [i.day for i in BangkokData['CheckIn']]"
   ]
  },
  {
   "cell_type": "code",
   "execution_count": 69,
   "metadata": {},
   "outputs": [],
   "source": [
    "CairoData_clean['CheckIn'] = [datetime.datetime.strptime(i,\"%Y-%m-%d\") for i in CairoData_clean['CheckIn']]\n",
    "CairoData_clean['CheckOut'] = [datetime.datetime.strptime(i,\"%Y-%m-%d\") for i in CairoData_clean['CheckOut']]"
   ]
  },
  {
   "cell_type": "code",
   "execution_count": 70,
   "metadata": {},
   "outputs": [],
   "source": [
    "CairoData_clean['day_of_month'] = [i.day for i in CairoData['CheckIn']]"
   ]
  },
  {
   "cell_type": "markdown",
   "metadata": {},
   "source": [
    "## Week of the year"
   ]
  },
  {
   "cell_type": "code",
   "execution_count": 6,
   "metadata": {},
   "outputs": [],
   "source": [
    "import datetime\n",
    "NewYorkData_clean['CheckIn'] = [datetime.datetime.strptime(i,\"%Y-%m-%d\") for i in NewYorkData_clean['CheckIn']]\n",
    "NewYorkData_clean['CheckOut'] = [datetime.datetime.strptime(i,\"%Y-%m-%d\") for i in NewYorkData_clean['CheckOut']]"
   ]
  },
  {
   "cell_type": "code",
   "execution_count": 11,
   "metadata": {},
   "outputs": [],
   "source": [
    "NewYorkData_clean['Year_week']= week_of_year(NewYorkData_clean)"
   ]
  },
  {
   "cell_type": "code",
   "execution_count": 7,
   "metadata": {},
   "outputs": [],
   "source": [
    "BangkokData_clean['CheckIn'] = [datetime.datetime.strptime(i,\"%Y-%m-%d\") for i in BangkokData_clean['CheckIn']]\n",
    "BangkokData_clean['CheckOut'] = [datetime.datetime.strptime(i,\"%Y-%m-%d\") for i in BangkokData_clean['CheckOut']]"
   ]
  },
  {
   "cell_type": "code",
   "execution_count": 14,
   "metadata": {},
   "outputs": [],
   "source": [
    "BangkokData_clean['Year_week']= week_of_year(BangkokData_clean)"
   ]
  },
  {
   "cell_type": "code",
   "execution_count": 8,
   "metadata": {},
   "outputs": [],
   "source": [
    "CairoData_clean['CheckIn'] = [datetime.datetime.strptime(i,\"%Y-%m-%d\") for i in CairoData_clean['CheckIn']]\n",
    "CairoData_clean['CheckOut'] = [datetime.datetime.strptime(i,\"%Y-%m-%d\") for i in CairoData_clean['CheckOut']]"
   ]
  },
  {
   "cell_type": "code",
   "execution_count": 16,
   "metadata": {},
   "outputs": [],
   "source": [
    "CairoData_clean['Year_week']= week_of_year(CairoData_clean)"
   ]
  },
  {
   "cell_type": "markdown",
   "metadata": {},
   "source": [
    "## Number of weeks from the point of collecting data to the booking time"
   ]
  },
  {
   "cell_type": "markdown",
   "metadata": {},
   "source": [
    "Since the date of collecting the data slightly differs among the three cities, we need to extract the \"weeks_before_booking\" variable separately for the three cities. "
   ]
  },
  {
   "cell_type": "markdown",
   "metadata": {},
   "source": [
    "## New York"
   ]
  },
  {
   "cell_type": "code",
   "execution_count": 33,
   "metadata": {},
   "outputs": [],
   "source": [
    "NewYorkData_clean['weeks_before_booking'] = None"
   ]
  },
  {
   "cell_type": "markdown",
   "metadata": {},
   "source": [
    "The day of collecting data \"Data Scraping\""
   ]
  },
  {
   "cell_type": "code",
   "execution_count": 30,
   "metadata": {},
   "outputs": [
    {
     "data": {
      "text/plain": [
       "Timestamp('2019-03-07 00:00:00')"
      ]
     },
     "execution_count": 30,
     "metadata": {},
     "output_type": "execute_result"
    }
   ],
   "source": [
    "NewYorkData_clean['CheckIn'][1]"
   ]
  },
  {
   "cell_type": "markdown",
   "metadata": {},
   "source": [
    "which week of the year that day?!"
   ]
  },
  {
   "cell_type": "code",
   "execution_count": 31,
   "metadata": {},
   "outputs": [
    {
     "data": {
      "text/plain": [
       "10"
      ]
     },
     "execution_count": 31,
     "metadata": {},
     "output_type": "execute_result"
    }
   ],
   "source": [
    "NewYorkData_clean['CheckIn'][1].isocalendar()[1]"
   ]
  },
  {
   "cell_type": "code",
   "execution_count": 35,
   "metadata": {},
   "outputs": [],
   "source": [
    "for i, j in enumerate(NewYorkData_clean['CheckIn']):\n",
    "    if j.month >= 3:\n",
    "        NewYorkData_clean['weeks_before_booking'][i]= j.isocalendar()[1] - 10\n",
    "    else:\n",
    "        NewYorkData_clean['weeks_before_booking'][i]= j.isocalendar()[1] + 42\n",
    "        "
   ]
  },
  {
   "cell_type": "markdown",
   "metadata": {},
   "source": [
    "## Bangkok"
   ]
  },
  {
   "cell_type": "code",
   "execution_count": 38,
   "metadata": {},
   "outputs": [],
   "source": [
    "BangkokData_clean['weeks_before_booking'] = None"
   ]
  },
  {
   "cell_type": "markdown",
   "metadata": {},
   "source": [
    "The day of collecting data \"Data Scraping\""
   ]
  },
  {
   "cell_type": "code",
   "execution_count": 42,
   "metadata": {},
   "outputs": [
    {
     "data": {
      "text/plain": [
       "Timestamp('2019-03-12 00:00:00')"
      ]
     },
     "execution_count": 42,
     "metadata": {},
     "output_type": "execute_result"
    }
   ],
   "source": [
    "BangkokData_clean['CheckIn'][22]"
   ]
  },
  {
   "cell_type": "markdown",
   "metadata": {},
   "source": [
    "which week of the year that day?!"
   ]
  },
  {
   "cell_type": "code",
   "execution_count": 43,
   "metadata": {},
   "outputs": [
    {
     "data": {
      "text/plain": [
       "11"
      ]
     },
     "execution_count": 43,
     "metadata": {},
     "output_type": "execute_result"
    }
   ],
   "source": [
    "BangkokData_clean['CheckIn'][22].isocalendar()[1]"
   ]
  },
  {
   "cell_type": "code",
   "execution_count": 42,
   "metadata": {},
   "outputs": [],
   "source": [
    "for i, j in enumerate(BangkokData_clean['CheckIn']):\n",
    "    if j.month >= 3:\n",
    "        BangkokData_clean['weeks_before_booking'][i]= j.isocalendar()[1] - 11\n",
    "    else:\n",
    "        BangkokData_clean['weeks_before_booking'][i]= j.isocalendar()[1] + 42"
   ]
  },
  {
   "cell_type": "markdown",
   "metadata": {},
   "source": [
    "## Cairo"
   ]
  },
  {
   "cell_type": "code",
   "execution_count": 44,
   "metadata": {},
   "outputs": [
    {
     "data": {
      "text/html": [
       "<div>\n",
       "<style scoped>\n",
       "    .dataframe tbody tr th:only-of-type {\n",
       "        vertical-align: middle;\n",
       "    }\n",
       "\n",
       "    .dataframe tbody tr th {\n",
       "        vertical-align: top;\n",
       "    }\n",
       "\n",
       "    .dataframe thead th {\n",
       "        text-align: right;\n",
       "    }\n",
       "</style>\n",
       "<table border=\"1\" class=\"dataframe\">\n",
       "  <thead>\n",
       "    <tr style=\"text-align: right;\">\n",
       "      <th></th>\n",
       "      <th>index</th>\n",
       "      <th>CheckIn</th>\n",
       "      <th>CheckOut</th>\n",
       "      <th>Price</th>\n",
       "      <th>Super_host</th>\n",
       "      <th>Latitude</th>\n",
       "      <th>Longitude</th>\n",
       "      <th>Accuracy_stars</th>\n",
       "      <th>Communication_stars</th>\n",
       "      <th>Cleanliness_stars</th>\n",
       "      <th>...</th>\n",
       "      <th>AvgPrice_neighborhood</th>\n",
       "      <th>AvgNormPrice_neighborhood</th>\n",
       "      <th>Group_ID</th>\n",
       "      <th>avg_rating_stars</th>\n",
       "      <th>price_stars_corr_per_nhood</th>\n",
       "      <th>price_stars_corr_Zvalue</th>\n",
       "      <th>avg_price_stars_corr</th>\n",
       "      <th>Amenities_length</th>\n",
       "      <th>day_of_month</th>\n",
       "      <th>Year_week</th>\n",
       "    </tr>\n",
       "  </thead>\n",
       "  <tbody>\n",
       "    <tr>\n",
       "      <th>0</th>\n",
       "      <td>3201</td>\n",
       "      <td>2019-08-01</td>\n",
       "      <td>2019-08-06</td>\n",
       "      <td>39.0</td>\n",
       "      <td>1</td>\n",
       "      <td>30.05867</td>\n",
       "      <td>31.44884</td>\n",
       "      <td>0.0</td>\n",
       "      <td>0.0</td>\n",
       "      <td>0.0</td>\n",
       "      <td>...</td>\n",
       "      <td>54</td>\n",
       "      <td>4</td>\n",
       "      <td>81</td>\n",
       "      <td>0.000000</td>\n",
       "      <td>-0.015865</td>\n",
       "      <td>-0.015867</td>\n",
       "      <td>-0.015865</td>\n",
       "      <td>23</td>\n",
       "      <td>1</td>\n",
       "      <td>31</td>\n",
       "    </tr>\n",
       "    <tr>\n",
       "      <th>1</th>\n",
       "      <td>908</td>\n",
       "      <td>2019-04-11</td>\n",
       "      <td>2019-04-16</td>\n",
       "      <td>27.0</td>\n",
       "      <td>0</td>\n",
       "      <td>29.96925</td>\n",
       "      <td>31.26652</td>\n",
       "      <td>0.0</td>\n",
       "      <td>0.0</td>\n",
       "      <td>0.0</td>\n",
       "      <td>...</td>\n",
       "      <td>53</td>\n",
       "      <td>4</td>\n",
       "      <td>21</td>\n",
       "      <td>0.000000</td>\n",
       "      <td>0.045170</td>\n",
       "      <td>0.045200</td>\n",
       "      <td>0.045170</td>\n",
       "      <td>24</td>\n",
       "      <td>11</td>\n",
       "      <td>15</td>\n",
       "    </tr>\n",
       "    <tr>\n",
       "      <th>2</th>\n",
       "      <td>4605</td>\n",
       "      <td>2019-10-10</td>\n",
       "      <td>2019-10-15</td>\n",
       "      <td>51.0</td>\n",
       "      <td>1</td>\n",
       "      <td>29.95475</td>\n",
       "      <td>31.26336</td>\n",
       "      <td>4.0</td>\n",
       "      <td>4.5</td>\n",
       "      <td>4.5</td>\n",
       "      <td>...</td>\n",
       "      <td>54</td>\n",
       "      <td>4</td>\n",
       "      <td>81</td>\n",
       "      <td>4.416667</td>\n",
       "      <td>-0.015865</td>\n",
       "      <td>-0.015867</td>\n",
       "      <td>-0.015865</td>\n",
       "      <td>26</td>\n",
       "      <td>10</td>\n",
       "      <td>41</td>\n",
       "    </tr>\n",
       "    <tr>\n",
       "      <th>3</th>\n",
       "      <td>5984</td>\n",
       "      <td>2019-12-05</td>\n",
       "      <td>2019-12-10</td>\n",
       "      <td>21.0</td>\n",
       "      <td>0</td>\n",
       "      <td>30.12274</td>\n",
       "      <td>31.60838</td>\n",
       "      <td>0.0</td>\n",
       "      <td>0.0</td>\n",
       "      <td>0.0</td>\n",
       "      <td>...</td>\n",
       "      <td>53</td>\n",
       "      <td>4</td>\n",
       "      <td>43</td>\n",
       "      <td>0.000000</td>\n",
       "      <td>-0.018695</td>\n",
       "      <td>-0.018697</td>\n",
       "      <td>-0.018695</td>\n",
       "      <td>18</td>\n",
       "      <td>5</td>\n",
       "      <td>49</td>\n",
       "    </tr>\n",
       "    <tr>\n",
       "      <th>4</th>\n",
       "      <td>3680</td>\n",
       "      <td>2019-08-29</td>\n",
       "      <td>2019-09-03</td>\n",
       "      <td>33.0</td>\n",
       "      <td>1</td>\n",
       "      <td>30.04762</td>\n",
       "      <td>31.23734</td>\n",
       "      <td>5.0</td>\n",
       "      <td>5.0</td>\n",
       "      <td>5.0</td>\n",
       "      <td>...</td>\n",
       "      <td>52</td>\n",
       "      <td>4</td>\n",
       "      <td>66</td>\n",
       "      <td>5.000000</td>\n",
       "      <td>0.236721</td>\n",
       "      <td>0.241298</td>\n",
       "      <td>0.236721</td>\n",
       "      <td>28</td>\n",
       "      <td>29</td>\n",
       "      <td>35</td>\n",
       "    </tr>\n",
       "  </tbody>\n",
       "</table>\n",
       "<p>5 rows × 124 columns</p>\n",
       "</div>"
      ],
      "text/plain": [
       "   index    CheckIn   CheckOut  Price  Super_host  Latitude  Longitude  \\\n",
       "0   3201 2019-08-01 2019-08-06   39.0           1  30.05867   31.44884   \n",
       "1    908 2019-04-11 2019-04-16   27.0           0  29.96925   31.26652   \n",
       "2   4605 2019-10-10 2019-10-15   51.0           1  29.95475   31.26336   \n",
       "3   5984 2019-12-05 2019-12-10   21.0           0  30.12274   31.60838   \n",
       "4   3680 2019-08-29 2019-09-03   33.0           1  30.04762   31.23734   \n",
       "\n",
       "   Accuracy_stars  Communication_stars  Cleanliness_stars    ...      \\\n",
       "0             0.0                  0.0                0.0    ...       \n",
       "1             0.0                  0.0                0.0    ...       \n",
       "2             4.0                  4.5                4.5    ...       \n",
       "3             0.0                  0.0                0.0    ...       \n",
       "4             5.0                  5.0                5.0    ...       \n",
       "\n",
       "   AvgPrice_neighborhood  AvgNormPrice_neighborhood  Group_ID  \\\n",
       "0                     54                          4        81   \n",
       "1                     53                          4        21   \n",
       "2                     54                          4        81   \n",
       "3                     53                          4        43   \n",
       "4                     52                          4        66   \n",
       "\n",
       "   avg_rating_stars  price_stars_corr_per_nhood  price_stars_corr_Zvalue  \\\n",
       "0          0.000000                   -0.015865                -0.015867   \n",
       "1          0.000000                    0.045170                 0.045200   \n",
       "2          4.416667                   -0.015865                -0.015867   \n",
       "3          0.000000                   -0.018695                -0.018697   \n",
       "4          5.000000                    0.236721                 0.241298   \n",
       "\n",
       "   avg_price_stars_corr  Amenities_length  day_of_month  Year_week  \n",
       "0             -0.015865                23             1         31  \n",
       "1              0.045170                24            11         15  \n",
       "2             -0.015865                26            10         41  \n",
       "3             -0.018695                18             5         49  \n",
       "4              0.236721                28            29         35  \n",
       "\n",
       "[5 rows x 124 columns]"
      ]
     },
     "execution_count": 44,
     "metadata": {},
     "output_type": "execute_result"
    }
   ],
   "source": [
    "CairoData_clean.head()"
   ]
  },
  {
   "cell_type": "code",
   "execution_count": 58,
   "metadata": {},
   "outputs": [],
   "source": [
    "CairoData_clean['weeks_before_booking'] = None"
   ]
  },
  {
   "cell_type": "markdown",
   "metadata": {},
   "source": [
    "The day of collecting data \"Data Scraping\""
   ]
  },
  {
   "cell_type": "code",
   "execution_count": 56,
   "metadata": {},
   "outputs": [
    {
     "data": {
      "text/plain": [
       "Timestamp('2019-03-14 00:00:00')"
      ]
     },
     "execution_count": 56,
     "metadata": {},
     "output_type": "execute_result"
    }
   ],
   "source": [
    "CairoData_clean['CheckIn'][20]"
   ]
  },
  {
   "cell_type": "markdown",
   "metadata": {},
   "source": [
    "which week of the year that day?!"
   ]
  },
  {
   "cell_type": "code",
   "execution_count": 57,
   "metadata": {},
   "outputs": [
    {
     "data": {
      "text/plain": [
       "11"
      ]
     },
     "execution_count": 57,
     "metadata": {},
     "output_type": "execute_result"
    }
   ],
   "source": [
    "CairoData_clean['CheckIn'][20].isocalendar()[1]"
   ]
  },
  {
   "cell_type": "code",
   "execution_count": 59,
   "metadata": {},
   "outputs": [],
   "source": [
    "for i, j in enumerate(CairoData_clean['CheckIn']):\n",
    "    if j.month >= 3:\n",
    "        CairoData_clean['weeks_before_booking'][i]= j.isocalendar()[1] - 11\n",
    "    else:\n",
    "        CairoData_clean['weeks_before_booking'][i]= j.isocalendar()[1] + 42"
   ]
  },
  {
   "cell_type": "code",
   "execution_count": 60,
   "metadata": {},
   "outputs": [
    {
     "data": {
      "text/plain": [
       "array([20, 4, 30, 38, 24, 12, 18, 32, 49, 6, 14, 47, 34, 43, 0, 10, 26,\n",
       "       45, 22, 2, 36, 51, 28, 40, 8, 16], dtype=object)"
      ]
     },
     "execution_count": 60,
     "metadata": {},
     "output_type": "execute_result"
    }
   ],
   "source": [
    "CairoData_clean['weeks_before_booking'].unique()"
   ]
  },
  {
   "cell_type": "markdown",
   "metadata": {},
   "source": [
    "## Number of listings in the week"
   ]
  },
  {
   "cell_type": "code",
   "execution_count": 66,
   "metadata": {},
   "outputs": [],
   "source": [
    "NewYorkData_clean['ListingsNo_in_weekth']= None\n",
    "for i, j in enumerate(NewYorkData_clean['Year_week']):\n",
    "    NewYorkData_clean['ListingsNo_in_weekth'][i] = sum(NewYorkData_clean['Year_week']==j)"
   ]
  },
  {
   "cell_type": "code",
   "execution_count": 68,
   "metadata": {},
   "outputs": [],
   "source": [
    "BangkokData_clean['ListingsNo_in_weekth']= None\n",
    "for i, j in enumerate(BangkokData_clean['Year_week']):\n",
    "    BangkokData_clean['ListingsNo_in_weekth'][i] = sum(BangkokData_clean['Year_week']==j)"
   ]
  },
  {
   "cell_type": "code",
   "execution_count": 70,
   "metadata": {},
   "outputs": [],
   "source": [
    "CairoData_clean['ListingsNo_in_weekth']= None\n",
    "for i, j in enumerate(CairoData_clean['Year_week']):\n",
    "    CairoData_clean['ListingsNo_in_weekth'][i] = sum(CairoData_clean['Year_week']==j)"
   ]
  },
  {
   "cell_type": "markdown",
   "metadata": {},
   "source": [
    "## Saving the data"
   ]
  },
  {
   "cell_type": "code",
   "execution_count": 19,
   "metadata": {},
   "outputs": [],
   "source": [
    "NewYorkData_clean.to_csv(path_or_buf= Data_dir/'NewYorkData_clean.csv',columns= NewYorkData_clean.columns,index=False)\n",
    "BangkokData_clean.to_csv(path_or_buf= Data_dir/'BangkokData_clean.csv',columns= BangkokData_clean.columns,index=False,encoding='utf-8-sig')\n",
    "CairoData_clean.to_csv(path_or_buf= Data_dir/'CairoData_clean.csv',columns= CairoData_clean.columns,index=False,encoding='utf-8-sig')"
   ]
  }
 ],
 "metadata": {
  "kernelspec": {
   "display_name": "Python 3",
   "language": "python",
   "name": "python3"
  },
  "language_info": {
   "codemirror_mode": {
    "name": "ipython",
    "version": 3
   },
   "file_extension": ".py",
   "mimetype": "text/x-python",
   "name": "python",
   "nbconvert_exporter": "python",
   "pygments_lexer": "ipython3",
   "version": "3.7.1"
  }
 },
 "nbformat": 4,
 "nbformat_minor": 2
}
