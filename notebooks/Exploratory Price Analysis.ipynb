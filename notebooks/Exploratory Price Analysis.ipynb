{
 "cells": [
  {
   "cell_type": "code",
   "execution_count": null,
   "metadata": {},
   "outputs": [],
   "source": []
  },
  {
   "cell_type": "code",
   "execution_count": 1,
   "metadata": {},
   "outputs": [
    {
     "data": {
      "text/html": [
       "<script type=\"text/javascript\">window.PlotlyConfig = {MathJaxConfig: 'local'};</script><script type=\"text/javascript\">if (window.MathJax) {MathJax.Hub.Config({SVG: {font: \"STIX-Web\"}});}</script><script>requirejs.config({paths: { 'plotly': ['https://cdn.plot.ly/plotly-latest.min']},});if(!window._Plotly) {require(['plotly'],function(plotly) {window._Plotly=plotly;});}</script>"
      ],
      "text/vnd.plotly.v1+html": [
       "<script type=\"text/javascript\">window.PlotlyConfig = {MathJaxConfig: 'local'};</script><script type=\"text/javascript\">if (window.MathJax) {MathJax.Hub.Config({SVG: {font: \"STIX-Web\"}});}</script><script>requirejs.config({paths: { 'plotly': ['https://cdn.plot.ly/plotly-latest.min']},});if(!window._Plotly) {require(['plotly'],function(plotly) {window._Plotly=plotly;});}</script>"
      ]
     },
     "metadata": {},
     "output_type": "display_data"
    }
   ],
   "source": [
    "# Standard data science libraries\n",
    "import pandas as pd\n",
    "import numpy as np\n",
    "from pathlib import Path\n",
    "\n",
    "# Display all cell outputs\n",
    "from IPython.core.interactiveshell import InteractiveShell\n",
    "InteractiveShell.ast_node_interactivity = 'all'\n",
    "\n",
    "import plotly\n",
    "# Authenticate with your account\n",
    "plotly.tools.set_credentials_file(username='####',api_key='###')\n",
    "\n",
    "import plotly.plotly as py\n",
    "import plotly.graph_objs as go\n",
    "\n",
    "# Offline mode\n",
    "from plotly.offline import iplot\n",
    "plotly.offline.init_notebook_mode(connected=True)"
   ]
  },
  {
   "cell_type": "code",
   "execution_count": 2,
   "metadata": {},
   "outputs": [],
   "source": [
    "from bnb.data_processing.read import read_csvfile\n",
    "from bnb.data_processing.clean import group_by_date\n",
    "from bnb.data_processing.clean import price_format\n",
    "from bnb.data_processing.clean import bathrooms_int\n",
    "from bnb.data_processing.clean import shared_bathroom\n",
    "from bnb.data_processing.clean import super_host\n",
    "from bnb.data_processing.clean import beds_int\n",
    "from bnb.data_processing.clean import num_of_stars"
   ]
  },
  {
   "cell_type": "markdown",
   "metadata": {},
   "source": [
    "## Reading Data"
   ]
  },
  {
   "cell_type": "code",
   "execution_count": 3,
   "metadata": {},
   "outputs": [
    {
     "data": {
      "text/plain": [
       "WindowsPath('C:/Users/KBrig/AirBnBRepo/AirBnB/data')"
      ]
     },
     "execution_count": 3,
     "metadata": {},
     "output_type": "execute_result"
    }
   ],
   "source": [
    "Data_dir = Path('C:/Users/KBrig/AirBnBRepo/AirBnB/data')\n",
    "Data_dir"
   ]
  },
  {
   "cell_type": "code",
   "execution_count": 4,
   "metadata": {},
   "outputs": [],
   "source": [
    "NewYork_CSV = Data_dir/'AirBnBNY.csv'\n",
    "Bangkok_CSV = Data_dir/'AirBnbDataBangkok.csv'\n",
    "Cairo_CSV = Data_dir/'AirBnbDataCairo.csv'\n"
   ]
  },
  {
   "cell_type": "markdown",
   "metadata": {},
   "source": [
    "## NewYork"
   ]
  },
  {
   "cell_type": "code",
   "execution_count": 5,
   "metadata": {},
   "outputs": [
    {
     "data": {
      "text/html": [
       "<div>\n",
       "<style scoped>\n",
       "    .dataframe tbody tr th:only-of-type {\n",
       "        vertical-align: middle;\n",
       "    }\n",
       "\n",
       "    .dataframe tbody tr th {\n",
       "        vertical-align: top;\n",
       "    }\n",
       "\n",
       "    .dataframe thead th {\n",
       "        text-align: right;\n",
       "    }\n",
       "</style>\n",
       "<table border=\"1\" class=\"dataframe\">\n",
       "  <thead>\n",
       "    <tr style=\"text-align: right;\">\n",
       "      <th></th>\n",
       "      <th>Unnamed: 0</th>\n",
       "      <th>Accuracy_stars</th>\n",
       "      <th>Amenities</th>\n",
       "      <th>Bathrooms_num</th>\n",
       "      <th>Bedrooms_no</th>\n",
       "      <th>Beds_no</th>\n",
       "      <th>CheckIn</th>\n",
       "      <th>CheckIn_stars</th>\n",
       "      <th>CheckOut</th>\n",
       "      <th>Cleanliness_stars</th>\n",
       "      <th>...</th>\n",
       "      <th>Latitude</th>\n",
       "      <th>Location_stars</th>\n",
       "      <th>Longitude</th>\n",
       "      <th>Price</th>\n",
       "      <th>Review</th>\n",
       "      <th>Reviewers_no</th>\n",
       "      <th>Sleeping_engagment</th>\n",
       "      <th>Super_host</th>\n",
       "      <th>Title</th>\n",
       "      <th>Value_stars</th>\n",
       "    </tr>\n",
       "  </thead>\n",
       "  <tbody>\n",
       "    <tr>\n",
       "      <th>0</th>\n",
       "      <td>0</td>\n",
       "      <td>Rating 5 out of 5</td>\n",
       "      <td>['Indoor fireplace', 'Wifi', 'Iron', 'Laptop f...</td>\n",
       "      <td>1 bath</td>\n",
       "      <td>1 bedroom</td>\n",
       "      <td>1 bed</td>\n",
       "      <td>2019-03-21 00:00:00</td>\n",
       "      <td>Rating 5 out of 5</td>\n",
       "      <td>2019-03-26 00:00:00</td>\n",
       "      <td>Rating 5 out of 5</td>\n",
       "      <td>...</td>\n",
       "      <td>40.73321</td>\n",
       "      <td>Rating 5 out of 5</td>\n",
       "      <td>-74.00242</td>\n",
       "      <td>$244</td>\n",
       "      <td>87 Reviews\\r\\nAccuracy\\r\\nCommunication\\r\\nCle...</td>\n",
       "      <td>NaN</td>\n",
       "      <td>Bedroom 1\\r\\n1 queen bed</td>\n",
       "      <td>Brian is a Superhost ·</td>\n",
       "      <td>*Luxury 1 Bedrm Private Designer Home &amp; Roofdeck*</td>\n",
       "      <td>Rating 4.5 out of 5</td>\n",
       "    </tr>\n",
       "    <tr>\n",
       "      <th>1</th>\n",
       "      <td>1</td>\n",
       "      <td>Rating 4.5 out of 5</td>\n",
       "      <td>['Indoor fireplace', 'Wifi', 'Laptop friendly ...</td>\n",
       "      <td>1 shared bath</td>\n",
       "      <td>1 bedroom</td>\n",
       "      <td>1 bed</td>\n",
       "      <td>2019-03-21 00:00:00</td>\n",
       "      <td>Rating 4.5 out of 5</td>\n",
       "      <td>2019-03-26 00:00:00</td>\n",
       "      <td>Rating 4 out of 5</td>\n",
       "      <td>...</td>\n",
       "      <td>40.76580</td>\n",
       "      <td>Rating 5 out of 5</td>\n",
       "      <td>-73.95812</td>\n",
       "      <td>$62</td>\n",
       "      <td>5 Reviews\\r\\nAccuracy\\r\\nCommunication\\r\\nClea...</td>\n",
       "      <td>NaN</td>\n",
       "      <td>Bedroom 1\\r\\n1 single bed</td>\n",
       "      <td>Samet is a Superhost</td>\n",
       "      <td>Single Bedroom-Upper East Side-Central Park</td>\n",
       "      <td>Rating 4 out of 5</td>\n",
       "    </tr>\n",
       "    <tr>\n",
       "      <th>2</th>\n",
       "      <td>2</td>\n",
       "      <td>Rating 5 out of 5</td>\n",
       "      <td>['Wifi', 'Essentials', 'Heating', 'Air conditi...</td>\n",
       "      <td>1 shared bath</td>\n",
       "      <td>1 bedroom</td>\n",
       "      <td>1 bed</td>\n",
       "      <td>2019-03-21 00:00:00</td>\n",
       "      <td>Rating 5 out of 5</td>\n",
       "      <td>2019-03-26 00:00:00</td>\n",
       "      <td>Rating 5 out of 5</td>\n",
       "      <td>...</td>\n",
       "      <td>40.75972</td>\n",
       "      <td>Rating 4.5 out of 5</td>\n",
       "      <td>-74.03827</td>\n",
       "      <td>$44</td>\n",
       "      <td>83 Reviews\\r\\nAccuracy\\r\\nCommunication\\r\\nCle...</td>\n",
       "      <td>NaN</td>\n",
       "      <td>Bedroom 1\\r\\n1 queen bed</td>\n",
       "      <td>Rebecca is a Superhost</td>\n",
       "      <td>Quiet room for sleeping - 15 min from Times Sq...</td>\n",
       "      <td>Rating 5 out of 5</td>\n",
       "    </tr>\n",
       "    <tr>\n",
       "      <th>3</th>\n",
       "      <td>3</td>\n",
       "      <td>Rating 5 out of 5</td>\n",
       "      <td>['Wifi', 'Iron', 'Laptop friendly workspace', ...</td>\n",
       "      <td>2 shared baths</td>\n",
       "      <td>1 bedroom</td>\n",
       "      <td>1 bed</td>\n",
       "      <td>2019-03-21 00:00:00</td>\n",
       "      <td>Rating 5 out of 5</td>\n",
       "      <td>2019-03-26 00:00:00</td>\n",
       "      <td>Rating 5 out of 5</td>\n",
       "      <td>...</td>\n",
       "      <td>40.81386</td>\n",
       "      <td>Rating 5 out of 5</td>\n",
       "      <td>-73.95936</td>\n",
       "      <td>$78</td>\n",
       "      <td>32 Reviews\\r\\nAccuracy\\r\\nCommunication\\r\\nCle...</td>\n",
       "      <td>NaN</td>\n",
       "      <td>Bedroom 1\\r\\n1 queen bed</td>\n",
       "      <td>James is a Superhost</td>\n",
       "      <td>Cozy room C in upper west side NY, Columbia</td>\n",
       "      <td>Rating 5 out of 5</td>\n",
       "    </tr>\n",
       "    <tr>\n",
       "      <th>4</th>\n",
       "      <td>4</td>\n",
       "      <td>Rating 5 out of 5</td>\n",
       "      <td>['Wifi', 'Washer', 'Dryer', 'Iron', 'Laptop fr...</td>\n",
       "      <td>1.5 shared baths</td>\n",
       "      <td>1 bedroom</td>\n",
       "      <td>1 bed</td>\n",
       "      <td>2019-03-21 00:00:00</td>\n",
       "      <td>Rating 5 out of 5</td>\n",
       "      <td>2019-03-26 00:00:00</td>\n",
       "      <td>Rating 5 out of 5</td>\n",
       "      <td>...</td>\n",
       "      <td>40.69284</td>\n",
       "      <td>Rating 4.5 out of 5</td>\n",
       "      <td>-73.94418</td>\n",
       "      <td>$80</td>\n",
       "      <td>28 Reviews\\r\\nAccuracy\\r\\nCommunication\\r\\nCle...</td>\n",
       "      <td>NaN</td>\n",
       "      <td>NaN</td>\n",
       "      <td>Cat is a Superhost</td>\n",
       "      <td>Cozy in Bedstuy</td>\n",
       "      <td>Rating 5 out of 5</td>\n",
       "    </tr>\n",
       "  </tbody>\n",
       "</table>\n",
       "<p>5 rows × 23 columns</p>\n",
       "</div>"
      ],
      "text/plain": [
       "   Unnamed: 0       Accuracy_stars  \\\n",
       "0           0    Rating 5 out of 5   \n",
       "1           1  Rating 4.5 out of 5   \n",
       "2           2    Rating 5 out of 5   \n",
       "3           3    Rating 5 out of 5   \n",
       "4           4    Rating 5 out of 5   \n",
       "\n",
       "                                           Amenities     Bathrooms_num  \\\n",
       "0  ['Indoor fireplace', 'Wifi', 'Iron', 'Laptop f...            1 bath   \n",
       "1  ['Indoor fireplace', 'Wifi', 'Laptop friendly ...     1 shared bath   \n",
       "2  ['Wifi', 'Essentials', 'Heating', 'Air conditi...     1 shared bath   \n",
       "3  ['Wifi', 'Iron', 'Laptop friendly workspace', ...    2 shared baths   \n",
       "4  ['Wifi', 'Washer', 'Dryer', 'Iron', 'Laptop fr...  1.5 shared baths   \n",
       "\n",
       "  Bedrooms_no Beds_no              CheckIn        CheckIn_stars  \\\n",
       "0   1 bedroom   1 bed  2019-03-21 00:00:00    Rating 5 out of 5   \n",
       "1   1 bedroom   1 bed  2019-03-21 00:00:00  Rating 4.5 out of 5   \n",
       "2   1 bedroom   1 bed  2019-03-21 00:00:00    Rating 5 out of 5   \n",
       "3   1 bedroom   1 bed  2019-03-21 00:00:00    Rating 5 out of 5   \n",
       "4   1 bedroom   1 bed  2019-03-21 00:00:00    Rating 5 out of 5   \n",
       "\n",
       "              CheckOut  Cleanliness_stars         ...           Latitude  \\\n",
       "0  2019-03-26 00:00:00  Rating 5 out of 5         ...           40.73321   \n",
       "1  2019-03-26 00:00:00  Rating 4 out of 5         ...           40.76580   \n",
       "2  2019-03-26 00:00:00  Rating 5 out of 5         ...           40.75972   \n",
       "3  2019-03-26 00:00:00  Rating 5 out of 5         ...           40.81386   \n",
       "4  2019-03-26 00:00:00  Rating 5 out of 5         ...           40.69284   \n",
       "\n",
       "        Location_stars  Longitude  Price  \\\n",
       "0    Rating 5 out of 5  -74.00242   $244   \n",
       "1    Rating 5 out of 5  -73.95812    $62   \n",
       "2  Rating 4.5 out of 5  -74.03827    $44   \n",
       "3    Rating 5 out of 5  -73.95936    $78   \n",
       "4  Rating 4.5 out of 5  -73.94418    $80   \n",
       "\n",
       "                                              Review  Reviewers_no  \\\n",
       "0  87 Reviews\\r\\nAccuracy\\r\\nCommunication\\r\\nCle...           NaN   \n",
       "1  5 Reviews\\r\\nAccuracy\\r\\nCommunication\\r\\nClea...           NaN   \n",
       "2  83 Reviews\\r\\nAccuracy\\r\\nCommunication\\r\\nCle...           NaN   \n",
       "3  32 Reviews\\r\\nAccuracy\\r\\nCommunication\\r\\nCle...           NaN   \n",
       "4  28 Reviews\\r\\nAccuracy\\r\\nCommunication\\r\\nCle...           NaN   \n",
       "\n",
       "          Sleeping_engagment              Super_host  \\\n",
       "0   Bedroom 1\\r\\n1 queen bed  Brian is a Superhost ·   \n",
       "1  Bedroom 1\\r\\n1 single bed    Samet is a Superhost   \n",
       "2   Bedroom 1\\r\\n1 queen bed  Rebecca is a Superhost   \n",
       "3   Bedroom 1\\r\\n1 queen bed    James is a Superhost   \n",
       "4                        NaN      Cat is a Superhost   \n",
       "\n",
       "                                               Title          Value_stars  \n",
       "0  *Luxury 1 Bedrm Private Designer Home & Roofdeck*  Rating 4.5 out of 5  \n",
       "1        Single Bedroom-Upper East Side-Central Park    Rating 4 out of 5  \n",
       "2  Quiet room for sleeping - 15 min from Times Sq...    Rating 5 out of 5  \n",
       "3        Cozy room C in upper west side NY, Columbia    Rating 5 out of 5  \n",
       "4                                    Cozy in Bedstuy    Rating 5 out of 5  \n",
       "\n",
       "[5 rows x 23 columns]"
      ]
     },
     "execution_count": 5,
     "metadata": {},
     "output_type": "execute_result"
    }
   ],
   "source": [
    "NewYorkData = read_csvfile(NewYork_CSV)\n",
    "NewYorkData.head()\n"
   ]
  },
  {
   "cell_type": "markdown",
   "metadata": {},
   "source": [
    "## Bangkok"
   ]
  },
  {
   "cell_type": "code",
   "execution_count": 6,
   "metadata": {},
   "outputs": [
    {
     "data": {
      "text/html": [
       "<div>\n",
       "<style scoped>\n",
       "    .dataframe tbody tr th:only-of-type {\n",
       "        vertical-align: middle;\n",
       "    }\n",
       "\n",
       "    .dataframe tbody tr th {\n",
       "        vertical-align: top;\n",
       "    }\n",
       "\n",
       "    .dataframe thead th {\n",
       "        text-align: right;\n",
       "    }\n",
       "</style>\n",
       "<table border=\"1\" class=\"dataframe\">\n",
       "  <thead>\n",
       "    <tr style=\"text-align: right;\">\n",
       "      <th></th>\n",
       "      <th>CheckIn</th>\n",
       "      <th>CheckOut</th>\n",
       "      <th>Has_Weekend</th>\n",
       "      <th>Title</th>\n",
       "      <th>Price</th>\n",
       "      <th>Super_host</th>\n",
       "      <th>Latitude</th>\n",
       "      <th>Longitude</th>\n",
       "      <th>EntireHomeVsRoom</th>\n",
       "      <th>Bedrooms_no</th>\n",
       "      <th>...</th>\n",
       "      <th>Sleeping_engagment</th>\n",
       "      <th>Amenities</th>\n",
       "      <th>Accuracy_stars</th>\n",
       "      <th>Communication_stars</th>\n",
       "      <th>Cleanliness_stars</th>\n",
       "      <th>Location_stars</th>\n",
       "      <th>CheckIn_stars</th>\n",
       "      <th>Value_stars</th>\n",
       "      <th>Reviewers_no</th>\n",
       "      <th>Review</th>\n",
       "    </tr>\n",
       "  </thead>\n",
       "  <tbody>\n",
       "    <tr>\n",
       "      <th>0</th>\n",
       "      <td>2019-03-12 0:00</td>\n",
       "      <td>2019-03-17 0:00</td>\n",
       "      <td>True</td>\n",
       "      <td>Cosy room with 3 mins walk from MRT</td>\n",
       "      <td>$34</td>\n",
       "      <td>Thongjuta is a Superhost</td>\n",
       "      <td>13.78165</td>\n",
       "      <td>100.57453</td>\n",
       "      <td>ENTIRE APARTMENT</td>\n",
       "      <td>1 bedroom</td>\n",
       "      <td>...</td>\n",
       "      <td>Bedroom 1\\n1 queen bed</td>\n",
       "      <td>['Wifi', 'Iron', 'Cable TV', 'Laptop friendly ...</td>\n",
       "      <td>Rating 5 out of 5</td>\n",
       "      <td>Rating 5 out of 5</td>\n",
       "      <td>Rating 4.5 out of 5</td>\n",
       "      <td>Rating 5 out of 5</td>\n",
       "      <td>Rating 5 out of 5</td>\n",
       "      <td>Rating 5 out of 5</td>\n",
       "      <td>NaN</td>\n",
       "      <td>101 Reviews\\nAccuracy\\nCommunication\\nCleanlin...</td>\n",
       "    </tr>\n",
       "    <tr>\n",
       "      <th>1</th>\n",
       "      <td>2019-03-12 0:00</td>\n",
       "      <td>2019-03-17 0:00</td>\n",
       "      <td>True</td>\n",
       "      <td>曼谷市区BTS旁品质公寓</td>\n",
       "      <td>$48</td>\n",
       "      <td>NaN</td>\n",
       "      <td>13.69750</td>\n",
       "      <td>100.60708</td>\n",
       "      <td>ENTIRE APARTMENT</td>\n",
       "      <td>1 bedroom</td>\n",
       "      <td>...</td>\n",
       "      <td>Bedroom 1\\n1 double bed</td>\n",
       "      <td>['Wifi', 'Indoor fireplace', 'Heating', 'Iron'...</td>\n",
       "      <td>NaN</td>\n",
       "      <td>NaN</td>\n",
       "      <td>NaN</td>\n",
       "      <td>NaN</td>\n",
       "      <td>NaN</td>\n",
       "      <td>NaN</td>\n",
       "      <td>NaN</td>\n",
       "      <td>No reviews (yet)\\nBe one of the first guests t...</td>\n",
       "    </tr>\n",
       "    <tr>\n",
       "      <th>2</th>\n",
       "      <td>2019-03-12 0:00</td>\n",
       "      <td>2019-03-17 0:00</td>\n",
       "      <td>True</td>\n",
       "      <td>Modern apartment close to city near sky train(...</td>\n",
       "      <td>$27</td>\n",
       "      <td>Kiek is a Superhost</td>\n",
       "      <td>13.71252</td>\n",
       "      <td>100.46783</td>\n",
       "      <td>ENTIRE CONDOMINIUM</td>\n",
       "      <td>1 bedroom</td>\n",
       "      <td>...</td>\n",
       "      <td>Bedroom 1\\n1 queen bed</td>\n",
       "      <td>['Wifi', 'Heating', 'Laptop friendly workspace...</td>\n",
       "      <td>Rating 5 out of 5</td>\n",
       "      <td>Rating 5 out of 5</td>\n",
       "      <td>Rating 5 out of 5</td>\n",
       "      <td>Rating 4 out of 5</td>\n",
       "      <td>Rating 5 out of 5</td>\n",
       "      <td>Rating 4.5 out of 5</td>\n",
       "      <td>NaN</td>\n",
       "      <td>4 Reviews\\nAccuracy\\nCommunication\\nCleanlines...</td>\n",
       "    </tr>\n",
       "    <tr>\n",
       "      <th>3</th>\n",
       "      <td>2019-03-12 0:00</td>\n",
       "      <td>2019-03-17 0:00</td>\n",
       "      <td>True</td>\n",
       "      <td>Outstanding Location in Heart of Bangkok 2mins...</td>\n",
       "      <td>$35</td>\n",
       "      <td>NaN</td>\n",
       "      <td>13.72032</td>\n",
       "      <td>100.49623</td>\n",
       "      <td>ENTIRE CONDOMINIUM</td>\n",
       "      <td>1 bedroom</td>\n",
       "      <td>...</td>\n",
       "      <td>Bedroom 1\\n1 king bed</td>\n",
       "      <td>['Wifi', 'Iron', 'Cable TV', 'Laptop friendly ...</td>\n",
       "      <td>Rating 5 out of 5</td>\n",
       "      <td>Rating 5 out of 5</td>\n",
       "      <td>Rating 4.5 out of 5</td>\n",
       "      <td>Rating 5 out of 5</td>\n",
       "      <td>Rating 5 out of 5</td>\n",
       "      <td>Rating 5 out of 5</td>\n",
       "      <td>NaN</td>\n",
       "      <td>3 Reviews\\nAccuracy\\nCommunication\\nCleanlines...</td>\n",
       "    </tr>\n",
       "    <tr>\n",
       "      <th>4</th>\n",
       "      <td>2019-03-12 0:00</td>\n",
       "      <td>2019-03-17 0:00</td>\n",
       "      <td>True</td>\n",
       "      <td>5 Min walk MRT Phraram9, 1stop RodFai Train Ma...</td>\n",
       "      <td>$34</td>\n",
       "      <td>Patty is a Superhost</td>\n",
       "      <td>13.75738</td>\n",
       "      <td>100.56318</td>\n",
       "      <td>ENTIRE APARTMENT</td>\n",
       "      <td>NaN</td>\n",
       "      <td>...</td>\n",
       "      <td>Common spaces\\n2 queen beds, 1 floor mattress</td>\n",
       "      <td>['Wifi', 'Iron', 'Laptop friendly workspace', ...</td>\n",
       "      <td>NaN</td>\n",
       "      <td>NaN</td>\n",
       "      <td>NaN</td>\n",
       "      <td>NaN</td>\n",
       "      <td>NaN</td>\n",
       "      <td>NaN</td>\n",
       "      <td>NaN</td>\n",
       "      <td>No reviews (yet)\\nThis host has 1631 reviews f...</td>\n",
       "    </tr>\n",
       "  </tbody>\n",
       "</table>\n",
       "<p>5 rows × 22 columns</p>\n",
       "</div>"
      ],
      "text/plain": [
       "           CheckIn         CheckOut  Has_Weekend  \\\n",
       "0  2019-03-12 0:00  2019-03-17 0:00         True   \n",
       "1  2019-03-12 0:00  2019-03-17 0:00         True   \n",
       "2  2019-03-12 0:00  2019-03-17 0:00         True   \n",
       "3  2019-03-12 0:00  2019-03-17 0:00         True   \n",
       "4  2019-03-12 0:00  2019-03-17 0:00         True   \n",
       "\n",
       "                                               Title Price  \\\n",
       "0                Cosy room with 3 mins walk from MRT   $34   \n",
       "1                                       曼谷市区BTS旁品质公寓   $48   \n",
       "2  Modern apartment close to city near sky train(...   $27   \n",
       "3  Outstanding Location in Heart of Bangkok 2mins...   $35   \n",
       "4  5 Min walk MRT Phraram9, 1stop RodFai Train Ma...   $34   \n",
       "\n",
       "                 Super_host  Latitude  Longitude    EntireHomeVsRoom  \\\n",
       "0  Thongjuta is a Superhost  13.78165  100.57453    ENTIRE APARTMENT   \n",
       "1                       NaN  13.69750  100.60708    ENTIRE APARTMENT   \n",
       "2       Kiek is a Superhost  13.71252  100.46783  ENTIRE CONDOMINIUM   \n",
       "3                       NaN  13.72032  100.49623  ENTIRE CONDOMINIUM   \n",
       "4      Patty is a Superhost  13.75738  100.56318    ENTIRE APARTMENT   \n",
       "\n",
       "  Bedrooms_no                        ...                          \\\n",
       "0   1 bedroom                        ...                           \n",
       "1   1 bedroom                        ...                           \n",
       "2   1 bedroom                        ...                           \n",
       "3   1 bedroom                        ...                           \n",
       "4         NaN                        ...                           \n",
       "\n",
       "                              Sleeping_engagment  \\\n",
       "0                         Bedroom 1\\n1 queen bed   \n",
       "1                        Bedroom 1\\n1 double bed   \n",
       "2                         Bedroom 1\\n1 queen bed   \n",
       "3                          Bedroom 1\\n1 king bed   \n",
       "4  Common spaces\\n2 queen beds, 1 floor mattress   \n",
       "\n",
       "                                           Amenities     Accuracy_stars  \\\n",
       "0  ['Wifi', 'Iron', 'Cable TV', 'Laptop friendly ...  Rating 5 out of 5   \n",
       "1  ['Wifi', 'Indoor fireplace', 'Heating', 'Iron'...                NaN   \n",
       "2  ['Wifi', 'Heating', 'Laptop friendly workspace...  Rating 5 out of 5   \n",
       "3  ['Wifi', 'Iron', 'Cable TV', 'Laptop friendly ...  Rating 5 out of 5   \n",
       "4  ['Wifi', 'Iron', 'Laptop friendly workspace', ...                NaN   \n",
       "\n",
       "  Communication_stars    Cleanliness_stars     Location_stars  \\\n",
       "0   Rating 5 out of 5  Rating 4.5 out of 5  Rating 5 out of 5   \n",
       "1                 NaN                  NaN                NaN   \n",
       "2   Rating 5 out of 5    Rating 5 out of 5  Rating 4 out of 5   \n",
       "3   Rating 5 out of 5  Rating 4.5 out of 5  Rating 5 out of 5   \n",
       "4                 NaN                  NaN                NaN   \n",
       "\n",
       "       CheckIn_stars          Value_stars Reviewers_no  \\\n",
       "0  Rating 5 out of 5    Rating 5 out of 5          NaN   \n",
       "1                NaN                  NaN          NaN   \n",
       "2  Rating 5 out of 5  Rating 4.5 out of 5          NaN   \n",
       "3  Rating 5 out of 5    Rating 5 out of 5          NaN   \n",
       "4                NaN                  NaN          NaN   \n",
       "\n",
       "                                              Review  \n",
       "0  101 Reviews\\nAccuracy\\nCommunication\\nCleanlin...  \n",
       "1  No reviews (yet)\\nBe one of the first guests t...  \n",
       "2  4 Reviews\\nAccuracy\\nCommunication\\nCleanlines...  \n",
       "3  3 Reviews\\nAccuracy\\nCommunication\\nCleanlines...  \n",
       "4  No reviews (yet)\\nThis host has 1631 reviews f...  \n",
       "\n",
       "[5 rows x 22 columns]"
      ]
     },
     "execution_count": 6,
     "metadata": {},
     "output_type": "execute_result"
    }
   ],
   "source": [
    "BangkokData = read_csvfile(Bangkok_CSV)\n",
    "BangkokData.head()"
   ]
  },
  {
   "cell_type": "markdown",
   "metadata": {},
   "source": [
    "## Cairo"
   ]
  },
  {
   "cell_type": "code",
   "execution_count": 7,
   "metadata": {},
   "outputs": [
    {
     "data": {
      "text/html": [
       "<div>\n",
       "<style scoped>\n",
       "    .dataframe tbody tr th:only-of-type {\n",
       "        vertical-align: middle;\n",
       "    }\n",
       "\n",
       "    .dataframe tbody tr th {\n",
       "        vertical-align: top;\n",
       "    }\n",
       "\n",
       "    .dataframe thead th {\n",
       "        text-align: right;\n",
       "    }\n",
       "</style>\n",
       "<table border=\"1\" class=\"dataframe\">\n",
       "  <thead>\n",
       "    <tr style=\"text-align: right;\">\n",
       "      <th></th>\n",
       "      <th>CheckIn</th>\n",
       "      <th>CheckOut</th>\n",
       "      <th>Has_Weekend</th>\n",
       "      <th>Title</th>\n",
       "      <th>Price</th>\n",
       "      <th>Super_host</th>\n",
       "      <th>Latitude</th>\n",
       "      <th>Longitude</th>\n",
       "      <th>EntireHomeVsRoom</th>\n",
       "      <th>Bedrooms_no</th>\n",
       "      <th>...</th>\n",
       "      <th>Sleeping_engagment</th>\n",
       "      <th>Amenities</th>\n",
       "      <th>Accuracy_stars</th>\n",
       "      <th>Communication_stars</th>\n",
       "      <th>Cleanliness_stars</th>\n",
       "      <th>Location_stars</th>\n",
       "      <th>CheckIn_stars</th>\n",
       "      <th>Value_stars</th>\n",
       "      <th>Reviewers_no</th>\n",
       "      <th>Review</th>\n",
       "    </tr>\n",
       "  </thead>\n",
       "  <tbody>\n",
       "    <tr>\n",
       "      <th>0</th>\n",
       "      <td>2019-03-14 0:00</td>\n",
       "      <td>2019-03-19 0:00</td>\n",
       "      <td>True</td>\n",
       "      <td>Dad Haus!x</td>\n",
       "      <td>$15</td>\n",
       "      <td>NaN</td>\n",
       "      <td>29.95961</td>\n",
       "      <td>31.25858</td>\n",
       "      <td>Private room in apartment</td>\n",
       "      <td>1 bedroom</td>\n",
       "      <td>...</td>\n",
       "      <td>Bedroom 1\\n2 queen beds</td>\n",
       "      <td>['Wifi', 'Indoor fireplace', 'Dryer', 'Laptop ...</td>\n",
       "      <td>NaN</td>\n",
       "      <td>NaN</td>\n",
       "      <td>NaN</td>\n",
       "      <td>NaN</td>\n",
       "      <td>NaN</td>\n",
       "      <td>NaN</td>\n",
       "      <td>NaN</td>\n",
       "      <td>No reviews (yet)\\nBe one of the first guests t...</td>\n",
       "    </tr>\n",
       "    <tr>\n",
       "      <th>1</th>\n",
       "      <td>2019-03-14 0:00</td>\n",
       "      <td>2019-03-19 0:00</td>\n",
       "      <td>True</td>\n",
       "      <td>Apartment in Rehab City, Cairo.</td>\n",
       "      <td>$12</td>\n",
       "      <td>NaN</td>\n",
       "      <td>30.05760</td>\n",
       "      <td>31.48779</td>\n",
       "      <td>Entire apartment</td>\n",
       "      <td>1 bedroom</td>\n",
       "      <td>...</td>\n",
       "      <td>Bedroom 1\\n1 queen bed</td>\n",
       "      <td>['Wifi', 'Laptop friendly workspace', 'Washer'...</td>\n",
       "      <td>NaN</td>\n",
       "      <td>NaN</td>\n",
       "      <td>NaN</td>\n",
       "      <td>NaN</td>\n",
       "      <td>NaN</td>\n",
       "      <td>NaN</td>\n",
       "      <td>NaN</td>\n",
       "      <td>No reviews (yet)\\nThis host has 11 reviews for...</td>\n",
       "    </tr>\n",
       "    <tr>\n",
       "      <th>2</th>\n",
       "      <td>2019-03-14 0:00</td>\n",
       "      <td>2019-03-19 0:00</td>\n",
       "      <td>True</td>\n",
       "      <td>Sunny and friendly apartment close to the airport</td>\n",
       "      <td>$22</td>\n",
       "      <td>NaN</td>\n",
       "      <td>30.06085</td>\n",
       "      <td>31.49540</td>\n",
       "      <td>Private room in apartment</td>\n",
       "      <td>1 bedroom</td>\n",
       "      <td>...</td>\n",
       "      <td>NaN</td>\n",
       "      <td>['Wifi', 'Indoor fireplace', 'Cable TV', 'Lapt...</td>\n",
       "      <td>Rating 4 out of 5</td>\n",
       "      <td>Rating 5 out of 5</td>\n",
       "      <td>Rating 3.5 out of 5</td>\n",
       "      <td>Rating 4.5 out of 5</td>\n",
       "      <td>Rating 5 out of 5</td>\n",
       "      <td>Rating 4 out of 5</td>\n",
       "      <td>NaN</td>\n",
       "      <td>6 Reviews\\nAccuracy\\nCommunication\\nCleanlines...</td>\n",
       "    </tr>\n",
       "    <tr>\n",
       "      <th>3</th>\n",
       "      <td>2019-03-14 0:00</td>\n",
       "      <td>2019-03-19 0:00</td>\n",
       "      <td>True</td>\n",
       "      <td>Cozy 2 persons budget room in luxurious/safe area</td>\n",
       "      <td>$19</td>\n",
       "      <td>NaN</td>\n",
       "      <td>30.06284</td>\n",
       "      <td>31.51743</td>\n",
       "      <td>Private room in condominium</td>\n",
       "      <td>1 bedroom</td>\n",
       "      <td>...</td>\n",
       "      <td>Bedroom 1\\n2 single beds</td>\n",
       "      <td>['Wifi', 'Laptop friendly workspace', 'Iron', ...</td>\n",
       "      <td>Rating 5 out of 5</td>\n",
       "      <td>Rating 5 out of 5</td>\n",
       "      <td>Rating 5 out of 5</td>\n",
       "      <td>Rating 5 out of 5</td>\n",
       "      <td>Rating 5 out of 5</td>\n",
       "      <td>Rating 5 out of 5</td>\n",
       "      <td>NaN</td>\n",
       "      <td>4 Reviews\\nAccuracy\\nCommunication\\nCleanlines...</td>\n",
       "    </tr>\n",
       "    <tr>\n",
       "      <th>4</th>\n",
       "      <td>2019-03-14 0:00</td>\n",
       "      <td>2019-03-19 0:00</td>\n",
       "      <td>True</td>\n",
       "      <td>Girls apartment - Sunny and calm apartment</td>\n",
       "      <td>$23</td>\n",
       "      <td>NaN</td>\n",
       "      <td>30.06263</td>\n",
       "      <td>31.48585</td>\n",
       "      <td>Private room in apartment</td>\n",
       "      <td>1 bedroom</td>\n",
       "      <td>...</td>\n",
       "      <td>Bedroom 1\\n1 queen bed</td>\n",
       "      <td>['Wifi', 'Cable TV', 'Laptop friendly workspac...</td>\n",
       "      <td>NaN</td>\n",
       "      <td>NaN</td>\n",
       "      <td>NaN</td>\n",
       "      <td>NaN</td>\n",
       "      <td>NaN</td>\n",
       "      <td>NaN</td>\n",
       "      <td>NaN</td>\n",
       "      <td>2 Reviews\\nAmelia\\nDecember 2018\\nThank you ve...</td>\n",
       "    </tr>\n",
       "  </tbody>\n",
       "</table>\n",
       "<p>5 rows × 22 columns</p>\n",
       "</div>"
      ],
      "text/plain": [
       "           CheckIn         CheckOut  Has_Weekend  \\\n",
       "0  2019-03-14 0:00  2019-03-19 0:00         True   \n",
       "1  2019-03-14 0:00  2019-03-19 0:00         True   \n",
       "2  2019-03-14 0:00  2019-03-19 0:00         True   \n",
       "3  2019-03-14 0:00  2019-03-19 0:00         True   \n",
       "4  2019-03-14 0:00  2019-03-19 0:00         True   \n",
       "\n",
       "                                               Title Price Super_host  \\\n",
       "0                                         Dad Haus!x   $15        NaN   \n",
       "1                    Apartment in Rehab City, Cairo.   $12        NaN   \n",
       "2  Sunny and friendly apartment close to the airport   $22        NaN   \n",
       "3  Cozy 2 persons budget room in luxurious/safe area   $19        NaN   \n",
       "4         Girls apartment - Sunny and calm apartment   $23        NaN   \n",
       "\n",
       "   Latitude  Longitude             EntireHomeVsRoom Bedrooms_no  \\\n",
       "0  29.95961   31.25858    Private room in apartment   1 bedroom   \n",
       "1  30.05760   31.48779             Entire apartment   1 bedroom   \n",
       "2  30.06085   31.49540    Private room in apartment   1 bedroom   \n",
       "3  30.06284   31.51743  Private room in condominium   1 bedroom   \n",
       "4  30.06263   31.48585    Private room in apartment   1 bedroom   \n",
       "\n",
       "                         ...                          \\\n",
       "0                        ...                           \n",
       "1                        ...                           \n",
       "2                        ...                           \n",
       "3                        ...                           \n",
       "4                        ...                           \n",
       "\n",
       "         Sleeping_engagment  \\\n",
       "0   Bedroom 1\\n2 queen beds   \n",
       "1    Bedroom 1\\n1 queen bed   \n",
       "2                       NaN   \n",
       "3  Bedroom 1\\n2 single beds   \n",
       "4    Bedroom 1\\n1 queen bed   \n",
       "\n",
       "                                           Amenities     Accuracy_stars  \\\n",
       "0  ['Wifi', 'Indoor fireplace', 'Dryer', 'Laptop ...                NaN   \n",
       "1  ['Wifi', 'Laptop friendly workspace', 'Washer'...                NaN   \n",
       "2  ['Wifi', 'Indoor fireplace', 'Cable TV', 'Lapt...  Rating 4 out of 5   \n",
       "3  ['Wifi', 'Laptop friendly workspace', 'Iron', ...  Rating 5 out of 5   \n",
       "4  ['Wifi', 'Cable TV', 'Laptop friendly workspac...                NaN   \n",
       "\n",
       "  Communication_stars    Cleanliness_stars       Location_stars  \\\n",
       "0                 NaN                  NaN                  NaN   \n",
       "1                 NaN                  NaN                  NaN   \n",
       "2   Rating 5 out of 5  Rating 3.5 out of 5  Rating 4.5 out of 5   \n",
       "3   Rating 5 out of 5    Rating 5 out of 5    Rating 5 out of 5   \n",
       "4                 NaN                  NaN                  NaN   \n",
       "\n",
       "       CheckIn_stars        Value_stars Reviewers_no  \\\n",
       "0                NaN                NaN          NaN   \n",
       "1                NaN                NaN          NaN   \n",
       "2  Rating 5 out of 5  Rating 4 out of 5          NaN   \n",
       "3  Rating 5 out of 5  Rating 5 out of 5          NaN   \n",
       "4                NaN                NaN          NaN   \n",
       "\n",
       "                                              Review  \n",
       "0  No reviews (yet)\\nBe one of the first guests t...  \n",
       "1  No reviews (yet)\\nThis host has 11 reviews for...  \n",
       "2  6 Reviews\\nAccuracy\\nCommunication\\nCleanlines...  \n",
       "3  4 Reviews\\nAccuracy\\nCommunication\\nCleanlines...  \n",
       "4  2 Reviews\\nAmelia\\nDecember 2018\\nThank you ve...  \n",
       "\n",
       "[5 rows x 22 columns]"
      ]
     },
     "execution_count": 7,
     "metadata": {},
     "output_type": "execute_result"
    }
   ],
   "source": [
    "CairoData = read_csvfile(Cairo_CSV)\n",
    "CairoData.head()"
   ]
  },
  {
   "cell_type": "markdown",
   "metadata": {},
   "source": [
    "## Data Preprocessing"
   ]
  },
  {
   "cell_type": "markdown",
   "metadata": {},
   "source": [
    "## NewYork"
   ]
  },
  {
   "cell_type": "code",
   "execution_count": 8,
   "metadata": {},
   "outputs": [
    {
     "data": {
      "text/plain": [
       "(3957, 23)"
      ]
     },
     "execution_count": 8,
     "metadata": {},
     "output_type": "execute_result"
    }
   ],
   "source": [
    "NewYorkData.shape"
   ]
  },
  {
   "cell_type": "code",
   "execution_count": 9,
   "metadata": {},
   "outputs": [
    {
     "name": "stdout",
     "output_type": "stream",
     "text": [
      "<class 'pandas.core.frame.DataFrame'>\n",
      "RangeIndex: 3957 entries, 0 to 3956\n",
      "Data columns (total 23 columns):\n",
      "Unnamed: 0             3957 non-null int64\n",
      "Accuracy_stars         3614 non-null object\n",
      "Amenities              3957 non-null object\n",
      "Bathrooms_num          3922 non-null object\n",
      "Bedrooms_no            3348 non-null object\n",
      "Beds_no                3895 non-null object\n",
      "CheckIn                3957 non-null object\n",
      "CheckIn_stars          3614 non-null object\n",
      "CheckOut               3957 non-null object\n",
      "Cleanliness_stars      3614 non-null object\n",
      "Communication_stars    3614 non-null object\n",
      "EntireHomeVsRoom       3957 non-null object\n",
      "Has_Weekend            3957 non-null bool\n",
      "Latitude               3957 non-null float64\n",
      "Location_stars         3614 non-null object\n",
      "Longitude              3957 non-null float64\n",
      "Price                  3917 non-null object\n",
      "Review                 3956 non-null object\n",
      "Reviewers_no           0 non-null float64\n",
      "Sleeping_engagment     3158 non-null object\n",
      "Super_host             1947 non-null object\n",
      "Title                  3957 non-null object\n",
      "Value_stars            3614 non-null object\n",
      "dtypes: bool(1), float64(3), int64(1), object(18)\n",
      "memory usage: 684.1+ KB\n"
     ]
    }
   ],
   "source": [
    "NewYorkData.info()"
   ]
  },
  {
   "cell_type": "markdown",
   "metadata": {},
   "source": [
    "We have a total of 23 features as shown above: 1 boolean (Has_Weekend), 3 numeric, float64(Latitude, Longitude, Reviewers_num), and the rest are saved as data objects. Let's go through them!! \n",
    "\n"
   ]
  },
  {
   "cell_type": "markdown",
   "metadata": {},
   "source": [
    "So, we need to keep ONLY features that can add information to our analysis. Predictors with many null values can be considered redundant and ignore tham."
   ]
  },
  {
   "cell_type": "markdown",
   "metadata": {},
   "source": [
    "### Missing Data"
   ]
  },
  {
   "cell_type": "code",
   "execution_count": 10,
   "metadata": {},
   "outputs": [
    {
     "data": {
      "text/plain": [
       "Unnamed: 0                0\n",
       "Accuracy_stars          343\n",
       "Amenities                 0\n",
       "Bathrooms_num            35\n",
       "Bedrooms_no             609\n",
       "Beds_no                  62\n",
       "CheckIn                   0\n",
       "CheckIn_stars           343\n",
       "CheckOut                  0\n",
       "Cleanliness_stars       343\n",
       "Communication_stars     343\n",
       "EntireHomeVsRoom          0\n",
       "Has_Weekend               0\n",
       "Latitude                  0\n",
       "Location_stars          343\n",
       "Longitude                 0\n",
       "Price                    40\n",
       "Review                    1\n",
       "Reviewers_no           3957\n",
       "Sleeping_engagment      799\n",
       "Super_host             2010\n",
       "Title                     0\n",
       "Value_stars             343\n",
       "dtype: int64"
      ]
     },
     "execution_count": 10,
     "metadata": {},
     "output_type": "execute_result"
    }
   ],
   "source": [
    "NewYorkData.isnull().sum()"
   ]
  },
  {
   "cell_type": "code",
   "execution_count": 11,
   "metadata": {},
   "outputs": [
    {
     "data": {
      "text/plain": [
       "['Reviewers_no', 'Super_host']"
      ]
     },
     "execution_count": 11,
     "metadata": {},
     "output_type": "execute_result"
    }
   ],
   "source": [
    "## Features with large number of missing data\n",
    "[column for column in NewYorkData.columns if NewYorkData[column].count() / len(NewYorkData) <= 0.7]"
   ]
  },
  {
   "cell_type": "markdown",
   "metadata": {},
   "source": [
    "So \"Super_host\" can have two possible values: Yes/True or No/False. Samples with null values are actually representing non super_host. On the other hand, having 3957 of null values for the Reviews_no says that there is something wrong with collecting data for this variable. So, it is better to exclude it.\n",
    "\n",
    "Also, for the reviews' features, we see that we have the same number of null values for the Accuracy,CheckIn,Cleanliness,Communication, Location and Value Stars. This make sense since this number points to the homes with \"no reviews yet\".  We are going to have this invistigation for all features!"
   ]
  },
  {
   "cell_type": "markdown",
   "metadata": {},
   "source": [
    "Let's classify the features: numeric, catogerical,etc.\n"
   ]
  },
  {
   "cell_type": "markdown",
   "metadata": {},
   "source": [
    "So we have 23 variables six of them are categorical variables reflecting the clients' satisfaction in different aspects: 'Accuracy_stars','CheckIn_stars','Cleanliness_stars','Communication_stars','Location_stars','Value_stars'.\n",
    "\n",
    "Other categorical variables such as 'EntireHomeVsRoom','Has_Weekend', and 'Sleeping_engagment'.\n",
    "\n",
    "We also have dates: 'CheckIn','CheckOut'.\n",
    "\n",
    "We have three numeric features: 'Price','Bathrooms_num', 'Bedrooms_no', 'Beds_no', 'Latitude','Longitude'.\n",
    "\n",
    "rest:'Review', 'Title', and 'Super_host'\n"
   ]
  },
  {
   "cell_type": "markdown",
   "metadata": {},
   "source": [
    "Let's tidy up!\n"
   ]
  },
  {
   "cell_type": "code",
   "execution_count": 12,
   "metadata": {},
   "outputs": [],
   "source": [
    "NewYorkData.drop(['Unnamed: 0','Reviewers_no'],axis=1, inplace=True)"
   ]
  },
  {
   "cell_type": "markdown",
   "metadata": {},
   "source": [
    "### Does it have a weekend?"
   ]
  },
  {
   "cell_type": "markdown",
   "metadata": {},
   "source": [
    "We have originally one boolean variable \"Has_Weekend\". Let's check its levels!"
   ]
  },
  {
   "cell_type": "code",
   "execution_count": 13,
   "metadata": {},
   "outputs": [
    {
     "data": {
      "text/plain": [
       "array([ True])"
      ]
     },
     "execution_count": 13,
     "metadata": {},
     "output_type": "execute_result"
    }
   ],
   "source": [
    "NewYorkData['Has_Weekend'].unique()"
   ]
  },
  {
   "cell_type": "markdown",
   "metadata": {},
   "source": [
    "So \"Has_Weekend\" doesn't say more than every time_period is a mix of weekdays and weekends. Thus, we can ignore it!"
   ]
  },
  {
   "cell_type": "code",
   "execution_count": 14,
   "metadata": {},
   "outputs": [],
   "source": [
    "NewYorkData.drop('Has_Weekend',axis=1, inplace=True)"
   ]
  },
  {
   "cell_type": "markdown",
   "metadata": {},
   "source": [
    "### Is Super Host?"
   ]
  },
  {
   "cell_type": "code",
   "execution_count": 15,
   "metadata": {},
   "outputs": [
    {
     "data": {
      "text/plain": [
       "0    Brian is a Superhost ·\n",
       "1      Samet is a Superhost\n",
       "2    Rebecca is a Superhost\n",
       "3      James is a Superhost\n",
       "4        Cat is a Superhost\n",
       "5       Rick is a Superhost\n",
       "6                       NaN\n",
       "7    Shailah is a Superhost\n",
       "8                       NaN\n",
       "9       Obed is a Superhost\n",
       "Name: Super_host, dtype: object"
      ]
     },
     "execution_count": 15,
     "metadata": {},
     "output_type": "execute_result"
    }
   ],
   "source": [
    "NewYorkData.Super_host[0:10]"
   ]
  },
  {
   "cell_type": "code",
   "execution_count": 16,
   "metadata": {},
   "outputs": [],
   "source": [
    "NewYorkData['Super_host'] = super_host(NewYorkData)"
   ]
  },
  {
   "cell_type": "markdown",
   "metadata": {},
   "source": [
    "True = 1, False = 0"
   ]
  },
  {
   "cell_type": "code",
   "execution_count": 17,
   "metadata": {},
   "outputs": [
    {
     "data": {
      "text/plain": [
       "0    1\n",
       "1    1\n",
       "2    1\n",
       "3    1\n",
       "4    1\n",
       "5    1\n",
       "6    0\n",
       "7    1\n",
       "8    0\n",
       "9    1\n",
       "Name: Super_host, dtype: int64"
      ]
     },
     "execution_count": 17,
     "metadata": {},
     "output_type": "execute_result"
    }
   ],
   "source": [
    "NewYorkData['Super_host'][0:10]"
   ]
  },
  {
   "cell_type": "markdown",
   "metadata": {},
   "source": [
    "## Numeric Data"
   ]
  },
  {
   "cell_type": "markdown",
   "metadata": {},
   "source": [
    "### Price"
   ]
  },
  {
   "cell_type": "code",
   "execution_count": 18,
   "metadata": {},
   "outputs": [
    {
     "name": "stdout",
     "output_type": "stream",
     "text": [
      "<class 'str'>\n",
      "0    $244\n",
      "1     $62\n",
      "2     $44\n",
      "3     $78\n",
      "4     $80\n",
      "5    $116\n",
      "6     $96\n",
      "7    $119\n",
      "8     $73\n",
      "9     $63\n",
      "Name: Price, dtype: object\n"
     ]
    }
   ],
   "source": [
    "print(type(NewYorkData['Price'][0]))\n",
    "print(NewYorkData['Price'][0:10])"
   ]
  },
  {
   "cell_type": "code",
   "execution_count": 19,
   "metadata": {},
   "outputs": [],
   "source": [
    "NewYorkData['Price'] = price_format(NewYorkData)"
   ]
  },
  {
   "cell_type": "code",
   "execution_count": 20,
   "metadata": {},
   "outputs": [
    {
     "name": "stdout",
     "output_type": "stream",
     "text": [
      "<class 'numpy.float64'>\n",
      "0    244.0\n",
      "1     62.0\n",
      "2     44.0\n",
      "3     78.0\n",
      "4     80.0\n",
      "5    116.0\n",
      "6     96.0\n",
      "7    119.0\n",
      "8     73.0\n",
      "9     63.0\n",
      "Name: Price, dtype: float64\n"
     ]
    }
   ],
   "source": [
    "print(type(NewYorkData['Price'][0]))\n",
    "print(NewYorkData['Price'][0:10])"
   ]
  },
  {
   "cell_type": "markdown",
   "metadata": {},
   "source": [
    "### Number of Bathrooms"
   ]
  },
  {
   "cell_type": "code",
   "execution_count": 21,
   "metadata": {},
   "outputs": [
    {
     "name": "stdout",
     "output_type": "stream",
     "text": [
      "<class 'str'>\n",
      "['1 bath' '1 shared bath' '2 shared baths' '1.5 shared baths'\n",
      " '1.5 private baths' '1 private bath' '2 private baths' nan\n",
      " '2.5 shared baths' '2 baths' '2.5 private baths' '3 shared baths'\n",
      " '4 shared baths' '0 baths' 'Half-bath' 'Shared half-bath' '1.5 baths'\n",
      " '2.5 baths' '3 baths' '0 shared baths' '3.5 shared baths']\n"
     ]
    }
   ],
   "source": [
    "print(type(NewYorkData['Bathrooms_num'][0]))\n",
    "print(NewYorkData['Bathrooms_num'].unique())"
   ]
  },
  {
   "cell_type": "code",
   "execution_count": 146,
   "metadata": {},
   "outputs": [],
   "source": [
    "NewYorkData['Bathrooms_num_int']= float(0)"
   ]
  },
  {
   "cell_type": "code",
   "execution_count": 147,
   "metadata": {},
   "outputs": [
    {
     "name": "stderr",
     "output_type": "stream",
     "text": [
      "c:\\users\\kbrig\\airbnbrepo\\airbnb\\bnb\\data_processing\\clean.py:15: SettingWithCopyWarning:\n",
      "\n",
      "\n",
      "A value is trying to be set on a copy of a slice from a DataFrame\n",
      "\n",
      "See the caveats in the documentation: http://pandas.pydata.org/pandas-docs/stable/indexing.html#indexing-view-versus-copy\n",
      "\n"
     ]
    }
   ],
   "source": [
    "NewYorkData['Bathrooms_num_int'] = bathrooms_int(NewYorkData)"
   ]
  },
  {
   "cell_type": "code",
   "execution_count": 150,
   "metadata": {},
   "outputs": [
    {
     "name": "stdout",
     "output_type": "stream",
     "text": [
      "1 bath 1.0\n",
      "1 shared bath 1.0\n",
      "1 shared bath 1.0\n",
      "2 shared baths 2.0\n",
      "1.5 shared baths 1.5\n",
      "1 shared bath 1.0\n",
      "1 shared bath 1.0\n",
      "1 shared bath 1.0\n",
      "1 shared bath 1.0\n",
      "2 shared baths 2.0\n"
     ]
    }
   ],
   "source": [
    "for i in range(10):\n",
    "    print(NewYorkData['Bathrooms_num'][i],NewYorkData['Bathrooms_num_int'][i])"
   ]
  },
  {
   "cell_type": "markdown",
   "metadata": {},
   "source": [
    "### Shared vs. Private Bathroom"
   ]
  },
  {
   "cell_type": "code",
   "execution_count": 151,
   "metadata": {},
   "outputs": [],
   "source": [
    "NewYorkData['shared_bathroom']= shared_bathroom(NewYorkData)"
   ]
  },
  {
   "cell_type": "code",
   "execution_count": 152,
   "metadata": {},
   "outputs": [
    {
     "data": {
      "text/html": [
       "<div>\n",
       "<style scoped>\n",
       "    .dataframe tbody tr th:only-of-type {\n",
       "        vertical-align: middle;\n",
       "    }\n",
       "\n",
       "    .dataframe tbody tr th {\n",
       "        vertical-align: top;\n",
       "    }\n",
       "\n",
       "    .dataframe thead th {\n",
       "        text-align: right;\n",
       "    }\n",
       "</style>\n",
       "<table border=\"1\" class=\"dataframe\">\n",
       "  <thead>\n",
       "    <tr style=\"text-align: right;\">\n",
       "      <th></th>\n",
       "      <th>Bathrooms_num</th>\n",
       "      <th>shared_bathroom</th>\n",
       "    </tr>\n",
       "  </thead>\n",
       "  <tbody>\n",
       "    <tr>\n",
       "      <th>0</th>\n",
       "      <td>1 bath</td>\n",
       "      <td>False</td>\n",
       "    </tr>\n",
       "    <tr>\n",
       "      <th>1</th>\n",
       "      <td>1 shared bath</td>\n",
       "      <td>True</td>\n",
       "    </tr>\n",
       "    <tr>\n",
       "      <th>2</th>\n",
       "      <td>1 shared bath</td>\n",
       "      <td>True</td>\n",
       "    </tr>\n",
       "    <tr>\n",
       "      <th>3</th>\n",
       "      <td>2 shared baths</td>\n",
       "      <td>True</td>\n",
       "    </tr>\n",
       "    <tr>\n",
       "      <th>4</th>\n",
       "      <td>1.5 shared baths</td>\n",
       "      <td>True</td>\n",
       "    </tr>\n",
       "    <tr>\n",
       "      <th>5</th>\n",
       "      <td>1 shared bath</td>\n",
       "      <td>True</td>\n",
       "    </tr>\n",
       "    <tr>\n",
       "      <th>6</th>\n",
       "      <td>1 shared bath</td>\n",
       "      <td>True</td>\n",
       "    </tr>\n",
       "    <tr>\n",
       "      <th>7</th>\n",
       "      <td>1 shared bath</td>\n",
       "      <td>True</td>\n",
       "    </tr>\n",
       "    <tr>\n",
       "      <th>8</th>\n",
       "      <td>1 shared bath</td>\n",
       "      <td>True</td>\n",
       "    </tr>\n",
       "    <tr>\n",
       "      <th>9</th>\n",
       "      <td>2 shared baths</td>\n",
       "      <td>True</td>\n",
       "    </tr>\n",
       "  </tbody>\n",
       "</table>\n",
       "</div>"
      ],
      "text/plain": [
       "      Bathrooms_num  shared_bathroom\n",
       "0            1 bath            False\n",
       "1     1 shared bath             True\n",
       "2     1 shared bath             True\n",
       "3    2 shared baths             True\n",
       "4  1.5 shared baths             True\n",
       "5     1 shared bath             True\n",
       "6     1 shared bath             True\n",
       "7     1 shared bath             True\n",
       "8     1 shared bath             True\n",
       "9    2 shared baths             True"
      ]
     },
     "execution_count": 152,
     "metadata": {},
     "output_type": "execute_result"
    }
   ],
   "source": [
    "NewYorkData[['Bathrooms_num','shared_bathroom']][0:10]"
   ]
  },
  {
   "cell_type": "markdown",
   "metadata": {},
   "source": [
    "### Number of Bedrooms"
   ]
  },
  {
   "cell_type": "code",
   "execution_count": 23,
   "metadata": {},
   "outputs": [
    {
     "name": "stdout",
     "output_type": "stream",
     "text": [
      "<class 'str'>\n",
      "['1 bedroom' 'Super cute 1 bedroom apartment close to TimeSquare' nan\n",
      " 'Large private bedroom 1 stop from Manhattan'\n",
      " '1 large bedroom HARLEM/NYC/terrace/'\n",
      " 'Cozy tiny bedroom w/large living-room & kitchen.' '2 bedrooms'\n",
      " 'Beautiful bedroom close to NYC' '3 bedrooms'\n",
      " 'Spacious 3 bedroom apartment in WILLIAMSBURG'\n",
      " 'Urban Farmers bedroom complete with fort' '4 bedrooms'\n",
      " 'Cozy bedroom in townhouse with backyard in LIC'\n",
      " 'Convenient Private bedroom 10 MIN FROM NYC'\n",
      " 'Cozy bedroom with balcony. 25min TimeSquare'\n",
      " 'Sunny, Clean, Nice bedroom available in Bushwick'\n",
      " 'Large bedroom/Heart of Brooklyn'\n",
      " 'Private bedroom in the Upper West Side, Manhattan'\n",
      " 'Large queen size bedroom in huge loft apt'\n",
      " 'Nice bedroom in east village apartment'\n",
      " 'Very large and comfortable Manhattan one bedroom.'\n",
      " 'Oasis bedroom for solo travelers' 'Big bedroom with queen size Bed'\n",
      " 'Cozy bedroom by Yankee Stadium'\n",
      " 'Private bedroom&bathroom in the heart of Manhattan'\n",
      " 'Huge private bedroom for quiet sleep in Manhattan!'\n",
      " 'A sunny healthy big bedroom'\n",
      " 'Beautiful bedroom in PERFECT Brooklyn location!'\n",
      " 'Large one bedroom in historic Clinton Hill'\n",
      " 'Stunning Penthouse 2 bedrooms full city view'\n",
      " '(☆☆☆☆☆) New ultra-modern 1 bedroom apartment'\n",
      " 'Modern, Park Slope, entire one-bedroom apartment'\n",
      " 'Art Large bedroom Brownstone for 1 or 2 persons'\n",
      " 'Amazing large studio with King Size bed in the heart of Manhattan. This apartment is bigger than some one bedroom apartments in the city! It is a large open layout very comfortable for 2 people.'\n",
      " 'Spacious UES 1 bedroom apartment' 'Cozy One bedroom apartment'\n",
      " \"Massiel's view 1 bedroom studio with a sofa bed\"\n",
      " 'Gorgeous, charming upper east side one bedroom'\n",
      " 'Apartment has 15 ft ceilings, loft bedroom, Cinema, wifi, Netflix, Fully equipped Kitchen, laundry in building and central to the best restaurants and bars New York has to offer.'\n",
      " 'Came to NYC for the first time with my best friend and so happy we chose to stay at Haru’s place! It was a very tiny bedroom in a co-ed living space type building, but we were hardly in the room so it didn’t bother us at all. There was a lock on the door so we felt safe. There…Read more'\n",
      " 'Light, space and view in Bronx private bedroom.'\n",
      " 'Private master bedroom next to Central Park & CU'\n",
      " 'Peaceful one bedroom, professionally decorated apartment in the heart of the East Village. With close proximity to NYC transit, this is a cozy place to retreat on a visit to NYC, while having easy access to the entire city.'\n",
      " 'cozy two bedroom apt by central park'\n",
      " '2 bedroom flat in Greenwich Village New York'\n",
      " 'Comfortable one bedroom with patio'\n",
      " 'Private bedroom in a loft apartment (Williamsburg)'\n",
      " '1 bedroom with 3 beds in the heart of Times Square'\n",
      " 'Lovely 2-bedroom 1bath in Chinatown & Little Italy'\n",
      " 'Sunny with 2 large bedrooms' 'Amazing 3 bedroom in Williamsburg'\n",
      " '5 bedrooms' 'Lovely private bedroom in Manhattan'\n",
      " '★Unique two bedroom on 2nd Avenue★'\n",
      " 'Sunny, spacious 1-bedroom in Upper Manhattan'\n",
      " 'The place is in a great neighbourhood to have as a central location in NYC. Communication was excellent with Paul and it was easy to access. That said, the place is very tiny and has almost no usable space. The \"loft\" bedroom has about 28\" of clearance and we slept on a futon…Read more'\n",
      " 'Step-free access to the bedroom'\n",
      " 'Charming 1 bedroom apt steps away from subway'\n",
      " 'Beautiful two bedroom apartment in Manhattan NYC'\n",
      " 'One bedroom railroad style'\n",
      " 'Cozy bedroom, convenient, Woodside, 7 train'\n",
      " 'Light and airy 2 bedroom apartment.'\n",
      " 'Söderläge - 3 bedrooms in Williamsburg, Brooklyn'\n",
      " 'Prime Williamsburg Large bedroom for 1or2 people'\n",
      " 'Private 1 bedroom suite with backyard access'\n",
      " 'Spacious, artistic 1-bedroom near The Cloisters!'\n",
      " 'Sunny and Sweet 2 bedroom in LES' 'Big apartment, comfy - calm bedroom'\n",
      " 'Beautiful 3 bedroom loft Greenpoint/Williamsburg!'\n",
      " 'gorgeous 2 bedroom loft!'\n",
      " \"Our time spent in Alex's apartment in Chelsea was very enjoyable. Alex was a friendly host who responded to our needs quickly and cheerfully. The one thing that any future guests should know is that because of the loft bedroom, the head room in the entrance and kitchen is very…Read more\"\n",
      " 'XL Private 3 bedroom Full floor E. Village Apt!'\n",
      " 'Prospect Park 3 bedroom, Sleeps 8'\n",
      " \"Times Square/ Hell's Kitchen HUGE 1 bedroom Apt\"\n",
      " 'The studio is located on the 6th floor which is the top floor of an old industrial building in downtown New York City. With rare high 11.5 ft. ceilings, bright western exposure, oversized window with expansive views. You can watch the clouds roll in from the west and view the construction of the new Freedom Tower. A rare view in NYC. located in Manhattan’s lower east side the cultural hubub of the city. Chinatown offers a variety of authentic cuisine, out door markets and fun specialty shops. If your an early riser in the morning the locals practice tai chi in the nearby park; wether your interested in participating or just a spectator. Historically, the oldest synagogue is right down the block along with the building that George Gershwin was raised. The tenement museum is just a few blocks east along with the growing, ever changing lower east side hip gallery scene. There you will discover some of the best new restaurants and cafes as well as bars and night life. There are many grocery options too, A new Whole Foods is a few blocks away. We are just a short walk to Little Italy, Soho, or Tribeca or hop on any train within walking distance to get you to uptown east or west sides. Layout with loft bedroom area. A strong oak library ladder makes for safe easy access to the loft. There is also a couch/day bed in main area which can be used as a second sleeping arrangement. You will have plenty of blankets and pillows, all cotton sheets and all the fluffy towels you can possible need. Recently renovated bathroom and kitchen, all new appliances, marble and tile shower. It us clutter free. You will find a few tools about, but be assured nothing will be in your way. There is closet and storage space. The kitchen is fully equipped with pots, pans and utensils. There are umbrellas, hair dryers, an iron and board to use for your convenience, Wi Fi and HD TV ! I live down the hall so you have the luxury of contacting me if you need anything. I have received packages and lost luggage, or I am here for quick directions and advice. On the other had I assure you total privacy, We may never cross paths. I welcome you to Check out my reviews. Everyone who visits is very happy. Its an amazing, stylish and comfy spot. A great pied-a-terres in lower Manhattan.'\n",
      " 'Cozy 1 bedroom/ Minutes from NY'\n",
      " '1 bedroom Apt 1 minute from the subway!'\n",
      " 'Sunny, private bedroom, bathroom in Red Hook Bklyn'\n",
      " '3 bedroom Downtown Manhattan, NYC, Elevator, Quiet'\n",
      " 'cool three bedroom on 111th street' 'Cozy 1 bedroom/ Minutes from NYC'\n",
      " 'Lovely 3 bedroom Townhouse in BK Historic District'\n",
      " 'Large one bedroom!!' 'Two bedroom apartment in Manhattan!'\n",
      " 'Amazing Midtown 2bedrooms by United Nation!!' '6 bedrooms'\n",
      " 'Bright & Cozy 4 bedroom 2 bath in the East Village'\n",
      " 'New 1 bedroom renovated on a brownstone' 'Awesome Chelsea 1 bedroom'\n",
      " 'Sunny bedroom with backyard (L Jefferson)' 'One bedroom apartment'\n",
      " 'Cozy Astoria bedroom 20 min from midtown' 'Nice bedroom'\n",
      " \"Cozy bedroom in Artist's Apartment-Atelier\"\n",
      " 'Comfortable bedroom in heart of Bushwick'\n",
      " 'Peaceful bedroom in Brooklyn Duplex' 'Private bedroom in Manhattan NYC'\n",
      " 'Large private bedroom in West Soho/West Village'\n",
      " 'Great one bedroom near Central Park and Columbus'\n",
      " 'Huge bedroom on the River' 'Cozy bedroom in Bushwick'\n",
      " 'Cozy & Elegant 1 bedroom'\n",
      " 'COZY ZEN 1 bedroom, top of CENTRAL PARK! safe :)'\n",
      " 'Private bedroom, with a private bathroom.'\n",
      " 'Luxury bedroom in a Cozy, Relaxed NYC Atmosphere!'\n",
      " 'Spacious 1 bedroom in Bed Stuy Brooklyn'\n",
      " 'Comfortable and reasonable price bedroom'\n",
      " 'One bedroom Midtown East Quiet Sanctuary'\n",
      " 'Bright bedroom close to NYC- Breakfast included! 2'\n",
      " '***Entire 1 bedroom apartment in midtown east***'\n",
      " 'The apartment is a well sized one bedroom apartment located in downtown Newark. I will be sleeping in the BR. The guest bed is placed studio style opposite the living room. Overall, the space is very comfortable, clean, organized, and enjoyable to be in. It is also extremely close to New York City. 10 min walk, 5 minute uber to Path& a 25 minute train ride.'\n",
      " 'Charming 1 bedroom on the water!'\n",
      " 'a beautiful cozy one bedroom on a perk in Crown Heights, with an awesome workspace and piano overlooking the park. the bedroom equipped with a high-level screen and all apartment equipped with an excellent sound system and high-speed WiFi. small fully equipped kitchen. the app located three stops from the Brooklyn Museum - the Botanical Garden- and Prospect Park. a lot of traditional and trendy cafe and places to eat or have a drink.'\n",
      " 'The place was nice but would only recommend for a short stay, the only negative comment I can make is the security of the place, the lock to our bedroom door was held together by a piece of paper and the door frame didn’t meet the door, along with this the front door to the…Read more'\n",
      " 'New 1 bedroom with pool 10 min from Manhattan'\n",
      " 'Chic & Cozy 1 bedroom Brooklyn Ny'\n",
      " '2 bedrooms and queen sofa bed, Close to Manhattan'\n",
      " 'Private 1-bedroom Apartment in the Lombardy'\n",
      " 'BEDFORD AVENUE - cosy, bright, private bedroom'\n",
      " 'Large 1 bedroom and private bath in Astoria'\n",
      " 'Great 1 bedroom apartment in Manhattan'\n",
      " 'Spacious 1 bedroom in loft-style building'\n",
      " 'Private bedroom with great location'\n",
      " 'Unique 2 bedroom apt in the center of Williamsburg'\n",
      " 'Cozy two bedroom apartment in the Upper East Side'\n",
      " 'Bright 1 bedroom apartment in the Village'\n",
      " 'Best of SOHO Gorgeous 2 bedroom' 'Cozy, 1 bedroom Brownstone Apt'\n",
      " 'Beautiful 2-bedroom Apt near Times Square'\n",
      " 'Modem 2 bedroom in Times sq for 5ppl'\n",
      " 'Large spacious two bedroom close to Manhattan']\n"
     ]
    }
   ],
   "source": [
    "print(type(NewYorkData['Bedrooms_no'][0]))\n",
    "print(NewYorkData['Bedrooms_no'].unique())"
   ]
  },
  {
   "cell_type": "markdown",
   "metadata": {},
   "source": [
    "### Number of Beds"
   ]
  },
  {
   "cell_type": "code",
   "execution_count": 24,
   "metadata": {},
   "outputs": [
    {
     "name": "stdout",
     "output_type": "stream",
     "text": [
      "<class 'str'>\n",
      "['1 bed' '0 beds' 'Obed' '2 beds' 'PRIVATE ROOM IN BED AND BREAKFAST'\n",
      " '3 beds' nan '5 beds' '4 beds' '8 beds'\n",
      " 'SHARED ROOM IN BED AND BREAKFAST' '6 beds' 'ENTIRE BED AND BREAKFAST']\n"
     ]
    }
   ],
   "source": [
    "print(type(NewYorkData['Beds_no'][0]))\n",
    "print(NewYorkData['Beds_no'].unique())"
   ]
  },
  {
   "cell_type": "code",
   "execution_count": 25,
   "metadata": {},
   "outputs": [],
   "source": [
    "NewYorkData['Beds_int'] = float(0)"
   ]
  },
  {
   "cell_type": "code",
   "execution_count": 26,
   "metadata": {},
   "outputs": [
    {
     "name": "stderr",
     "output_type": "stream",
     "text": [
      "c:\\users\\kbrig\\airbnbrepo\\airbnb\\bnb\\data_processing\\clean.py:29: SettingWithCopyWarning:\n",
      "\n",
      "\n",
      "A value is trying to be set on a copy of a slice from a DataFrame\n",
      "\n",
      "See the caveats in the documentation: http://pandas.pydata.org/pandas-docs/stable/indexing.html#indexing-view-versus-copy\n",
      "\n",
      "c:\\users\\kbrig\\airbnbrepo\\airbnb\\bnb\\data_processing\\clean.py:27: SettingWithCopyWarning:\n",
      "\n",
      "\n",
      "A value is trying to be set on a copy of a slice from a DataFrame\n",
      "\n",
      "See the caveats in the documentation: http://pandas.pydata.org/pandas-docs/stable/indexing.html#indexing-view-versus-copy\n",
      "\n",
      "c:\\users\\kbrig\\airbnbrepo\\airbnb\\bnb\\data_processing\\clean.py:25: SettingWithCopyWarning:\n",
      "\n",
      "\n",
      "A value is trying to be set on a copy of a slice from a DataFrame\n",
      "\n",
      "See the caveats in the documentation: http://pandas.pydata.org/pandas-docs/stable/indexing.html#indexing-view-versus-copy\n",
      "\n",
      "c:\\users\\kbrig\\airbnbrepo\\airbnb\\bnb\\data_processing\\clean.py:23: SettingWithCopyWarning:\n",
      "\n",
      "\n",
      "A value is trying to be set on a copy of a slice from a DataFrame\n",
      "\n",
      "See the caveats in the documentation: http://pandas.pydata.org/pandas-docs/stable/indexing.html#indexing-view-versus-copy\n",
      "\n"
     ]
    }
   ],
   "source": [
    "NewYorkData['Beds_int'] = beds_int(NewYorkData)"
   ]
  },
  {
   "cell_type": "code",
   "execution_count": 27,
   "metadata": {},
   "outputs": [
    {
     "name": "stdout",
     "output_type": "stream",
     "text": [
      "1 bed 1.0\n",
      "1 bed 1.0\n",
      "1 bed 1.0\n",
      "1 bed 1.0\n",
      "1 bed 1.0\n",
      "1 bed 1.0\n",
      "1 bed 1.0\n",
      "0 beds 0.0\n",
      "1 bed 1.0\n",
      "Obed 0.0\n"
     ]
    }
   ],
   "source": [
    "for i in range(10):\n",
    "    print(NewYorkData['Beds_no'][i],NewYorkData['Beds_int'][i])"
   ]
  },
  {
   "cell_type": "markdown",
   "metadata": {},
   "source": [
    "### Latitude"
   ]
  },
  {
   "cell_type": "code",
   "execution_count": 28,
   "metadata": {},
   "outputs": [
    {
     "name": "stdout",
     "output_type": "stream",
     "text": [
      "<class 'numpy.float64'>\n",
      "[40.73321 40.7658  40.75972 ... 40.77264 40.76406 40.73354]\n"
     ]
    }
   ],
   "source": [
    "print(type(NewYorkData['Latitude'][0]))\n",
    "print(NewYorkData['Latitude'].unique())"
   ]
  },
  {
   "cell_type": "markdown",
   "metadata": {},
   "source": [
    "### Longitude"
   ]
  },
  {
   "cell_type": "code",
   "execution_count": 29,
   "metadata": {},
   "outputs": [
    {
     "name": "stdout",
     "output_type": "stream",
     "text": [
      "<class 'numpy.float64'>\n",
      "[-74.00242 -73.95812 -74.03827 ... -74.03762 -74.02755 -73.90769]\n"
     ]
    }
   ],
   "source": [
    "print(type(NewYorkData['Longitude'][0]))\n",
    "print(NewYorkData['Longitude'].unique())"
   ]
  },
  {
   "cell_type": "markdown",
   "metadata": {},
   "source": [
    "Thanks god! we have Latitude and Longitude ready to go!"
   ]
  },
  {
   "cell_type": "code",
   "execution_count": null,
   "metadata": {},
   "outputs": [],
   "source": []
  },
  {
   "cell_type": "markdown",
   "metadata": {},
   "source": [
    "### Bangkok"
   ]
  },
  {
   "cell_type": "code",
   "execution_count": 30,
   "metadata": {},
   "outputs": [
    {
     "data": {
      "text/plain": [
       "Index(['CheckIn', 'CheckOut', 'Has_Weekend', 'Title', 'Price', 'Super_host',\n",
       "       'Latitude', 'Longitude', 'EntireHomeVsRoom', 'Bedrooms_no', 'Beds_no',\n",
       "       'Bathrooms_num', 'Sleeping_engagment', 'Amenities', 'Accuracy_stars',\n",
       "       'Communication_stars', 'Cleanliness_stars', 'Location_stars',\n",
       "       'CheckIn_stars', 'Value_stars', 'Reviewers_no', 'Review'],\n",
       "      dtype='object')"
      ]
     },
     "execution_count": 30,
     "metadata": {},
     "output_type": "execute_result"
    }
   ],
   "source": [
    "BangkokData.columns"
   ]
  },
  {
   "cell_type": "markdown",
   "metadata": {},
   "source": [
    "### Does it have a weekend?"
   ]
  },
  {
   "cell_type": "code",
   "execution_count": 31,
   "metadata": {},
   "outputs": [
    {
     "data": {
      "text/plain": [
       "array([ True])"
      ]
     },
     "execution_count": 31,
     "metadata": {},
     "output_type": "execute_result"
    }
   ],
   "source": [
    "BangkokData['Has_Weekend'].unique()"
   ]
  },
  {
   "cell_type": "code",
   "execution_count": 32,
   "metadata": {},
   "outputs": [],
   "source": [
    "BangkokData.drop(['Has_Weekend','Reviewers_no'],axis=1, inplace=True)"
   ]
  },
  {
   "cell_type": "markdown",
   "metadata": {},
   "source": [
    "### Is Super Host?"
   ]
  },
  {
   "cell_type": "code",
   "execution_count": 33,
   "metadata": {},
   "outputs": [
    {
     "data": {
      "text/plain": [
       "0     Thongjuta is a Superhost\n",
       "1                          NaN\n",
       "2          Kiek is a Superhost\n",
       "3                          NaN\n",
       "4         Patty is a Superhost\n",
       "5         Nukul is a Superhost\n",
       "6                          NaN\n",
       "7                          NaN\n",
       "8                          NaN\n",
       "9    Kinifrog is a Superhost ·\n",
       "Name: Super_host, dtype: object"
      ]
     },
     "execution_count": 33,
     "metadata": {},
     "output_type": "execute_result"
    }
   ],
   "source": [
    "BangkokData.Super_host[0:10]"
   ]
  },
  {
   "cell_type": "code",
   "execution_count": 34,
   "metadata": {},
   "outputs": [],
   "source": [
    "BangkokData['Super_host'] = super_host(BangkokData)"
   ]
  },
  {
   "cell_type": "code",
   "execution_count": 35,
   "metadata": {},
   "outputs": [
    {
     "data": {
      "text/plain": [
       "0    1\n",
       "1    0\n",
       "2    1\n",
       "3    0\n",
       "4    1\n",
       "5    1\n",
       "6    0\n",
       "7    0\n",
       "8    0\n",
       "9    1\n",
       "Name: Super_host, dtype: int64"
      ]
     },
     "execution_count": 35,
     "metadata": {},
     "output_type": "execute_result"
    }
   ],
   "source": [
    "BangkokData.Super_host[0:10]"
   ]
  },
  {
   "cell_type": "markdown",
   "metadata": {},
   "source": [
    "### Price"
   ]
  },
  {
   "cell_type": "code",
   "execution_count": 36,
   "metadata": {},
   "outputs": [
    {
     "data": {
      "text/plain": [
       "0    $34\n",
       "1    $48\n",
       "2    $27\n",
       "3    $35\n",
       "4    $34\n",
       "5    $23\n",
       "6    $27\n",
       "7    $51\n",
       "8    $38\n",
       "9    $36\n",
       "Name: Price, dtype: object"
      ]
     },
     "execution_count": 36,
     "metadata": {},
     "output_type": "execute_result"
    }
   ],
   "source": [
    "BangkokData.Price[0:10]"
   ]
  },
  {
   "cell_type": "code",
   "execution_count": 37,
   "metadata": {},
   "outputs": [],
   "source": [
    "BangkokData['Price'] = price_format(BangkokData)"
   ]
  },
  {
   "cell_type": "code",
   "execution_count": 38,
   "metadata": {},
   "outputs": [
    {
     "name": "stdout",
     "output_type": "stream",
     "text": [
      "<class 'numpy.float64'>\n",
      "0    34.0\n",
      "1    48.0\n",
      "2    27.0\n",
      "3    35.0\n",
      "4    34.0\n",
      "5    23.0\n",
      "6    27.0\n",
      "7    51.0\n",
      "8    38.0\n",
      "9    36.0\n",
      "Name: Price, dtype: float64\n"
     ]
    }
   ],
   "source": [
    "print(type(BangkokData['Price'][0]))\n",
    "print(BangkokData['Price'][0:10])"
   ]
  },
  {
   "cell_type": "markdown",
   "metadata": {},
   "source": [
    "### Number of Bathrooms"
   ]
  },
  {
   "cell_type": "code",
   "execution_count": 118,
   "metadata": {},
   "outputs": [
    {
     "name": "stdout",
     "output_type": "stream",
     "text": [
      "<class 'str'>\n",
      "['1 bath' '1 private bath' '2 baths' '1.5 baths' '0 baths' '1 shared bath'\n",
      " '2 shared baths' '4 shared baths' '1.5 private baths' '8 shared baths'\n",
      " '1.5 shared baths' '3 baths' '4 baths' '2.5 baths' '3.5 baths' nan\n",
      " '4.5 baths'\n",
      " 'Awesome place! Laundry service was available and affordable, a well equipped kitchen was provided, and the bathrooms and rooms were clean.'\n",
      " '6 shared baths' '4.5 shared baths']\n"
     ]
    }
   ],
   "source": [
    "print(type(BangkokData['Bathrooms_num'][0]))\n",
    "print(BangkokData['Bathrooms_num'].unique())"
   ]
  },
  {
   "cell_type": "code",
   "execution_count": 119,
   "metadata": {},
   "outputs": [],
   "source": [
    "BangkokData['Bathrooms_num_int']= float(0)"
   ]
  },
  {
   "cell_type": "code",
   "execution_count": 124,
   "metadata": {},
   "outputs": [
    {
     "data": {
      "text/html": [
       "<div>\n",
       "<style scoped>\n",
       "    .dataframe tbody tr th:only-of-type {\n",
       "        vertical-align: middle;\n",
       "    }\n",
       "\n",
       "    .dataframe tbody tr th {\n",
       "        vertical-align: top;\n",
       "    }\n",
       "\n",
       "    .dataframe thead th {\n",
       "        text-align: right;\n",
       "    }\n",
       "</style>\n",
       "<table border=\"1\" class=\"dataframe\">\n",
       "  <thead>\n",
       "    <tr style=\"text-align: right;\">\n",
       "      <th></th>\n",
       "      <th>CheckIn</th>\n",
       "      <th>CheckOut</th>\n",
       "      <th>Title</th>\n",
       "      <th>Price</th>\n",
       "      <th>Super_host</th>\n",
       "      <th>Latitude</th>\n",
       "      <th>Longitude</th>\n",
       "      <th>EntireHomeVsRoom</th>\n",
       "      <th>Bedrooms_no</th>\n",
       "      <th>Beds_no</th>\n",
       "      <th>...</th>\n",
       "      <th>Sleeping_engagment</th>\n",
       "      <th>Amenities</th>\n",
       "      <th>Accuracy_stars</th>\n",
       "      <th>Communication_stars</th>\n",
       "      <th>Cleanliness_stars</th>\n",
       "      <th>Location_stars</th>\n",
       "      <th>CheckIn_stars</th>\n",
       "      <th>Value_stars</th>\n",
       "      <th>Review</th>\n",
       "      <th>Bathrooms_num_int</th>\n",
       "    </tr>\n",
       "  </thead>\n",
       "  <tbody>\n",
       "    <tr>\n",
       "      <th>4028</th>\n",
       "      <td>2019-09-10 0:00</td>\n",
       "      <td>2019-09-15 0:00</td>\n",
       "      <td>Naratel Hostel Bangkok(Bunkbed in 6 bed MixedD...</td>\n",
       "      <td>13.0</td>\n",
       "      <td>1</td>\n",
       "      <td>13.728</td>\n",
       "      <td>100.527</td>\n",
       "      <td>SHARED ROOM IN HOSTEL</td>\n",
       "      <td>1 bedroom</td>\n",
       "      <td>NaN</td>\n",
       "      <td>...</td>\n",
       "      <td>Bedroom 1\\n3 bunk beds</td>\n",
       "      <td>['Wifi', 'Cable TV', 'Laptop friendly workspac...</td>\n",
       "      <td>Rating 5 out of 5</td>\n",
       "      <td>Rating 5 out of 5</td>\n",
       "      <td>Rating 5 out of 5</td>\n",
       "      <td>Rating 4.5 out of 5</td>\n",
       "      <td>Rating 5 out of 5</td>\n",
       "      <td>Rating 5 out of 5</td>\n",
       "      <td>90 Reviews\\nAccuracy\\nCommunication\\nCleanline...</td>\n",
       "      <td>0.0</td>\n",
       "    </tr>\n",
       "    <tr>\n",
       "      <th>4330</th>\n",
       "      <td>2019-09-24 0:00</td>\n",
       "      <td>2019-09-29 0:00</td>\n",
       "      <td>Naratel Hostel Bangkok(Bunkbed in 6 bed MixedD...</td>\n",
       "      <td>13.0</td>\n",
       "      <td>1</td>\n",
       "      <td>13.728</td>\n",
       "      <td>100.527</td>\n",
       "      <td>SHARED ROOM IN HOSTEL</td>\n",
       "      <td>1 bedroom</td>\n",
       "      <td>NaN</td>\n",
       "      <td>...</td>\n",
       "      <td>Bedroom 1\\n3 bunk beds</td>\n",
       "      <td>['Wifi', 'Cable TV', 'Laptop friendly workspac...</td>\n",
       "      <td>Rating 5 out of 5</td>\n",
       "      <td>Rating 5 out of 5</td>\n",
       "      <td>Rating 5 out of 5</td>\n",
       "      <td>Rating 4.5 out of 5</td>\n",
       "      <td>Rating 5 out of 5</td>\n",
       "      <td>Rating 5 out of 5</td>\n",
       "      <td>90 Reviews\\nAccuracy\\nCommunication\\nCleanline...</td>\n",
       "      <td>0.0</td>\n",
       "    </tr>\n",
       "    <tr>\n",
       "      <th>4609</th>\n",
       "      <td>2019-10-08 0:00</td>\n",
       "      <td>2019-10-13 0:00</td>\n",
       "      <td>Naratel Hostel Bangkok(Bunkbed in 6 bed MixedD...</td>\n",
       "      <td>13.0</td>\n",
       "      <td>1</td>\n",
       "      <td>13.728</td>\n",
       "      <td>100.527</td>\n",
       "      <td>SHARED ROOM IN HOSTEL</td>\n",
       "      <td>1 bedroom</td>\n",
       "      <td>NaN</td>\n",
       "      <td>...</td>\n",
       "      <td>Bedroom 1\\n3 bunk beds</td>\n",
       "      <td>['Wifi', 'Cable TV', 'Laptop friendly workspac...</td>\n",
       "      <td>Rating 5 out of 5</td>\n",
       "      <td>Rating 5 out of 5</td>\n",
       "      <td>Rating 5 out of 5</td>\n",
       "      <td>Rating 4.5 out of 5</td>\n",
       "      <td>Rating 5 out of 5</td>\n",
       "      <td>Rating 5 out of 5</td>\n",
       "      <td>90 Reviews\\nAccuracy\\nCommunication\\nCleanline...</td>\n",
       "      <td>0.0</td>\n",
       "    </tr>\n",
       "    <tr>\n",
       "      <th>4919</th>\n",
       "      <td>2019-10-22 0:00</td>\n",
       "      <td>2019-10-27 0:00</td>\n",
       "      <td>Naratel Hostel Bangkok(Bunkbed in 6 bed MixedD...</td>\n",
       "      <td>13.0</td>\n",
       "      <td>1</td>\n",
       "      <td>13.728</td>\n",
       "      <td>100.527</td>\n",
       "      <td>SHARED ROOM IN HOSTEL</td>\n",
       "      <td>1 bedroom</td>\n",
       "      <td>NaN</td>\n",
       "      <td>...</td>\n",
       "      <td>Bedroom 1\\n3 bunk beds</td>\n",
       "      <td>['Wifi', 'Cable TV', 'Laptop friendly workspac...</td>\n",
       "      <td>Rating 5 out of 5</td>\n",
       "      <td>Rating 5 out of 5</td>\n",
       "      <td>Rating 5 out of 5</td>\n",
       "      <td>Rating 4.5 out of 5</td>\n",
       "      <td>Rating 5 out of 5</td>\n",
       "      <td>Rating 5 out of 5</td>\n",
       "      <td>90 Reviews\\nAccuracy\\nCommunication\\nCleanline...</td>\n",
       "      <td>0.0</td>\n",
       "    </tr>\n",
       "    <tr>\n",
       "      <th>5202</th>\n",
       "      <td>2019-11-05 0:00</td>\n",
       "      <td>2019-11-10 0:00</td>\n",
       "      <td>Naratel Hostel Bangkok(Bunkbed in 6 bed MixedD...</td>\n",
       "      <td>13.0</td>\n",
       "      <td>1</td>\n",
       "      <td>13.728</td>\n",
       "      <td>100.527</td>\n",
       "      <td>SHARED ROOM IN HOSTEL</td>\n",
       "      <td>1 bedroom</td>\n",
       "      <td>NaN</td>\n",
       "      <td>...</td>\n",
       "      <td>Bedroom 1\\n3 bunk beds</td>\n",
       "      <td>['Wifi', 'Cable TV', 'Laptop friendly workspac...</td>\n",
       "      <td>Rating 5 out of 5</td>\n",
       "      <td>Rating 5 out of 5</td>\n",
       "      <td>Rating 5 out of 5</td>\n",
       "      <td>Rating 4.5 out of 5</td>\n",
       "      <td>Rating 5 out of 5</td>\n",
       "      <td>Rating 5 out of 5</td>\n",
       "      <td>90 Reviews\\nAccuracy\\nCommunication\\nCleanline...</td>\n",
       "      <td>0.0</td>\n",
       "    </tr>\n",
       "    <tr>\n",
       "      <th>5207</th>\n",
       "      <td>2019-11-05 0:00</td>\n",
       "      <td>2019-11-10 0:00</td>\n",
       "      <td>Naratel Hostel Bangkok(Bunkbed in 6 bed MixedD...</td>\n",
       "      <td>13.0</td>\n",
       "      <td>1</td>\n",
       "      <td>13.728</td>\n",
       "      <td>100.527</td>\n",
       "      <td>SHARED ROOM IN HOSTEL</td>\n",
       "      <td>1 bedroom</td>\n",
       "      <td>NaN</td>\n",
       "      <td>...</td>\n",
       "      <td>Bedroom 1\\n3 bunk beds</td>\n",
       "      <td>['Wifi', 'Cable TV', 'Laptop friendly workspac...</td>\n",
       "      <td>Rating 5 out of 5</td>\n",
       "      <td>Rating 5 out of 5</td>\n",
       "      <td>Rating 5 out of 5</td>\n",
       "      <td>Rating 4.5 out of 5</td>\n",
       "      <td>Rating 5 out of 5</td>\n",
       "      <td>Rating 5 out of 5</td>\n",
       "      <td>90 Reviews\\nAccuracy\\nCommunication\\nCleanline...</td>\n",
       "      <td>0.0</td>\n",
       "    </tr>\n",
       "    <tr>\n",
       "      <th>5519</th>\n",
       "      <td>2019-11-19 0:00</td>\n",
       "      <td>2019-11-24 0:00</td>\n",
       "      <td>Naratel Hostel Bangkok(Bunkbed in 6 bed MixedD...</td>\n",
       "      <td>13.0</td>\n",
       "      <td>1</td>\n",
       "      <td>13.728</td>\n",
       "      <td>100.527</td>\n",
       "      <td>SHARED ROOM IN HOSTEL</td>\n",
       "      <td>1 bedroom</td>\n",
       "      <td>NaN</td>\n",
       "      <td>...</td>\n",
       "      <td>Bedroom 1\\n3 bunk beds</td>\n",
       "      <td>['Wifi', 'Cable TV', 'Laptop friendly workspac...</td>\n",
       "      <td>Rating 5 out of 5</td>\n",
       "      <td>Rating 5 out of 5</td>\n",
       "      <td>Rating 5 out of 5</td>\n",
       "      <td>Rating 4.5 out of 5</td>\n",
       "      <td>Rating 5 out of 5</td>\n",
       "      <td>Rating 5 out of 5</td>\n",
       "      <td>90 Reviews\\nAccuracy\\nCommunication\\nCleanline...</td>\n",
       "      <td>0.0</td>\n",
       "    </tr>\n",
       "    <tr>\n",
       "      <th>5786</th>\n",
       "      <td>2019-12-03 0:00</td>\n",
       "      <td>2019-12-08 0:00</td>\n",
       "      <td>Naratel Hostel Bangkok(Bunkbed in 6 bed MixedD...</td>\n",
       "      <td>13.0</td>\n",
       "      <td>1</td>\n",
       "      <td>13.728</td>\n",
       "      <td>100.527</td>\n",
       "      <td>SHARED ROOM IN HOSTEL</td>\n",
       "      <td>1 bedroom</td>\n",
       "      <td>NaN</td>\n",
       "      <td>...</td>\n",
       "      <td>Bedroom 1\\n3 bunk beds</td>\n",
       "      <td>['Wifi', 'Cable TV', 'Laptop friendly workspac...</td>\n",
       "      <td>Rating 5 out of 5</td>\n",
       "      <td>Rating 5 out of 5</td>\n",
       "      <td>Rating 5 out of 5</td>\n",
       "      <td>Rating 4.5 out of 5</td>\n",
       "      <td>Rating 5 out of 5</td>\n",
       "      <td>Rating 5 out of 5</td>\n",
       "      <td>90 Reviews\\nAccuracy\\nCommunication\\nCleanline...</td>\n",
       "      <td>0.0</td>\n",
       "    </tr>\n",
       "    <tr>\n",
       "      <th>6079</th>\n",
       "      <td>2019-12-17 0:00</td>\n",
       "      <td>2019-12-22 0:00</td>\n",
       "      <td>Naratel Hostel Bangkok(Bunkbed in 6 bed MixedD...</td>\n",
       "      <td>13.0</td>\n",
       "      <td>1</td>\n",
       "      <td>13.728</td>\n",
       "      <td>100.527</td>\n",
       "      <td>SHARED ROOM IN HOSTEL</td>\n",
       "      <td>1 bedroom</td>\n",
       "      <td>NaN</td>\n",
       "      <td>...</td>\n",
       "      <td>Bedroom 1\\n3 bunk beds</td>\n",
       "      <td>['Wifi', 'Cable TV', 'Laptop friendly workspac...</td>\n",
       "      <td>Rating 5 out of 5</td>\n",
       "      <td>Rating 5 out of 5</td>\n",
       "      <td>Rating 5 out of 5</td>\n",
       "      <td>Rating 4.5 out of 5</td>\n",
       "      <td>Rating 5 out of 5</td>\n",
       "      <td>Rating 5 out of 5</td>\n",
       "      <td>90 Reviews\\nAccuracy\\nCommunication\\nCleanline...</td>\n",
       "      <td>0.0</td>\n",
       "    </tr>\n",
       "    <tr>\n",
       "      <th>6338</th>\n",
       "      <td>2019-12-31 0:00</td>\n",
       "      <td>2020-01-05 0:00</td>\n",
       "      <td>Naratel Hostel Bangkok(Bunkbed in 6 bed MixedD...</td>\n",
       "      <td>13.0</td>\n",
       "      <td>1</td>\n",
       "      <td>13.728</td>\n",
       "      <td>100.527</td>\n",
       "      <td>NaN</td>\n",
       "      <td>1 bedroom</td>\n",
       "      <td>NaN</td>\n",
       "      <td>...</td>\n",
       "      <td>Bedroom 1\\n3 bunk beds</td>\n",
       "      <td>['Wifi', 'Cable TV', 'Laptop friendly workspac...</td>\n",
       "      <td>Rating 5 out of 5</td>\n",
       "      <td>Rating 5 out of 5</td>\n",
       "      <td>Rating 5 out of 5</td>\n",
       "      <td>Rating 4.5 out of 5</td>\n",
       "      <td>Rating 5 out of 5</td>\n",
       "      <td>Rating 5 out of 5</td>\n",
       "      <td>90 Reviews\\nAccuracy\\nCommunication\\nCleanline...</td>\n",
       "      <td>0.0</td>\n",
       "    </tr>\n",
       "    <tr>\n",
       "      <th>6697</th>\n",
       "      <td>2020-01-14 0:00</td>\n",
       "      <td>2020-01-19 0:00</td>\n",
       "      <td>Naratel Hostel Bangkok(Bunkbed in 6 bed MixedD...</td>\n",
       "      <td>13.0</td>\n",
       "      <td>1</td>\n",
       "      <td>13.728</td>\n",
       "      <td>100.527</td>\n",
       "      <td>NaN</td>\n",
       "      <td>1 bedroom</td>\n",
       "      <td>NaN</td>\n",
       "      <td>...</td>\n",
       "      <td>Bedroom 1\\n3 bunk beds</td>\n",
       "      <td>['Wifi', 'Cable TV', 'Laptop friendly workspac...</td>\n",
       "      <td>Rating 5 out of 5</td>\n",
       "      <td>Rating 5 out of 5</td>\n",
       "      <td>Rating 5 out of 5</td>\n",
       "      <td>Rating 4.5 out of 5</td>\n",
       "      <td>Rating 5 out of 5</td>\n",
       "      <td>Rating 5 out of 5</td>\n",
       "      <td>90 Reviews\\nAccuracy\\nCommunication\\nCleanline...</td>\n",
       "      <td>0.0</td>\n",
       "    </tr>\n",
       "    <tr>\n",
       "      <th>7296</th>\n",
       "      <td>2020-02-11 0:00</td>\n",
       "      <td>2020-02-16 0:00</td>\n",
       "      <td>Naratel Hostel Bangkok(Bunkbed in 6 bed MixedD...</td>\n",
       "      <td>13.0</td>\n",
       "      <td>1</td>\n",
       "      <td>13.728</td>\n",
       "      <td>100.527</td>\n",
       "      <td>NaN</td>\n",
       "      <td>1 bedroom</td>\n",
       "      <td>NaN</td>\n",
       "      <td>...</td>\n",
       "      <td>Bedroom 1\\n3 bunk beds</td>\n",
       "      <td>['Wifi', 'Cable TV', 'Laptop friendly workspac...</td>\n",
       "      <td>Rating 5 out of 5</td>\n",
       "      <td>Rating 5 out of 5</td>\n",
       "      <td>Rating 5 out of 5</td>\n",
       "      <td>Rating 4.5 out of 5</td>\n",
       "      <td>Rating 5 out of 5</td>\n",
       "      <td>Rating 5 out of 5</td>\n",
       "      <td>90 Reviews\\nAccuracy\\nCommunication\\nCleanline...</td>\n",
       "      <td>0.0</td>\n",
       "    </tr>\n",
       "    <tr>\n",
       "      <th>7604</th>\n",
       "      <td>2020-02-25 0:00</td>\n",
       "      <td>2020-03-01 0:00</td>\n",
       "      <td>Naratel Hostel Bangkok(Bunkbed in 6 bed MixedD...</td>\n",
       "      <td>13.0</td>\n",
       "      <td>1</td>\n",
       "      <td>13.728</td>\n",
       "      <td>100.527</td>\n",
       "      <td>NaN</td>\n",
       "      <td>1 bedroom</td>\n",
       "      <td>NaN</td>\n",
       "      <td>...</td>\n",
       "      <td>Bedroom 1\\n3 bunk beds</td>\n",
       "      <td>['Wifi', 'Cable TV', 'Laptop friendly workspac...</td>\n",
       "      <td>Rating 5 out of 5</td>\n",
       "      <td>Rating 5 out of 5</td>\n",
       "      <td>Rating 5 out of 5</td>\n",
       "      <td>Rating 4.5 out of 5</td>\n",
       "      <td>Rating 5 out of 5</td>\n",
       "      <td>Rating 5 out of 5</td>\n",
       "      <td>90 Reviews\\nAccuracy\\nCommunication\\nCleanline...</td>\n",
       "      <td>0.0</td>\n",
       "    </tr>\n",
       "  </tbody>\n",
       "</table>\n",
       "<p>13 rows × 21 columns</p>\n",
       "</div>"
      ],
      "text/plain": [
       "              CheckIn         CheckOut  \\\n",
       "4028  2019-09-10 0:00  2019-09-15 0:00   \n",
       "4330  2019-09-24 0:00  2019-09-29 0:00   \n",
       "4609  2019-10-08 0:00  2019-10-13 0:00   \n",
       "4919  2019-10-22 0:00  2019-10-27 0:00   \n",
       "5202  2019-11-05 0:00  2019-11-10 0:00   \n",
       "5207  2019-11-05 0:00  2019-11-10 0:00   \n",
       "5519  2019-11-19 0:00  2019-11-24 0:00   \n",
       "5786  2019-12-03 0:00  2019-12-08 0:00   \n",
       "6079  2019-12-17 0:00  2019-12-22 0:00   \n",
       "6338  2019-12-31 0:00  2020-01-05 0:00   \n",
       "6697  2020-01-14 0:00  2020-01-19 0:00   \n",
       "7296  2020-02-11 0:00  2020-02-16 0:00   \n",
       "7604  2020-02-25 0:00  2020-03-01 0:00   \n",
       "\n",
       "                                                  Title  Price  Super_host  \\\n",
       "4028  Naratel Hostel Bangkok(Bunkbed in 6 bed MixedD...   13.0           1   \n",
       "4330  Naratel Hostel Bangkok(Bunkbed in 6 bed MixedD...   13.0           1   \n",
       "4609  Naratel Hostel Bangkok(Bunkbed in 6 bed MixedD...   13.0           1   \n",
       "4919  Naratel Hostel Bangkok(Bunkbed in 6 bed MixedD...   13.0           1   \n",
       "5202  Naratel Hostel Bangkok(Bunkbed in 6 bed MixedD...   13.0           1   \n",
       "5207  Naratel Hostel Bangkok(Bunkbed in 6 bed MixedD...   13.0           1   \n",
       "5519  Naratel Hostel Bangkok(Bunkbed in 6 bed MixedD...   13.0           1   \n",
       "5786  Naratel Hostel Bangkok(Bunkbed in 6 bed MixedD...   13.0           1   \n",
       "6079  Naratel Hostel Bangkok(Bunkbed in 6 bed MixedD...   13.0           1   \n",
       "6338  Naratel Hostel Bangkok(Bunkbed in 6 bed MixedD...   13.0           1   \n",
       "6697  Naratel Hostel Bangkok(Bunkbed in 6 bed MixedD...   13.0           1   \n",
       "7296  Naratel Hostel Bangkok(Bunkbed in 6 bed MixedD...   13.0           1   \n",
       "7604  Naratel Hostel Bangkok(Bunkbed in 6 bed MixedD...   13.0           1   \n",
       "\n",
       "      Latitude  Longitude       EntireHomeVsRoom Bedrooms_no Beds_no  \\\n",
       "4028    13.728    100.527  SHARED ROOM IN HOSTEL   1 bedroom     NaN   \n",
       "4330    13.728    100.527  SHARED ROOM IN HOSTEL   1 bedroom     NaN   \n",
       "4609    13.728    100.527  SHARED ROOM IN HOSTEL   1 bedroom     NaN   \n",
       "4919    13.728    100.527  SHARED ROOM IN HOSTEL   1 bedroom     NaN   \n",
       "5202    13.728    100.527  SHARED ROOM IN HOSTEL   1 bedroom     NaN   \n",
       "5207    13.728    100.527  SHARED ROOM IN HOSTEL   1 bedroom     NaN   \n",
       "5519    13.728    100.527  SHARED ROOM IN HOSTEL   1 bedroom     NaN   \n",
       "5786    13.728    100.527  SHARED ROOM IN HOSTEL   1 bedroom     NaN   \n",
       "6079    13.728    100.527  SHARED ROOM IN HOSTEL   1 bedroom     NaN   \n",
       "6338    13.728    100.527                    NaN   1 bedroom     NaN   \n",
       "6697    13.728    100.527                    NaN   1 bedroom     NaN   \n",
       "7296    13.728    100.527                    NaN   1 bedroom     NaN   \n",
       "7604    13.728    100.527                    NaN   1 bedroom     NaN   \n",
       "\n",
       "            ...             Sleeping_engagment  \\\n",
       "4028        ...         Bedroom 1\\n3 bunk beds   \n",
       "4330        ...         Bedroom 1\\n3 bunk beds   \n",
       "4609        ...         Bedroom 1\\n3 bunk beds   \n",
       "4919        ...         Bedroom 1\\n3 bunk beds   \n",
       "5202        ...         Bedroom 1\\n3 bunk beds   \n",
       "5207        ...         Bedroom 1\\n3 bunk beds   \n",
       "5519        ...         Bedroom 1\\n3 bunk beds   \n",
       "5786        ...         Bedroom 1\\n3 bunk beds   \n",
       "6079        ...         Bedroom 1\\n3 bunk beds   \n",
       "6338        ...         Bedroom 1\\n3 bunk beds   \n",
       "6697        ...         Bedroom 1\\n3 bunk beds   \n",
       "7296        ...         Bedroom 1\\n3 bunk beds   \n",
       "7604        ...         Bedroom 1\\n3 bunk beds   \n",
       "\n",
       "                                              Amenities     Accuracy_stars  \\\n",
       "4028  ['Wifi', 'Cable TV', 'Laptop friendly workspac...  Rating 5 out of 5   \n",
       "4330  ['Wifi', 'Cable TV', 'Laptop friendly workspac...  Rating 5 out of 5   \n",
       "4609  ['Wifi', 'Cable TV', 'Laptop friendly workspac...  Rating 5 out of 5   \n",
       "4919  ['Wifi', 'Cable TV', 'Laptop friendly workspac...  Rating 5 out of 5   \n",
       "5202  ['Wifi', 'Cable TV', 'Laptop friendly workspac...  Rating 5 out of 5   \n",
       "5207  ['Wifi', 'Cable TV', 'Laptop friendly workspac...  Rating 5 out of 5   \n",
       "5519  ['Wifi', 'Cable TV', 'Laptop friendly workspac...  Rating 5 out of 5   \n",
       "5786  ['Wifi', 'Cable TV', 'Laptop friendly workspac...  Rating 5 out of 5   \n",
       "6079  ['Wifi', 'Cable TV', 'Laptop friendly workspac...  Rating 5 out of 5   \n",
       "6338  ['Wifi', 'Cable TV', 'Laptop friendly workspac...  Rating 5 out of 5   \n",
       "6697  ['Wifi', 'Cable TV', 'Laptop friendly workspac...  Rating 5 out of 5   \n",
       "7296  ['Wifi', 'Cable TV', 'Laptop friendly workspac...  Rating 5 out of 5   \n",
       "7604  ['Wifi', 'Cable TV', 'Laptop friendly workspac...  Rating 5 out of 5   \n",
       "\n",
       "     Communication_stars  Cleanliness_stars       Location_stars  \\\n",
       "4028   Rating 5 out of 5  Rating 5 out of 5  Rating 4.5 out of 5   \n",
       "4330   Rating 5 out of 5  Rating 5 out of 5  Rating 4.5 out of 5   \n",
       "4609   Rating 5 out of 5  Rating 5 out of 5  Rating 4.5 out of 5   \n",
       "4919   Rating 5 out of 5  Rating 5 out of 5  Rating 4.5 out of 5   \n",
       "5202   Rating 5 out of 5  Rating 5 out of 5  Rating 4.5 out of 5   \n",
       "5207   Rating 5 out of 5  Rating 5 out of 5  Rating 4.5 out of 5   \n",
       "5519   Rating 5 out of 5  Rating 5 out of 5  Rating 4.5 out of 5   \n",
       "5786   Rating 5 out of 5  Rating 5 out of 5  Rating 4.5 out of 5   \n",
       "6079   Rating 5 out of 5  Rating 5 out of 5  Rating 4.5 out of 5   \n",
       "6338   Rating 5 out of 5  Rating 5 out of 5  Rating 4.5 out of 5   \n",
       "6697   Rating 5 out of 5  Rating 5 out of 5  Rating 4.5 out of 5   \n",
       "7296   Rating 5 out of 5  Rating 5 out of 5  Rating 4.5 out of 5   \n",
       "7604   Rating 5 out of 5  Rating 5 out of 5  Rating 4.5 out of 5   \n",
       "\n",
       "          CheckIn_stars        Value_stars  \\\n",
       "4028  Rating 5 out of 5  Rating 5 out of 5   \n",
       "4330  Rating 5 out of 5  Rating 5 out of 5   \n",
       "4609  Rating 5 out of 5  Rating 5 out of 5   \n",
       "4919  Rating 5 out of 5  Rating 5 out of 5   \n",
       "5202  Rating 5 out of 5  Rating 5 out of 5   \n",
       "5207  Rating 5 out of 5  Rating 5 out of 5   \n",
       "5519  Rating 5 out of 5  Rating 5 out of 5   \n",
       "5786  Rating 5 out of 5  Rating 5 out of 5   \n",
       "6079  Rating 5 out of 5  Rating 5 out of 5   \n",
       "6338  Rating 5 out of 5  Rating 5 out of 5   \n",
       "6697  Rating 5 out of 5  Rating 5 out of 5   \n",
       "7296  Rating 5 out of 5  Rating 5 out of 5   \n",
       "7604  Rating 5 out of 5  Rating 5 out of 5   \n",
       "\n",
       "                                                 Review Bathrooms_num_int  \n",
       "4028  90 Reviews\\nAccuracy\\nCommunication\\nCleanline...               0.0  \n",
       "4330  90 Reviews\\nAccuracy\\nCommunication\\nCleanline...               0.0  \n",
       "4609  90 Reviews\\nAccuracy\\nCommunication\\nCleanline...               0.0  \n",
       "4919  90 Reviews\\nAccuracy\\nCommunication\\nCleanline...               0.0  \n",
       "5202  90 Reviews\\nAccuracy\\nCommunication\\nCleanline...               0.0  \n",
       "5207  90 Reviews\\nAccuracy\\nCommunication\\nCleanline...               0.0  \n",
       "5519  90 Reviews\\nAccuracy\\nCommunication\\nCleanline...               0.0  \n",
       "5786  90 Reviews\\nAccuracy\\nCommunication\\nCleanline...               0.0  \n",
       "6079  90 Reviews\\nAccuracy\\nCommunication\\nCleanline...               0.0  \n",
       "6338  90 Reviews\\nAccuracy\\nCommunication\\nCleanline...               0.0  \n",
       "6697  90 Reviews\\nAccuracy\\nCommunication\\nCleanline...               0.0  \n",
       "7296  90 Reviews\\nAccuracy\\nCommunication\\nCleanline...               0.0  \n",
       "7604  90 Reviews\\nAccuracy\\nCommunication\\nCleanline...               0.0  \n",
       "\n",
       "[13 rows x 21 columns]"
      ]
     },
     "execution_count": 124,
     "metadata": {},
     "output_type": "execute_result"
    }
   ],
   "source": [
    "BangkokData[BangkokData['Bathrooms_num']== 'Awesome place! Laundry service was available and affordable, a well equipped kitchen was provided, and the bathrooms and rooms were clean.']"
   ]
  },
  {
   "cell_type": "markdown",
   "metadata": {},
   "source": [
    "By looking at the data, I noticed that this sample representing shared room in hostle, and they did not provide any information about the number of bathrooms. For simplicity, I will assume that we have only \"1 shared bathroom\"! "
   ]
  },
  {
   "cell_type": "code",
   "execution_count": 125,
   "metadata": {},
   "outputs": [
    {
     "name": "stderr",
     "output_type": "stream",
     "text": [
      "C:\\Users\\KBrig\\AnacondaNada\\lib\\site-packages\\ipykernel_launcher.py:3: SettingWithCopyWarning:\n",
      "\n",
      "\n",
      "A value is trying to be set on a copy of a slice from a DataFrame\n",
      "\n",
      "See the caveats in the documentation: http://pandas.pydata.org/pandas-docs/stable/indexing.html#indexing-view-versus-copy\n",
      "\n"
     ]
    }
   ],
   "source": [
    "for i in range(len(BangkokData)): \n",
    "    if(BangkokData['Bathrooms_num'][i]== 'Awesome place! Laundry service was available and affordable, a well equipped kitchen was provided, and the bathrooms and rooms were clean.'):\n",
    "        BangkokData['Bathrooms_num'][i]= '1 shared bath'\n",
    "        \n",
    "    "
   ]
  },
  {
   "cell_type": "code",
   "execution_count": 126,
   "metadata": {},
   "outputs": [
    {
     "name": "stdout",
     "output_type": "stream",
     "text": [
      "['1 bath' '1 private bath' '2 baths' '1.5 baths' '0 baths' '1 shared bath'\n",
      " '2 shared baths' '4 shared baths' '1.5 private baths' '8 shared baths'\n",
      " '1.5 shared baths' '3 baths' '4 baths' '2.5 baths' '3.5 baths' nan\n",
      " '4.5 baths' '6 shared baths' '4.5 shared baths']\n"
     ]
    }
   ],
   "source": [
    "print(BangkokData['Bathrooms_num'].unique())"
   ]
  },
  {
   "cell_type": "code",
   "execution_count": 127,
   "metadata": {},
   "outputs": [],
   "source": [
    "BangkokData['Bathrooms_num_int'] = bathrooms_int(BangkokData)"
   ]
  },
  {
   "cell_type": "code",
   "execution_count": 148,
   "metadata": {},
   "outputs": [
    {
     "name": "stdout",
     "output_type": "stream",
     "text": [
      "1 bath 1.0\n",
      "1 bath 1.0\n",
      "1 bath 1.0\n",
      "1 bath 1.0\n",
      "1 bath 1.0\n",
      "1 bath 1.0\n",
      "1 private bath 1.0\n",
      "1 bath 1.0\n",
      "1 bath 1.0\n",
      "1 bath 1.0\n"
     ]
    }
   ],
   "source": [
    "for i in range(10):\n",
    "    print(BangkokData['Bathrooms_num'][i],BangkokData['Bathrooms_num_int'][i])"
   ]
  },
  {
   "cell_type": "markdown",
   "metadata": {},
   "source": [
    "### Shared vs. Private Bathroom"
   ]
  },
  {
   "cell_type": "code",
   "execution_count": 153,
   "metadata": {},
   "outputs": [],
   "source": [
    "BangkokData['shared_bathroom']= shared_bathroom(BangkokData)"
   ]
  },
  {
   "cell_type": "code",
   "execution_count": 156,
   "metadata": {},
   "outputs": [
    {
     "data": {
      "text/html": [
       "<div>\n",
       "<style scoped>\n",
       "    .dataframe tbody tr th:only-of-type {\n",
       "        vertical-align: middle;\n",
       "    }\n",
       "\n",
       "    .dataframe tbody tr th {\n",
       "        vertical-align: top;\n",
       "    }\n",
       "\n",
       "    .dataframe thead th {\n",
       "        text-align: right;\n",
       "    }\n",
       "</style>\n",
       "<table border=\"1\" class=\"dataframe\">\n",
       "  <thead>\n",
       "    <tr style=\"text-align: right;\">\n",
       "      <th></th>\n",
       "      <th>Bathrooms_num</th>\n",
       "      <th>shared_bathroom</th>\n",
       "    </tr>\n",
       "  </thead>\n",
       "  <tbody>\n",
       "    <tr>\n",
       "      <th>0</th>\n",
       "      <td>1 bath</td>\n",
       "      <td>False</td>\n",
       "    </tr>\n",
       "    <tr>\n",
       "      <th>1</th>\n",
       "      <td>1 bath</td>\n",
       "      <td>False</td>\n",
       "    </tr>\n",
       "    <tr>\n",
       "      <th>2</th>\n",
       "      <td>1 bath</td>\n",
       "      <td>False</td>\n",
       "    </tr>\n",
       "    <tr>\n",
       "      <th>3</th>\n",
       "      <td>1 bath</td>\n",
       "      <td>False</td>\n",
       "    </tr>\n",
       "    <tr>\n",
       "      <th>4</th>\n",
       "      <td>1 bath</td>\n",
       "      <td>False</td>\n",
       "    </tr>\n",
       "    <tr>\n",
       "      <th>5</th>\n",
       "      <td>1 bath</td>\n",
       "      <td>False</td>\n",
       "    </tr>\n",
       "    <tr>\n",
       "      <th>6</th>\n",
       "      <td>1 private bath</td>\n",
       "      <td>False</td>\n",
       "    </tr>\n",
       "    <tr>\n",
       "      <th>7</th>\n",
       "      <td>1 bath</td>\n",
       "      <td>False</td>\n",
       "    </tr>\n",
       "    <tr>\n",
       "      <th>8</th>\n",
       "      <td>1 bath</td>\n",
       "      <td>False</td>\n",
       "    </tr>\n",
       "    <tr>\n",
       "      <th>9</th>\n",
       "      <td>1 bath</td>\n",
       "      <td>False</td>\n",
       "    </tr>\n",
       "  </tbody>\n",
       "</table>\n",
       "</div>"
      ],
      "text/plain": [
       "    Bathrooms_num  shared_bathroom\n",
       "0          1 bath            False\n",
       "1          1 bath            False\n",
       "2          1 bath            False\n",
       "3          1 bath            False\n",
       "4          1 bath            False\n",
       "5          1 bath            False\n",
       "6  1 private bath            False\n",
       "7          1 bath            False\n",
       "8          1 bath            False\n",
       "9          1 bath            False"
      ]
     },
     "execution_count": 156,
     "metadata": {},
     "output_type": "execute_result"
    }
   ],
   "source": [
    "BangkokData[['Bathrooms_num','shared_bathroom']][0:10]"
   ]
  },
  {
   "cell_type": "markdown",
   "metadata": {},
   "source": [
    "### Number of Bedrooms "
   ]
  },
  {
   "cell_type": "code",
   "execution_count": 53,
   "metadata": {},
   "outputs": [
    {
     "name": "stdout",
     "output_type": "stream",
     "text": [
      "<class 'str'>\n",
      "['1 bedroom' nan\n",
      " 'Studio accommodation with nice facilities is yours. Facilities are as follows: One king bedroom 2-3 walking distance to Thong Lo Station station'\n",
      " 'We were very happy when we first booked with Jackrit as the condo had what we were looking for. However, the toilet was an utter disappointment. It had this strong, unbearable odor that permeated through to the bedroom. Even though Jackrit had someone look at it, sadly, it did…Read more'\n",
      " 'G2015 Single bedroom E1 at Sukhumvit soi64.near sky trian (BTS) Punnawithi station.Room size 26sqm.Have 1 kitchen,1 bathroom and 1 balcony.'\n",
      " \"Its a nice condo about 12 mins walk to the ON NUT BTS, the condo is on the 8th top floor with good views on BKK city and the pool / condo courtyard,I stayed in another condo after this and whist the other was a one bedroom unit instead of a studio Ho's place and support was…Read more\"\n",
      " '2 bedrooms' 'New & modern one-bedroom suite near BTS Phyathai'\n",
      " 'Clean Cozy Condo 1bedroom BTS bangna Bitec 10TB66'\n",
      " 'two bedroom apartment at metropark' 'Right next to BTS 1 bedroom condo'\n",
      " 'Wide doorway to the bedroom'\n",
      " 'The entire two bedroom apartment near skytrain'\n",
      " 'Cozy Big bedroom, near BTS Punnawithi'\n",
      " 'Studio accommodation with nice facilities is yours. Facilities are as follows: One King bedroom 2-3 walking distance to Thong Lo Station station'\n",
      " 'Modern Full equiped 1 bedroom Onnut Sukhumvit 77'\n",
      " 'Step to BTS-Free WIFI-Rooftop pool-Comfy bedroom'\n",
      " 'It is a has One King size bedroom and Living room,air conditioner, small kitchen, bathroom, free WiFi, refrigerator, microwave, TV, a rooftop Jacuzzi, open-air Japanese style bath, shared fitness, parking (1day 200B) and 24-hour security. 2-3 minutes walking distance to BTS Thonglor station. There are street food shops around the studio.'\n",
      " 'One King bedroom and Sofa bed accommodation has an air conditioner, free WiFi, refrigerator, microwave, TV, Cable TV'\n",
      " 'The Zen bedroom will alter your lifestyle, put your mind at ease and turn every moment in the bedroom into one of rejuvenation, relaxation and introspection. A/C 5\" bedroom studio (34m2), 7th fl Warm Shower Internet/cableTV River & Ferris wheel view Pool 24h security, laundry, restaurant BTS and Hotel shuttle boat Vegetarian restaurant, Pizza, Starbuck and Asiatique Night market in walking distance'\n",
      " '1Min to BTS/1bedroom/private bathroom/Sukumvit Rd.'\n",
      " 'Big bedroom near BTS Punnawithi, Le crique'\n",
      " 'BKK City overlooks G Land Tower from bedroom ,MRT.'\n",
      " '1 bedroom condo with all facilities in Bangkok'\n",
      " 'Spacious & modern 1 bedroom unit, Asoke location.'\n",
      " '1 bedroom in luxury community near On nut BTS' '3 bedrooms'\n",
      " 'Top location Large luxury One bedroom Apt. 6-2'\n",
      " 'Cozy 2 bedrooms city/pool view with 2 balconies'\n",
      " '2 bedroom in luxury community near On nut BTS' '4 bedrooms'\n",
      " 'Step-free access to the bedroom'\n",
      " 'Modern 1 bedroom condo-2 mins frm BTS Wongwian Yai'\n",
      " '(T3) 2 bedrooms 4-6 guests+kitchen 1min to BTS'\n",
      " 'A fully furnished one bedroom apartment (34.5 Sq.m) with high speed WIFI'\n",
      " '(T4) 2 bedrooms 4-6 guests+kitchen 1min to BTS' '6 bedrooms'\n",
      " 'Poolside private 1 bedroom condo' '5 bedrooms'\n",
      " '360°view2bedrooms63sqLuxuryCondo/Pool&GymBTS:OnNut'\n",
      " 'k Cozy one bedroom +BTS +MRT 中文服务01'\n",
      " '☀ ☼Sky bedroom with a smooth life view☼☀'\n",
      " 'Luxury two bedrooms /Subway/Airport Rail Link/RCA'\n",
      " 'The Duplex, 4-bedrooms : 3 mins to Sutthisan MRT'\n",
      " 'Cozy 2bedrooms Silom+BTS saladaeng+homey+中文通(S6)'\n",
      " 'The Library, 3-bedrooms : 3 mins to Sutthisan MRT']\n"
     ]
    }
   ],
   "source": [
    "print(type(BangkokData['Bedrooms_no'][0]))\n",
    "print(BangkokData['Bedrooms_no'].unique())"
   ]
  },
  {
   "cell_type": "code",
   "execution_count": null,
   "metadata": {},
   "outputs": [],
   "source": []
  },
  {
   "cell_type": "markdown",
   "metadata": {},
   "source": [
    "### Number of Beds"
   ]
  },
  {
   "cell_type": "code",
   "execution_count": 39,
   "metadata": {},
   "outputs": [
    {
     "name": "stdout",
     "output_type": "stream",
     "text": [
      "<class 'str'>\n",
      "['1 bed' '2 beds' '3 beds' nan '4 beds' '0 beds'\n",
      " 'PRIVATE ROOM IN BED AND BREAKFAST' '5 beds' '6 beds' '7 beds' '8 beds'\n",
      " 'Private room in bed and breakfast']\n"
     ]
    }
   ],
   "source": [
    "print(type(BangkokData['Beds_no'][0]))\n",
    "print(BangkokData['Beds_no'].unique())"
   ]
  },
  {
   "cell_type": "code",
   "execution_count": 40,
   "metadata": {},
   "outputs": [],
   "source": [
    "BangkokData['Beds_int'] = float(0)"
   ]
  },
  {
   "cell_type": "code",
   "execution_count": 41,
   "metadata": {},
   "outputs": [],
   "source": [
    "BangkokData['Beds_int']= beds_int(BangkokData)"
   ]
  },
  {
   "cell_type": "code",
   "execution_count": 42,
   "metadata": {},
   "outputs": [
    {
     "name": "stdout",
     "output_type": "stream",
     "text": [
      "1 bed 1.0\n",
      "1 bed 1.0\n",
      "2 beds 2.0\n",
      "1 bed 1.0\n",
      "3 beds 3.0\n",
      "3 beds 3.0\n",
      "1 bed 1.0\n",
      "1 bed 1.0\n",
      "1 bed 1.0\n",
      "1 bed 1.0\n"
     ]
    }
   ],
   "source": [
    "for i in range(10):\n",
    "    print(BangkokData['Beds_no'][i],BangkokData['Beds_int'][i])"
   ]
  },
  {
   "cell_type": "markdown",
   "metadata": {},
   "source": [
    "### Latitude"
   ]
  },
  {
   "cell_type": "code",
   "execution_count": 191,
   "metadata": {},
   "outputs": [
    {
     "name": "stdout",
     "output_type": "stream",
     "text": [
      "<class 'numpy.float64'>\n"
     ]
    }
   ],
   "source": [
    "print(type(BangkokData['Latitude'][0]))"
   ]
  },
  {
   "cell_type": "markdown",
   "metadata": {},
   "source": [
    "### Longitude"
   ]
  },
  {
   "cell_type": "code",
   "execution_count": 192,
   "metadata": {},
   "outputs": [
    {
     "name": "stdout",
     "output_type": "stream",
     "text": [
      "<class 'numpy.float64'>\n"
     ]
    }
   ],
   "source": [
    "print(type(BangkokData['Longitude'][0]))"
   ]
  },
  {
   "cell_type": "markdown",
   "metadata": {},
   "source": [
    "# Cairo"
   ]
  },
  {
   "cell_type": "code",
   "execution_count": 166,
   "metadata": {},
   "outputs": [
    {
     "data": {
      "text/plain": [
       "Index(['CheckIn', 'CheckOut', 'Has_Weekend', 'Title', 'Price', 'Super_host',\n",
       "       'Latitude', 'Longitude', 'EntireHomeVsRoom', 'Bedrooms_no', 'Beds_no',\n",
       "       'Bathrooms_num', 'Sleeping_engagment', 'Amenities', 'Accuracy_stars',\n",
       "       'Communication_stars', 'Cleanliness_stars', 'Location_stars',\n",
       "       'CheckIn_stars', 'Value_stars', 'Reviewers_no', 'Review'],\n",
       "      dtype='object')"
      ]
     },
     "execution_count": 166,
     "metadata": {},
     "output_type": "execute_result"
    }
   ],
   "source": [
    "CairoData.columns\n"
   ]
  },
  {
   "cell_type": "markdown",
   "metadata": {},
   "source": [
    "### Does it have a weekend?"
   ]
  },
  {
   "cell_type": "code",
   "execution_count": 167,
   "metadata": {},
   "outputs": [
    {
     "data": {
      "text/plain": [
       "array([ True])"
      ]
     },
     "execution_count": 167,
     "metadata": {},
     "output_type": "execute_result"
    }
   ],
   "source": [
    "CairoData['Has_Weekend'].unique()"
   ]
  },
  {
   "cell_type": "code",
   "execution_count": 168,
   "metadata": {},
   "outputs": [],
   "source": [
    "CairoData.drop(['Has_Weekend','Reviewers_no'],axis=1, inplace=True)"
   ]
  },
  {
   "cell_type": "code",
   "execution_count": 169,
   "metadata": {},
   "outputs": [
    {
     "data": {
      "text/plain": [
       "Index(['CheckIn', 'CheckOut', 'Title', 'Price', 'Super_host', 'Latitude',\n",
       "       'Longitude', 'EntireHomeVsRoom', 'Bedrooms_no', 'Beds_no',\n",
       "       'Bathrooms_num', 'Sleeping_engagment', 'Amenities', 'Accuracy_stars',\n",
       "       'Communication_stars', 'Cleanliness_stars', 'Location_stars',\n",
       "       'CheckIn_stars', 'Value_stars', 'Review'],\n",
       "      dtype='object')"
      ]
     },
     "execution_count": 169,
     "metadata": {},
     "output_type": "execute_result"
    }
   ],
   "source": [
    "CairoData.columns"
   ]
  },
  {
   "cell_type": "markdown",
   "metadata": {},
   "source": [
    "### Is Super Host?"
   ]
  },
  {
   "cell_type": "code",
   "execution_count": 170,
   "metadata": {},
   "outputs": [
    {
     "data": {
      "text/plain": [
       "0                       NaN\n",
       "1                       NaN\n",
       "2                       NaN\n",
       "3                       NaN\n",
       "4                       NaN\n",
       "5                       NaN\n",
       "6                       NaN\n",
       "7     Bassem is a Superhost\n",
       "8                       NaN\n",
       "9    Mohamed is a Superhost\n",
       "Name: Super_host, dtype: object"
      ]
     },
     "execution_count": 170,
     "metadata": {},
     "output_type": "execute_result"
    }
   ],
   "source": [
    "CairoData.Super_host[0:10]"
   ]
  },
  {
   "cell_type": "code",
   "execution_count": 171,
   "metadata": {},
   "outputs": [],
   "source": [
    "CairoData['Super_host'] = super_host(CairoData)"
   ]
  },
  {
   "cell_type": "code",
   "execution_count": 172,
   "metadata": {},
   "outputs": [
    {
     "data": {
      "text/plain": [
       "0    0\n",
       "1    0\n",
       "2    0\n",
       "3    0\n",
       "4    0\n",
       "5    0\n",
       "6    0\n",
       "7    1\n",
       "8    0\n",
       "9    1\n",
       "Name: Super_host, dtype: int64"
      ]
     },
     "execution_count": 172,
     "metadata": {},
     "output_type": "execute_result"
    }
   ],
   "source": [
    "CairoData.Super_host[0:10]"
   ]
  },
  {
   "cell_type": "markdown",
   "metadata": {},
   "source": [
    "### Price"
   ]
  },
  {
   "cell_type": "code",
   "execution_count": 173,
   "metadata": {},
   "outputs": [],
   "source": [
    "CairoData['Price'] = price_format(CairoData)"
   ]
  },
  {
   "cell_type": "code",
   "execution_count": 174,
   "metadata": {},
   "outputs": [
    {
     "name": "stdout",
     "output_type": "stream",
     "text": [
      "<class 'numpy.float64'>\n",
      "0    15.0\n",
      "1    12.0\n",
      "2    22.0\n",
      "3    19.0\n",
      "4    23.0\n",
      "5    25.0\n",
      "6    40.0\n",
      "7    37.0\n",
      "8    65.0\n",
      "9    11.0\n",
      "Name: Price, dtype: float64\n"
     ]
    }
   ],
   "source": [
    "print(type(CairoData['Price'][0]))\n",
    "print(CairoData['Price'][0:10])"
   ]
  },
  {
   "cell_type": "markdown",
   "metadata": {},
   "source": [
    "### Number of Bathrooms"
   ]
  },
  {
   "cell_type": "code",
   "execution_count": 175,
   "metadata": {},
   "outputs": [
    {
     "name": "stdout",
     "output_type": "stream",
     "text": [
      "<class 'str'>\n",
      "['2 shared baths' '1.5 baths' '1 shared bath' '1.5 private baths'\n",
      " '1 private bath' '1 bath' '2 baths' '3 baths' '12 private baths'\n",
      " '8 private baths' '1.5 shared baths' '2.5 baths' nan '4 baths'\n",
      " '2 private baths' '0 shared baths' '3 private baths' '3 shared baths'\n",
      " '10 private baths' '5 private baths' '6 baths' '4 private baths'\n",
      " '3.5 baths' '4 shared baths' '25 private baths' '20 private baths']\n"
     ]
    }
   ],
   "source": [
    "print(type(CairoData['Bathrooms_num'][0]))\n",
    "print(CairoData['Bathrooms_num'].unique())"
   ]
  },
  {
   "cell_type": "code",
   "execution_count": 176,
   "metadata": {},
   "outputs": [],
   "source": [
    "CairoData['Bathrooms_num_int']= float(0)"
   ]
  },
  {
   "cell_type": "code",
   "execution_count": 179,
   "metadata": {},
   "outputs": [
    {
     "name": "stderr",
     "output_type": "stream",
     "text": [
      "c:\\users\\kbrig\\airbnbrepo\\airbnb\\bnb\\data_processing\\clean.py:17: SettingWithCopyWarning:\n",
      "\n",
      "\n",
      "A value is trying to be set on a copy of a slice from a DataFrame\n",
      "\n",
      "See the caveats in the documentation: http://pandas.pydata.org/pandas-docs/stable/indexing.html#indexing-view-versus-copy\n",
      "\n",
      "c:\\users\\kbrig\\airbnbrepo\\airbnb\\bnb\\data_processing\\clean.py:13: SettingWithCopyWarning:\n",
      "\n",
      "\n",
      "A value is trying to be set on a copy of a slice from a DataFrame\n",
      "\n",
      "See the caveats in the documentation: http://pandas.pydata.org/pandas-docs/stable/indexing.html#indexing-view-versus-copy\n",
      "\n"
     ]
    }
   ],
   "source": [
    "CairoData['Bathrooms_num_int']= bathrooms_int(CairoData) "
   ]
  },
  {
   "cell_type": "code",
   "execution_count": 180,
   "metadata": {},
   "outputs": [
    {
     "name": "stdout",
     "output_type": "stream",
     "text": [
      "2 shared baths 2.0\n",
      "1.5 baths 1.5\n",
      "1 shared bath 1.0\n",
      "1.5 private baths 1.5\n",
      "1 shared bath 1.0\n",
      "1 private bath 1.0\n",
      "1 private bath 1.0\n",
      "1.5 baths 1.5\n",
      "1 bath 1.0\n",
      "1 shared bath 1.0\n"
     ]
    }
   ],
   "source": [
    "for i in range(10):\n",
    "    print(CairoData['Bathrooms_num'][i],CairoData['Bathrooms_num_int'][i])"
   ]
  },
  {
   "cell_type": "markdown",
   "metadata": {},
   "source": [
    "### Shared vs. Private Bathrooms"
   ]
  },
  {
   "cell_type": "code",
   "execution_count": 181,
   "metadata": {},
   "outputs": [],
   "source": [
    "CairoData['shared_bathroom']= shared_bathroom(CairoData)"
   ]
  },
  {
   "cell_type": "code",
   "execution_count": 183,
   "metadata": {},
   "outputs": [
    {
     "data": {
      "text/html": [
       "<div>\n",
       "<style scoped>\n",
       "    .dataframe tbody tr th:only-of-type {\n",
       "        vertical-align: middle;\n",
       "    }\n",
       "\n",
       "    .dataframe tbody tr th {\n",
       "        vertical-align: top;\n",
       "    }\n",
       "\n",
       "    .dataframe thead th {\n",
       "        text-align: right;\n",
       "    }\n",
       "</style>\n",
       "<table border=\"1\" class=\"dataframe\">\n",
       "  <thead>\n",
       "    <tr style=\"text-align: right;\">\n",
       "      <th></th>\n",
       "      <th>Bathrooms_num</th>\n",
       "      <th>shared_bathroom</th>\n",
       "    </tr>\n",
       "  </thead>\n",
       "  <tbody>\n",
       "    <tr>\n",
       "      <th>0</th>\n",
       "      <td>2 shared baths</td>\n",
       "      <td>True</td>\n",
       "    </tr>\n",
       "    <tr>\n",
       "      <th>1</th>\n",
       "      <td>1.5 baths</td>\n",
       "      <td>False</td>\n",
       "    </tr>\n",
       "    <tr>\n",
       "      <th>2</th>\n",
       "      <td>1 shared bath</td>\n",
       "      <td>True</td>\n",
       "    </tr>\n",
       "    <tr>\n",
       "      <th>3</th>\n",
       "      <td>1.5 private baths</td>\n",
       "      <td>False</td>\n",
       "    </tr>\n",
       "    <tr>\n",
       "      <th>4</th>\n",
       "      <td>1 shared bath</td>\n",
       "      <td>True</td>\n",
       "    </tr>\n",
       "    <tr>\n",
       "      <th>5</th>\n",
       "      <td>1 private bath</td>\n",
       "      <td>False</td>\n",
       "    </tr>\n",
       "    <tr>\n",
       "      <th>6</th>\n",
       "      <td>1 private bath</td>\n",
       "      <td>False</td>\n",
       "    </tr>\n",
       "    <tr>\n",
       "      <th>7</th>\n",
       "      <td>1.5 baths</td>\n",
       "      <td>False</td>\n",
       "    </tr>\n",
       "    <tr>\n",
       "      <th>8</th>\n",
       "      <td>1 bath</td>\n",
       "      <td>False</td>\n",
       "    </tr>\n",
       "    <tr>\n",
       "      <th>9</th>\n",
       "      <td>1 shared bath</td>\n",
       "      <td>True</td>\n",
       "    </tr>\n",
       "  </tbody>\n",
       "</table>\n",
       "</div>"
      ],
      "text/plain": [
       "       Bathrooms_num  shared_bathroom\n",
       "0     2 shared baths             True\n",
       "1          1.5 baths            False\n",
       "2      1 shared bath             True\n",
       "3  1.5 private baths            False\n",
       "4      1 shared bath             True\n",
       "5     1 private bath            False\n",
       "6     1 private bath            False\n",
       "7          1.5 baths            False\n",
       "8             1 bath            False\n",
       "9      1 shared bath             True"
      ]
     },
     "execution_count": 183,
     "metadata": {},
     "output_type": "execute_result"
    }
   ],
   "source": [
    "CairoData[['Bathrooms_num','shared_bathroom']][0:10]"
   ]
  },
  {
   "cell_type": "markdown",
   "metadata": {},
   "source": [
    "### Number of Bedrooms"
   ]
  },
  {
   "cell_type": "code",
   "execution_count": 184,
   "metadata": {},
   "outputs": [
    {
     "name": "stdout",
     "output_type": "stream",
     "text": [
      "<class 'str'>\n",
      "['1 bedroom' '2 bedrooms'\n",
      " 'This fully furnished studio garden apartment includes 1 bedroom, 2 reception units, 1 bathroom..'\n",
      " 'Expat apartment - Clean and cosy bedroom' nan\n",
      " 'Cairo Zahraa El Maadi, one bedroom.'\n",
      " 'Paradise at the Point! This luxurious 1 bedroom, 1 bathroom bath modern-built estate on the Open view is a dream home in a high-end community.'\n",
      " '20 bedrooms' '3 bedrooms'\n",
      " 'Double bedroom in Paris Hotel Breakfast included .'\n",
      " 'Cozy queen bedroom, perfect location.'\n",
      " 'Cozy,clean apartment located in Maadi, one bedroom'\n",
      " '2 Single bedroom in Paris Hotel Breakfast included'\n",
      " 'Apartment(3bedroom) Eltagamo new cairo - 4' '4 bedrooms'\n",
      " 'Private bedroom in a cosy apartment' '10 bedrooms'\n",
      " 'Apartment(2bedroom) Eltagamo new cairo'\n",
      " 'One bedroom with garden in The Village, New Cairo.' '6 bedrooms'\n",
      " '15 bedrooms' 'Apartment(3bedroom) Eltagamo new cairo - 5'\n",
      " 'Apartment(3bedroom) Eltagamo new cairo - 3'\n",
      " 'Princess Apartment 3 bedrooms' 'Beautiful 2 bedrooms close to down town'\n",
      " 'Charming 2 bedrooms apartment ,village, AUC, Cairo'\n",
      " 'Luxurious fully furnished 3 bedroom appt in Maadi'\n",
      " 'Three bedroom apartment degla maadi' '2 bedroom apartment in madinaty'\n",
      " '☀☼Sunny bedroom in the heart of Cairo☼☀'\n",
      " 'Fancy 1 bedroom apartment Free pickup Near airport'\n",
      " 'Guest bedroom, private bathroom,minibar & balcony'\n",
      " 'Very nice bedroom in a center of the Cairo. 5 minutes from Egyptian museum and Downtown Cairo. Explore Cairo by walking I will be happy to show you city as viewed by locals and other hidden gems'\n",
      " '5 bedrooms' 'Modern apartment 2 bedrooms in Madinaty' '13 bedrooms'\n",
      " '9 bedrooms' 'Spacious 3 bedroom Apt, close to Metro & downtown'\n",
      " '1 bedroom apartment in a private villa w/ pool'\n",
      " 'New modern 2-bedroom in Maadi Degla' '2 bedroom 3 big beds Apartment'\n",
      " '2 bedroom apartment, Maadi, Villa Belle Epoque'\n",
      " 'Stylish 2 bedrooms Studio in Cairo Downtown'\n",
      " 'Modern 1 bedroom apartment in The Village'\n",
      " 'Fancy 2 bedroom apartment free airport pickup'\n",
      " 'BOTH (2) comfortable DBL bedrooms supervalue Maadi'\n",
      " '3 bedroom apartment, in downtown Cairo.' '25 bedrooms'\n",
      " 'Cozy bedroom with private bathroom at downtown'\n",
      " '2 bedrooms nice view car and driver(extra charge)'\n",
      " 'Club paradisio 3 bedrooms' \"Digla 3 bedroom's .nice & clean\"\n",
      " 'Serviced Two bedroom apartment at Violet Residence'\n",
      " '2-bedrooms Suite at The Village Compound'\n",
      " 'Master bedroom at El Rehab City']\n",
      "0    1 bedroom\n",
      "1    1 bedroom\n",
      "2    1 bedroom\n",
      "3    1 bedroom\n",
      "4    1 bedroom\n",
      "Name: Bedrooms_no, dtype: object\n"
     ]
    }
   ],
   "source": [
    "print(type(CairoData['Bedrooms_no'][0]))\n",
    "print(CairoData['Bedrooms_no'].unique())\n",
    "print(CairoData['Bedrooms_no'][0:5])"
   ]
  },
  {
   "cell_type": "code",
   "execution_count": null,
   "metadata": {},
   "outputs": [],
   "source": []
  },
  {
   "cell_type": "markdown",
   "metadata": {},
   "source": [
    "### Number of Beds"
   ]
  },
  {
   "cell_type": "code",
   "execution_count": 43,
   "metadata": {},
   "outputs": [
    {
     "name": "stdout",
     "output_type": "stream",
     "text": [
      "<class 'str'>\n",
      "['2 beds' '1 bed' '4 beds' nan 'Private room in bed and breakfast'\n",
      " '3 beds' '26 beds' '6 beds' '5 beds' '8 beds'\n",
      " 'Stylish brand new fully furnished studio apartment with queen size bed and open plan kitchen. kitchen is fully equipped with all cutlery and crockery, washing machine, cooker, microwave, kettle, toaster. bed linen and towels are provided.'\n",
      " '16 beds' '50 beds' '37 beds' '7 beds' '10 beds' '18 beds' '30 beds']\n"
     ]
    }
   ],
   "source": [
    "print(type(CairoData['Beds_no'][0]))\n",
    "print(CairoData['Beds_no'].unique())"
   ]
  },
  {
   "cell_type": "code",
   "execution_count": 47,
   "metadata": {},
   "outputs": [
    {
     "data": {
      "text/html": [
       "<div>\n",
       "<style scoped>\n",
       "    .dataframe tbody tr th:only-of-type {\n",
       "        vertical-align: middle;\n",
       "    }\n",
       "\n",
       "    .dataframe tbody tr th {\n",
       "        vertical-align: top;\n",
       "    }\n",
       "\n",
       "    .dataframe thead th {\n",
       "        text-align: right;\n",
       "    }\n",
       "</style>\n",
       "<table border=\"1\" class=\"dataframe\">\n",
       "  <thead>\n",
       "    <tr style=\"text-align: right;\">\n",
       "      <th></th>\n",
       "      <th>CheckIn</th>\n",
       "      <th>CheckOut</th>\n",
       "      <th>Has_Weekend</th>\n",
       "      <th>Title</th>\n",
       "      <th>Price</th>\n",
       "      <th>Super_host</th>\n",
       "      <th>Latitude</th>\n",
       "      <th>Longitude</th>\n",
       "      <th>EntireHomeVsRoom</th>\n",
       "      <th>Bedrooms_no</th>\n",
       "      <th>...</th>\n",
       "      <th>Amenities</th>\n",
       "      <th>Accuracy_stars</th>\n",
       "      <th>Communication_stars</th>\n",
       "      <th>Cleanliness_stars</th>\n",
       "      <th>Location_stars</th>\n",
       "      <th>CheckIn_stars</th>\n",
       "      <th>Value_stars</th>\n",
       "      <th>Reviewers_no</th>\n",
       "      <th>Review</th>\n",
       "      <th>Beds_int</th>\n",
       "    </tr>\n",
       "  </thead>\n",
       "  <tbody>\n",
       "    <tr>\n",
       "      <th>70</th>\n",
       "      <td>2019-03-14 0:00</td>\n",
       "      <td>2019-03-19 0:00</td>\n",
       "      <td>True</td>\n",
       "      <td>fully furnished apt in the village palm hills,...</td>\n",
       "      <td>$63</td>\n",
       "      <td>NaN</td>\n",
       "      <td>30.01949</td>\n",
       "      <td>31.50053</td>\n",
       "      <td>Entire apartment</td>\n",
       "      <td>1 bedroom</td>\n",
       "      <td>...</td>\n",
       "      <td>['Wifi', 'Iron', 'Heating', 'Washer', 'TV', 'A...</td>\n",
       "      <td>NaN</td>\n",
       "      <td>NaN</td>\n",
       "      <td>NaN</td>\n",
       "      <td>NaN</td>\n",
       "      <td>NaN</td>\n",
       "      <td>NaN</td>\n",
       "      <td>NaN</td>\n",
       "      <td>No reviews (yet)\\nBe one of the first guests t...</td>\n",
       "      <td>0.0</td>\n",
       "    </tr>\n",
       "    <tr>\n",
       "      <th>557</th>\n",
       "      <td>2019-03-28 0:00</td>\n",
       "      <td>2019-04-02 0:00</td>\n",
       "      <td>True</td>\n",
       "      <td>fully furnished apt in the village palm hills,...</td>\n",
       "      <td>$63</td>\n",
       "      <td>NaN</td>\n",
       "      <td>30.01949</td>\n",
       "      <td>31.50053</td>\n",
       "      <td>Entire apartment</td>\n",
       "      <td>1 bedroom</td>\n",
       "      <td>...</td>\n",
       "      <td>['Wifi', 'Iron', 'Heating', 'Washer', 'TV', 'A...</td>\n",
       "      <td>NaN</td>\n",
       "      <td>NaN</td>\n",
       "      <td>NaN</td>\n",
       "      <td>NaN</td>\n",
       "      <td>NaN</td>\n",
       "      <td>NaN</td>\n",
       "      <td>NaN</td>\n",
       "      <td>No reviews (yet)\\nBe one of the first guests t...</td>\n",
       "      <td>0.0</td>\n",
       "    </tr>\n",
       "    <tr>\n",
       "      <th>896</th>\n",
       "      <td>2019-04-11 0:00</td>\n",
       "      <td>2019-04-16 0:00</td>\n",
       "      <td>True</td>\n",
       "      <td>fully furnished apt in the village palm hills,...</td>\n",
       "      <td>$63</td>\n",
       "      <td>NaN</td>\n",
       "      <td>30.01949</td>\n",
       "      <td>31.50053</td>\n",
       "      <td>Entire apartment</td>\n",
       "      <td>1 bedroom</td>\n",
       "      <td>...</td>\n",
       "      <td>['Wifi', 'Iron', 'Heating', 'Washer', 'TV', 'A...</td>\n",
       "      <td>NaN</td>\n",
       "      <td>NaN</td>\n",
       "      <td>NaN</td>\n",
       "      <td>NaN</td>\n",
       "      <td>NaN</td>\n",
       "      <td>NaN</td>\n",
       "      <td>NaN</td>\n",
       "      <td>No reviews (yet)\\nBe one of the first guests t...</td>\n",
       "      <td>0.0</td>\n",
       "    </tr>\n",
       "    <tr>\n",
       "      <th>902</th>\n",
       "      <td>2019-04-11 0:00</td>\n",
       "      <td>2019-04-16 0:00</td>\n",
       "      <td>True</td>\n",
       "      <td>fully furnished apt in the village palm hills,...</td>\n",
       "      <td>$63</td>\n",
       "      <td>NaN</td>\n",
       "      <td>30.01949</td>\n",
       "      <td>31.50053</td>\n",
       "      <td>Entire apartment</td>\n",
       "      <td>1 bedroom</td>\n",
       "      <td>...</td>\n",
       "      <td>['Wifi', 'Iron', 'Heating', 'Washer', 'TV', 'A...</td>\n",
       "      <td>NaN</td>\n",
       "      <td>NaN</td>\n",
       "      <td>NaN</td>\n",
       "      <td>NaN</td>\n",
       "      <td>NaN</td>\n",
       "      <td>NaN</td>\n",
       "      <td>NaN</td>\n",
       "      <td>No reviews (yet)\\nBe one of the first guests t...</td>\n",
       "      <td>0.0</td>\n",
       "    </tr>\n",
       "    <tr>\n",
       "      <th>1211</th>\n",
       "      <td>2019-04-25 0:00</td>\n",
       "      <td>2019-04-30 0:00</td>\n",
       "      <td>True</td>\n",
       "      <td>fully furnished apt in the village palm hills,...</td>\n",
       "      <td>$63</td>\n",
       "      <td>NaN</td>\n",
       "      <td>30.01949</td>\n",
       "      <td>31.50053</td>\n",
       "      <td>Entire apartment</td>\n",
       "      <td>1 bedroom</td>\n",
       "      <td>...</td>\n",
       "      <td>['Wifi', 'Iron', 'Heating', 'Washer', 'TV', 'A...</td>\n",
       "      <td>NaN</td>\n",
       "      <td>NaN</td>\n",
       "      <td>NaN</td>\n",
       "      <td>NaN</td>\n",
       "      <td>NaN</td>\n",
       "      <td>NaN</td>\n",
       "      <td>NaN</td>\n",
       "      <td>No reviews (yet)\\nBe one of the first guests t...</td>\n",
       "      <td>0.0</td>\n",
       "    </tr>\n",
       "    <tr>\n",
       "      <th>2102</th>\n",
       "      <td>2019-06-06 0:00</td>\n",
       "      <td>2019-06-11 0:00</td>\n",
       "      <td>True</td>\n",
       "      <td>fully furnished apt in the village palm hills,...</td>\n",
       "      <td>$63</td>\n",
       "      <td>NaN</td>\n",
       "      <td>30.01949</td>\n",
       "      <td>31.50053</td>\n",
       "      <td>Entire apartment</td>\n",
       "      <td>1 bedroom</td>\n",
       "      <td>...</td>\n",
       "      <td>['Wifi', 'Iron', 'Heating', 'Washer', 'TV', 'A...</td>\n",
       "      <td>NaN</td>\n",
       "      <td>NaN</td>\n",
       "      <td>NaN</td>\n",
       "      <td>NaN</td>\n",
       "      <td>NaN</td>\n",
       "      <td>NaN</td>\n",
       "      <td>NaN</td>\n",
       "      <td>No reviews (yet)\\nBe one of the first guests t...</td>\n",
       "      <td>0.0</td>\n",
       "    </tr>\n",
       "    <tr>\n",
       "      <th>2380</th>\n",
       "      <td>2019-06-20 0:00</td>\n",
       "      <td>2019-06-25 0:00</td>\n",
       "      <td>True</td>\n",
       "      <td>fully furnished apt in the village palm hills,...</td>\n",
       "      <td>$63</td>\n",
       "      <td>NaN</td>\n",
       "      <td>30.01949</td>\n",
       "      <td>31.50053</td>\n",
       "      <td>Entire apartment</td>\n",
       "      <td>1 bedroom</td>\n",
       "      <td>...</td>\n",
       "      <td>['Wifi', 'Iron', 'Heating', 'Washer', 'TV', 'A...</td>\n",
       "      <td>NaN</td>\n",
       "      <td>NaN</td>\n",
       "      <td>NaN</td>\n",
       "      <td>NaN</td>\n",
       "      <td>NaN</td>\n",
       "      <td>NaN</td>\n",
       "      <td>NaN</td>\n",
       "      <td>No reviews (yet)\\nBe one of the first guests t...</td>\n",
       "      <td>0.0</td>\n",
       "    </tr>\n",
       "    <tr>\n",
       "      <th>2681</th>\n",
       "      <td>2019-07-04 0:00</td>\n",
       "      <td>2019-07-09 0:00</td>\n",
       "      <td>True</td>\n",
       "      <td>fully furnished apt in the village palm hills,...</td>\n",
       "      <td>$63</td>\n",
       "      <td>NaN</td>\n",
       "      <td>30.01949</td>\n",
       "      <td>31.50053</td>\n",
       "      <td>Entire apartment</td>\n",
       "      <td>1 bedroom</td>\n",
       "      <td>...</td>\n",
       "      <td>['Wifi', 'Iron', 'Heating', 'Washer', 'TV', 'A...</td>\n",
       "      <td>NaN</td>\n",
       "      <td>NaN</td>\n",
       "      <td>NaN</td>\n",
       "      <td>NaN</td>\n",
       "      <td>NaN</td>\n",
       "      <td>NaN</td>\n",
       "      <td>NaN</td>\n",
       "      <td>No reviews (yet)\\nBe one of the first guests t...</td>\n",
       "      <td>0.0</td>\n",
       "    </tr>\n",
       "    <tr>\n",
       "      <th>3001</th>\n",
       "      <td>2019-07-18 0:00</td>\n",
       "      <td>2019-07-23 0:00</td>\n",
       "      <td>True</td>\n",
       "      <td>fully furnished apt in the village palm hills,...</td>\n",
       "      <td>$63</td>\n",
       "      <td>NaN</td>\n",
       "      <td>30.01949</td>\n",
       "      <td>31.50053</td>\n",
       "      <td>Entire apartment</td>\n",
       "      <td>1 bedroom</td>\n",
       "      <td>...</td>\n",
       "      <td>['Wifi', 'Iron', 'Heating', 'Washer', 'TV', 'A...</td>\n",
       "      <td>NaN</td>\n",
       "      <td>NaN</td>\n",
       "      <td>NaN</td>\n",
       "      <td>NaN</td>\n",
       "      <td>NaN</td>\n",
       "      <td>NaN</td>\n",
       "      <td>NaN</td>\n",
       "      <td>No reviews (yet)\\nBe one of the first guests t...</td>\n",
       "      <td>0.0</td>\n",
       "    </tr>\n",
       "    <tr>\n",
       "      <th>3317</th>\n",
       "      <td>2019-08-01 0:00</td>\n",
       "      <td>2019-08-06 0:00</td>\n",
       "      <td>True</td>\n",
       "      <td>fully furnished apt in the village palm hills,...</td>\n",
       "      <td>$69</td>\n",
       "      <td>NaN</td>\n",
       "      <td>30.01949</td>\n",
       "      <td>31.50053</td>\n",
       "      <td>Entire apartment</td>\n",
       "      <td>1 bedroom</td>\n",
       "      <td>...</td>\n",
       "      <td>['Wifi', 'Iron', 'Heating', 'Washer', 'TV', 'A...</td>\n",
       "      <td>NaN</td>\n",
       "      <td>NaN</td>\n",
       "      <td>NaN</td>\n",
       "      <td>NaN</td>\n",
       "      <td>NaN</td>\n",
       "      <td>NaN</td>\n",
       "      <td>NaN</td>\n",
       "      <td>No reviews (yet)\\nBe one of the first guests t...</td>\n",
       "      <td>0.0</td>\n",
       "    </tr>\n",
       "    <tr>\n",
       "      <th>3633</th>\n",
       "      <td>2019-08-15 0:00</td>\n",
       "      <td>2019-08-20 0:00</td>\n",
       "      <td>True</td>\n",
       "      <td>fully furnished apt in the village palm hills,...</td>\n",
       "      <td>$70</td>\n",
       "      <td>NaN</td>\n",
       "      <td>30.01949</td>\n",
       "      <td>31.50053</td>\n",
       "      <td>Entire apartment</td>\n",
       "      <td>1 bedroom</td>\n",
       "      <td>...</td>\n",
       "      <td>['Wifi', 'Iron', 'Heating', 'Washer', 'TV', 'A...</td>\n",
       "      <td>NaN</td>\n",
       "      <td>NaN</td>\n",
       "      <td>NaN</td>\n",
       "      <td>NaN</td>\n",
       "      <td>NaN</td>\n",
       "      <td>NaN</td>\n",
       "      <td>NaN</td>\n",
       "      <td>No reviews (yet)\\nBe one of the first guests t...</td>\n",
       "      <td>0.0</td>\n",
       "    </tr>\n",
       "    <tr>\n",
       "      <th>3920</th>\n",
       "      <td>2019-08-29 0:00</td>\n",
       "      <td>2019-09-03 0:00</td>\n",
       "      <td>True</td>\n",
       "      <td>fully furnished apt in the village palm hills,...</td>\n",
       "      <td>$71</td>\n",
       "      <td>NaN</td>\n",
       "      <td>30.01949</td>\n",
       "      <td>31.50053</td>\n",
       "      <td>Entire apartment</td>\n",
       "      <td>1 bedroom</td>\n",
       "      <td>...</td>\n",
       "      <td>['Wifi', 'Iron', 'Heating', 'Washer', 'TV', 'A...</td>\n",
       "      <td>NaN</td>\n",
       "      <td>NaN</td>\n",
       "      <td>NaN</td>\n",
       "      <td>NaN</td>\n",
       "      <td>NaN</td>\n",
       "      <td>NaN</td>\n",
       "      <td>NaN</td>\n",
       "      <td>No reviews (yet)\\nBe one of the first guests t...</td>\n",
       "      <td>0.0</td>\n",
       "    </tr>\n",
       "    <tr>\n",
       "      <th>4169</th>\n",
       "      <td>2019-09-12 0:00</td>\n",
       "      <td>2019-09-17 0:00</td>\n",
       "      <td>True</td>\n",
       "      <td>fully furnished apt in the village palm hills,...</td>\n",
       "      <td>$77</td>\n",
       "      <td>NaN</td>\n",
       "      <td>30.01949</td>\n",
       "      <td>31.50053</td>\n",
       "      <td>Entire apartment</td>\n",
       "      <td>1 bedroom</td>\n",
       "      <td>...</td>\n",
       "      <td>['Wifi', 'Iron', 'Heating', 'Washer', 'TV', 'A...</td>\n",
       "      <td>NaN</td>\n",
       "      <td>NaN</td>\n",
       "      <td>NaN</td>\n",
       "      <td>NaN</td>\n",
       "      <td>NaN</td>\n",
       "      <td>NaN</td>\n",
       "      <td>NaN</td>\n",
       "      <td>No reviews (yet)\\nBe one of the first guests t...</td>\n",
       "      <td>0.0</td>\n",
       "    </tr>\n",
       "    <tr>\n",
       "      <th>4784</th>\n",
       "      <td>2019-10-10 0:00</td>\n",
       "      <td>2019-10-15 0:00</td>\n",
       "      <td>True</td>\n",
       "      <td>fully furnished apt in the village palm hills,...</td>\n",
       "      <td>$78</td>\n",
       "      <td>NaN</td>\n",
       "      <td>30.01949</td>\n",
       "      <td>31.50053</td>\n",
       "      <td>Entire apartment</td>\n",
       "      <td>1 bedroom</td>\n",
       "      <td>...</td>\n",
       "      <td>['Wifi', 'Iron', 'Heating', 'Washer', 'TV', 'A...</td>\n",
       "      <td>NaN</td>\n",
       "      <td>NaN</td>\n",
       "      <td>NaN</td>\n",
       "      <td>NaN</td>\n",
       "      <td>NaN</td>\n",
       "      <td>NaN</td>\n",
       "      <td>NaN</td>\n",
       "      <td>No reviews (yet)\\nBe one of the first guests t...</td>\n",
       "      <td>0.0</td>\n",
       "    </tr>\n",
       "    <tr>\n",
       "      <th>5095</th>\n",
       "      <td>2019-10-24 0:00</td>\n",
       "      <td>2019-10-29 0:00</td>\n",
       "      <td>True</td>\n",
       "      <td>fully furnished apt in the village palm hills,...</td>\n",
       "      <td>$78</td>\n",
       "      <td>NaN</td>\n",
       "      <td>30.01949</td>\n",
       "      <td>31.50053</td>\n",
       "      <td>Entire apartment</td>\n",
       "      <td>1 bedroom</td>\n",
       "      <td>...</td>\n",
       "      <td>['Wifi', 'Iron', 'Heating', 'Washer', 'TV', 'A...</td>\n",
       "      <td>NaN</td>\n",
       "      <td>NaN</td>\n",
       "      <td>NaN</td>\n",
       "      <td>NaN</td>\n",
       "      <td>NaN</td>\n",
       "      <td>NaN</td>\n",
       "      <td>NaN</td>\n",
       "      <td>No reviews (yet)\\nBe one of the first guests t...</td>\n",
       "      <td>0.0</td>\n",
       "    </tr>\n",
       "    <tr>\n",
       "      <th>5309</th>\n",
       "      <td>2019-11-07 0:00</td>\n",
       "      <td>2019-11-12 0:00</td>\n",
       "      <td>True</td>\n",
       "      <td>fully furnished apt in the village palm hills,...</td>\n",
       "      <td>$78</td>\n",
       "      <td>NaN</td>\n",
       "      <td>30.01949</td>\n",
       "      <td>31.50053</td>\n",
       "      <td>Entire apartment</td>\n",
       "      <td>1 bedroom</td>\n",
       "      <td>...</td>\n",
       "      <td>['Wifi', 'Iron', 'Heating', 'Washer', 'TV', 'A...</td>\n",
       "      <td>NaN</td>\n",
       "      <td>NaN</td>\n",
       "      <td>NaN</td>\n",
       "      <td>NaN</td>\n",
       "      <td>NaN</td>\n",
       "      <td>NaN</td>\n",
       "      <td>NaN</td>\n",
       "      <td>No reviews (yet)\\nBe one of the first guests t...</td>\n",
       "      <td>0.0</td>\n",
       "    </tr>\n",
       "    <tr>\n",
       "      <th>5614</th>\n",
       "      <td>2019-11-21 0:00</td>\n",
       "      <td>2019-11-26 0:00</td>\n",
       "      <td>True</td>\n",
       "      <td>fully furnished apt in the village palm hills,...</td>\n",
       "      <td>$78</td>\n",
       "      <td>NaN</td>\n",
       "      <td>30.01949</td>\n",
       "      <td>31.50053</td>\n",
       "      <td>Entire apartment</td>\n",
       "      <td>1 bedroom</td>\n",
       "      <td>...</td>\n",
       "      <td>['Wifi', 'Iron', 'Heating', 'Washer', 'TV', 'A...</td>\n",
       "      <td>NaN</td>\n",
       "      <td>NaN</td>\n",
       "      <td>NaN</td>\n",
       "      <td>NaN</td>\n",
       "      <td>NaN</td>\n",
       "      <td>NaN</td>\n",
       "      <td>NaN</td>\n",
       "      <td>No reviews (yet)\\nBe one of the first guests t...</td>\n",
       "      <td>0.0</td>\n",
       "    </tr>\n",
       "    <tr>\n",
       "      <th>5917</th>\n",
       "      <td>2019-12-05 0:00</td>\n",
       "      <td>2019-12-10 0:00</td>\n",
       "      <td>True</td>\n",
       "      <td>fully furnished apt in the village palm hills,...</td>\n",
       "      <td>$78</td>\n",
       "      <td>NaN</td>\n",
       "      <td>30.01949</td>\n",
       "      <td>31.50053</td>\n",
       "      <td>Entire apartment</td>\n",
       "      <td>1 bedroom</td>\n",
       "      <td>...</td>\n",
       "      <td>['Wifi', 'Iron', 'Heating', 'Washer', 'TV', 'A...</td>\n",
       "      <td>NaN</td>\n",
       "      <td>NaN</td>\n",
       "      <td>NaN</td>\n",
       "      <td>NaN</td>\n",
       "      <td>NaN</td>\n",
       "      <td>NaN</td>\n",
       "      <td>NaN</td>\n",
       "      <td>No reviews (yet)\\nBe one of the first guests t...</td>\n",
       "      <td>0.0</td>\n",
       "    </tr>\n",
       "    <tr>\n",
       "      <th>6212</th>\n",
       "      <td>2019-12-19 0:00</td>\n",
       "      <td>2019-12-24 0:00</td>\n",
       "      <td>True</td>\n",
       "      <td>fully furnished apt in the village palm hills,...</td>\n",
       "      <td>$78</td>\n",
       "      <td>NaN</td>\n",
       "      <td>30.01949</td>\n",
       "      <td>31.50053</td>\n",
       "      <td>Entire apartment</td>\n",
       "      <td>1 bedroom</td>\n",
       "      <td>...</td>\n",
       "      <td>['Wifi', 'Iron', 'Heating', 'Washer', 'TV', 'A...</td>\n",
       "      <td>NaN</td>\n",
       "      <td>NaN</td>\n",
       "      <td>NaN</td>\n",
       "      <td>NaN</td>\n",
       "      <td>NaN</td>\n",
       "      <td>NaN</td>\n",
       "      <td>NaN</td>\n",
       "      <td>No reviews (yet)\\nBe one of the first guests t...</td>\n",
       "      <td>0.0</td>\n",
       "    </tr>\n",
       "    <tr>\n",
       "      <th>6510</th>\n",
       "      <td>2020-01-02 0:00</td>\n",
       "      <td>2020-01-07 0:00</td>\n",
       "      <td>True</td>\n",
       "      <td>fully furnished apt in the village palm hills,...</td>\n",
       "      <td>$78</td>\n",
       "      <td>NaN</td>\n",
       "      <td>30.01949</td>\n",
       "      <td>31.50053</td>\n",
       "      <td>Entire apartment</td>\n",
       "      <td>1 bedroom</td>\n",
       "      <td>...</td>\n",
       "      <td>['Wifi', 'Iron', 'Heating', 'Washer', 'TV', 'A...</td>\n",
       "      <td>NaN</td>\n",
       "      <td>NaN</td>\n",
       "      <td>NaN</td>\n",
       "      <td>NaN</td>\n",
       "      <td>NaN</td>\n",
       "      <td>NaN</td>\n",
       "      <td>NaN</td>\n",
       "      <td>No reviews (yet)\\nBe one of the first guests t...</td>\n",
       "      <td>0.0</td>\n",
       "    </tr>\n",
       "    <tr>\n",
       "      <th>6816</th>\n",
       "      <td>2020-01-16 0:00</td>\n",
       "      <td>2020-01-21 0:00</td>\n",
       "      <td>True</td>\n",
       "      <td>fully furnished apt in the village palm hills,...</td>\n",
       "      <td>$78</td>\n",
       "      <td>NaN</td>\n",
       "      <td>30.01949</td>\n",
       "      <td>31.50053</td>\n",
       "      <td>Entire apartment</td>\n",
       "      <td>1 bedroom</td>\n",
       "      <td>...</td>\n",
       "      <td>['Wifi', 'Iron', 'Heating', 'Washer', 'TV', 'A...</td>\n",
       "      <td>NaN</td>\n",
       "      <td>NaN</td>\n",
       "      <td>NaN</td>\n",
       "      <td>NaN</td>\n",
       "      <td>NaN</td>\n",
       "      <td>NaN</td>\n",
       "      <td>NaN</td>\n",
       "      <td>No reviews (yet)\\nBe one of the first guests t...</td>\n",
       "      <td>0.0</td>\n",
       "    </tr>\n",
       "    <tr>\n",
       "      <th>7119</th>\n",
       "      <td>2020-01-30 0:00</td>\n",
       "      <td>2020-02-04 0:00</td>\n",
       "      <td>True</td>\n",
       "      <td>fully furnished apt in the village palm hills,...</td>\n",
       "      <td>$78</td>\n",
       "      <td>NaN</td>\n",
       "      <td>30.01949</td>\n",
       "      <td>31.50053</td>\n",
       "      <td>Entire apartment</td>\n",
       "      <td>1 bedroom</td>\n",
       "      <td>...</td>\n",
       "      <td>['Wifi', 'Iron', 'Heating', 'Washer', 'TV', 'A...</td>\n",
       "      <td>NaN</td>\n",
       "      <td>NaN</td>\n",
       "      <td>NaN</td>\n",
       "      <td>NaN</td>\n",
       "      <td>NaN</td>\n",
       "      <td>NaN</td>\n",
       "      <td>NaN</td>\n",
       "      <td>No reviews (yet)\\nBe one of the first guests t...</td>\n",
       "      <td>0.0</td>\n",
       "    </tr>\n",
       "    <tr>\n",
       "      <th>7423</th>\n",
       "      <td>2020-02-13 0:00</td>\n",
       "      <td>2020-02-18 0:00</td>\n",
       "      <td>True</td>\n",
       "      <td>fully furnished apt in the village palm hills,...</td>\n",
       "      <td>$78</td>\n",
       "      <td>NaN</td>\n",
       "      <td>30.01949</td>\n",
       "      <td>31.50053</td>\n",
       "      <td>Entire apartment</td>\n",
       "      <td>1 bedroom</td>\n",
       "      <td>...</td>\n",
       "      <td>['Wifi', 'Iron', 'Heating', 'Washer', 'TV', 'A...</td>\n",
       "      <td>NaN</td>\n",
       "      <td>NaN</td>\n",
       "      <td>NaN</td>\n",
       "      <td>NaN</td>\n",
       "      <td>NaN</td>\n",
       "      <td>NaN</td>\n",
       "      <td>NaN</td>\n",
       "      <td>No reviews (yet)\\nBe one of the first guests t...</td>\n",
       "      <td>0.0</td>\n",
       "    </tr>\n",
       "    <tr>\n",
       "      <th>7725</th>\n",
       "      <td>2020-02-27 0:00</td>\n",
       "      <td>2020-03-03 0:00</td>\n",
       "      <td>True</td>\n",
       "      <td>fully furnished apt in the village palm hills,...</td>\n",
       "      <td>NaN</td>\n",
       "      <td>NaN</td>\n",
       "      <td>30.01949</td>\n",
       "      <td>31.50053</td>\n",
       "      <td>Entire apartment</td>\n",
       "      <td>1 bedroom</td>\n",
       "      <td>...</td>\n",
       "      <td>['Wifi', 'Iron', 'Heating', 'Washer', 'TV', 'A...</td>\n",
       "      <td>NaN</td>\n",
       "      <td>NaN</td>\n",
       "      <td>NaN</td>\n",
       "      <td>NaN</td>\n",
       "      <td>NaN</td>\n",
       "      <td>NaN</td>\n",
       "      <td>NaN</td>\n",
       "      <td>No reviews (yet)\\nBe one of the first guests t...</td>\n",
       "      <td>0.0</td>\n",
       "    </tr>\n",
       "  </tbody>\n",
       "</table>\n",
       "<p>24 rows × 23 columns</p>\n",
       "</div>"
      ],
      "text/plain": [
       "              CheckIn         CheckOut  Has_Weekend  \\\n",
       "70    2019-03-14 0:00  2019-03-19 0:00         True   \n",
       "557   2019-03-28 0:00  2019-04-02 0:00         True   \n",
       "896   2019-04-11 0:00  2019-04-16 0:00         True   \n",
       "902   2019-04-11 0:00  2019-04-16 0:00         True   \n",
       "1211  2019-04-25 0:00  2019-04-30 0:00         True   \n",
       "2102  2019-06-06 0:00  2019-06-11 0:00         True   \n",
       "2380  2019-06-20 0:00  2019-06-25 0:00         True   \n",
       "2681  2019-07-04 0:00  2019-07-09 0:00         True   \n",
       "3001  2019-07-18 0:00  2019-07-23 0:00         True   \n",
       "3317  2019-08-01 0:00  2019-08-06 0:00         True   \n",
       "3633  2019-08-15 0:00  2019-08-20 0:00         True   \n",
       "3920  2019-08-29 0:00  2019-09-03 0:00         True   \n",
       "4169  2019-09-12 0:00  2019-09-17 0:00         True   \n",
       "4784  2019-10-10 0:00  2019-10-15 0:00         True   \n",
       "5095  2019-10-24 0:00  2019-10-29 0:00         True   \n",
       "5309  2019-11-07 0:00  2019-11-12 0:00         True   \n",
       "5614  2019-11-21 0:00  2019-11-26 0:00         True   \n",
       "5917  2019-12-05 0:00  2019-12-10 0:00         True   \n",
       "6212  2019-12-19 0:00  2019-12-24 0:00         True   \n",
       "6510  2020-01-02 0:00  2020-01-07 0:00         True   \n",
       "6816  2020-01-16 0:00  2020-01-21 0:00         True   \n",
       "7119  2020-01-30 0:00  2020-02-04 0:00         True   \n",
       "7423  2020-02-13 0:00  2020-02-18 0:00         True   \n",
       "7725  2020-02-27 0:00  2020-03-03 0:00         True   \n",
       "\n",
       "                                                  Title Price Super_host  \\\n",
       "70    fully furnished apt in the village palm hills,...   $63        NaN   \n",
       "557   fully furnished apt in the village palm hills,...   $63        NaN   \n",
       "896   fully furnished apt in the village palm hills,...   $63        NaN   \n",
       "902   fully furnished apt in the village palm hills,...   $63        NaN   \n",
       "1211  fully furnished apt in the village palm hills,...   $63        NaN   \n",
       "2102  fully furnished apt in the village palm hills,...   $63        NaN   \n",
       "2380  fully furnished apt in the village palm hills,...   $63        NaN   \n",
       "2681  fully furnished apt in the village palm hills,...   $63        NaN   \n",
       "3001  fully furnished apt in the village palm hills,...   $63        NaN   \n",
       "3317  fully furnished apt in the village palm hills,...   $69        NaN   \n",
       "3633  fully furnished apt in the village palm hills,...   $70        NaN   \n",
       "3920  fully furnished apt in the village palm hills,...   $71        NaN   \n",
       "4169  fully furnished apt in the village palm hills,...   $77        NaN   \n",
       "4784  fully furnished apt in the village palm hills,...   $78        NaN   \n",
       "5095  fully furnished apt in the village palm hills,...   $78        NaN   \n",
       "5309  fully furnished apt in the village palm hills,...   $78        NaN   \n",
       "5614  fully furnished apt in the village palm hills,...   $78        NaN   \n",
       "5917  fully furnished apt in the village palm hills,...   $78        NaN   \n",
       "6212  fully furnished apt in the village palm hills,...   $78        NaN   \n",
       "6510  fully furnished apt in the village palm hills,...   $78        NaN   \n",
       "6816  fully furnished apt in the village palm hills,...   $78        NaN   \n",
       "7119  fully furnished apt in the village palm hills,...   $78        NaN   \n",
       "7423  fully furnished apt in the village palm hills,...   $78        NaN   \n",
       "7725  fully furnished apt in the village palm hills,...   NaN        NaN   \n",
       "\n",
       "      Latitude  Longitude  EntireHomeVsRoom Bedrooms_no   ...     \\\n",
       "70    30.01949   31.50053  Entire apartment   1 bedroom   ...      \n",
       "557   30.01949   31.50053  Entire apartment   1 bedroom   ...      \n",
       "896   30.01949   31.50053  Entire apartment   1 bedroom   ...      \n",
       "902   30.01949   31.50053  Entire apartment   1 bedroom   ...      \n",
       "1211  30.01949   31.50053  Entire apartment   1 bedroom   ...      \n",
       "2102  30.01949   31.50053  Entire apartment   1 bedroom   ...      \n",
       "2380  30.01949   31.50053  Entire apartment   1 bedroom   ...      \n",
       "2681  30.01949   31.50053  Entire apartment   1 bedroom   ...      \n",
       "3001  30.01949   31.50053  Entire apartment   1 bedroom   ...      \n",
       "3317  30.01949   31.50053  Entire apartment   1 bedroom   ...      \n",
       "3633  30.01949   31.50053  Entire apartment   1 bedroom   ...      \n",
       "3920  30.01949   31.50053  Entire apartment   1 bedroom   ...      \n",
       "4169  30.01949   31.50053  Entire apartment   1 bedroom   ...      \n",
       "4784  30.01949   31.50053  Entire apartment   1 bedroom   ...      \n",
       "5095  30.01949   31.50053  Entire apartment   1 bedroom   ...      \n",
       "5309  30.01949   31.50053  Entire apartment   1 bedroom   ...      \n",
       "5614  30.01949   31.50053  Entire apartment   1 bedroom   ...      \n",
       "5917  30.01949   31.50053  Entire apartment   1 bedroom   ...      \n",
       "6212  30.01949   31.50053  Entire apartment   1 bedroom   ...      \n",
       "6510  30.01949   31.50053  Entire apartment   1 bedroom   ...      \n",
       "6816  30.01949   31.50053  Entire apartment   1 bedroom   ...      \n",
       "7119  30.01949   31.50053  Entire apartment   1 bedroom   ...      \n",
       "7423  30.01949   31.50053  Entire apartment   1 bedroom   ...      \n",
       "7725  30.01949   31.50053  Entire apartment   1 bedroom   ...      \n",
       "\n",
       "                                              Amenities Accuracy_stars  \\\n",
       "70    ['Wifi', 'Iron', 'Heating', 'Washer', 'TV', 'A...            NaN   \n",
       "557   ['Wifi', 'Iron', 'Heating', 'Washer', 'TV', 'A...            NaN   \n",
       "896   ['Wifi', 'Iron', 'Heating', 'Washer', 'TV', 'A...            NaN   \n",
       "902   ['Wifi', 'Iron', 'Heating', 'Washer', 'TV', 'A...            NaN   \n",
       "1211  ['Wifi', 'Iron', 'Heating', 'Washer', 'TV', 'A...            NaN   \n",
       "2102  ['Wifi', 'Iron', 'Heating', 'Washer', 'TV', 'A...            NaN   \n",
       "2380  ['Wifi', 'Iron', 'Heating', 'Washer', 'TV', 'A...            NaN   \n",
       "2681  ['Wifi', 'Iron', 'Heating', 'Washer', 'TV', 'A...            NaN   \n",
       "3001  ['Wifi', 'Iron', 'Heating', 'Washer', 'TV', 'A...            NaN   \n",
       "3317  ['Wifi', 'Iron', 'Heating', 'Washer', 'TV', 'A...            NaN   \n",
       "3633  ['Wifi', 'Iron', 'Heating', 'Washer', 'TV', 'A...            NaN   \n",
       "3920  ['Wifi', 'Iron', 'Heating', 'Washer', 'TV', 'A...            NaN   \n",
       "4169  ['Wifi', 'Iron', 'Heating', 'Washer', 'TV', 'A...            NaN   \n",
       "4784  ['Wifi', 'Iron', 'Heating', 'Washer', 'TV', 'A...            NaN   \n",
       "5095  ['Wifi', 'Iron', 'Heating', 'Washer', 'TV', 'A...            NaN   \n",
       "5309  ['Wifi', 'Iron', 'Heating', 'Washer', 'TV', 'A...            NaN   \n",
       "5614  ['Wifi', 'Iron', 'Heating', 'Washer', 'TV', 'A...            NaN   \n",
       "5917  ['Wifi', 'Iron', 'Heating', 'Washer', 'TV', 'A...            NaN   \n",
       "6212  ['Wifi', 'Iron', 'Heating', 'Washer', 'TV', 'A...            NaN   \n",
       "6510  ['Wifi', 'Iron', 'Heating', 'Washer', 'TV', 'A...            NaN   \n",
       "6816  ['Wifi', 'Iron', 'Heating', 'Washer', 'TV', 'A...            NaN   \n",
       "7119  ['Wifi', 'Iron', 'Heating', 'Washer', 'TV', 'A...            NaN   \n",
       "7423  ['Wifi', 'Iron', 'Heating', 'Washer', 'TV', 'A...            NaN   \n",
       "7725  ['Wifi', 'Iron', 'Heating', 'Washer', 'TV', 'A...            NaN   \n",
       "\n",
       "     Communication_stars Cleanliness_stars Location_stars CheckIn_stars  \\\n",
       "70                   NaN               NaN            NaN           NaN   \n",
       "557                  NaN               NaN            NaN           NaN   \n",
       "896                  NaN               NaN            NaN           NaN   \n",
       "902                  NaN               NaN            NaN           NaN   \n",
       "1211                 NaN               NaN            NaN           NaN   \n",
       "2102                 NaN               NaN            NaN           NaN   \n",
       "2380                 NaN               NaN            NaN           NaN   \n",
       "2681                 NaN               NaN            NaN           NaN   \n",
       "3001                 NaN               NaN            NaN           NaN   \n",
       "3317                 NaN               NaN            NaN           NaN   \n",
       "3633                 NaN               NaN            NaN           NaN   \n",
       "3920                 NaN               NaN            NaN           NaN   \n",
       "4169                 NaN               NaN            NaN           NaN   \n",
       "4784                 NaN               NaN            NaN           NaN   \n",
       "5095                 NaN               NaN            NaN           NaN   \n",
       "5309                 NaN               NaN            NaN           NaN   \n",
       "5614                 NaN               NaN            NaN           NaN   \n",
       "5917                 NaN               NaN            NaN           NaN   \n",
       "6212                 NaN               NaN            NaN           NaN   \n",
       "6510                 NaN               NaN            NaN           NaN   \n",
       "6816                 NaN               NaN            NaN           NaN   \n",
       "7119                 NaN               NaN            NaN           NaN   \n",
       "7423                 NaN               NaN            NaN           NaN   \n",
       "7725                 NaN               NaN            NaN           NaN   \n",
       "\n",
       "     Value_stars Reviewers_no  \\\n",
       "70           NaN          NaN   \n",
       "557          NaN          NaN   \n",
       "896          NaN          NaN   \n",
       "902          NaN          NaN   \n",
       "1211         NaN          NaN   \n",
       "2102         NaN          NaN   \n",
       "2380         NaN          NaN   \n",
       "2681         NaN          NaN   \n",
       "3001         NaN          NaN   \n",
       "3317         NaN          NaN   \n",
       "3633         NaN          NaN   \n",
       "3920         NaN          NaN   \n",
       "4169         NaN          NaN   \n",
       "4784         NaN          NaN   \n",
       "5095         NaN          NaN   \n",
       "5309         NaN          NaN   \n",
       "5614         NaN          NaN   \n",
       "5917         NaN          NaN   \n",
       "6212         NaN          NaN   \n",
       "6510         NaN          NaN   \n",
       "6816         NaN          NaN   \n",
       "7119         NaN          NaN   \n",
       "7423         NaN          NaN   \n",
       "7725         NaN          NaN   \n",
       "\n",
       "                                                 Review Beds_int  \n",
       "70    No reviews (yet)\\nBe one of the first guests t...      0.0  \n",
       "557   No reviews (yet)\\nBe one of the first guests t...      0.0  \n",
       "896   No reviews (yet)\\nBe one of the first guests t...      0.0  \n",
       "902   No reviews (yet)\\nBe one of the first guests t...      0.0  \n",
       "1211  No reviews (yet)\\nBe one of the first guests t...      0.0  \n",
       "2102  No reviews (yet)\\nBe one of the first guests t...      0.0  \n",
       "2380  No reviews (yet)\\nBe one of the first guests t...      0.0  \n",
       "2681  No reviews (yet)\\nBe one of the first guests t...      0.0  \n",
       "3001  No reviews (yet)\\nBe one of the first guests t...      0.0  \n",
       "3317  No reviews (yet)\\nBe one of the first guests t...      0.0  \n",
       "3633  No reviews (yet)\\nBe one of the first guests t...      0.0  \n",
       "3920  No reviews (yet)\\nBe one of the first guests t...      0.0  \n",
       "4169  No reviews (yet)\\nBe one of the first guests t...      0.0  \n",
       "4784  No reviews (yet)\\nBe one of the first guests t...      0.0  \n",
       "5095  No reviews (yet)\\nBe one of the first guests t...      0.0  \n",
       "5309  No reviews (yet)\\nBe one of the first guests t...      0.0  \n",
       "5614  No reviews (yet)\\nBe one of the first guests t...      0.0  \n",
       "5917  No reviews (yet)\\nBe one of the first guests t...      0.0  \n",
       "6212  No reviews (yet)\\nBe one of the first guests t...      0.0  \n",
       "6510  No reviews (yet)\\nBe one of the first guests t...      0.0  \n",
       "6816  No reviews (yet)\\nBe one of the first guests t...      0.0  \n",
       "7119  No reviews (yet)\\nBe one of the first guests t...      0.0  \n",
       "7423  No reviews (yet)\\nBe one of the first guests t...      0.0  \n",
       "7725  No reviews (yet)\\nBe one of the first guests t...      0.0  \n",
       "\n",
       "[24 rows x 23 columns]"
      ]
     },
     "execution_count": 47,
     "metadata": {},
     "output_type": "execute_result"
    }
   ],
   "source": [
    "CairoData[CairoData['Beds_no']== 'Stylish brand new fully furnished studio apartment with queen size bed and open plan kitchen. kitchen is fully equipped with all cutlery and crockery, washing machine, cooker, microwave, kettle, toaster. bed linen and towels are provided.']"
   ]
  },
  {
   "cell_type": "code",
   "execution_count": 48,
   "metadata": {},
   "outputs": [
    {
     "name": "stderr",
     "output_type": "stream",
     "text": [
      "C:\\Users\\KBrig\\AnacondaNada\\lib\\site-packages\\ipykernel_launcher.py:3: SettingWithCopyWarning:\n",
      "\n",
      "\n",
      "A value is trying to be set on a copy of a slice from a DataFrame\n",
      "\n",
      "See the caveats in the documentation: http://pandas.pydata.org/pandas-docs/stable/indexing.html#indexing-view-versus-copy\n",
      "\n"
     ]
    }
   ],
   "source": [
    "for i in range(len(BangkokData)): \n",
    "    if(CairoData['Beds_no'][i]== 'Stylish brand new fully furnished studio apartment with queen size bed and open plan kitchen. kitchen is fully equipped with all cutlery and crockery, washing machine, cooker, microwave, kettle, toaster. bed linen and towels are provided.'):\n",
    "        CairoData['Beds_no'][i]= '1 bed'"
   ]
  },
  {
   "cell_type": "code",
   "execution_count": 49,
   "metadata": {},
   "outputs": [],
   "source": [
    "CairoData['Beds_int']= float(0)"
   ]
  },
  {
   "cell_type": "code",
   "execution_count": 50,
   "metadata": {},
   "outputs": [
    {
     "name": "stderr",
     "output_type": "stream",
     "text": [
      "c:\\users\\kbrig\\airbnbrepo\\airbnb\\bnb\\data_processing\\clean.py:29: SettingWithCopyWarning:\n",
      "\n",
      "\n",
      "A value is trying to be set on a copy of a slice from a DataFrame\n",
      "\n",
      "See the caveats in the documentation: http://pandas.pydata.org/pandas-docs/stable/indexing.html#indexing-view-versus-copy\n",
      "\n",
      "c:\\users\\kbrig\\airbnbrepo\\airbnb\\bnb\\data_processing\\clean.py:23: SettingWithCopyWarning:\n",
      "\n",
      "\n",
      "A value is trying to be set on a copy of a slice from a DataFrame\n",
      "\n",
      "See the caveats in the documentation: http://pandas.pydata.org/pandas-docs/stable/indexing.html#indexing-view-versus-copy\n",
      "\n",
      "c:\\users\\kbrig\\airbnbrepo\\airbnb\\bnb\\data_processing\\clean.py:25: SettingWithCopyWarning:\n",
      "\n",
      "\n",
      "A value is trying to be set on a copy of a slice from a DataFrame\n",
      "\n",
      "See the caveats in the documentation: http://pandas.pydata.org/pandas-docs/stable/indexing.html#indexing-view-versus-copy\n",
      "\n"
     ]
    }
   ],
   "source": [
    "CairoData['Beds_int']= beds_int(CairoData)"
   ]
  },
  {
   "cell_type": "code",
   "execution_count": 51,
   "metadata": {},
   "outputs": [
    {
     "name": "stdout",
     "output_type": "stream",
     "text": [
      "2 beds 2.0\n",
      "1 bed 1.0\n",
      "1 bed 1.0\n",
      "2 beds 2.0\n",
      "1 bed 1.0\n",
      "1 bed 1.0\n",
      "1 bed 1.0\n",
      "2 beds 2.0\n",
      "1 bed 1.0\n",
      "1 bed 1.0\n"
     ]
    }
   ],
   "source": [
    "for i in range(10):\n",
    "    print(CairoData['Beds_no'][i],CairoData['Beds_int'][i])"
   ]
  },
  {
   "cell_type": "markdown",
   "metadata": {},
   "source": [
    "### Latitude"
   ]
  },
  {
   "cell_type": "code",
   "execution_count": 189,
   "metadata": {},
   "outputs": [
    {
     "name": "stdout",
     "output_type": "stream",
     "text": [
      "<class 'numpy.float64'>\n"
     ]
    }
   ],
   "source": [
    "print(type(CairoData['Latitude'][0]))"
   ]
  },
  {
   "cell_type": "markdown",
   "metadata": {},
   "source": [
    "### Longitude"
   ]
  },
  {
   "cell_type": "code",
   "execution_count": 190,
   "metadata": {},
   "outputs": [
    {
     "name": "stdout",
     "output_type": "stream",
     "text": [
      "<class 'numpy.float64'>\n"
     ]
    }
   ],
   "source": [
    "print(type(CairoData['Longitude'][0]))"
   ]
  },
  {
   "cell_type": "markdown",
   "metadata": {},
   "source": [
    "## Categorical Data"
   ]
  },
  {
   "cell_type": "markdown",
   "metadata": {},
   "source": [
    "### NewYork"
   ]
  },
  {
   "cell_type": "code",
   "execution_count": 54,
   "metadata": {},
   "outputs": [
    {
     "name": "stdout",
     "output_type": "stream",
     "text": [
      "['Rating 5 out of 5' 'Rating 4.5 out of 5' nan 'Rating 4 out of 5'\n",
      " 'Rating 2.5 out of 5' 'Rating 3.5 out of 5']\n"
     ]
    }
   ],
   "source": [
    "print(NewYorkData['Accuracy_stars'].unique())\n"
   ]
  },
  {
   "cell_type": "code",
   "execution_count": 22,
   "metadata": {},
   "outputs": [
    {
     "data": {
      "text/plain": [
       "str"
      ]
     },
     "execution_count": 22,
     "metadata": {},
     "output_type": "execute_result"
    }
   ],
   "source": [
    "type(NewYorkData['Accuracy_stars'][0])"
   ]
  },
  {
   "cell_type": "code",
   "execution_count": 23,
   "metadata": {},
   "outputs": [
    {
     "name": "stderr",
     "output_type": "stream",
     "text": [
      "c:\\users\\kbrig\\airbnbrepo\\airbnb\\bnb\\data_processing\\clean.py:45: SettingWithCopyWarning:\n",
      "\n",
      "\n",
      "A value is trying to be set on a copy of a slice from a DataFrame\n",
      "\n",
      "See the caveats in the documentation: http://pandas.pydata.org/pandas-docs/stable/indexing.html#indexing-view-versus-copy\n",
      "\n"
     ]
    },
    {
     "ename": "AttributeError",
     "evalue": "'float' object has no attribute 'split'",
     "output_type": "error",
     "traceback": [
      "\u001b[1;31m---------------------------------------------------------------------------\u001b[0m",
      "\u001b[1;31mAttributeError\u001b[0m                            Traceback (most recent call last)",
      "\u001b[1;32m<ipython-input-23-cec93f44316f>\u001b[0m in \u001b[0;36m<module>\u001b[1;34m\u001b[0m\n\u001b[1;32m----> 1\u001b[1;33m \u001b[0mt\u001b[0m \u001b[1;33m=\u001b[0m \u001b[0mnum_of_stars\u001b[0m\u001b[1;33m(\u001b[0m\u001b[0mNewYorkData\u001b[0m\u001b[1;33m[\u001b[0m\u001b[1;34m'Accuracy_stars'\u001b[0m\u001b[1;33m]\u001b[0m\u001b[1;33m)\u001b[0m\u001b[1;33m\u001b[0m\u001b[1;33m\u001b[0m\u001b[0m\n\u001b[0m",
      "\u001b[1;32mc:\\users\\kbrig\\airbnbrepo\\airbnb\\bnb\\data_processing\\clean.py\u001b[0m in \u001b[0;36mnum_of_stars\u001b[1;34m(Rev)\u001b[0m\n\u001b[0;32m     43\u001b[0m \u001b[1;32mdef\u001b[0m \u001b[0mnum_of_stars\u001b[0m\u001b[1;33m(\u001b[0m\u001b[0mRev\u001b[0m\u001b[1;33m)\u001b[0m\u001b[1;33m:\u001b[0m\u001b[1;33m\u001b[0m\u001b[1;33m\u001b[0m\u001b[0m\n\u001b[0;32m     44\u001b[0m     \u001b[1;32mfor\u001b[0m \u001b[0mi\u001b[0m \u001b[1;32min\u001b[0m \u001b[0mrange\u001b[0m\u001b[1;33m(\u001b[0m\u001b[0mlen\u001b[0m\u001b[1;33m(\u001b[0m\u001b[0mRev\u001b[0m\u001b[1;33m)\u001b[0m\u001b[1;33m)\u001b[0m\u001b[1;33m:\u001b[0m\u001b[1;33m\u001b[0m\u001b[1;33m\u001b[0m\u001b[0m\n\u001b[1;32m---> 45\u001b[1;33m         \u001b[0mRev\u001b[0m\u001b[1;33m[\u001b[0m\u001b[0mi\u001b[0m\u001b[1;33m]\u001b[0m\u001b[1;33m=\u001b[0m\u001b[0mfloat\u001b[0m\u001b[1;33m(\u001b[0m\u001b[0mRev\u001b[0m\u001b[1;33m[\u001b[0m\u001b[0mi\u001b[0m\u001b[1;33m]\u001b[0m\u001b[1;33m.\u001b[0m\u001b[0msplit\u001b[0m\u001b[1;33m(\u001b[0m\u001b[1;34m' '\u001b[0m\u001b[1;33m)\u001b[0m\u001b[1;33m[\u001b[0m\u001b[1;36m1\u001b[0m\u001b[1;33m]\u001b[0m\u001b[1;33m)\u001b[0m\u001b[1;33m\u001b[0m\u001b[1;33m\u001b[0m\u001b[0m\n\u001b[0m\u001b[0;32m     46\u001b[0m     \u001b[1;32mreturn\u001b[0m\u001b[1;33m(\u001b[0m\u001b[0mRev\u001b[0m\u001b[1;33m)\u001b[0m\u001b[1;33m\u001b[0m\u001b[1;33m\u001b[0m\u001b[0m\n\u001b[0;32m     47\u001b[0m \u001b[1;33m\u001b[0m\u001b[0m\n",
      "\u001b[1;31mAttributeError\u001b[0m: 'float' object has no attribute 'split'"
     ]
    }
   ],
   "source": [
    "t = num_of_stars(NewYorkData['Accuracy_stars'])"
   ]
  },
  {
   "cell_type": "code",
   "execution_count": 60,
   "metadata": {},
   "outputs": [
    {
     "data": {
      "text/plain": [
       "'5'"
      ]
     },
     "execution_count": 60,
     "metadata": {},
     "output_type": "execute_result"
    }
   ],
   "source": [
    "t.split(' ')[1]"
   ]
  },
  {
   "cell_type": "markdown",
   "metadata": {},
   "source": [
    "### Bangkok"
   ]
  },
  {
   "cell_type": "code",
   "execution_count": null,
   "metadata": {},
   "outputs": [],
   "source": []
  },
  {
   "cell_type": "markdown",
   "metadata": {},
   "source": [
    "### Cairo"
   ]
  },
  {
   "cell_type": "code",
   "execution_count": null,
   "metadata": {},
   "outputs": [],
   "source": []
  },
  {
   "cell_type": "markdown",
   "metadata": {},
   "source": [
    "### Price Analysis"
   ]
  },
  {
   "cell_type": "markdown",
   "metadata": {},
   "source": [
    "### NewYork"
   ]
  },
  {
   "cell_type": "code",
   "execution_count": null,
   "metadata": {},
   "outputs": [],
   "source": [
    "AvgPrice_NY = group_by_date(NewYorkData) "
   ]
  },
  {
   "cell_type": "code",
   "execution_count": null,
   "metadata": {},
   "outputs": [],
   "source": [
    "#reate a data object\n",
    "price_data = go.Scatter(x=AvgPrice_NY.index,y=AvgPrice_NY.values)\n",
    "\n",
    "#set up the plot layout\n",
    "layout1 = go.Layout(title='NY_ Average Price Plot', xaxis=dict(title='CheckIn_Date'),yaxis=dict(title='Price'))\n",
    "\n",
    "# create a figure and display it\n",
    "fig1 = go.Figure(data=[price_data],layout=layout1)\n",
    "\n",
    "\n",
    "#display the plot interactively\n",
    "iplot(fig1)\n"
   ]
  },
  {
   "cell_type": "markdown",
   "metadata": {},
   "source": [
    "### Bangkok"
   ]
  },
  {
   "cell_type": "code",
   "execution_count": null,
   "metadata": {},
   "outputs": [],
   "source": [
    "AvgPrice_Bngkok = group_by_date(BangkokData) \n",
    "AvgPrice_Bngkok"
   ]
  },
  {
   "cell_type": "code",
   "execution_count": null,
   "metadata": {},
   "outputs": [],
   "source": [
    "#reate a data object\n",
    "price_data_Bngkok = go.Scatter(x=AvgPrice_Bngkok.index,y=AvgPrice_Bngkok.values)\n",
    "#set up the plot layout\n",
    "layout2 = go.Layout(title='Bangkok_ Average Price Plot', xaxis=dict(title='CheckIn_Date'),yaxis=dict(title='Price'))\n",
    "# create a figure and display it\n",
    "fig2 = go.Figure(data=[price_data_Bngkok],layout=layout2)\n",
    "#display the plot interactively\n",
    "iplot(fig2)\n"
   ]
  },
  {
   "cell_type": "markdown",
   "metadata": {},
   "source": [
    "### Cairo"
   ]
  },
  {
   "cell_type": "code",
   "execution_count": null,
   "metadata": {},
   "outputs": [],
   "source": [
    "\n",
    "AvgPrice_Cairo = group_by_date(CairoPrice)\n",
    "AvgPrice_Cairo"
   ]
  },
  {
   "cell_type": "code",
   "execution_count": null,
   "metadata": {},
   "outputs": [],
   "source": [
    "#reate a data object\n",
    "price_data_Cairo = go.Scatter(x=AvgPrice_Cairo.index,y=AvgPrice_Cairo.values)\n",
    "\n",
    "#set up the plot layout\n",
    "layout3 = go.Layout(title='Cairo_ Average Price Plot', xaxis=dict(title='CheckIn_Date'),yaxis=dict(title='Price'))\n",
    "\n",
    "# create a figure and display it\n",
    "fig3 = go.Figure(data=[price_data_Cairo],layout=layout3)\n",
    "\n",
    "#display the plot interactively\n",
    "iplot(fig3)\n",
    "\n"
   ]
  },
  {
   "cell_type": "code",
   "execution_count": null,
   "metadata": {},
   "outputs": [],
   "source": [
    "\n"
   ]
  },
  {
   "cell_type": "code",
   "execution_count": null,
   "metadata": {},
   "outputs": [],
   "source": []
  },
  {
   "cell_type": "code",
   "execution_count": null,
   "metadata": {},
   "outputs": [],
   "source": []
  }
 ],
 "metadata": {
  "kernelspec": {
   "display_name": "Python 3",
   "language": "python",
   "name": "python3"
  },
  "language_info": {
   "codemirror_mode": {
    "name": "ipython",
    "version": 3
   },
   "file_extension": ".py",
   "mimetype": "text/x-python",
   "name": "python",
   "nbconvert_exporter": "python",
   "pygments_lexer": "ipython3",
   "version": "3.7.1"
  }
 },
 "nbformat": 4,
 "nbformat_minor": 2
}
