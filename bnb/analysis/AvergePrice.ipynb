{
 "cells": [
  {
   "cell_type": "code",
   "execution_count": null,
   "metadata": {},
   "outputs": [],
   "source": []
  },
  {
   "cell_type": "code",
   "execution_count": 1,
   "metadata": {},
   "outputs": [],
   "source": [
    "# Standard data science libraries\n",
    "import pandas as pd\n",
    "import numpy as np\n",
    "from pathlib import Path\n",
    "\n",
    "# Display all cell outputs\n",
    "from IPython.core.interactiveshell import InteractiveShell\n",
    "InteractiveShell.ast_node_interactivity = 'all'\n",
    "\n",
    "# Visualization\n",
    "import matplotlib.pyplot as plt\n",
    "import seaborn as sns\n",
    "plt.style.use('bmh')"
   ]
  },
  {
   "cell_type": "code",
   "execution_count": 2,
   "metadata": {},
   "outputs": [
    {
     "data": {
      "text/html": [
       "<script type=\"text/javascript\">window.PlotlyConfig = {MathJaxConfig: 'local'};</script><script type=\"text/javascript\">if (window.MathJax) {MathJax.Hub.Config({SVG: {font: \"STIX-Web\"}});}</script><script>requirejs.config({paths: { 'plotly': ['https://cdn.plot.ly/plotly-latest.min']},});if(!window._Plotly) {require(['plotly'],function(plotly) {window._Plotly=plotly;});}</script>"
      ],
      "text/vnd.plotly.v1+html": [
       "<script type=\"text/javascript\">window.PlotlyConfig = {MathJaxConfig: 'local'};</script><script type=\"text/javascript\">if (window.MathJax) {MathJax.Hub.Config({SVG: {font: \"STIX-Web\"}});}</script><script>requirejs.config({paths: { 'plotly': ['https://cdn.plot.ly/plotly-latest.min']},});if(!window._Plotly) {require(['plotly'],function(plotly) {window._Plotly=plotly;});}</script>"
      ]
     },
     "metadata": {},
     "output_type": "display_data"
    }
   ],
   "source": [
    "import plotly\n",
    "# Authenticate with your account\n",
    "plotly.tools.set_credentials_file(username='####',api_key='###')\n",
    "\n",
    "\n",
    "import plotly.plotly as py\n",
    "import plotly.graph_objs as go\n",
    "\n",
    "\n",
    "# Offline mode\n",
    "from plotly.offline import iplot\n",
    "plotly.offline.init_notebook_mode(connected=True)"
   ]
  },
  {
   "cell_type": "code",
   "execution_count": 3,
   "metadata": {},
   "outputs": [
    {
     "data": {
      "text/plain": [
       "WindowsPath('C:/Users/KBrig/repos/AirBnB/data')"
      ]
     },
     "execution_count": 3,
     "metadata": {},
     "output_type": "execute_result"
    }
   ],
   "source": [
    "Data_dir = Path('C:/Users/KBrig/repos/AirBnB/data')\n",
    "Data_dir"
   ]
  },
  {
   "cell_type": "code",
   "execution_count": 4,
   "metadata": {},
   "outputs": [],
   "source": [
    "NewYork_CSV = Data_dir/'AirBnBNY.csv'\n",
    "Bangkok_CSV = Data_dir/'AirBnbDataBangkok.csv'\n",
    "Cairo_CSV = Data_dir/'AirBnbDataCairo.csv'\n"
   ]
  },
  {
   "cell_type": "markdown",
   "metadata": {},
   "source": [
    "# NewYork"
   ]
  },
  {
   "cell_type": "code",
   "execution_count": 5,
   "metadata": {},
   "outputs": [
    {
     "data": {
      "text/html": [
       "<div>\n",
       "<style scoped>\n",
       "    .dataframe tbody tr th:only-of-type {\n",
       "        vertical-align: middle;\n",
       "    }\n",
       "\n",
       "    .dataframe tbody tr th {\n",
       "        vertical-align: top;\n",
       "    }\n",
       "\n",
       "    .dataframe thead th {\n",
       "        text-align: right;\n",
       "    }\n",
       "</style>\n",
       "<table border=\"1\" class=\"dataframe\">\n",
       "  <thead>\n",
       "    <tr style=\"text-align: right;\">\n",
       "      <th></th>\n",
       "      <th>Unnamed: 0</th>\n",
       "      <th>Accuracy_stars</th>\n",
       "      <th>Amenities</th>\n",
       "      <th>Bathrooms_num</th>\n",
       "      <th>Bedrooms_no</th>\n",
       "      <th>Beds_no</th>\n",
       "      <th>CheckIn</th>\n",
       "      <th>CheckIn_stars</th>\n",
       "      <th>CheckOut</th>\n",
       "      <th>Cleanliness_stars</th>\n",
       "      <th>...</th>\n",
       "      <th>Latitude</th>\n",
       "      <th>Location_stars</th>\n",
       "      <th>Longitude</th>\n",
       "      <th>Price</th>\n",
       "      <th>Review</th>\n",
       "      <th>Reviewers_no</th>\n",
       "      <th>Sleeping_engagment</th>\n",
       "      <th>Super_host</th>\n",
       "      <th>Title</th>\n",
       "      <th>Value_stars</th>\n",
       "    </tr>\n",
       "  </thead>\n",
       "  <tbody>\n",
       "    <tr>\n",
       "      <th>0</th>\n",
       "      <td>0</td>\n",
       "      <td>Rating 5 out of 5</td>\n",
       "      <td>['Indoor fireplace', 'Wifi', 'Iron', 'Laptop f...</td>\n",
       "      <td>1 bath</td>\n",
       "      <td>1 bedroom</td>\n",
       "      <td>1 bed</td>\n",
       "      <td>2019-03-21 00:00:00</td>\n",
       "      <td>Rating 5 out of 5</td>\n",
       "      <td>2019-03-26 00:00:00</td>\n",
       "      <td>Rating 5 out of 5</td>\n",
       "      <td>...</td>\n",
       "      <td>40.73321</td>\n",
       "      <td>Rating 5 out of 5</td>\n",
       "      <td>-74.00242</td>\n",
       "      <td>$244</td>\n",
       "      <td>87 Reviews\\r\\nAccuracy\\r\\nCommunication\\r\\nCle...</td>\n",
       "      <td>NaN</td>\n",
       "      <td>Bedroom 1\\r\\n1 queen bed</td>\n",
       "      <td>Brian is a Superhost ·</td>\n",
       "      <td>*Luxury 1 Bedrm Private Designer Home &amp; Roofdeck*</td>\n",
       "      <td>Rating 4.5 out of 5</td>\n",
       "    </tr>\n",
       "    <tr>\n",
       "      <th>1</th>\n",
       "      <td>1</td>\n",
       "      <td>Rating 4.5 out of 5</td>\n",
       "      <td>['Indoor fireplace', 'Wifi', 'Laptop friendly ...</td>\n",
       "      <td>1 shared bath</td>\n",
       "      <td>1 bedroom</td>\n",
       "      <td>1 bed</td>\n",
       "      <td>2019-03-21 00:00:00</td>\n",
       "      <td>Rating 4.5 out of 5</td>\n",
       "      <td>2019-03-26 00:00:00</td>\n",
       "      <td>Rating 4 out of 5</td>\n",
       "      <td>...</td>\n",
       "      <td>40.76580</td>\n",
       "      <td>Rating 5 out of 5</td>\n",
       "      <td>-73.95812</td>\n",
       "      <td>$62</td>\n",
       "      <td>5 Reviews\\r\\nAccuracy\\r\\nCommunication\\r\\nClea...</td>\n",
       "      <td>NaN</td>\n",
       "      <td>Bedroom 1\\r\\n1 single bed</td>\n",
       "      <td>Samet is a Superhost</td>\n",
       "      <td>Single Bedroom-Upper East Side-Central Park</td>\n",
       "      <td>Rating 4 out of 5</td>\n",
       "    </tr>\n",
       "    <tr>\n",
       "      <th>2</th>\n",
       "      <td>2</td>\n",
       "      <td>Rating 5 out of 5</td>\n",
       "      <td>['Wifi', 'Essentials', 'Heating', 'Air conditi...</td>\n",
       "      <td>1 shared bath</td>\n",
       "      <td>1 bedroom</td>\n",
       "      <td>1 bed</td>\n",
       "      <td>2019-03-21 00:00:00</td>\n",
       "      <td>Rating 5 out of 5</td>\n",
       "      <td>2019-03-26 00:00:00</td>\n",
       "      <td>Rating 5 out of 5</td>\n",
       "      <td>...</td>\n",
       "      <td>40.75972</td>\n",
       "      <td>Rating 4.5 out of 5</td>\n",
       "      <td>-74.03827</td>\n",
       "      <td>$44</td>\n",
       "      <td>83 Reviews\\r\\nAccuracy\\r\\nCommunication\\r\\nCle...</td>\n",
       "      <td>NaN</td>\n",
       "      <td>Bedroom 1\\r\\n1 queen bed</td>\n",
       "      <td>Rebecca is a Superhost</td>\n",
       "      <td>Quiet room for sleeping - 15 min from Times Sq...</td>\n",
       "      <td>Rating 5 out of 5</td>\n",
       "    </tr>\n",
       "    <tr>\n",
       "      <th>3</th>\n",
       "      <td>3</td>\n",
       "      <td>Rating 5 out of 5</td>\n",
       "      <td>['Wifi', 'Iron', 'Laptop friendly workspace', ...</td>\n",
       "      <td>2 shared baths</td>\n",
       "      <td>1 bedroom</td>\n",
       "      <td>1 bed</td>\n",
       "      <td>2019-03-21 00:00:00</td>\n",
       "      <td>Rating 5 out of 5</td>\n",
       "      <td>2019-03-26 00:00:00</td>\n",
       "      <td>Rating 5 out of 5</td>\n",
       "      <td>...</td>\n",
       "      <td>40.81386</td>\n",
       "      <td>Rating 5 out of 5</td>\n",
       "      <td>-73.95936</td>\n",
       "      <td>$78</td>\n",
       "      <td>32 Reviews\\r\\nAccuracy\\r\\nCommunication\\r\\nCle...</td>\n",
       "      <td>NaN</td>\n",
       "      <td>Bedroom 1\\r\\n1 queen bed</td>\n",
       "      <td>James is a Superhost</td>\n",
       "      <td>Cozy room C in upper west side NY, Columbia</td>\n",
       "      <td>Rating 5 out of 5</td>\n",
       "    </tr>\n",
       "    <tr>\n",
       "      <th>4</th>\n",
       "      <td>4</td>\n",
       "      <td>Rating 5 out of 5</td>\n",
       "      <td>['Wifi', 'Washer', 'Dryer', 'Iron', 'Laptop fr...</td>\n",
       "      <td>1.5 shared baths</td>\n",
       "      <td>1 bedroom</td>\n",
       "      <td>1 bed</td>\n",
       "      <td>2019-03-21 00:00:00</td>\n",
       "      <td>Rating 5 out of 5</td>\n",
       "      <td>2019-03-26 00:00:00</td>\n",
       "      <td>Rating 5 out of 5</td>\n",
       "      <td>...</td>\n",
       "      <td>40.69284</td>\n",
       "      <td>Rating 4.5 out of 5</td>\n",
       "      <td>-73.94418</td>\n",
       "      <td>$80</td>\n",
       "      <td>28 Reviews\\r\\nAccuracy\\r\\nCommunication\\r\\nCle...</td>\n",
       "      <td>NaN</td>\n",
       "      <td>NaN</td>\n",
       "      <td>Cat is a Superhost</td>\n",
       "      <td>Cozy in Bedstuy</td>\n",
       "      <td>Rating 5 out of 5</td>\n",
       "    </tr>\n",
       "    <tr>\n",
       "      <th>5</th>\n",
       "      <td>5</td>\n",
       "      <td>NaN</td>\n",
       "      <td>['Wifi', 'Essentials', 'Heating', 'Air conditi...</td>\n",
       "      <td>1 shared bath</td>\n",
       "      <td>1 bedroom</td>\n",
       "      <td>1 bed</td>\n",
       "      <td>2019-03-21 00:00:00</td>\n",
       "      <td>NaN</td>\n",
       "      <td>2019-03-26 00:00:00</td>\n",
       "      <td>NaN</td>\n",
       "      <td>...</td>\n",
       "      <td>40.76829</td>\n",
       "      <td>NaN</td>\n",
       "      <td>-73.98298</td>\n",
       "      <td>$116</td>\n",
       "      <td>No reviews (yet)\\r\\nThis host has 42 reviews f...</td>\n",
       "      <td>NaN</td>\n",
       "      <td>Bedroom 1\\r\\n1 king bed</td>\n",
       "      <td>Rick is a Superhost</td>\n",
       "      <td>Large Bedroom with private sunroom Columbus Ci...</td>\n",
       "      <td>NaN</td>\n",
       "    </tr>\n",
       "    <tr>\n",
       "      <th>6</th>\n",
       "      <td>6</td>\n",
       "      <td>Rating 5 out of 5</td>\n",
       "      <td>['Wifi', 'Washer', 'Dryer', 'Iron', 'Laptop fr...</td>\n",
       "      <td>1 shared bath</td>\n",
       "      <td>1 bedroom</td>\n",
       "      <td>1 bed</td>\n",
       "      <td>2019-03-21 00:00:00</td>\n",
       "      <td>Rating 5 out of 5</td>\n",
       "      <td>2019-03-26 00:00:00</td>\n",
       "      <td>Rating 5 out of 5</td>\n",
       "      <td>...</td>\n",
       "      <td>40.71941</td>\n",
       "      <td>Rating 5 out of 5</td>\n",
       "      <td>-74.00856</td>\n",
       "      <td>$96</td>\n",
       "      <td>8 Reviews\\r\\nAccuracy\\r\\nCommunication\\r\\nClea...</td>\n",
       "      <td>NaN</td>\n",
       "      <td>Bedroom 1\\r\\n1 queen bed</td>\n",
       "      <td>NaN</td>\n",
       "      <td>Classic, yet Unconventional Tribeca NYC Extra ...</td>\n",
       "      <td>Rating 5 out of 5</td>\n",
       "    </tr>\n",
       "    <tr>\n",
       "      <th>7</th>\n",
       "      <td>7</td>\n",
       "      <td>Rating 5 out of 5</td>\n",
       "      <td>['Wifi', 'Washer', 'Dryer', 'Iron', 'Laptop fr...</td>\n",
       "      <td>1 shared bath</td>\n",
       "      <td>1 bedroom</td>\n",
       "      <td>0 beds</td>\n",
       "      <td>2019-03-21 00:00:00</td>\n",
       "      <td>Rating 5 out of 5</td>\n",
       "      <td>2019-03-26 00:00:00</td>\n",
       "      <td>Rating 5 out of 5</td>\n",
       "      <td>...</td>\n",
       "      <td>40.78866</td>\n",
       "      <td>Rating 5 out of 5</td>\n",
       "      <td>-73.96908</td>\n",
       "      <td>$119</td>\n",
       "      <td>140 Reviews\\r\\nAccuracy\\r\\nCommunication\\r\\nCl...</td>\n",
       "      <td>NaN</td>\n",
       "      <td>NaN</td>\n",
       "      <td>Shailah is a Superhost</td>\n",
       "      <td>Location is Everything!</td>\n",
       "      <td>Rating 5 out of 5</td>\n",
       "    </tr>\n",
       "    <tr>\n",
       "      <th>8</th>\n",
       "      <td>8</td>\n",
       "      <td>Rating 4.5 out of 5</td>\n",
       "      <td>['Wifi', 'Iron', 'Laptop friendly workspace', ...</td>\n",
       "      <td>1 shared bath</td>\n",
       "      <td>1 bedroom</td>\n",
       "      <td>1 bed</td>\n",
       "      <td>2019-03-21 00:00:00</td>\n",
       "      <td>Rating 4.5 out of 5</td>\n",
       "      <td>2019-03-26 00:00:00</td>\n",
       "      <td>Rating 3.5 out of 5</td>\n",
       "      <td>...</td>\n",
       "      <td>40.82264</td>\n",
       "      <td>Rating 4.5 out of 5</td>\n",
       "      <td>-73.94041</td>\n",
       "      <td>$73</td>\n",
       "      <td>570 Reviews\\r\\nAccuracy\\r\\nCommunication\\r\\nCl...</td>\n",
       "      <td>NaN</td>\n",
       "      <td>Bedroom 1\\r\\n1 double bed</td>\n",
       "      <td>NaN</td>\n",
       "      <td>Private Bedroom in Manhattan</td>\n",
       "      <td>Rating 4 out of 5</td>\n",
       "    </tr>\n",
       "    <tr>\n",
       "      <th>9</th>\n",
       "      <td>9</td>\n",
       "      <td>Rating 5 out of 5</td>\n",
       "      <td>['Wifi', 'Iron', 'Laptop friendly workspace', ...</td>\n",
       "      <td>2 shared baths</td>\n",
       "      <td>1 bedroom</td>\n",
       "      <td>Obed</td>\n",
       "      <td>2019-03-21 00:00:00</td>\n",
       "      <td>Rating 5 out of 5</td>\n",
       "      <td>2019-03-26 00:00:00</td>\n",
       "      <td>Rating 5 out of 5</td>\n",
       "      <td>...</td>\n",
       "      <td>40.69101</td>\n",
       "      <td>Rating 5 out of 5</td>\n",
       "      <td>-73.97312</td>\n",
       "      <td>$63</td>\n",
       "      <td>19 Reviews\\r\\nAccuracy\\r\\nCommunication\\r\\nCle...</td>\n",
       "      <td>NaN</td>\n",
       "      <td>Bedroom 1\\r\\n1 double bed</td>\n",
       "      <td>Obed is a Superhost</td>\n",
       "      <td>Sunny Room in Townhouse, Historic Brooklyn</td>\n",
       "      <td>Rating 5 out of 5</td>\n",
       "    </tr>\n",
       "  </tbody>\n",
       "</table>\n",
       "<p>10 rows × 23 columns</p>\n",
       "</div>"
      ],
      "text/plain": [
       "   Unnamed: 0       Accuracy_stars  \\\n",
       "0           0    Rating 5 out of 5   \n",
       "1           1  Rating 4.5 out of 5   \n",
       "2           2    Rating 5 out of 5   \n",
       "3           3    Rating 5 out of 5   \n",
       "4           4    Rating 5 out of 5   \n",
       "5           5                  NaN   \n",
       "6           6    Rating 5 out of 5   \n",
       "7           7    Rating 5 out of 5   \n",
       "8           8  Rating 4.5 out of 5   \n",
       "9           9    Rating 5 out of 5   \n",
       "\n",
       "                                           Amenities     Bathrooms_num  \\\n",
       "0  ['Indoor fireplace', 'Wifi', 'Iron', 'Laptop f...            1 bath   \n",
       "1  ['Indoor fireplace', 'Wifi', 'Laptop friendly ...     1 shared bath   \n",
       "2  ['Wifi', 'Essentials', 'Heating', 'Air conditi...     1 shared bath   \n",
       "3  ['Wifi', 'Iron', 'Laptop friendly workspace', ...    2 shared baths   \n",
       "4  ['Wifi', 'Washer', 'Dryer', 'Iron', 'Laptop fr...  1.5 shared baths   \n",
       "5  ['Wifi', 'Essentials', 'Heating', 'Air conditi...     1 shared bath   \n",
       "6  ['Wifi', 'Washer', 'Dryer', 'Iron', 'Laptop fr...     1 shared bath   \n",
       "7  ['Wifi', 'Washer', 'Dryer', 'Iron', 'Laptop fr...     1 shared bath   \n",
       "8  ['Wifi', 'Iron', 'Laptop friendly workspace', ...     1 shared bath   \n",
       "9  ['Wifi', 'Iron', 'Laptop friendly workspace', ...    2 shared baths   \n",
       "\n",
       "  Bedrooms_no Beds_no              CheckIn        CheckIn_stars  \\\n",
       "0   1 bedroom   1 bed  2019-03-21 00:00:00    Rating 5 out of 5   \n",
       "1   1 bedroom   1 bed  2019-03-21 00:00:00  Rating 4.5 out of 5   \n",
       "2   1 bedroom   1 bed  2019-03-21 00:00:00    Rating 5 out of 5   \n",
       "3   1 bedroom   1 bed  2019-03-21 00:00:00    Rating 5 out of 5   \n",
       "4   1 bedroom   1 bed  2019-03-21 00:00:00    Rating 5 out of 5   \n",
       "5   1 bedroom   1 bed  2019-03-21 00:00:00                  NaN   \n",
       "6   1 bedroom   1 bed  2019-03-21 00:00:00    Rating 5 out of 5   \n",
       "7   1 bedroom  0 beds  2019-03-21 00:00:00    Rating 5 out of 5   \n",
       "8   1 bedroom   1 bed  2019-03-21 00:00:00  Rating 4.5 out of 5   \n",
       "9   1 bedroom    Obed  2019-03-21 00:00:00    Rating 5 out of 5   \n",
       "\n",
       "              CheckOut    Cleanliness_stars         ...           Latitude  \\\n",
       "0  2019-03-26 00:00:00    Rating 5 out of 5         ...           40.73321   \n",
       "1  2019-03-26 00:00:00    Rating 4 out of 5         ...           40.76580   \n",
       "2  2019-03-26 00:00:00    Rating 5 out of 5         ...           40.75972   \n",
       "3  2019-03-26 00:00:00    Rating 5 out of 5         ...           40.81386   \n",
       "4  2019-03-26 00:00:00    Rating 5 out of 5         ...           40.69284   \n",
       "5  2019-03-26 00:00:00                  NaN         ...           40.76829   \n",
       "6  2019-03-26 00:00:00    Rating 5 out of 5         ...           40.71941   \n",
       "7  2019-03-26 00:00:00    Rating 5 out of 5         ...           40.78866   \n",
       "8  2019-03-26 00:00:00  Rating 3.5 out of 5         ...           40.82264   \n",
       "9  2019-03-26 00:00:00    Rating 5 out of 5         ...           40.69101   \n",
       "\n",
       "        Location_stars  Longitude  Price  \\\n",
       "0    Rating 5 out of 5  -74.00242   $244   \n",
       "1    Rating 5 out of 5  -73.95812    $62   \n",
       "2  Rating 4.5 out of 5  -74.03827    $44   \n",
       "3    Rating 5 out of 5  -73.95936    $78   \n",
       "4  Rating 4.5 out of 5  -73.94418    $80   \n",
       "5                  NaN  -73.98298   $116   \n",
       "6    Rating 5 out of 5  -74.00856    $96   \n",
       "7    Rating 5 out of 5  -73.96908   $119   \n",
       "8  Rating 4.5 out of 5  -73.94041    $73   \n",
       "9    Rating 5 out of 5  -73.97312    $63   \n",
       "\n",
       "                                              Review  Reviewers_no  \\\n",
       "0  87 Reviews\\r\\nAccuracy\\r\\nCommunication\\r\\nCle...           NaN   \n",
       "1  5 Reviews\\r\\nAccuracy\\r\\nCommunication\\r\\nClea...           NaN   \n",
       "2  83 Reviews\\r\\nAccuracy\\r\\nCommunication\\r\\nCle...           NaN   \n",
       "3  32 Reviews\\r\\nAccuracy\\r\\nCommunication\\r\\nCle...           NaN   \n",
       "4  28 Reviews\\r\\nAccuracy\\r\\nCommunication\\r\\nCle...           NaN   \n",
       "5  No reviews (yet)\\r\\nThis host has 42 reviews f...           NaN   \n",
       "6  8 Reviews\\r\\nAccuracy\\r\\nCommunication\\r\\nClea...           NaN   \n",
       "7  140 Reviews\\r\\nAccuracy\\r\\nCommunication\\r\\nCl...           NaN   \n",
       "8  570 Reviews\\r\\nAccuracy\\r\\nCommunication\\r\\nCl...           NaN   \n",
       "9  19 Reviews\\r\\nAccuracy\\r\\nCommunication\\r\\nCle...           NaN   \n",
       "\n",
       "          Sleeping_engagment              Super_host  \\\n",
       "0   Bedroom 1\\r\\n1 queen bed  Brian is a Superhost ·   \n",
       "1  Bedroom 1\\r\\n1 single bed    Samet is a Superhost   \n",
       "2   Bedroom 1\\r\\n1 queen bed  Rebecca is a Superhost   \n",
       "3   Bedroom 1\\r\\n1 queen bed    James is a Superhost   \n",
       "4                        NaN      Cat is a Superhost   \n",
       "5    Bedroom 1\\r\\n1 king bed     Rick is a Superhost   \n",
       "6   Bedroom 1\\r\\n1 queen bed                     NaN   \n",
       "7                        NaN  Shailah is a Superhost   \n",
       "8  Bedroom 1\\r\\n1 double bed                     NaN   \n",
       "9  Bedroom 1\\r\\n1 double bed     Obed is a Superhost   \n",
       "\n",
       "                                               Title          Value_stars  \n",
       "0  *Luxury 1 Bedrm Private Designer Home & Roofdeck*  Rating 4.5 out of 5  \n",
       "1        Single Bedroom-Upper East Side-Central Park    Rating 4 out of 5  \n",
       "2  Quiet room for sleeping - 15 min from Times Sq...    Rating 5 out of 5  \n",
       "3        Cozy room C in upper west side NY, Columbia    Rating 5 out of 5  \n",
       "4                                    Cozy in Bedstuy    Rating 5 out of 5  \n",
       "5  Large Bedroom with private sunroom Columbus Ci...                  NaN  \n",
       "6  Classic, yet Unconventional Tribeca NYC Extra ...    Rating 5 out of 5  \n",
       "7                            Location is Everything!    Rating 5 out of 5  \n",
       "8                       Private Bedroom in Manhattan    Rating 4 out of 5  \n",
       "9         Sunny Room in Townhouse, Historic Brooklyn    Rating 5 out of 5  \n",
       "\n",
       "[10 rows x 23 columns]"
      ]
     },
     "execution_count": 5,
     "metadata": {},
     "output_type": "execute_result"
    }
   ],
   "source": [
    "NewYorkData = pd.read_csv(NewYork_CSV)\n",
    "NewYorkData.head(10)\n"
   ]
  },
  {
   "cell_type": "code",
   "execution_count": 6,
   "metadata": {},
   "outputs": [
    {
     "data": {
      "text/plain": [
       "Index(['Unnamed: 0', 'Accuracy_stars', 'Amenities', 'Bathrooms_num',\n",
       "       'Bedrooms_no', 'Beds_no', 'CheckIn', 'CheckIn_stars', 'CheckOut',\n",
       "       'Cleanliness_stars', 'Communication_stars', 'EntireHomeVsRoom',\n",
       "       'Has_Weekend', 'Latitude', 'Location_stars', 'Longitude', 'Price',\n",
       "       'Review', 'Reviewers_no', 'Sleeping_engagment', 'Super_host', 'Title',\n",
       "       'Value_stars'],\n",
       "      dtype='object')"
      ]
     },
     "execution_count": 6,
     "metadata": {},
     "output_type": "execute_result"
    }
   ],
   "source": [
    "NewYorkData.columns"
   ]
  },
  {
   "cell_type": "code",
   "execution_count": 7,
   "metadata": {},
   "outputs": [],
   "source": [
    "NewYorkData.drop(['Unnamed: 0','Has_Weekend','Reviewers_no'],axis=1, inplace=True)"
   ]
  },
  {
   "cell_type": "code",
   "execution_count": 8,
   "metadata": {},
   "outputs": [
    {
     "name": "stdout",
     "output_type": "stream",
     "text": [
      "$244\n"
     ]
    }
   ],
   "source": [
    "print(NewYorkData['Price'][0])"
   ]
  },
  {
   "cell_type": "code",
   "execution_count": 9,
   "metadata": {},
   "outputs": [],
   "source": [
    "NewYorkData['Price'] = NewYorkData.Price.str.replace('$','').astype(float)"
   ]
  },
  {
   "cell_type": "code",
   "execution_count": 10,
   "metadata": {},
   "outputs": [
    {
     "data": {
      "text/plain": [
       "Index(['Accuracy_stars', 'Amenities', 'Bathrooms_num', 'Bedrooms_no',\n",
       "       'Beds_no', 'CheckIn', 'CheckIn_stars', 'CheckOut', 'Cleanliness_stars',\n",
       "       'Communication_stars', 'EntireHomeVsRoom', 'Latitude', 'Location_stars',\n",
       "       'Longitude', 'Price', 'Review', 'Sleeping_engagment', 'Super_host',\n",
       "       'Title', 'Value_stars'],\n",
       "      dtype='object')"
      ]
     },
     "execution_count": 10,
     "metadata": {},
     "output_type": "execute_result"
    }
   ],
   "source": [
    "NewYorkData.columns"
   ]
  },
  {
   "cell_type": "code",
   "execution_count": 11,
   "metadata": {},
   "outputs": [
    {
     "data": {
      "text/html": [
       "<div>\n",
       "<style scoped>\n",
       "    .dataframe tbody tr th:only-of-type {\n",
       "        vertical-align: middle;\n",
       "    }\n",
       "\n",
       "    .dataframe tbody tr th {\n",
       "        vertical-align: top;\n",
       "    }\n",
       "\n",
       "    .dataframe thead th {\n",
       "        text-align: right;\n",
       "    }\n",
       "</style>\n",
       "<table border=\"1\" class=\"dataframe\">\n",
       "  <thead>\n",
       "    <tr style=\"text-align: right;\">\n",
       "      <th></th>\n",
       "      <th>CheckIn</th>\n",
       "      <th>CheckOut</th>\n",
       "      <th>Price</th>\n",
       "    </tr>\n",
       "  </thead>\n",
       "  <tbody>\n",
       "    <tr>\n",
       "      <th>0</th>\n",
       "      <td>2019-03-21 00:00:00</td>\n",
       "      <td>2019-03-26 00:00:00</td>\n",
       "      <td>244.0</td>\n",
       "    </tr>\n",
       "    <tr>\n",
       "      <th>1</th>\n",
       "      <td>2019-03-21 00:00:00</td>\n",
       "      <td>2019-03-26 00:00:00</td>\n",
       "      <td>62.0</td>\n",
       "    </tr>\n",
       "    <tr>\n",
       "      <th>2</th>\n",
       "      <td>2019-03-21 00:00:00</td>\n",
       "      <td>2019-03-26 00:00:00</td>\n",
       "      <td>44.0</td>\n",
       "    </tr>\n",
       "    <tr>\n",
       "      <th>3</th>\n",
       "      <td>2019-03-21 00:00:00</td>\n",
       "      <td>2019-03-26 00:00:00</td>\n",
       "      <td>78.0</td>\n",
       "    </tr>\n",
       "    <tr>\n",
       "      <th>4</th>\n",
       "      <td>2019-03-21 00:00:00</td>\n",
       "      <td>2019-03-26 00:00:00</td>\n",
       "      <td>80.0</td>\n",
       "    </tr>\n",
       "  </tbody>\n",
       "</table>\n",
       "</div>"
      ],
      "text/plain": [
       "               CheckIn             CheckOut  Price\n",
       "0  2019-03-21 00:00:00  2019-03-26 00:00:00  244.0\n",
       "1  2019-03-21 00:00:00  2019-03-26 00:00:00   62.0\n",
       "2  2019-03-21 00:00:00  2019-03-26 00:00:00   44.0\n",
       "3  2019-03-21 00:00:00  2019-03-26 00:00:00   78.0\n",
       "4  2019-03-21 00:00:00  2019-03-26 00:00:00   80.0"
      ]
     },
     "execution_count": 11,
     "metadata": {},
     "output_type": "execute_result"
    }
   ],
   "source": [
    "NewYorkPrice= NewYorkData[['CheckIn','CheckOut', 'Price']]\n",
    "NewYorkPrice.head()"
   ]
  },
  {
   "cell_type": "code",
   "execution_count": 12,
   "metadata": {},
   "outputs": [
    {
     "name": "stdout",
     "output_type": "stream",
     "text": [
      "<class 'numpy.float64'>\n"
     ]
    }
   ],
   "source": [
    "print(type(NewYorkPrice.Price[0]))"
   ]
  },
  {
   "cell_type": "code",
   "execution_count": 13,
   "metadata": {},
   "outputs": [],
   "source": [
    "\n",
    "AvgPrice_NY = pd.Series(data= NewYorkData.groupby('CheckIn')['Price'].mean())"
   ]
  },
  {
   "cell_type": "code",
   "execution_count": 14,
   "metadata": {},
   "outputs": [
    {
     "data": {
      "text/plain": [
       "CheckIn\n",
       "2019-03-07 00:00:00     87.670659\n",
       "2019-03-21 00:00:00    101.781690\n",
       "2019-04-04 00:00:00    109.337931\n",
       "2019-04-18 00:00:00     94.282051\n",
       "2019-05-02 00:00:00    106.909774\n",
       "2019-05-16 00:00:00    111.215190\n",
       "2019-05-30 00:00:00    143.550336\n",
       "2019-06-13 00:00:00    138.405594\n",
       "2019-06-27 00:00:00    134.006757\n",
       "2019-07-11 00:00:00    153.699346\n",
       "2019-07-25 00:00:00    156.875000\n",
       "2019-08-08 00:00:00    164.836735\n",
       "2019-08-22 00:00:00    164.993333\n",
       "2019-09-05 00:00:00    193.972414\n",
       "2019-09-19 00:00:00    191.218543\n",
       "2019-10-03 00:00:00    176.817073\n",
       "2019-10-17 00:00:00    180.322581\n",
       "2019-10-31 00:00:00    160.771812\n",
       "2019-11-14 00:00:00    197.701220\n",
       "2019-11-28 00:00:00    177.382166\n",
       "2019-12-12 00:00:00    184.743243\n",
       "2019-12-26 00:00:00    180.839161\n",
       "2020-01-09 00:00:00    211.150000\n",
       "2020-01-23 00:00:00    186.975000\n",
       "2020-02-06 00:00:00    185.060403\n",
       "2020-02-20 00:00:00    206.124224\n",
       "Name: Price, dtype: float64"
      ]
     },
     "execution_count": 14,
     "metadata": {},
     "output_type": "execute_result"
    }
   ],
   "source": [
    "AvgPrice_NY"
   ]
  },
  {
   "cell_type": "code",
   "execution_count": null,
   "metadata": {},
   "outputs": [],
   "source": []
  },
  {
   "cell_type": "code",
   "execution_count": 15,
   "metadata": {},
   "outputs": [],
   "source": [
    "#reate a data object\n",
    "price_data = go.Scatter(x=AvgPrice_NY.index,y=AvgPrice_NY.values)"
   ]
  },
  {
   "cell_type": "code",
   "execution_count": 16,
   "metadata": {},
   "outputs": [
    {
     "data": {
      "text/plain": [
       "Scatter({\n",
       "    'x': array(['2019-03-07 00:00:00', '2019-03-21 00:00:00', '2019-04-04 00:00:00',\n",
       "                '2019-04-18 00:00:00', '2019-05-02 00:00:00', '2019-05-16 00:00:00',\n",
       "                '2019-05-30 00:00:00', '2019-06-13 00:00:00', '2019-06-27 00:00:00',\n",
       "                '2019-07-11 00:00:00', '2019-07-25 00:00:00', '2019-08-08 00:00:00',\n",
       "                '2019-08-22 00:00:00', '2019-09-05 00:00:00', '2019-09-19 00:00:00',\n",
       "                '2019-10-03 00:00:00', '2019-10-17 00:00:00', '2019-10-31 00:00:00',\n",
       "                '2019-11-14 00:00:00', '2019-11-28 00:00:00', '2019-12-12 00:00:00',\n",
       "                '2019-12-26 00:00:00', '2020-01-09 00:00:00', '2020-01-23 00:00:00',\n",
       "                '2020-02-06 00:00:00', '2020-02-20 00:00:00'], dtype=object),\n",
       "    'y': array([ 87.67065868, 101.78169014, 109.33793103,  94.28205128, 106.90977444,\n",
       "                111.21518987, 143.55033557, 138.40559441, 134.00675676, 153.69934641,\n",
       "                156.875     , 164.83673469, 164.99333333, 193.97241379, 191.21854305,\n",
       "                176.81707317, 180.32258065, 160.77181208, 197.70121951, 177.38216561,\n",
       "                184.74324324, 180.83916084, 211.15      , 186.975     , 185.06040268,\n",
       "                206.1242236 ])\n",
       "})"
      ]
     },
     "execution_count": 16,
     "metadata": {},
     "output_type": "execute_result"
    }
   ],
   "source": [
    "price_data"
   ]
  },
  {
   "cell_type": "code",
   "execution_count": 17,
   "metadata": {},
   "outputs": [],
   "source": [
    "#set up the plot layout\n",
    "layout1 = go.Layout(title='NY_ Average Price Plot', xaxis=dict(title='CheckIn_Date'),yaxis=dict(title='Price'))"
   ]
  },
  {
   "cell_type": "code",
   "execution_count": 18,
   "metadata": {},
   "outputs": [],
   "source": [
    "# create a figure and display it\n",
    "fig1 = go.Figure(data=[price_data],layout=layout1)\n",
    "\n"
   ]
  },
  {
   "cell_type": "code",
   "execution_count": 19,
   "metadata": {},
   "outputs": [
    {
     "data": {
      "application/vnd.plotly.v1+json": {
       "config": {
        "linkText": "Export to plot.ly",
        "plotlyServerURL": "https://plot.ly",
        "showLink": false
       },
       "data": [
        {
         "type": "scatter",
         "uid": "b7a89f58-5cf3-4ea5-ada7-3a8f19f0454a",
         "x": [
          "2019-03-07 00:00:00",
          "2019-03-21 00:00:00",
          "2019-04-04 00:00:00",
          "2019-04-18 00:00:00",
          "2019-05-02 00:00:00",
          "2019-05-16 00:00:00",
          "2019-05-30 00:00:00",
          "2019-06-13 00:00:00",
          "2019-06-27 00:00:00",
          "2019-07-11 00:00:00",
          "2019-07-25 00:00:00",
          "2019-08-08 00:00:00",
          "2019-08-22 00:00:00",
          "2019-09-05 00:00:00",
          "2019-09-19 00:00:00",
          "2019-10-03 00:00:00",
          "2019-10-17 00:00:00",
          "2019-10-31 00:00:00",
          "2019-11-14 00:00:00",
          "2019-11-28 00:00:00",
          "2019-12-12 00:00:00",
          "2019-12-26 00:00:00",
          "2020-01-09 00:00:00",
          "2020-01-23 00:00:00",
          "2020-02-06 00:00:00",
          "2020-02-20 00:00:00"
         ],
         "y": [
          87.67065868263474,
          101.78169014084507,
          109.33793103448276,
          94.28205128205128,
          106.90977443609023,
          111.21518987341773,
          143.5503355704698,
          138.4055944055944,
          134.00675675675674,
          153.69934640522877,
          156.875,
          164.83673469387756,
          164.99333333333334,
          193.97241379310344,
          191.2185430463576,
          176.8170731707317,
          180.32258064516128,
          160.7718120805369,
          197.7012195121951,
          177.38216560509554,
          184.74324324324326,
          180.83916083916083,
          211.15,
          186.975,
          185.06040268456377,
          206.12422360248448
         ]
        }
       ],
       "layout": {
        "title": {
         "text": "NY_ Average Price Plot"
        },
        "xaxis": {
         "title": {
          "text": "CheckIn_Date"
         }
        },
        "yaxis": {
         "title": {
          "text": "Price"
         }
        }
       }
      },
      "text/html": [
       "<div id=\"355846e2-aed1-464f-9f6b-91ace085b3a5\" style=\"height: 525px; width: 100%;\" class=\"plotly-graph-div\"></div><script type=\"text/javascript\">require([\"plotly\"], function(Plotly) { window.PLOTLYENV=window.PLOTLYENV || {};window.PLOTLYENV.BASE_URL=\"https://plot.ly\";\n",
       "if (document.getElementById(\"355846e2-aed1-464f-9f6b-91ace085b3a5\")) {\n",
       "    Plotly.newPlot(\"355846e2-aed1-464f-9f6b-91ace085b3a5\", [{\"x\": [\"2019-03-07 00:00:00\", \"2019-03-21 00:00:00\", \"2019-04-04 00:00:00\", \"2019-04-18 00:00:00\", \"2019-05-02 00:00:00\", \"2019-05-16 00:00:00\", \"2019-05-30 00:00:00\", \"2019-06-13 00:00:00\", \"2019-06-27 00:00:00\", \"2019-07-11 00:00:00\", \"2019-07-25 00:00:00\", \"2019-08-08 00:00:00\", \"2019-08-22 00:00:00\", \"2019-09-05 00:00:00\", \"2019-09-19 00:00:00\", \"2019-10-03 00:00:00\", \"2019-10-17 00:00:00\", \"2019-10-31 00:00:00\", \"2019-11-14 00:00:00\", \"2019-11-28 00:00:00\", \"2019-12-12 00:00:00\", \"2019-12-26 00:00:00\", \"2020-01-09 00:00:00\", \"2020-01-23 00:00:00\", \"2020-02-06 00:00:00\", \"2020-02-20 00:00:00\"], \"y\": [87.67065868263474, 101.78169014084507, 109.33793103448276, 94.28205128205128, 106.90977443609023, 111.21518987341773, 143.5503355704698, 138.4055944055944, 134.00675675675674, 153.69934640522877, 156.875, 164.83673469387756, 164.99333333333334, 193.97241379310344, 191.2185430463576, 176.8170731707317, 180.32258064516128, 160.7718120805369, 197.7012195121951, 177.38216560509554, 184.74324324324326, 180.83916083916083, 211.15, 186.975, 185.06040268456377, 206.12422360248448], \"type\": \"scatter\", \"uid\": \"b7a89f58-5cf3-4ea5-ada7-3a8f19f0454a\"}], {\"title\": {\"text\": \"NY_ Average Price Plot\"}, \"xaxis\": {\"title\": {\"text\": \"CheckIn_Date\"}}, \"yaxis\": {\"title\": {\"text\": \"Price\"}}}, {\"showLink\": false, \"linkText\": \"Export to plot.ly\", \"plotlyServerURL\": \"https://plot.ly\"}); \n",
       "}\n",
       "});</script><script type=\"text/javascript\">window.addEventListener(\"resize\", function(){if (document.getElementById(\"355846e2-aed1-464f-9f6b-91ace085b3a5\")) {window._Plotly.Plots.resize(document.getElementById(\"355846e2-aed1-464f-9f6b-91ace085b3a5\"));};})</script>"
      ],
      "text/vnd.plotly.v1+html": [
       "<div id=\"355846e2-aed1-464f-9f6b-91ace085b3a5\" style=\"height: 525px; width: 100%;\" class=\"plotly-graph-div\"></div><script type=\"text/javascript\">require([\"plotly\"], function(Plotly) { window.PLOTLYENV=window.PLOTLYENV || {};window.PLOTLYENV.BASE_URL=\"https://plot.ly\";\n",
       "if (document.getElementById(\"355846e2-aed1-464f-9f6b-91ace085b3a5\")) {\n",
       "    Plotly.newPlot(\"355846e2-aed1-464f-9f6b-91ace085b3a5\", [{\"x\": [\"2019-03-07 00:00:00\", \"2019-03-21 00:00:00\", \"2019-04-04 00:00:00\", \"2019-04-18 00:00:00\", \"2019-05-02 00:00:00\", \"2019-05-16 00:00:00\", \"2019-05-30 00:00:00\", \"2019-06-13 00:00:00\", \"2019-06-27 00:00:00\", \"2019-07-11 00:00:00\", \"2019-07-25 00:00:00\", \"2019-08-08 00:00:00\", \"2019-08-22 00:00:00\", \"2019-09-05 00:00:00\", \"2019-09-19 00:00:00\", \"2019-10-03 00:00:00\", \"2019-10-17 00:00:00\", \"2019-10-31 00:00:00\", \"2019-11-14 00:00:00\", \"2019-11-28 00:00:00\", \"2019-12-12 00:00:00\", \"2019-12-26 00:00:00\", \"2020-01-09 00:00:00\", \"2020-01-23 00:00:00\", \"2020-02-06 00:00:00\", \"2020-02-20 00:00:00\"], \"y\": [87.67065868263474, 101.78169014084507, 109.33793103448276, 94.28205128205128, 106.90977443609023, 111.21518987341773, 143.5503355704698, 138.4055944055944, 134.00675675675674, 153.69934640522877, 156.875, 164.83673469387756, 164.99333333333334, 193.97241379310344, 191.2185430463576, 176.8170731707317, 180.32258064516128, 160.7718120805369, 197.7012195121951, 177.38216560509554, 184.74324324324326, 180.83916083916083, 211.15, 186.975, 185.06040268456377, 206.12422360248448], \"type\": \"scatter\", \"uid\": \"b7a89f58-5cf3-4ea5-ada7-3a8f19f0454a\"}], {\"title\": {\"text\": \"NY_ Average Price Plot\"}, \"xaxis\": {\"title\": {\"text\": \"CheckIn_Date\"}}, \"yaxis\": {\"title\": {\"text\": \"Price\"}}}, {\"showLink\": false, \"linkText\": \"Export to plot.ly\", \"plotlyServerURL\": \"https://plot.ly\"}); \n",
       "}\n",
       "});</script><script type=\"text/javascript\">window.addEventListener(\"resize\", function(){if (document.getElementById(\"355846e2-aed1-464f-9f6b-91ace085b3a5\")) {window._Plotly.Plots.resize(document.getElementById(\"355846e2-aed1-464f-9f6b-91ace085b3a5\"));};})</script>"
      ]
     },
     "metadata": {},
     "output_type": "display_data"
    }
   ],
   "source": [
    "#display the plot interactively\n",
    "iplot(fig1)"
   ]
  },
  {
   "cell_type": "markdown",
   "metadata": {},
   "source": [
    "# Bangkok"
   ]
  },
  {
   "cell_type": "code",
   "execution_count": 20,
   "metadata": {},
   "outputs": [
    {
     "data": {
      "text/html": [
       "<div>\n",
       "<style scoped>\n",
       "    .dataframe tbody tr th:only-of-type {\n",
       "        vertical-align: middle;\n",
       "    }\n",
       "\n",
       "    .dataframe tbody tr th {\n",
       "        vertical-align: top;\n",
       "    }\n",
       "\n",
       "    .dataframe thead th {\n",
       "        text-align: right;\n",
       "    }\n",
       "</style>\n",
       "<table border=\"1\" class=\"dataframe\">\n",
       "  <thead>\n",
       "    <tr style=\"text-align: right;\">\n",
       "      <th></th>\n",
       "      <th>CheckIn</th>\n",
       "      <th>CheckOut</th>\n",
       "      <th>Has_Weekend</th>\n",
       "      <th>Title</th>\n",
       "      <th>Price</th>\n",
       "      <th>Super_host</th>\n",
       "      <th>Latitude</th>\n",
       "      <th>Longitude</th>\n",
       "      <th>EntireHomeVsRoom</th>\n",
       "      <th>Bedrooms_no</th>\n",
       "      <th>...</th>\n",
       "      <th>Sleeping_engagment</th>\n",
       "      <th>Amenities</th>\n",
       "      <th>Accuracy_stars</th>\n",
       "      <th>Communication_stars</th>\n",
       "      <th>Cleanliness_stars</th>\n",
       "      <th>Location_stars</th>\n",
       "      <th>CheckIn_stars</th>\n",
       "      <th>Value_stars</th>\n",
       "      <th>Reviewers_no</th>\n",
       "      <th>Review</th>\n",
       "    </tr>\n",
       "  </thead>\n",
       "  <tbody>\n",
       "    <tr>\n",
       "      <th>0</th>\n",
       "      <td>2019-03-12 0:00</td>\n",
       "      <td>2019-03-17 0:00</td>\n",
       "      <td>True</td>\n",
       "      <td>Cosy room with 3 mins walk from MRT</td>\n",
       "      <td>$34</td>\n",
       "      <td>Thongjuta is a Superhost</td>\n",
       "      <td>13.78165</td>\n",
       "      <td>100.57453</td>\n",
       "      <td>ENTIRE APARTMENT</td>\n",
       "      <td>1 bedroom</td>\n",
       "      <td>...</td>\n",
       "      <td>Bedroom 1\\n1 queen bed</td>\n",
       "      <td>['Wifi', 'Iron', 'Cable TV', 'Laptop friendly ...</td>\n",
       "      <td>Rating 5 out of 5</td>\n",
       "      <td>Rating 5 out of 5</td>\n",
       "      <td>Rating 4.5 out of 5</td>\n",
       "      <td>Rating 5 out of 5</td>\n",
       "      <td>Rating 5 out of 5</td>\n",
       "      <td>Rating 5 out of 5</td>\n",
       "      <td>NaN</td>\n",
       "      <td>101 Reviews\\nAccuracy\\nCommunication\\nCleanlin...</td>\n",
       "    </tr>\n",
       "    <tr>\n",
       "      <th>1</th>\n",
       "      <td>2019-03-12 0:00</td>\n",
       "      <td>2019-03-17 0:00</td>\n",
       "      <td>True</td>\n",
       "      <td>曼谷市区BTS旁品质公寓</td>\n",
       "      <td>$48</td>\n",
       "      <td>NaN</td>\n",
       "      <td>13.69750</td>\n",
       "      <td>100.60708</td>\n",
       "      <td>ENTIRE APARTMENT</td>\n",
       "      <td>1 bedroom</td>\n",
       "      <td>...</td>\n",
       "      <td>Bedroom 1\\n1 double bed</td>\n",
       "      <td>['Wifi', 'Indoor fireplace', 'Heating', 'Iron'...</td>\n",
       "      <td>NaN</td>\n",
       "      <td>NaN</td>\n",
       "      <td>NaN</td>\n",
       "      <td>NaN</td>\n",
       "      <td>NaN</td>\n",
       "      <td>NaN</td>\n",
       "      <td>NaN</td>\n",
       "      <td>No reviews (yet)\\nBe one of the first guests t...</td>\n",
       "    </tr>\n",
       "    <tr>\n",
       "      <th>2</th>\n",
       "      <td>2019-03-12 0:00</td>\n",
       "      <td>2019-03-17 0:00</td>\n",
       "      <td>True</td>\n",
       "      <td>Modern apartment close to city near sky train(...</td>\n",
       "      <td>$27</td>\n",
       "      <td>Kiek is a Superhost</td>\n",
       "      <td>13.71252</td>\n",
       "      <td>100.46783</td>\n",
       "      <td>ENTIRE CONDOMINIUM</td>\n",
       "      <td>1 bedroom</td>\n",
       "      <td>...</td>\n",
       "      <td>Bedroom 1\\n1 queen bed</td>\n",
       "      <td>['Wifi', 'Heating', 'Laptop friendly workspace...</td>\n",
       "      <td>Rating 5 out of 5</td>\n",
       "      <td>Rating 5 out of 5</td>\n",
       "      <td>Rating 5 out of 5</td>\n",
       "      <td>Rating 4 out of 5</td>\n",
       "      <td>Rating 5 out of 5</td>\n",
       "      <td>Rating 4.5 out of 5</td>\n",
       "      <td>NaN</td>\n",
       "      <td>4 Reviews\\nAccuracy\\nCommunication\\nCleanlines...</td>\n",
       "    </tr>\n",
       "    <tr>\n",
       "      <th>3</th>\n",
       "      <td>2019-03-12 0:00</td>\n",
       "      <td>2019-03-17 0:00</td>\n",
       "      <td>True</td>\n",
       "      <td>Outstanding Location in Heart of Bangkok 2mins...</td>\n",
       "      <td>$35</td>\n",
       "      <td>NaN</td>\n",
       "      <td>13.72032</td>\n",
       "      <td>100.49623</td>\n",
       "      <td>ENTIRE CONDOMINIUM</td>\n",
       "      <td>1 bedroom</td>\n",
       "      <td>...</td>\n",
       "      <td>Bedroom 1\\n1 king bed</td>\n",
       "      <td>['Wifi', 'Iron', 'Cable TV', 'Laptop friendly ...</td>\n",
       "      <td>Rating 5 out of 5</td>\n",
       "      <td>Rating 5 out of 5</td>\n",
       "      <td>Rating 4.5 out of 5</td>\n",
       "      <td>Rating 5 out of 5</td>\n",
       "      <td>Rating 5 out of 5</td>\n",
       "      <td>Rating 5 out of 5</td>\n",
       "      <td>NaN</td>\n",
       "      <td>3 Reviews\\nAccuracy\\nCommunication\\nCleanlines...</td>\n",
       "    </tr>\n",
       "    <tr>\n",
       "      <th>4</th>\n",
       "      <td>2019-03-12 0:00</td>\n",
       "      <td>2019-03-17 0:00</td>\n",
       "      <td>True</td>\n",
       "      <td>5 Min walk MRT Phraram9, 1stop RodFai Train Ma...</td>\n",
       "      <td>$34</td>\n",
       "      <td>Patty is a Superhost</td>\n",
       "      <td>13.75738</td>\n",
       "      <td>100.56318</td>\n",
       "      <td>ENTIRE APARTMENT</td>\n",
       "      <td>NaN</td>\n",
       "      <td>...</td>\n",
       "      <td>Common spaces\\n2 queen beds, 1 floor mattress</td>\n",
       "      <td>['Wifi', 'Iron', 'Laptop friendly workspace', ...</td>\n",
       "      <td>NaN</td>\n",
       "      <td>NaN</td>\n",
       "      <td>NaN</td>\n",
       "      <td>NaN</td>\n",
       "      <td>NaN</td>\n",
       "      <td>NaN</td>\n",
       "      <td>NaN</td>\n",
       "      <td>No reviews (yet)\\nThis host has 1631 reviews f...</td>\n",
       "    </tr>\n",
       "  </tbody>\n",
       "</table>\n",
       "<p>5 rows × 22 columns</p>\n",
       "</div>"
      ],
      "text/plain": [
       "           CheckIn         CheckOut  Has_Weekend  \\\n",
       "0  2019-03-12 0:00  2019-03-17 0:00         True   \n",
       "1  2019-03-12 0:00  2019-03-17 0:00         True   \n",
       "2  2019-03-12 0:00  2019-03-17 0:00         True   \n",
       "3  2019-03-12 0:00  2019-03-17 0:00         True   \n",
       "4  2019-03-12 0:00  2019-03-17 0:00         True   \n",
       "\n",
       "                                               Title Price  \\\n",
       "0                Cosy room with 3 mins walk from MRT   $34   \n",
       "1                                       曼谷市区BTS旁品质公寓   $48   \n",
       "2  Modern apartment close to city near sky train(...   $27   \n",
       "3  Outstanding Location in Heart of Bangkok 2mins...   $35   \n",
       "4  5 Min walk MRT Phraram9, 1stop RodFai Train Ma...   $34   \n",
       "\n",
       "                 Super_host  Latitude  Longitude    EntireHomeVsRoom  \\\n",
       "0  Thongjuta is a Superhost  13.78165  100.57453    ENTIRE APARTMENT   \n",
       "1                       NaN  13.69750  100.60708    ENTIRE APARTMENT   \n",
       "2       Kiek is a Superhost  13.71252  100.46783  ENTIRE CONDOMINIUM   \n",
       "3                       NaN  13.72032  100.49623  ENTIRE CONDOMINIUM   \n",
       "4      Patty is a Superhost  13.75738  100.56318    ENTIRE APARTMENT   \n",
       "\n",
       "  Bedrooms_no                        ...                          \\\n",
       "0   1 bedroom                        ...                           \n",
       "1   1 bedroom                        ...                           \n",
       "2   1 bedroom                        ...                           \n",
       "3   1 bedroom                        ...                           \n",
       "4         NaN                        ...                           \n",
       "\n",
       "                              Sleeping_engagment  \\\n",
       "0                         Bedroom 1\\n1 queen bed   \n",
       "1                        Bedroom 1\\n1 double bed   \n",
       "2                         Bedroom 1\\n1 queen bed   \n",
       "3                          Bedroom 1\\n1 king bed   \n",
       "4  Common spaces\\n2 queen beds, 1 floor mattress   \n",
       "\n",
       "                                           Amenities     Accuracy_stars  \\\n",
       "0  ['Wifi', 'Iron', 'Cable TV', 'Laptop friendly ...  Rating 5 out of 5   \n",
       "1  ['Wifi', 'Indoor fireplace', 'Heating', 'Iron'...                NaN   \n",
       "2  ['Wifi', 'Heating', 'Laptop friendly workspace...  Rating 5 out of 5   \n",
       "3  ['Wifi', 'Iron', 'Cable TV', 'Laptop friendly ...  Rating 5 out of 5   \n",
       "4  ['Wifi', 'Iron', 'Laptop friendly workspace', ...                NaN   \n",
       "\n",
       "  Communication_stars    Cleanliness_stars     Location_stars  \\\n",
       "0   Rating 5 out of 5  Rating 4.5 out of 5  Rating 5 out of 5   \n",
       "1                 NaN                  NaN                NaN   \n",
       "2   Rating 5 out of 5    Rating 5 out of 5  Rating 4 out of 5   \n",
       "3   Rating 5 out of 5  Rating 4.5 out of 5  Rating 5 out of 5   \n",
       "4                 NaN                  NaN                NaN   \n",
       "\n",
       "       CheckIn_stars          Value_stars Reviewers_no  \\\n",
       "0  Rating 5 out of 5    Rating 5 out of 5          NaN   \n",
       "1                NaN                  NaN          NaN   \n",
       "2  Rating 5 out of 5  Rating 4.5 out of 5          NaN   \n",
       "3  Rating 5 out of 5    Rating 5 out of 5          NaN   \n",
       "4                NaN                  NaN          NaN   \n",
       "\n",
       "                                              Review  \n",
       "0  101 Reviews\\nAccuracy\\nCommunication\\nCleanlin...  \n",
       "1  No reviews (yet)\\nBe one of the first guests t...  \n",
       "2  4 Reviews\\nAccuracy\\nCommunication\\nCleanlines...  \n",
       "3  3 Reviews\\nAccuracy\\nCommunication\\nCleanlines...  \n",
       "4  No reviews (yet)\\nThis host has 1631 reviews f...  \n",
       "\n",
       "[5 rows x 22 columns]"
      ]
     },
     "execution_count": 20,
     "metadata": {},
     "output_type": "execute_result"
    }
   ],
   "source": [
    "BangkokData = pd.read_csv(Bangkok_CSV)\n",
    "BangkokData.head()"
   ]
  },
  {
   "cell_type": "code",
   "execution_count": 21,
   "metadata": {},
   "outputs": [
    {
     "data": {
      "text/plain": [
       "Index(['CheckIn', 'CheckOut', 'Has_Weekend', 'Title', 'Price', 'Super_host',\n",
       "       'Latitude', 'Longitude', 'EntireHomeVsRoom', 'Bedrooms_no', 'Beds_no',\n",
       "       'Bathrooms_num', 'Sleeping_engagment', 'Amenities', 'Accuracy_stars',\n",
       "       'Communication_stars', 'Cleanliness_stars', 'Location_stars',\n",
       "       'CheckIn_stars', 'Value_stars', 'Reviewers_no', 'Review'],\n",
       "      dtype='object')"
      ]
     },
     "execution_count": 21,
     "metadata": {},
     "output_type": "execute_result"
    }
   ],
   "source": [
    "BangkokData.columns"
   ]
  },
  {
   "cell_type": "code",
   "execution_count": 22,
   "metadata": {},
   "outputs": [],
   "source": [
    "BangkokData.drop(['Has_Weekend','Reviewers_no'],axis=1, inplace=True)"
   ]
  },
  {
   "cell_type": "code",
   "execution_count": 23,
   "metadata": {},
   "outputs": [],
   "source": [
    "BangkokData['Price'] = BangkokData.Price.str.replace('$','').astype(float)"
   ]
  },
  {
   "cell_type": "code",
   "execution_count": 24,
   "metadata": {},
   "outputs": [
    {
     "data": {
      "text/html": [
       "<div>\n",
       "<style scoped>\n",
       "    .dataframe tbody tr th:only-of-type {\n",
       "        vertical-align: middle;\n",
       "    }\n",
       "\n",
       "    .dataframe tbody tr th {\n",
       "        vertical-align: top;\n",
       "    }\n",
       "\n",
       "    .dataframe thead th {\n",
       "        text-align: right;\n",
       "    }\n",
       "</style>\n",
       "<table border=\"1\" class=\"dataframe\">\n",
       "  <thead>\n",
       "    <tr style=\"text-align: right;\">\n",
       "      <th></th>\n",
       "      <th>CheckIn</th>\n",
       "      <th>CheckOut</th>\n",
       "      <th>Price</th>\n",
       "    </tr>\n",
       "  </thead>\n",
       "  <tbody>\n",
       "    <tr>\n",
       "      <th>0</th>\n",
       "      <td>2019-03-12 0:00</td>\n",
       "      <td>2019-03-17 0:00</td>\n",
       "      <td>34.0</td>\n",
       "    </tr>\n",
       "    <tr>\n",
       "      <th>1</th>\n",
       "      <td>2019-03-12 0:00</td>\n",
       "      <td>2019-03-17 0:00</td>\n",
       "      <td>48.0</td>\n",
       "    </tr>\n",
       "    <tr>\n",
       "      <th>2</th>\n",
       "      <td>2019-03-12 0:00</td>\n",
       "      <td>2019-03-17 0:00</td>\n",
       "      <td>27.0</td>\n",
       "    </tr>\n",
       "    <tr>\n",
       "      <th>3</th>\n",
       "      <td>2019-03-12 0:00</td>\n",
       "      <td>2019-03-17 0:00</td>\n",
       "      <td>35.0</td>\n",
       "    </tr>\n",
       "    <tr>\n",
       "      <th>4</th>\n",
       "      <td>2019-03-12 0:00</td>\n",
       "      <td>2019-03-17 0:00</td>\n",
       "      <td>34.0</td>\n",
       "    </tr>\n",
       "  </tbody>\n",
       "</table>\n",
       "</div>"
      ],
      "text/plain": [
       "           CheckIn         CheckOut  Price\n",
       "0  2019-03-12 0:00  2019-03-17 0:00   34.0\n",
       "1  2019-03-12 0:00  2019-03-17 0:00   48.0\n",
       "2  2019-03-12 0:00  2019-03-17 0:00   27.0\n",
       "3  2019-03-12 0:00  2019-03-17 0:00   35.0\n",
       "4  2019-03-12 0:00  2019-03-17 0:00   34.0"
      ]
     },
     "execution_count": 24,
     "metadata": {},
     "output_type": "execute_result"
    }
   ],
   "source": [
    "BangkokPrice= BangkokData[['CheckIn','CheckOut', 'Price']]\n",
    "BangkokPrice.head()"
   ]
  },
  {
   "cell_type": "code",
   "execution_count": 25,
   "metadata": {},
   "outputs": [
    {
     "name": "stdout",
     "output_type": "stream",
     "text": [
      "<class 'numpy.float64'>\n"
     ]
    }
   ],
   "source": [
    "print(type(BangkokPrice.Price[0]))"
   ]
  },
  {
   "cell_type": "code",
   "execution_count": 26,
   "metadata": {},
   "outputs": [
    {
     "data": {
      "text/plain": [
       "CheckIn\n",
       "2019-03-12 0:00    42.583333\n",
       "2019-03-26 0:00    45.189655\n",
       "2019-04-09 0:00    47.530364\n",
       "2019-04-23 0:00    49.318937\n",
       "2019-05-07 0:00    52.146179\n",
       "2019-05-21 0:00    52.023256\n",
       "2019-06-04 0:00    51.149007\n",
       "2019-06-18 0:00    53.211921\n",
       "2019-07-02 0:00    55.560000\n",
       "2019-07-16 0:00    54.655629\n",
       "2019-07-30 0:00    54.623333\n",
       "2019-08-13 0:00    55.504310\n",
       "2019-08-27 0:00    58.299663\n",
       "2019-09-10 0:00    58.641196\n",
       "2019-09-24 0:00    60.361204\n",
       "2019-10-08 0:00    58.500000\n",
       "2019-10-22 0:00    62.610561\n",
       "2019-11-05 0:00    63.245033\n",
       "2019-11-19 0:00    64.033784\n",
       "2019-12-03 0:00    61.969900\n",
       "2019-12-17 0:00    59.062937\n",
       "2019-12-31 0:00    59.680851\n",
       "2020-01-14 0:00    63.746082\n",
       "2020-01-28 0:00    62.046823\n",
       "2020-02-11 0:00    63.733333\n",
       "2020-02-25 0:00    62.990000\n",
       "Name: Price, dtype: float64"
      ]
     },
     "execution_count": 26,
     "metadata": {},
     "output_type": "execute_result"
    }
   ],
   "source": [
    "AvgPrice_Bngkok = pd.Series(data= BangkokPrice.groupby('CheckIn')['Price'].mean())\n",
    "AvgPrice_Bngkok"
   ]
  },
  {
   "cell_type": "code",
   "execution_count": 27,
   "metadata": {},
   "outputs": [
    {
     "data": {
      "application/vnd.plotly.v1+json": {
       "config": {
        "linkText": "Export to plot.ly",
        "plotlyServerURL": "https://plot.ly",
        "showLink": false
       },
       "data": [
        {
         "type": "scatter",
         "uid": "b1325c6a-bfd3-4fa7-86bd-54d7a9db806f",
         "x": [
          "2019-03-12 0:00",
          "2019-03-26 0:00",
          "2019-04-09 0:00",
          "2019-04-23 0:00",
          "2019-05-07 0:00",
          "2019-05-21 0:00",
          "2019-06-04 0:00",
          "2019-06-18 0:00",
          "2019-07-02 0:00",
          "2019-07-16 0:00",
          "2019-07-30 0:00",
          "2019-08-13 0:00",
          "2019-08-27 0:00",
          "2019-09-10 0:00",
          "2019-09-24 0:00",
          "2019-10-08 0:00",
          "2019-10-22 0:00",
          "2019-11-05 0:00",
          "2019-11-19 0:00",
          "2019-12-03 0:00",
          "2019-12-17 0:00",
          "2019-12-31 0:00",
          "2020-01-14 0:00",
          "2020-01-28 0:00",
          "2020-02-11 0:00",
          "2020-02-25 0:00"
         ],
         "y": [
          42.583333333333336,
          45.189655172413794,
          47.530364372469634,
          49.31893687707641,
          52.14617940199336,
          52.02325581395349,
          51.14900662251656,
          53.211920529801326,
          55.56,
          54.65562913907285,
          54.623333333333335,
          55.50431034482759,
          58.2996632996633,
          58.64119601328904,
          60.36120401337793,
          58.5,
          62.61056105610561,
          63.24503311258278,
          64.03378378378379,
          61.96989966555184,
          59.06293706293706,
          59.680851063829785,
          63.7460815047022,
          62.046822742474916,
          63.733333333333334,
          62.99
         ]
        }
       ],
       "layout": {
        "title": {
         "text": "Bangkok_ Average Price Plot"
        },
        "xaxis": {
         "title": {
          "text": "CheckIn_Date"
         }
        },
        "yaxis": {
         "title": {
          "text": "Price"
         }
        }
       }
      },
      "text/html": [
       "<div id=\"5ab7765b-2ab2-4bf5-9921-27d6e14ae6ea\" style=\"height: 525px; width: 100%;\" class=\"plotly-graph-div\"></div><script type=\"text/javascript\">require([\"plotly\"], function(Plotly) { window.PLOTLYENV=window.PLOTLYENV || {};window.PLOTLYENV.BASE_URL=\"https://plot.ly\";\n",
       "if (document.getElementById(\"5ab7765b-2ab2-4bf5-9921-27d6e14ae6ea\")) {\n",
       "    Plotly.newPlot(\"5ab7765b-2ab2-4bf5-9921-27d6e14ae6ea\", [{\"x\": [\"2019-03-12 0:00\", \"2019-03-26 0:00\", \"2019-04-09 0:00\", \"2019-04-23 0:00\", \"2019-05-07 0:00\", \"2019-05-21 0:00\", \"2019-06-04 0:00\", \"2019-06-18 0:00\", \"2019-07-02 0:00\", \"2019-07-16 0:00\", \"2019-07-30 0:00\", \"2019-08-13 0:00\", \"2019-08-27 0:00\", \"2019-09-10 0:00\", \"2019-09-24 0:00\", \"2019-10-08 0:00\", \"2019-10-22 0:00\", \"2019-11-05 0:00\", \"2019-11-19 0:00\", \"2019-12-03 0:00\", \"2019-12-17 0:00\", \"2019-12-31 0:00\", \"2020-01-14 0:00\", \"2020-01-28 0:00\", \"2020-02-11 0:00\", \"2020-02-25 0:00\"], \"y\": [42.583333333333336, 45.189655172413794, 47.530364372469634, 49.31893687707641, 52.14617940199336, 52.02325581395349, 51.14900662251656, 53.211920529801326, 55.56, 54.65562913907285, 54.623333333333335, 55.50431034482759, 58.2996632996633, 58.64119601328904, 60.36120401337793, 58.5, 62.61056105610561, 63.24503311258278, 64.03378378378379, 61.96989966555184, 59.06293706293706, 59.680851063829785, 63.7460815047022, 62.046822742474916, 63.733333333333334, 62.99], \"type\": \"scatter\", \"uid\": \"b1325c6a-bfd3-4fa7-86bd-54d7a9db806f\"}], {\"title\": {\"text\": \"Bangkok_ Average Price Plot\"}, \"xaxis\": {\"title\": {\"text\": \"CheckIn_Date\"}}, \"yaxis\": {\"title\": {\"text\": \"Price\"}}}, {\"showLink\": false, \"linkText\": \"Export to plot.ly\", \"plotlyServerURL\": \"https://plot.ly\"}); \n",
       "}\n",
       "});</script><script type=\"text/javascript\">window.addEventListener(\"resize\", function(){if (document.getElementById(\"5ab7765b-2ab2-4bf5-9921-27d6e14ae6ea\")) {window._Plotly.Plots.resize(document.getElementById(\"5ab7765b-2ab2-4bf5-9921-27d6e14ae6ea\"));};})</script>"
      ],
      "text/vnd.plotly.v1+html": [
       "<div id=\"5ab7765b-2ab2-4bf5-9921-27d6e14ae6ea\" style=\"height: 525px; width: 100%;\" class=\"plotly-graph-div\"></div><script type=\"text/javascript\">require([\"plotly\"], function(Plotly) { window.PLOTLYENV=window.PLOTLYENV || {};window.PLOTLYENV.BASE_URL=\"https://plot.ly\";\n",
       "if (document.getElementById(\"5ab7765b-2ab2-4bf5-9921-27d6e14ae6ea\")) {\n",
       "    Plotly.newPlot(\"5ab7765b-2ab2-4bf5-9921-27d6e14ae6ea\", [{\"x\": [\"2019-03-12 0:00\", \"2019-03-26 0:00\", \"2019-04-09 0:00\", \"2019-04-23 0:00\", \"2019-05-07 0:00\", \"2019-05-21 0:00\", \"2019-06-04 0:00\", \"2019-06-18 0:00\", \"2019-07-02 0:00\", \"2019-07-16 0:00\", \"2019-07-30 0:00\", \"2019-08-13 0:00\", \"2019-08-27 0:00\", \"2019-09-10 0:00\", \"2019-09-24 0:00\", \"2019-10-08 0:00\", \"2019-10-22 0:00\", \"2019-11-05 0:00\", \"2019-11-19 0:00\", \"2019-12-03 0:00\", \"2019-12-17 0:00\", \"2019-12-31 0:00\", \"2020-01-14 0:00\", \"2020-01-28 0:00\", \"2020-02-11 0:00\", \"2020-02-25 0:00\"], \"y\": [42.583333333333336, 45.189655172413794, 47.530364372469634, 49.31893687707641, 52.14617940199336, 52.02325581395349, 51.14900662251656, 53.211920529801326, 55.56, 54.65562913907285, 54.623333333333335, 55.50431034482759, 58.2996632996633, 58.64119601328904, 60.36120401337793, 58.5, 62.61056105610561, 63.24503311258278, 64.03378378378379, 61.96989966555184, 59.06293706293706, 59.680851063829785, 63.7460815047022, 62.046822742474916, 63.733333333333334, 62.99], \"type\": \"scatter\", \"uid\": \"b1325c6a-bfd3-4fa7-86bd-54d7a9db806f\"}], {\"title\": {\"text\": \"Bangkok_ Average Price Plot\"}, \"xaxis\": {\"title\": {\"text\": \"CheckIn_Date\"}}, \"yaxis\": {\"title\": {\"text\": \"Price\"}}}, {\"showLink\": false, \"linkText\": \"Export to plot.ly\", \"plotlyServerURL\": \"https://plot.ly\"}); \n",
       "}\n",
       "});</script><script type=\"text/javascript\">window.addEventListener(\"resize\", function(){if (document.getElementById(\"5ab7765b-2ab2-4bf5-9921-27d6e14ae6ea\")) {window._Plotly.Plots.resize(document.getElementById(\"5ab7765b-2ab2-4bf5-9921-27d6e14ae6ea\"));};})</script>"
      ]
     },
     "metadata": {},
     "output_type": "display_data"
    }
   ],
   "source": [
    "#reate a data object\n",
    "price_data_Bngkok = go.Scatter(x=AvgPrice_Bngkok.index,y=AvgPrice_Bngkok.values)\n",
    "#set up the plot layout\n",
    "layout2 = go.Layout(title='Bangkok_ Average Price Plot', xaxis=dict(title='CheckIn_Date'),yaxis=dict(title='Price'))\n",
    "# create a figure and display it\n",
    "fig2 = go.Figure(data=[price_data_Bngkok],layout=layout2)\n",
    "#display the plot interactively\n",
    "iplot(fig2)\n"
   ]
  },
  {
   "cell_type": "markdown",
   "metadata": {},
   "source": [
    "# Cairo"
   ]
  },
  {
   "cell_type": "code",
   "execution_count": 28,
   "metadata": {},
   "outputs": [
    {
     "data": {
      "text/html": [
       "<div>\n",
       "<style scoped>\n",
       "    .dataframe tbody tr th:only-of-type {\n",
       "        vertical-align: middle;\n",
       "    }\n",
       "\n",
       "    .dataframe tbody tr th {\n",
       "        vertical-align: top;\n",
       "    }\n",
       "\n",
       "    .dataframe thead th {\n",
       "        text-align: right;\n",
       "    }\n",
       "</style>\n",
       "<table border=\"1\" class=\"dataframe\">\n",
       "  <thead>\n",
       "    <tr style=\"text-align: right;\">\n",
       "      <th></th>\n",
       "      <th>CheckIn</th>\n",
       "      <th>CheckOut</th>\n",
       "      <th>Has_Weekend</th>\n",
       "      <th>Title</th>\n",
       "      <th>Price</th>\n",
       "      <th>Super_host</th>\n",
       "      <th>Latitude</th>\n",
       "      <th>Longitude</th>\n",
       "      <th>EntireHomeVsRoom</th>\n",
       "      <th>Bedrooms_no</th>\n",
       "      <th>...</th>\n",
       "      <th>Sleeping_engagment</th>\n",
       "      <th>Amenities</th>\n",
       "      <th>Accuracy_stars</th>\n",
       "      <th>Communication_stars</th>\n",
       "      <th>Cleanliness_stars</th>\n",
       "      <th>Location_stars</th>\n",
       "      <th>CheckIn_stars</th>\n",
       "      <th>Value_stars</th>\n",
       "      <th>Reviewers_no</th>\n",
       "      <th>Review</th>\n",
       "    </tr>\n",
       "  </thead>\n",
       "  <tbody>\n",
       "    <tr>\n",
       "      <th>0</th>\n",
       "      <td>2019-03-14 0:00</td>\n",
       "      <td>2019-03-19 0:00</td>\n",
       "      <td>True</td>\n",
       "      <td>Dad Haus!x</td>\n",
       "      <td>$15</td>\n",
       "      <td>NaN</td>\n",
       "      <td>29.95961</td>\n",
       "      <td>31.25858</td>\n",
       "      <td>Private room in apartment</td>\n",
       "      <td>1 bedroom</td>\n",
       "      <td>...</td>\n",
       "      <td>Bedroom 1\\n2 queen beds</td>\n",
       "      <td>['Wifi', 'Indoor fireplace', 'Dryer', 'Laptop ...</td>\n",
       "      <td>NaN</td>\n",
       "      <td>NaN</td>\n",
       "      <td>NaN</td>\n",
       "      <td>NaN</td>\n",
       "      <td>NaN</td>\n",
       "      <td>NaN</td>\n",
       "      <td>NaN</td>\n",
       "      <td>No reviews (yet)\\nBe one of the first guests t...</td>\n",
       "    </tr>\n",
       "    <tr>\n",
       "      <th>1</th>\n",
       "      <td>2019-03-14 0:00</td>\n",
       "      <td>2019-03-19 0:00</td>\n",
       "      <td>True</td>\n",
       "      <td>Apartment in Rehab City, Cairo.</td>\n",
       "      <td>$12</td>\n",
       "      <td>NaN</td>\n",
       "      <td>30.05760</td>\n",
       "      <td>31.48779</td>\n",
       "      <td>Entire apartment</td>\n",
       "      <td>1 bedroom</td>\n",
       "      <td>...</td>\n",
       "      <td>Bedroom 1\\n1 queen bed</td>\n",
       "      <td>['Wifi', 'Laptop friendly workspace', 'Washer'...</td>\n",
       "      <td>NaN</td>\n",
       "      <td>NaN</td>\n",
       "      <td>NaN</td>\n",
       "      <td>NaN</td>\n",
       "      <td>NaN</td>\n",
       "      <td>NaN</td>\n",
       "      <td>NaN</td>\n",
       "      <td>No reviews (yet)\\nThis host has 11 reviews for...</td>\n",
       "    </tr>\n",
       "    <tr>\n",
       "      <th>2</th>\n",
       "      <td>2019-03-14 0:00</td>\n",
       "      <td>2019-03-19 0:00</td>\n",
       "      <td>True</td>\n",
       "      <td>Sunny and friendly apartment close to the airport</td>\n",
       "      <td>$22</td>\n",
       "      <td>NaN</td>\n",
       "      <td>30.06085</td>\n",
       "      <td>31.49540</td>\n",
       "      <td>Private room in apartment</td>\n",
       "      <td>1 bedroom</td>\n",
       "      <td>...</td>\n",
       "      <td>NaN</td>\n",
       "      <td>['Wifi', 'Indoor fireplace', 'Cable TV', 'Lapt...</td>\n",
       "      <td>Rating 4 out of 5</td>\n",
       "      <td>Rating 5 out of 5</td>\n",
       "      <td>Rating 3.5 out of 5</td>\n",
       "      <td>Rating 4.5 out of 5</td>\n",
       "      <td>Rating 5 out of 5</td>\n",
       "      <td>Rating 4 out of 5</td>\n",
       "      <td>NaN</td>\n",
       "      <td>6 Reviews\\nAccuracy\\nCommunication\\nCleanlines...</td>\n",
       "    </tr>\n",
       "    <tr>\n",
       "      <th>3</th>\n",
       "      <td>2019-03-14 0:00</td>\n",
       "      <td>2019-03-19 0:00</td>\n",
       "      <td>True</td>\n",
       "      <td>Cozy 2 persons budget room in luxurious/safe area</td>\n",
       "      <td>$19</td>\n",
       "      <td>NaN</td>\n",
       "      <td>30.06284</td>\n",
       "      <td>31.51743</td>\n",
       "      <td>Private room in condominium</td>\n",
       "      <td>1 bedroom</td>\n",
       "      <td>...</td>\n",
       "      <td>Bedroom 1\\n2 single beds</td>\n",
       "      <td>['Wifi', 'Laptop friendly workspace', 'Iron', ...</td>\n",
       "      <td>Rating 5 out of 5</td>\n",
       "      <td>Rating 5 out of 5</td>\n",
       "      <td>Rating 5 out of 5</td>\n",
       "      <td>Rating 5 out of 5</td>\n",
       "      <td>Rating 5 out of 5</td>\n",
       "      <td>Rating 5 out of 5</td>\n",
       "      <td>NaN</td>\n",
       "      <td>4 Reviews\\nAccuracy\\nCommunication\\nCleanlines...</td>\n",
       "    </tr>\n",
       "    <tr>\n",
       "      <th>4</th>\n",
       "      <td>2019-03-14 0:00</td>\n",
       "      <td>2019-03-19 0:00</td>\n",
       "      <td>True</td>\n",
       "      <td>Girls apartment - Sunny and calm apartment</td>\n",
       "      <td>$23</td>\n",
       "      <td>NaN</td>\n",
       "      <td>30.06263</td>\n",
       "      <td>31.48585</td>\n",
       "      <td>Private room in apartment</td>\n",
       "      <td>1 bedroom</td>\n",
       "      <td>...</td>\n",
       "      <td>Bedroom 1\\n1 queen bed</td>\n",
       "      <td>['Wifi', 'Cable TV', 'Laptop friendly workspac...</td>\n",
       "      <td>NaN</td>\n",
       "      <td>NaN</td>\n",
       "      <td>NaN</td>\n",
       "      <td>NaN</td>\n",
       "      <td>NaN</td>\n",
       "      <td>NaN</td>\n",
       "      <td>NaN</td>\n",
       "      <td>2 Reviews\\nAmelia\\nDecember 2018\\nThank you ve...</td>\n",
       "    </tr>\n",
       "  </tbody>\n",
       "</table>\n",
       "<p>5 rows × 22 columns</p>\n",
       "</div>"
      ],
      "text/plain": [
       "           CheckIn         CheckOut  Has_Weekend  \\\n",
       "0  2019-03-14 0:00  2019-03-19 0:00         True   \n",
       "1  2019-03-14 0:00  2019-03-19 0:00         True   \n",
       "2  2019-03-14 0:00  2019-03-19 0:00         True   \n",
       "3  2019-03-14 0:00  2019-03-19 0:00         True   \n",
       "4  2019-03-14 0:00  2019-03-19 0:00         True   \n",
       "\n",
       "                                               Title Price Super_host  \\\n",
       "0                                         Dad Haus!x   $15        NaN   \n",
       "1                    Apartment in Rehab City, Cairo.   $12        NaN   \n",
       "2  Sunny and friendly apartment close to the airport   $22        NaN   \n",
       "3  Cozy 2 persons budget room in luxurious/safe area   $19        NaN   \n",
       "4         Girls apartment - Sunny and calm apartment   $23        NaN   \n",
       "\n",
       "   Latitude  Longitude             EntireHomeVsRoom Bedrooms_no  \\\n",
       "0  29.95961   31.25858    Private room in apartment   1 bedroom   \n",
       "1  30.05760   31.48779             Entire apartment   1 bedroom   \n",
       "2  30.06085   31.49540    Private room in apartment   1 bedroom   \n",
       "3  30.06284   31.51743  Private room in condominium   1 bedroom   \n",
       "4  30.06263   31.48585    Private room in apartment   1 bedroom   \n",
       "\n",
       "                         ...                          \\\n",
       "0                        ...                           \n",
       "1                        ...                           \n",
       "2                        ...                           \n",
       "3                        ...                           \n",
       "4                        ...                           \n",
       "\n",
       "         Sleeping_engagment  \\\n",
       "0   Bedroom 1\\n2 queen beds   \n",
       "1    Bedroom 1\\n1 queen bed   \n",
       "2                       NaN   \n",
       "3  Bedroom 1\\n2 single beds   \n",
       "4    Bedroom 1\\n1 queen bed   \n",
       "\n",
       "                                           Amenities     Accuracy_stars  \\\n",
       "0  ['Wifi', 'Indoor fireplace', 'Dryer', 'Laptop ...                NaN   \n",
       "1  ['Wifi', 'Laptop friendly workspace', 'Washer'...                NaN   \n",
       "2  ['Wifi', 'Indoor fireplace', 'Cable TV', 'Lapt...  Rating 4 out of 5   \n",
       "3  ['Wifi', 'Laptop friendly workspace', 'Iron', ...  Rating 5 out of 5   \n",
       "4  ['Wifi', 'Cable TV', 'Laptop friendly workspac...                NaN   \n",
       "\n",
       "  Communication_stars    Cleanliness_stars       Location_stars  \\\n",
       "0                 NaN                  NaN                  NaN   \n",
       "1                 NaN                  NaN                  NaN   \n",
       "2   Rating 5 out of 5  Rating 3.5 out of 5  Rating 4.5 out of 5   \n",
       "3   Rating 5 out of 5    Rating 5 out of 5    Rating 5 out of 5   \n",
       "4                 NaN                  NaN                  NaN   \n",
       "\n",
       "       CheckIn_stars        Value_stars Reviewers_no  \\\n",
       "0                NaN                NaN          NaN   \n",
       "1                NaN                NaN          NaN   \n",
       "2  Rating 5 out of 5  Rating 4 out of 5          NaN   \n",
       "3  Rating 5 out of 5  Rating 5 out of 5          NaN   \n",
       "4                NaN                NaN          NaN   \n",
       "\n",
       "                                              Review  \n",
       "0  No reviews (yet)\\nBe one of the first guests t...  \n",
       "1  No reviews (yet)\\nThis host has 11 reviews for...  \n",
       "2  6 Reviews\\nAccuracy\\nCommunication\\nCleanlines...  \n",
       "3  4 Reviews\\nAccuracy\\nCommunication\\nCleanlines...  \n",
       "4  2 Reviews\\nAmelia\\nDecember 2018\\nThank you ve...  \n",
       "\n",
       "[5 rows x 22 columns]"
      ]
     },
     "execution_count": 28,
     "metadata": {},
     "output_type": "execute_result"
    }
   ],
   "source": [
    "CairoData = pd.read_csv(Cairo_CSV)\n",
    "CairoData.head()"
   ]
  },
  {
   "cell_type": "code",
   "execution_count": 29,
   "metadata": {},
   "outputs": [
    {
     "data": {
      "text/plain": [
       "Index(['CheckIn', 'CheckOut', 'Has_Weekend', 'Title', 'Price', 'Super_host',\n",
       "       'Latitude', 'Longitude', 'EntireHomeVsRoom', 'Bedrooms_no', 'Beds_no',\n",
       "       'Bathrooms_num', 'Sleeping_engagment', 'Amenities', 'Accuracy_stars',\n",
       "       'Communication_stars', 'Cleanliness_stars', 'Location_stars',\n",
       "       'CheckIn_stars', 'Value_stars', 'Reviewers_no', 'Review'],\n",
       "      dtype='object')"
      ]
     },
     "execution_count": 29,
     "metadata": {},
     "output_type": "execute_result"
    }
   ],
   "source": [
    "CairoData.columns\n"
   ]
  },
  {
   "cell_type": "code",
   "execution_count": 30,
   "metadata": {},
   "outputs": [],
   "source": [
    "CairoData.drop(['Has_Weekend','Reviewers_no'],axis=1, inplace=True)"
   ]
  },
  {
   "cell_type": "code",
   "execution_count": 31,
   "metadata": {},
   "outputs": [
    {
     "data": {
      "text/plain": [
       "Index(['CheckIn', 'CheckOut', 'Title', 'Price', 'Super_host', 'Latitude',\n",
       "       'Longitude', 'EntireHomeVsRoom', 'Bedrooms_no', 'Beds_no',\n",
       "       'Bathrooms_num', 'Sleeping_engagment', 'Amenities', 'Accuracy_stars',\n",
       "       'Communication_stars', 'Cleanliness_stars', 'Location_stars',\n",
       "       'CheckIn_stars', 'Value_stars', 'Review'],\n",
       "      dtype='object')"
      ]
     },
     "execution_count": 31,
     "metadata": {},
     "output_type": "execute_result"
    }
   ],
   "source": [
    "CairoData.columns"
   ]
  },
  {
   "cell_type": "code",
   "execution_count": 32,
   "metadata": {},
   "outputs": [],
   "source": [
    "CairoData['Price'] = CairoData.Price.str.replace('$','').astype(float)\n"
   ]
  },
  {
   "cell_type": "code",
   "execution_count": 33,
   "metadata": {},
   "outputs": [
    {
     "data": {
      "text/html": [
       "<div>\n",
       "<style scoped>\n",
       "    .dataframe tbody tr th:only-of-type {\n",
       "        vertical-align: middle;\n",
       "    }\n",
       "\n",
       "    .dataframe tbody tr th {\n",
       "        vertical-align: top;\n",
       "    }\n",
       "\n",
       "    .dataframe thead th {\n",
       "        text-align: right;\n",
       "    }\n",
       "</style>\n",
       "<table border=\"1\" class=\"dataframe\">\n",
       "  <thead>\n",
       "    <tr style=\"text-align: right;\">\n",
       "      <th></th>\n",
       "      <th>CheckIn</th>\n",
       "      <th>CheckOut</th>\n",
       "      <th>Price</th>\n",
       "    </tr>\n",
       "  </thead>\n",
       "  <tbody>\n",
       "    <tr>\n",
       "      <th>0</th>\n",
       "      <td>2019-03-14 0:00</td>\n",
       "      <td>2019-03-19 0:00</td>\n",
       "      <td>15.0</td>\n",
       "    </tr>\n",
       "    <tr>\n",
       "      <th>1</th>\n",
       "      <td>2019-03-14 0:00</td>\n",
       "      <td>2019-03-19 0:00</td>\n",
       "      <td>12.0</td>\n",
       "    </tr>\n",
       "    <tr>\n",
       "      <th>2</th>\n",
       "      <td>2019-03-14 0:00</td>\n",
       "      <td>2019-03-19 0:00</td>\n",
       "      <td>22.0</td>\n",
       "    </tr>\n",
       "    <tr>\n",
       "      <th>3</th>\n",
       "      <td>2019-03-14 0:00</td>\n",
       "      <td>2019-03-19 0:00</td>\n",
       "      <td>19.0</td>\n",
       "    </tr>\n",
       "    <tr>\n",
       "      <th>4</th>\n",
       "      <td>2019-03-14 0:00</td>\n",
       "      <td>2019-03-19 0:00</td>\n",
       "      <td>23.0</td>\n",
       "    </tr>\n",
       "  </tbody>\n",
       "</table>\n",
       "</div>"
      ],
      "text/plain": [
       "           CheckIn         CheckOut  Price\n",
       "0  2019-03-14 0:00  2019-03-19 0:00   15.0\n",
       "1  2019-03-14 0:00  2019-03-19 0:00   12.0\n",
       "2  2019-03-14 0:00  2019-03-19 0:00   22.0\n",
       "3  2019-03-14 0:00  2019-03-19 0:00   19.0\n",
       "4  2019-03-14 0:00  2019-03-19 0:00   23.0"
      ]
     },
     "execution_count": 33,
     "metadata": {},
     "output_type": "execute_result"
    }
   ],
   "source": [
    "CairoPrice= CairoData[['CheckIn','CheckOut', 'Price']]\n",
    "CairoPrice.head()"
   ]
  },
  {
   "cell_type": "code",
   "execution_count": 34,
   "metadata": {},
   "outputs": [
    {
     "data": {
      "text/plain": [
       "CheckIn\n",
       "2019-03-14 0:00    62.996310\n",
       "2019-03-28 0:00    39.832776\n",
       "2019-04-11 0:00    41.840678\n",
       "2019-04-25 0:00    42.090909\n",
       "2019-05-09 0:00    44.656566\n",
       "2019-05-23 0:00    44.429054\n",
       "2019-06-06 0:00    45.294314\n",
       "2019-06-20 0:00    48.340067\n",
       "2019-07-04 0:00    46.976109\n",
       "2019-07-18 0:00    48.453947\n",
       "2019-08-01 0:00    49.131757\n",
       "2019-08-15 0:00    51.296667\n",
       "2019-08-29 0:00    51.493151\n",
       "2019-09-12 0:00    62.506667\n",
       "2019-09-26 0:00    61.709459\n",
       "2019-10-10 0:00    62.976190\n",
       "2019-10-24 0:00    58.280000\n",
       "2019-11-07 0:00    62.986486\n",
       "2019-11-21 0:00    61.865772\n",
       "2019-12-05 0:00    61.703704\n",
       "2019-12-19 0:00    61.828283\n",
       "2020-01-02 0:00    65.503333\n",
       "2020-01-16 0:00    65.763333\n",
       "2020-01-30 0:00    66.547619\n",
       "2020-02-13 0:00    63.810631\n",
       "2020-02-27 0:00    63.641892\n",
       "Name: Price, dtype: float64"
      ]
     },
     "execution_count": 34,
     "metadata": {},
     "output_type": "execute_result"
    }
   ],
   "source": [
    "\n",
    "AvgPrice_Cairo = pd.Series(data= CairoPrice.groupby('CheckIn')['Price'].mean())\n",
    "AvgPrice_Cairo"
   ]
  },
  {
   "cell_type": "code",
   "execution_count": 35,
   "metadata": {},
   "outputs": [],
   "source": [
    "#reate a data object\n",
    "price_data_Cairo = go.Scatter(x=AvgPrice_Cairo.index,y=AvgPrice_Cairo.values)\n"
   ]
  },
  {
   "cell_type": "code",
   "execution_count": 36,
   "metadata": {},
   "outputs": [],
   "source": [
    "#set up the plot layout\n",
    "layout3 = go.Layout(title='Cairo_ Average Price Plot', xaxis=dict(title='CheckIn_Date'),yaxis=dict(title='Price'))\n",
    "\n"
   ]
  },
  {
   "cell_type": "code",
   "execution_count": 37,
   "metadata": {},
   "outputs": [],
   "source": [
    "# create a figure and display it\n",
    "fig3 = go.Figure(data=[price_data_Cairo],layout=layout3)\n"
   ]
  },
  {
   "cell_type": "code",
   "execution_count": 38,
   "metadata": {},
   "outputs": [
    {
     "data": {
      "application/vnd.plotly.v1+json": {
       "config": {
        "linkText": "Export to plot.ly",
        "plotlyServerURL": "https://plot.ly",
        "showLink": false
       },
       "data": [
        {
         "type": "scatter",
         "uid": "000bce02-c86c-40ea-b15a-658d50ac0793",
         "x": [
          "2019-03-14 0:00",
          "2019-03-28 0:00",
          "2019-04-11 0:00",
          "2019-04-25 0:00",
          "2019-05-09 0:00",
          "2019-05-23 0:00",
          "2019-06-06 0:00",
          "2019-06-20 0:00",
          "2019-07-04 0:00",
          "2019-07-18 0:00",
          "2019-08-01 0:00",
          "2019-08-15 0:00",
          "2019-08-29 0:00",
          "2019-09-12 0:00",
          "2019-09-26 0:00",
          "2019-10-10 0:00",
          "2019-10-24 0:00",
          "2019-11-07 0:00",
          "2019-11-21 0:00",
          "2019-12-05 0:00",
          "2019-12-19 0:00",
          "2020-01-02 0:00",
          "2020-01-16 0:00",
          "2020-01-30 0:00",
          "2020-02-13 0:00",
          "2020-02-27 0:00"
         ],
         "y": [
          62.996309963099634,
          39.83277591973244,
          41.840677966101694,
          42.09090909090909,
          44.656565656565654,
          44.429054054054056,
          45.2943143812709,
          48.34006734006734,
          46.97610921501707,
          48.453947368421055,
          49.13175675675676,
          51.29666666666667,
          51.49315068493151,
          62.50666666666667,
          61.70945945945946,
          62.976190476190474,
          58.28,
          62.986486486486484,
          61.86577181208054,
          61.7037037037037,
          61.82828282828283,
          65.50333333333333,
          65.76333333333334,
          66.54761904761905,
          63.81063122923588,
          63.641891891891895
         ]
        }
       ],
       "layout": {
        "title": {
         "text": "Cairo_ Average Price Plot"
        },
        "xaxis": {
         "title": {
          "text": "CheckIn_Date"
         }
        },
        "yaxis": {
         "title": {
          "text": "Price"
         }
        }
       }
      },
      "text/html": [
       "<div id=\"74a13c67-afcc-4169-ba1b-615bfdcd4725\" style=\"height: 525px; width: 100%;\" class=\"plotly-graph-div\"></div><script type=\"text/javascript\">require([\"plotly\"], function(Plotly) { window.PLOTLYENV=window.PLOTLYENV || {};window.PLOTLYENV.BASE_URL=\"https://plot.ly\";\n",
       "if (document.getElementById(\"74a13c67-afcc-4169-ba1b-615bfdcd4725\")) {\n",
       "    Plotly.newPlot(\"74a13c67-afcc-4169-ba1b-615bfdcd4725\", [{\"x\": [\"2019-03-14 0:00\", \"2019-03-28 0:00\", \"2019-04-11 0:00\", \"2019-04-25 0:00\", \"2019-05-09 0:00\", \"2019-05-23 0:00\", \"2019-06-06 0:00\", \"2019-06-20 0:00\", \"2019-07-04 0:00\", \"2019-07-18 0:00\", \"2019-08-01 0:00\", \"2019-08-15 0:00\", \"2019-08-29 0:00\", \"2019-09-12 0:00\", \"2019-09-26 0:00\", \"2019-10-10 0:00\", \"2019-10-24 0:00\", \"2019-11-07 0:00\", \"2019-11-21 0:00\", \"2019-12-05 0:00\", \"2019-12-19 0:00\", \"2020-01-02 0:00\", \"2020-01-16 0:00\", \"2020-01-30 0:00\", \"2020-02-13 0:00\", \"2020-02-27 0:00\"], \"y\": [62.996309963099634, 39.83277591973244, 41.840677966101694, 42.09090909090909, 44.656565656565654, 44.429054054054056, 45.2943143812709, 48.34006734006734, 46.97610921501707, 48.453947368421055, 49.13175675675676, 51.29666666666667, 51.49315068493151, 62.50666666666667, 61.70945945945946, 62.976190476190474, 58.28, 62.986486486486484, 61.86577181208054, 61.7037037037037, 61.82828282828283, 65.50333333333333, 65.76333333333334, 66.54761904761905, 63.81063122923588, 63.641891891891895], \"type\": \"scatter\", \"uid\": \"000bce02-c86c-40ea-b15a-658d50ac0793\"}], {\"title\": {\"text\": \"Cairo_ Average Price Plot\"}, \"xaxis\": {\"title\": {\"text\": \"CheckIn_Date\"}}, \"yaxis\": {\"title\": {\"text\": \"Price\"}}}, {\"showLink\": false, \"linkText\": \"Export to plot.ly\", \"plotlyServerURL\": \"https://plot.ly\"}); \n",
       "}\n",
       "});</script><script type=\"text/javascript\">window.addEventListener(\"resize\", function(){if (document.getElementById(\"74a13c67-afcc-4169-ba1b-615bfdcd4725\")) {window._Plotly.Plots.resize(document.getElementById(\"74a13c67-afcc-4169-ba1b-615bfdcd4725\"));};})</script>"
      ],
      "text/vnd.plotly.v1+html": [
       "<div id=\"74a13c67-afcc-4169-ba1b-615bfdcd4725\" style=\"height: 525px; width: 100%;\" class=\"plotly-graph-div\"></div><script type=\"text/javascript\">require([\"plotly\"], function(Plotly) { window.PLOTLYENV=window.PLOTLYENV || {};window.PLOTLYENV.BASE_URL=\"https://plot.ly\";\n",
       "if (document.getElementById(\"74a13c67-afcc-4169-ba1b-615bfdcd4725\")) {\n",
       "    Plotly.newPlot(\"74a13c67-afcc-4169-ba1b-615bfdcd4725\", [{\"x\": [\"2019-03-14 0:00\", \"2019-03-28 0:00\", \"2019-04-11 0:00\", \"2019-04-25 0:00\", \"2019-05-09 0:00\", \"2019-05-23 0:00\", \"2019-06-06 0:00\", \"2019-06-20 0:00\", \"2019-07-04 0:00\", \"2019-07-18 0:00\", \"2019-08-01 0:00\", \"2019-08-15 0:00\", \"2019-08-29 0:00\", \"2019-09-12 0:00\", \"2019-09-26 0:00\", \"2019-10-10 0:00\", \"2019-10-24 0:00\", \"2019-11-07 0:00\", \"2019-11-21 0:00\", \"2019-12-05 0:00\", \"2019-12-19 0:00\", \"2020-01-02 0:00\", \"2020-01-16 0:00\", \"2020-01-30 0:00\", \"2020-02-13 0:00\", \"2020-02-27 0:00\"], \"y\": [62.996309963099634, 39.83277591973244, 41.840677966101694, 42.09090909090909, 44.656565656565654, 44.429054054054056, 45.2943143812709, 48.34006734006734, 46.97610921501707, 48.453947368421055, 49.13175675675676, 51.29666666666667, 51.49315068493151, 62.50666666666667, 61.70945945945946, 62.976190476190474, 58.28, 62.986486486486484, 61.86577181208054, 61.7037037037037, 61.82828282828283, 65.50333333333333, 65.76333333333334, 66.54761904761905, 63.81063122923588, 63.641891891891895], \"type\": \"scatter\", \"uid\": \"000bce02-c86c-40ea-b15a-658d50ac0793\"}], {\"title\": {\"text\": \"Cairo_ Average Price Plot\"}, \"xaxis\": {\"title\": {\"text\": \"CheckIn_Date\"}}, \"yaxis\": {\"title\": {\"text\": \"Price\"}}}, {\"showLink\": false, \"linkText\": \"Export to plot.ly\", \"plotlyServerURL\": \"https://plot.ly\"}); \n",
       "}\n",
       "});</script><script type=\"text/javascript\">window.addEventListener(\"resize\", function(){if (document.getElementById(\"74a13c67-afcc-4169-ba1b-615bfdcd4725\")) {window._Plotly.Plots.resize(document.getElementById(\"74a13c67-afcc-4169-ba1b-615bfdcd4725\"));};})</script>"
      ]
     },
     "metadata": {},
     "output_type": "display_data"
    }
   ],
   "source": [
    "#display the plot interactively\n",
    "iplot(fig3)"
   ]
  },
  {
   "cell_type": "code",
   "execution_count": null,
   "metadata": {},
   "outputs": [],
   "source": []
  }
 ],
 "metadata": {
  "kernelspec": {
   "display_name": "Python 3",
   "language": "python",
   "name": "python3"
  },
  "language_info": {
   "codemirror_mode": {
    "name": "ipython",
    "version": 3
   },
   "file_extension": ".py",
   "mimetype": "text/x-python",
   "name": "python",
   "nbconvert_exporter": "python",
   "pygments_lexer": "ipython3",
   "version": "3.7.1"
  }
 },
 "nbformat": 4,
 "nbformat_minor": 2
}
